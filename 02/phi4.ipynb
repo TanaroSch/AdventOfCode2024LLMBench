{
 "cells": [
  {
   "cell_type": "markdown",
   "metadata": {},
   "source": [
    "# Day 02 - Phi-4"
   ]
  },
  {
   "cell_type": "code",
   "execution_count": 1,
   "metadata": {},
   "outputs": [
    {
     "name": "stdout",
     "output_type": "stream",
     "text": [
      "Number of safe reports: 564\n"
     ]
    }
   ],
   "source": [
    "def is_safe_report(levels):\n",
    "    if len(levels) < 2:\n",
    "        return True\n",
    "    \n",
    "    increasing = decreasing = True\n",
    "    \n",
    "    for i in range(len(levels) - 1):\n",
    "        diff = levels[i + 1] - levels[i]\n",
    "        \n",
    "        # Check if the difference is within the allowed range\n",
    "        if abs(diff) < 1 or abs(diff) > 3:\n",
    "            return False\n",
    "        \n",
    "        # Determine if the sequence is increasing or decreasing\n",
    "        if diff > 0:\n",
    "            decreasing = False\n",
    "        elif diff < 0:\n",
    "            increasing = False\n",
    "    \n",
    "    # The report is safe if it's either all increasing or all decreasing\n",
    "    return increasing or decreasing\n",
    "\n",
    "def count_safe_reports(filename):\n",
    "    with open(filename, 'r') as file:\n",
    "        reports = [list(map(int, line.strip().split())) for line in file]\n",
    "    \n",
    "    safe_count = sum(is_safe_report(report) for report in reports)\n",
    "    \n",
    "    return safe_count\n",
    "\n",
    "# Assuming the input is stored in 'input.txt'\n",
    "safe_reports = count_safe_reports('input.txt')\n",
    "print(f\"Number of safe reports: {safe_reports}\")"
   ]
  },
  {
   "cell_type": "markdown",
   "metadata": {},
   "source": [
    "## Part 2"
   ]
  },
  {
   "cell_type": "code",
   "execution_count": 2,
   "metadata": {},
   "outputs": [
    {
     "name": "stdout",
     "output_type": "stream",
     "text": [
      "Number of safe reports with Problem Dampener: 604\n"
     ]
    }
   ],
   "source": [
    "def is_safe_report(levels):\n",
    "    if len(levels) < 2:\n",
    "        return True\n",
    "    \n",
    "    increasing = decreasing = True\n",
    "    \n",
    "    for i in range(len(levels) - 1):\n",
    "        diff = levels[i + 1] - levels[i]\n",
    "        \n",
    "        # Check if the difference is within the allowed range\n",
    "        if abs(diff) < 1 or abs(diff) > 3:\n",
    "            return False\n",
    "        \n",
    "        # Determine if the sequence is increasing or decreasing\n",
    "        if diff > 0:\n",
    "            decreasing = False\n",
    "        elif diff < 0:\n",
    "            increasing = False\n",
    "    \n",
    "    # The report is safe if it's either all increasing or all decreasing\n",
    "    return increasing or decreasing\n",
    "\n",
    "def can_become_safe_with_dampener(levels):\n",
    "    for i in range(len(levels)):\n",
    "        new_levels = levels[:i] + levels[i+1:]\n",
    "        if is_safe_report(new_levels):\n",
    "            return True\n",
    "    return False\n",
    "\n",
    "def count_safe_reports(filename):\n",
    "    with open(filename, 'r') as file:\n",
    "        reports = [list(map(int, line.strip().split())) for line in file]\n",
    "    \n",
    "    safe_count = 0\n",
    "    \n",
    "    for report in reports:\n",
    "        if is_safe_report(report) or can_become_safe_with_dampener(report):\n",
    "            safe_count += 1\n",
    "    \n",
    "    return safe_count\n",
    "\n",
    "# Assuming the input is stored in 'input.txt'\n",
    "safe_reports = count_safe_reports('input.txt')\n",
    "print(f\"Number of safe reports with Problem Dampener: {safe_reports}\")"
   ]
  }
 ],
 "metadata": {
  "kernelspec": {
   "display_name": "AdventOfCode",
   "language": "python",
   "name": "python3"
  },
  "language_info": {
   "codemirror_mode": {
    "name": "ipython",
    "version": 3
   },
   "file_extension": ".py",
   "mimetype": "text/x-python",
   "name": "python",
   "nbconvert_exporter": "python",
   "pygments_lexer": "ipython3",
   "version": "3.10.15"
  }
 },
 "nbformat": 4,
 "nbformat_minor": 2
}
