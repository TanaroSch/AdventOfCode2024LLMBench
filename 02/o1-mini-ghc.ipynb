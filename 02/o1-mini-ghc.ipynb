{
 "cells": [
  {
   "cell_type": "markdown",
   "metadata": {},
   "source": [
    "# Day 2 - o1-mini (GHC)"
   ]
  },
  {
   "cell_type": "code",
   "execution_count": 1,
   "metadata": {},
   "outputs": [
    {
     "name": "stdout",
     "output_type": "stream",
     "text": [
      "564\n"
     ]
    }
   ],
   "source": [
    "def is_safe(report):\n",
    "    differences = []\n",
    "    for i in range(1, len(report)):\n",
    "        diff = report[i] - report[i-1]\n",
    "        if abs(diff) < 1 or abs(diff) > 3:\n",
    "            return False\n",
    "        differences.append(diff)\n",
    "    \n",
    "    if all(d > 0 for d in differences) or all(d < 0 for d in differences):\n",
    "        return True\n",
    "    return False\n",
    "\n",
    "safe_count = 0\n",
    "with open('input.txt', 'r') as file:\n",
    "    for line in file:\n",
    "        report = list(map(int, line.strip().split()))\n",
    "        if is_safe(report):\n",
    "            safe_count += 1\n",
    "\n",
    "print(safe_count)"
   ]
  },
  {
   "cell_type": "markdown",
   "metadata": {},
   "source": [
    "## Part 2"
   ]
  },
  {
   "cell_type": "code",
   "execution_count": 2,
   "metadata": {},
   "outputs": [
    {
     "name": "stdout",
     "output_type": "stream",
     "text": [
      "604\n"
     ]
    }
   ],
   "source": [
    "def is_safe(report):\n",
    "    differences = []\n",
    "    for i in range(1, len(report)):\n",
    "        diff = report[i] - report[i-1]\n",
    "        if abs(diff) < 1 or abs(diff) > 3:\n",
    "            return False\n",
    "        differences.append(diff)\n",
    "    \n",
    "    return all(d > 0 for d in differences) or all(d < 0 for d in differences)\n",
    "\n",
    "def count_safe_reports(filename):\n",
    "    safe_count = 0\n",
    "    with open(filename, 'r') as file:\n",
    "        for line in file:\n",
    "            report = list(map(int, line.strip().split()))\n",
    "            if is_safe(report):\n",
    "                safe_count += 1\n",
    "                continue\n",
    "            # Try removing each level and check safety\n",
    "            for i in range(len(report)):\n",
    "                modified = report[:i] + report[i+1:]\n",
    "                if is_safe(modified):\n",
    "                    safe_count += 1\n",
    "                    break\n",
    "    return safe_count\n",
    "\n",
    "print(count_safe_reports('input.txt'))"
   ]
  }
 ],
 "metadata": {
  "kernelspec": {
   "display_name": "AdventOfCode",
   "language": "python",
   "name": "python3"
  },
  "language_info": {
   "codemirror_mode": {
    "name": "ipython",
    "version": 3
   },
   "file_extension": ".py",
   "mimetype": "text/x-python",
   "name": "python",
   "nbconvert_exporter": "python",
   "pygments_lexer": "ipython3",
   "version": "3.10.15"
  }
 },
 "nbformat": 4,
 "nbformat_minor": 2
}
