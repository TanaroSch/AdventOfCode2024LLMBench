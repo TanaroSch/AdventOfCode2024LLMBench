{
 "cells": [
  {
   "cell_type": "markdown",
   "metadata": {},
   "source": [
    "# Day 2 - Qwen2.5 72b"
   ]
  },
  {
   "cell_type": "code",
   "execution_count": 1,
   "metadata": {},
   "outputs": [
    {
     "name": "stdout",
     "output_type": "stream",
     "text": [
      "Number of safe reports: 564\n"
     ]
    }
   ],
   "source": [
    "def is_safe_report(levels):\n",
    "    # Check if the levels are all increasing or all decreasing\n",
    "    is_increasing = all(x < y for x, y in zip(levels, levels[1:]))\n",
    "    is_decreasing = all(x > y for x, y in zip(levels, levels[1:]))\n",
    "    \n",
    "    if not (is_increasing or is_decreasing):\n",
    "        return False\n",
    "    \n",
    "    # Check the difference between adjacent levels\n",
    "    for i in range(len(levels) - 1):\n",
    "        if not (1 <= abs(levels[i] - levels[i + 1]) <= 3):\n",
    "            return False\n",
    "    \n",
    "    return True\n",
    "\n",
    "def count_safe_reports(filename):\n",
    "    safe_count = 0\n",
    "    with open(filename, 'r') as file:\n",
    "        for line in file:\n",
    "            levels = list(map(int, line.strip().split()))\n",
    "            if is_safe_report(levels):\n",
    "                safe_count += 1\n",
    "    return safe_count\n",
    "\n",
    "# Example usage\n",
    "filename = 'input.txt'\n",
    "safe_reports = count_safe_reports(filename)\n",
    "print(f\"Number of safe reports: {safe_reports}\")"
   ]
  },
  {
   "cell_type": "markdown",
   "metadata": {},
   "source": [
    "## Part 2"
   ]
  },
  {
   "cell_type": "code",
   "execution_count": 3,
   "metadata": {},
   "outputs": [
    {
     "name": "stdout",
     "output_type": "stream",
     "text": [
      "Number of safe reports: 604\n"
     ]
    }
   ],
   "source": [
    "def is_safe_report(levels):\n",
    "    # Check if the levels are all increasing or all decreasing\n",
    "    is_increasing = all(x < y for x, y in zip(levels, levels[1:]))\n",
    "    is_decreasing = all(x > y for x, y in zip(levels, levels[1:]))\n",
    "    \n",
    "    if not (is_increasing or is_decreasing):\n",
    "        return False\n",
    "    \n",
    "    # Check the difference between adjacent levels\n",
    "    for i in range(len(levels) - 1):\n",
    "        if not (1 <= abs(levels[i] - levels[i + 1]) <= 3):\n",
    "            return False\n",
    "    \n",
    "    return True\n",
    "\n",
    "def can_become_safe_by_removing_one_level(levels):\n",
    "    for i in range(len(levels)):\n",
    "        # Create a new list with the i-th level removed\n",
    "        new_levels = levels[:i] + levels[i + 1:]\n",
    "        if is_safe_report(new_levels):\n",
    "            return True\n",
    "    return False\n",
    "\n",
    "def count_safe_reports(filename):\n",
    "    safe_count = 0\n",
    "    with open(filename, 'r') as file:\n",
    "        for line in file:\n",
    "            levels = list(map(int, line.strip().split()))\n",
    "            if is_safe_report(levels) or can_become_safe_by_removing_one_level(levels):\n",
    "                safe_count += 1\n",
    "    return safe_count\n",
    "\n",
    "# Example usage\n",
    "filename = 'input.txt'\n",
    "safe_reports = count_safe_reports(filename)\n",
    "print(f\"Number of safe reports: {safe_reports}\")"
   ]
  }
 ],
 "metadata": {
  "kernelspec": {
   "display_name": "AdventOfCode",
   "language": "python",
   "name": "python3"
  },
  "language_info": {
   "codemirror_mode": {
    "name": "ipython",
    "version": 3
   },
   "file_extension": ".py",
   "mimetype": "text/x-python",
   "name": "python",
   "nbconvert_exporter": "python",
   "pygments_lexer": "ipython3",
   "version": "3.10.15"
  }
 },
 "nbformat": 4,
 "nbformat_minor": 2
}
