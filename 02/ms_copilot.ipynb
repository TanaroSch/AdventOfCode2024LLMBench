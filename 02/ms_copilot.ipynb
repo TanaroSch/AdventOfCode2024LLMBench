{
 "cells": [
  {
   "cell_type": "markdown",
   "metadata": {},
   "source": [
    "# Day 2 - MS Copilot"
   ]
  },
  {
   "cell_type": "code",
   "execution_count": 1,
   "metadata": {},
   "outputs": [
    {
     "name": "stdout",
     "output_type": "stream",
     "text": [
      "The number of safe reports is: 564\n"
     ]
    }
   ],
   "source": [
    "def is_safe(report):\n",
    "    levels = list(map(int, report.split()))\n",
    "    increasing = all(1 <= levels[i+1] - levels[i] <= 3 for i in range(len(levels) - 1))\n",
    "    decreasing = all(1 <= levels[i] - levels[i+1] <= 3 for i in range(len(levels) - 1))\n",
    "    return increasing or decreasing\n",
    "\n",
    "# Read the input file\n",
    "with open('input.txt', 'r') as file:\n",
    "    reports = file.readlines()\n",
    "\n",
    "# Count the number of safe reports\n",
    "safe_reports_count = sum(is_safe(report) for report in reports)\n",
    "\n",
    "print(f\"The number of safe reports is: {safe_reports_count}\")"
   ]
  },
  {
   "cell_type": "markdown",
   "metadata": {},
   "source": [
    "## Part 2"
   ]
  },
  {
   "cell_type": "code",
   "execution_count": 2,
   "metadata": {},
   "outputs": [
    {
     "name": "stdout",
     "output_type": "stream",
     "text": [
      "The number of safe reports is: 604\n"
     ]
    }
   ],
   "source": [
    "def is_safe(report):\n",
    "    levels = list(map(int, report.split()))\n",
    "    increasing = all(1 <= levels[i+1] - levels[i] <= 3 for i in range(len(levels) - 1))\n",
    "    decreasing = all(1 <= levels[i] - levels[i+1] <= 3 for i in range(len(levels) - 1))\n",
    "    return increasing or decreasing\n",
    "\n",
    "def is_safe_with_dampener(report):\n",
    "    levels = list(map(int, report.split()))\n",
    "    for i in range(len(levels)):\n",
    "        modified_levels = levels[:i] + levels[i+1:]\n",
    "        if is_safe(' '.join(map(str, modified_levels))):\n",
    "            return True\n",
    "    return False\n",
    "\n",
    "# Read the input file\n",
    "with open('input.txt', 'r') as file:\n",
    "    reports = file.readlines()\n",
    "\n",
    "# Count the number of safe reports\n",
    "safe_reports_count = sum(is_safe(report) or is_safe_with_dampener(report) for report in reports)\n",
    "\n",
    "print(f\"The number of safe reports is: {safe_reports_count}\")"
   ]
  }
 ],
 "metadata": {
  "kernelspec": {
   "display_name": "Python 3",
   "language": "python",
   "name": "python3"
  },
  "language_info": {
   "codemirror_mode": {
    "name": "ipython",
    "version": 3
   },
   "file_extension": ".py",
   "mimetype": "text/x-python",
   "name": "python",
   "nbconvert_exporter": "python",
   "pygments_lexer": "ipython3",
   "version": "3.11.6"
  }
 },
 "nbformat": 4,
 "nbformat_minor": 2
}
