{
 "cells": [
  {
   "cell_type": "markdown",
   "metadata": {},
   "source": [
    "# Day 02 - Llama 3.3 70B"
   ]
  },
  {
   "cell_type": "code",
   "execution_count": 1,
   "metadata": {},
   "outputs": [
    {
     "name": "stdout",
     "output_type": "stream",
     "text": [
      "The number of safe reports is: 564\n"
     ]
    }
   ],
   "source": [
    "def is_safe(report):\n",
    "    \"\"\"\n",
    "    Checks if a report is safe.\n",
    "    \n",
    "    A report is safe if:\n",
    "    1. The levels are either all increasing or all decreasing.\n",
    "    2. Any two adjacent levels differ by at least one and at most three.\n",
    "    \n",
    "    Args:\n",
    "    report (list): A list of numbers representing the levels in a report.\n",
    "    \n",
    "    Returns:\n",
    "    bool: True if the report is safe, False otherwise.\n",
    "    \"\"\"\n",
    "    # Check if the report is increasing or decreasing\n",
    "    increasing = all(report[i] < report[i + 1] for i in range(len(report) - 1))\n",
    "    decreasing = all(report[i] > report[i + 1] for i in range(len(report) - 1))\n",
    "    \n",
    "    # If the report is neither increasing nor decreasing, it's not safe\n",
    "    if not increasing and not decreasing:\n",
    "        return False\n",
    "    \n",
    "    # Check if the difference between adjacent levels is within the allowed range\n",
    "    return all(1 <= abs(report[i] - report[i + 1]) <= 3 for i in range(len(report) - 1))\n",
    "\n",
    "def count_safe_reports(reports):\n",
    "    \"\"\"\n",
    "    Counts the number of safe reports.\n",
    "    \n",
    "    Args:\n",
    "    reports (list): A list of lists, where each sublist represents a report.\n",
    "    \n",
    "    Returns:\n",
    "    int: The number of safe reports.\n",
    "    \"\"\"\n",
    "    return sum(1 for report in reports if is_safe(report))\n",
    "\n",
    "def main():\n",
    "    # Read the reports from the input file\n",
    "    with open('input.txt', 'r') as f:\n",
    "        reports = [list(map(int, line.split())) for line in f.readlines()]\n",
    "    \n",
    "    # Count the number of safe reports\n",
    "    safe_count = count_safe_reports(reports)\n",
    "    \n",
    "    print(f\"The number of safe reports is: {safe_count}\")\n",
    "\n",
    "if __name__ == \"__main__\":\n",
    "    main()"
   ]
  },
  {
   "cell_type": "markdown",
   "metadata": {},
   "source": [
    "## Part 2"
   ]
  },
  {
   "cell_type": "code",
   "execution_count": 2,
   "metadata": {},
   "outputs": [
    {
     "name": "stdout",
     "output_type": "stream",
     "text": [
      "The number of safe reports with the Problem Dampener is: 604\n"
     ]
    }
   ],
   "source": [
    "def is_safe(report):\n",
    "    \"\"\"\n",
    "    Checks if a report is safe.\n",
    "    \n",
    "    A report is safe if:\n",
    "    1. The levels are either all increasing or all decreasing.\n",
    "    2. Any two adjacent levels differ by at least one and at most three.\n",
    "    \n",
    "    Args:\n",
    "    report (list): A list of numbers representing the levels in a report.\n",
    "    \n",
    "    Returns:\n",
    "    bool: True if the report is safe, False otherwise.\n",
    "    \"\"\"\n",
    "    # Check if the report is increasing or decreasing\n",
    "    increasing = all(report[i] < report[i + 1] for i in range(len(report) - 1))\n",
    "    decreasing = all(report[i] > report[i + 1] for i in range(len(report) - 1))\n",
    "    \n",
    "    # If the report is neither increasing nor decreasing, it's not safe\n",
    "    if not increasing and not decreasing:\n",
    "        return False\n",
    "    \n",
    "    # Check if the difference between adjacent levels is within the allowed range\n",
    "    return all(1 <= abs(report[i] - report[i + 1]) <= 3 for i in range(len(report) - 1))\n",
    "\n",
    "def is_safe_with_dampener(report):\n",
    "    \"\"\"\n",
    "    Checks if a report is safe with the Problem Dampener.\n",
    "    \n",
    "    A report is safe with the Problem Dampener if removing a single level would make it safe.\n",
    "    \n",
    "    Args:\n",
    "    report (list): A list of numbers representing the levels in a report.\n",
    "    \n",
    "    Returns:\n",
    "    bool: True if the report is safe with the Problem Dampener, False otherwise.\n",
    "    \"\"\"\n",
    "    # Check all possible reports with one level removed\n",
    "    for i in range(len(report)):\n",
    "        new_report = report[:i] + report[i + 1:]\n",
    "        if is_safe(new_report):\n",
    "            return True\n",
    "    \n",
    "    return False\n",
    "\n",
    "def count_safe_reports(reports):\n",
    "    \"\"\"\n",
    "    Counts the number of safe reports.\n",
    "    \n",
    "    Args:\n",
    "    reports (list): A list of lists, where each sublist represents a report.\n",
    "    \n",
    "    Returns:\n",
    "    int: The number of safe reports.\n",
    "    \"\"\"\n",
    "    return sum(1 for report in reports if is_safe(report) or is_safe_with_dampener(report))\n",
    "\n",
    "def main():\n",
    "    # Read the reports from the input file\n",
    "    with open('input.txt', 'r') as f:\n",
    "        reports = [list(map(int, line.split())) for line in f.readlines()]\n",
    "    \n",
    "    # Count the number of safe reports\n",
    "    safe_count = count_safe_reports(reports)\n",
    "    \n",
    "    print(f\"The number of safe reports with the Problem Dampener is: {safe_count}\")\n",
    "\n",
    "if __name__ == \"__main__\":\n",
    "    main()"
   ]
  }
 ],
 "metadata": {
  "kernelspec": {
   "display_name": "AdventOfCode",
   "language": "python",
   "name": "python3"
  },
  "language_info": {
   "codemirror_mode": {
    "name": "ipython",
    "version": 3
   },
   "file_extension": ".py",
   "mimetype": "text/x-python",
   "name": "python",
   "nbconvert_exporter": "python",
   "pygments_lexer": "ipython3",
   "version": "3.10.15"
  }
 },
 "nbformat": 4,
 "nbformat_minor": 2
}
