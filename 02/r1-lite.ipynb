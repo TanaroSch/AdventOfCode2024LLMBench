{
 "cells": [
  {
   "cell_type": "markdown",
   "metadata": {},
   "source": [
    "# Day 2 - Deepseek R1 Lite"
   ]
  },
  {
   "cell_type": "code",
   "execution_count": 1,
   "metadata": {},
   "outputs": [
    {
     "name": "stdout",
     "output_type": "stream",
     "text": [
      "564\n"
     ]
    }
   ],
   "source": [
    "def is_safe(levels):\n",
    "    if len(levels) == 1:\n",
    "        return True\n",
    "    differences = [levels[i+1] - levels[i] for i in range(len(levels)-1)]\n",
    "    if all(1 <= diff <= 3 for diff in differences):\n",
    "        return True\n",
    "    if all(-3 <= diff <= -1 for diff in differences):\n",
    "        return True\n",
    "    return False\n",
    "\n",
    "def count_safe_reports(input_file):\n",
    "    safe_count = 0\n",
    "    with open(input_file, 'r') as f:\n",
    "        for line in f:\n",
    "            levels = list(map(int, line.strip().split()))\n",
    "            if is_safe(levels):\n",
    "                safe_count += 1\n",
    "    return safe_count\n",
    "\n",
    "# Replace 'input.txt' with the path to your input file\n",
    "if __name__ == \"__main__\":\n",
    "    input_file = 'input.txt'\n",
    "    result = count_safe_reports(input_file)\n",
    "    print(result)"
   ]
  },
  {
   "cell_type": "markdown",
   "metadata": {},
   "source": [
    "## Part 2"
   ]
  },
  {
   "cell_type": "code",
   "execution_count": 2,
   "metadata": {},
   "outputs": [
    {
     "name": "stdout",
     "output_type": "stream",
     "text": [
      "604\n"
     ]
    }
   ],
   "source": [
    "def is_safe(levels):\n",
    "    if len(levels) == 1:\n",
    "        return True\n",
    "    differences = [levels[i+1] - levels[i] for i in range(len(levels)-1)]\n",
    "    if all(1 <= diff <= 3 for diff in differences):\n",
    "        return True\n",
    "    if all(-3 <= diff <= -1 for diff in differences):\n",
    "        return True\n",
    "    return False\n",
    "\n",
    "def count_safe_reports(input_file):\n",
    "    safe_count = 0\n",
    "    with open(input_file, 'r') as f:\n",
    "        for line in f:\n",
    "            levels = list(map(int, line.strip().split()))\n",
    "            if is_safe(levels):\n",
    "                safe_count += 1\n",
    "            else:\n",
    "                # Try removing each level one by one and check safety\n",
    "                for i in range(len(levels)):\n",
    "                    new_levels = levels[:i] + levels[i+1:]\n",
    "                    if is_safe(new_levels):\n",
    "                        safe_count += 1\n",
    "                        break  # No need to try further removals\n",
    "    return safe_count\n",
    "\n",
    "# Replace 'input.txt' with the path to your input file\n",
    "if __name__ == \"__main__\":\n",
    "    input_file = 'input.txt'\n",
    "    result = count_safe_reports(input_file)\n",
    "    print(result)"
   ]
  }
 ],
 "metadata": {
  "kernelspec": {
   "display_name": "AdventOfCode",
   "language": "python",
   "name": "python3"
  },
  "language_info": {
   "codemirror_mode": {
    "name": "ipython",
    "version": 3
   },
   "file_extension": ".py",
   "mimetype": "text/x-python",
   "name": "python",
   "nbconvert_exporter": "python",
   "pygments_lexer": "ipython3",
   "version": "3.10.15"
  }
 },
 "nbformat": 4,
 "nbformat_minor": 2
}
