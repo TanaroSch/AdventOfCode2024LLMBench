{
 "cells": [
  {
   "cell_type": "markdown",
   "metadata": {},
   "source": [
    "# Day 2 - Qwen QwQ 32B"
   ]
  },
  {
   "cell_type": "code",
   "execution_count": 1,
   "metadata": {},
   "outputs": [
    {
     "name": "stdout",
     "output_type": "stream",
     "text": [
      "564\n"
     ]
    }
   ],
   "source": [
    "def is_safe(levels):\n",
    "    if len(levels) < 2:\n",
    "        return True  # Consider reports with a single level as safe\n",
    "    differences = [levels[i+1] - levels[i] for i in range(len(levels)-1)]\n",
    "    if all(1 <= diff <= 3 for diff in differences):\n",
    "        return True\n",
    "    elif all(-3 <= diff <= -1 for diff in differences):\n",
    "        return True\n",
    "    else:\n",
    "        return False\n",
    "\n",
    "def count_safe_reports(filename):\n",
    "    with open(filename, 'r') as f:\n",
    "        lines = f.readlines()\n",
    "    safe_count = 0\n",
    "    for line in lines:\n",
    "        levels = list(map(int, line.strip().split()))\n",
    "        if is_safe(levels):\n",
    "            safe_count += 1\n",
    "    return safe_count\n",
    "\n",
    "# Example usage\n",
    "if __name__ == \"__main__\":\n",
    "    filename = \"input.txt\"\n",
    "    print(count_safe_reports(filename))"
   ]
  },
  {
   "cell_type": "markdown",
   "metadata": {},
   "source": [
    "## Part 2"
   ]
  },
  {
   "cell_type": "code",
   "execution_count": 3,
   "metadata": {},
   "outputs": [
    {
     "name": "stdout",
     "output_type": "stream",
     "text": [
      "604\n"
     ]
    }
   ],
   "source": [
    "def is_safe(levels):\n",
    "    if len(levels) < 2:\n",
    "        return True  # Single level is safe\n",
    "    differences = [levels[i+1] - levels[i] for i in range(len(levels)-1)]\n",
    "    if all(1 <= diff <= 3 for diff in differences):\n",
    "        return True\n",
    "    elif all(-3 <= diff <= -1 for diff in differences):\n",
    "        return True\n",
    "    else:\n",
    "        return False\n",
    "\n",
    "def is_safe_with_dampener(levels):\n",
    "    if is_safe(levels):\n",
    "        return True\n",
    "    for i in range(len(levels)):\n",
    "        modified_levels = levels[:i] + levels[i+1:]\n",
    "        if is_safe(modified_levels):\n",
    "            return True\n",
    "    return False\n",
    "\n",
    "def count_safe_reports_with_dampener(filename):\n",
    "    with open(filename, 'r') as f:\n",
    "        lines = f.readlines()\n",
    "    safe_count = 0\n",
    "    for line in lines:\n",
    "        levels = list(map(int, line.strip().split()))\n",
    "        if is_safe_with_dampener(levels):\n",
    "            safe_count += 1\n",
    "    return safe_count\n",
    "\n",
    "# Example usage\n",
    "if __name__ == \"__main__\":\n",
    "    filename = \"input.txt\"\n",
    "    print(count_safe_reports_with_dampener(filename))"
   ]
  }
 ],
 "metadata": {
  "kernelspec": {
   "display_name": "AdventOfCode",
   "language": "python",
   "name": "python3"
  },
  "language_info": {
   "codemirror_mode": {
    "name": "ipython",
    "version": 3
   },
   "file_extension": ".py",
   "mimetype": "text/x-python",
   "name": "python",
   "nbconvert_exporter": "python",
   "pygments_lexer": "ipython3",
   "version": "3.10.15"
  }
 },
 "nbformat": 4,
 "nbformat_minor": 2
}
