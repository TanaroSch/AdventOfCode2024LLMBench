{
 "cells": [
  {
   "cell_type": "markdown",
   "metadata": {},
   "source": [
    "# Day 2 - o1-preview (GHC)"
   ]
  },
  {
   "cell_type": "code",
   "execution_count": 1,
   "metadata": {},
   "outputs": [
    {
     "name": "stdout",
     "output_type": "stream",
     "text": [
      "564\n"
     ]
    }
   ],
   "source": [
    "safe_reports = 0\n",
    "\n",
    "with open('input.txt', 'r') as f:\n",
    "    for line in f:\n",
    "        levels = list(map(int, line.strip().split()))\n",
    "        diffs = [levels[i+1] - levels[i] for i in range(len(levels)-1)]\n",
    "        \n",
    "        if all(d > 0 for d in diffs) or all(d < 0 for d in diffs):\n",
    "            if all(1 <= abs(d) <= 3 for d in diffs):\n",
    "                safe_reports += 1\n",
    "\n",
    "print(safe_reports)"
   ]
  },
  {
   "cell_type": "markdown",
   "metadata": {},
   "source": [
    "## Part 2"
   ]
  },
  {
   "cell_type": "code",
   "execution_count": 2,
   "metadata": {},
   "outputs": [
    {
     "name": "stdout",
     "output_type": "stream",
     "text": [
      "604\n"
     ]
    }
   ],
   "source": [
    "safe_reports = 0\n",
    "\n",
    "with open('input.txt', 'r') as f:\n",
    "    for line in f:\n",
    "        levels = list(map(int, line.strip().split()))\n",
    "        n = len(levels)\n",
    "        is_safe = False\n",
    "\n",
    "        # Check if the report is safe as-is\n",
    "        diffs = [levels[i+1] - levels[i] for i in range(n-1)]\n",
    "        if (all(d > 0 for d in diffs) or all(d < 0 for d in diffs)) and all(1 <= abs(d) <= 3 for d in diffs):\n",
    "            is_safe = True\n",
    "        else:\n",
    "            # Try removing each level\n",
    "            for i in range(n):\n",
    "                new_levels = levels[:i] + levels[i+1:]\n",
    "                if len(new_levels) < 2:\n",
    "                    continue\n",
    "                new_diffs = [new_levels[j+1] - new_levels[j] for j in range(len(new_levels)-1)]\n",
    "                if (all(d > 0 for d in new_diffs) or all(d < 0 for d in new_diffs)) and all(1 <= abs(d) <= 3 for d in new_diffs):\n",
    "                    is_safe = True\n",
    "                    break\n",
    "\n",
    "        if is_safe:\n",
    "            safe_reports += 1\n",
    "\n",
    "print(safe_reports)"
   ]
  }
 ],
 "metadata": {
  "kernelspec": {
   "display_name": "AdventOfCode",
   "language": "python",
   "name": "python3"
  },
  "language_info": {
   "codemirror_mode": {
    "name": "ipython",
    "version": 3
   },
   "file_extension": ".py",
   "mimetype": "text/x-python",
   "name": "python",
   "nbconvert_exporter": "python",
   "pygments_lexer": "ipython3",
   "version": "3.10.15"
  }
 },
 "nbformat": 4,
 "nbformat_minor": 2
}
