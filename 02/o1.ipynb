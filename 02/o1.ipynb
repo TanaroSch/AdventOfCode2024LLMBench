{
 "cells": [
  {
   "cell_type": "markdown",
   "metadata": {},
   "source": [
    "# Day 2 - o1"
   ]
  },
  {
   "cell_type": "code",
   "execution_count": 1,
   "metadata": {},
   "outputs": [
    {
     "name": "stdout",
     "output_type": "stream",
     "text": [
      "564\n"
     ]
    }
   ],
   "source": [
    "def is_safe_report(levels):\n",
    "    # Check if the report meets the criteria for safety:\n",
    "    # 1. The levels must be either strictly increasing or strictly decreasing.\n",
    "    # 2. Any two adjacent levels differ by at least one and at most three.\n",
    "    \n",
    "    # If there's only one level, it can be considered trivially safe\n",
    "    if len(levels) <= 1:\n",
    "        return True\n",
    "    \n",
    "    # Determine the direction from the first difference that is non-zero\n",
    "    direction = None  # will be 'inc' or 'dec'\n",
    "    \n",
    "    for i in range(len(levels) - 1):\n",
    "        diff = levels[i+1] - levels[i]\n",
    "        \n",
    "        if diff == 0:\n",
    "            # Differences cannot be zero\n",
    "            return False\n",
    "        \n",
    "        # Check difference magnitude\n",
    "        if abs(diff) < 1 or abs(diff) > 3:\n",
    "            return False\n",
    "        \n",
    "        if direction is None:\n",
    "            # Set the direction based on the first non-zero difference found\n",
    "            direction = 'inc' if diff > 0 else 'dec'\n",
    "        else:\n",
    "            # Ensure all subsequent differences match the direction\n",
    "            if direction == 'inc' and diff <= 0:\n",
    "                return False\n",
    "            if direction == 'dec' and diff >= 0:\n",
    "                return False\n",
    "    \n",
    "    return True\n",
    "\n",
    "def main():\n",
    "    safe_count = 0\n",
    "    with open('input.txt', 'r') as f:\n",
    "        for line in f:\n",
    "            # Parse the levels\n",
    "            levels = list(map(int, line.strip().split()))\n",
    "            if is_safe_report(levels):\n",
    "                safe_count += 1\n",
    "    print(safe_count)\n",
    "\n",
    "if __name__ == '__main__':\n",
    "    main()\n"
   ]
  },
  {
   "cell_type": "markdown",
   "metadata": {},
   "source": [
    "## Part 2"
   ]
  },
  {
   "cell_type": "code",
   "execution_count": 2,
   "metadata": {},
   "outputs": [
    {
     "name": "stdout",
     "output_type": "stream",
     "text": [
      "604\n"
     ]
    }
   ],
   "source": [
    "def is_safe_report(levels):\n",
    "    # Check if the report meets the criteria for safety:\n",
    "    # 1. The levels must be either strictly increasing or strictly decreasing.\n",
    "    # 2. Any two adjacent levels differ by at least one and at most three.\n",
    "    \n",
    "    # If there's only one level, it can be considered trivially safe\n",
    "    if len(levels) <= 1:\n",
    "        return True\n",
    "    \n",
    "    # Determine the direction from the first difference that is non-zero\n",
    "    direction = None  # will be 'inc' or 'dec'\n",
    "    \n",
    "    for i in range(len(levels) - 1):\n",
    "        diff = levels[i+1] - levels[i]\n",
    "        \n",
    "        if diff == 0:\n",
    "            # Differences cannot be zero\n",
    "            return False\n",
    "        \n",
    "        # Check difference magnitude\n",
    "        if abs(diff) < 1 or abs(diff) > 3:\n",
    "            return False\n",
    "        \n",
    "        if direction is None:\n",
    "            # Set the direction based on the first non-zero difference found\n",
    "            direction = 'inc' if diff > 0 else 'dec'\n",
    "        else:\n",
    "            # Ensure all subsequent differences match the direction\n",
    "            if direction == 'inc' and diff <= 0:\n",
    "                return False\n",
    "            if direction == 'dec' and diff >= 0:\n",
    "                return False\n",
    "    \n",
    "    return True\n",
    "\n",
    "def can_be_safe_with_removal(levels):\n",
    "    # First, check if it's already safe\n",
    "    if is_safe_report(levels):\n",
    "        return True\n",
    "    \n",
    "    # If not safe, try removing one level at a time and check again\n",
    "    for i in range(len(levels)):\n",
    "        new_report = levels[:i] + levels[i+1:]\n",
    "        if is_safe_report(new_report):\n",
    "            return True\n",
    "    \n",
    "    # If removing any single level doesn't help, return False\n",
    "    return False\n",
    "\n",
    "def main():\n",
    "    safe_count = 0\n",
    "    with open('input.txt', 'r') as f:\n",
    "        for line in f:\n",
    "            # Parse the levels\n",
    "            levels = list(map(int, line.strip().split()))\n",
    "            if can_be_safe_with_removal(levels):\n",
    "                safe_count += 1\n",
    "    print(safe_count)\n",
    "\n",
    "if __name__ == '__main__':\n",
    "    main()\n"
   ]
  }
 ],
 "metadata": {
  "kernelspec": {
   "display_name": "AdventOfCode",
   "language": "python",
   "name": "python3"
  },
  "language_info": {
   "codemirror_mode": {
    "name": "ipython",
    "version": 3
   },
   "file_extension": ".py",
   "mimetype": "text/x-python",
   "name": "python",
   "nbconvert_exporter": "python",
   "pygments_lexer": "ipython3",
   "version": "3.10.15"
  }
 },
 "nbformat": 4,
 "nbformat_minor": 2
}
