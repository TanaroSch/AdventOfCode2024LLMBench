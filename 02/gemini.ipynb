{
 "cells": [
  {
   "cell_type": "markdown",
   "metadata": {},
   "source": [
    "# Day 02 - Gemini"
   ]
  },
  {
   "cell_type": "code",
   "execution_count": 1,
   "metadata": {},
   "outputs": [
    {
     "name": "stdout",
     "output_type": "stream",
     "text": [
      "564\n"
     ]
    }
   ],
   "source": [
    "def is_safe(report):\n",
    "    \"\"\"Checks if a report is safe based on the given rules.\"\"\"\n",
    "\n",
    "    increasing = all(report[i] < report[i + 1] for i in range(len(report) - 1))\n",
    "    decreasing = all(report[i] > report[i + 1] for i in range(len(report) - 1))\n",
    "\n",
    "    if not (increasing or decreasing):\n",
    "        return False\n",
    "\n",
    "    for i in range(len(report) - 1):\n",
    "        diff = abs(report[i] - report[i + 1])\n",
    "        if not (1 <= diff <= 3):\n",
    "            return False\n",
    "\n",
    "    return True\n",
    "\n",
    "def main():\n",
    "    \"\"\"Reads reports from input.txt and counts the number of safe reports.\"\"\"\n",
    "\n",
    "    safe_reports = 0\n",
    "    with open(\"input.txt\", \"r\") as f:\n",
    "        for line in f:\n",
    "            report = [int(x) for x in line.strip().split()]\n",
    "            if is_safe(report):\n",
    "                safe_reports += 1\n",
    "\n",
    "    print(safe_reports)\n",
    "\n",
    "if __name__ == \"__main__\":\n",
    "    main()"
   ]
  },
  {
   "cell_type": "markdown",
   "metadata": {},
   "source": [
    "## Part 2"
   ]
  },
  {
   "cell_type": "code",
   "execution_count": 2,
   "metadata": {},
   "outputs": [
    {
     "name": "stdout",
     "output_type": "stream",
     "text": [
      "604\n"
     ]
    }
   ],
   "source": [
    "def is_safe(report):\n",
    "    \"\"\"Checks if a report is safe based on the given rules.\"\"\"\n",
    "\n",
    "    increasing = all(report[i] < report[i + 1] for i in range(len(report) - 1))\n",
    "    decreasing = all(report[i] > report[i + 1] for i in range(len(report) - 1))\n",
    "\n",
    "    if not (increasing or decreasing):\n",
    "        return False\n",
    "\n",
    "    for i in range(len(report) - 1):\n",
    "        diff = abs(report[i] - report[i + 1])\n",
    "        if not (1 <= diff <= 3):\n",
    "            return False\n",
    "\n",
    "    return True\n",
    "\n",
    "def is_safe_with_dampener(report):\n",
    "    \"\"\"Checks if a report is safe, or can be made safe by removing one level.\"\"\"\n",
    "    if is_safe(report):\n",
    "        return True\n",
    "\n",
    "    for i in range(len(report)):\n",
    "        temp_report = report[:i] + report[i+1:]\n",
    "        if is_safe(temp_report):\n",
    "            return True\n",
    "    return False\n",
    "\n",
    "def main():\n",
    "    \"\"\"Reads reports from input.txt and counts the number of safe reports.\"\"\"\n",
    "\n",
    "    safe_reports = 0\n",
    "    with open(\"input.txt\", \"r\") as f:\n",
    "        for line in f:\n",
    "            report = [int(x) for x in line.strip().split()]\n",
    "            if is_safe_with_dampener(report):\n",
    "                safe_reports += 1\n",
    "\n",
    "    print(safe_reports)\n",
    "\n",
    "if __name__ == \"__main__\":\n",
    "    main()"
   ]
  }
 ],
 "metadata": {
  "kernelspec": {
   "display_name": "AdventOfCode",
   "language": "python",
   "name": "python3"
  },
  "language_info": {
   "codemirror_mode": {
    "name": "ipython",
    "version": 3
   },
   "file_extension": ".py",
   "mimetype": "text/x-python",
   "name": "python",
   "nbconvert_exporter": "python",
   "pygments_lexer": "ipython3",
   "version": "3.10.15"
  }
 },
 "nbformat": 4,
 "nbformat_minor": 2
}
