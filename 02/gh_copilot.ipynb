{
 "cells": [
  {
   "cell_type": "markdown",
   "metadata": {},
   "source": [
    "# Day 2 - GH Copilot"
   ]
  },
  {
   "cell_type": "code",
   "execution_count": 1,
   "metadata": {},
   "outputs": [
    {
     "name": "stdout",
     "output_type": "stream",
     "text": [
      "564\n"
     ]
    }
   ],
   "source": [
    "def is_safe_report(report):\n",
    "    levels = list(map(int, report.split()))\n",
    "    increasing = all(1 <= levels[i+1] - levels[i] <= 3 for i in range(len(levels) - 1))\n",
    "    decreasing = all(1 <= levels[i] - levels[i+1] <= 3 for i in range(len(levels) - 1))\n",
    "    return increasing or decreasing\n",
    "\n",
    "def count_safe_reports(filename):\n",
    "    with open(filename, 'r') as file:\n",
    "        reports = file.readlines()\n",
    "    \n",
    "    safe_count = sum(1 for report in reports if is_safe_report(report.strip()))\n",
    "    return safe_count\n",
    "\n",
    "# Assuming the input is in 'input.txt'\n",
    "filename = 'input.txt'\n",
    "print(count_safe_reports(filename))"
   ]
  },
  {
   "cell_type": "markdown",
   "metadata": {},
   "source": [
    "## Part 2"
   ]
  },
  {
   "cell_type": "code",
   "execution_count": 2,
   "metadata": {},
   "outputs": [
    {
     "name": "stdout",
     "output_type": "stream",
     "text": [
      "604\n"
     ]
    }
   ],
   "source": [
    "def is_safe_report(levels):\n",
    "    increasing = all(1 <= levels[i+1] - levels[i] <= 3 for i in range(len(levels) - 1))\n",
    "    decreasing = all(1 <= levels[i] - levels[i+1] <= 3 for i in range(len(levels) - 1))\n",
    "    return increasing or decreasing\n",
    "\n",
    "def can_be_safe_by_removing_one(levels):\n",
    "    for i in range(len(levels)):\n",
    "        modified_levels = levels[:i] + levels[i+1:]\n",
    "        if is_safe_report(modified_levels):\n",
    "            return True\n",
    "    return False\n",
    "\n",
    "def count_safe_reports(filename):\n",
    "    with open(filename, 'r') as file:\n",
    "        reports = file.readlines()\n",
    "    \n",
    "    safe_count = 0\n",
    "    for report in reports:\n",
    "        levels = list(map(int, report.strip().split()))\n",
    "        if is_safe_report(levels) or can_be_safe_by_removing_one(levels):\n",
    "            safe_count += 1\n",
    "    return safe_count\n",
    "\n",
    "# Assuming the input is in 'input.txt'\n",
    "filename = 'input.txt'\n",
    "print(count_safe_reports(filename))"
   ]
  }
 ],
 "metadata": {
  "kernelspec": {
   "display_name": "Python 3",
   "language": "python",
   "name": "python3"
  },
  "language_info": {
   "codemirror_mode": {
    "name": "ipython",
    "version": 3
   },
   "file_extension": ".py",
   "mimetype": "text/x-python",
   "name": "python",
   "nbconvert_exporter": "python",
   "pygments_lexer": "ipython3",
   "version": "3.11.6"
  }
 },
 "nbformat": 4,
 "nbformat_minor": 2
}
