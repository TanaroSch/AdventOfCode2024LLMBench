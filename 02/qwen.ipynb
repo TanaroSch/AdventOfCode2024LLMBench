{
 "cells": [
  {
   "cell_type": "markdown",
   "metadata": {},
   "source": [
    "# Day 2 - Qwen Coder 32B"
   ]
  },
  {
   "cell_type": "code",
   "execution_count": 1,
   "metadata": {},
   "outputs": [
    {
     "name": "stdout",
     "output_type": "stream",
     "text": [
      "Number of safe reports: 564\n"
     ]
    }
   ],
   "source": [
    "def is_safe_report(levels):\n",
    "    # Check if the list is strictly increasing or strictly decreasing\n",
    "    increasing = all(levels[i] < levels[i + 1] for i in range(len(levels) - 1))\n",
    "    decreasing = all(levels[i] > levels[i + 1] for i in range(len(levels) - 1))\n",
    "    \n",
    "    if not (increasing or decreasing):\n",
    "        return False\n",
    "    \n",
    "    # Check the difference between adjacent levels\n",
    "    for i in range(len(levels) - 1):\n",
    "        diff = abs(levels[i] - levels[i + 1])\n",
    "        if diff < 1 or diff > 3:\n",
    "            return False\n",
    "    \n",
    "    return True\n",
    "\n",
    "def count_safe_reports(filename):\n",
    "    safe_count = 0\n",
    "    with open(filename, 'r') as file:\n",
    "        for line in file:\n",
    "            levels = list(map(int, line.strip().split()))\n",
    "            if is_safe_report(levels):\n",
    "                safe_count += 1\n",
    "    return safe_count\n",
    "\n",
    "# Assuming the input is in a file named input.txt\n",
    "safe_reports_count = count_safe_reports('input.txt')\n",
    "print(f\"Number of safe reports: {safe_reports_count}\")"
   ]
  },
  {
   "cell_type": "markdown",
   "metadata": {},
   "source": [
    "## Part 2"
   ]
  },
  {
   "cell_type": "code",
   "execution_count": 2,
   "metadata": {},
   "outputs": [
    {
     "name": "stdout",
     "output_type": "stream",
     "text": [
      "Number of safe reports with Problem Dampener: 604\n"
     ]
    }
   ],
   "source": [
    "def is_safe_report(levels):\n",
    "    # Check if the list is strictly increasing or strictly decreasing\n",
    "    increasing = all(levels[i] < levels[i + 1] for i in range(len(levels) - 1))\n",
    "    decreasing = all(levels[i] > levels[i + 1] for i in range(len(levels) - 1))\n",
    "    \n",
    "    if not (increasing or decreasing):\n",
    "        return False\n",
    "    \n",
    "    # Check the difference between adjacent levels\n",
    "    for i in range(len(levels) - 1):\n",
    "        diff = abs(levels[i] - levels[i + 1])\n",
    "        if diff < 1 or diff > 3:\n",
    "            return False\n",
    "    \n",
    "    return True\n",
    "\n",
    "def count_safe_reports_with_dampener(filename):\n",
    "    safe_count = 0\n",
    "    with open(filename, 'r') as file:\n",
    "        for line in file:\n",
    "            levels = list(map(int, line.strip().split()))\n",
    "            if is_safe_report(levels):\n",
    "                safe_count += 1\n",
    "            else:\n",
    "                # Try removing each level one by one and check if the report becomes safe\n",
    "                for i in range(len(levels)):\n",
    "                    new_levels = levels[:i] + levels[i+1:]\n",
    "                    if is_safe_report(new_levels):\n",
    "                        safe_count += 1\n",
    "                        break\n",
    "    return safe_count\n",
    "\n",
    "# Assuming the input is in a file named input.txt\n",
    "safe_reports_count = count_safe_reports_with_dampener('input.txt')\n",
    "print(f\"Number of safe reports with Problem Dampener: {safe_reports_count}\")"
   ]
  }
 ],
 "metadata": {
  "kernelspec": {
   "display_name": "Python 3",
   "language": "python",
   "name": "python3"
  },
  "language_info": {
   "codemirror_mode": {
    "name": "ipython",
    "version": 3
   },
   "file_extension": ".py",
   "mimetype": "text/x-python",
   "name": "python",
   "nbconvert_exporter": "python",
   "pygments_lexer": "ipython3",
   "version": "3.11.6"
  }
 },
 "nbformat": 4,
 "nbformat_minor": 2
}
