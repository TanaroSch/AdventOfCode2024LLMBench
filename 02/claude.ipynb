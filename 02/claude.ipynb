{
 "cells": [
  {
   "cell_type": "markdown",
   "metadata": {},
   "source": [
    "# Day 2 - Claude"
   ]
  },
  {
   "cell_type": "code",
   "execution_count": 2,
   "metadata": {},
   "outputs": [
    {
     "name": "stdout",
     "output_type": "stream",
     "text": [
      "564\n"
     ]
    }
   ],
   "source": [
    "def is_safe_report(levels):\n",
    "   if len(levels) < 2:\n",
    "       return True\n",
    "   first_diff = levels[1] - levels[0]\n",
    "   if abs(first_diff) < 1 or abs(first_diff) > 3:\n",
    "       return False        \n",
    "   increasing = first_diff > 0\n",
    "   \n",
    "   for i in range(1, len(levels)):\n",
    "       diff = levels[i] - levels[i-1]\n",
    "       if abs(diff) < 1 or abs(diff) > 3:\n",
    "           return False            \n",
    "       if (increasing and diff <= 0) or (not increasing and diff >= 0):\n",
    "           return False            \n",
    "   return True\n",
    "\n",
    "with open('input.txt') as f:\n",
    "   reports = [[int(x) for x in line.strip().split()] for line in f]\n",
    "print(sum(1 for report in reports if is_safe_report(report)))"
   ]
  },
  {
   "cell_type": "markdown",
   "metadata": {},
   "source": [
    "## Part 2"
   ]
  },
  {
   "cell_type": "code",
   "execution_count": 3,
   "metadata": {},
   "outputs": [
    {
     "name": "stdout",
     "output_type": "stream",
     "text": [
      "604\n"
     ]
    }
   ],
   "source": [
    "def is_safe_sequence(levels):\n",
    "   if len(levels) < 2:\n",
    "       return True\n",
    "   first_diff = levels[1] - levels[0]\n",
    "   if abs(first_diff) < 1 or abs(first_diff) > 3:\n",
    "       return False        \n",
    "   increasing = first_diff > 0\n",
    "   \n",
    "   for i in range(1, len(levels)):\n",
    "       diff = levels[i] - levels[i-1]\n",
    "       if abs(diff) < 1 or abs(diff) > 3:\n",
    "           return False            \n",
    "       if (increasing and diff <= 0) or (not increasing and diff >= 0):\n",
    "           return False            \n",
    "   return True\n",
    "\n",
    "def is_safe_with_dampener(levels):\n",
    "   if is_safe_sequence(levels):\n",
    "       return True\n",
    "       \n",
    "   # Try removing each level once\n",
    "   for i in range(len(levels)):\n",
    "       without_level = levels[:i] + levels[i+1:]\n",
    "       if is_safe_sequence(without_level):\n",
    "           return True\n",
    "   return False\n",
    "\n",
    "with open('input.txt') as f:\n",
    "   reports = [[int(x) for x in line.strip().split()] for line in f]\n",
    "print(sum(1 for report in reports if is_safe_with_dampener(report)))"
   ]
  }
 ],
 "metadata": {
  "kernelspec": {
   "display_name": "AdventOfCode",
   "language": "python",
   "name": "python3"
  },
  "language_info": {
   "codemirror_mode": {
    "name": "ipython",
    "version": 3
   },
   "file_extension": ".py",
   "mimetype": "text/x-python",
   "name": "python",
   "nbconvert_exporter": "python",
   "pygments_lexer": "ipython3",
   "version": "3.10.15"
  }
 },
 "nbformat": 4,
 "nbformat_minor": 2
}
