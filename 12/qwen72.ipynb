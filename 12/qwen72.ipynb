{
 "cells": [
  {
   "cell_type": "markdown",
   "metadata": {},
   "source": [
    "# Day 12 - Qwen2.5 72b"
   ]
  },
  {
   "cell_type": "code",
   "execution_count": 5,
   "metadata": {},
   "outputs": [
    {
     "ename": "NameError",
     "evalue": "name 'calculate_perimet' is not defined",
     "output_type": "error",
     "traceback": [
      "\u001b[1;31m---------------------------------------------------------------------------\u001b[0m",
      "\u001b[1;31mNameError\u001b[0m                                 Traceback (most recent call last)",
      "Cell \u001b[1;32mIn[5], line 63\u001b[0m\n\u001b[0;32m     60\u001b[0m input_grid \u001b[38;5;241m=\u001b[39m [\u001b[38;5;28mlist\u001b[39m(row) \u001b[38;5;28;01mfor\u001b[39;00m row \u001b[38;5;129;01min\u001b[39;00m input_grid]\n\u001b[0;32m     62\u001b[0m \u001b[38;5;66;03m# Calculate the total fence price\u001b[39;00m\n\u001b[1;32m---> 63\u001b[0m total_price \u001b[38;5;241m=\u001b[39m \u001b[43mtotal_fence_price\u001b[49m\u001b[43m(\u001b[49m\u001b[43minput_grid\u001b[49m\u001b[43m)\u001b[49m\n\u001b[0;32m     65\u001b[0m \u001b[38;5;66;03m# Print the result\u001b[39;00m\n\u001b[0;32m     66\u001b[0m \u001b[38;5;28mprint\u001b[39m(\u001b[38;5;124mf\u001b[39m\u001b[38;5;124m\"\u001b[39m\u001b[38;5;124mThe total price of fencing all regions is: \u001b[39m\u001b[38;5;132;01m{\u001b[39;00mtotal_price\u001b[38;5;132;01m}\u001b[39;00m\u001b[38;5;124m\"\u001b[39m)\n",
      "Cell \u001b[1;32mIn[5], line 51\u001b[0m, in \u001b[0;36mtotal_fence_price\u001b[1;34m(grid)\u001b[0m\n\u001b[0;32m     49\u001b[0m \u001b[38;5;28;01mfor\u001b[39;00m label, region \u001b[38;5;129;01min\u001b[39;00m regions\u001b[38;5;241m.\u001b[39mitems():\n\u001b[0;32m     50\u001b[0m     area \u001b[38;5;241m=\u001b[39m \u001b[38;5;28mlen\u001b[39m(region)\n\u001b[1;32m---> 51\u001b[0m     perimeter \u001b[38;5;241m=\u001b[39m \u001b[43mcalculate_perimet\u001b[49m(region, grid)\n\u001b[0;32m     52\u001b[0m     total_price \u001b[38;5;241m+\u001b[39m\u001b[38;5;241m=\u001b[39m area \u001b[38;5;241m*\u001b[39m perimeter\n\u001b[0;32m     54\u001b[0m \u001b[38;5;28;01mreturn\u001b[39;00m total_price\n",
      "\u001b[1;31mNameError\u001b[0m: name 'calculate_perimet' is not defined"
     ]
    }
   ],
   "source": [
    "def read_input(filename):\n",
    "    with open(filename, 'r') as file:\n",
    "        return [line.strip() for line in file.readlines()]\n",
    "\n",
    "def flood_fill(grid, x, y, original, new, region, visited):\n",
    "    stack = [(x, y)]\n",
    "    while stack:\n",
    "        x, y = stack.pop()\n",
    "        if (x, y) in visited:\n",
    "            continue\n",
    "        visited.add((x, y))\n",
    "        if x < 0 or y < 0 or x >= len(grid) or y >= len(grid[0]):\n",
    "            continue\n",
    "        if grid[x][y] != original:\n",
    "            continue\n",
    "        grid[x][y] = new\n",
    "        region.append((x, y))\n",
    "        stack.append((x + 1, y))\n",
    "        stack.append((x - 1, y))\n",
    "        stack.append((x, y + 1))\n",
    "        stack.append((x, y - 1))\n",
    "\n",
    "def calculate_perimeter(region, grid):\n",
    "    perimeter = 0\n",
    "    for x, y in region:\n",
    "        if x == 0 or grid[x-1][y] != grid[x][y]:\n",
    "            perimeter += 1\n",
    "        if x == len(grid) - 1 or grid[x+1][y] != grid[x][y]:\n",
    "            perimeter += 1\n",
    "        if y == 0 or grid[x][y-1] != grid[x][y]:\n",
    "            perimeter += 1\n",
    "        if y == len(grid[0]) - 1 or grid[x][y+1] != grid[x][y]:\n",
    "            perimeter += 1\n",
    "    return perimeter\n",
    "\n",
    "def total_fence_price(grid):\n",
    "    regions = {}\n",
    "    label = '0'  # Start with a label that is not a plant type\n",
    "    visited = set()\n",
    "    for x in range(len(grid)):\n",
    "        for y in range(len(grid[0])):\n",
    "            if grid[x][y] not in regions and (x, y) not in visited:\n",
    "                region = []\n",
    "                flood_fill(grid, x, y, grid[x][y], label, region, visited)\n",
    "                regions[label] = region\n",
    "                label = chr(ord(label) + 1)\n",
    "    \n",
    "    total_price = 0\n",
    "    for label, region in regions.items():\n",
    "        area = len(region)\n",
    "        perimeter = calculate_perimet(region, grid)\n",
    "        total_price += area * perimeter\n",
    "    \n",
    "    return total_price\n",
    "\n",
    "# Read the input from the file\n",
    "input_grid = read_input('input.txt')\n",
    "\n",
    "# Convert the input to a mutable list of lists\n",
    "input_grid = [list(row) for row in input_grid]\n",
    "\n",
    "# Calculate the total fence price\n",
    "total_price = total_fence_price(input_grid)\n",
    "\n",
    "# Print the result\n",
    "print(f\"The total price of fencing all regions is: {total_price}\")"
   ]
  },
  {
   "cell_type": "markdown",
   "metadata": {},
   "source": [
    "## Part 2"
   ]
  },
  {
   "cell_type": "code",
   "execution_count": null,
   "metadata": {},
   "outputs": [],
   "source": []
  }
 ],
 "metadata": {
  "kernelspec": {
   "display_name": "AdventOfCode",
   "language": "python",
   "name": "python3"
  },
  "language_info": {
   "codemirror_mode": {
    "name": "ipython",
    "version": 3
   },
   "file_extension": ".py",
   "mimetype": "text/x-python",
   "name": "python",
   "nbconvert_exporter": "python",
   "pygments_lexer": "ipython3",
   "version": "3.10.15"
  }
 },
 "nbformat": 4,
 "nbformat_minor": 2
}
