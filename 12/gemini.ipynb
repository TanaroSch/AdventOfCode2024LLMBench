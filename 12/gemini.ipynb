{
 "cells": [
  {
   "cell_type": "markdown",
   "metadata": {},
   "source": [
    "# Day 12 - Gemini"
   ]
  },
  {
   "cell_type": "code",
   "execution_count": 1,
   "metadata": {},
   "outputs": [
    {
     "name": "stdout",
     "output_type": "stream",
     "text": [
      "1449902\n"
     ]
    }
   ],
   "source": [
    "def solve():\n",
    "    with open(\"input.txt\", \"r\") as f:\n",
    "        grid = [list(line.strip()) for line in f]\n",
    "\n",
    "    rows = len(grid)\n",
    "    cols = len(grid[0])\n",
    "    visited = [[False for _ in range(cols)] for _ in range(rows)]\n",
    "    total_price = 0\n",
    "\n",
    "    def dfs(r, c, plant_type, region):\n",
    "        if r < 0 or r >= rows or c < 0 or c >= cols or visited[r][c] or grid[r][c] != plant_type:\n",
    "            return\n",
    "        visited[r][c] = True\n",
    "        region.append((r, c))\n",
    "        dfs(r + 1, c, plant_type, region)\n",
    "        dfs(r - 1, c, plant_type, region)\n",
    "        dfs(r, c + 1, plant_type, region)\n",
    "        dfs(r, c - 1, plant_type, region)\n",
    "\n",
    "    def calculate_perimeter(region):\n",
    "        perimeter = 0\n",
    "        for r, c in region:\n",
    "            if r == 0 or grid[r - 1][c] != grid[r][c]:\n",
    "                perimeter += 1\n",
    "            if r == rows - 1 or grid[r + 1][c] != grid[r][c]:\n",
    "                perimeter += 1\n",
    "            if c == 0 or grid[r][c - 1] != grid[r][c]:\n",
    "                perimeter += 1\n",
    "            if c == cols - 1 or grid[r][c + 1] != grid[r][c]:\n",
    "                perimeter += 1\n",
    "        return perimeter\n",
    "\n",
    "    for r in range(rows):\n",
    "        for c in range(cols):\n",
    "            if not visited[r][c]:\n",
    "                region = []\n",
    "                dfs(r, c, grid[r][c], region)\n",
    "                area = len(region)\n",
    "                perimeter = calculate_perimeter(region)\n",
    "                total_price += area * perimeter\n",
    "\n",
    "    print(total_price)\n",
    "\n",
    "solve()"
   ]
  },
  {
   "cell_type": "markdown",
   "metadata": {},
   "source": [
    "## Part 2"
   ]
  },
  {
   "cell_type": "code",
   "execution_count": 2,
   "metadata": {},
   "outputs": [
    {
     "name": "stdout",
     "output_type": "stream",
     "text": [
      "893165\n"
     ]
    }
   ],
   "source": [
    "def solve():\n",
    "    with open(\"input.txt\", \"r\") as f:\n",
    "        grid = [list(line.strip()) for line in f]\n",
    "\n",
    "    rows = len(grid)\n",
    "    cols = len(grid[0])\n",
    "    visited = [[False for _ in range(cols)] for _ in range(rows)]\n",
    "    total_price = 0\n",
    "\n",
    "    def dfs(r, c, plant_type, region):\n",
    "        if r < 0 or r >= rows or c < 0 or c >= cols or visited[r][c] or grid[r][c] != plant_type:\n",
    "            return\n",
    "        visited[r][c] = True\n",
    "        region.append((r, c))\n",
    "        dfs(r + 1, c, plant_type, region)\n",
    "        dfs(r - 1, c, plant_type, region)\n",
    "        dfs(r, c + 1, plant_type, region)\n",
    "        dfs(r, c - 1, plant_type, region)\n",
    "\n",
    "    def calculate_sides(region):\n",
    "        sides = 0\n",
    "        edges = set()\n",
    "\n",
    "        for r, c in region:\n",
    "            # Check up\n",
    "            if r == 0 or grid[r - 1][c] != grid[r][c]:\n",
    "                edges.add(((r, c), (r - 1, c)))\n",
    "            # Check down\n",
    "            if r == rows - 1 or grid[r + 1][c] != grid[r][c]:\n",
    "                edges.add(((r + 1, c), (r, c)))\n",
    "            # Check left\n",
    "            if c == 0 or grid[r][c - 1] != grid[r][c]:\n",
    "                edges.add(((r, c), (r, c - 1)))\n",
    "            # Check right\n",
    "            if c == cols - 1 or grid[r][c + 1] != grid[r][c]:\n",
    "                edges.add(((r, c + 1), (r, c)))\n",
    "\n",
    "        \n",
    "        while edges:\n",
    "            start_edge = edges.pop()\n",
    "            sides += 1\n",
    "            current_edge = start_edge\n",
    "            \n",
    "            while True:\n",
    "                found_next = False\n",
    "                r1, c1 = current_edge[1]\n",
    "                \n",
    "                \n",
    "                neighbors = [((r1-1,c1),(r1,c1)),((r1+1,c1),(r1,c1)),((r1,c1-1),(r1,c1)),((r1,c1+1),(r1,c1)),((r1,c1),(r1-1,c1)),((r1,c1),(r1+1,c1)),((r1,c1),(r1,c1-1)),((r1,c1),(r1,c1+1))]\n",
    "                \n",
    "                for neighbor in neighbors:\n",
    "                  if neighbor != (current_edge[0],current_edge[1]) and neighbor != (current_edge[1],current_edge[0]) and neighbor in edges:\n",
    "                    current_edge = neighbor\n",
    "                    edges.remove(neighbor)\n",
    "                    found_next = True\n",
    "                    break\n",
    "                \n",
    "                if not found_next:\n",
    "                  break\n",
    "        return sides\n",
    "\n",
    "    for r in range(rows):\n",
    "        for c in range(cols):\n",
    "            if not visited[r][c]:\n",
    "                region = []\n",
    "                dfs(r, c, grid[r][c], region)\n",
    "                area = len(region)\n",
    "                sides = calculate_sides(region)\n",
    "                total_price += area * sides\n",
    "\n",
    "    print(total_price)\n",
    "\n",
    "solve()"
   ]
  }
 ],
 "metadata": {
  "kernelspec": {
   "display_name": "AdventOfCode",
   "language": "python",
   "name": "python3"
  },
  "language_info": {
   "codemirror_mode": {
    "name": "ipython",
    "version": 3
   },
   "file_extension": ".py",
   "mimetype": "text/x-python",
   "name": "python",
   "nbconvert_exporter": "python",
   "pygments_lexer": "ipython3",
   "version": "3.10.15"
  }
 },
 "nbformat": 4,
 "nbformat_minor": 2
}
