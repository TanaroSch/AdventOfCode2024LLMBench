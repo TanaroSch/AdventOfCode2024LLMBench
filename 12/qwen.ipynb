{
 "cells": [
  {
   "cell_type": "markdown",
   "metadata": {},
   "source": [
    "# Day 12 - Qwen Coder 32B"
   ]
  },
  {
   "cell_type": "code",
   "execution_count": 1,
   "metadata": {},
   "outputs": [
    {
     "name": "stdout",
     "output_type": "stream",
     "text": [
      "Total price of fencing all regions: 1449902\n"
     ]
    }
   ],
   "source": [
    "from collections import deque\n",
    "\n",
    "def read_input(filename):\n",
    "    with open(filename, 'r') as file:\n",
    "        grid = [list(line.strip()) for line in file]\n",
    "    return grid\n",
    "\n",
    "def bfs(grid, start_row, start_col, visited):\n",
    "    queue = deque([(start_row, start_col)])\n",
    "    region = []\n",
    "    area = 0\n",
    "    perimeter = 0\n",
    "\n",
    "    while queue:\n",
    "        row, col = queue.popleft()\n",
    "        if (row, col) in visited:\n",
    "            continue\n",
    "        visited.add((row, col))\n",
    "        region.append((row, col))\n",
    "        area += 1\n",
    "\n",
    "        # Check all 4 directions (up, down, left, right)\n",
    "        for dr, dc in [(-1, 0), (1, 0), (0, -1), (0, 1)]:\n",
    "            nr, nc = row + dr, col + dc\n",
    "            if 0 <= nr < len(grid) and 0 <= nc < len(grid[0]) and grid[nr][nc] == grid[row][col]:\n",
    "                if (nr, nc) not in visited:\n",
    "                    queue.append((nr, nc))\n",
    "            else:\n",
    "                perimeter += 1\n",
    "\n",
    "    return area, perimeter\n",
    "\n",
    "def calculate_total_price(grid):\n",
    "    visited = set()\n",
    "    total_price = 0\n",
    "\n",
    "    for row in range(len(grid)):\n",
    "        for col in range(len(grid[0])):\n",
    "            if (row, col) not in visited:\n",
    "                area, perimeter = bfs(grid, row, col, visited)\n",
    "                price = area * perimeter\n",
    "                total_price += price\n",
    "\n",
    "    return total_price\n",
    "\n",
    "def main():\n",
    "    grid = read_input('input.txt')\n",
    "    total_price = calculate_total_price(grid)\n",
    "    print(f'Total price of fencing all regions: {total_price}')\n",
    "\n",
    "if __name__ == '__main__':\n",
    "    main()"
   ]
  },
  {
   "cell_type": "markdown",
   "metadata": {},
   "source": [
    "## Part 2"
   ]
  },
  {
   "cell_type": "code",
   "execution_count": 7,
   "metadata": {},
   "outputs": [
    {
     "name": "stdout",
     "output_type": "stream",
     "text": [
      "Total price of fencing all regions: 16944\n"
     ]
    }
   ],
   "source": [
    "from collections import deque\n",
    "\n",
    "def read_input(filename):\n",
    "    with open(filename, 'r') as file:\n",
    "        grid = [list(line.strip()) for line in file]\n",
    "    return grid\n",
    "\n",
    "def bfs(grid, start_row, start_col, visited):\n",
    "    queue = deque([(start_row, start_col)])\n",
    "    region = []\n",
    "    area = 0\n",
    "    sides = 0\n",
    "\n",
    "    while queue:\n",
    "        row, col = queue.popleft()\n",
    "        if (row, col) in visited:\n",
    "            continue\n",
    "        visited.add((row, col))\n",
    "        region.append((row, col))\n",
    "        area += 1\n",
    "\n",
    "        # Check all 4 directions (up, down, left, right)\n",
    "        for dr, dc in [(-1, 0), (1, 0), (0, -1), (0, 1)]:\n",
    "            nr, nc = row + dr, col + dc\n",
    "            if not (0 <= nr < len(grid) and 0 <= nc < len(grid[0])) or grid[nr][nc] != grid[row][col]:\n",
    "                sides += 1\n",
    "\n",
    "    return area, sides\n",
    "\n",
    "def calculate_total_price(grid):\n",
    "    visited = set()\n",
    "    total_price = 0\n",
    "\n",
    "    for row in range(len(grid)):\n",
    "        for col in range(len(grid[0])):\n",
    "            if (row, col) not in visited:\n",
    "                area, sides = bfs(grid, row, col, visited)\n",
    "                price = area * sides\n",
    "                total_price += price\n",
    "\n",
    "    return total_price\n",
    "\n",
    "def main():\n",
    "    grid = read_input('input.txt')\n",
    "    total_price = calculate_total_price(grid)\n",
    "    print(f'Total price of fencing all regions: {total_price}')\n",
    "\n",
    "if __name__ == '__main__':\n",
    "    main()"
   ]
  }
 ],
 "metadata": {
  "kernelspec": {
   "display_name": "AdventOfCode",
   "language": "python",
   "name": "python3"
  },
  "language_info": {
   "codemirror_mode": {
    "name": "ipython",
    "version": 3
   },
   "file_extension": ".py",
   "mimetype": "text/x-python",
   "name": "python",
   "nbconvert_exporter": "python",
   "pygments_lexer": "ipython3",
   "version": "3.10.15"
  }
 },
 "nbformat": 4,
 "nbformat_minor": 2
}
