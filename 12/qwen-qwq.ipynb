{
 "cells": [
  {
   "cell_type": "markdown",
   "metadata": {},
   "source": [
    "# Day 12 - Qwen QwQ 32B"
   ]
  },
  {
   "cell_type": "code",
   "execution_count": 2,
   "metadata": {},
   "outputs": [
    {
     "name": "stdout",
     "output_type": "stream",
     "text": [
      "1449902\n"
     ]
    }
   ],
   "source": [
    "def read_map(filename):\n",
    "    with open(filename, 'r') as f:\n",
    "        return [list(line.strip()) for line in f.readlines()]\n",
    "\n",
    "def dfs(row, col, region_type, visited, region_plots, directions, map):\n",
    "    if (row < 0 or row >= len(map) or col < 0 or col >= len(map[0]) or\n",
    "        visited[row][col] or map[row][col]!= region_type):\n",
    "        return 0\n",
    "    visited[row][col] = True\n",
    "    region_plots.append((row, col))\n",
    "    return 1 + sum(dfs(row + dr, col + dc, region_type, visited, region_plots, directions, map)\n",
    "                   for dr, dc in directions)\n",
    "\n",
    "def calculate_perimeter(region_plots, map):\n",
    "    perimeter = 0\n",
    "    rows, cols = len(map), len(map[0])\n",
    "    for r, c in region_plots:\n",
    "        for dr, dc in [(-1, 0), (1, 0), (0, -1), (0, 1)]:\n",
    "            nr, nc = r + dr, c + dc\n",
    "            if nr < 0 or nr >= rows or nc < 0 or nc >= cols or map[nr][nc]!= map[r][c]:\n",
    "                perimeter += 1\n",
    "    return perimeter\n",
    "\n",
    "def calculate_price(map):\n",
    "    visited = [[False for _ in row] for row in map]\n",
    "    total_price = 0\n",
    "    directions = [(0, 1), (0, -1), (1, 0), (-1, 0)]\n",
    "    for r in range(len(map)):\n",
    "        for c in range(len(map[0])):\n",
    "            if not visited[r][c]:\n",
    "                region_plots = []\n",
    "                n = dfs(r, c, map[r][c], visited, region_plots, directions, map)\n",
    "                p = calculate_perimeter(region_plots, map)\n",
    "                total_price += n * p\n",
    "    return total_price\n",
    "\n",
    "map = read_map('input.txt')\n",
    "print(calculate_price(map))"
   ]
  },
  {
   "cell_type": "markdown",
   "metadata": {},
   "source": [
    "## Part 2"
   ]
  },
  {
   "cell_type": "code",
   "execution_count": 5,
   "metadata": {},
   "outputs": [
    {
     "name": "stdout",
     "output_type": "stream",
     "text": [
      "1449902\n"
     ]
    }
   ],
   "source": [
    "def read_map(filename):\n",
    "    with open(filename, 'r') as f:\n",
    "        return [list(line.strip()) for line in f.readlines()]\n",
    "\n",
    "def dfs(row, col, map, region_type, directions, visited, region_plots):\n",
    "    if (row < 0 or row >= len(map) or col < 0 or col >= len(map[0]) or\n",
    "        visited[row][col] or map[row][col] != region_type):\n",
    "        return 0\n",
    "    visited[row][col] = True\n",
    "    region_plots.append((row, col))\n",
    "    return 1 + sum(dfs(row + dr, col + dc, map, region_type, directions, visited, region_plots)\n",
    "                   for dr, dc in directions)\n",
    "\n",
    "def calculate_perimeter(region_plots, map):\n",
    "    perimeter = 0\n",
    "    rows, cols = len(map), len(map[0])\n",
    "    for r, c in region_plots:\n",
    "        for dr, dc in [(-1, 0), (1, 0), (0, -1), (0, 1)]:\n",
    "            nr, nc = r + dr, c + dc\n",
    "            if nr < 0 or nr >= rows or nc < 0 or nc >= cols or map[nr][nc] != map[r][c]:\n",
    "                perimeter += 1\n",
    "    return perimeter\n",
    "\n",
    "def calculate_price(map):\n",
    "    visited = [[False for _ in row] for row in map]\n",
    "    directions = [(0, 1), (0, -1), (1, 0), (-1, 0)]\n",
    "    total_price = 0\n",
    "    for r in range(len(map)):\n",
    "        for c in range(len(map[0])):\n",
    "            if not visited[r][c]:\n",
    "                region_plots = []\n",
    "                n = dfs(r, c, map, map[r][c], directions, visited, region_plots)\n",
    "                p = calculate_perimeter(region_plots, map)\n",
    "                total_price += n * p\n",
    "    return total_price\n",
    "\n",
    "map = read_map('input.txt')\n",
    "print(calculate_price(map))"
   ]
  }
 ],
 "metadata": {
  "kernelspec": {
   "display_name": "AdventOfCode",
   "language": "python",
   "name": "python3"
  },
  "language_info": {
   "codemirror_mode": {
    "name": "ipython",
    "version": 3
   },
   "file_extension": ".py",
   "mimetype": "text/x-python",
   "name": "python",
   "nbconvert_exporter": "python",
   "pygments_lexer": "ipython3",
   "version": "3.10.15"
  }
 },
 "nbformat": 4,
 "nbformat_minor": 2
}
