{
 "cells": [
  {
   "cell_type": "markdown",
   "metadata": {},
   "source": [
    "# Day 12 - GPT 4o (GHC)"
   ]
  },
  {
   "cell_type": "code",
   "execution_count": 4,
   "metadata": {},
   "outputs": [
    {
     "name": "stdout",
     "output_type": "stream",
     "text": [
      "2853252\n"
     ]
    }
   ],
   "source": [
    "def read_input(file_name):\n",
    "    with open(file_name, 'r') as file:\n",
    "        return [list(line.strip()) for line in file]\n",
    "\n",
    "def get_neighbors(x, y, rows, cols):\n",
    "    neighbors = []\n",
    "    if x > 0:\n",
    "        neighbors.append((x-1, y))\n",
    "    if x < rows - 1:\n",
    "        neighbors.append((x+1, y))\n",
    "    if y > 0:\n",
    "        neighbors.append((x, y-1))\n",
    "    if y < cols - 1:\n",
    "        neighbors.append((x, y+1))\n",
    "    return neighbors\n",
    "\n",
    "def flood_fill(map, x, y, visited):\n",
    "    stack = [(x, y)]\n",
    "    region = []\n",
    "    while stack:\n",
    "        cx, cy = stack.pop()\n",
    "        if (cx, cy) in visited:\n",
    "            continue\n",
    "        visited.add((cx, cy))\n",
    "        region.append((cx, cy))\n",
    "        for nx, ny in get_neighbors(cx, cy, len(map), len(map[0])):\n",
    "            if map[nx][ny] == map[cx][cy] and (nx, ny) not in visited:\n",
    "                stack.append((nx, ny))\n",
    "    return region\n",
    "\n",
    "def calculate_perimeter(map, region):\n",
    "    perimeter = 0\n",
    "    for x, y in region:\n",
    "        for nx, ny in get_neighbors(x, y, len(map), len(map[0])):\n",
    "            if map[nx][ny] != map[x][y]:\n",
    "                perimeter += 1\n",
    "        # Check for edges of the map\n",
    "        if x == 0 or map[x-1][y] != map[x][y]:\n",
    "            perimeter += 1\n",
    "        if x == len(map) - 1 or map[x+1][y] != map[x][y]:\n",
    "            perimeter += 1\n",
    "        if y == 0 or map[x][y-1] != map[x][y]:\n",
    "            perimeter += 1\n",
    "        if y == len(map[0]) - 1 or map[x][y+1] != map[x][y]:\n",
    "            perimeter += 1\n",
    "    return perimeter\n",
    "\n",
    "def calculate_total_price(map):\n",
    "    visited = set()\n",
    "    total_price = 0\n",
    "    for x in range(len(map)):\n",
    "        for y in range(len(map[0])):\n",
    "            if (x, y) not in visited:\n",
    "                region = flood_fill(map, x, y, visited)\n",
    "                area = len(region)\n",
    "                perimeter = calculate_perimeter(map, region)\n",
    "                total_price += area * perimeter\n",
    "    return total_price\n",
    "\n",
    "if __name__ == \"__main__\":\n",
    "    map = read_input(\"input.txt\")\n",
    "    total_price = calculate_total_price(map)\n",
    "    print(total_price)"
   ]
  },
  {
   "cell_type": "markdown",
   "metadata": {},
   "source": [
    "## Part 2"
   ]
  },
  {
   "cell_type": "code",
   "execution_count": null,
   "metadata": {},
   "outputs": [],
   "source": []
  }
 ],
 "metadata": {
  "kernelspec": {
   "display_name": "AdventOfCode",
   "language": "python",
   "name": "python3"
  },
  "language_info": {
   "codemirror_mode": {
    "name": "ipython",
    "version": 3
   },
   "file_extension": ".py",
   "mimetype": "text/x-python",
   "name": "python",
   "nbconvert_exporter": "python",
   "pygments_lexer": "ipython3",
   "version": "3.10.15"
  }
 },
 "nbformat": 4,
 "nbformat_minor": 2
}
