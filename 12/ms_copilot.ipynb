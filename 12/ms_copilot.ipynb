{
 "cells": [
  {
   "cell_type": "markdown",
   "metadata": {},
   "source": [
    "# Day 12 - MS Copilot"
   ]
  },
  {
   "cell_type": "code",
   "execution_count": 2,
   "metadata": {},
   "outputs": [
    {
     "name": "stdout",
     "output_type": "stream",
     "text": [
      "Total price of fencing all regions: 1449902\n"
     ]
    }
   ],
   "source": [
    "from collections import deque\n",
    "\n",
    "def read_map(filename):\n",
    "    with open(filename, 'r') as file:\n",
    "        return [list(line.strip()) for line in file]\n",
    "\n",
    "def in_bounds(x, y, rows, cols):\n",
    "    return 0 <= x < rows and 0 <= y < cols\n",
    "\n",
    "def get_neighbors(x, y):\n",
    "    return [(x-1, y), (x+1, y), (x, y-1), (x, y+1)]\n",
    "\n",
    "def bfs(map_, visited, x, y):\n",
    "    rows, cols = len(map_), len(map_[0])\n",
    "    region_type = map_[x][y]\n",
    "    queue = deque([(x, y)])\n",
    "    visited[x][y] = True\n",
    "    area = 0\n",
    "    perimeter = 0\n",
    "    \n",
    "    while queue:\n",
    "        cx, cy = queue.popleft()\n",
    "        area += 1\n",
    "        border_sides = 0\n",
    "        for nx, ny in get_neighbors(cx, cy):\n",
    "            if in_bounds(nx, ny, rows, cols):\n",
    "                if map_[nx][ny] == region_type and not visited[nx][ny]:\n",
    "                    visited[nx][ny] = True\n",
    "                    queue.append((nx, ny))\n",
    "                elif map_[nx][ny] != region_type:\n",
    "                    border_sides += 1\n",
    "            else:\n",
    "                border_sides += 1\n",
    "        perimeter += border_sides\n",
    "    \n",
    "    return area, perimeter\n",
    "\n",
    "def calculate_fencing_cost(map_):\n",
    "    rows, cols = len(map_), len(map_[0])\n",
    "    visited = [[False] * cols for _ in range(rows)]\n",
    "    total_cost = 0\n",
    "    \n",
    "    for x in range(rows):\n",
    "        for y in range(cols):\n",
    "            if not visited[x][y]:\n",
    "                area, perimeter = bfs(map_, visited, x, y)\n",
    "                total_cost += area * perimeter\n",
    "    \n",
    "    return total_cost\n",
    "\n",
    "if __name__ == \"__main__\":\n",
    "    map_ = read_map('input.txt')\n",
    "    total_cost = calculate_fencing_cost(map_)\n",
    "    print(f\"Total price of fencing all regions: {total_cost}\")\n"
   ]
  },
  {
   "cell_type": "markdown",
   "metadata": {},
   "source": [
    "## Part 2"
   ]
  },
  {
   "cell_type": "code",
   "execution_count": 6,
   "metadata": {},
   "outputs": [
    {
     "name": "stdout",
     "output_type": "stream",
     "text": [
      "New total price of fencing all regions: 1449902\n"
     ]
    }
   ],
   "source": [
    "from collections import deque\n",
    "\n",
    "def read_map(filename):\n",
    "    with open(filename, 'r') as file:\n",
    "        return [list(line.strip()) for line in file]\n",
    "\n",
    "def in_bounds(x, y, rows, cols):\n",
    "    return 0 <= x < rows and 0 <= y < cols\n",
    "\n",
    "def get_neighbors(x, y):\n",
    "    return [(x-1, y), (x+1, y), (x, y-1), (x, y+1)]\n",
    "\n",
    "def bfs(map_, visited, x, y):\n",
    "    rows, cols = len(map_), len(map_[0])\n",
    "    region_type = map_[x][y]\n",
    "    queue = deque([(x, y)])\n",
    "    visited[x][y] = True\n",
    "    area = 0\n",
    "    sides = 0\n",
    "    \n",
    "    while queue:\n",
    "        cx, cy = queue.popleft()\n",
    "        area += 1\n",
    "        for nx, ny in get_neighbors(cx, cy):\n",
    "            if in_bounds(nx, ny, rows, cols):\n",
    "                if map_[nx][ny] == region_type and not visited[nx][ny]:\n",
    "                    visited[nx][ny] = True\n",
    "                    queue.append((nx, ny))\n",
    "                elif map_[nx][ny] != region_type:\n",
    "                    sides += 1\n",
    "            else:\n",
    "                sides += 1\n",
    "    \n",
    "    return area, sides\n",
    "\n",
    "def calculate_fencing_cost(map_):\n",
    "    rows, cols = len(map_), len(map_[0])\n",
    "    visited = [[False] * cols for _ in range(rows)]\n",
    "    total_cost = 0\n",
    "    \n",
    "    for x in range(rows):\n",
    "        for y in range(cols):\n",
    "            if not visited[x][y]:\n",
    "                area, sides = bfs(map_, visited, x, y)\n",
    "                total_cost += area * sides\n",
    "    \n",
    "    return total_cost\n",
    "\n",
    "if __name__ == \"__main__\":\n",
    "    map_ = read_map('input.txt')\n",
    "    total_cost = calculate_fencing_cost(map_)\n",
    "    print(f\"New total price of fencing all regions: {total_cost}\")\n"
   ]
  }
 ],
 "metadata": {
  "kernelspec": {
   "display_name": "AdventOfCode",
   "language": "python",
   "name": "python3"
  },
  "language_info": {
   "codemirror_mode": {
    "name": "ipython",
    "version": 3
   },
   "file_extension": ".py",
   "mimetype": "text/x-python",
   "name": "python",
   "nbconvert_exporter": "python",
   "pygments_lexer": "ipython3",
   "version": "3.10.15"
  }
 },
 "nbformat": 4,
 "nbformat_minor": 2
}
