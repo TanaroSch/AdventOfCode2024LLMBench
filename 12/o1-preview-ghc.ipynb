{
 "cells": [
  {
   "cell_type": "markdown",
   "metadata": {},
   "source": [
    "# Day 12 - o1-preview (GHC)"
   ]
  },
  {
   "cell_type": "code",
   "execution_count": 1,
   "metadata": {},
   "outputs": [
    {
     "name": "stdout",
     "output_type": "stream",
     "text": [
      "1449902\n"
     ]
    }
   ],
   "source": [
    "with open('input.txt', 'r') as f:\n",
    "    grid = [list(line.strip()) for line in f if line.strip()]\n",
    "\n",
    "rows = len(grid)\n",
    "cols = len(grid[0]) if rows > 0 else 0\n",
    "visited = [[False for _ in range(cols)] for _ in range(rows)]\n",
    "\n",
    "total_price = 0\n",
    "\n",
    "def dfs(r, c, plant_type, region_cells):\n",
    "    stack = [(r, c)]\n",
    "    visited[r][c] = True\n",
    "    while stack:\n",
    "        i, j = stack.pop()\n",
    "        region_cells.append((i, j))\n",
    "        for dr, dc in [(-1,0), (1,0), (0,-1), (0,1)]:\n",
    "            ni, nj = i + dr, j + dc\n",
    "            if 0 <= ni < rows and 0 <= nj < cols:\n",
    "                if not visited[ni][nj] and grid[ni][nj] == plant_type:\n",
    "                    visited[ni][nj] = True\n",
    "                    stack.append((ni, nj))\n",
    "\n",
    "for i in range(rows):\n",
    "    for j in range(cols):\n",
    "        if not visited[i][j]:\n",
    "            region_cells = []\n",
    "            plant_type = grid[i][j]\n",
    "            dfs(i, j, plant_type, region_cells)\n",
    "            area = len(region_cells)\n",
    "            perimeter = 0\n",
    "            for r, c in region_cells:\n",
    "                sides = 4\n",
    "                for dr, dc in [(-1,0), (1,0), (0,-1), (0,1)]:\n",
    "                    nr, nc = r + dr, c + dc\n",
    "                    if 0 <= nr < rows and 0 <= nc < cols:\n",
    "                        if grid[nr][nc] == plant_type:\n",
    "                            sides -= 1\n",
    "                perimeter += sides\n",
    "            price = area * perimeter\n",
    "            total_price += price\n",
    "\n",
    "print(total_price)"
   ]
  },
  {
   "cell_type": "markdown",
   "metadata": {},
   "source": [
    "## Part 2"
   ]
  },
  {
   "cell_type": "code",
   "execution_count": 7,
   "metadata": {},
   "outputs": [
    {
     "name": "stdout",
     "output_type": "stream",
     "text": [
      "66401\n"
     ]
    }
   ],
   "source": [
    "with open('input.txt', 'r') as f:\n",
    "    grid = [list(line.strip()) for line in f if line.strip()]\n",
    "\n",
    "rows = len(grid)\n",
    "cols = len(grid[0]) if rows > 0 else 0\n",
    "\n",
    "visited = [[False]*cols for _ in range(rows)]\n",
    "total_price = 0\n",
    "\n",
    "def is_boundary(r, c, plant_type):\n",
    "    for dr, dc in [(-1,0), (0,1), (1,0), (0,-1)]:\n",
    "        nr, nc = r + dr, c + dc\n",
    "        if not (0 <= nr < rows and 0 <= nc < cols) or grid[nr][nc] != plant_type:\n",
    "            return True\n",
    "    return False\n",
    "\n",
    "def dfs(r, c, plant_type):\n",
    "    stack = [(r, c)]\n",
    "    region_cells = set()\n",
    "    visited[r][c] = True\n",
    "    while stack:\n",
    "        i, j = stack.pop()\n",
    "        region_cells.add((i, j))\n",
    "        for dr, dc in [(-1,0), (1,0), (0,-1), (0,1)]:\n",
    "            ni, nj = i + dr, j + dc\n",
    "            if 0 <= ni < rows and 0 <= nj < cols:\n",
    "                if not visited[ni][nj] and grid[ni][nj] == plant_type:\n",
    "                    visited[ni][nj] = True\n",
    "                    stack.append((ni, nj))\n",
    "    return region_cells\n",
    "\n",
    "def trace_boundary(region_cells, plant_type):\n",
    "    # Find boundary cells\n",
    "    boundary_cells = []\n",
    "    for r, c in region_cells:\n",
    "        if is_boundary(r, c, plant_type):\n",
    "            boundary_cells.append((r, c))\n",
    "\n",
    "    # Start from the smallest boundary cell coordinate\n",
    "    start_cell = min(boundary_cells)\n",
    "    current_cell = start_cell\n",
    "    boundary = []\n",
    "    chain_code = []\n",
    "    directions = [(-1,0), (0,1), (1,0), (0,-1)]  # N, E, S, W\n",
    "    dir_indices = {(-1,0):0, (0,1):1, (1,0):2, (0,-1):3}\n",
    "    previous_direction = None\n",
    "    visited_boundary = set()\n",
    "\n",
    "    while True:\n",
    "        if (current_cell, previous_direction) in visited_boundary:\n",
    "            break\n",
    "        visited_boundary.add((current_cell, previous_direction))\n",
    "        for idx, (dr, dc) in enumerate(directions):\n",
    "            nr, nc = current_cell[0] + dr, current_cell[1] + dc\n",
    "            if not (0 <= nr < rows and 0 <= nc < cols) or grid[nr][nc] != plant_type:\n",
    "                continue\n",
    "            if is_boundary(nr, nc, plant_type):\n",
    "                if previous_direction != idx:\n",
    "                    chain_code.append(idx)\n",
    "                previous_direction = idx\n",
    "                current_cell = (nr, nc)\n",
    "                break\n",
    "        else:\n",
    "            break\n",
    "        if current_cell == start_cell and previous_direction == chain_code[0]:\n",
    "            break\n",
    "\n",
    "    if not chain_code:\n",
    "        sides = 4  # Single cell region\n",
    "    else:\n",
    "        sides = 1\n",
    "        for i in range(1, len(chain_code)):\n",
    "            if chain_code[i] != chain_code[i-1]:\n",
    "                sides += 1\n",
    "    return sides\n",
    "\n",
    "for i in range(rows):\n",
    "    for j in range(cols):\n",
    "        if not visited[i][j]:\n",
    "            plant_type = grid[i][j]\n",
    "            region_cells = dfs(i, j, plant_type)\n",
    "            area = len(region_cells)\n",
    "            sides = trace_boundary(region_cells, plant_type)\n",
    "            price = area * sides\n",
    "            total_price += price\n",
    "\n",
    "print(total_price)"
   ]
  }
 ],
 "metadata": {
  "kernelspec": {
   "display_name": "AdventOfCode",
   "language": "python",
   "name": "python3"
  },
  "language_info": {
   "codemirror_mode": {
    "name": "ipython",
    "version": 3
   },
   "file_extension": ".py",
   "mimetype": "text/x-python",
   "name": "python",
   "nbconvert_exporter": "python",
   "pygments_lexer": "ipython3",
   "version": "3.10.15"
  }
 },
 "nbformat": 4,
 "nbformat_minor": 2
}
