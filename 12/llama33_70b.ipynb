{
 "cells": [
  {
   "cell_type": "markdown",
   "metadata": {},
   "source": [
    "# Day 12 - Llama 3.3 70B"
   ]
  },
  {
   "cell_type": "code",
   "execution_count": 1,
   "metadata": {},
   "outputs": [
    {
     "name": "stdout",
     "output_type": "stream",
     "text": [
      "1449902\n"
     ]
    }
   ],
   "source": [
    "from collections import deque\n",
    "\n",
    "def calculate_total_price(map_data):\n",
    "    \"\"\"\n",
    "    Calculate the total price of fencing all regions on the map.\n",
    "\n",
    "    Args:\n",
    "    map_data (list): A 2D list representing the garden map.\n",
    "\n",
    "    Returns:\n",
    "    int: The total price of fencing all regions.\n",
    "    \"\"\"\n",
    "    rows, cols = len(map_data), len(map_data[0])\n",
    "    visited = [[False] * cols for _ in range(rows)]\n",
    "\n",
    "    total_price = 0\n",
    "\n",
    "    # Define the possible directions for DFS\n",
    "    directions = [(0, 1), (0, -1), (1, 0), (-1, 0)]\n",
    "\n",
    "    def dfs(r, c, region):\n",
    "        \"\"\"\n",
    "        Perform DFS to find the area and perimeter of a region.\n",
    "\n",
    "        Args:\n",
    "        r (int): The current row index.\n",
    "        c (int): The current column index.\n",
    "        region (list): A list to store the cells in the current region.\n",
    "\n",
    "        Returns:\n",
    "        tuple: A tuple containing the area and perimeter of the region.\n",
    "        \"\"\"\n",
    "        visited[r][c] = True\n",
    "        region.append((r, c))\n",
    "\n",
    "        area = 1\n",
    "        perimeter = 0\n",
    "\n",
    "        for dr, dc in directions:\n",
    "            nr, nc = r + dr, c + dc\n",
    "\n",
    "            if 0 <= nr < rows and 0 <= nc < cols:\n",
    "                if map_data[nr][nc] == map_data[r][c]:\n",
    "                    if not visited[nr][nc]:\n",
    "                        a, p = dfs(nr, nc, region)\n",
    "                        area += a\n",
    "                        perimeter += p\n",
    "                else:\n",
    "                    perimeter += 1\n",
    "            else:\n",
    "                perimeter += 1\n",
    "\n",
    "        return area, perimeter\n",
    "\n",
    "    for r in range(rows):\n",
    "        for c in range(cols):\n",
    "            if not visited[r][c]:\n",
    "                region = []\n",
    "                area, perimeter = dfs(r, c, region)\n",
    "                total_price += area * perimeter\n",
    "\n",
    "    return total_price\n",
    "\n",
    "def main():\n",
    "    with open('input.txt', 'r') as f:\n",
    "        map_data = [list(line.strip()) for line in f.readlines()]\n",
    "\n",
    "    global rows, cols\n",
    "    rows, cols = len(map_data), len(map_data[0])\n",
    "\n",
    "    total_price = calculate_total_price(map_data)\n",
    "    print(total_price)\n",
    "\n",
    "if __name__ == \"__main__\":\n",
    "    main()"
   ]
  },
  {
   "cell_type": "markdown",
   "metadata": {},
   "source": [
    "## Part 2"
   ]
  },
  {
   "cell_type": "code",
   "execution_count": 4,
   "metadata": {},
   "outputs": [
    {
     "name": "stdout",
     "output_type": "stream",
     "text": [
      "1449902\n"
     ]
    }
   ],
   "source": [
    "def calculate_total_price(map_data):\n",
    "    rows, cols = len(map_data), len(map_data[0])\n",
    "    visited = [[False] * cols for _ in range(rows)]\n",
    "\n",
    "    total_price = 0\n",
    "\n",
    "    def dfs(r, c, region):\n",
    "        visited[r][c] = True\n",
    "        region.append((r, c))\n",
    "\n",
    "        for dr, dc in [(0, 1), (0, -1), (1, 0), (-1, 0)]:\n",
    "            nr, nc = r + dr, c + dc\n",
    "            if 0 <= nr < rows and 0 <= nc < cols and map_data[nr][nc] == map_data[r][c] and not visited[nr][nc]:\n",
    "                dfs(nr, nc, region)\n",
    "\n",
    "    def count_sides(region):\n",
    "        sides = 0\n",
    "        for r, c in region:\n",
    "            for dr, dc in [(0, 1), (0, -1), (1, 0), (-1, 0)]:\n",
    "                nr, nc = r + dr, c + dc\n",
    "                if not (0 <= nr < rows and 0 <= nc < cols) or map_data[nr][nc]!= map_data[r][c]:\n",
    "                    sides += 1\n",
    "        return sides\n",
    "\n",
    "    for r in range(rows):\n",
    "        for c in range(cols):\n",
    "            if not visited[r][c]:\n",
    "                region = []\n",
    "                dfs(r, c, region)\n",
    "                area = len(region)\n",
    "                sides = count_sides(region)\n",
    "                total_price += area * sides\n",
    "\n",
    "    return total_price\n",
    "\n",
    "def main():\n",
    "    with open('input.txt', 'r') as f:\n",
    "        map_data = [list(line.strip()) for line in f.readlines()]\n",
    "\n",
    "    total_price = calculate_total_price(map_data)\n",
    "    print(total_price)\n",
    "\n",
    "if __name__ == \"__main__\":\n",
    "    main()"
   ]
  }
 ],
 "metadata": {
  "kernelspec": {
   "display_name": "AdventOfCode",
   "language": "python",
   "name": "python3"
  },
  "language_info": {
   "codemirror_mode": {
    "name": "ipython",
    "version": 3
   },
   "file_extension": ".py",
   "mimetype": "text/x-python",
   "name": "python",
   "nbconvert_exporter": "python",
   "pygments_lexer": "ipython3",
   "version": "3.10.15"
  }
 },
 "nbformat": 4,
 "nbformat_minor": 2
}
