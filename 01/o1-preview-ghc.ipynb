{
 "cells": [
  {
   "cell_type": "markdown",
   "metadata": {},
   "source": [
    "# Day 1 - o1-preview (GHC)"
   ]
  },
  {
   "cell_type": "code",
   "execution_count": 1,
   "metadata": {},
   "outputs": [
    {
     "name": "stdout",
     "output_type": "stream",
     "text": [
      "1603498\n"
     ]
    }
   ],
   "source": [
    "left_list = []\n",
    "right_list = []\n",
    "\n",
    "with open('input.txt', 'r') as f:\n",
    "    for line in f:\n",
    "        line = line.strip()\n",
    "        if line:\n",
    "            parts = line.split()\n",
    "            if len(parts) >= 2:\n",
    "                left_list.append(int(parts[0]))\n",
    "                right_list.append(int(parts[1]))\n",
    "\n",
    "left_list.sort()\n",
    "right_list.sort()\n",
    "\n",
    "total_distance = sum(abs(l - r) for l, r in zip(left_list, right_list))\n",
    "\n",
    "print(total_distance)"
   ]
  },
  {
   "cell_type": "markdown",
   "metadata": {},
   "source": [
    "## Part 2"
   ]
  },
  {
   "cell_type": "code",
   "execution_count": 2,
   "metadata": {},
   "outputs": [
    {
     "name": "stdout",
     "output_type": "stream",
     "text": [
      "25574739\n"
     ]
    }
   ],
   "source": [
    "left_list = []\n",
    "right_list = []\n",
    "\n",
    "with open('input.txt', 'r') as f:\n",
    "    for line in f:\n",
    "        line = line.strip()\n",
    "        if line:\n",
    "            parts = line.split()\n",
    "            if len(parts) >= 2:\n",
    "                left_list.append(int(parts[0]))\n",
    "                right_list.append(int(parts[1]))\n",
    "\n",
    "from collections import Counter\n",
    "\n",
    "right_counts = Counter(right_list)\n",
    "\n",
    "total_similarity_score = 0\n",
    "for num in left_list:\n",
    "    count = right_counts.get(num, 0)\n",
    "    total_similarity_score += num * count\n",
    "\n",
    "print(total_similarity_score)"
   ]
  }
 ],
 "metadata": {
  "kernelspec": {
   "display_name": "AdventOfCode",
   "language": "python",
   "name": "python3"
  },
  "language_info": {
   "codemirror_mode": {
    "name": "ipython",
    "version": 3
   },
   "file_extension": ".py",
   "mimetype": "text/x-python",
   "name": "python",
   "nbconvert_exporter": "python",
   "pygments_lexer": "ipython3",
   "version": "3.10.15"
  }
 },
 "nbformat": 4,
 "nbformat_minor": 2
}
