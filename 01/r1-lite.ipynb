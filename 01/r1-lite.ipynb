{
 "cells": [
  {
   "cell_type": "markdown",
   "metadata": {},
   "source": [
    "# Day 1 - Deepseek R1 Lite"
   ]
  },
  {
   "cell_type": "code",
   "execution_count": 1,
   "metadata": {},
   "outputs": [
    {
     "name": "stdout",
     "output_type": "stream",
     "text": [
      "1603498\n"
     ]
    }
   ],
   "source": [
    "def calculate_total_distance(input_file):\n",
    "    left = []\n",
    "    right = []\n",
    "    with open(input_file, 'r') as f:\n",
    "        for line in f:\n",
    "            a, b = map(int, line.strip().split())\n",
    "            left.append(a)\n",
    "            right.append(b)\n",
    "    left_sorted = sorted(left)\n",
    "    right_sorted = sorted(right)\n",
    "    total_distance = sum(abs(a - b) for a, b in zip(left_sorted, right_sorted))\n",
    "    return total_distance\n",
    "\n",
    "# Replace 'input.txt' with the path to your input file if necessary\n",
    "total_distance = calculate_total_distance('input.txt')\n",
    "print(total_distance)"
   ]
  },
  {
   "cell_type": "markdown",
   "metadata": {},
   "source": [
    "## Part 2"
   ]
  },
  {
   "cell_type": "code",
   "execution_count": 2,
   "metadata": {},
   "outputs": [
    {
     "name": "stdout",
     "output_type": "stream",
     "text": [
      "25574739\n"
     ]
    }
   ],
   "source": [
    "from collections import Counter\n",
    "\n",
    "def calculate_similarity_score(input_file):\n",
    "    left = []\n",
    "    right = []\n",
    "    with open(input_file, 'r') as f:\n",
    "        for line in f:\n",
    "            parts = line.strip().split()\n",
    "            if len(parts) != 2:\n",
    "                continue  # Skip lines that don't have exactly two numbers\n",
    "            a, b = map(int, parts)\n",
    "            left.append(a)\n",
    "            right.append(b)\n",
    "    frequency_counter = Counter(right)\n",
    "    total_score = 0\n",
    "    for num in left:\n",
    "        total_score += num * frequency_counter.get(num, 0)\n",
    "    return total_score\n",
    "\n",
    "# Replace 'input.txt' with the path to your input file if necessary\n",
    "similarity_score = calculate_similarity_score('input.txt')\n",
    "print(similarity_score)"
   ]
  }
 ],
 "metadata": {
  "kernelspec": {
   "display_name": "AdventOfCode",
   "language": "python",
   "name": "python3"
  },
  "language_info": {
   "codemirror_mode": {
    "name": "ipython",
    "version": 3
   },
   "file_extension": ".py",
   "mimetype": "text/x-python",
   "name": "python",
   "nbconvert_exporter": "python",
   "pygments_lexer": "ipython3",
   "version": "3.10.15"
  }
 },
 "nbformat": 4,
 "nbformat_minor": 2
}
