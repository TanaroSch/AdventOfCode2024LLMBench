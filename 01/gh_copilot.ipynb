{
 "cells": [
  {
   "cell_type": "markdown",
   "metadata": {},
   "source": [
    "# Day 1 - GH Copilot"
   ]
  },
  {
   "cell_type": "code",
   "execution_count": 1,
   "metadata": {},
   "outputs": [
    {
     "name": "stdout",
     "output_type": "stream",
     "text": [
      "1603498\n"
     ]
    }
   ],
   "source": [
    "def read_input(file_name):\n",
    "    with open(file_name, 'r') as file:\n",
    "        lines = file.readlines()\n",
    "    left_list = []\n",
    "    right_list = []\n",
    "    for line in lines:\n",
    "        left, right = map(int, line.split())\n",
    "        left_list.append(left)\n",
    "        right_list.append(right)\n",
    "    return left_list, right_list\n",
    "\n",
    "def calculate_total_distance(left_list, right_list):\n",
    "    left_list.sort()\n",
    "    right_list.sort()\n",
    "    total_distance = sum(abs(l - r) for l, r in zip(left_list, right_list))\n",
    "    return total_distance\n",
    "\n",
    "def main():\n",
    "    left_list, right_list = read_input('input.txt')\n",
    "    total_distance = calculate_total_distance(left_list, right_list)\n",
    "    print(total_distance)\n",
    "\n",
    "if __name__ == \"__main__\":\n",
    "    main()"
   ]
  },
  {
   "cell_type": "markdown",
   "metadata": {},
   "source": [
    "## Part 2"
   ]
  },
  {
   "cell_type": "code",
   "execution_count": 7,
   "metadata": {},
   "outputs": [
    {
     "name": "stdout",
     "output_type": "stream",
     "text": [
      "25574739\n"
     ]
    }
   ],
   "source": [
    "from collections import Counter\n",
    "\n",
    "def read_input(file_name):\n",
    "    with open(file_name, 'r') as file:\n",
    "        lines = file.readlines()\n",
    "    left_list = []\n",
    "    right_list = []\n",
    "    for line in lines:\n",
    "        left, right = map(int, line.split())\n",
    "        left_list.append(left)\n",
    "        right_list.append(right)\n",
    "    return left_list, right_list\n",
    "\n",
    "def calculate_similarity_score(left_list, right_list):\n",
    "    right_count = Counter(right_list)\n",
    "    similarity_score = sum(num * right_count[num] for num in left_list)\n",
    "    return similarity_score\n",
    "\n",
    "def main():\n",
    "    left_list, right_list = read_input('input.txt')\n",
    "    similarity_score = calculate_similarity_score(left_list, right_list)\n",
    "    print(similarity_score)\n",
    "\n",
    "if __name__ == \"__main__\":\n",
    "    main()"
   ]
  }
 ],
 "metadata": {
  "kernelspec": {
   "display_name": "AdventOfCode",
   "language": "python",
   "name": "python3"
  },
  "language_info": {
   "codemirror_mode": {
    "name": "ipython",
    "version": 3
   },
   "file_extension": ".py",
   "mimetype": "text/x-python",
   "name": "python",
   "nbconvert_exporter": "python",
   "pygments_lexer": "ipython3",
   "version": "3.10.15"
  }
 },
 "nbformat": 4,
 "nbformat_minor": 2
}
