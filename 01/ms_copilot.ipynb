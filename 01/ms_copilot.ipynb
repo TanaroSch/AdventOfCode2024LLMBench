{
 "cells": [
  {
   "cell_type": "markdown",
   "metadata": {},
   "source": [
    "# Day 1 - MS Copilot"
   ]
  },
  {
   "cell_type": "code",
   "execution_count": 2,
   "metadata": {},
   "outputs": [
    {
     "name": "stdout",
     "output_type": "stream",
     "text": [
      "The total distance between the lists is 1603498.\n"
     ]
    }
   ],
   "source": [
    "def calculate_total_distance(file_name):\n",
    "    # Read the input file\n",
    "    with open(file_name, 'r') as file:\n",
    "        lines = file.readlines()\n",
    "\n",
    "    # Initialize two lists for left and right location IDs\n",
    "    left_list = []\n",
    "    right_list = []\n",
    "\n",
    "    # Parse the input file and populate the lists\n",
    "    for line in lines:\n",
    "        left, right = map(int, line.split())\n",
    "        left_list.append(left)\n",
    "        right_list.append(right)\n",
    "\n",
    "    # Sort both lists\n",
    "    left_list.sort()\n",
    "    right_list.sort()\n",
    "\n",
    "    # Calculate the total distance\n",
    "    total_distance = 0\n",
    "    for left, right in zip(left_list, right_list):\n",
    "        total_distance += abs(left - right)\n",
    "\n",
    "    return total_distance\n",
    "\n",
    "# Calculate and print the total distance using the input file\n",
    "total_distance = calculate_total_distance('input.txt')\n",
    "print(f\"The total distance between the lists is {total_distance}.\")"
   ]
  },
  {
   "cell_type": "markdown",
   "metadata": {},
   "source": [
    "## Part 2"
   ]
  },
  {
   "cell_type": "code",
   "execution_count": 3,
   "metadata": {},
   "outputs": [
    {
     "name": "stdout",
     "output_type": "stream",
     "text": [
      "The similarity score between the lists is 25574739.\n"
     ]
    }
   ],
   "source": [
    "from collections import Counter\n",
    "\n",
    "def calculate_similarity_score(file_name):\n",
    "    # Read the input file\n",
    "    with open(file_name, 'r') as file:\n",
    "        lines = file.readlines()\n",
    "\n",
    "    # Initialize two lists for left and right location IDs\n",
    "    left_list = []\n",
    "    right_list = []\n",
    "\n",
    "    # Parse the input file and populate the lists\n",
    "    for line in lines:\n",
    "        left, right = map(int, line.split())\n",
    "        left_list.append(left)\n",
    "        right_list.append(right)\n",
    "\n",
    "    # Count the occurrences of each number in the right list\n",
    "    right_counter = Counter(right_list)\n",
    "\n",
    "    # Calculate the total similarity score\n",
    "    similarity_score = 0\n",
    "    for number in left_list:\n",
    "        similarity_score += number * right_counter[number]\n",
    "\n",
    "    return similarity_score\n",
    "\n",
    "# Calculate and print the similarity score using the input file\n",
    "similarity_score = calculate_similarity_score('input.txt')\n",
    "print(f\"The similarity score between the lists is {similarity_score}.\")"
   ]
  }
 ],
 "metadata": {
  "kernelspec": {
   "display_name": "Python 3",
   "language": "python",
   "name": "python3"
  },
  "language_info": {
   "codemirror_mode": {
    "name": "ipython",
    "version": 3
   },
   "file_extension": ".py",
   "mimetype": "text/x-python",
   "name": "python",
   "nbconvert_exporter": "python",
   "pygments_lexer": "ipython3",
   "version": "3.11.6"
  }
 },
 "nbformat": 4,
 "nbformat_minor": 2
}
