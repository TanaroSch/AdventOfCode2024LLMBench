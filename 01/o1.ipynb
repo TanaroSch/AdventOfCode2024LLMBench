{
 "cells": [
  {
   "cell_type": "markdown",
   "metadata": {},
   "source": [
    "# Day 1 - o1"
   ]
  },
  {
   "cell_type": "code",
   "execution_count": 1,
   "metadata": {},
   "outputs": [
    {
     "name": "stdout",
     "output_type": "stream",
     "text": [
      "1603498\n"
     ]
    }
   ],
   "source": [
    "def main():\n",
    "    left_list = []\n",
    "    right_list = []\n",
    "    \n",
    "    # Read input from input.txt\n",
    "    with open('input.txt', 'r') as f:\n",
    "        for line in f:\n",
    "            if line.strip():\n",
    "                left_val, right_val = line.split()\n",
    "                left_list.append(int(left_val))\n",
    "                right_list.append(int(right_val))\n",
    "\n",
    "    # Sort both lists\n",
    "    left_list.sort()\n",
    "    right_list.sort()\n",
    "\n",
    "    # Calculate the total distance\n",
    "    total_distance = sum(abs(l - r) for l, r in zip(left_list, right_list))\n",
    "\n",
    "    # Print the result\n",
    "    print(total_distance)\n",
    "\n",
    "if __name__ == \"__main__\":\n",
    "    main()\n"
   ]
  },
  {
   "cell_type": "markdown",
   "metadata": {},
   "source": [
    "## Part 2"
   ]
  },
  {
   "cell_type": "code",
   "execution_count": 2,
   "metadata": {},
   "outputs": [
    {
     "name": "stdout",
     "output_type": "stream",
     "text": [
      "25574739\n"
     ]
    }
   ],
   "source": [
    "from collections import Counter\n",
    "\n",
    "def main():\n",
    "    left_list = []\n",
    "    right_list = []\n",
    "    \n",
    "    # Read input from input.txt\n",
    "    with open('input.txt', 'r') as f:\n",
    "        for line in f:\n",
    "            if line.strip():\n",
    "                left_val, right_val = line.split()\n",
    "                left_list.append(int(left_val))\n",
    "                right_list.append(int(right_val))\n",
    "\n",
    "    # Count occurrences of each number in the right list\n",
    "    right_counts = Counter(right_list)\n",
    "\n",
    "    # Calculate the similarity score\n",
    "    similarity_score = sum(num * right_counts[num] for num in left_list)\n",
    "\n",
    "    # Print the result\n",
    "    print(similarity_score)\n",
    "\n",
    "if __name__ == \"__main__\":\n",
    "    main()\n"
   ]
  }
 ],
 "metadata": {
  "kernelspec": {
   "display_name": "AdventOfCode",
   "language": "python",
   "name": "python3"
  },
  "language_info": {
   "codemirror_mode": {
    "name": "ipython",
    "version": 3
   },
   "file_extension": ".py",
   "mimetype": "text/x-python",
   "name": "python",
   "nbconvert_exporter": "python",
   "pygments_lexer": "ipython3",
   "version": "3.10.15"
  }
 },
 "nbformat": 4,
 "nbformat_minor": 2
}
