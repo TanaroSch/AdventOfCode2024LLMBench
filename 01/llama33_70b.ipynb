{
 "cells": [
  {
   "cell_type": "markdown",
   "metadata": {},
   "source": [
    "# Day 01 - Llama 3.3 70B"
   ]
  },
  {
   "cell_type": "code",
   "execution_count": 1,
   "metadata": {},
   "outputs": [
    {
     "name": "stdout",
     "output_type": "stream",
     "text": [
      "The final answer is 1603498\n"
     ]
    }
   ],
   "source": [
    "def calculate_distance(left, right):\n",
    "    \"\"\"\n",
    "    Calculate the total distance between two lists of numbers.\n",
    "\n",
    "    The distance is calculated by pairing up the numbers in the lists, \n",
    "    from smallest to largest, and summing up the absolute differences.\n",
    "\n",
    "    Args:\n",
    "        left (list): The first list of numbers.\n",
    "        right (list): The second list of numbers.\n",
    "\n",
    "    Returns:\n",
    "        int: The total distance between the two lists.\n",
    "    \"\"\"\n",
    "    # Sort the lists\n",
    "    left.sort()\n",
    "    right.sort()\n",
    "\n",
    "    # Calculate the total distance\n",
    "    total_distance = sum(abs(a - b) for a, b in zip(left, right))\n",
    "\n",
    "    return total_distance\n",
    "\n",
    "\n",
    "def main():\n",
    "    # Read the input from the file\n",
    "    with open('input.txt', 'r') as f:\n",
    "        lines = f.readlines()\n",
    "\n",
    "    # Split the input into two lists\n",
    "    left = []\n",
    "    right = []\n",
    "    for line in lines:\n",
    "        a, b = map(int, line.split())\n",
    "        left.append(a)\n",
    "        right.append(b)\n",
    "\n",
    "    # Calculate and print the total distance\n",
    "    total_distance = calculate_distance(left, right)\n",
    "    print(\"The final answer is\", total_distance)\n",
    "\n",
    "\n",
    "if __name__ == \"__main__\":\n",
    "    main()"
   ]
  },
  {
   "cell_type": "markdown",
   "metadata": {},
   "source": [
    "## Part 2"
   ]
  },
  {
   "cell_type": "code",
   "execution_count": 2,
   "metadata": {},
   "outputs": [
    {
     "name": "stdout",
     "output_type": "stream",
     "text": [
      "The final answer is 25574739\n"
     ]
    }
   ],
   "source": [
    "def calculate_similarity_score(left, right):\n",
    "    \"\"\"\n",
    "    Calculate the similarity score between two lists of numbers.\n",
    "\n",
    "    The similarity score is calculated by multiplying each number in the left list \n",
    "    by the number of times it appears in the right list and summing up the results.\n",
    "\n",
    "    Args:\n",
    "        left (list): The first list of numbers.\n",
    "        right (list): The second list of numbers.\n",
    "\n",
    "    Returns:\n",
    "        int: The similarity score between the two lists.\n",
    "    \"\"\"\n",
    "    # Count the occurrences of each number in the right list\n",
    "    right_counts = {}\n",
    "    for num in right:\n",
    "        if num in right_counts:\n",
    "            right_counts[num] += 1\n",
    "        else:\n",
    "            right_counts[num] = 1\n",
    "\n",
    "    # Calculate the similarity score\n",
    "    similarity_score = sum(num * right_counts.get(num, 0) for num in left)\n",
    "\n",
    "    return similarity_score\n",
    "\n",
    "\n",
    "def main():\n",
    "    # Read the input from the file\n",
    "    with open('input.txt', 'r') as f:\n",
    "        lines = f.readlines()\n",
    "\n",
    "    # Split the input into two lists\n",
    "    left = []\n",
    "    right = []\n",
    "    for line in lines:\n",
    "        a, b = map(int, line.split())\n",
    "        left.append(a)\n",
    "        right.append(b)\n",
    "\n",
    "    # Calculate and print the similarity score\n",
    "    similarity_score = calculate_similarity_score(left, right)\n",
    "    print(\"The final answer is\", similarity_score)\n",
    "\n",
    "\n",
    "if __name__ == \"__main__\":\n",
    "    main()"
   ]
  }
 ],
 "metadata": {
  "kernelspec": {
   "display_name": "AdventOfCode",
   "language": "python",
   "name": "python3"
  },
  "language_info": {
   "codemirror_mode": {
    "name": "ipython",
    "version": 3
   },
   "file_extension": ".py",
   "mimetype": "text/x-python",
   "name": "python",
   "nbconvert_exporter": "python",
   "pygments_lexer": "ipython3",
   "version": "3.10.15"
  }
 },
 "nbformat": 4,
 "nbformat_minor": 2
}
