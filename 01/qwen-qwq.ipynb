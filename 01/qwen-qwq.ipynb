{
 "cells": [
  {
   "cell_type": "markdown",
   "metadata": {},
   "source": [
    "# Day 1 - Qwen QwQ 32B"
   ]
  },
  {
   "cell_type": "code",
   "execution_count": 5,
   "metadata": {},
   "outputs": [
    {
     "name": "stdout",
     "output_type": "stream",
     "text": [
      "1603498\n"
     ]
    }
   ],
   "source": [
    "with open('input.txt', 'r') as f:\n",
    "    left_list = []\n",
    "    right_list = []\n",
    "    for line in f:\n",
    "        parts = line.strip().split()\n",
    "        if len(parts) == 2:\n",
    "            left_list.append(int(parts[0]))\n",
    "            right_list.append(int(parts[1]))\n",
    "    left_list.sort()\n",
    "    right_list.sort()\n",
    "    total_distance = sum(abs(l - r) for l, r in zip(left_list, right_list))\n",
    "    print(total_distance)"
   ]
  },
  {
   "cell_type": "markdown",
   "metadata": {},
   "source": [
    "## Part 2"
   ]
  },
  {
   "cell_type": "code",
   "execution_count": 7,
   "metadata": {},
   "outputs": [
    {
     "name": "stdout",
     "output_type": "stream",
     "text": [
      "25574739\n"
     ]
    }
   ],
   "source": [
    "from collections import Counter\n",
    "\n",
    "with open('input.txt', 'r') as f:\n",
    "    left_list = []\n",
    "    right_list = []\n",
    "    for line in f:\n",
    "        parts = line.strip().split()\n",
    "        if len(parts) == 2:\n",
    "            left_list.append(int(parts[0]))\n",
    "            right_list.append(int(parts[1]))\n",
    "    \n",
    "    # Count the frequency of each number in the right list\n",
    "    right_counter = Counter(right_list)\n",
    "    \n",
    "    # Calculate the similarity score\n",
    "    similarity_score = sum(num * right_counter[num] for num in left_list)\n",
    "    \n",
    "    print(similarity_score)"
   ]
  }
 ],
 "metadata": {
  "kernelspec": {
   "display_name": "AdventOfCode",
   "language": "python",
   "name": "python3"
  },
  "language_info": {
   "codemirror_mode": {
    "name": "ipython",
    "version": 3
   },
   "file_extension": ".py",
   "mimetype": "text/x-python",
   "name": "python",
   "nbconvert_exporter": "python",
   "pygments_lexer": "ipython3",
   "version": "3.10.15"
  }
 },
 "nbformat": 4,
 "nbformat_minor": 2
}
