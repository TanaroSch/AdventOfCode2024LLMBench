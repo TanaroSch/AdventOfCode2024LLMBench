{
 "cells": [
  {
   "cell_type": "markdown",
   "metadata": {},
   "source": [
    "# Day 1 - Claude"
   ]
  },
  {
   "cell_type": "code",
   "execution_count": 1,
   "metadata": {},
   "outputs": [
    {
     "name": "stdout",
     "output_type": "stream",
     "text": [
      "The total distance between the lists is: 1603498\n"
     ]
    }
   ],
   "source": [
    "def calculate_distance(input_file):\n",
    "    # Read and parse input into two lists\n",
    "    left_list = []\n",
    "    right_list = []\n",
    "    \n",
    "    with open(input_file) as f:\n",
    "        for line in f:\n",
    "            # Split each line and convert to integers\n",
    "            left, right = map(int, line.strip().split())\n",
    "            left_list.append(left)\n",
    "            right_list.append(right)\n",
    "    \n",
    "    # Sort both lists\n",
    "    left_list.sort()\n",
    "    right_list.sort()\n",
    "    \n",
    "    # Calculate total distance between pairs\n",
    "    total_distance = 0\n",
    "    for i in range(len(left_list)):\n",
    "        distance = abs(left_list[i] - right_list[i])\n",
    "        total_distance += distance\n",
    "        \n",
    "    return total_distance\n",
    "\n",
    "# Read input file and calculate result\n",
    "if __name__ == \"__main__\":\n",
    "    result = calculate_distance(\"input.txt\")\n",
    "    print(f\"The total distance between the lists is: {result}\")"
   ]
  },
  {
   "cell_type": "markdown",
   "metadata": {},
   "source": [
    "## Part 2"
   ]
  },
  {
   "cell_type": "code",
   "execution_count": 2,
   "metadata": {},
   "outputs": [
    {
     "name": "stdout",
     "output_type": "stream",
     "text": [
      "The similarity score between the lists is: 25574739\n"
     ]
    }
   ],
   "source": [
    "def calculate_similarity_score(input_file):\n",
    "    # Read and parse input into two lists\n",
    "    left_list = []\n",
    "    right_list = []\n",
    "    \n",
    "    with open(input_file) as f:\n",
    "        for line in f:\n",
    "            # Split each line and convert to integers\n",
    "            left, right = map(int, line.strip().split())\n",
    "            left_list.append(left)\n",
    "            right_list.append(right)\n",
    "    \n",
    "    # Calculate similarity score\n",
    "    total_score = 0\n",
    "    \n",
    "    # For each number in the left list\n",
    "    for num in left_list:\n",
    "        # Count how many times it appears in the right list\n",
    "        count_in_right = right_list.count(num)\n",
    "        # Add to total score (number * count)\n",
    "        score = num * count_in_right\n",
    "        total_score += score\n",
    "        \n",
    "    return total_score\n",
    "\n",
    "# Read input file and calculate result\n",
    "if __name__ == \"__main__\":\n",
    "    result = calculate_similarity_score(\"input.txt\")\n",
    "    print(f\"The similarity score between the lists is: {result}\")"
   ]
  }
 ],
 "metadata": {
  "kernelspec": {
   "display_name": "AdventOfCode",
   "language": "python",
   "name": "python3"
  },
  "language_info": {
   "codemirror_mode": {
    "name": "ipython",
    "version": 3
   },
   "file_extension": ".py",
   "mimetype": "text/x-python",
   "name": "python",
   "nbconvert_exporter": "python",
   "pygments_lexer": "ipython3",
   "version": "3.10.15"
  }
 },
 "nbformat": 4,
 "nbformat_minor": 2
}
