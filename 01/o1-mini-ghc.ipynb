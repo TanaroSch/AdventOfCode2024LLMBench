{
 "cells": [
  {
   "cell_type": "markdown",
   "metadata": {},
   "source": [
    "# Day 1 - o1-mini (GHC)"
   ]
  },
  {
   "cell_type": "code",
   "execution_count": 1,
   "metadata": {},
   "outputs": [
    {
     "name": "stdout",
     "output_type": "stream",
     "text": [
      "1603498\n"
     ]
    }
   ],
   "source": [
    "# Read the input file and parse the two lists\n",
    "left_list = []\n",
    "right_list = []\n",
    "\n",
    "with open('input.txt', 'r') as file:\n",
    "    for line in file:\n",
    "        if line.strip():\n",
    "            left, right = map(int, line.strip().split())\n",
    "            left_list.append(left)\n",
    "            right_list.append(right)\n",
    "\n",
    "# Sort both lists\n",
    "left_list.sort()\n",
    "right_list.sort()\n",
    "\n",
    "# Calculate the total distance\n",
    "total_distance = sum(abs(a - b) for a, b in zip(left_list, right_list))\n",
    "\n",
    "# Print the result\n",
    "print(total_distance)"
   ]
  },
  {
   "cell_type": "markdown",
   "metadata": {},
   "source": [
    "## Part 2"
   ]
  },
  {
   "cell_type": "code",
   "execution_count": 2,
   "metadata": {},
   "outputs": [
    {
     "name": "stdout",
     "output_type": "stream",
     "text": [
      "25574739\n"
     ]
    }
   ],
   "source": [
    "from collections import Counter\n",
    "\n",
    "# Read the input file and parse the two lists\n",
    "left_list = []\n",
    "right_list = []\n",
    "\n",
    "with open('input.txt', 'r') as file:\n",
    "    for line in file:\n",
    "        if line.strip():\n",
    "            left, right = map(int, line.strip().split())\n",
    "            left_list.append(left)\n",
    "            right_list.append(right)\n",
    "\n",
    "# Count the occurrences of each number in the right list\n",
    "right_counts = Counter(right_list)\n",
    "\n",
    "# Calculate the total similarity score\n",
    "similarity_score = sum(num * right_counts.get(num, 0) for num in left_list)\n",
    "\n",
    "# Print the result\n",
    "print(similarity_score)"
   ]
  }
 ],
 "metadata": {
  "kernelspec": {
   "display_name": "AdventOfCode",
   "language": "python",
   "name": "python3"
  },
  "language_info": {
   "codemirror_mode": {
    "name": "ipython",
    "version": 3
   },
   "file_extension": ".py",
   "mimetype": "text/x-python",
   "name": "python",
   "nbconvert_exporter": "python",
   "pygments_lexer": "ipython3",
   "version": "3.10.15"
  }
 },
 "nbformat": 4,
 "nbformat_minor": 2
}
