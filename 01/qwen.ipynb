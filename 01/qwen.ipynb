{
 "cells": [
  {
   "cell_type": "markdown",
   "metadata": {},
   "source": [
    "# Day 1 - Qwen Coder 32B"
   ]
  },
  {
   "cell_type": "code",
   "execution_count": 1,
   "metadata": {},
   "outputs": [
    {
     "name": "stdout",
     "output_type": "stream",
     "text": [
      "The total distance between the lists is: 1603498\n"
     ]
    }
   ],
   "source": [
    "def read_and_parse_input(file_path):\n",
    "    with open(file_path, 'r') as file:\n",
    "        lines = file.readlines()\n",
    "    \n",
    "    left_list = []\n",
    "    right_list = []\n",
    "    \n",
    "    for line in lines:\n",
    "        parts = line.strip().split()\n",
    "        if len(parts) == 2:\n",
    "            left_list.append(int(parts[0]))\n",
    "            right_list.append(int(parts[1]))\n",
    "    \n",
    "    return left_list, right_list\n",
    "\n",
    "def calculate_total_distance(left_list, right_list):\n",
    "    # Sort both lists\n",
    "    left_list.sort()\n",
    "    right_list.sort()\n",
    "    \n",
    "    # Calculate the total distance\n",
    "    total_distance = 0\n",
    "    for left, right in zip(left_list, right_list):\n",
    "        total_distance += abs(left - right)\n",
    "    \n",
    "    return total_distance\n",
    "\n",
    "def main():\n",
    "    file_path = 'input.txt'\n",
    "    left_list, right_list = read_and_parse_input(file_path)\n",
    "    total_distance = calculate_total_distance(left_list, right_list)\n",
    "    print(f\"The total distance between the lists is: {total_distance}\")\n",
    "\n",
    "if __name__ == \"__main__\":\n",
    "    main()"
   ]
  },
  {
   "cell_type": "markdown",
   "metadata": {},
   "source": [
    "## Part 2"
   ]
  },
  {
   "cell_type": "code",
   "execution_count": 2,
   "metadata": {},
   "outputs": [
    {
     "name": "stdout",
     "output_type": "stream",
     "text": [
      "The similarity score between the lists is: 25574739\n"
     ]
    }
   ],
   "source": [
    "from collections import Counter\n",
    "\n",
    "def read_and_parse_input(file_path):\n",
    "    with open(file_path, 'r') as file:\n",
    "        lines = file.readlines()\n",
    "    \n",
    "    left_list = []\n",
    "    right_list = []\n",
    "    \n",
    "    for line in lines:\n",
    "        parts = line.strip().split()\n",
    "        if len(parts) == 2:\n",
    "            left_list.append(int(parts[0]))\n",
    "            right_list.append(int(parts[1]))\n",
    "    \n",
    "    return left_list, right_list\n",
    "\n",
    "def calculate_similarity_score(left_list, right_list):\n",
    "    # Count the occurrences of each number in the right list\n",
    "    right_counter = Counter(right_list)\n",
    "    \n",
    "    # Calculate the similarity score\n",
    "    similarity_score = 0\n",
    "    for number in left_list:\n",
    "        count = right_counter[number]\n",
    "        similarity_score += number * count\n",
    "    \n",
    "    return similarity_score\n",
    "\n",
    "def main():\n",
    "    file_path = 'input.txt'\n",
    "    left_list, right_list = read_and_parse_input(file_path)\n",
    "    similarity_score = calculate_similarity_score(left_list, right_list)\n",
    "    print(f\"The similarity score between the lists is: {similarity_score}\")\n",
    "\n",
    "if __name__ == \"__main__\":\n",
    "    main()"
   ]
  }
 ],
 "metadata": {
  "kernelspec": {
   "display_name": "Python 3",
   "language": "python",
   "name": "python3"
  },
  "language_info": {
   "codemirror_mode": {
    "name": "ipython",
    "version": 3
   },
   "file_extension": ".py",
   "mimetype": "text/x-python",
   "name": "python",
   "nbconvert_exporter": "python",
   "pygments_lexer": "ipython3",
   "version": "3.11.6"
  }
 },
 "nbformat": 4,
 "nbformat_minor": 2
}
