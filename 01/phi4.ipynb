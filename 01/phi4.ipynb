{
 "cells": [
  {
   "cell_type": "markdown",
   "metadata": {},
   "source": [
    "# Day 01 - Phi-4"
   ]
  },
  {
   "cell_type": "code",
   "execution_count": 1,
   "metadata": {},
   "outputs": [
    {
     "name": "stdout",
     "output_type": "stream",
     "text": [
      "Total Distance: 1603498\n"
     ]
    }
   ],
   "source": [
    "def read_input(file_path):\n",
    "    with open(file_path, 'r') as file:\n",
    "        lines = file.readlines()\n",
    "    \n",
    "    left_list = []\n",
    "    right_list = []\n",
    "\n",
    "    for line in lines:\n",
    "        left, right = map(int, line.split())\n",
    "        left_list.append(left)\n",
    "        right_list.append(right)\n",
    "\n",
    "    return left_list, right_list\n",
    "\n",
    "def calculate_total_distance(left_list, right_list):\n",
    "    # Sort both lists\n",
    "    sorted_left = sorted(left_list)\n",
    "    sorted_right = sorted(right_list)\n",
    "    \n",
    "    # Calculate the total distance\n",
    "    total_distance = 0\n",
    "    for l, r in zip(sorted_left, sorted_right):\n",
    "        total_distance += abs(l - r)\n",
    "    \n",
    "    return total_distance\n",
    "\n",
    "def main():\n",
    "    left_list, right_list = read_input('input.txt')\n",
    "    total_distance = calculate_total_distance(left_list, right_list)\n",
    "    print(\"Total Distance:\", total_distance)\n",
    "\n",
    "if __name__ == \"__main__\":\n",
    "    main()"
   ]
  },
  {
   "cell_type": "markdown",
   "metadata": {},
   "source": [
    "## Part 2"
   ]
  },
  {
   "cell_type": "code",
   "execution_count": 2,
   "metadata": {},
   "outputs": [
    {
     "name": "stdout",
     "output_type": "stream",
     "text": [
      "Similarity Score: 25574739\n"
     ]
    }
   ],
   "source": [
    "def read_input(file_path):\n",
    "    with open(file_path, 'r') as file:\n",
    "        lines = file.readlines()\n",
    "    \n",
    "    left_list = []\n",
    "    right_list = []\n",
    "\n",
    "    for line in lines:\n",
    "        left, right = map(int, line.split())\n",
    "        left_list.append(left)\n",
    "        right_list.append(right)\n",
    "\n",
    "    return left_list, right_list\n",
    "\n",
    "def calculate_similarity_score(left_list, right_list):\n",
    "    # Sort the left list\n",
    "    sorted_left = sorted(left_list)\n",
    "    \n",
    "    # Calculate similarity score\n",
    "    similarity_score = 0\n",
    "    for num in sorted_left:\n",
    "        occurrence_count = right_list.count(num)  # Count occurrences of num in right_list\n",
    "        similarity_score += num * occurrence_count\n",
    "    \n",
    "    return similarity_score\n",
    "\n",
    "def main():\n",
    "    left_list, right_list = read_input('input.txt')\n",
    "    similarity_score = calculate_similarity_score(left_list, right_list)\n",
    "    print(\"Similarity Score:\", similarity_score)\n",
    "\n",
    "if __name__ == \"__main__\":\n",
    "    main()"
   ]
  }
 ],
 "metadata": {
  "kernelspec": {
   "display_name": "AdventOfCode",
   "language": "python",
   "name": "python3"
  },
  "language_info": {
   "codemirror_mode": {
    "name": "ipython",
    "version": 3
   },
   "file_extension": ".py",
   "mimetype": "text/x-python",
   "name": "python",
   "nbconvert_exporter": "python",
   "pygments_lexer": "ipython3",
   "version": "3.10.15"
  }
 },
 "nbformat": 4,
 "nbformat_minor": 2
}
