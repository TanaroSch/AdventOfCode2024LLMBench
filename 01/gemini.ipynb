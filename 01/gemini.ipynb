{
 "cells": [
  {
   "cell_type": "markdown",
   "metadata": {},
   "source": [
    "# Day 01 - Gemini"
   ]
  },
  {
   "cell_type": "code",
   "execution_count": 1,
   "metadata": {},
   "outputs": [
    {
     "name": "stdout",
     "output_type": "stream",
     "text": [
      "1603498\n"
     ]
    }
   ],
   "source": [
    "def calculate_total_distance(left_list, right_list):\n",
    "    \"\"\"Calculates the total distance between two lists of numbers.\n",
    "\n",
    "    Args:\n",
    "      left_list: The first list of numbers.\n",
    "      right_list: The second list of numbers.\n",
    "\n",
    "    Returns:\n",
    "      The total distance between the two lists.\n",
    "    \"\"\"\n",
    "    left_list.sort()\n",
    "    right_list.sort()\n",
    "    total_distance = 0\n",
    "    for i in range(len(left_list)):\n",
    "        total_distance += abs(left_list[i] - right_list[i])\n",
    "    return total_distance\n",
    "\n",
    "if __name__ == \"__main__\":\n",
    "    try:\n",
    "        with open(\"input.txt\", \"r\") as f:\n",
    "            lines = f.readlines()\n",
    "    except FileNotFoundError:\n",
    "        print(\"Error: input.txt not found.\")\n",
    "        exit()\n",
    "\n",
    "    left_list = []\n",
    "    right_list = []\n",
    "    for line in lines:\n",
    "        try:\n",
    "            left, right = map(int, line.strip().split())\n",
    "            left_list.append(left)\n",
    "            right_list.append(right)\n",
    "        except ValueError:\n",
    "            print(f\"Skipping invalid line: {line.strip()}\")\n",
    "            continue\n",
    "\n",
    "    if len(left_list) != len(right_list):\n",
    "      print(\"Error: lists are not the same length.\")\n",
    "      exit()\n",
    "\n",
    "    total_distance = calculate_total_distance(left_list, right_list)\n",
    "    print(total_distance)"
   ]
  },
  {
   "cell_type": "markdown",
   "metadata": {},
   "source": [
    "## Part 2"
   ]
  },
  {
   "cell_type": "code",
   "execution_count": 2,
   "metadata": {},
   "outputs": [
    {
     "name": "stdout",
     "output_type": "stream",
     "text": [
      "25574739\n"
     ]
    }
   ],
   "source": [
    "def calculate_similarity_score(left, right):\n",
    "    \"\"\"\n",
    "    Calculate the similarity score between two lists of numbers.\n",
    "\n",
    "    The similarity score is calculated by multiplying each number in the left list \n",
    "    by the number of times it appears in the right list and summing up the results.\n",
    "\n",
    "    Args:\n",
    "        left (list): The first list of numbers.\n",
    "        right (list): The second list of numbers.\n",
    "\n",
    "    Returns:\n",
    "        int: The similarity score between the two lists.\n",
    "    \"\"\"\n",
    "    # Count the occurrences of each number in the right list\n",
    "    right_counts = {}\n",
    "    for num in right:\n",
    "        right_counts[num] = right_counts.get(num, 0) + 1\n",
    "\n",
    "    # Calculate the similarity score\n",
    "    similarity_score = sum(num * right_counts.get(num, 0) for num in left)\n",
    "\n",
    "    return similarity_score\n",
    "\n",
    "def main():\n",
    "    try:\n",
    "        # Read the input from the file\n",
    "        with open('input.txt', 'r') as f:\n",
    "            lines = f.readlines()\n",
    "    except FileNotFoundError:\n",
    "        print(\"Error: input.txt not found.\")\n",
    "        exit()\n",
    "\n",
    "    # Split the input into two lists\n",
    "    left = []\n",
    "    right = []\n",
    "    for line in lines:\n",
    "        try:\n",
    "            a, b = map(int, line.split())\n",
    "            left.append(a)\n",
    "            right.append(b)\n",
    "        except ValueError:\n",
    "            print(f\"Skipping invalid line: {line.strip()}\")\n",
    "            continue\n",
    "\n",
    "    # Calculate and print the similarity score\n",
    "    similarity_score = calculate_similarity_score(left, right)\n",
    "    print(similarity_score)\n",
    "\n",
    "if __name__ == \"__main__\":\n",
    "    main()"
   ]
  }
 ],
 "metadata": {
  "kernelspec": {
   "display_name": "AdventOfCode",
   "language": "python",
   "name": "python3"
  },
  "language_info": {
   "codemirror_mode": {
    "name": "ipython",
    "version": 3
   },
   "file_extension": ".py",
   "mimetype": "text/x-python",
   "name": "python",
   "nbconvert_exporter": "python",
   "pygments_lexer": "ipython3",
   "version": "3.10.15"
  }
 },
 "nbformat": 4,
 "nbformat_minor": 2
}
