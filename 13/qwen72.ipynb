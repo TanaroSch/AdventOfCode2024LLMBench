{
 "cells": [
  {
   "cell_type": "markdown",
   "metadata": {},
   "source": [
    "# Day 13 - Qwen2.5 72b"
   ]
  },
  {
   "cell_type": "code",
   "execution_count": 2,
   "metadata": {},
   "outputs": [
    {
     "name": "stdout",
     "output_type": "stream",
     "text": [
      "The fewest tokens to win all possible prizes is: 30090010945369806755609637896/960368548876704398010041\n"
     ]
    }
   ],
   "source": [
    "import re\n",
    "from sympy import symbols, Eq, solve\n",
    "\n",
    "def parse_input(filename):\n",
    "    machines = []\n",
    "    with open(filename, 'r') as file:\n",
    "        lines = file.readlines()\n",
    "        for i in range(0, len(lines), 4):\n",
    "            a_x, a_y = map(int, re.findall(r'\\d+', lines[i]))\n",
    "            b_x, b_y = map(int, re.findall(r'\\d+', lines[i+1]))\n",
    "            prize_x, prize_y = map(int, re.findall(r'\\d+', lines[i+2]))\n",
    "            machines.append((a_x, a_y, b_x, b_y, prize_x, prize_y))\n",
    "    return machines\n",
    "\n",
    "def find_min_tokens(a_x, a_y, b_x, b_y, prize_x, prize_y):\n",
    "    x, y = symbols('x y')\n",
    "    eq1 = Eq(a_x * x + b_x * y, prize_x)\n",
    "    eq2 = Eq(a_y * x + b_y * y, prize_y)\n",
    "    solution = solve((eq1, eq2), (x, y))\n",
    "    \n",
    "    if solution and all(0 <= val <= 100 for val in solution.values()):\n",
    "        a_presses = solution[x]\n",
    "        b_presses = solution[y]\n",
    "        return 3 * a_presses + b_presses\n",
    "    return None\n",
    "\n",
    "def main():\n",
    "    machines = parse_input('input.txt')\n",
    "    total_min_tokens = 0\n",
    "    for machine in machines:\n",
    "        min_tokens = find_min_tokens(*machine)\n",
    "        if min_tokens is not None:\n",
    "            total_min_tokens += min_tokens\n",
    "    print(\"The fewest tokens to win all possible prizes is:\", total_min_tokens)\n",
    "\n",
    "if __name__ == \"__main__\":\n",
    "    main()"
   ]
  },
  {
   "cell_type": "code",
   "execution_count": 3,
   "metadata": {},
   "outputs": [
    {
     "name": "stdout",
     "output_type": "stream",
     "text": [
      "The fewest tokens to win all possible prizes is: 29711\n"
     ]
    }
   ],
   "source": [
    "import re\n",
    "from sympy import symbols, Eq, solve\n",
    "\n",
    "def parse_input(filename):\n",
    "    machines = []\n",
    "    with open(filename, 'r') as file:\n",
    "        lines = file.readlines()\n",
    "        for i in range(0, len(lines), 4):\n",
    "            a_x, a_y = map(int, re.findall(r'\\d+', lines[i]))\n",
    "            b_x, b_y = map(int, re.findall(r'\\d+', lines[i+1]))\n",
    "            prize_x, prize_y = map(int, re.findall(r'\\d+', lines[i+2]))\n",
    "            machines.append((a_x, a_y, b_x, b_y, prize_x, prize_y))\n",
    "    return machines\n",
    "\n",
    "def find_min_tokens(a_x, a_y, b_x, b_y, prize_x, prize_y):\n",
    "    x, y = symbols('x y')\n",
    "    eq1 = Eq(a_x * x + b_x * y, prize_x)\n",
    "    eq2 = Eq(a_y * x + b_y * y, prize_y)\n",
    "    solution = solve((eq1, eq2), (x, y))\n",
    "    \n",
    "    if solution:\n",
    "        a_presses, b_presses = solution[x], solution[y]\n",
    "        if a_presses.is_integer and b_presses.is_integer and 0 <= a_presses <= 100 and 0 <= b_presses <= 100:\n",
    "            return 3 * a_presses + b_presses\n",
    "    return None\n",
    "\n",
    "def main():\n",
    "    machines = parse_input('input.txt')\n",
    "    total_min_tokens = 0\n",
    "    for machine in machines:\n",
    "        min_tokens = find_min_tokens(*machine)\n",
    "        if min_tokens is not None:\n",
    "            total_min_tokens += min_tokens\n",
    "    print(\"The fewest tokens to win all possible prizes is:\", total_min_tokens)\n",
    "\n",
    "if __name__ == \"__main__\":\n",
    "    main()"
   ]
  },
  {
   "cell_type": "markdown",
   "metadata": {},
   "source": [
    "## Part 2"
   ]
  },
  {
   "cell_type": "code",
   "execution_count": 4,
   "metadata": {},
   "outputs": [
    {
     "name": "stdout",
     "output_type": "stream",
     "text": [
      "The fewest tokens to win all possible prizes is: 0\n"
     ]
    }
   ],
   "source": [
    "import re\n",
    "from sympy import symbols, Eq, solve\n",
    "\n",
    "def parse_input(filename):\n",
    "    machines = []\n",
    "    with open(filename, 'r') as file:\n",
    "        lines = file.readlines()\n",
    "        for i in range(0, len(lines), 4):\n",
    "            a_x, a_y = map(int, re.findall(r'\\d+', lines[i]))\n",
    "            b_x, b_y = map(int, re.findall(r'\\d+', lines[i+1]))\n",
    "            prize_x, prize_y = map(int, re.findall(r'\\d+', lines[i+2]))\n",
    "            machines.append((a_x, a_y, b_x, b_y, prize_x, prize_y))\n",
    "    return machines\n",
    "\n",
    "def adjust_prize_coordinates(machines):\n",
    "    adjusted_machines = []\n",
    "    offset = 10000000000000\n",
    "    for a_x, a_y, b_x, b_y, prize_x, prize_y in machines:\n",
    "        adjusted_machines.append((a_x, a_y, b_x, b_y, prize_x + offset, prize_y + offset))\n",
    "    return adjusted_machines\n",
    "\n",
    "def find_min_tokens(a_x, a_y, b_x, b_y, prize_x, prize_y):\n",
    "    x, y = symbols('x y')\n",
    "    eq1 = Eq(a_x * x + b_x * y, prize_x)\n",
    "    eq2 = Eq(a_y * x + b_y * y, prize_y)\n",
    "    solution = solve((eq1, eq2), (x, y))\n",
    "    \n",
    "    if solution:\n",
    "        a_presses, b_presses = solution[x], solution[y]\n",
    "        if a_presses.is_integer and b_presses.is_integer and 0 <= a_presses <= 100 and 0 <= b_presses <= 100:\n",
    "            return 3 * a_presses + b_presses\n",
    "    return None\n",
    "\n",
    "def main():\n",
    "    machines = parse_input('input.txt')\n",
    "    adjusted_machines = adjust_prize_coordinates(machines)\n",
    "    total_min_tokens = 0\n",
    "    for machine in adjusted_machines:\n",
    "        min_tokens = find_min_tokens(*machine)\n",
    "        if min_tokens is not None:\n",
    "            total_min_tokens += min_tokens\n",
    "    print(\"The fewest tokens to win all possible prizes is:\", total_min_tokens)\n",
    "\n",
    "if __name__ == \"__main__\":\n",
    "    main()"
   ]
  },
  {
   "cell_type": "code",
   "execution_count": 5,
   "metadata": {},
   "outputs": [
    {
     "name": "stdout",
     "output_type": "stream",
     "text": [
      "The fewest tokens to win all possible prizes is: 0\n"
     ]
    }
   ],
   "source": [
    "import re\n",
    "from sympy import symbols, Eq, solve\n",
    "\n",
    "def parse_input(filename):\n",
    "    machines = []\n",
    "    with open(filename, 'r') as file:\n",
    "        lines = file.readlines()\n",
    "        for i in range(0, len(lines), 4):\n",
    "            a_x, a_y = map(int, re.findall(r'\\d+', lines[i]))\n",
    "            b_x, b_y = map(int, re.findall(r'\\d+', lines[i+1]))\n",
    "            prize_x, prize_y = map(int, re.findall(r'\\d+', lines[i+2]))\n",
    "            prize_x += 10000000000000\n",
    "            prize_y += 10000000000000\n",
    "            machines.append((a_x, a_y, b_x, b_y, prize_x, prize_y))\n",
    "    return machines\n",
    "\n",
    "def find_min_tokens(a_x, a_y, b_x, b_y, prize_x, prize_y):\n",
    "    x, y = symbols('x y')\n",
    "    eq1 = Eq(a_x * x + b_x * y, prize_x)\n",
    "    eq2 = Eq(a_y * x + b_y * y, prize_y)\n",
    "    solution = solve((eq1, eq2), (x, y))\n",
    "    \n",
    "    if solution:\n",
    "        a_presses, b_presses = solution[x], solution[y]\n",
    "        if a_presses.is_integer and b_presses.is_integer and 0 <= a_presses <= 100 and 0 <= b_presses <= 100:\n",
    "            return 3 * a_presses + b_presses\n",
    "    return None\n",
    "\n",
    "def main():\n",
    "    machines = parse_input('input.txt')\n",
    "    total_min_tokens = 0\n",
    "    for machine in machines:\n",
    "        min_tokens = find_min_tokens(*machine)\n",
    "        if min_tokens is not None:\n",
    "            total_min_tokens += min_tokens\n",
    "    print(\"The fewest tokens to win all possible prizes is:\", total_min_tokens)\n",
    "\n",
    "if __name__ == \"__main__\":\n",
    "    main()"
   ]
  }
 ],
 "metadata": {
  "kernelspec": {
   "display_name": "AdventOfCode",
   "language": "python",
   "name": "python3"
  },
  "language_info": {
   "codemirror_mode": {
    "name": "ipython",
    "version": 3
   },
   "file_extension": ".py",
   "mimetype": "text/x-python",
   "name": "python",
   "nbconvert_exporter": "python",
   "pygments_lexer": "ipython3",
   "version": "3.10.15"
  }
 },
 "nbformat": 4,
 "nbformat_minor": 2
}
