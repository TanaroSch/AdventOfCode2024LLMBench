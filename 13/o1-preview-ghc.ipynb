{
 "cells": [
  {
   "cell_type": "markdown",
   "metadata": {},
   "source": [
    "# Day 13 - o1-preview (GHC)"
   ]
  },
  {
   "cell_type": "code",
   "execution_count": 3,
   "metadata": {},
   "outputs": [
    {
     "name": "stdout",
     "output_type": "stream",
     "text": [
      "29711\n"
     ]
    }
   ],
   "source": [
    "# Read the input file\n",
    "with open('input.txt', 'r') as file:\n",
    "    lines = [line.strip() for line in file if line.strip()]\n",
    "\n",
    "machines = []\n",
    "i = 0\n",
    "while i < len(lines):\n",
    "    # Parse Button A\n",
    "    parts = lines[i].split(': ')[1].split(', ')\n",
    "    Ai_x = int(parts[0].split('+')[1])\n",
    "    Ai_y = int(parts[1].split('+')[1])\n",
    "    i += 1\n",
    "\n",
    "    # Parse Button B\n",
    "    parts = lines[i].split(': ')[1].split(', ')\n",
    "    Bi_x = int(parts[0].split('+')[1])\n",
    "    Bi_y = int(parts[1].split('+')[1])\n",
    "    i += 1\n",
    "\n",
    "    # Parse Prize\n",
    "    parts = lines[i].split(': ')[1].split(', ')\n",
    "    Px = int(parts[0].split('=')[1])\n",
    "    Py = int(parts[1].split('=')[1])\n",
    "    i += 1\n",
    "\n",
    "    machines.append({\n",
    "        'Ai_x': Ai_x, 'Ai_y': Ai_y,\n",
    "        'Bi_x': Bi_x, 'Bi_y': Bi_y,\n",
    "        'Px': Px, 'Py': Py\n",
    "    })\n",
    "\n",
    "total_min_cost = 0\n",
    "prizes_won = 0\n",
    "\n",
    "for machine in machines:\n",
    "    min_cost = None\n",
    "    Ai_x, Ai_y = machine['Ai_x'], machine['Ai_y']\n",
    "    Bi_x, Bi_y = machine['Bi_x'], machine['Bi_y']\n",
    "    Px, Py = machine['Px'], machine['Py']\n",
    "\n",
    "    for nA in range(101):\n",
    "        for nB in range(101):\n",
    "            x_total = nA * Ai_x + nB * Bi_x\n",
    "            y_total = nA * Ai_y + nB * Bi_y\n",
    "            if x_total == Px and y_total == Py:\n",
    "                cost = nA * 3 + nB * 1\n",
    "                if min_cost is None or cost < min_cost:\n",
    "                    min_cost = cost\n",
    "    if min_cost is not None:\n",
    "        total_min_cost += min_cost\n",
    "        prizes_won += 1\n",
    "\n",
    "print(total_min_cost)"
   ]
  },
  {
   "cell_type": "markdown",
   "metadata": {},
   "source": [
    "## Part 2"
   ]
  },
  {
   "cell_type": "code",
   "execution_count": 2,
   "metadata": {},
   "outputs": [],
   "source": [
    "from math import gcd\n",
    "\n",
    "def extended_gcd(a, b):\n",
    "    if a == 0:\n",
    "        return b, 0, 1\n",
    "    gcd_value, x1, y1 = extended_gcd(b % a, a)\n",
    "    x = y1 - (b // a) * x1\n",
    "    y = x1\n",
    "    return gcd_value, x, y"
   ]
  },
  {
   "cell_type": "code",
   "execution_count": 4,
   "metadata": {},
   "outputs": [
    {
     "name": "stdout",
     "output_type": "stream",
     "text": [
      "94955433618919\n"
     ]
    }
   ],
   "source": [
    "def solve_machine(Ai_x, Ai_y, Bi_x, Bi_y, Px, Py):\n",
    "    delta = Ai_x * Bi_y - Ai_y * Bi_x\n",
    "    RHS = Ai_x * Py - Ai_y * Px\n",
    "    if delta == 0:\n",
    "        return None\n",
    "    if RHS % delta != 0:\n",
    "        return None\n",
    "    nB = RHS // delta\n",
    "    nA_num = Px - Bi_x * nB\n",
    "    if Ai_x == 0 or nA_num % Ai_x != 0:\n",
    "        return None\n",
    "    nA = nA_num // Ai_x\n",
    "    if nA < 0 or nB < 0:\n",
    "        return None\n",
    "    if Ai_y * nA + Bi_y * nB != Py:\n",
    "        return None\n",
    "    total_cost = nA * 3 + nB * 1\n",
    "    return total_cost\n",
    "\n",
    "def read_input(filename):\n",
    "    with open(filename, 'r') as file:\n",
    "        lines = [line.strip() for line in file if line.strip()]\n",
    "    machines = []\n",
    "    i = 0\n",
    "    while i < len(lines):\n",
    "        # Parse Button A\n",
    "        parts = lines[i].split(': ')[1].split(', ')\n",
    "        Ai_x = int(parts[0].split('+')[1])\n",
    "        Ai_y = int(parts[1].split('+')[1])\n",
    "        i += 1\n",
    "\n",
    "        # Parse Button B\n",
    "        parts = lines[i].split(': ')[1].split(', ')\n",
    "        Bi_x = int(parts[0].split('+')[1])\n",
    "        Bi_y = int(parts[1].split('+')[1])\n",
    "        i += 1\n",
    "\n",
    "        # Parse Prize\n",
    "        parts = lines[i].split(': ')[1].split(', ')\n",
    "        Px = int(parts[0].split('=')[1])\n",
    "        Py = int(parts[1].split('=')[1])\n",
    "        # Adjust prize coordinates\n",
    "        adjustment = 10_000_000_000_000\n",
    "        Px += adjustment\n",
    "        Py += adjustment\n",
    "        i += 1\n",
    "\n",
    "        machines.append({\n",
    "            'Ai_x': Ai_x, 'Ai_y': Ai_y,\n",
    "            'Bi_x': Bi_x, 'Bi_y': Bi_y,\n",
    "            'Px': Px, 'Py': Py\n",
    "        })\n",
    "    return machines\n",
    "\n",
    "def solve_all_machines(machines):\n",
    "    total_min_cost = 0\n",
    "    for machine in machines:\n",
    "        Ai_x = machine['Ai_x']\n",
    "        Ai_y = machine['Ai_y']\n",
    "        Bi_x = machine['Bi_x']\n",
    "        Bi_y = machine['Bi_y']\n",
    "        Px = machine['Px']\n",
    "        Py = machine['Py']\n",
    "        min_cost = solve_machine(Ai_x, Ai_y, Bi_x, Bi_y, Px, Py)\n",
    "        if min_cost is not None:\n",
    "            total_min_cost += min_cost\n",
    "    return total_min_cost\n",
    "\n",
    "if __name__ == '__main__':\n",
    "    machines = read_input('input.txt')\n",
    "    total_min_cost = solve_all_machines(machines)\n",
    "    print(total_min_cost)"
   ]
  }
 ],
 "metadata": {
  "kernelspec": {
   "display_name": "Python 3",
   "language": "python",
   "name": "python3"
  },
  "language_info": {
   "codemirror_mode": {
    "name": "ipython",
    "version": 3
   },
   "file_extension": ".py",
   "mimetype": "text/x-python",
   "name": "python",
   "nbconvert_exporter": "python",
   "pygments_lexer": "ipython3",
   "version": "3.11.6"
  }
 },
 "nbformat": 4,
 "nbformat_minor": 2
}
