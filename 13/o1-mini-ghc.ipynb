{
 "cells": [
  {
   "cell_type": "markdown",
   "metadata": {},
   "source": [
    "# Day 13 - o1-mini (GHC)"
   ]
  },
  {
   "cell_type": "code",
   "execution_count": 1,
   "metadata": {},
   "outputs": [
    {
     "name": "stdout",
     "output_type": "stream",
     "text": [
      "29711\n"
     ]
    }
   ],
   "source": [
    "import re\n",
    "\n",
    "def parse_input(file_path):\n",
    "    with open(file_path, 'r') as file:\n",
    "        content = file.read()\n",
    "    machines = []\n",
    "    pattern = re.compile(r'Button A: X\\+(\\d+), Y\\+(\\d+)\\nButton B: X\\+(\\d+), Y\\+(\\d+)\\nPrize: X=(\\d+), Y=(\\d+)')\n",
    "    for match in pattern.findall(content):\n",
    "        a_x, a_y, b_x, b_y, p_x, p_y = map(int, match)\n",
    "        machines.append({\n",
    "            'A': (a_x, a_y),\n",
    "            'B': (b_x, b_y),\n",
    "            'Prize': (p_x, p_y)\n",
    "        })\n",
    "    return machines\n",
    "\n",
    "def find_min_tokens(machine):\n",
    "    A, B = machine['A'], machine['B']\n",
    "    P = machine['Prize']\n",
    "    min_cost = None\n",
    "    for a in range(101):\n",
    "        for b in range(101):\n",
    "            if A[0]*a + B[0]*b == P[0] and A[1]*a + B[1]*b == P[1]:\n",
    "                cost = 3*a + b\n",
    "                if min_cost is None or cost < min_cost:\n",
    "                    min_cost = cost\n",
    "    return min_cost\n",
    "\n",
    "def main():\n",
    "    machines = parse_input('input.txt')\n",
    "    total_tokens = 0\n",
    "    for machine in machines:\n",
    "        cost = find_min_tokens(machine)\n",
    "        if cost is not None:\n",
    "            total_tokens += cost\n",
    "    print(total_tokens)\n",
    "\n",
    "if __name__ == \"__main__\":\n",
    "    main()"
   ]
  },
  {
   "cell_type": "markdown",
   "metadata": {},
   "source": [
    "## Part 2"
   ]
  },
  {
   "cell_type": "code",
   "execution_count": 2,
   "metadata": {},
   "outputs": [
    {
     "name": "stdout",
     "output_type": "stream",
     "text": [
      "94955433618919\n"
     ]
    }
   ],
   "source": [
    "import re\n",
    "from math import gcd\n",
    "\n",
    "def parse_input(file_path):\n",
    "    with open(file_path, 'r') as file:\n",
    "        content = file.read()\n",
    "    machines = []\n",
    "    pattern = re.compile(\n",
    "        r'Button A: X\\+(\\d+), Y\\+(\\d+)\\nButton B: X\\+(\\d+), Y\\+(\\d+)\\nPrize: X=(\\d+), Y=(\\d+)')\n",
    "    for match in pattern.findall(content):\n",
    "        a_x, a_y, b_x, b_y, p_x, p_y = map(int, match)\n",
    "        machines.append({\n",
    "            'A': (a_x, a_y),\n",
    "            'B': (b_x, b_y),\n",
    "            'Prize': (p_x + 10000000000000, p_y + 10000000000000)\n",
    "        })\n",
    "    return machines\n",
    "\n",
    "def extended_gcd(a, b):\n",
    "    if a == 0:\n",
    "        return (b, 0, 1)\n",
    "    else:\n",
    "        g, y, x = extended_gcd(b % a, a)\n",
    "        return (g, x - (b // a) * y, y)\n",
    "\n",
    "def find_min_tokens(machine):\n",
    "    A, B = machine['A'], machine['B']\n",
    "    P = machine['Prize']\n",
    "    # Solve a*A_x + b*B_x = P_x\n",
    "    #      a*A_y + b*B_y = P_y\n",
    "    # Using linear combinations to find a and b\n",
    "    # Calculate determinant\n",
    "    det = A[0]*B[1] - A[1]*B[0]\n",
    "    if det == 0:\n",
    "        return None\n",
    "    # Check if determinant divides the constants\n",
    "    if (P[0]*B[1] - P[1]*B[0]) % det != 0 or (A[0]*P[1] - A[1]*P[0]) % det != 0:\n",
    "        return None\n",
    "    a = (P[0]*B[1] - P[1]*B[0]) // det\n",
    "    b = (A[0]*P[1] - A[1]*P[0]) // det\n",
    "    if a < 0 or b < 0:\n",
    "        return None\n",
    "    return 3*a + b\n",
    "\n",
    "def main():\n",
    "    machines = parse_input('input.txt')\n",
    "    total_tokens = 0\n",
    "    for machine in machines:\n",
    "        cost = find_min_tokens(machine)\n",
    "        if cost is not None:\n",
    "            total_tokens += cost\n",
    "    print(total_tokens)\n",
    "\n",
    "if __name__ == \"__main__\":\n",
    "    main()"
   ]
  }
 ],
 "metadata": {
  "kernelspec": {
   "display_name": "Python 3",
   "language": "python",
   "name": "python3"
  },
  "language_info": {
   "codemirror_mode": {
    "name": "ipython",
    "version": 3
   },
   "file_extension": ".py",
   "mimetype": "text/x-python",
   "name": "python",
   "nbconvert_exporter": "python",
   "pygments_lexer": "ipython3",
   "version": "3.11.6"
  }
 },
 "nbformat": 4,
 "nbformat_minor": 2
}
