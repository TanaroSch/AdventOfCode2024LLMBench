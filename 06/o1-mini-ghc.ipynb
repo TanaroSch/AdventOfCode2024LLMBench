{
 "cells": [
  {
   "cell_type": "markdown",
   "metadata": {},
   "source": [
    "# Day XX - o1-mini (GHC)"
   ]
  },
  {
   "cell_type": "code",
   "execution_count": 1,
   "metadata": {},
   "outputs": [
    {
     "name": "stdout",
     "output_type": "stream",
     "text": [
      "5404\n"
     ]
    }
   ],
   "source": [
    "def read_map(filename):\n",
    "    with open(filename, 'r') as f:\n",
    "        return [list(line.strip()) for line in f]\n",
    "\n",
    "def find_guard(grid):\n",
    "    directions = {'^': ( -1, 0), 'v': (1, 0), '<': (0, -1), '>': (0, 1)}\n",
    "    for i, row in enumerate(grid):\n",
    "        for j, cell in enumerate(row):\n",
    "            if cell in directions:\n",
    "                return (i, j, cell)\n",
    "    return None\n",
    "\n",
    "def turn_right(direction):\n",
    "    dirs = ['^', '>', 'v', '<']\n",
    "    idx = dirs.index(direction)\n",
    "    return dirs[(idx + 1) % 4]\n",
    "\n",
    "def move(position, direction):\n",
    "    dirs = {'^': (-1, 0), 'v': (1, 0), '<': (0, -1), '>': (0, 1)}\n",
    "    di, dj = dirs[direction]\n",
    "    return (position[0] + di, position[1] + dj)\n",
    "\n",
    "def is_obstacle(grid, pos):\n",
    "    i, j = pos\n",
    "    if 0 <= i < len(grid) and 0 <= j < len(grid[0]):\n",
    "        return grid[i][j] == '#'\n",
    "    return True  # Treat out of bounds as obstacle\n",
    "\n",
    "def simulate(grid, start):\n",
    "    visited = set()\n",
    "    pos = (start[0], start[1])\n",
    "    direction = start[2]\n",
    "    visited.add(pos)\n",
    "    while True:\n",
    "        next_pos = move(pos, direction)\n",
    "        if 0 <= next_pos[0] < len(grid) and 0 <= next_pos[1] < len(grid[0]):\n",
    "            if is_obstacle(grid, next_pos):\n",
    "                direction = turn_right(direction)\n",
    "            else:\n",
    "                pos = next_pos\n",
    "                visited.add(pos)\n",
    "        else:\n",
    "            break\n",
    "    return len(visited)\n",
    "\n",
    "def main():\n",
    "    grid = read_map('input.txt')\n",
    "    guard = find_guard(grid)\n",
    "    if guard:\n",
    "        count = simulate(grid, guard)\n",
    "        print(count)\n",
    "    else:\n",
    "        print(0)\n",
    "\n",
    "if __name__ == \"__main__\":\n",
    "    main()"
   ]
  },
  {
   "cell_type": "markdown",
   "metadata": {},
   "source": [
    "## Part 2"
   ]
  },
  {
   "cell_type": "code",
   "execution_count": 2,
   "metadata": {},
   "outputs": [
    {
     "name": "stdout",
     "output_type": "stream",
     "text": [
      "1984\n"
     ]
    }
   ],
   "source": [
    "def read_map(filename):\n",
    "    with open(filename, 'r') as f:\n",
    "        return [list(line.strip()) for line in f]\n",
    "\n",
    "def find_guard(grid):\n",
    "    directions = {'^', 'v', '<', '>'}\n",
    "    for i, row in enumerate(grid):\n",
    "        for j, cell in enumerate(row):\n",
    "            if cell in directions:\n",
    "                return (i, j, cell)\n",
    "    return None\n",
    "\n",
    "def turn_right(direction):\n",
    "    dirs = ['^', '>', 'v', '<']\n",
    "    idx = dirs.index(direction)\n",
    "    return dirs[(idx + 1) % 4]\n",
    "\n",
    "def move(position, direction):\n",
    "    dirs = {'^': (-1, 0), 'v': (1, 0), '<': (0, -1), '>': (0, 1)}\n",
    "    di, dj = dirs[direction]\n",
    "    return (position[0] + di, position[1] + dj)\n",
    "\n",
    "def is_obstacle(grid, pos):\n",
    "    i, j = pos\n",
    "    if 0 <= i < len(grid) and 0 <= j < len(grid[0]):\n",
    "        return grid[i][j] == '#'\n",
    "    return True  # Treat out of bounds as obstacle\n",
    "\n",
    "def simulate_loop(grid, start):\n",
    "    visited = set()\n",
    "    pos = (start[0], start[1])\n",
    "    direction = start[2]\n",
    "    while True:\n",
    "        state = (pos, direction)\n",
    "        if state in visited:\n",
    "            return True  # Loop detected\n",
    "        visited.add(state)\n",
    "        next_pos = move(pos, direction)\n",
    "        if 0 <= next_pos[0] < len(grid) and 0 <= next_pos[1] < len(grid[0]):\n",
    "            if is_obstacle(grid, next_pos):\n",
    "                direction = turn_right(direction)\n",
    "            else:\n",
    "                pos = next_pos\n",
    "        else:\n",
    "            return False  # Guard has left the grid\n",
    "\n",
    "def main():\n",
    "    grid = read_map('input.txt')\n",
    "    guard = find_guard(grid)\n",
    "    if not guard:\n",
    "        print(0)\n",
    "        return\n",
    "    possible_positions = []\n",
    "    for i in range(len(grid)):\n",
    "        for j in range(len(grid[0])):\n",
    "            if grid[i][j] == '.' and (i, j) != (guard[0], guard[1]):\n",
    "                possible_positions.append((i, j))\n",
    "    loop_count = 0\n",
    "    for pos in possible_positions:\n",
    "        modified_grid = [row.copy() for row in grid]\n",
    "        modified_grid[pos[0]][pos[1]] = '#'\n",
    "        if simulate_loop(modified_grid, guard):\n",
    "            loop_count += 1\n",
    "    print(loop_count)\n",
    "\n",
    "if __name__ == \"__main__\":\n",
    "    main()"
   ]
  }
 ],
 "metadata": {
  "kernelspec": {
   "display_name": "AdventOfCode",
   "language": "python",
   "name": "python3"
  },
  "language_info": {
   "codemirror_mode": {
    "name": "ipython",
    "version": 3
   },
   "file_extension": ".py",
   "mimetype": "text/x-python",
   "name": "python",
   "nbconvert_exporter": "python",
   "pygments_lexer": "ipython3",
   "version": "3.10.15"
  }
 },
 "nbformat": 4,
 "nbformat_minor": 2
}
