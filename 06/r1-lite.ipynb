{
 "cells": [
  {
   "cell_type": "markdown",
   "metadata": {},
   "source": [
    "# Day 6 - Deepseek R1 Lite"
   ]
  },
  {
   "cell_type": "code",
   "execution_count": 1,
   "metadata": {},
   "outputs": [
    {
     "name": "stdout",
     "output_type": "stream",
     "text": [
      "5404\n"
     ]
    }
   ],
   "source": [
    "with open('input.txt', 'r') as f:\n",
    "    grid = [line.strip() for line in f]\n",
    "\n",
    "# Find starting position and initial direction\n",
    "start_row = -1\n",
    "start_col = -1\n",
    "for row_idx, row in enumerate(grid):\n",
    "    if '^' in row:\n",
    "        start_col = row.index('^')\n",
    "        start_row = row_idx\n",
    "        break\n",
    "\n",
    "directions = [(-1, 0), (0, 1), (1, 0), (0, -1)]  # up, right, down, left\n",
    "current_dir_idx = 0  # starting facing up\n",
    "\n",
    "visited_positions = set()\n",
    "visited_positions.add((start_row, start_col))\n",
    "\n",
    "visited_states = set()\n",
    "visited_states.add((start_row, start_col, current_dir_idx))\n",
    "\n",
    "current_row, current_col = start_row, start_col\n",
    "\n",
    "while True:\n",
    "    front_row = current_row + directions[current_dir_idx][0]\n",
    "    front_col = current_col + directions[current_dir_idx][1]\n",
    "    \n",
    "    if 0 <= front_row < len(grid) and 0 <= front_col < len(grid[0]):\n",
    "        if grid[front_row][front_col] == '#':\n",
    "            # Turn right\n",
    "            current_dir_idx = (current_dir_idx + 1) % 4\n",
    "            state = (current_row, current_col, current_dir_idx)\n",
    "            if state in visited_states:\n",
    "                # Loop detected, terminate\n",
    "                break\n",
    "            else:\n",
    "                visited_states.add(state)\n",
    "        else:\n",
    "            # Move forward\n",
    "            current_row, current_col = front_row, front_col\n",
    "            visited_positions.add((current_row, current_col))\n",
    "            state = (current_row, current_col, current_dir_idx)\n",
    "            if state in visited_states:\n",
    "                # Loop detected, terminate\n",
    "                break\n",
    "            else:\n",
    "                visited_states.add(state)\n",
    "    else:\n",
    "        # Step out of bounds, terminate\n",
    "        break\n",
    "\n",
    "# Count unique positions visited\n",
    "print(len(visited_positions))"
   ]
  },
  {
   "cell_type": "markdown",
   "metadata": {},
   "source": [
    "## Part 2"
   ]
  },
  {
   "cell_type": "code",
   "execution_count": 2,
   "metadata": {},
   "outputs": [
    {
     "name": "stdout",
     "output_type": "stream",
     "text": [
      "1984\n"
     ]
    }
   ],
   "source": [
    "def simulate(grid, start_row, start_col, R, C):\n",
    "    directions = [(-1, 0), (0, 1), (1, 0), (0, -1)]  # up, right, down, left\n",
    "    current_dir_idx = 0  # starting facing up\n",
    "    visited_states = set()\n",
    "    current_row, current_col = start_row, start_col\n",
    "    while True:\n",
    "        front_row = current_row + directions[current_dir_idx][0]\n",
    "        front_col = current_col + directions[current_dir_idx][1]\n",
    "        if not (0 <= front_row < R and 0 <= front_col < C):\n",
    "            # Out of bounds, guard leaves grid\n",
    "            return False\n",
    "        if grid[front_row][front_col] == '#':\n",
    "            # Turn right\n",
    "            current_dir_idx = (current_dir_idx + 1) % 4\n",
    "            state = (current_row, current_col, current_dir_idx)\n",
    "            if state in visited_states:\n",
    "                # Loop detected\n",
    "                return True\n",
    "            else:\n",
    "                visited_states.add(state)\n",
    "        else:\n",
    "            # Move forward\n",
    "            current_row, current_col = front_row, front_col\n",
    "            state = (current_row, current_col, current_dir_idx)\n",
    "            if state in visited_states:\n",
    "                # Loop detected\n",
    "                return True\n",
    "            else:\n",
    "                visited_states.add(state)\n",
    "\n",
    "def main():\n",
    "    with open('input.txt', 'r') as f:\n",
    "        grid = [list(line.strip()) for line in f]\n",
    "    \n",
    "    # Find starting position\n",
    "    R = len(grid)\n",
    "    C = len(grid[0]) if R > 0 else 0\n",
    "    start_row = -1\n",
    "    start_col = -1\n",
    "    for row_idx, row in enumerate(grid):\n",
    "        if '^' in row:\n",
    "            start_col = row.index('^')\n",
    "            start_row = row_idx\n",
    "            grid[start_row][start_col] = '.'  # Treat starting position as empty\n",
    "            break\n",
    "    \n",
    "    # Find all empty cells excluding starting position\n",
    "    candidates = []\n",
    "    for r in range(R):\n",
    "        for c in range(C):\n",
    "            if grid[r][c] == '.' and (r != start_row or c != start_col):\n",
    "                candidates.append((r, c))\n",
    "    \n",
    "    counter = 0\n",
    "    for r, c in candidates:\n",
    "        grid[r][c] = '#'\n",
    "        if simulate(grid, start_row, start_col, R, C):\n",
    "            counter += 1\n",
    "        grid[r][c] = '.'\n",
    "    \n",
    "    print(counter)\n",
    "\n",
    "if __name__ == \"__main__\":\n",
    "    main()"
   ]
  }
 ],
 "metadata": {
  "kernelspec": {
   "display_name": "AdventOfCode",
   "language": "python",
   "name": "python3"
  },
  "language_info": {
   "codemirror_mode": {
    "name": "ipython",
    "version": 3
   },
   "file_extension": ".py",
   "mimetype": "text/x-python",
   "name": "python",
   "nbconvert_exporter": "python",
   "pygments_lexer": "ipython3",
   "version": "3.10.15"
  }
 },
 "nbformat": 4,
 "nbformat_minor": 2
}
