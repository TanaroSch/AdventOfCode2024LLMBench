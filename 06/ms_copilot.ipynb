{
 "cells": [
  {
   "cell_type": "markdown",
   "metadata": {},
   "source": [
    "# Day XX - MS Copilot"
   ]
  },
  {
   "cell_type": "code",
   "execution_count": 6,
   "metadata": {},
   "outputs": [
    {
     "name": "stdout",
     "output_type": "stream",
     "text": [
      "Number of distinct positions visited by the guard: 5463\n"
     ]
    }
   ],
   "source": [
    "def read_input(file_name):\n",
    "    with open(file_name, 'r') as file:\n",
    "        return [list(line.strip()) for line in file]\n",
    "\n",
    "def turn_right(direction):\n",
    "    return {'^': '>', '>': 'v', 'v': '<', '<': '^'}[direction]\n",
    "\n",
    "def move_forward(position, direction):\n",
    "    row, col = position\n",
    "    if direction == '^':\n",
    "        return (row - 1, col)\n",
    "    elif direction == '>':\n",
    "        return (row, col + 1)\n",
    "    elif direction == 'v':\n",
    "        return (row + 1, col)\n",
    "    elif direction == '<':\n",
    "        return (row, col - 1)\n",
    "\n",
    "def simulate_guard(map_data, start_position, start_direction):\n",
    "    visited_positions = set()\n",
    "    position = start_position\n",
    "    direction = start_direction\n",
    "    rows = len(map_data)\n",
    "    cols = len(map_data[0])\n",
    "    \n",
    "    # Track state for cycle detection\n",
    "    states = set()\n",
    "\n",
    "    while True:\n",
    "        visited_positions.add(position)\n",
    "        state = (position, direction)\n",
    "        if state in states:\n",
    "            break  # Detected a loop\n",
    "        states.add(state)\n",
    "        \n",
    "        next_position = move_forward(position, direction)\n",
    "        row, col = next_position\n",
    "        if row < 0 or row >= rows or col < 0 or col >= cols or map_data[row][col] == '#':\n",
    "            direction = turn_right(direction)\n",
    "        else:\n",
    "            position = next_position\n",
    "\n",
    "        if position[0] < 0 or position[0] >= rows or position[1] < 0 or position[1] >= cols:\n",
    "            break\n",
    "\n",
    "    return visited_positions\n",
    "\n",
    "def main():\n",
    "    map_data = read_input('input.txt')\n",
    "    start_position = None\n",
    "    start_direction = None\n",
    "\n",
    "    for row in range(len(map_data)):\n",
    "        for col in range(len(map_data[0])):\n",
    "            if map_data[row][col] in '^>v<':\n",
    "                start_position = (row, col)\n",
    "                start_direction = map_data[row][col]\n",
    "                map_data[row][col] = '.'\n",
    "                break\n",
    "        if start_position is not None:\n",
    "            break\n",
    "\n",
    "    visited_positions = simulate_guard(map_data, start_position, start_direction)\n",
    "    print(\"Number of distinct positions visited by the guard:\", len(visited_positions))\n",
    "\n",
    "if __name__ == \"__main__\":\n",
    "    main()\n"
   ]
  },
  {
   "cell_type": "markdown",
   "metadata": {},
   "source": [
    "## Part 2"
   ]
  },
  {
   "cell_type": "code",
   "execution_count": null,
   "metadata": {},
   "outputs": [],
   "source": []
  }
 ],
 "metadata": {
  "kernelspec": {
   "display_name": "AdventOfCode",
   "language": "python",
   "name": "python3"
  },
  "language_info": {
   "codemirror_mode": {
    "name": "ipython",
    "version": 3
   },
   "file_extension": ".py",
   "mimetype": "text/x-python",
   "name": "python",
   "nbconvert_exporter": "python",
   "pygments_lexer": "ipython3",
   "version": "3.10.15"
  }
 },
 "nbformat": 4,
 "nbformat_minor": 2
}
