{
 "cells": [
  {
   "cell_type": "markdown",
   "metadata": {},
   "source": [
    "# Day 6 - GPT 4o (GHC)"
   ]
  },
  {
   "cell_type": "code",
   "execution_count": null,
   "metadata": {},
   "outputs": [],
   "source": [
    "def read_map(filename):\n",
    "    with open(filename, 'r') as file:\n",
    "        return [list(line.strip()) for line in file]\n",
    "\n",
    "def find_guard_position_and_direction(map):\n",
    "    directions = {'^': (-1, 0), '>': (0, 1), 'v': (1, 0), '<': (0, -1)}\n",
    "    for r, row in enumerate(map):\n",
    "        for c, char in enumerate(row):\n",
    "            if char in directions:\n",
    "                return (r, c), directions[char]\n",
    "    return None, None\n",
    "\n",
    "def turn_right(direction):\n",
    "    if direction == (-1, 0):  # Up\n",
    "        return (0, 1)  # Right\n",
    "    elif direction == (0, 1):  # Right\n",
    "        return (1, 0)  # Down\n",
    "    elif direction == (1, 0):  # Down\n",
    "        return (0, -1)  # Left\n",
    "    elif direction == (0, -1):  # Left\n",
    "        return (-1, 0)  # Up\n",
    "\n",
    "def is_within_bounds(position, map):\n",
    "    r, c = position\n",
    "    return 0 <= r < len(map) and 0 <= c < len(map[0])\n",
    "\n",
    "def is_obstacle(position, map):\n",
    "    r, c = position\n",
    "    return map[r][c] == '#'\n",
    "\n",
    "def simulate_guard_movement(map):\n",
    "    position, direction = find_guard_position_and_direction(map)\n",
    "    visited_positions = set()\n",
    "    visited_positions.add(position)\n",
    "\n",
    "    while True:\n",
    "        next_position = (position[0] + direction[0], position[1] + direction[1])\n",
    "        if not is_within_bounds(next_position, map) or is_obstacle(next_position, map):\n",
    "            direction = turn_right(direction)\n",
    "        else:\n",
    "            position = next_position\n",
    "            visited_positions.add(position)\n",
    "            if not is_within_bounds(position, map):\n",
    "                break\n",
    "\n",
    "    return visited_positions\n",
    "\n",
    "def main():\n",
    "    map = read_map('input.txt')\n",
    "    visited_positions = simulate_guard_movement(map)\n",
    "    print(len(visited_positions))\n",
    "\n",
    "if __name__ == \"__main__\":\n",
    "    main()"
   ]
  },
  {
   "cell_type": "markdown",
   "metadata": {},
   "source": [
    "## Part 2"
   ]
  },
  {
   "cell_type": "code",
   "execution_count": null,
   "metadata": {},
   "outputs": [],
   "source": []
  }
 ],
 "metadata": {
  "kernelspec": {
   "display_name": "AdventOfCode",
   "language": "python",
   "name": "python3"
  },
  "language_info": {
   "codemirror_mode": {
    "name": "ipython",
    "version": 3
   },
   "file_extension": ".py",
   "mimetype": "text/x-python",
   "name": "python",
   "nbconvert_exporter": "python",
   "pygments_lexer": "ipython3",
   "version": "3.10.15"
  }
 },
 "nbformat": 4,
 "nbformat_minor": 2
}
