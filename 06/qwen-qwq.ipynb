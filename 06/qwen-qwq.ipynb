{
 "cells": [
  {
   "cell_type": "markdown",
   "metadata": {},
   "source": [
    "# Day 6 - Qwen QwQ 32B"
   ]
  },
  {
   "cell_type": "code",
   "execution_count": 1,
   "metadata": {},
   "outputs": [
    {
     "name": "stdout",
     "output_type": "stream",
     "text": [
      "5404\n"
     ]
    }
   ],
   "source": [
    "def count_visited_positions(grid):\n",
    "    rows = len(grid)\n",
    "    cols = len(grid[0])\n",
    "    directions = [( -1, 0), (0, 1), (1, 0), (0, -1)]  # up, right, down, left\n",
    "    direction_index = 0  # start facing up\n",
    "    position = None\n",
    "    visited = set()\n",
    "\n",
    "    for row in range(rows):\n",
    "        for col in range(cols):\n",
    "            if grid[row][col] == '^':\n",
    "                position = (row, col)\n",
    "                break\n",
    "        if position:\n",
    "            break\n",
    "\n",
    "    if not position:\n",
    "        raise ValueError(\"Guard's starting position not found\")\n",
    "\n",
    "    visited.add(position)\n",
    "\n",
    "    while True:\n",
    "        next_position = (position[0] + directions[direction_index][0], position[1] + directions[direction_index][1])\n",
    "        if (next_position[0] < 0 or next_position[0] >= rows or\n",
    "            next_position[1] < 0 or next_position[1] >= cols):\n",
    "            break\n",
    "        if grid[next_position[0]][next_position[1]] == '#':\n",
    "            direction_index = (direction_index + 1) % 4\n",
    "        else:\n",
    "            position = next_position\n",
    "            visited.add(position)\n",
    "\n",
    "    return len(visited)\n",
    "\n",
    "\n",
    "def main():\n",
    "    with open(\"input.txt\", \"r\") as f:\n",
    "        grid = [list(line.strip()) for line in f.readlines()]\n",
    "\n",
    "    visited = count_visited_positions(grid)\n",
    "    print(visited)\n",
    "\n",
    "\n",
    "if __name__ == \"__main__\":\n",
    "    main()"
   ]
  },
  {
   "cell_type": "markdown",
   "metadata": {},
   "source": [
    "## Part 2"
   ]
  },
  {
   "cell_type": "code",
   "execution_count": null,
   "metadata": {},
   "outputs": [
    {
     "name": "stdout",
     "output_type": "stream",
     "text": [
      "5404\n"
     ]
    }
   ],
   "source": [
    "import copy\n",
    "\n",
    "def load_grid(file_path):\n",
    "    \"\"\"Loads a grid from a file.\"\"\"\n",
    "    with open(file_path, \"r\") as f:\n",
    "        return [list(line.strip()) for line in f.readlines()]\n",
    "\n",
    "def find_guard_position(grid):\n",
    "    \"\"\"Finds the starting position of the guard.\"\"\"\n",
    "    for row in grid:\n",
    "        if '^' in row:\n",
    "            return (grid.index(row), row.index('^'))\n",
    "    return None\n",
    "\n",
    "def get_directions():\n",
    "    \"\"\"Returns a list of directions (Up, Right, Down, Left).\"\"\"\n",
    "    return [(-1, 0), (0, 1), (1, 0), (0, -1)]\n",
    "\n",
    "def get_opposite_direction(direction):\n",
    "    \"\"\"Returns the opposite direction of the given direction.\"\"\"\n",
    "    return (direction + 2) % 4\n",
    "\n",
    "def is_stuck(grid, start_pos, start_dir):\n",
    "    \"\"\"Simulates the guard's movement and checks if it gets stuck.\"\"\"\n",
    "    directions = get_directions()\n",
    "    visited = set()\n",
    "    pos = start_pos\n",
    "    dir_idx = start_dir\n",
    "    max_steps = len(grid) * len(grid[0]) * 2\n",
    "\n",
    "    while pos in visited or max_steps <= 0:\n",
    "        if pos in visited:\n",
    "            return True\n",
    "        visited.add(pos)\n",
    "        front_pos = (pos[0] + directions[dir_idx][0], pos[1] + directions[dir_idx][1])\n",
    "        if (front_pos[0] < 0 or front_pos[0] >= len(grid) or\n",
    "            front_pos[1] < 0 or front_pos[1] >= len(grid[0]) or\n",
    "            grid[front_pos[0]][front_pos[1]] == '#'):\n",
    "            return False\n",
    "        if grid[front_pos[0]][front_pos[1]] == '.':\n",
    "            dir_idx = (dir_idx + 1) % 4\n",
    "        else:\n",
    "            pos = front_pos\n",
    "        max_steps -= 1\n",
    "    return False\n",
    "\n",
    "def count_valid_obstruction_positions(grid):\n",
    "    \"\"\"Counts the number of valid obstruction positions.\"\"\"\n",
    "    start_pos = find_guard_position(grid)\n",
    "    if not start_pos:\n",
    "        raise ValueError(\"Guard's starting position not found\")\n",
    "    start_dir = 0\n",
    "    original_grid = copy.deepcopy(grid)\n",
    "    valid_positions = 0\n",
    "\n",
    "    for r in range(len(grid)):\n",
    "        for c in range(len(grid[0])):\n",
    "            if grid[r][c] == '.':\n",
    "                grid[r][c] = '#'\n",
    "                if (r, c)!= start_pos:\n",
    "                    if is_stuck(grid, start_pos, start_dir):\n",
    "                        valid_positions += 1\n",
    "                grid = copy.deepcopy(original_grid)\n",
    "    return valid_positions\n",
    "\n",
    "def main():\n",
    "    grid = load_grid(\"input.txt\")\n",
    "    result = count_valid_obstruction_positions(grid)\n",
    "    print(result)\n",
    "\n",
    "if __name__ == \"__main__\":\n",
    "    main()"
   ]
  }
 ],
 "metadata": {
  "kernelspec": {
   "display_name": "AdventOfCode",
   "language": "python",
   "name": "python3"
  },
  "language_info": {
   "codemirror_mode": {
    "name": "ipython",
    "version": 3
   },
   "file_extension": ".py",
   "mimetype": "text/x-python",
   "name": "python",
   "nbconvert_exporter": "python",
   "pygments_lexer": "ipython3",
   "version": "3.10.15"
  }
 },
 "nbformat": 4,
 "nbformat_minor": 2
}
