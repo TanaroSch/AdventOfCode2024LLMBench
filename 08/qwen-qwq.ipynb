{
 "cells": [
  {
   "cell_type": "markdown",
   "metadata": {},
   "source": [
    "# Day 08 - Qwen QwQ 32B"
   ]
  },
  {
   "cell_type": "code",
   "execution_count": 4,
   "metadata": {},
   "outputs": [
    {
     "ename": "AttributeError",
     "evalue": "'int' object has no attribute 'is_integer'",
     "output_type": "error",
     "traceback": [
      "\u001b[1;31m---------------------------------------------------------------------------\u001b[0m",
      "\u001b[1;31mAttributeError\u001b[0m                            Traceback (most recent call last)",
      "Cell \u001b[1;32mIn[4], line 52\u001b[0m\n\u001b[0;32m     49\u001b[0m     map_data \u001b[38;5;241m=\u001b[39m [\u001b[38;5;28mlist\u001b[39m(line\u001b[38;5;241m.\u001b[39mstrip()) \u001b[38;5;28;01mfor\u001b[39;00m line \u001b[38;5;129;01min\u001b[39;00m f\u001b[38;5;241m.\u001b[39mreadlines()]\n\u001b[0;32m     51\u001b[0m \u001b[38;5;66;03m# Find the antinodes\u001b[39;00m\n\u001b[1;32m---> 52\u001b[0m num_antinodes \u001b[38;5;241m=\u001b[39m \u001b[43mfind_antinodes\u001b[49m\u001b[43m(\u001b[49m\u001b[43mmap_data\u001b[49m\u001b[43m)\u001b[49m\n\u001b[0;32m     53\u001b[0m \u001b[38;5;28mprint\u001b[39m(num_antinodes)\n",
      "Cell \u001b[1;32mIn[4], line 33\u001b[0m, in \u001b[0;36mfind_antinodes\u001b[1;34m(map_data)\u001b[0m\n\u001b[0;32m     30\u001b[0m y \u001b[38;5;241m=\u001b[39m y1 \u001b[38;5;241m+\u001b[39m t \u001b[38;5;241m*\u001b[39m dy\n\u001b[0;32m     32\u001b[0m \u001b[38;5;66;03m# Check if positions are integers\u001b[39;00m\n\u001b[1;32m---> 33\u001b[0m \u001b[38;5;28;01mif\u001b[39;00m \u001b[43mx\u001b[49m\u001b[38;5;241;43m.\u001b[39;49m\u001b[43mis_integer\u001b[49m() \u001b[38;5;129;01mand\u001b[39;00m y\u001b[38;5;241m.\u001b[39mis_integer():\n\u001b[0;32m     34\u001b[0m     x_int \u001b[38;5;241m=\u001b[39m \u001b[38;5;28mint\u001b[39m(x)\n\u001b[0;32m     35\u001b[0m     y_int \u001b[38;5;241m=\u001b[39m \u001b[38;5;28mint\u001b[39m(y)\n",
      "\u001b[1;31mAttributeError\u001b[0m: 'int' object has no attribute 'is_integer'"
     ]
    }
   ],
   "source": [
    "from collections import defaultdict\n",
    "from itertools import combinations\n",
    "\n",
    "def find_antinodes(map_data):\n",
    "    # Group antennas by frequency\n",
    "    freq_map = defaultdict(list)\n",
    "    for i in range(len(map_data)):\n",
    "        for j, cell in enumerate(map_data[i]):\n",
    "            if cell in '0123456789ABCDEFGHIJKLMNOPQRSTUVWXYZabcdefghijklmnopqrstuvwxyz':\n",
    "                freq_map[cell].append((i, j))\n",
    "    \n",
    "    # Find antinodes for each frequency\n",
    "    antinodes = set()\n",
    "    for freq, positions in freq_map.items():\n",
    "        if len(positions) > 1:\n",
    "            for (x1, y1), (x2, y2) in combinations(positions, 2):\n",
    "                # Calculate differences\n",
    "                dx = x2 - x1\n",
    "                dy = y2 - y1\n",
    "                \n",
    "                # Calculate GCD for stepping\n",
    "                g = abs(gcd(dx, dy))\n",
    "                \n",
    "                # Parametric values for t\n",
    "                ts = [2, 2/3, 1/3, -1]\n",
    "                \n",
    "                for t in ts:\n",
    "                    # Calculate potential antinode position\n",
    "                    x = x1 + t * dx\n",
    "                    y = y1 + t * dy\n",
    "                    \n",
    "                    # Check if positions are integers\n",
    "                    if x.is_integer() and y.is_integer():\n",
    "                        x_int = int(x)\n",
    "                        y_int = int(y)\n",
    "                        \n",
    "                        # Check bounds\n",
    "                        if 0 <= x_int < len(map_data) and 0 <= y_int < len(map_data[0]):\n",
    "                            antinodes.add((x_int, y_int))\n",
    "    return len(antinodes)\n",
    "\n",
    "def gcd(a, b):\n",
    "    while b:\n",
    "        a, b = b, a % b\n",
    "    return a\n",
    "\n",
    "# Read the map from the input file\n",
    "with open('input.txt') as f:\n",
    "    map_data = [list(line.strip()) for line in f.readlines()]\n",
    "\n",
    "# Find the antinodes\n",
    "num_antinodes = find_antinodes(map_data)\n",
    "print(num_antinodes)"
   ]
  },
  {
   "cell_type": "markdown",
   "metadata": {},
   "source": [
    "## Part 2"
   ]
  },
  {
   "cell_type": "code",
   "execution_count": null,
   "metadata": {},
   "outputs": [],
   "source": []
  }
 ],
 "metadata": {
  "kernelspec": {
   "display_name": "AdventOfCode",
   "language": "python",
   "name": "python3"
  },
  "language_info": {
   "codemirror_mode": {
    "name": "ipython",
    "version": 3
   },
   "file_extension": ".py",
   "mimetype": "text/x-python",
   "name": "python",
   "nbconvert_exporter": "python",
   "pygments_lexer": "ipython3",
   "version": "3.10.15"
  }
 },
 "nbformat": 4,
 "nbformat_minor": 2
}
