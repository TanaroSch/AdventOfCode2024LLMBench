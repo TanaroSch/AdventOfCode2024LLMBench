{
 "cells": [
  {
   "cell_type": "markdown",
   "metadata": {},
   "source": [
    "# Day 08 - Qwen Coder 32B"
   ]
  },
  {
   "cell_type": "code",
   "execution_count": 6,
   "metadata": {},
   "outputs": [
    {
     "name": "stdout",
     "output_type": "stream",
     "text": [
      "Number of unique antinodes: 0\n",
      "Antinodes: set()\n"
     ]
    }
   ],
   "source": [
    "def read_input(filename):\n",
    "    with open(filename, 'r') as file:\n",
    "        return [list(line.strip()) for line in file.readlines()]\n",
    "\n",
    "def find_antennas(grid):\n",
    "    antennas = {}\n",
    "    for y, row in enumerate(grid):\n",
    "        for x, cell in enumerate(row):\n",
    "            if cell != '.':\n",
    "                if cell not in antennas:\n",
    "                    antennas[cell] = []\n",
    "                antennas[cell].append((x, y))\n",
    "    return antennas\n",
    "\n",
    "def calculate_antinodes(antennas, grid):\n",
    "    antinodes = set()\n",
    "    for freq, positions in antennas.items():\n",
    "        n = len(positions)\n",
    "        for i in range(n):\n",
    "            for j in range(i + 1, n):\n",
    "                x1, y1 = positions[i]\n",
    "                x2, y2 = positions[j]\n",
    "                if x1 == x2:  # Same column\n",
    "                    dy = y2 - y1\n",
    "                    if dy % 3 == 0:\n",
    "                        d = dy // 3\n",
    "                        if d != 0:\n",
    "                            y_mid1 = y1 + d\n",
    "                            y_mid2 = y2 - d\n",
    "                            if 0 <= y_mid1 < len(grid) and 0 <= x1 < len(grid[0]):\n",
    "                                antinodes.add((x1, y_mid1))\n",
    "                            if 0 <= y_mid2 < len(grid) and 0 <= x1 < len(grid[0]):\n",
    "                                antinodes.add((x1, y_mid2))\n",
    "                elif y1 == y2:  # Same row\n",
    "                    dx = x2 - x1\n",
    "                    if dx % 3 == 0:\n",
    "                        d = dx // 3\n",
    "                        if d != 0:\n",
    "                            x_mid1 = x1 + d\n",
    "                            x_mid2 = x2 - d\n",
    "                            if 0 <= y1 < len(grid) and 0 <= x_mid1 < len(grid[0]):\n",
    "                                antinodes.add((x_mid1, y1))\n",
    "                            if 0 <= y1 < len(grid) and 0 <= x_mid2 < len(grid[0]):\n",
    "                                antinodes.add((x_mid2, y1))\n",
    "                else:  # Diagonal check\n",
    "                    dx = x2 - x1\n",
    "                    dy = y2 - y1\n",
    "                    if abs(dx) == abs(dy) and dx % 3 == 0:\n",
    "                        d = dx // 3\n",
    "                        if d != 0:\n",
    "                            x_mid1 = x1 + d\n",
    "                            y_mid1 = y1 + d\n",
    "                            x_mid2 = x2 - d\n",
    "                            y_mid2 = y2 - d\n",
    "                            if 0 <= y_mid1 < len(grid) and 0 <= x_mid1 < len(grid[0]):\n",
    "                                antinodes.add((x_mid1, y_mid1))\n",
    "                            if 0 <= y_mid2 < len(grid) and 0 <= x_mid2 < len(grid[0]):\n",
    "                                antinodes.add((x_mid2, y_mid2))\n",
    "    return antinodes\n",
    "\n",
    "def main():\n",
    "    grid = read_input('input.txt')\n",
    "    antennas = find_antennas(grid)\n",
    "    antinodes = calculate_antinodes(antennas, grid)\n",
    "    unique_antinode_count = len(antinodes)\n",
    "    print(f\"Number of unique antinodes: {unique_antinode_count}\")\n",
    "    print(f\"Antinodes: {antinodes}\")\n",
    "\n",
    "if __name__ == \"__main__\":\n",
    "    main()"
   ]
  },
  {
   "cell_type": "markdown",
   "metadata": {},
   "source": [
    "## Part 2"
   ]
  },
  {
   "cell_type": "code",
   "execution_count": null,
   "metadata": {},
   "outputs": [],
   "source": []
  }
 ],
 "metadata": {
  "kernelspec": {
   "display_name": "AdventOfCode",
   "language": "python",
   "name": "python3"
  },
  "language_info": {
   "codemirror_mode": {
    "name": "ipython",
    "version": 3
   },
   "file_extension": ".py",
   "mimetype": "text/x-python",
   "name": "python",
   "nbconvert_exporter": "python",
   "pygments_lexer": "ipython3",
   "version": "3.10.15"
  }
 },
 "nbformat": 4,
 "nbformat_minor": 2
}
