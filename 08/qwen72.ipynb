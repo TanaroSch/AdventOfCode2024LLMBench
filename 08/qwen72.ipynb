{
 "cells": [
  {
   "cell_type": "markdown",
   "metadata": {},
   "source": [
    "# Day 08 - Qwen2.5 72b"
   ]
  },
  {
   "cell_type": "code",
   "execution_count": 6,
   "metadata": {},
   "outputs": [
    {
     "name": "stdout",
     "output_type": "stream",
     "text": [
      "Number of unique antinodes: 20\n"
     ]
    }
   ],
   "source": [
    "def read_input(filename):\n",
    "    with open(filename, 'r') as file:\n",
    "        return [list(line.strip()) for line in file.readlines()]\n",
    "\n",
    "def find_antennas(grid):\n",
    "    antennas = {}\n",
    "    for i in range(len(grid)):\n",
    "        for j in range(len(grid[0])):\n",
    "            if grid[i][j] != '.':\n",
    "                if grid[i][j] not in antennas:\n",
    "                    antennas[grid[i][j]] = []\n",
    "                antennas[grid[i][j]].append((i, j))\n",
    "    return antennas\n",
    "\n",
    "def calculate_antinodes(antennas, grid_height, grid_width):\n",
    "    antinodes = set()\n",
    "    for frequency, positions in antennas.items():\n",
    "        for i in range(len(positions)):\n",
    "            for j in range(i + 1, len(positions)):\n",
    "                (x1, y1), (x2, y2) = positions[i], positions[j]\n",
    "                dx, dy = x2 - x1, y2 - y1\n",
    "                # Check if one antenna is exactly twice as far away as the other\n",
    "                if (dx == 0 and abs(dy) == 2) or (dy == 0 and abs(dx) == 2) or (abs(dx) == 2 * abs(dy)) or (abs(dy) == 2 * abs(dx)):\n",
    "                    # Calculate the antinodes\n",
    "                    for k in [1, 2]:\n",
    "                        antinode_x = x1 + k * dx // 2\n",
    "                        antinode_y = y1 + k * dy // 2\n",
    "                        if 0 <= antinode_x < grid_height and 0 <= antinode_y < grid_width:\n",
    "                            antinodes.add((antinode_x, antinode_y))\n",
    "    return antinodes\n",
    "\n",
    "def count_unique_antinodes(grid, antinodes):\n",
    "    unique_antinodes = set()\n",
    "    for x, y in antinodes:\n",
    "        if 0 <= x < len(grid) and 0 <= y < len(grid[0]):\n",
    "            unique_antinodes.add((x, y))\n",
    "    return len(unique_antinodes)\n",
    "\n",
    "def main():\n",
    "    grid = read_input('input.txt')\n",
    "    antennas = find_antennas(grid)\n",
    "    grid_height = len(grid)\n",
    "    grid_width = len(grid[0])\n",
    "    antinodes = calculate_antinodes(antennas, grid_height, grid_width)\n",
    "    unique_antinodes_count = count_unique_antinodes(grid, antinodes)\n",
    "    print(f\"Number of unique antinodes: {unique_antinodes_count}\")\n",
    "\n",
    "if __name__ == \"__main__\":\n",
    "    main()"
   ]
  },
  {
   "cell_type": "markdown",
   "metadata": {},
   "source": [
    "## Part 2"
   ]
  },
  {
   "cell_type": "code",
   "execution_count": null,
   "metadata": {},
   "outputs": [],
   "source": []
  }
 ],
 "metadata": {
  "kernelspec": {
   "display_name": "AdventOfCode",
   "language": "python",
   "name": "python3"
  },
  "language_info": {
   "codemirror_mode": {
    "name": "ipython",
    "version": 3
   },
   "file_extension": ".py",
   "mimetype": "text/x-python",
   "name": "python",
   "nbconvert_exporter": "python",
   "pygments_lexer": "ipython3",
   "version": "3.10.15"
  }
 },
 "nbformat": 4,
 "nbformat_minor": 2
}
