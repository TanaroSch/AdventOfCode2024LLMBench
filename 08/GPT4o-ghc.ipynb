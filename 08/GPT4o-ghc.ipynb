{
 "cells": [
  {
   "cell_type": "markdown",
   "metadata": {},
   "source": [
    "# Day 08 - GPT 4o (GHC)"
   ]
  },
  {
   "cell_type": "code",
   "execution_count": 5,
   "metadata": {},
   "outputs": [
    {
     "name": "stdout",
     "output_type": "stream",
     "text": [
      "0\n"
     ]
    }
   ],
   "source": [
    "def read_input(file_name):\n",
    "    with open(file_name, 'r') as file:\n",
    "        return [line.strip() for line in file]\n",
    "\n",
    "def find_antennas(grid):\n",
    "    antennas = {}\n",
    "    for r, row in enumerate(grid):\n",
    "        for c, char in enumerate(row):\n",
    "            if char.isalnum():\n",
    "                if char not in antennas:\n",
    "                    antennas[char] = []\n",
    "                antennas[char].append((r, c))\n",
    "    return antennas\n",
    "\n",
    "def calculate_antinodes(antennas):\n",
    "    antinodes = set()\n",
    "    for freq, positions in antennas.items():\n",
    "        n = len(positions)\n",
    "        for i in range(n):\n",
    "            for j in range(i + 1, n):\n",
    "                r1, c1 = positions[i]\n",
    "                r2, c2 = positions[j]\n",
    "                if (r2 - r1) % 2 == 0 and (c2 - c1) % 2 == 0:\n",
    "                    mid_r = (r1 + r2) // 2\n",
    "                    mid_c = (c1 + c2) // 2\n",
    "                    antinodes.add((mid_r, mid_c))\n",
    "                    antinode_r1 = r1 - (r2 - r1) // 2\n",
    "                    antinode_c1 = c1 - (c2 - c1) // 2\n",
    "                    antinode_r2 = r2 + (r2 - r1) // 2\n",
    "                    antinode_c2 = c2 + (c2 - c1) // 2\n",
    "                    if 0 <= antinode_r1 < len(grid) and 0 <= antinode_c1 < len(grid[0]):\n",
    "                        antinodes.add((antinode_r1, antinode_c1))\n",
    "                    if 0 <= antinode_r2 < len(grid) and 0 <= antinode_c2 < len(grid[0]):\n",
    "                        antinodes.add((antinode_r2, antinode_c2))\n",
    "    return antinodes\n",
    "\n",
    "def main():\n",
    "    grid = read_input('input.txt')\n",
    "    antennas = find_antennas(grid)\n",
    "    antinodes = calculate_antinodes(antennas)\n",
    "    print(len(antinodes))\n",
    "\n",
    "if __name__ == \"__main__\":\n",
    "    main()"
   ]
  },
  {
   "cell_type": "markdown",
   "metadata": {},
   "source": [
    "## Part 2"
   ]
  },
  {
   "cell_type": "code",
   "execution_count": null,
   "metadata": {},
   "outputs": [],
   "source": []
  }
 ],
 "metadata": {
  "kernelspec": {
   "display_name": "AdventOfCode",
   "language": "python",
   "name": "python3"
  },
  "language_info": {
   "codemirror_mode": {
    "name": "ipython",
    "version": 3
   },
   "file_extension": ".py",
   "mimetype": "text/x-python",
   "name": "python",
   "nbconvert_exporter": "python",
   "pygments_lexer": "ipython3",
   "version": "3.10.15"
  }
 },
 "nbformat": 4,
 "nbformat_minor": 2
}
