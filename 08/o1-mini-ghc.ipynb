{
 "cells": [
  {
   "cell_type": "markdown",
   "metadata": {},
   "source": [
    "# Day 08 - o1-mini (GHC)"
   ]
  },
  {
   "cell_type": "code",
   "execution_count": 4,
   "metadata": {},
   "outputs": [
    {
     "name": "stdout",
     "output_type": "stream",
     "text": [
      "299\n"
     ]
    }
   ],
   "source": [
    "# Read the grid from input.txt\n",
    "with open('input.txt', 'r') as file:\n",
    "    grid = [line.strip() for line in file]\n",
    "\n",
    "rows = len(grid)\n",
    "cols = len(grid[0]) if rows > 0 else 0\n",
    "\n",
    "# Store antenna positions by frequency\n",
    "from collections import defaultdict\n",
    "antennas = defaultdict(list)\n",
    "\n",
    "for r in range(rows):\n",
    "    for c in range(cols):\n",
    "        char = grid[r][c]\n",
    "        if char != '.':\n",
    "            antennas[char].append((r, c))\n",
    "\n",
    "# Function to calculate antinode positions\n",
    "def calculate_antinode(a1, a2):\n",
    "    r1, c1 = a1\n",
    "    r2, c2 = a2\n",
    "    dr = r2 - r1\n",
    "    dc = c2 - c1\n",
    "    # Antinode positions: extend the line beyond each antenna\n",
    "    antinodes = []\n",
    "    # Extend from a1\n",
    "    a_r = r1 - dr\n",
    "    a_c = c1 - dc\n",
    "    antinodes.append((a_r, a_c))\n",
    "    # Extend from a2\n",
    "    b_r = r2 + dr\n",
    "    b_c = c2 + dc\n",
    "    antinodes.append((b_r, b_c))\n",
    "    return antinodes\n",
    "\n",
    "# Collect all unique antinode positions\n",
    "antinode_positions = set()\n",
    "\n",
    "for freq, positions in antennas.items():\n",
    "    n = len(positions)\n",
    "    for i in range(n):\n",
    "        for j in range(i + 1, n):\n",
    "            a1 = positions[i]\n",
    "            a2 = positions[j]\n",
    "            antinodes = calculate_antinode(a1, a2)\n",
    "            for pos in antinodes:\n",
    "                r, c = pos\n",
    "                if 0 <= r < rows and 0 <= c < cols:\n",
    "                    antinode_positions.add(pos)\n",
    "\n",
    "# Output the total number of unique antinode locations\n",
    "print(len(antinode_positions))"
   ]
  },
  {
   "cell_type": "markdown",
   "metadata": {},
   "source": [
    "## Part 2"
   ]
  },
  {
   "cell_type": "code",
   "execution_count": 6,
   "metadata": {},
   "outputs": [
    {
     "name": "stdout",
     "output_type": "stream",
     "text": [
      "1032\n"
     ]
    }
   ],
   "source": [
    "# Read the grid from input.txt\n",
    "with open('input.txt', 'r') as file:\n",
    "    grid = [line.strip() for line in file]\n",
    "\n",
    "rows = len(grid)\n",
    "cols = len(grid[0]) if rows > 0 else 0\n",
    "\n",
    "from collections import defaultdict\n",
    "from math import gcd\n",
    "\n",
    "# Store antenna positions by frequency\n",
    "antenna_map = defaultdict(list)\n",
    "\n",
    "for r in range(rows):\n",
    "    for c in range(cols):\n",
    "        char = grid[r][c]\n",
    "        if char != '.':\n",
    "            antenna_map[char].append((r, c))\n",
    "\n",
    "# Function to get all points on a line defined by two points\n",
    "def get_full_line(a1, a2):\n",
    "    r1, c1 = a1\n",
    "    r2, c2 = a2\n",
    "    dr = r2 - r1\n",
    "    dc = c2 - c1\n",
    "    if dr == 0 and dc == 0:\n",
    "        return [a1]\n",
    "    step = gcd(abs(dr), abs(dc))\n",
    "    step_r = dr // step\n",
    "    step_c = dc // step\n",
    "    # Extend in positive direction\n",
    "    points = []\n",
    "    r, c = r1, c1\n",
    "    while 0 <= r < rows and 0 <= c < cols:\n",
    "        points.append((r, c))\n",
    "        r += step_r\n",
    "        c += step_c\n",
    "    # Extend in negative direction\n",
    "    r, c = r1 - step_r, c1 - step_c\n",
    "    while 0 <= r < rows and 0 <= c < cols:\n",
    "        points.append((r, c))\n",
    "        r -= step_r\n",
    "        c -= step_c\n",
    "    return points\n",
    "\n",
    "# Collect all unique antinode positions\n",
    "antinodes = set()\n",
    "\n",
    "for freq, positions in antenna_map.items():\n",
    "    if len(positions) < 2:\n",
    "        continue\n",
    "    n = len(positions)\n",
    "    for i in range(n):\n",
    "        for j in range(i + 1, n):\n",
    "            a1 = positions[i]\n",
    "            a2 = positions[j]\n",
    "            line_points = get_full_line(a1, a2)\n",
    "            for pos in line_points:\n",
    "                antinodes.add(pos)\n",
    "\n",
    "# Output the total number of unique antinode locations\n",
    "print(len(antinodes))"
   ]
  }
 ],
 "metadata": {
  "kernelspec": {
   "display_name": "AdventOfCode",
   "language": "python",
   "name": "python3"
  },
  "language_info": {
   "codemirror_mode": {
    "name": "ipython",
    "version": 3
   },
   "file_extension": ".py",
   "mimetype": "text/x-python",
   "name": "python",
   "nbconvert_exporter": "python",
   "pygments_lexer": "ipython3",
   "version": "3.10.15"
  }
 },
 "nbformat": 4,
 "nbformat_minor": 2
}
