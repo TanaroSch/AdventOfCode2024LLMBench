{
 "cells": [
  {
   "cell_type": "markdown",
   "metadata": {},
   "source": [
    "# Day 08 - MS Copilot"
   ]
  },
  {
   "cell_type": "code",
   "execution_count": 4,
   "metadata": {},
   "outputs": [
    {
     "ename": "UnboundLocalError",
     "evalue": "local variable 'distance' referenced before assignment",
     "output_type": "error",
     "traceback": [
      "\u001b[1;31m---------------------------------------------------------------------------\u001b[0m",
      "\u001b[1;31mUnboundLocalError\u001b[0m                         Traceback (most recent call last)",
      "Cell \u001b[1;32mIn[4], line 73\u001b[0m\n\u001b[0;32m     70\u001b[0m     \u001b[38;5;28mprint\u001b[39m(\u001b[38;5;124m\"\u001b[39m\u001b[38;5;124mUnique antinode positions within the map bounds:\u001b[39m\u001b[38;5;124m\"\u001b[39m, unique_antinode_count)\n\u001b[0;32m     72\u001b[0m \u001b[38;5;28;01mif\u001b[39;00m \u001b[38;5;18m__name__\u001b[39m \u001b[38;5;241m==\u001b[39m \u001b[38;5;124m\"\u001b[39m\u001b[38;5;124m__main__\u001b[39m\u001b[38;5;124m\"\u001b[39m:\n\u001b[1;32m---> 73\u001b[0m     \u001b[43mmain\u001b[49m\u001b[43m(\u001b[49m\u001b[43m)\u001b[49m\n",
      "Cell \u001b[1;32mIn[4], line 68\u001b[0m, in \u001b[0;36mmain\u001b[1;34m()\u001b[0m\n\u001b[0;32m     66\u001b[0m map_width \u001b[38;5;241m=\u001b[39m \u001b[38;5;28mlen\u001b[39m(map_data[\u001b[38;5;241m0\u001b[39m])\n\u001b[0;32m     67\u001b[0m antennas \u001b[38;5;241m=\u001b[39m find_antennas(map_data)\n\u001b[1;32m---> 68\u001b[0m antinode_positions \u001b[38;5;241m=\u001b[39m \u001b[43mcalculate_antinode_positions\u001b[49m\u001b[43m(\u001b[49m\u001b[43mantennas\u001b[49m\u001b[43m)\u001b[49m\n\u001b[0;32m     69\u001b[0m unique_antinode_count \u001b[38;5;241m=\u001b[39m count_unique_antinode_positions(antinode_positions, map_height, map_width)\n\u001b[0;32m     70\u001b[0m \u001b[38;5;28mprint\u001b[39m(\u001b[38;5;124m\"\u001b[39m\u001b[38;5;124mUnique antinode positions within the map bounds:\u001b[39m\u001b[38;5;124m\"\u001b[39m, unique_antinode_count)\n",
      "Cell \u001b[1;32mIn[4], line 42\u001b[0m, in \u001b[0;36mcalculate_antinode_positions\u001b[1;34m(antennas)\u001b[0m\n\u001b[0;32m     39\u001b[0m         antinode_positions\u001b[38;5;241m.\u001b[39madd((middle_row, middle_col))\n\u001b[0;32m     41\u001b[0m \u001b[38;5;66;03m# Check for the specific case where one antenna is twice as far as the other\u001b[39;00m\n\u001b[1;32m---> 42\u001b[0m \u001b[38;5;28;01mif\u001b[39;00m \u001b[43mdistance\u001b[49m \u001b[38;5;241m%\u001b[39m \u001b[38;5;241m3\u001b[39m \u001b[38;5;241m==\u001b[39m \u001b[38;5;241m0\u001b[39m:\n\u001b[0;32m     43\u001b[0m     step \u001b[38;5;241m=\u001b[39m distance \u001b[38;5;241m/\u001b[39m\u001b[38;5;241m/\u001b[39m \u001b[38;5;241m3\u001b[39m\n\u001b[0;32m     44\u001b[0m     \u001b[38;5;28;01mif\u001b[39;00m row1 \u001b[38;5;241m==\u001b[39m row2:  \u001b[38;5;66;03m# horizontal case\u001b[39;00m\n",
      "\u001b[1;31mUnboundLocalError\u001b[0m: local variable 'distance' referenced before assignment"
     ]
    }
   ],
   "source": [
    "def read_input(file_name):\n",
    "    with open(file_name, 'r') as file:\n",
    "        return [list(line.strip()) for line in file]\n",
    "\n",
    "def find_antennas(map_data):\n",
    "    antennas = {}\n",
    "    for row in range(len(map_data)):\n",
    "        for col in range(len(map_data[0])):\n",
    "            if map_data[row][col] != '.':\n",
    "                frequency = map_data[row][col]\n",
    "                if frequency not in antennas:\n",
    "                    antennas[frequency] = []\n",
    "                antennas[frequency].append((row, col))\n",
    "    return antennas\n",
    "\n",
    "def calculate_antinode_positions(antennas):\n",
    "    antinode_positions = set()\n",
    "    for frequency, positions in antennas.items():\n",
    "        for i in range(len(positions)):\n",
    "            for j in range(i + 1, len(positions)):\n",
    "                row1, col1 = positions[i]\n",
    "                row2, col2 = positions[j]\n",
    "                \n",
    "                if row1 == row2:  # horizontal alignment\n",
    "                    distance = abs(col1 - col2)\n",
    "                    if distance % 2 == 0:\n",
    "                        middle = (col1 + col2) // 2\n",
    "                        antinode_positions.add((row1, middle))\n",
    "                elif col1 == col2:  # vertical alignment\n",
    "                    distance = abs(row1 - row2)\n",
    "                    if distance % 2 == 0:\n",
    "                        middle = (row1 + row2) // 2\n",
    "                        antinode_positions.add((middle, col1))\n",
    "                elif abs(row1 - row2) == abs(col1 - col2):  # diagonal alignment\n",
    "                    distance = abs(row1 - row2)\n",
    "                    if distance % 2 == 0:\n",
    "                        middle_row = (row1 + row2) // 2\n",
    "                        middle_col = (col1 + col2) // 2\n",
    "                        antinode_positions.add((middle_row, middle_col))\n",
    "\n",
    "                # Check for the specific case where one antenna is twice as far as the other\n",
    "                if distance % 3 == 0:\n",
    "                    step = distance // 3\n",
    "                    if row1 == row2:  # horizontal case\n",
    "                        antinode_positions.add((row1, col1 + step))\n",
    "                        antinode_positions.add((row1, col1 - step))\n",
    "                        antinode_positions.add((row1, col2 + step))\n",
    "                        antinode_positions.add((row1, col2 - step))\n",
    "                    elif col1 == col2:  # vertical case\n",
    "                        antinode_positions.add((row1 + step, col1))\n",
    "                        antinode_positions.add((row1 - step, col1))\n",
    "                        antinode_positions.add((row2 + step, col1))\n",
    "                        antinode_positions.add((row2 - step, col1))\n",
    "    return antinode_positions\n",
    "\n",
    "def count_unique_antinode_positions(antinode_positions, map_height, map_width):\n",
    "    unique_positions = set()\n",
    "    for row, col in antinode_positions:\n",
    "        if 0 <= row < map_height and 0 <= col < map_width:\n",
    "            unique_positions.add((row, col))\n",
    "    return len(unique_positions)\n",
    "\n",
    "def main():\n",
    "    map_data = read_input('input.txt')\n",
    "    map_height = len(map_data)\n",
    "    map_width = len(map_data[0])\n",
    "    antennas = find_antennas(map_data)\n",
    "    antinode_positions = calculate_antinode_positions(antennas)\n",
    "    unique_antinode_count = count_unique_antinode_positions(antinode_positions, map_height, map_width)\n",
    "    print(\"Unique antinode positions within the map bounds:\", unique_antinode_count)\n",
    "\n",
    "if __name__ == \"__main__\":\n",
    "    main()\n"
   ]
  },
  {
   "cell_type": "markdown",
   "metadata": {},
   "source": [
    "## Part 2"
   ]
  },
  {
   "cell_type": "code",
   "execution_count": null,
   "metadata": {},
   "outputs": [],
   "source": []
  }
 ],
 "metadata": {
  "kernelspec": {
   "display_name": "AdventOfCode",
   "language": "python",
   "name": "python3"
  },
  "language_info": {
   "codemirror_mode": {
    "name": "ipython",
    "version": 3
   },
   "file_extension": ".py",
   "mimetype": "text/x-python",
   "name": "python",
   "nbconvert_exporter": "python",
   "pygments_lexer": "ipython3",
   "version": "3.10.15"
  }
 },
 "nbformat": 4,
 "nbformat_minor": 2
}
