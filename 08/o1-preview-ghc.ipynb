{
 "cells": [
  {
   "cell_type": "markdown",
   "metadata": {},
   "source": [
    "# Day 08 - o1-preview (GHC)"
   ]
  },
  {
   "cell_type": "code",
   "execution_count": 2,
   "metadata": {},
   "outputs": [
    {
     "name": "stdout",
     "output_type": "stream",
     "text": [
      "299\n"
     ]
    }
   ],
   "source": [
    "# Read the map from input.txt\n",
    "with open('input.txt', 'r') as file:\n",
    "    grid = [line.strip('\\n') for line in file]\n",
    "\n",
    "height = len(grid)\n",
    "width = len(grid[0]) if height > 0 else 0\n",
    "\n",
    "# Collect antennas by frequency\n",
    "antennas = {}\n",
    "for y in range(height):\n",
    "    for x in range(width):\n",
    "        cell = grid[y][x]\n",
    "        if cell.isalnum():\n",
    "            antennas.setdefault(cell, []).append((x, y))\n",
    "\n",
    "# Set to store unique antinode positions within the map bounds\n",
    "antinodes = set()\n",
    "\n",
    "# For each frequency, calculate antinodes from antenna pairs\n",
    "for freq in antennas:\n",
    "    positions = antennas[freq]\n",
    "    n = len(positions)\n",
    "    for i in range(n):\n",
    "        x1, y1 = positions[i]\n",
    "        for j in range(i + 1, n):\n",
    "            x2, y2 = positions[j]\n",
    "            # Compute antinode positions\n",
    "            antinode1_x = 2 * x1 - x2\n",
    "            antinode1_y = 2 * y1 - y2\n",
    "            antinode2_x = 2 * x2 - x1\n",
    "            antinode2_y = 2 * y2 - y1\n",
    "            # Check if antinodes are within bounds and add to the set\n",
    "            for x, y in [(antinode1_x, antinode1_y), (antinode2_x, antinode2_y)]:\n",
    "                if 0 <= x < width and 0 <= y < height:\n",
    "                    antinodes.add((x, y))\n",
    "\n",
    "# Output the number of unique antinodes within the map bounds\n",
    "print(len(antinodes))"
   ]
  },
  {
   "cell_type": "markdown",
   "metadata": {},
   "source": [
    "## Part 2"
   ]
  },
  {
   "cell_type": "code",
   "execution_count": 3,
   "metadata": {},
   "outputs": [
    {
     "name": "stdout",
     "output_type": "stream",
     "text": [
      "1032\n"
     ]
    }
   ],
   "source": [
    "import math\n",
    "\n",
    "# Read the map from input.txt\n",
    "with open('input.txt', 'r') as file:\n",
    "    grid = [line.rstrip('\\n') for line in file]\n",
    "\n",
    "height = len(grid)\n",
    "width = len(grid[0]) if height > 0 else 0\n",
    "\n",
    "# Collect antennas by frequency\n",
    "antennas = {}\n",
    "for y in range(height):\n",
    "    for x in range(width):\n",
    "        cell = grid[y][x]\n",
    "        if cell.isalnum():  # Antenna frequencies are letters or digits\n",
    "            antennas.setdefault(cell, []).append((x, y))\n",
    "\n",
    "# Set to store unique antinode positions within the map bounds\n",
    "antinodes = set()\n",
    "\n",
    "# For each frequency, calculate antinodes from antenna pairs\n",
    "for freq in antennas:\n",
    "    positions = antennas[freq]\n",
    "    n = len(positions)\n",
    "    if n < 2:\n",
    "        continue  # No antinodes for frequencies with only one antenna\n",
    "    for i in range(n):\n",
    "        x1, y1 = positions[i]\n",
    "        for j in range(i + 1, n):\n",
    "            x2, y2 = positions[j]\n",
    "            dx = x2 - x1\n",
    "            dy = y2 - y1\n",
    "            gcd = math.gcd(dx, dy)\n",
    "            if gcd == 0:\n",
    "                continue  # Skip identical positions\n",
    "            sx = dx // gcd\n",
    "            sy = dy // gcd\n",
    "\n",
    "            # Generate positions in positive k direction\n",
    "            k = 0\n",
    "            while True:\n",
    "                x = x1 + k * sx\n",
    "                y = y1 + k * sy\n",
    "                if 0 <= x < width and 0 <= y < height:\n",
    "                    antinodes.add((x, y))\n",
    "                    k += 1\n",
    "                else:\n",
    "                    break\n",
    "\n",
    "            # Generate positions in negative k direction\n",
    "            k = -1\n",
    "            while True:\n",
    "                x = x1 + k * sx\n",
    "                y = y1 + k * sy\n",
    "                if 0 <= x < width and 0 <= y < height:\n",
    "                    antinodes.add((x, y))\n",
    "                    k -= 1\n",
    "                else:\n",
    "                    break\n",
    "\n",
    "# Output the number of unique antinodes within the map bounds\n",
    "print(len(antinodes))"
   ]
  }
 ],
 "metadata": {
  "kernelspec": {
   "display_name": "AdventOfCode",
   "language": "python",
   "name": "python3"
  },
  "language_info": {
   "codemirror_mode": {
    "name": "ipython",
    "version": 3
   },
   "file_extension": ".py",
   "mimetype": "text/x-python",
   "name": "python",
   "nbconvert_exporter": "python",
   "pygments_lexer": "ipython3",
   "version": "3.10.15"
  }
 },
 "nbformat": 4,
 "nbformat_minor": 2
}
