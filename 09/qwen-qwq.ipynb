{
 "cells": [
  {
   "cell_type": "markdown",
   "metadata": {},
   "source": [
    "# Day 09 - Qwen QwQ 32B"
   ]
  },
  {
   "cell_type": "code",
   "execution_count": 5,
   "metadata": {},
   "outputs": [
    {
     "ename": "IndexError",
     "evalue": "list index out of range",
     "output_type": "error",
     "traceback": [
      "\u001b[1;31m---------------------------------------------------------------------------\u001b[0m",
      "\u001b[1;31mIndexError\u001b[0m                                Traceback (most recent call last)",
      "Cell \u001b[1;32mIn[5], line 56\u001b[0m\n\u001b[0;32m     53\u001b[0m files, free_spaces \u001b[38;5;241m=\u001b[39m parse_disk_map(disk_map)\n\u001b[0;32m     55\u001b[0m \u001b[38;5;66;03m# Construct initial disk\u001b[39;00m\n\u001b[1;32m---> 56\u001b[0m initial_disk \u001b[38;5;241m=\u001b[39m \u001b[43mconstruct_initial_disk\u001b[49m\u001b[43m(\u001b[49m\u001b[43mfiles\u001b[49m\u001b[43m,\u001b[49m\u001b[43m \u001b[49m\u001b[43mfree_spaces\u001b[49m\u001b[43m)\u001b[49m\n\u001b[0;32m     58\u001b[0m \u001b[38;5;66;03m# Compact the disk\u001b[39;00m\n\u001b[0;32m     59\u001b[0m compacted_disk \u001b[38;5;241m=\u001b[39m compact_disk(initial_disk)\n",
      "Cell \u001b[1;32mIn[5], line 21\u001b[0m, in \u001b[0;36mconstruct_initial_disk\u001b[1;34m(files, free_spaces)\u001b[0m\n\u001b[0;32m     19\u001b[0m     disk\u001b[38;5;241m.\u001b[39mextend([file_id] \u001b[38;5;241m*\u001b[39m file_len)\n\u001b[0;32m     20\u001b[0m     file_id \u001b[38;5;241m+\u001b[39m\u001b[38;5;241m=\u001b[39m \u001b[38;5;241m1\u001b[39m\n\u001b[1;32m---> 21\u001b[0m     \u001b[38;5;28;01mif\u001b[39;00m \u001b[43mfree_spaces\u001b[49m\u001b[43m[\u001b[49m\u001b[43mfile_id\u001b[49m\u001b[43m \u001b[49m\u001b[38;5;241;43m-\u001b[39;49m\u001b[43m \u001b[49m\u001b[38;5;241;43m1\u001b[39;49m\u001b[43m]\u001b[49m \u001b[38;5;241m>\u001b[39m \u001b[38;5;241m0\u001b[39m:\n\u001b[0;32m     22\u001b[0m         disk\u001b[38;5;241m.\u001b[39mextend([\u001b[38;5;124m'\u001b[39m\u001b[38;5;124m.\u001b[39m\u001b[38;5;124m'\u001b[39m] \u001b[38;5;241m*\u001b[39m free_spaces[file_id \u001b[38;5;241m-\u001b[39m \u001b[38;5;241m1\u001b[39m])\n\u001b[0;32m     23\u001b[0m \u001b[38;5;28;01mreturn\u001b[39;00m disk\n",
      "\u001b[1;31mIndexError\u001b[0m: list index out of range"
     ]
    }
   ],
   "source": [
    "def parse_disk_map(disk_map):\n",
    "    files = []\n",
    "    free_spaces = []\n",
    "    i = 0\n",
    "    while i < len(disk_map):\n",
    "        if i + 1 < len(disk_map):\n",
    "            files.append(int(disk_map[i]))\n",
    "            free_spaces.append(int(disk_map[i + 1]))\n",
    "            i += 2\n",
    "        else:\n",
    "            files.append(int(disk_map[i]))\n",
    "            i += 1\n",
    "    return files, free_spaces\n",
    "\n",
    "def construct_initial_disk(files, free_spaces):\n",
    "    disk = []\n",
    "    file_id = 0\n",
    "    for file_len in files:\n",
    "        disk.extend([file_id] * file_len)\n",
    "        file_id += 1\n",
    "        if free_spaces[file_id - 1] > 0:\n",
    "            disk.extend(['.'] * free_spaces[file_id - 1])\n",
    "    return disk\n",
    "\n",
    "def compact_disk(disk):\n",
    "    # Find all file blocks and free spaces\n",
    "    file_blocks = [i for i, x in enumerate(disk) if x != '.']\n",
    "    free_spaces = [i for i, x in enumerate(disk) if x == '.']\n",
    "    \n",
    "    # Move file blocks to the leftmost free spaces\n",
    "    for file_pos in file_blocks:\n",
    "        if disk[file_pos] != '.':\n",
    "            # Find the leftmost free space\n",
    "            for free_pos in free_spaces:\n",
    "                if disk[free_pos] == '.':\n",
    "                    # Move the file block to the free space\n",
    "                    disk[free_pos] = disk[file_pos]\n",
    "                    disk[file_pos] = '.'\n",
    "                    # Update free spaces list\n",
    "                    free_spaces.remove(free_pos)\n",
    "                    free_spaces.append(file_pos)\n",
    "                    break\n",
    "    return disk\n",
    "\n",
    "def calculate_checksum(disk):\n",
    "    return sum(i * file_id for i, file_id in enumerate(disk) if file_id != '.')\n",
    "\n",
    "# Read input from file\n",
    "with open('input.txt', 'r') as f:\n",
    "    disk_map = f.read().strip()\n",
    "\n",
    "# Parse the disk map\n",
    "files, free_spaces = parse_disk_map(disk_map)\n",
    "\n",
    "# Construct initial disk\n",
    "initial_disk = construct_initial_disk(files, free_spaces)\n",
    "\n",
    "# Compact the disk\n",
    "compacted_disk = compact_disk(initial_disk)\n",
    "\n",
    "# Calculate and print the checksum\n",
    "print(calculate_checksum(compacted_disk))"
   ]
  },
  {
   "cell_type": "markdown",
   "metadata": {},
   "source": [
    "## Part 2"
   ]
  },
  {
   "cell_type": "code",
   "execution_count": null,
   "metadata": {},
   "outputs": [],
   "source": []
  }
 ],
 "metadata": {
  "kernelspec": {
   "display_name": "AdventOfCode",
   "language": "python",
   "name": "python3"
  },
  "language_info": {
   "codemirror_mode": {
    "name": "ipython",
    "version": 3
   },
   "file_extension": ".py",
   "mimetype": "text/x-python",
   "name": "python",
   "nbconvert_exporter": "python",
   "pygments_lexer": "ipython3",
   "version": "3.10.15"
  }
 },
 "nbformat": 4,
 "nbformat_minor": 2
}
