{
 "cells": [
  {
   "cell_type": "markdown",
   "metadata": {},
   "source": [
    "# Day 09 - GPT 4o (GHC)"
   ]
  },
  {
   "cell_type": "code",
   "execution_count": 6,
   "metadata": {},
   "outputs": [
    {
     "name": "stdout",
     "output_type": "stream",
     "text": [
      "8392559725774\n"
     ]
    }
   ],
   "source": [
    "def read_input(file_name):\n",
    "    with open(file_name, 'r') as file:\n",
    "        return file.read().strip()\n",
    "\n",
    "def parse_disk_map(disk_map):\n",
    "    blocks = []\n",
    "    file_id = 0\n",
    "    i = 0\n",
    "    while i < len(disk_map):\n",
    "        file_length = int(disk_map[i])\n",
    "        free_space_length = int(disk_map[i + 1]) if i + 1 < len(disk_map) else 0\n",
    "        blocks.extend([str(file_id)] * file_length)\n",
    "        blocks.extend(['.'] * free_space_length)\n",
    "        file_id += 1\n",
    "        i += 2\n",
    "    return blocks\n",
    "\n",
    "def compact_disk(blocks):\n",
    "    write_index = 0\n",
    "    for read_index in range(len(blocks)):\n",
    "        if blocks[read_index] != '.':\n",
    "            if write_index != read_index:\n",
    "                blocks[write_index], blocks[read_index] = blocks[read_index], blocks[write_index]\n",
    "            write_index += 1\n",
    "    return blocks\n",
    "\n",
    "def calculate_checksum(blocks):\n",
    "    checksum = 0\n",
    "    for position, block in enumerate(blocks):\n",
    "        if block != '.':\n",
    "            checksum += position * int(block)\n",
    "    return checksum\n",
    "\n",
    "def main():\n",
    "    disk_map = read_input('input.txt')\n",
    "    blocks = parse_disk_map(disk_map)\n",
    "    compacted_blocks = compact_disk(blocks)\n",
    "    checksum = calculate_checksum(compacted_blocks)\n",
    "    print(checksum)\n",
    "\n",
    "if __name__ == \"__main__\":\n",
    "    main()"
   ]
  },
  {
   "cell_type": "markdown",
   "metadata": {},
   "source": [
    "## Part 2"
   ]
  },
  {
   "cell_type": "code",
   "execution_count": null,
   "metadata": {},
   "outputs": [],
   "source": []
  }
 ],
 "metadata": {
  "kernelspec": {
   "display_name": "AdventOfCode",
   "language": "python",
   "name": "python3"
  },
  "language_info": {
   "codemirror_mode": {
    "name": "ipython",
    "version": 3
   },
   "file_extension": ".py",
   "mimetype": "text/x-python",
   "name": "python",
   "nbconvert_exporter": "python",
   "pygments_lexer": "ipython3",
   "version": "3.10.15"
  }
 },
 "nbformat": 4,
 "nbformat_minor": 2
}
