{
 "cells": [
  {
   "cell_type": "markdown",
   "metadata": {},
   "source": [
    "# Day 09 - o1-preview (GHC)"
   ]
  },
  {
   "cell_type": "code",
   "execution_count": 1,
   "metadata": {},
   "outputs": [
    {
     "name": "stdout",
     "output_type": "stream",
     "text": [
      "6430446922192\n"
     ]
    }
   ],
   "source": [
    "# Read the input from input.txt\n",
    "with open('input.txt', 'r') as f:\n",
    "    s = f.read().strip()\n",
    "\n",
    "# Parse the input into blocks\n",
    "blocks = []\n",
    "file_id = 0  # Start file IDs from 0\n",
    "i = 0  # Index in the input string\n",
    "\n",
    "while i < len(s):\n",
    "    # Length of the file\n",
    "    file_length = int(s[i])\n",
    "    i += 1\n",
    "\n",
    "    # Add file blocks with current file_id\n",
    "    blocks.extend([file_id] * file_length)\n",
    "    file_id += 1  # Increment file ID\n",
    "\n",
    "    if i < len(s):\n",
    "        # Length of free space\n",
    "        free_length = int(s[i])\n",
    "        i += 1\n",
    "\n",
    "        # Add free space blocks as None\n",
    "        blocks.extend([None] * free_length)\n",
    "\n",
    "# Simulate the moving process\n",
    "while True:\n",
    "    try:\n",
    "        # Find the leftmost free space index\n",
    "        left_index = blocks.index(None)\n",
    "    except ValueError:\n",
    "        # No free space left\n",
    "        break\n",
    "\n",
    "    # Find the rightmost file block index\n",
    "    right_index = len(blocks) - 1\n",
    "    while right_index >= 0 and blocks[right_index] is None:\n",
    "        right_index -= 1\n",
    "\n",
    "    if left_index >= right_index:\n",
    "        break  # No more moves possible\n",
    "\n",
    "    # Move the file block\n",
    "    file_id = blocks[right_index]\n",
    "    blocks[right_index] = None\n",
    "    blocks[left_index] = file_id\n",
    "\n",
    "# Calculate the checksum\n",
    "checksum = 0\n",
    "for position, block in enumerate(blocks):\n",
    "    if block is not None:\n",
    "        checksum += position * block\n",
    "\n",
    "# Output the result\n",
    "print(checksum)"
   ]
  },
  {
   "cell_type": "markdown",
   "metadata": {},
   "source": [
    "## Part 2"
   ]
  },
  {
   "cell_type": "code",
   "execution_count": 2,
   "metadata": {},
   "outputs": [
    {
     "name": "stdout",
     "output_type": "stream",
     "text": [
      "6460170593016\n"
     ]
    }
   ],
   "source": [
    "# Read the input from input.txt\n",
    "with open('input.txt', 'r') as f:\n",
    "    s = f.read().strip()\n",
    "\n",
    "# Parse the input into blocks\n",
    "blocks = []\n",
    "file_id = 0  # Start file IDs from 0\n",
    "i = 0  # Index in the input string\n",
    "\n",
    "while i < len(s):\n",
    "    # Length of the file\n",
    "    file_length = int(s[i])\n",
    "    i += 1\n",
    "\n",
    "    # Add file blocks with current file_id\n",
    "    blocks.extend([file_id] * file_length)\n",
    "    file_id += 1  # Increment file ID\n",
    "\n",
    "    if i < len(s):\n",
    "        # Length of free space\n",
    "        free_length = int(s[i])\n",
    "        i += 1\n",
    "\n",
    "        # Add free space blocks as None\n",
    "        blocks.extend([None] * free_length)\n",
    "\n",
    "# Record the total number of files\n",
    "total_files = file_id\n",
    "\n",
    "# Implement the movement process\n",
    "# For each file, starting from highest ID\n",
    "for file_id in range(total_files - 1, -1, -1):\n",
    "    # Find the positions of the file blocks\n",
    "    file_positions = [i for i, b in enumerate(blocks) if b == file_id]\n",
    "    file_length = len(file_positions)\n",
    "    # Find the leftmost position of the file\n",
    "    file_start = file_positions[0]\n",
    "\n",
    "    # Look for free space spans to the left of file\n",
    "    # We need spans that are to the left of file_start\n",
    "    found_span = False\n",
    "    i = 0\n",
    "    while i < file_start:\n",
    "        # Find the next free space\n",
    "        if blocks[i] is None:\n",
    "            # Check the length of the free space span\n",
    "            span_start = i\n",
    "            span_length = 0\n",
    "            while i < file_start and blocks[i] is None:\n",
    "                span_length += 1\n",
    "                i += 1\n",
    "            # If the span can fit the file\n",
    "            if span_length >= file_length:\n",
    "                # Move the file\n",
    "                # Remove the file blocks from current positions\n",
    "                for pos in file_positions:\n",
    "                    blocks[pos] = None\n",
    "                # Place the file blocks in the new positions\n",
    "                for j in range(span_start, span_start + file_length):\n",
    "                    blocks[j] = file_id\n",
    "                found_span = True\n",
    "                break\n",
    "        else:\n",
    "            i += 1\n",
    "    # If no suitable span found, do not move the file\n",
    "\n",
    "# Calculate the checksum\n",
    "checksum = 0\n",
    "for position, block in enumerate(blocks):\n",
    "    if block is not None:\n",
    "        checksum += position * block\n",
    "\n",
    "# Output the result\n",
    "print(checksum)"
   ]
  }
 ],
 "metadata": {
  "kernelspec": {
   "display_name": "AdventOfCode",
   "language": "python",
   "name": "python3"
  },
  "language_info": {
   "codemirror_mode": {
    "name": "ipython",
    "version": 3
   },
   "file_extension": ".py",
   "mimetype": "text/x-python",
   "name": "python",
   "nbconvert_exporter": "python",
   "pygments_lexer": "ipython3",
   "version": "3.10.15"
  }
 },
 "nbformat": 4,
 "nbformat_minor": 2
}
