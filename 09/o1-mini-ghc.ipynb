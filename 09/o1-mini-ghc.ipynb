{
 "cells": [
  {
   "cell_type": "markdown",
   "metadata": {},
   "source": [
    "# Day 09 - o1-mini (GHC)"
   ]
  },
  {
   "cell_type": "code",
   "execution_count": 5,
   "metadata": {},
   "outputs": [
    {
     "name": "stdout",
     "output_type": "stream",
     "text": [
      "8392559725774\n"
     ]
    }
   ],
   "source": [
    "# Python\n",
    "\n",
    "def parse_disk_map(disk_map):\n",
    "    layout = []\n",
    "    file_id = 0\n",
    "    is_file = True\n",
    "    for char in disk_map:\n",
    "        length = int(char)\n",
    "        if is_file:\n",
    "            layout.extend([str(file_id)] * length)\n",
    "            file_id += 1\n",
    "        else:\n",
    "            layout.extend(['.'] * length)\n",
    "        is_file = not is_file\n",
    "    return layout\n",
    "\n",
    "def compact_disk(layout):\n",
    "    while True:\n",
    "        try:\n",
    "            first_free = layout.index('.')\n",
    "        except ValueError:\n",
    "            # No free space, disk is fully compacted\n",
    "            break\n",
    "        # Find the first file block after the first free space\n",
    "        for i in range(first_free + 1, len(layout)):\n",
    "            if layout[i] != '.':\n",
    "                # Move this block to the first free space\n",
    "                layout[first_free], layout[i] = layout[i], '.'\n",
    "                break\n",
    "        else:\n",
    "            # No more file blocks to the right of free space\n",
    "            break\n",
    "    return layout\n",
    "\n",
    "def calculate_checksum(layout):\n",
    "    checksum = 0\n",
    "    for pos, block in enumerate(layout):\n",
    "        if block != '.':\n",
    "            checksum += pos * int(block)\n",
    "    return checksum\n",
    "\n",
    "def main():\n",
    "    with open('input.txt', 'r') as f:\n",
    "        disk_map = f.read().strip()\n",
    "    layout = parse_disk_map(disk_map)\n",
    "    compacted = compact_disk(layout)\n",
    "    checksum = calculate_checksum(compacted)\n",
    "    print(checksum)\n",
    "\n",
    "if __name__ == \"__main__\":\n",
    "    main()"
   ]
  },
  {
   "cell_type": "markdown",
   "metadata": {},
   "source": [
    "## Part 2"
   ]
  },
  {
   "cell_type": "code",
   "execution_count": null,
   "metadata": {},
   "outputs": [],
   "source": []
  }
 ],
 "metadata": {
  "kernelspec": {
   "display_name": "AdventOfCode",
   "language": "python",
   "name": "python3"
  },
  "language_info": {
   "codemirror_mode": {
    "name": "ipython",
    "version": 3
   },
   "file_extension": ".py",
   "mimetype": "text/x-python",
   "name": "python",
   "nbconvert_exporter": "python",
   "pygments_lexer": "ipython3",
   "version": "3.10.15"
  }
 },
 "nbformat": 4,
 "nbformat_minor": 2
}
