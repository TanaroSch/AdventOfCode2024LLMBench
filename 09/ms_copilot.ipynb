{
 "cells": [
  {
   "cell_type": "markdown",
   "metadata": {},
   "source": [
    "# Day 09 - MS Copilot"
   ]
  },
  {
   "cell_type": "code",
   "execution_count": 6,
   "metadata": {},
   "outputs": [
    {
     "name": "stdout",
     "output_type": "stream",
     "text": [
      "15832583748891\n"
     ]
    }
   ],
   "source": [
    "def parse_disk_map(disk_map):\n",
    "    blocks = []\n",
    "    file_id = 0\n",
    "    for i in range(0, len(disk_map), 2):\n",
    "        file_length = int(disk_map[i])\n",
    "        if i + 1 < len(disk_map):\n",
    "            space_length = int(disk_map[i + 1])\n",
    "        else:\n",
    "            space_length = 0\n",
    "        blocks.extend([str(file_id)] * file_length)\n",
    "        blocks.extend(['.'] * space_length)\n",
    "        file_id += 1\n",
    "    return blocks\n",
    "\n",
    "def compact_files(blocks):\n",
    "    for i in range(len(blocks) - 1, 0, -1):\n",
    "        if blocks[i] != '.':\n",
    "            j = i\n",
    "            while j > 0 and blocks[j - 1] == '.':\n",
    "                blocks[j - 1], blocks[j] = blocks[j], blocks[j - 1]\n",
    "                j -= 1\n",
    "    return blocks\n",
    "\n",
    "def calculate_checksum(blocks):\n",
    "    checksum = 0\n",
    "    for pos, block in enumerate(blocks):\n",
    "        if block != '.':\n",
    "            checksum += pos * int(block)\n",
    "    return checksum\n",
    "\n",
    "# Read the input from the file\n",
    "with open('input.txt', 'r') as file:\n",
    "    disk_map = file.read().strip()\n",
    "\n",
    "# Parse, compact, and calculate the checksum\n",
    "blocks = parse_disk_map(disk_map)\n",
    "compacted_blocks = compact_files(blocks)\n",
    "checksum = calculate_checksum(compacted_blocks)\n",
    "\n",
    "print(checksum)\n"
   ]
  },
  {
   "cell_type": "markdown",
   "metadata": {},
   "source": [
    "## Part 2"
   ]
  },
  {
   "cell_type": "code",
   "execution_count": null,
   "metadata": {},
   "outputs": [],
   "source": []
  }
 ],
 "metadata": {
  "kernelspec": {
   "display_name": "AdventOfCode",
   "language": "python",
   "name": "python3"
  },
  "language_info": {
   "codemirror_mode": {
    "name": "ipython",
    "version": 3
   },
   "file_extension": ".py",
   "mimetype": "text/x-python",
   "name": "python",
   "nbconvert_exporter": "python",
   "pygments_lexer": "ipython3",
   "version": "3.10.15"
  }
 },
 "nbformat": 4,
 "nbformat_minor": 2
}
