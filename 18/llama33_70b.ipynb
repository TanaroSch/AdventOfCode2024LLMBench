{
 "cells": [
  {
   "cell_type": "markdown",
   "metadata": {},
   "source": [
    "# Day 18 - Llama 3.3 70B"
   ]
  },
  {
   "cell_type": "code",
   "execution_count": 1,
   "metadata": {},
   "outputs": [
    {
     "name": "stdout",
     "output_type": "stream",
     "text": [
      "380\n"
     ]
    }
   ],
   "source": [
    "from collections import deque\n",
    "\n",
    "def read_input():\n",
    "    \"\"\"Read the input from the file.\"\"\"\n",
    "    with open('input.txt', 'r') as f:\n",
    "        coordinates = [tuple(map(int, line.strip().split(','))) for line in f]\n",
    "    return coordinates\n",
    "\n",
    "def simulate_falling_bytes(coordinates, size):\n",
    "    \"\"\"Simulate the falling bytes and return the corrupted coordinates.\"\"\"\n",
    "    corrupted = set()\n",
    "    for x, y in coordinates[:1024]:\n",
    "        corrupted.add((x, y))\n",
    "    return corrupted\n",
    "\n",
    "def min_steps_to_exit(corrupted, size):\n",
    "    \"\"\"Find the minimum number of steps to reach the exit.\"\"\"\n",
    "    queue = deque([(0, 0, 0)])  # (x, y, steps)\n",
    "    visited = set((0, 0))\n",
    "    directions = [(0, 1), (0, -1), (1, 0), (-1, 0)]\n",
    "\n",
    "    while queue:\n",
    "        x, y, steps = queue.popleft()\n",
    "        if (x, y) == (size, size):\n",
    "            return steps\n",
    "\n",
    "        for dx, dy in directions:\n",
    "            nx, ny = x + dx, y + dy\n",
    "            if (0 <= nx <= size) and (0 <= ny <= size) and (nx, ny) not in corrupted and (nx, ny) not in visited:\n",
    "                queue.append((nx, ny, steps + 1))\n",
    "                visited.add((nx, ny))\n",
    "\n",
    "    return -1  # No path to the exit\n",
    "\n",
    "def main():\n",
    "    coordinates = read_input()\n",
    "    size = 70\n",
    "    corrupted = simulate_falling_bytes(coordinates, size)\n",
    "    min_steps = min_steps_to_exit(corrupted, size)\n",
    "    print(min_steps)\n",
    "\n",
    "if __name__ == \"__main__\":\n",
    "    main()"
   ]
  },
  {
   "cell_type": "markdown",
   "metadata": {},
   "source": [
    "## Part 2"
   ]
  },
  {
   "cell_type": "code",
   "execution_count": 2,
   "metadata": {},
   "outputs": [
    {
     "name": "stdout",
     "output_type": "stream",
     "text": [
      "26,50\n"
     ]
    }
   ],
   "source": [
    "from collections import deque\n",
    "\n",
    "def read_input():\n",
    "    \"\"\"Read the input from the file.\"\"\"\n",
    "    with open('input.txt', 'r') as f:\n",
    "        coordinates = [tuple(map(int, line.strip().split(','))) for line in f]\n",
    "    return coordinates\n",
    "\n",
    "def simulate_falling_bytes(coordinates, size):\n",
    "    \"\"\"Simulate the falling bytes and return the corrupted coordinates.\"\"\"\n",
    "    corrupted = set()\n",
    "    for x, y in coordinates:\n",
    "        corrupted.add((x, y))\n",
    "    return corrupted\n",
    "\n",
    "def min_steps_to_exit(corrupted, size):\n",
    "    \"\"\"Find the minimum number of steps to reach the exit.\"\"\"\n",
    "    queue = deque([(0, 0, 0)])  # (x, y, steps)\n",
    "    visited = set((0, 0))\n",
    "    directions = [(0, 1), (0, -1), (1, 0), (-1, 0)]\n",
    "\n",
    "    while queue:\n",
    "        x, y, steps = queue.popleft()\n",
    "        if (x, y) == (size, size):\n",
    "            return True\n",
    "\n",
    "        for dx, dy in directions:\n",
    "            nx, ny = x + dx, y + dy\n",
    "            if (0 <= nx <= size) and (0 <= ny <= size) and (nx, ny) not in corrupted and (nx, ny) not in visited:\n",
    "                queue.append((nx, ny, steps + 1))\n",
    "                visited.add((nx, ny))\n",
    "\n",
    "    return False  # No path to the exit\n",
    "\n",
    "def main():\n",
    "    coordinates = read_input()\n",
    "    size = 70\n",
    "    for i in range(len(coordinates)):\n",
    "        corrupted = set()\n",
    "        for x, y in coordinates[:i+1]:\n",
    "            corrupted.add((x, y))\n",
    "        if not min_steps_to_exit(corrupted, size):\n",
    "            print(f\"{coordinates[i][0]},{coordinates[i][1]}\")\n",
    "            break\n",
    "\n",
    "if __name__ == \"__main__\":\n",
    "    main()"
   ]
  }
 ],
 "metadata": {
  "kernelspec": {
   "display_name": "AdventOfCode",
   "language": "python",
   "name": "python3"
  },
  "language_info": {
   "codemirror_mode": {
    "name": "ipython",
    "version": 3
   },
   "file_extension": ".py",
   "mimetype": "text/x-python",
   "name": "python",
   "nbconvert_exporter": "python",
   "pygments_lexer": "ipython3",
   "version": "3.10.15"
  }
 },
 "nbformat": 4,
 "nbformat_minor": 2
}
