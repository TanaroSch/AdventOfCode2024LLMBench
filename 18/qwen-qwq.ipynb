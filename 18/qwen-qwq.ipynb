{
 "cells": [
  {
   "cell_type": "markdown",
   "metadata": {},
   "source": [
    "# Day 18 - Qwen QwQ 32B"
   ]
  },
  {
   "cell_type": "code",
   "execution_count": 1,
   "metadata": {},
   "outputs": [
    {
     "name": "stdout",
     "output_type": "stream",
     "text": [
      "380\n"
     ]
    }
   ],
   "source": [
    "def main():\n",
    "    import sys\n",
    "    from collections import deque\n",
    "\n",
    "    # Define grid size\n",
    "    width = 71\n",
    "    height = 71\n",
    "\n",
    "    # Read the first 1024 coordinates from input file\n",
    "    corrupted_spots = set()\n",
    "    with open('input.txt', 'r') as f:\n",
    "        for _ in range(1024):\n",
    "            line = f.readline()\n",
    "            if not line:\n",
    "                break  # End of file\n",
    "            x, y = map(int, line.strip().split(','))\n",
    "            corrupted_spots.add((x, y))\n",
    "\n",
    "    # BFS setup\n",
    "    start = (0, 0)\n",
    "    target = (70, 70)\n",
    "    queue = deque([(start, 0)])  # (position, steps)\n",
    "    visited = set([start])\n",
    "\n",
    "    # Define possible moves\n",
    "    moves = [(0,1), (1,0), (0,-1), (-1,0)]  # right, down, left, up\n",
    "\n",
    "    while queue:\n",
    "        (current_x, current_y), steps = queue.popleft()\n",
    "\n",
    "        # Check if reached target\n",
    "        if (current_x, current_y) == target:\n",
    "            print(steps)\n",
    "            return\n",
    "\n",
    "        # Explore neighbors\n",
    "        for dx, dy in moves:\n",
    "            new_x = current_x + dx\n",
    "            new_y = current_y + dy\n",
    "\n",
    "            # Check if within bounds and not corrupted\n",
    "            if 0 <= new_x < width and 0 <= new_y < height:\n",
    "                new_position = (new_x, new_y)\n",
    "                if new_position not in corrupted_spots and new_position not in visited:\n",
    "                    visited.add(new_position)\n",
    "                    queue.append((new_position, steps + 1))\n",
    "\n",
    "    # If no path found\n",
    "    print(-1)\n",
    "\n",
    "if __name__ == \"__main__\":\n",
    "    main()"
   ]
  },
  {
   "cell_type": "markdown",
   "metadata": {},
   "source": [
    "## Part 2"
   ]
  },
  {
   "cell_type": "code",
   "execution_count": 2,
   "metadata": {},
   "outputs": [
    {
     "name": "stdout",
     "output_type": "stream",
     "text": [
      "None\n"
     ]
    }
   ],
   "source": [
    "from collections import deque\n",
    "\n",
    "def find_blockage(grid):\n",
    "    # Directions to move in the grid\n",
    "    directions = [(0, 1), (0, -1), (1, 0), (-1, 0)]\n",
    "    queue = deque([(0, 0)])  # Start at the top-left corner\n",
    "    visited = {(0, 0)}\n",
    "\n",
    "    while queue:\n",
    "        x, y = queue.popleft()\n",
    "        # Check if we've reached the exit\n",
    "        if grid[y][x] == 'O':\n",
    "            return (x, y)\n",
    "        \n",
    "        # Check all neighboring cells\n",
    "        for dx, dy in directions:\n",
    "            nx, ny = x + dx, y + dy\n",
    "            if 0 <= nx < len(grid[0]) and 0 <= ny < len(grid) and grid[ny][nx]!= '#':\n",
    "                # If we haven't visited this cell before, mark it as visited and add it to the queue\n",
    "                if (nx, ny) not in visited:\n",
    "                    visited.add((nx, ny))\n",
    "                    queue.append((nx, ny))\n",
    "    \n",
    "    return None\n",
    "\n",
    "grid = [\n",
    "    \".####\",\n",
    "    \"#..#.\",\n",
    "    \".#..#\",\n",
    "    \".....\",\n",
    "    \"###..\",\n",
    "    \".##.#\",\n",
    "    \"#.#..\",\n",
    "    \".....\"\n",
    "]\n",
    "print(find_blockage(grid))"
   ]
  },
  {
   "cell_type": "code",
   "execution_count": 3,
   "metadata": {},
   "outputs": [
    {
     "name": "stdout",
     "output_type": "stream",
     "text": [
      "First blocking byte: 26,50\n"
     ]
    }
   ],
   "source": [
    "from collections import deque\n",
    "\n",
    "def main():\n",
    "    # Read input\n",
    "    with open('input.txt', 'r') as f:\n",
    "        bytes_to_fall = [list(map(int, line.strip().split(','))) for line in f.readlines()]\n",
    "\n",
    "    # Initialize grid\n",
    "    grid_size = 71\n",
    "    grid = [['.' for _ in range(grid_size)] for _ in range(grid_size)]\n",
    "\n",
    "    # Function to check if there's a path from start to end\n",
    "    def is_path_available():\n",
    "        queue = deque()\n",
    "        visited = set()\n",
    "        queue.append((0, 0))\n",
    "        visited.add((0, 0))\n",
    "\n",
    "        while queue:\n",
    "            x, y = queue.popleft()\n",
    "\n",
    "            # If we reach the exit\n",
    "            if x == 70 and y == 70:\n",
    "                return True\n",
    "\n",
    "            # Define directions: up, down, left, right\n",
    "            directions = [(-1, 0), (1, 0), (0, -1), (0, 1)]\n",
    "\n",
    "            for dx, dy in directions:\n",
    "                nx, ny = x + dx, y + dy\n",
    "                if 0 <= nx < grid_size and 0 <= ny < grid_size and grid[ny][nx] == '.' and (nx, ny) not in visited:\n",
    "                    visited.add((nx, ny))\n",
    "                    queue.append((nx, ny))\n",
    "\n",
    "        return False\n",
    "\n",
    "    # Simulate bytes falling one by one\n",
    "    for byte in bytes_to_fall:\n",
    "        x, y = byte\n",
    "        grid[y][x] = '#'\n",
    "        if not is_path_available():\n",
    "            print(f\"First blocking byte: {x},{y}\")\n",
    "            return\n",
    "\n",
    "if __name__ == \"__main__\":\n",
    "    main()"
   ]
  }
 ],
 "metadata": {
  "kernelspec": {
   "display_name": "Python 3",
   "language": "python",
   "name": "python3"
  },
  "language_info": {
   "codemirror_mode": {
    "name": "ipython",
    "version": 3
   },
   "file_extension": ".py",
   "mimetype": "text/x-python",
   "name": "python",
   "nbconvert_exporter": "python",
   "pygments_lexer": "ipython3",
   "version": "3.11.6"
  }
 },
 "nbformat": 4,
 "nbformat_minor": 2
}
