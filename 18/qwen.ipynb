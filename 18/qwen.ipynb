{
 "cells": [
  {
   "cell_type": "markdown",
   "metadata": {},
   "source": [
    "# Day 18 - Qwen Coder 32B"
   ]
  },
  {
   "cell_type": "code",
   "execution_count": 2,
   "metadata": {},
   "outputs": [
    {
     "name": "stdout",
     "output_type": "stream",
     "text": [
      "Minimum number of steps needed to reach the exit: 380\n"
     ]
    }
   ],
   "source": [
    "from collections import deque\n",
    "\n",
    "def read_input(filename):\n",
    "    with open(filename, 'r') as file:\n",
    "        lines = file.readlines()\n",
    "    return [tuple(map(int, line.strip().split(','))) for line in lines]\n",
    "\n",
    "def bfs(grid_size, start, end, corrupted):\n",
    "    # Directions for moving up, down, left, right\n",
    "    directions = [(-1, 0), (1, 0), (0, -1), (0, 1)]\n",
    "    \n",
    "    # Initialize the queue with the starting position and step count\n",
    "    queue = deque([(start[0], start[1], 0)])\n",
    "    visited = set()\n",
    "    visited.add(start)\n",
    "    \n",
    "    while queue:\n",
    "        x, y, steps = queue.popleft()\n",
    "        \n",
    "        # If we reach the end, return the number of steps\n",
    "        if (x, y) == end:\n",
    "            return steps\n",
    "        \n",
    "        # Explore the neighbors\n",
    "        for dx, dy in directions:\n",
    "            nx, ny = x + dx, y + dy\n",
    "            if 0 <= nx < grid_size and 0 <= ny < grid_size and (nx, ny) not in corrupted and (nx, ny) not in visited:\n",
    "                visited.add((nx, ny))\n",
    "                queue.append((nx, ny, steps + 1))\n",
    "    \n",
    "    # If we exhaust the queue without finding the end, return -1 (though this shouldn't happen in this problem)\n",
    "    return -1\n",
    "\n",
    "def main():\n",
    "    # Read the input coordinates\n",
    "    coordinates = read_input('input.txt')\n",
    "    \n",
    "    # Simulate the first 1024 bytes falling\n",
    "    corrupted = set(coordinates[:1024])\n",
    "    \n",
    "    # Define grid size, start, and end points\n",
    "    grid_size = 71  # Since coordinates range from 0 to 70\n",
    "    start = (0, 0)\n",
    "    end = (70, 70)\n",
    "    \n",
    "    # Find the shortest path using BFS\n",
    "    min_steps = bfs(grid_size, start, end, corrupted)\n",
    "    \n",
    "    print(\"Minimum number of steps needed to reach the exit:\", min_steps)\n",
    "\n",
    "if __name__ == \"__main__\":\n",
    "    main()"
   ]
  },
  {
   "cell_type": "markdown",
   "metadata": {},
   "source": [
    "## Part 2"
   ]
  },
  {
   "cell_type": "code",
   "execution_count": 3,
   "metadata": {},
   "outputs": [
    {
     "name": "stdout",
     "output_type": "stream",
     "text": [
      "26,50\n"
     ]
    }
   ],
   "source": [
    "from collections import deque\n",
    "\n",
    "def read_input(filename):\n",
    "    with open(filename, 'r') as file:\n",
    "        lines = file.readlines()\n",
    "    return [tuple(map(int, line.strip().split(','))) for line in lines]\n",
    "\n",
    "def bfs(grid_size, start, end, corrupted):\n",
    "    # Directions for moving up, down, left, right\n",
    "    directions = [(-1, 0), (1, 0), (0, -1), (0, 1)]\n",
    "    \n",
    "    # Initialize the queue with the starting position and step count\n",
    "    queue = deque([(start[0], start[1])])\n",
    "    visited = set()\n",
    "    visited.add(start)\n",
    "    \n",
    "    while queue:\n",
    "        x, y = queue.popleft()\n",
    "        \n",
    "        # If we reach the end, return True\n",
    "        if (x, y) == end:\n",
    "            return True\n",
    "        \n",
    "        # Explore the neighbors\n",
    "        for dx, dy in directions:\n",
    "            nx, ny = x + dx, y + dy\n",
    "            if 0 <= nx < grid_size and 0 <= ny < grid_size and (nx, ny) not in corrupted and (nx, ny) not in visited:\n",
    "                visited.add((nx, ny))\n",
    "                queue.append((nx, ny))\n",
    "    \n",
    "    # If we exhaust the queue without finding the end, return False\n",
    "    return False\n",
    "\n",
    "def find_critical_byte(coordinates):\n",
    "    # Define grid size, start, and end points\n",
    "    grid_size = 71  # Since coordinates range from 0 to 70\n",
    "    start = (0, 0)\n",
    "    end = (70, 70)\n",
    "    \n",
    "    # Initialize the set of corrupted positions\n",
    "    corrupted = set()\n",
    "    \n",
    "    # Simulate the falling bytes one by one\n",
    "    for i, (x, y) in enumerate(coordinates):\n",
    "        # Mark the current byte as corrupted\n",
    "        corrupted.add((x, y))\n",
    "        \n",
    "        # Check if there is still a path from start to end\n",
    "        if not bfs(grid_size, start, end, corrupted):\n",
    "            return (x, y)\n",
    "    \n",
    "    # If no byte prevents the path, return None (though this shouldn't happen in this problem)\n",
    "    return None\n",
    "\n",
    "def main():\n",
    "    # Read the input coordinates\n",
    "    coordinates = read_input('input.txt')\n",
    "    \n",
    "    # Find the critical byte that prevents the exit from being reachable\n",
    "    critical_byte = find_critical_byte(coordinates)\n",
    "    \n",
    "    # Print the coordinates of the critical byte\n",
    "    print(f\"{critical_byte[0]},{critical_byte[1]}\")\n",
    "\n",
    "if __name__ == \"__main__\":\n",
    "    main()"
   ]
  }
 ],
 "metadata": {
  "kernelspec": {
   "display_name": "AdventOfCode",
   "language": "python",
   "name": "python3"
  },
  "language_info": {
   "codemirror_mode": {
    "name": "ipython",
    "version": 3
   },
   "file_extension": ".py",
   "mimetype": "text/x-python",
   "name": "python",
   "nbconvert_exporter": "python",
   "pygments_lexer": "ipython3",
   "version": "3.10.15"
  }
 },
 "nbformat": 4,
 "nbformat_minor": 2
}
