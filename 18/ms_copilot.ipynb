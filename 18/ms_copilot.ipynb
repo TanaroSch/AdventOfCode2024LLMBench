{
 "cells": [
  {
   "cell_type": "markdown",
   "metadata": {},
   "source": [
    "# Day 18 - MS Copilot"
   ]
  },
  {
   "cell_type": "code",
   "execution_count": 1,
   "metadata": {},
   "outputs": [
    {
     "name": "stdout",
     "output_type": "stream",
     "text": [
      "The minimum number of steps needed to reach the exit is 380.\n"
     ]
    }
   ],
   "source": [
    "import heapq\n",
    "\n",
    "# Read the input file\n",
    "with open('input.txt', 'r') as file:\n",
    "    lines = file.readlines()\n",
    "\n",
    "# Parse the input coordinates\n",
    "coordinates = [tuple(map(int, line.strip().split(','))) for line in lines]\n",
    "\n",
    "# Define the grid size\n",
    "grid_size = 71\n",
    "\n",
    "# Initialize the grid with safe cells ('.')\n",
    "grid = [['.' for _ in range(grid_size)] for _ in range(grid_size)]\n",
    "\n",
    "# Mark the corrupted cells ('#')\n",
    "for x, y in coordinates[:1024]:\n",
    "    grid[y][x] = '#'\n",
    "\n",
    "# Define the directions for moving up, down, left, and right\n",
    "directions = [(-1, 0), (1, 0), (0, -1), (0, 1)]\n",
    "\n",
    "# Function to check if a cell is within the grid and not corrupted\n",
    "def is_safe(x, y):\n",
    "    return 0 <= x < grid_size and 0 <= y < grid_size and grid[y][x] == '.'\n",
    "\n",
    "# Function to find the shortest path using Dijkstra's algorithm\n",
    "def shortest_path():\n",
    "    # Priority queue to store (steps, x, y)\n",
    "    pq = [(0, 0, 0)]\n",
    "    # Set to store visited cells\n",
    "    visited = set()\n",
    "    \n",
    "    while pq:\n",
    "        steps, x, y = heapq.heappop(pq)\n",
    "        \n",
    "        # If we reach the bottom-right corner, return the number of steps\n",
    "        if (x, y) == (grid_size - 1, grid_size - 1):\n",
    "            return steps\n",
    "        \n",
    "        # If the cell is already visited, skip it\n",
    "        if (x, y) in visited:\n",
    "            continue\n",
    "        \n",
    "        # Mark the cell as visited\n",
    "        visited.add((x, y))\n",
    "        \n",
    "        # Explore the neighboring cells\n",
    "        for dx, dy in directions:\n",
    "            nx, ny = x + dx, y + dy\n",
    "            if is_safe(nx, ny):\n",
    "                heapq.heappush(pq, (steps + 1, nx, ny))\n",
    "    \n",
    "    # If there's no path to the exit\n",
    "    return -1\n",
    "\n",
    "# Find and print the shortest path\n",
    "min_steps = shortest_path()\n",
    "print(f\"The minimum number of steps needed to reach the exit is {min_steps}.\")\n"
   ]
  },
  {
   "cell_type": "markdown",
   "metadata": {},
   "source": [
    "## Part 2"
   ]
  },
  {
   "cell_type": "code",
   "execution_count": 2,
   "metadata": {},
   "outputs": [
    {
     "name": "stdout",
     "output_type": "stream",
     "text": [
      "The first byte that will prevent the exit from being reachable is at coordinates 26,50.\n"
     ]
    }
   ],
   "source": [
    "import heapq\n",
    "\n",
    "# Read the input file\n",
    "with open('input.txt', 'r') as file:\n",
    "    lines = file.readlines()\n",
    "\n",
    "# Parse the input coordinates\n",
    "coordinates = [tuple(map(int, line.strip().split(','))) for line in lines]\n",
    "\n",
    "# Define the grid size\n",
    "grid_size = 71\n",
    "\n",
    "# Initialize the grid with safe cells ('.')\n",
    "grid = [['.' for _ in range(grid_size)] for _ in range(grid_size)]\n",
    "\n",
    "# Define the directions for moving up, down, left, and right\n",
    "directions = [(-1, 0), (1, 0), (0, -1), (0, 1)]\n",
    "\n",
    "# Function to check if a cell is within the grid and not corrupted\n",
    "def is_safe(x, y):\n",
    "    return 0 <= x < grid_size and 0 <= y < grid_size and grid[y][x] == '.'\n",
    "\n",
    "# Function to find the shortest path using Dijkstra's algorithm\n",
    "def shortest_path():\n",
    "    # Priority queue to store (steps, x, y)\n",
    "    pq = [(0, 0, 0)]\n",
    "    # Set to store visited cells\n",
    "    visited = set()\n",
    "    \n",
    "    while pq:\n",
    "        steps, x, y = heapq.heappop(pq)\n",
    "        \n",
    "        # If we reach the bottom-right corner, return the number of steps\n",
    "        if (x, y) == (grid_size - 1, grid_size - 1):\n",
    "            return steps\n",
    "        \n",
    "        # If the cell is already visited, skip it\n",
    "        if (x, y) in visited:\n",
    "            continue\n",
    "        \n",
    "        # Mark the cell as visited\n",
    "        visited.add((x, y))\n",
    "        \n",
    "        # Explore the neighboring cells\n",
    "        for dx, dy in directions:\n",
    "            nx, ny = x + dx, y + dy\n",
    "            if is_safe(nx, ny):\n",
    "                heapq.heappush(pq, (steps + 1, nx, ny))\n",
    "    \n",
    "    # If there's no path to the exit\n",
    "    return -1\n",
    "\n",
    "# Simulate bytes falling and find the first byte that blocks the path\n",
    "for i, (x, y) in enumerate(coordinates):\n",
    "    # Mark the current byte as corrupted\n",
    "    grid[y][x] = '#'\n",
    "    \n",
    "    # Check if there's still a path to the exit\n",
    "    if shortest_path() == -1:\n",
    "        print(f\"The first byte that will prevent the exit from being reachable is at coordinates {x},{y}.\")\n",
    "        break"
   ]
  }
 ],
 "metadata": {
  "kernelspec": {
   "display_name": "Python 3",
   "language": "python",
   "name": "python3"
  },
  "language_info": {
   "codemirror_mode": {
    "name": "ipython",
    "version": 3
   },
   "file_extension": ".py",
   "mimetype": "text/x-python",
   "name": "python",
   "nbconvert_exporter": "python",
   "pygments_lexer": "ipython3",
   "version": "3.11.6"
  }
 },
 "nbformat": 4,
 "nbformat_minor": 2
}
