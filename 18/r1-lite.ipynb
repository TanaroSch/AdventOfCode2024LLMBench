{
 "cells": [
  {
   "cell_type": "markdown",
   "metadata": {},
   "source": [
    "# Day 18 - Deepseek R1 Lite"
   ]
  },
  {
   "cell_type": "code",
   "execution_count": 1,
   "metadata": {},
   "outputs": [
    {
     "name": "stdout",
     "output_type": "stream",
     "text": [
      "Shortest path in 380 steps.\n"
     ]
    }
   ],
   "source": [
    "from collections import deque\n",
    "\n",
    "def main():\n",
    "    # Define grid boundaries\n",
    "    MAX_X = 70\n",
    "    MAX_Y = 70\n",
    "\n",
    "    # Read input from file\n",
    "    with open('input.txt', 'r') as f:\n",
    "        lines = f.readlines()\n",
    "\n",
    "    # Parse coordinates\n",
    "    coordinates = [tuple(map(int, line.strip().split(','))) for line in lines if line.strip()]\n",
    "\n",
    "    # Take first 1024 bytes\n",
    "    corrupted = set(coordinates[:1024])\n",
    "\n",
    "    # Check if start or end is corrupted\n",
    "    start = (0, 0)\n",
    "    end = (70, 70)\n",
    "    if start in corrupted or end in corrupted:\n",
    "        print(\"No path possible.\")\n",
    "        return\n",
    "\n",
    "    # Directions: up, down, left, right\n",
    "    directions = [(-1, 0), (1, 0), (0, -1), (0, 1)]\n",
    "\n",
    "    # BFS queue: (x, y, steps)\n",
    "    queue = deque()\n",
    "    queue.append((start[0], start[1], 0))\n",
    "\n",
    "    # Visited set\n",
    "    visited = set()\n",
    "    visited.add(start)\n",
    "\n",
    "    while queue:\n",
    "        x, y, steps = queue.popleft()\n",
    "\n",
    "        # Check if reached the end\n",
    "        if (x, y) == end:\n",
    "            print(f\"Shortest path in {steps} steps.\")\n",
    "            return\n",
    "\n",
    "        # Explore neighbors\n",
    "        for dx, dy in directions:\n",
    "            nx, ny = x + dx, y + dy\n",
    "\n",
    "            # Check boundaries\n",
    "            if 0 <= nx <= MAX_X and 0 <= ny <= MAX_Y:\n",
    "                # Check if not corrupted and not visited\n",
    "                if (nx, ny) not in corrupted and (nx, ny) not in visited:\n",
    "                    visited.add((nx, ny))\n",
    "                    queue.append((nx, ny, steps + 1))\n",
    "\n",
    "    # If no path found\n",
    "    print(\"No path possible.\")\n",
    "\n",
    "if __name__ == \"__main__\":\n",
    "    main()"
   ]
  },
  {
   "cell_type": "markdown",
   "metadata": {},
   "source": [
    "## Part 2"
   ]
  },
  {
   "cell_type": "code",
   "execution_count": 2,
   "metadata": {},
   "outputs": [
    {
     "name": "stdout",
     "output_type": "stream",
     "text": [
      "26,50\n"
     ]
    }
   ],
   "source": [
    "from collections import deque\n",
    "\n",
    "def is_path_clear(byte_positions, m, MAX_X=70, MAX_Y=70):\n",
    "    corrupted = set(byte_positions[:m])\n",
    "    start = (0, 0)\n",
    "    exit = (70, 70)\n",
    "    \n",
    "    if start in corrupted or exit in corrupted:\n",
    "        return False\n",
    "    \n",
    "    queue = deque()\n",
    "    queue.append(start)\n",
    "    visited = set()\n",
    "    visited.add(start)\n",
    "    \n",
    "    directions = [(-1, 0), (1, 0), (0, -1), (0, 1)]\n",
    "    \n",
    "    while queue:\n",
    "        x, y = queue.popleft()\n",
    "        \n",
    "        if (x, y) == exit:\n",
    "            return True\n",
    "        \n",
    "        for dx, dy in directions:\n",
    "            nx, ny = x + dx, y + dy\n",
    "            if 0 <= nx <= MAX_X and 0 <= ny <= MAX_Y:\n",
    "                neighbor = (nx, ny)\n",
    "                if neighbor not in corrupted and neighbor not in visited:\n",
    "                    visited.add(neighbor)\n",
    "                    queue.append(neighbor)\n",
    "    \n",
    "    return False\n",
    "\n",
    "def main():\n",
    "    with open('input.txt', 'r') as f:\n",
    "        lines = f.readlines()\n",
    "    \n",
    "    byte_positions = [tuple(map(int, line.strip().split(','))) for line in lines if line.strip()]\n",
    "    total_bytes = len(byte_positions)\n",
    "    \n",
    "    left = 0\n",
    "    right = total_bytes\n",
    "    critical_byte = -1\n",
    "    \n",
    "    while left <= right:\n",
    "        mid = (left + right) // 2\n",
    "        if is_path_clear(byte_positions, mid):\n",
    "            left = mid + 1\n",
    "        else:\n",
    "            right = mid - 1\n",
    "    \n",
    "    if left == 0:\n",
    "        print(f\"{byte_positions[0][0]},{byte_positions[0][1]}\")\n",
    "    elif left <= total_bytes:\n",
    "        critical_byte = left - 1\n",
    "        print(f\"{byte_positions[critical_byte][0]},{byte_positions[critical_byte][1]}\")\n",
    "    else:\n",
    "        print(\"All bytes have fallen, and the path is still clear.\")\n",
    "\n",
    "if __name__ == \"__main__\":\n",
    "    main()"
   ]
  }
 ],
 "metadata": {
  "kernelspec": {
   "display_name": "Python 3",
   "language": "python",
   "name": "python3"
  },
  "language_info": {
   "codemirror_mode": {
    "name": "ipython",
    "version": 3
   },
   "file_extension": ".py",
   "mimetype": "text/x-python",
   "name": "python",
   "nbconvert_exporter": "python",
   "pygments_lexer": "ipython3",
   "version": "3.11.6"
  }
 },
 "nbformat": 4,
 "nbformat_minor": 2
}
