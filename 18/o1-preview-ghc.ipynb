{
 "cells": [
  {
   "cell_type": "markdown",
   "metadata": {},
   "source": [
    "# Day 18 - o1-preview (GHC)"
   ]
  },
  {
   "cell_type": "code",
   "execution_count": 1,
   "metadata": {},
   "outputs": [],
   "source": [
    "from collections import deque\n",
    "\n",
    "def solve():\n",
    "    corrupted = [[False]*71 for _ in range(71)]\n",
    "    with open(\"input.txt\") as f:\n",
    "        for _ in range(1024):\n",
    "            x, y = map(int, f.readline().split(','))\n",
    "            corrupted[y][x] = True\n",
    "\n",
    "    moves = [(0,1),(0,-1),(1,0),(-1,0)]\n",
    "    queue = deque([(0,0,0)])\n",
    "    visited = {(0,0)}\n",
    "\n",
    "    while queue:\n",
    "        x, y, dist = queue.popleft()\n",
    "        if x == 70 and y == 70:\n",
    "            print(dist)\n",
    "            return\n",
    "        for dx, dy in moves:\n",
    "            nx, ny = x+dx, y+dy\n",
    "            if 0<=nx<71 and 0<=ny<71 and not corrupted[ny][nx] and (nx,ny) not in visited:\n",
    "                visited.add((nx,ny))\n",
    "                queue.append((nx,ny,dist+1))\n",
    "\n",
    "    print(\"No path\")"
   ]
  },
  {
   "cell_type": "code",
   "execution_count": 2,
   "metadata": {},
   "outputs": [
    {
     "name": "stdout",
     "output_type": "stream",
     "text": [
      "380\n"
     ]
    }
   ],
   "source": [
    "solve()"
   ]
  },
  {
   "cell_type": "markdown",
   "metadata": {},
   "source": [
    "## Part 2"
   ]
  },
  {
   "cell_type": "code",
   "execution_count": 3,
   "metadata": {},
   "outputs": [],
   "source": [
    "from collections import deque\n",
    "\n",
    "def solve():\n",
    "    with open(\"input.txt\") as f:\n",
    "        lines = f.read().strip().splitlines()\n",
    "\n",
    "    corrupted = [[False]*71 for _ in range(71)]\n",
    "\n",
    "    def can_reach():\n",
    "        visited = set()\n",
    "        queue = deque([(0, 0)])\n",
    "        visited.add((0, 0))\n",
    "        while queue:\n",
    "            x, y = queue.popleft()\n",
    "            if x == 70 and y == 70:\n",
    "                return True\n",
    "            for dx, dy in [(0,1),(0,-1),(1,0),(-1,0)]:\n",
    "                nx, ny = x+dx, y+dy\n",
    "                if 0 <= nx < 71 and 0 <= ny < 71 and not corrupted[ny][nx] and (nx, ny) not in visited:\n",
    "                    visited.add((nx, ny))\n",
    "                    queue.append((nx, ny))\n",
    "        return False\n",
    "\n",
    "    for line in lines:\n",
    "        x, y = map(int, line.split(','))\n",
    "        corrupted[y][x] = True\n",
    "        if not can_reach():\n",
    "            print(f\"{x},{y}\")\n",
    "            return\n",
    "\n",
    "    print(\"No cutoff found\")"
   ]
  },
  {
   "cell_type": "code",
   "execution_count": 4,
   "metadata": {},
   "outputs": [
    {
     "name": "stdout",
     "output_type": "stream",
     "text": [
      "26,50\n"
     ]
    }
   ],
   "source": [
    "solve()"
   ]
  }
 ],
 "metadata": {
  "kernelspec": {
   "display_name": "AdventOfCode",
   "language": "python",
   "name": "python3"
  },
  "language_info": {
   "codemirror_mode": {
    "name": "ipython",
    "version": 3
   },
   "file_extension": ".py",
   "mimetype": "text/x-python",
   "name": "python",
   "nbconvert_exporter": "python",
   "pygments_lexer": "ipython3",
   "version": "3.10.15"
  }
 },
 "nbformat": 4,
 "nbformat_minor": 2
}
