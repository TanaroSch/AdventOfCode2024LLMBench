{
 "cells": [
  {
   "cell_type": "markdown",
   "metadata": {},
   "source": [
    "# Day 18 - Gemini"
   ]
  },
  {
   "cell_type": "code",
   "execution_count": 1,
   "metadata": {},
   "outputs": [
    {
     "name": "stdout",
     "output_type": "stream",
     "text": [
      "380\n"
     ]
    }
   ],
   "source": [
    "from collections import deque\n",
    "\n",
    "def solve():\n",
    "    grid_size = 71  # Actual grid size is 71x71 (0 to 70)\n",
    "    max_bytes = 1024\n",
    "\n",
    "    with open(\"input.txt\", \"r\") as f:\n",
    "        byte_positions = [tuple(map(int, line.strip().split(','))) for line in f]\n",
    "\n",
    "    def is_valid(r, c, grid):\n",
    "        return 0 <= r < grid_size and 0 <= c < grid_size and grid[r][c] == 0\n",
    "\n",
    "    def find_shortest_path(grid):\n",
    "        q = deque([(0, 0, 0)])  # (row, col, steps)\n",
    "        visited = set()\n",
    "        visited.add((0, 0))\n",
    "\n",
    "        while q:\n",
    "            r, c, steps = q.popleft()\n",
    "\n",
    "            if r == grid_size - 1 and c == grid_size - 1:\n",
    "                return steps\n",
    "\n",
    "            for dr, dc in [(0, 1), (0, -1), (1, 0), (-1, 0)]:\n",
    "                nr, nc = r + dr, c + dc\n",
    "                if is_valid(nr, nc, grid) and (nr, nc) not in visited:\n",
    "                    q.append((nr, nc, steps + 1))\n",
    "                    visited.add((nr, nc))\n",
    "\n",
    "        return -1  # No path found\n",
    "\n",
    "    grid = [[0] * grid_size for _ in range(grid_size)]\n",
    "    \n",
    "    for i in range(min(max_bytes, len(byte_positions))):\n",
    "        x, y = byte_positions[i]\n",
    "        grid[y][x] = 1\n",
    "\n",
    "    shortest_path_length = find_shortest_path(grid)\n",
    "    print(shortest_path_length)\n",
    "\n",
    "solve()"
   ]
  },
  {
   "cell_type": "markdown",
   "metadata": {},
   "source": [
    "## Part 2"
   ]
  },
  {
   "cell_type": "code",
   "execution_count": 2,
   "metadata": {},
   "outputs": [
    {
     "name": "stdout",
     "output_type": "stream",
     "text": [
      "26,50\n"
     ]
    }
   ],
   "source": [
    "from collections import deque\n",
    "\n",
    "def solve():\n",
    "    grid_size = 71\n",
    "    \n",
    "    with open(\"input.txt\", \"r\") as f:\n",
    "        byte_positions = [tuple(map(int, line.strip().split(','))) for line in f]\n",
    "\n",
    "    def is_valid(r, c, grid):\n",
    "        return 0 <= r < grid_size and 0 <= c < grid_size and grid[r][c] == 0\n",
    "\n",
    "    def find_shortest_path(grid):\n",
    "        q = deque([(0, 0, 0)])\n",
    "        visited = set()\n",
    "        visited.add((0, 0))\n",
    "\n",
    "        while q:\n",
    "            r, c, steps = q.popleft()\n",
    "\n",
    "            if r == grid_size - 1 and c == grid_size - 1:\n",
    "                return steps\n",
    "\n",
    "            for dr, dc in [(0, 1), (0, -1), (1, 0), (-1, 0)]:\n",
    "                nr, nc = r + dr, c + dc\n",
    "                if is_valid(nr, nc, grid) and (nr, nc) not in visited:\n",
    "                    q.append((nr, nc, steps + 1))\n",
    "                    visited.add((nr, nc))\n",
    "\n",
    "        return -1\n",
    "\n",
    "    for i in range(len(byte_positions)):\n",
    "        grid = [[0] * grid_size for _ in range(grid_size)]\n",
    "        for j in range(i + 1):\n",
    "            x, y = byte_positions[j]\n",
    "            grid[y][x] = 1\n",
    "            \n",
    "        if find_shortest_path(grid) == -1:\n",
    "            print(f\"{x},{y}\")\n",
    "            return\n",
    "\n",
    "solve()"
   ]
  }
 ],
 "metadata": {
  "kernelspec": {
   "display_name": "AdventOfCode",
   "language": "python",
   "name": "python3"
  },
  "language_info": {
   "codemirror_mode": {
    "name": "ipython",
    "version": 3
   },
   "file_extension": ".py",
   "mimetype": "text/x-python",
   "name": "python",
   "nbconvert_exporter": "python",
   "pygments_lexer": "ipython3",
   "version": "3.10.15"
  }
 },
 "nbformat": 4,
 "nbformat_minor": 2
}
