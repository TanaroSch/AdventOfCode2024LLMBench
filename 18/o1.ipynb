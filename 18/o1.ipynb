{
 "cells": [
  {
   "cell_type": "markdown",
   "metadata": {},
   "source": [
    "# Day 18 - o1"
   ]
  },
  {
   "cell_type": "code",
   "execution_count": 1,
   "metadata": {},
   "outputs": [
    {
     "name": "stdout",
     "output_type": "stream",
     "text": [
      "380\n"
     ]
    }
   ],
   "source": [
    "from collections import deque\n",
    "\n",
    "def solve():\n",
    "    # Memory space dimensions\n",
    "    WIDTH, HEIGHT = 71, 71\n",
    "    \n",
    "    # Read the first 1024 lines (kilobyte) of byte positions from input.txt\n",
    "    corrupted = [[False]*WIDTH for _ in range(HEIGHT)]\n",
    "    \n",
    "    with open(\"input.txt\", \"r\") as f:\n",
    "        count = 0\n",
    "        for line in f:\n",
    "            # Stop after reading 1024 lines\n",
    "            if count >= 1024:\n",
    "                break\n",
    "            \n",
    "            line = line.strip()\n",
    "            if not line:\n",
    "                continue\n",
    "            x_str, y_str = line.split(',')\n",
    "            x, y = int(x_str), int(y_str)\n",
    "            \n",
    "            # Mark the corresponding position as corrupted\n",
    "            # Ensure it's within bounds (just a sanity check)\n",
    "            if 0 <= x < WIDTH and 0 <= y < HEIGHT:\n",
    "                corrupted[y][x] = True\n",
    "            \n",
    "            count += 1\n",
    "    \n",
    "    # We need to find the shortest path from (0,0) to (70,70),\n",
    "    # moving up/down/left/right without entering corrupted cells.\n",
    "    \n",
    "    start = (0, 0)\n",
    "    goal = (WIDTH-1, HEIGHT-1)\n",
    "    \n",
    "    # If start or goal is corrupted, no path exists\n",
    "    if corrupted[start[1]][start[0]] or corrupted[goal[1]][goal[0]]:\n",
    "        print(\"No path\")\n",
    "        return\n",
    "    \n",
    "    # BFS to find shortest path\n",
    "    directions = [(1,0),(-1,0),(0,1),(0,-1)]\n",
    "    visited = [[False]*WIDTH for _ in range(HEIGHT)]\n",
    "    \n",
    "    queue = deque()\n",
    "    queue.append((start[0], start[1], 0))  # (x, y, steps)\n",
    "    visited[start[1]][start[0]] = True\n",
    "    \n",
    "    while queue:\n",
    "        x, y, steps = queue.popleft()\n",
    "        \n",
    "        if (x, y) == goal:\n",
    "            print(steps)  # Number of steps to reach the exit\n",
    "            return\n",
    "        \n",
    "        for dx, dy in directions:\n",
    "            nx, ny = x + dx, y + dy\n",
    "            if 0 <= nx < WIDTH and 0 <= ny < HEIGHT:\n",
    "                if not corrupted[ny][nx] and not visited[ny][nx]:\n",
    "                    visited[ny][nx] = True\n",
    "                    queue.append((nx, ny, steps+1))\n",
    "    \n",
    "    # If we get here, no path was found\n",
    "    print(\"No path\")\n",
    "\n",
    "if __name__ == \"__main__\":\n",
    "    solve()\n"
   ]
  },
  {
   "cell_type": "markdown",
   "metadata": {},
   "source": [
    "## Part 2"
   ]
  },
  {
   "cell_type": "code",
   "execution_count": 2,
   "metadata": {},
   "outputs": [
    {
     "name": "stdout",
     "output_type": "stream",
     "text": [
      "26,50\n"
     ]
    }
   ],
   "source": [
    "from collections import deque\n",
    "\n",
    "def can_reach_exit(corrupted, width, height):\n",
    "    # Check if there's a path from (0,0) to (width-1, height-1)\n",
    "    if corrupted[0][0] or corrupted[height-1][width-1]:\n",
    "        return False\n",
    "    \n",
    "    directions = [(1,0),(-1,0),(0,1),(0,-1)]\n",
    "    visited = [[False]*width for _ in range(height)]\n",
    "    queue = deque()\n",
    "    queue.append((0, 0))\n",
    "    visited[0][0] = True\n",
    "    \n",
    "    while queue:\n",
    "        x, y = queue.popleft()\n",
    "        if (x, y) == (width-1, height-1):\n",
    "            return True\n",
    "        \n",
    "        for dx, dy in directions:\n",
    "            nx, ny = x + dx, y + dy\n",
    "            if 0 <= nx < width and 0 <= ny < height:\n",
    "                if not corrupted[ny][nx] and not visited[ny][nx]:\n",
    "                    visited[ny][nx] = True\n",
    "                    queue.append((nx, ny))\n",
    "    \n",
    "    return False\n",
    "\n",
    "def solve():\n",
    "    # Memory space dimensions\n",
    "    WIDTH, HEIGHT = 71, 71\n",
    "    \n",
    "    # Initialize all cells as safe\n",
    "    corrupted = [[False]*WIDTH for _ in range(HEIGHT)]\n",
    "    \n",
    "    # We'll keep adding bytes one by one and check connectivity each time\n",
    "    with open(\"input.txt\", \"r\") as f:\n",
    "        for line in f:\n",
    "            line = line.strip()\n",
    "            if not line:\n",
    "                continue\n",
    "            x_str, y_str = line.split(',')\n",
    "            x, y = int(x_str), int(y_str)\n",
    "            \n",
    "            # Mark the cell as corrupted\n",
    "            if 0 <= x < WIDTH and 0 <= y < HEIGHT:\n",
    "                corrupted[y][x] = True\n",
    "            \n",
    "            # After this byte falls, check if we can still reach the exit\n",
    "            if not can_reach_exit(corrupted, WIDTH, HEIGHT):\n",
    "                # This is the first byte that prevents the exit from being reachable\n",
    "                print(f\"{x},{y}\")\n",
    "                return\n",
    "\n",
    "    # If we never found a byte that blocked the path, print nothing or indicate that.\n",
    "    # The problem implies we should always find such a byte at some point, \n",
    "    # but if not, we could do:\n",
    "    # print(\"No byte blocked the path.\")\n",
    "    \n",
    "if __name__ == \"__main__\":\n",
    "    solve()\n"
   ]
  }
 ],
 "metadata": {
  "kernelspec": {
   "display_name": "Python 3",
   "language": "python",
   "name": "python3"
  },
  "language_info": {
   "codemirror_mode": {
    "name": "ipython",
    "version": 3
   },
   "file_extension": ".py",
   "mimetype": "text/x-python",
   "name": "python",
   "nbconvert_exporter": "python",
   "pygments_lexer": "ipython3",
   "version": "3.11.6"
  }
 },
 "nbformat": 4,
 "nbformat_minor": 2
}
