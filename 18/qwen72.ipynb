{
 "cells": [
  {
   "cell_type": "markdown",
   "metadata": {},
   "source": [
    "# Day 18 - Qwen2.5 72b"
   ]
  },
  {
   "cell_type": "code",
   "execution_count": 1,
   "metadata": {},
   "outputs": [
    {
     "name": "stdout",
     "output_type": "stream",
     "text": [
      "The minimum number of steps needed to reach the exit is: 380\n"
     ]
    }
   ],
   "source": [
    "from collections import deque\n",
    "\n",
    "def read_input(filename):\n",
    "    with open(filename, 'r') as file:\n",
    "        return [tuple(map(int, line.strip().split(','))) for line in file]\n",
    "\n",
    "def simulate_falling_bytes(memory, byte_positions):\n",
    "    for x, y in byte_positions:\n",
    "        memory[y][x] = '#'\n",
    "\n",
    "def is_valid_move(x, y, memory):\n",
    "    return 0 <= x < len(memory[0]) and 0 <= y < len(memory) and memory[y][x] == '.'\n",
    "\n",
    "def bfs(memory, start, end):\n",
    "    queue = deque([(start, 0)])\n",
    "    visited = set([start])\n",
    "    \n",
    "    while queue:\n",
    "        (x, y), steps = queue.popleft()\n",
    "        \n",
    "        if (x, y) == end:\n",
    "            return steps\n",
    "        \n",
    "        for dx, dy in [(-1, 0), (1, 0), (0, -1), (0, 1)]:\n",
    "            nx, ny = x + dx, y + dy\n",
    "            if is_valid_move(nx, ny, memory) and (nx, ny) not in visited:\n",
    "                visited.add((nx, ny))\n",
    "                queue.append(((nx, ny), steps + 1))\n",
    "    \n",
    "    return -1  # If no path is found\n",
    "\n",
    "def main():\n",
    "    byte_positions = read_input('input.txt')\n",
    "    memory_size = 71  # 0 to 70 inclusive\n",
    "    memory = [['.' for _ in range(memory_size)] for _ in range(memory_size)]\n",
    "    \n",
    "    # Simulate the first 1024 bytes falling\n",
    "    simulate_falling_bytes(memory, byte_positions[:1024])\n",
    "    \n",
    "    start = (0, 0)\n",
    "    end = (70, 70)\n",
    "    \n",
    "    # Find the shortest path\n",
    "    min_steps = bfs(memory, start, end)\n",
    "    print(f\"The minimum number of steps needed to reach the exit is: {min_steps}\")\n",
    "\n",
    "if __name__ == \"__main__\":\n",
    "    main()"
   ]
  },
  {
   "cell_type": "markdown",
   "metadata": {},
   "source": [
    "## Part 2"
   ]
  },
  {
   "cell_type": "code",
   "execution_count": 2,
   "metadata": {},
   "outputs": [
    {
     "name": "stdout",
     "output_type": "stream",
     "text": [
      "The coordinates of the first byte that prevents the exit from being reachable are: 26,50\n"
     ]
    }
   ],
   "source": [
    "from collections import deque\n",
    "\n",
    "def read_input(filename):\n",
    "    with open(filename, 'r') as file:\n",
    "        return [tuple(map(int, line.strip().split(','))) for line in file]\n",
    "\n",
    "def simulate_falling_byte(memory, x, y):\n",
    "    memory[y][x] = '#'\n",
    "\n",
    "def is_valid_move(x, y, memory):\n",
    "    return 0 <= x < len(memory[0]) and 0 <= y < len(memory) and memory[y][x] == '.'\n",
    "\n",
    "def bfs(memory, start, end):\n",
    "    queue = deque([(start, 0)])\n",
    "    visited = set([start])\n",
    "    \n",
    "    while queue:\n",
    "        (x, y), steps = queue.popleft()\n",
    "        \n",
    "        if (x, y) == end:\n",
    "            return True\n",
    "        \n",
    "        for dx, dy in [(-1, 0), (1, 0), (0, -1), (0, 1)]:\n",
    "            nx, ny = x + dx, y + dy\n",
    "            if is_valid_move(nx, ny, memory) and (nx, ny) not in visited:\n",
    "                visited.add((nx, ny))\n",
    "                queue.append(((nx, ny), steps + 1))\n",
    "    \n",
    "    return False  # If no path is found\n",
    "\n",
    "def main():\n",
    "    byte_positions = read_input('input.txt')\n",
    "    memory_size = 71  # 0 to 70 inclusive\n",
    "    memory = [['.' for _ in range(memory_size)] for _ in range(memory_size)]\n",
    "    \n",
    "    start = (0, 0)\n",
    "    end = (70, 70)\n",
    "    \n",
    "    for x, y in byte_positions:\n",
    "        simulate_falling_byte(memory, x, y)\n",
    "        if not bfs(memory, start, end):\n",
    "            print(f\"The coordinates of the first byte that prevents the exit from being reachable are: {x},{y}\")\n",
    "            return\n",
    "\n",
    "if __name__ == \"__main__\":\n",
    "    main()"
   ]
  }
 ],
 "metadata": {
  "kernelspec": {
   "display_name": "AdventOfCode",
   "language": "python",
   "name": "python3"
  },
  "language_info": {
   "codemirror_mode": {
    "name": "ipython",
    "version": 3
   },
   "file_extension": ".py",
   "mimetype": "text/x-python",
   "name": "python",
   "nbconvert_exporter": "python",
   "pygments_lexer": "ipython3",
   "version": "3.10.15"
  }
 },
 "nbformat": 4,
 "nbformat_minor": 2
}
