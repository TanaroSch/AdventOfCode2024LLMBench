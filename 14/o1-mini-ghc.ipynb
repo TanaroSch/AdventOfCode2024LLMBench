{
 "cells": [
  {
   "cell_type": "markdown",
   "metadata": {},
   "source": [
    "# Day 14 - o1-mini (GHC)"
   ]
  },
  {
   "cell_type": "code",
   "execution_count": 1,
   "metadata": {},
   "outputs": [
    {
     "name": "stdout",
     "output_type": "stream",
     "text": [
      "229421808\n"
     ]
    }
   ],
   "source": [
    "# Define grid dimensions\n",
    "WIDTH, HEIGHT = 101, 103\n",
    "\n",
    "# Define center lines\n",
    "CENTER_X, CENTER_Y = WIDTH // 2, HEIGHT // 2\n",
    "\n",
    "# Initialize quadrant counts\n",
    "quadrants = {'tl': 0, 'tr': 0, 'bl': 0, 'br': 0}\n",
    "\n",
    "# Read and parse input\n",
    "robots = []\n",
    "with open('input.txt') as file:\n",
    "    for line in file:\n",
    "        parts = line.strip().replace('p=', '').replace('v=', '').replace(',', ' ').split()\n",
    "        px, py, vx, vy = map(int, parts)\n",
    "        robots.append((px, py, vx, vy))\n",
    "\n",
    "# Calculate positions after 100 seconds\n",
    "for px, py, vx, vy in robots:\n",
    "    final_x = (px + vx * 100) % WIDTH\n",
    "    final_y = (py + vy * 100) % HEIGHT\n",
    "    if final_x == CENTER_X or final_y == CENTER_Y:\n",
    "        continue\n",
    "    if final_x < CENTER_X and final_y < CENTER_Y:\n",
    "        quadrants['tl'] += 1\n",
    "    elif final_x > CENTER_X and final_y < CENTER_Y:\n",
    "        quadrants['tr'] += 1\n",
    "    elif final_x < CENTER_X and final_y > CENTER_Y:\n",
    "        quadrants['bl'] += 1\n",
    "    elif final_x > CENTER_X and final_y > CENTER_Y:\n",
    "        quadrants['br'] += 1\n",
    "\n",
    "# Calculate safety factor\n",
    "safety_factor = quadrants['tl'] * quadrants['tr'] * quadrants['bl'] * quadrants['br']\n",
    "print(safety_factor)"
   ]
  },
  {
   "cell_type": "markdown",
   "metadata": {},
   "source": [
    "## Part 2"
   ]
  },
  {
   "cell_type": "code",
   "execution_count": 2,
   "metadata": {},
   "outputs": [
    {
     "name": "stdout",
     "output_type": "stream",
     "text": [
      "26\n"
     ]
    }
   ],
   "source": [
    "# Define grid dimensions\n",
    "WIDTH, HEIGHT = 101, 103\n",
    "\n",
    "# Read and parse input\n",
    "robots = []\n",
    "with open('input.txt') as file:\n",
    "    for line in file:\n",
    "        parts = line.strip().replace('p=', '').replace('v=', '').replace(',', ' ').split()\n",
    "        px, py, vx, vy = map(int, parts)\n",
    "        robots.append((px, py, vx, vy))\n",
    "\n",
    "min_area = float('inf')\n",
    "best_time = 0\n",
    "\n",
    "for t in range(10000):  # Arbitrary large number to ensure convergence\n",
    "    positions = []\n",
    "    for px, py, vx, vy in robots:\n",
    "        x = (px + vx * t) % WIDTH\n",
    "        y = (py + vy * t) % HEIGHT\n",
    "        positions.append((x, y))\n",
    "    \n",
    "    xs = [x for x, y in positions]\n",
    "    ys = [y for x, y in positions]\n",
    "    area = (max(xs) - min(xs)) * (max(ys) - min(ys))\n",
    "    \n",
    "    if area < min_area:\n",
    "        min_area = area\n",
    "        best_time = t\n",
    "    elif area > min_area:\n",
    "        break\n",
    "\n",
    "print(best_time)"
   ]
  },
  {
   "cell_type": "code",
   "execution_count": 3,
   "metadata": {},
   "outputs": [
    {
     "name": "stdout",
     "output_type": "stream",
     "text": [
      "0\n"
     ]
    }
   ],
   "source": [
    "# Define grid dimensions\n",
    "WIDTH, HEIGHT = 101, 103\n",
    "\n",
    "# Read and parse input\n",
    "robots = []\n",
    "with open('input.txt') as file:\n",
    "    for line in file:\n",
    "        parts = line.strip().replace('p=', '').replace('v=', '').replace(',', ' ').split()\n",
    "        px, py, vx, vy = map(int, parts)\n",
    "        robots.append((px, py, vx, vy))\n",
    "\n",
    "def minimal_span(coordinates, max_value):\n",
    "    sorted_coords = sorted(coordinates)\n",
    "    n = len(sorted_coords)\n",
    "    minimal = max_value\n",
    "    for i in range(n):\n",
    "        j = (i + n - 1) % n\n",
    "        span = (sorted_coords[(i + n - 1) % n] - sorted_coords[i]) % max_value\n",
    "        minimal = min(minimal, max_value - span)\n",
    "    return minimal\n",
    "\n",
    "min_area = float('inf')\n",
    "best_time = 0\n",
    "\n",
    "for t in range(100000):  # Increased range to ensure finding the correct time\n",
    "    positions = []\n",
    "    for px, py, vx, vy in robots:\n",
    "        x = (px + vx * t) % WIDTH\n",
    "        y = (py + vy * t) % HEIGHT\n",
    "        positions.append((x, y))\n",
    "    \n",
    "    xs = [x for x, y in positions]\n",
    "    ys = [y for x, y in positions]\n",
    "    \n",
    "    # Calculate minimal spans considering wrapping\n",
    "    spread_x = minimal_span(xs, WIDTH)\n",
    "    spread_y = minimal_span(ys, HEIGHT)\n",
    "    \n",
    "    area = spread_x * spread_y\n",
    "    \n",
    "    if area < min_area:\n",
    "        min_area = area\n",
    "        best_time = t\n",
    "    elif t - best_time > 1000:  # Stop if no improvement for 1000 seconds\n",
    "        break\n",
    "\n",
    "print(best_time)"
   ]
  },
  {
   "cell_type": "code",
   "execution_count": 4,
   "metadata": {},
   "outputs": [
    {
     "name": "stdout",
     "output_type": "stream",
     "text": [
      "0\n"
     ]
    }
   ],
   "source": [
    "# Define grid dimensions (not used in Part Two)\n",
    "# WIDTH, HEIGHT = 101, 103  # Not needed for Part Two\n",
    "\n",
    "# Read and parse input\n",
    "robots = []\n",
    "with open('input.txt') as file:\n",
    "    for line in file:\n",
    "        line = line.strip()\n",
    "        # Extract numbers using regex for robustness\n",
    "        import re\n",
    "        match = re.match(r'p=(-?\\d+),(-?\\d+) v=(-?\\d+),(-?\\d+)', line)\n",
    "        if match:\n",
    "            px, py, vx, vy = map(int, match.groups())\n",
    "            robots.append((px, py, vx, vy))\n",
    "\n",
    "min_area = float('inf')\n",
    "best_time = 0\n",
    "prev_area = float('inf')\n",
    "counter = 0  # To track how many times the area has increased\n",
    "\n",
    "for t in range(20000):  # Increased range to allow enough time\n",
    "    positions = []\n",
    "    for px, py, vx, vy in robots:\n",
    "        x = px + vx * t\n",
    "        y = py + vy * t\n",
    "        positions.append((x, y))\n",
    "    \n",
    "    xs = [x for x, y in positions]\n",
    "    ys = [y for x, y in positions]\n",
    "    \n",
    "    min_x, max_x = min(xs), max(xs)\n",
    "    min_y, max_y = min(ys), max(ys)\n",
    "    \n",
    "    area = (max_x - min_x) * (max_y - min_y)\n",
    "    \n",
    "    if area < min_area:\n",
    "        min_area = area\n",
    "        best_time = t\n",
    "        counter = 0  # Reset counter when a new minimum is found\n",
    "    else:\n",
    "        counter += 1\n",
    "        if counter >= 1000:  # Stop if no improvement for 1000 consecutive seconds\n",
    "            break\n",
    "\n",
    "print(best_time)"
   ]
  },
  {
   "cell_type": "code",
   "execution_count": 5,
   "metadata": {},
   "outputs": [
    {
     "name": "stdout",
     "output_type": "stream",
     "text": [
      "0\n"
     ]
    }
   ],
   "source": [
    "import re\n",
    "\n",
    "# Read and parse input\n",
    "robots = []\n",
    "with open('input.txt') as file:\n",
    "    for line in file:\n",
    "        match = re.match(r'p=(-?\\d+),(-?\\d+) v=(-?\\d+),(-?\\d+)', line.strip())\n",
    "        if match:\n",
    "            px, py, vx, vy = map(int, match.groups())\n",
    "            robots.append((px, py, vx, vy))\n",
    "\n",
    "min_area = float('inf')\n",
    "best_time = 0\n",
    "consecutive_increases = 0\n",
    "threshold = 100  # Number of consecutive increases to terminate\n",
    "\n",
    "for t in range(20000):  # Adjust range as needed\n",
    "    positions = []\n",
    "    for px, py, vx, vy in robots:\n",
    "        x = px + vx * t\n",
    "        y = py + vy * t\n",
    "        positions.append((x, y))\n",
    "    \n",
    "    xs = [x for x, y in positions]\n",
    "    ys = [y for x, y in positions]\n",
    "    \n",
    "    min_x, max_x = min(xs), max(xs)\n",
    "    min_y, max_y = min(ys), max(ys)\n",
    "    \n",
    "    area = (max_x - min_x) * (max_y - min_y)\n",
    "    \n",
    "    if area < min_area:\n",
    "        min_area = area\n",
    "        best_time = t\n",
    "        consecutive_increases = 0\n",
    "    else:\n",
    "        consecutive_increases += 1\n",
    "        if consecutive_increases >= threshold:\n",
    "            break\n",
    "\n",
    "print(best_time)"
   ]
  },
  {
   "cell_type": "code",
   "execution_count": 6,
   "metadata": {},
   "outputs": [
    {
     "name": "stdout",
     "output_type": "stream",
     "text": [
      "1\n"
     ]
    }
   ],
   "source": [
    "import re\n",
    "\n",
    "# Read and parse input\n",
    "robots = []\n",
    "with open('input.txt') as file:\n",
    "    for line in file:\n",
    "        line = line.strip()\n",
    "        match = re.match(r'p=(-?\\d+),(-?\\d+) v=(-?\\d+),(-?\\d+)', line)\n",
    "        if match:\n",
    "            px, py, vx, vy = map(int, match.groups())\n",
    "            robots.append((px, py, vx, vy))\n",
    "\n",
    "min_area = float('inf')\n",
    "best_time = 0\n",
    "consecutive_increases = 0\n",
    "threshold = 100  # Number of consecutive increases to terminate\n",
    "\n",
    "for t in range(1, 20000):  # Start simulation from t=1\n",
    "    positions = []\n",
    "    for px, py, vx, vy in robots:\n",
    "        x = px + vx * t\n",
    "        y = py + vy * t\n",
    "        positions.append((x, y))\n",
    "    \n",
    "    xs = [x for x, y in positions]\n",
    "    ys = [y for x, y in positions]\n",
    "    \n",
    "    min_x, max_x = min(xs), max(xs)\n",
    "    min_y, max_y = min(ys), max(ys)\n",
    "    \n",
    "    area = (max_x - min_x) * (max_y - min_y)\n",
    "    \n",
    "    if area < min_area:\n",
    "        min_area = area\n",
    "        best_time = t\n",
    "        consecutive_increases = 0\n",
    "    else:\n",
    "        consecutive_increases += 1\n",
    "        if consecutive_increases >= threshold:\n",
    "            break\n",
    "\n",
    "print(best_time)"
   ]
  }
 ],
 "metadata": {
  "kernelspec": {
   "display_name": "AdventOfCode",
   "language": "python",
   "name": "python3"
  },
  "language_info": {
   "codemirror_mode": {
    "name": "ipython",
    "version": 3
   },
   "file_extension": ".py",
   "mimetype": "text/x-python",
   "name": "python",
   "nbconvert_exporter": "python",
   "pygments_lexer": "ipython3",
   "version": "3.10.15"
  }
 },
 "nbformat": 4,
 "nbformat_minor": 2
}
