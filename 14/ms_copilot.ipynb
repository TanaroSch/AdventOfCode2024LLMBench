{
 "cells": [
  {
   "cell_type": "markdown",
   "metadata": {},
   "source": [
    "# Day 14 - MS Copilot"
   ]
  },
  {
   "cell_type": "code",
   "execution_count": 1,
   "metadata": {},
   "outputs": [
    {
     "name": "stdout",
     "output_type": "stream",
     "text": [
      "Safety Factor: 229421808\n"
     ]
    }
   ],
   "source": [
    "def read_input(file_name):\n",
    "    with open(file_name, 'r') as file:\n",
    "        data = file.readlines()\n",
    "    robots = []\n",
    "    for line in data:\n",
    "        p, v = line.strip().split(' ')\n",
    "        px, py = map(int, p[2:].split(','))\n",
    "        vx, vy = map(int, v[2:].split(','))\n",
    "        robots.append((px, py, vx, vy))\n",
    "    return robots\n",
    "\n",
    "def move_robots(robots, width, height, seconds):\n",
    "    for _ in range(seconds):\n",
    "        for i in range(len(robots)):\n",
    "            px, py, vx, vy = robots[i]\n",
    "            px = (px + vx) % width\n",
    "            py = (py + vy) % height\n",
    "            robots[i] = (px, py, vx, vy)\n",
    "    return robots\n",
    "\n",
    "def count_robots_in_quadrants(robots, width, height):\n",
    "    mid_x = width // 2\n",
    "    mid_y = height // 2\n",
    "    quadrants = [0, 0, 0, 0] # Top-left, Top-right, Bottom-left, Bottom-right\n",
    "    for px, py, _, _ in robots:\n",
    "        if px == mid_x or py == mid_y:\n",
    "            continue # Robots in the middle are not counted\n",
    "        if px < mid_x and py < mid_y:\n",
    "            quadrants[0] += 1\n",
    "        elif px >= mid_x and py < mid_y:\n",
    "            quadrants[1] += 1\n",
    "        elif px < mid_x and py >= mid_y:\n",
    "            quadrants[2] += 1\n",
    "        else:\n",
    "            quadrants[3] += 1\n",
    "    return quadrants\n",
    "\n",
    "def calculate_safety_factor(quadrants):\n",
    "    factor = 1\n",
    "    for count in quadrants:\n",
    "        factor *= count\n",
    "    return factor\n",
    "\n",
    "def main():\n",
    "    robots = read_input('input.txt')\n",
    "    width, height = 101, 103\n",
    "    robots = move_robots(robots, width, height, 100)\n",
    "    quadrants = count_robots_in_quadrants(robots, width, height)\n",
    "    safety_factor = calculate_safety_factor(quadrants)\n",
    "    print(\"Safety Factor:\", safety_factor)\n",
    "\n",
    "if __name__ == \"__main__\":\n",
    "    main()\n"
   ]
  },
  {
   "cell_type": "markdown",
   "metadata": {},
   "source": [
    "## Part 2"
   ]
  },
  {
   "cell_type": "code",
   "execution_count": 2,
   "metadata": {},
   "outputs": [
    {
     "name": "stdout",
     "output_type": "stream",
     "text": [
      "Fewest number of seconds for the robots to display the Easter egg (Christmas tree): 6577\n"
     ]
    }
   ],
   "source": [
    "def read_input(file_name):\n",
    "    with open(file_name, 'r') as file:\n",
    "        data = file.readlines()\n",
    "    robots = []\n",
    "    for line in data:\n",
    "        p, v = line.strip().split(' ')\n",
    "        px, py = map(int, p[2:].split(','))\n",
    "        vx, vy = map(int, v[2:].split(','))\n",
    "        robots.append((px, py, vx, vy))\n",
    "    return robots\n",
    "\n",
    "def move_robots(robots, width, height, seconds):\n",
    "    for _ in range(seconds):\n",
    "        for i in range(len(robots)):\n",
    "            px, py, vx, vy = robots[i]\n",
    "            px = (px + vx) % width\n",
    "            py = (py + vy) % height\n",
    "            robots[i] = (px, py, vx, vy)\n",
    "    return robots\n",
    "\n",
    "def create_grid(robots, width, height):\n",
    "    grid = [['.' for _ in range(width)] for _ in range(height)]\n",
    "    for px, py, _, _ in robots:\n",
    "        grid[py][px] = '#'\n",
    "    return grid\n",
    "\n",
    "def display_grid(grid):\n",
    "    for row in grid:\n",
    "        print(\"\".join(row))\n",
    "\n",
    "def check_for_christmas_tree(grid):\n",
    "    # Define the Christmas tree pattern\n",
    "    tree_pattern = [\n",
    "        \"....#....\",\n",
    "        \"...###...\",\n",
    "        \"..#####..\",\n",
    "        \".#######.\",\n",
    "        \"#########\"\n",
    "    ]\n",
    "    \n",
    "    height, width = len(grid), len(grid[0])\n",
    "    tree_height, tree_width = len(tree_pattern), len(tree_pattern[0])\n",
    "    \n",
    "    for y in range(height - tree_height + 1):\n",
    "        for x in range(width - tree_width + 1):\n",
    "            match = True\n",
    "            for ty in range(tree_height):\n",
    "                for tx in range(tree_width):\n",
    "                    if tree_pattern[ty][tx] == '#' and grid[y + ty][x + tx] != '#':\n",
    "                        match = False\n",
    "                        break\n",
    "                if not match:\n",
    "                    break\n",
    "            if match:\n",
    "                return True\n",
    "    return False\n",
    "\n",
    "def find_christmas_tree(robots, width, height):\n",
    "    seconds = 0\n",
    "    while True:\n",
    "        grid = create_grid(robots, width, height)\n",
    "        if check_for_christmas_tree(grid):\n",
    "            return seconds\n",
    "        robots = move_robots(robots, width, height, 1)\n",
    "        seconds += 1\n",
    "\n",
    "def main():\n",
    "    robots = read_input('input.txt')\n",
    "    width, height = 101, 103\n",
    "    seconds = find_christmas_tree(robots, width, height)\n",
    "    print(\"Fewest number of seconds for the robots to display the Easter egg (Christmas tree):\", seconds)\n",
    "\n",
    "if __name__ == \"__main__\":\n",
    "    main()\n"
   ]
  }
 ],
 "metadata": {
  "kernelspec": {
   "display_name": "AdventOfCode",
   "language": "python",
   "name": "python3"
  },
  "language_info": {
   "codemirror_mode": {
    "name": "ipython",
    "version": 3
   },
   "file_extension": ".py",
   "mimetype": "text/x-python",
   "name": "python",
   "nbconvert_exporter": "python",
   "pygments_lexer": "ipython3",
   "version": "3.10.15"
  }
 },
 "nbformat": 4,
 "nbformat_minor": 2
}
