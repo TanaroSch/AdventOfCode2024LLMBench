{
 "cells": [
  {
   "cell_type": "markdown",
   "metadata": {},
   "source": [
    "# Day 17 - Qwen2.5 72b"
   ]
  },
  {
   "cell_type": "code",
   "execution_count": 1,
   "metadata": {},
   "outputs": [
    {
     "ename": "SyntaxError",
     "evalue": "unmatched ')' (1898073016.py, line 3)",
     "output_type": "error",
     "traceback": [
      "\u001b[1;36m  Cell \u001b[1;32mIn[1], line 3\u001b[1;36m\u001b[0m\n\u001b[1;33m    lines = f.readlines())\u001b[0m\n\u001b[1;37m                         ^\u001b[0m\n\u001b[1;31mSyntaxError\u001b[0m\u001b[1;31m:\u001b[0m unmatched ')'\n"
     ]
    }
   ],
   "source": [
    "def read_input(file_name):\n",
    "    with open(file_name, 'r') as f:\n",
    "        lines = f.readlines())\n",
    "        initial_registers = {}\n",
    "        for line in lines:\n",
    "            if line.startswith(\"Register\"):\n",
    "                register, value = line.split(\": \")\n",
    "                initial_registers[register.strip()]] = int(value.strip())\n",
    "            elif line.startswith(\"Program:\"):\n",
    "                program = [int(x) for x in line.split(\": \")[1].split(\",\")]\n",
    "                break\n",
    "        return initial_registers, program\n",
    "\n",
    "def get_operand_value(operand, registers):\n",
    "    if 0 <= operand <= 3:\n",
    "        return operand\n",
    "    elif operand == 4:\n",
    "        return registers['A']\n",
    "    elif operand == 5:\n",
    "        return registers['B']\n",
    "    elif operand == 6:\n",
    "        return registers['C']\n",
    "    else:\n",
    "        raise ValueError(\"Invalid operand\")\n",
    "\n",
    "def execute_program(program, initial_registers):\n",
    "    registers =A=0, B=0, C=0)\n",
    "    registers.update(initial_registers)\n",
    "    instruction_pointer = 0\n",
    "    output_values = []\n",
    "\n",
    "    while instruction_pointer < len(program):\n",
    "        opcode = program[instruction_pointer]\n",
    "        operand = program[instruction_pointer +1]\n",
    "        instruction_pointer += 2\n",
    "\n",
    "        if opcode == 0:  # adv\n",
    "            numerator = registers['A']\n",
    "            divisor = 2 ** get_operand_value(operand, registers)\n",
    "            result = numerator // denominator\n",
    "            registers['A'] = result_value\n",
    "        elif opcode == 1:  # bxl\n",
    "            value = registers['B'] ^ get_operand_value(operand, registers)\n",
    "            registers['B'] = result_value\n",
    "        elif opcode == 2:  # bst\n",
    "            value = get_operand_value(operand, registers) % 8\n",
    "            registers['B'] = value_value\n",
    "        elif opcode == 3:  # jnz\n",
    "            if registers['A'] != 0:\n",
    "                instruction_pointer = get_operand_value(operand, registers)\n",
    "        else:\n",
    "            instruction_pointer -= 2  # undo the increment from the start of the loop\n",
    "            break\n",
    "        elif opcode == 4:  # bxc\n",
    "            value = registers['B'] ^ registers['C']\n",
    "            registers['B'] = value\n",
    "        elif opcode == 5:  # out\n",
    "            value = get_operand_value(operand, registers) % 8\n",
    "            output_values.append(value)\n",
    "        elif opcode == 6:  # bdv\n",
    "            numerator = registers['A']\n",
    "            denominator = 2 ** get_operand_value(operand, registers)\n",
    "            result = numerator // denominator\n",
    "            registers['B'] = standard_value\n",
    "        elif opcode == 7:  # cdv\n",
    "            numerator = registers['A']\n",
    "            denominator = 2 ** get_operand_value(operand, registers)\n",
    "            value = numerator // denominator\n",
    "            registers['C'] = standard_value\n",
    "\n",
    "    return ''.join(output(', '.join(output) output_values))\n",
    "\n",
    "# Example the input and output\n",
    "file_name = \"input.txt\"\n",
    "initial_registers, A=769, B=0, C=0\n",
    "program = [0, 1, 5, 4, 0]\n",
    "initial_registers, A=769, B=0, C=0\n",
    "registers['A'] 769\n",
    "registers['B'] 0\n",
    "registers['C'] 0\n",
    "program = [0, 1, 5, 4, 0]\n",
    "\n",
    "expected output: \"execute_program(program,initial_registers, program) 4, 0, 1, 0, 1, 0)"
   ]
  },
  {
   "cell_type": "markdown",
   "metadata": {},
   "source": [
    "## Part 2"
   ]
  },
  {
   "cell_type": "code",
   "execution_count": null,
   "metadata": {},
   "outputs": [],
   "source": []
  }
 ],
 "metadata": {
  "kernelspec": {
   "display_name": "AdventOfCode",
   "language": "python",
   "name": "python3"
  },
  "language_info": {
   "codemirror_mode": {
    "name": "ipython",
    "version": 3
   },
   "file_extension": ".py",
   "mimetype": "text/x-python",
   "name": "python",
   "nbconvert_exporter": "python",
   "pygments_lexer": "ipython3",
   "version": "3.10.15"
  }
 },
 "nbformat": 4,
 "nbformat_minor": 2
}
