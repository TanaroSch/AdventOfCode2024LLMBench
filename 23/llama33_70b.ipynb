{
 "cells": [
  {
   "cell_type": "markdown",
   "metadata": {},
   "source": [
    "# Day 23 - Llama 3.3 70B"
   ]
  },
  {
   "cell_type": "code",
   "execution_count": 2,
   "metadata": {},
   "outputs": [
    {
     "name": "stdout",
     "output_type": "stream",
     "text": [
      "Number of triangles with at least one computer starting with 't': 998\n"
     ]
    }
   ],
   "source": [
    "import itertools\n",
    "\n",
    "def load_network_map(filename):\n",
    "    \"\"\"Load the network map from a file.\"\"\"\n",
    "    with open(filename, 'r') as f:\n",
    "        connections = [line.strip().split('-') for line in f.readlines()]\n",
    "    return connections\n",
    "\n",
    "def build_graph(connections):\n",
    "    \"\"\"Build a graph from the connections.\"\"\"\n",
    "    graph = {}\n",
    "    for a, b in connections:\n",
    "        if a not in graph:\n",
    "            graph[a] = set()\n",
    "        if b not in graph:\n",
    "            graph[b] = set()\n",
    "        graph[a].add(b)\n",
    "        graph[b].add(a)\n",
    "    return graph\n",
    "\n",
    "def find_triangles(graph):\n",
    "    \"\"\"Find all sets of three inter-connected computers.\"\"\"\n",
    "    triangles = set()\n",
    "    for a in graph:\n",
    "        for b in graph[a]:\n",
    "            for c in graph[a] & graph[b]:\n",
    "                if a < b and b < c:\n",
    "                    triangles.add((a, b, c))\n",
    "    return triangles\n",
    "\n",
    "def count_triangles_with_t(triangles):\n",
    "    \"\"\"Count the number of triangles that contain at least one computer with a name starting with 't'.\"\"\"\n",
    "    count = 0\n",
    "    for triangle in triangles:\n",
    "        if any(node.startswith('t') for node in triangle):\n",
    "            count += 1\n",
    "    return count\n",
    "\n",
    "def main():\n",
    "    connections = load_network_map('input.txt')\n",
    "    graph = build_graph(connections)\n",
    "    triangles = find_triangles(graph)\n",
    "    count = count_triangles_with_t(triangles)\n",
    "    print(f\"Number of triangles with at least one computer starting with 't': {count}\")\n",
    "\n",
    "if __name__ == \"__main__\":\n",
    "    main()"
   ]
  },
  {
   "cell_type": "markdown",
   "metadata": {},
   "source": [
    "## Part 2"
   ]
  },
  {
   "cell_type": "code",
   "execution_count": 3,
   "metadata": {},
   "outputs": [
    {
     "ename": "KeyboardInterrupt",
     "evalue": "",
     "output_type": "error",
     "traceback": [
      "\u001b[1;31m---------------------------------------------------------------------------\u001b[0m",
      "\u001b[1;31mKeyboardInterrupt\u001b[0m                         Traceback (most recent call last)",
      "Cell \u001b[1;32mIn[3], line 57\u001b[0m\n\u001b[0;32m     54\u001b[0m     \u001b[38;5;28mprint\u001b[39m(\u001b[38;5;124mf\u001b[39m\u001b[38;5;124m\"\u001b[39m\u001b[38;5;124mPassword to get into the LAN party: \u001b[39m\u001b[38;5;132;01m{\u001b[39;00mpassword\u001b[38;5;132;01m}\u001b[39;00m\u001b[38;5;124m\"\u001b[39m)\n\u001b[0;32m     56\u001b[0m \u001b[38;5;28;01mif\u001b[39;00m \u001b[38;5;18m__name__\u001b[39m \u001b[38;5;241m==\u001b[39m \u001b[38;5;124m\"\u001b[39m\u001b[38;5;124m__main__\u001b[39m\u001b[38;5;124m\"\u001b[39m:\n\u001b[1;32m---> 57\u001b[0m     \u001b[43mmain\u001b[49m\u001b[43m(\u001b[49m\u001b[43m)\u001b[49m\n",
      "Cell \u001b[1;32mIn[3], line 51\u001b[0m, in \u001b[0;36mmain\u001b[1;34m()\u001b[0m\n\u001b[0;32m     49\u001b[0m connections \u001b[38;5;241m=\u001b[39m load_network_map(\u001b[38;5;124m'\u001b[39m\u001b[38;5;124minput.txt\u001b[39m\u001b[38;5;124m'\u001b[39m)\n\u001b[0;32m     50\u001b[0m graph \u001b[38;5;241m=\u001b[39m build_graph(connections)\n\u001b[1;32m---> 51\u001b[0m cliques \u001b[38;5;241m=\u001b[39m \u001b[43mfind_cliques\u001b[49m\u001b[43m(\u001b[49m\u001b[43mgraph\u001b[49m\u001b[43m)\u001b[49m\n\u001b[0;32m     52\u001b[0m largest_clique \u001b[38;5;241m=\u001b[39m find_largest_clique(cliques)\n\u001b[0;32m     53\u001b[0m password \u001b[38;5;241m=\u001b[39m \u001b[38;5;124m'\u001b[39m\u001b[38;5;124m,\u001b[39m\u001b[38;5;124m'\u001b[39m\u001b[38;5;241m.\u001b[39mjoin(\u001b[38;5;28msorted\u001b[39m(largest_clique))\n",
      "Cell \u001b[1;32mIn[3], line 24\u001b[0m, in \u001b[0;36mfind_cliques\u001b[1;34m(graph)\u001b[0m\n\u001b[0;32m     22\u001b[0m \u001b[38;5;250m\u001b[39m\u001b[38;5;124;03m\"\"\"Find all cliques in the graph.\"\"\"\u001b[39;00m\n\u001b[0;32m     23\u001b[0m cliques \u001b[38;5;241m=\u001b[39m []\n\u001b[1;32m---> 24\u001b[0m \u001b[38;5;28;01mfor\u001b[39;00m nodes \u001b[38;5;129;01min\u001b[39;00m \u001b[43mpowerset\u001b[49m\u001b[43m(\u001b[49m\u001b[38;5;28;43mlist\u001b[39;49m\u001b[43m(\u001b[49m\u001b[43mgraph\u001b[49m\u001b[38;5;241;43m.\u001b[39;49m\u001b[43mkeys\u001b[49m\u001b[43m(\u001b[49m\u001b[43m)\u001b[49m\u001b[43m)\u001b[49m\u001b[43m)\u001b[49m:\n\u001b[0;32m     25\u001b[0m     \u001b[38;5;28;01mif\u001b[39;00m \u001b[38;5;28mlen\u001b[39m(nodes) \u001b[38;5;241m>\u001b[39m \u001b[38;5;241m1\u001b[39m \u001b[38;5;129;01mand\u001b[39;00m is_clique(graph, nodes):\n\u001b[0;32m     26\u001b[0m         cliques\u001b[38;5;241m.\u001b[39mappend(nodes)\n",
      "Cell \u001b[1;32mIn[3], line 33\u001b[0m, in \u001b[0;36mpowerset\u001b[1;34m(s)\u001b[0m\n\u001b[0;32m     31\u001b[0m result \u001b[38;5;241m=\u001b[39m [[]]\n\u001b[0;32m     32\u001b[0m \u001b[38;5;28;01mfor\u001b[39;00m elem \u001b[38;5;129;01min\u001b[39;00m s:\n\u001b[1;32m---> 33\u001b[0m     result\u001b[38;5;241m.\u001b[39mextend([current \u001b[38;5;241m+\u001b[39m [elem] \u001b[38;5;28;01mfor\u001b[39;00m current \u001b[38;5;129;01min\u001b[39;00m result])\n\u001b[0;32m     34\u001b[0m \u001b[38;5;28;01mreturn\u001b[39;00m result\n",
      "Cell \u001b[1;32mIn[3], line 33\u001b[0m, in \u001b[0;36m<listcomp>\u001b[1;34m(.0)\u001b[0m\n\u001b[0;32m     31\u001b[0m result \u001b[38;5;241m=\u001b[39m [[]]\n\u001b[0;32m     32\u001b[0m \u001b[38;5;28;01mfor\u001b[39;00m elem \u001b[38;5;129;01min\u001b[39;00m s:\n\u001b[1;32m---> 33\u001b[0m     result\u001b[38;5;241m.\u001b[39mextend([current \u001b[38;5;241m+\u001b[39m [elem] \u001b[38;5;28;01mfor\u001b[39;00m current \u001b[38;5;129;01min\u001b[39;00m result])\n\u001b[0;32m     34\u001b[0m \u001b[38;5;28;01mreturn\u001b[39;00m result\n",
      "\u001b[1;31mKeyboardInterrupt\u001b[0m: "
     ]
    }
   ],
   "source": [
    "import itertools\n",
    "\n",
    "def load_network_map(filename):\n",
    "    \"\"\"Load the network map from a file.\"\"\"\n",
    "    with open(filename, 'r') as f:\n",
    "        connections = [line.strip().split('-') for line in f.readlines()]\n",
    "    return connections\n",
    "\n",
    "def build_graph(connections):\n",
    "    \"\"\"Build a graph from the connections.\"\"\"\n",
    "    graph = {}\n",
    "    for a, b in connections:\n",
    "        if a not in graph:\n",
    "            graph[a] = set()\n",
    "        if b not in graph:\n",
    "            graph[b] = set()\n",
    "        graph[a].add(b)\n",
    "        graph[b].add(a)\n",
    "    return graph\n",
    "\n",
    "def find_cliques(graph):\n",
    "    \"\"\"Find all cliques in the graph.\"\"\"\n",
    "    cliques = []\n",
    "    for nodes in powerset(list(graph.keys())):\n",
    "        if len(nodes) > 1 and is_clique(graph, nodes):\n",
    "            cliques.append(nodes)\n",
    "    return cliques\n",
    "\n",
    "def powerset(s):\n",
    "    \"\"\"Return the powerset of a set.\"\"\"\n",
    "    result = [[]]\n",
    "    for elem in s:\n",
    "        result.extend([current + [elem] for current in result])\n",
    "    return result\n",
    "\n",
    "def is_clique(graph, nodes):\n",
    "    \"\"\"Check if a set of nodes is a clique.\"\"\"\n",
    "    for a in nodes:\n",
    "        for b in nodes:\n",
    "            if a!= b and b not in graph[a]:\n",
    "                return False\n",
    "    return True\n",
    "\n",
    "def find_largest_clique(cliques):\n",
    "    \"\"\"Find the largest clique.\"\"\"\n",
    "    return max(cliques, key=len)\n",
    "\n",
    "def main():\n",
    "    connections = load_network_map('input.txt')\n",
    "    graph = build_graph(connections)\n",
    "    cliques = find_cliques(graph)\n",
    "    largest_clique = find_largest_clique(cliques)\n",
    "    password = ','.join(sorted(largest_clique))\n",
    "    print(f\"Password to get into the LAN party: {password}\")\n",
    "\n",
    "if __name__ == \"__main__\":\n",
    "    main()"
   ]
  },
  {
   "cell_type": "code",
   "execution_count": 5,
   "metadata": {},
   "outputs": [
    {
     "name": "stdout",
     "output_type": "stream",
     "text": [
      "Password to get into the LAN party: cc,ff,fh,fr,ny,oa,pl,rg,uj,wd,xn,xs,zw\n"
     ]
    }
   ],
   "source": [
    "import networkx as nx\n",
    "\n",
    "def load_network_map(filename):\n",
    "    \"\"\"Load the network map from a file.\"\"\"\n",
    "    G = nx.Graph()\n",
    "    with open(filename, 'r') as f:\n",
    "        for line in f.readlines():\n",
    "            a, b = line.strip().split('-')\n",
    "            G.add_edge(a, b)\n",
    "    return G\n",
    "\n",
    "def find_largest_clique(G):\n",
    "    \"\"\"Find the largest clique in the graph.\"\"\"\n",
    "    cliques = nx.find_cliques(G)\n",
    "    largest_clique = max(cliques, key=len)\n",
    "    return largest_clique\n",
    "\n",
    "def main():\n",
    "    G = load_network_map('input.txt')\n",
    "    largest_clique = find_largest_clique(G)\n",
    "    password = ','.join(sorted(largest_clique))\n",
    "    print(f\"Password to get into the LAN party: {password}\")\n",
    "\n",
    "if __name__ == \"__main__\":\n",
    "    main()"
   ]
  }
 ],
 "metadata": {
  "kernelspec": {
   "display_name": "AdventOfCode",
   "language": "python",
   "name": "python3"
  },
  "language_info": {
   "codemirror_mode": {
    "name": "ipython",
    "version": 3
   },
   "file_extension": ".py",
   "mimetype": "text/x-python",
   "name": "python",
   "nbconvert_exporter": "python",
   "pygments_lexer": "ipython3",
   "version": "3.10.15"
  }
 },
 "nbformat": 4,
 "nbformat_minor": 2
}
