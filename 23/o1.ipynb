{
 "cells": [
  {
   "cell_type": "markdown",
   "metadata": {},
   "source": [
    "# Day 23 - o1"
   ]
  },
  {
   "cell_type": "code",
   "execution_count": 1,
   "metadata": {},
   "outputs": [
    {
     "name": "stdout",
     "output_type": "stream",
     "text": [
      "998\n"
     ]
    }
   ],
   "source": [
    "import itertools\n",
    "\n",
    "def solve():\n",
    "    # Read edges from input.txt\n",
    "    with open(\"input.txt\", \"r\") as f:\n",
    "        lines = [line.strip() for line in f if line.strip()]\n",
    "\n",
    "    # Build an undirected graph as adjacency list (using a dict of sets)\n",
    "    graph = {}\n",
    "    \n",
    "    for line in lines:\n",
    "        # Each line is of the form \"node1-node2\"\n",
    "        node1, node2 = line.split('-')\n",
    "        \n",
    "        if node1 not in graph:\n",
    "            graph[node1] = set()\n",
    "        if node2 not in graph:\n",
    "            graph[node2] = set()\n",
    "        \n",
    "        # Add each node to the other's adjacency set\n",
    "        graph[node1].add(node2)\n",
    "        graph[node2].add(node1)\n",
    "\n",
    "    # Find all triangles\n",
    "    # A triangle is a set of 3 nodes {a, b, c} where\n",
    "    #   a is connected to b and c,\n",
    "    #   b is connected to a and c,\n",
    "    #   c is connected to a and b.\n",
    "    \n",
    "    triangles = []\n",
    "    nodes = sorted(graph.keys())  # Sort to keep sets in consistent order (optional)\n",
    "    \n",
    "    # Check all 3-computer combinations\n",
    "    for a, b, c in itertools.combinations(nodes, 3):\n",
    "        # Check if a-b, b-c, and a-c are edges\n",
    "        if (b in graph[a]) and (c in graph[a]) and (c in graph[b]):\n",
    "            # This is a triangle\n",
    "            triangles.append((a, b, c))\n",
    "\n",
    "    # Filter triangles to those that include at least one node starting with 't'\n",
    "    triangles_with_t = []\n",
    "    for tri in triangles:\n",
    "        if any(node.startswith('t') for node in tri):\n",
    "            triangles_with_t.append(tri)\n",
    "\n",
    "    # Print the count\n",
    "    print(len(triangles_with_t))\n",
    "\n",
    "if __name__ == \"__main__\":\n",
    "    solve()\n"
   ]
  },
  {
   "cell_type": "markdown",
   "metadata": {},
   "source": [
    "## Part 2"
   ]
  },
  {
   "cell_type": "code",
   "execution_count": 2,
   "metadata": {},
   "outputs": [
    {
     "name": "stdout",
     "output_type": "stream",
     "text": [
      "cc,ff,fh,fr,ny,oa,pl,rg,uj,wd,xn,xs,zw\n"
     ]
    }
   ],
   "source": [
    "import sys\n",
    "\n",
    "def solve():\n",
    "    # Read edges from input.txt\n",
    "    with open(\"input.txt\", \"r\") as f:\n",
    "        lines = [line.strip() for line in f if line.strip()]\n",
    "\n",
    "    # Build an undirected graph as adjacency list (using a dict of sets)\n",
    "    graph = {}\n",
    "    for line in lines:\n",
    "        node1, node2 = line.split('-')\n",
    "        \n",
    "        if node1 not in graph:\n",
    "            graph[node1] = set()\n",
    "        if node2 not in graph:\n",
    "            graph[node2] = set()\n",
    "        \n",
    "        graph[node1].add(node2)\n",
    "        graph[node2].add(node1)\n",
    "\n",
    "    # Bron–Kerbosch algorithm to find maximal cliques\n",
    "    # R: current clique (set of nodes)\n",
    "    # P: candidate nodes that could be added to R\n",
    "    # X: nodes that must not be added to R anymore\n",
    "    def bron_kerbosch(R, P, X):\n",
    "        if not P and not X:\n",
    "            # R is a maximal clique\n",
    "            maximal_cliques.append(R)\n",
    "            return\n",
    "        # We copy P because we'll modify it in the loop\n",
    "        for v in list(P):\n",
    "            # Recurse with v in the clique\n",
    "            newR = R | {v}\n",
    "            newP = P.intersection(graph[v])\n",
    "            newX = X.intersection(graph[v])\n",
    "            bron_kerbosch(newR, newP, newX)\n",
    "            # Move v from P to X\n",
    "            P.remove(v)\n",
    "            X.add(v)\n",
    "\n",
    "    # Initialize the collection of maximal cliques\n",
    "    maximal_cliques = []\n",
    "\n",
    "    # All nodes in the graph (set of them)\n",
    "    all_nodes = set(graph.keys())\n",
    "\n",
    "    # Run Bron–Kerbosch with empty R, P = all_nodes, X = empty\n",
    "    bron_kerbosch(set(), all_nodes, set())\n",
    "\n",
    "    # Find the largest clique by size\n",
    "    largest_clique = max(maximal_cliques, key=lambda c: len(c))\n",
    "\n",
    "    # Sort alphabetically, then join by commas\n",
    "    password = \",\".join(sorted(largest_clique))\n",
    "\n",
    "    print(password)\n",
    "\n",
    "if __name__ == \"__main__\":\n",
    "    solve()\n"
   ]
  }
 ],
 "metadata": {
  "kernelspec": {
   "display_name": "AdventOfCode",
   "language": "python",
   "name": "python3"
  },
  "language_info": {
   "codemirror_mode": {
    "name": "ipython",
    "version": 3
   },
   "file_extension": ".py",
   "mimetype": "text/x-python",
   "name": "python",
   "nbconvert_exporter": "python",
   "pygments_lexer": "ipython3",
   "version": "3.10.15"
  }
 },
 "nbformat": 4,
 "nbformat_minor": 2
}
