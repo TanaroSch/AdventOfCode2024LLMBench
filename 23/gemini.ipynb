{
 "cells": [
  {
   "cell_type": "markdown",
   "metadata": {},
   "source": [
    "# Day 23 - Gemini"
   ]
  },
  {
   "cell_type": "code",
   "execution_count": 1,
   "metadata": {},
   "outputs": [
    {
     "name": "stdout",
     "output_type": "stream",
     "text": [
      "998\n"
     ]
    }
   ],
   "source": [
    "def solve():\n",
    "    connections = []\n",
    "    with open(\"input.txt\", \"r\") as f:\n",
    "        for line in f:\n",
    "            connections.append(tuple(line.strip().split(\"-\")))\n",
    "\n",
    "    nodes = set()\n",
    "    for a, b in connections:\n",
    "        nodes.add(a)\n",
    "        nodes.add(b)\n",
    "\n",
    "    adj = {node: set() for node in nodes}\n",
    "    for a, b in connections:\n",
    "        adj[a].add(b)\n",
    "        adj[b].add(a)\n",
    "\n",
    "    count = 0\n",
    "    for a in nodes:\n",
    "        for b in adj[a]:\n",
    "            if b > a:\n",
    "                for c in adj[b]:\n",
    "                    if c > b and c in adj[a]:\n",
    "                        if a.startswith(\"t\") or b.startswith(\"t\") or c.startswith(\"t\"):\n",
    "                            count += 1\n",
    "    \n",
    "    print(count)\n",
    "\n",
    "solve()"
   ]
  },
  {
   "cell_type": "markdown",
   "metadata": {},
   "source": [
    "## Part 2"
   ]
  },
  {
   "cell_type": "code",
   "execution_count": 2,
   "metadata": {},
   "outputs": [
    {
     "ename": "KeyboardInterrupt",
     "evalue": "",
     "output_type": "error",
     "traceback": [
      "\u001b[1;31m---------------------------------------------------------------------------\u001b[0m",
      "\u001b[1;31mKeyboardInterrupt\u001b[0m                         Traceback (most recent call last)",
      "Cell \u001b[1;32mIn[2], line 38\u001b[0m\n\u001b[0;32m     34\u001b[0m     find_cliques([], \u001b[38;5;28msorted\u001b[39m(\u001b[38;5;28mlist\u001b[39m(nodes)))\n\u001b[0;32m     36\u001b[0m     \u001b[38;5;28mprint\u001b[39m(\u001b[38;5;124m\"\u001b[39m\u001b[38;5;124m,\u001b[39m\u001b[38;5;124m\"\u001b[39m\u001b[38;5;241m.\u001b[39mjoin(\u001b[38;5;28msorted\u001b[39m(largest_clique)))\n\u001b[1;32m---> 38\u001b[0m \u001b[43msolve\u001b[49m\u001b[43m(\u001b[49m\u001b[43m)\u001b[49m\n",
      "Cell \u001b[1;32mIn[2], line 34\u001b[0m, in \u001b[0;36msolve\u001b[1;34m()\u001b[0m\n\u001b[0;32m     30\u001b[0m                 new_candidates\u001b[38;5;241m.\u001b[39madd(other)\n\u001b[0;32m     32\u001b[0m         find_cliques(current_clique \u001b[38;5;241m+\u001b[39m [node], new_candidates)\n\u001b[1;32m---> 34\u001b[0m \u001b[43mfind_cliques\u001b[49m\u001b[43m(\u001b[49m\u001b[43m[\u001b[49m\u001b[43m]\u001b[49m\u001b[43m,\u001b[49m\u001b[43m \u001b[49m\u001b[38;5;28;43msorted\u001b[39;49m\u001b[43m(\u001b[49m\u001b[38;5;28;43mlist\u001b[39;49m\u001b[43m(\u001b[49m\u001b[43mnodes\u001b[49m\u001b[43m)\u001b[49m\u001b[43m)\u001b[49m\u001b[43m)\u001b[49m\n\u001b[0;32m     36\u001b[0m \u001b[38;5;28mprint\u001b[39m(\u001b[38;5;124m\"\u001b[39m\u001b[38;5;124m,\u001b[39m\u001b[38;5;124m\"\u001b[39m\u001b[38;5;241m.\u001b[39mjoin(\u001b[38;5;28msorted\u001b[39m(largest_clique)))\n",
      "Cell \u001b[1;32mIn[2], line 32\u001b[0m, in \u001b[0;36msolve.<locals>.find_cliques\u001b[1;34m(current_clique, candidates)\u001b[0m\n\u001b[0;32m     29\u001b[0m     \u001b[38;5;28;01mif\u001b[39;00m other \u001b[38;5;129;01min\u001b[39;00m adj[node]:\n\u001b[0;32m     30\u001b[0m         new_candidates\u001b[38;5;241m.\u001b[39madd(other)\n\u001b[1;32m---> 32\u001b[0m \u001b[43mfind_cliques\u001b[49m\u001b[43m(\u001b[49m\u001b[43mcurrent_clique\u001b[49m\u001b[43m \u001b[49m\u001b[38;5;241;43m+\u001b[39;49m\u001b[43m \u001b[49m\u001b[43m[\u001b[49m\u001b[43mnode\u001b[49m\u001b[43m]\u001b[49m\u001b[43m,\u001b[49m\u001b[43m \u001b[49m\u001b[43mnew_candidates\u001b[49m\u001b[43m)\u001b[49m\n",
      "Cell \u001b[1;32mIn[2], line 32\u001b[0m, in \u001b[0;36msolve.<locals>.find_cliques\u001b[1;34m(current_clique, candidates)\u001b[0m\n\u001b[0;32m     29\u001b[0m     \u001b[38;5;28;01mif\u001b[39;00m other \u001b[38;5;129;01min\u001b[39;00m adj[node]:\n\u001b[0;32m     30\u001b[0m         new_candidates\u001b[38;5;241m.\u001b[39madd(other)\n\u001b[1;32m---> 32\u001b[0m \u001b[43mfind_cliques\u001b[49m\u001b[43m(\u001b[49m\u001b[43mcurrent_clique\u001b[49m\u001b[43m \u001b[49m\u001b[38;5;241;43m+\u001b[39;49m\u001b[43m \u001b[49m\u001b[43m[\u001b[49m\u001b[43mnode\u001b[49m\u001b[43m]\u001b[49m\u001b[43m,\u001b[49m\u001b[43m \u001b[49m\u001b[43mnew_candidates\u001b[49m\u001b[43m)\u001b[49m\n",
      "    \u001b[1;31m[... skipping similar frames: solve.<locals>.find_cliques at line 32 (7 times)]\u001b[0m\n",
      "Cell \u001b[1;32mIn[2], line 32\u001b[0m, in \u001b[0;36msolve.<locals>.find_cliques\u001b[1;34m(current_clique, candidates)\u001b[0m\n\u001b[0;32m     29\u001b[0m     \u001b[38;5;28;01mif\u001b[39;00m other \u001b[38;5;129;01min\u001b[39;00m adj[node]:\n\u001b[0;32m     30\u001b[0m         new_candidates\u001b[38;5;241m.\u001b[39madd(other)\n\u001b[1;32m---> 32\u001b[0m find_cliques(current_clique \u001b[38;5;241m+\u001b[39m [node], new_candidates)\n",
      "\u001b[1;31mKeyboardInterrupt\u001b[0m: "
     ]
    }
   ],
   "source": [
    "def solve():\n",
    "    connections = []\n",
    "    with open(\"input.txt\", \"r\") as f:\n",
    "        for line in f:\n",
    "            connections.append(tuple(line.strip().split(\"-\")))\n",
    "\n",
    "    nodes = set()\n",
    "    for a, b in connections:\n",
    "        nodes.add(a)\n",
    "        nodes.add(b)\n",
    "\n",
    "    adj = {node: set() for node in nodes}\n",
    "    for a, b in connections:\n",
    "        adj[a].add(b)\n",
    "        adj[b].add(a)\n",
    "\n",
    "    largest_clique = []\n",
    "    \n",
    "    def find_cliques(current_clique, candidates):\n",
    "        nonlocal largest_clique\n",
    "        if not candidates:\n",
    "            if len(current_clique) > len(largest_clique):\n",
    "                largest_clique = current_clique[:]\n",
    "            return\n",
    "\n",
    "        for node in candidates:\n",
    "            new_candidates = set()\n",
    "            for other in candidates:\n",
    "                if other in adj[node]:\n",
    "                    new_candidates.add(other)\n",
    "\n",
    "            find_cliques(current_clique + [node], new_candidates)\n",
    "\n",
    "    find_cliques([], sorted(list(nodes)))\n",
    "\n",
    "    print(\",\".join(sorted(largest_clique)))\n",
    "\n",
    "solve()"
   ]
  },
  {
   "cell_type": "code",
   "execution_count": 3,
   "metadata": {},
   "outputs": [
    {
     "name": "stdout",
     "output_type": "stream",
     "text": [
      "cc,ff,fh,fr,ny,oa,pl,rg,uj,wd,xn,xs,zw\n"
     ]
    }
   ],
   "source": [
    "def solve():\n",
    "    connections = []\n",
    "    with open(\"input.txt\", \"r\") as f:\n",
    "        for line in f:\n",
    "            connections.append(tuple(line.strip().split(\"-\")))\n",
    "\n",
    "    nodes = set()\n",
    "    for a, b in connections:\n",
    "        nodes.add(a)\n",
    "        nodes.add(b)\n",
    "\n",
    "    adj = {node: set() for node in nodes}\n",
    "    for a, b in connections:\n",
    "        adj[a].add(b)\n",
    "        adj[b].add(a)\n",
    "\n",
    "    largest_clique = []\n",
    "\n",
    "    def is_clique(group):\n",
    "        for i in range(len(group)):\n",
    "            for j in range(i + 1, len(group)):\n",
    "                if group[j] not in adj[group[i]]:\n",
    "                    return False\n",
    "        return True\n",
    "    \n",
    "    sorted_nodes = sorted(list(nodes))\n",
    "\n",
    "    # Optimized Bron-Kerbosch algorithm with pivoting\n",
    "    def bron_kerbosch(r, p, x):\n",
    "        nonlocal largest_clique\n",
    "        if not p and not x:\n",
    "            if len(r) > len(largest_clique):\n",
    "                largest_clique = r[:]\n",
    "            return\n",
    "\n",
    "        if not p:\n",
    "            return\n",
    "        \n",
    "        # Choose a pivot\n",
    "        pivot = next(iter(p.union(x)))\n",
    "        \n",
    "        # Iterate through candidates not connected to the pivot\n",
    "        for v in list(p - adj[pivot]):\n",
    "            bron_kerbosch(r + [v], p.intersection(adj[v]), x.intersection(adj[v]))\n",
    "            p.remove(v)\n",
    "            x.add(v)\n",
    "    \n",
    "    bron_kerbosch([], set(sorted_nodes), set())\n",
    "\n",
    "    print(\",\".join(sorted(largest_clique)))\n",
    "\n",
    "solve()"
   ]
  }
 ],
 "metadata": {
  "kernelspec": {
   "display_name": "AdventOfCode",
   "language": "python",
   "name": "python3"
  },
  "language_info": {
   "codemirror_mode": {
    "name": "ipython",
    "version": 3
   },
   "file_extension": ".py",
   "mimetype": "text/x-python",
   "name": "python",
   "nbconvert_exporter": "python",
   "pygments_lexer": "ipython3",
   "version": "3.10.15"
  }
 },
 "nbformat": 4,
 "nbformat_minor": 2
}
