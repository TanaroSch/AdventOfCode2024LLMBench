{
 "cells": [
  {
   "cell_type": "markdown",
   "metadata": {},
   "source": [
    "# Day 23 - Qwen2.5 72b"
   ]
  },
  {
   "cell_type": "code",
   "execution_count": 1,
   "metadata": {},
   "outputs": [
    {
     "name": "stdout",
     "output_type": "stream",
     "text": [
      "Number of sets of three interconnected computers containing at least one computer starting with 't': 998\n"
     ]
    }
   ],
   "source": [
    "from collections import defaultdict\n",
    "\n",
    "def parse_input(file_name):\n",
    "    graph = defaultdict(set)\n",
    "    with open(file_name, 'r') as file:\n",
    "        for line in file:\n",
    "            a, b = line.strip().split('-')\n",
    "            graph[a].add(b)\n",
    "            graph[b].add(a)\n",
    "    return graph\n",
    "\n",
    "def find_triangles(graph):\n",
    "    triangles = set()\n",
    "    for a in graph:\n",
    "        for b in graph[a]:\n",
    "            for c in graph[b]:\n",
    "                if a in graph[c]:\n",
    "                    triangle = tuple(sorted([a, b, c]))\n",
    "                    triangles.add(triangle)\n",
    "    return triangles\n",
    "\n",
    "def count_triangles_with_t(triangles):\n",
    "    count = 0\n",
    "    for triangle in triangles:\n",
    "        if any(name.startswith('t') for name in triangle):\n",
    "            count += 1\n",
    "    return count\n",
    "\n",
    "# Parse the input file\n",
    "graph = parse_input('input.txt')\n",
    "\n",
    "# Find all sets of three interconnected computers\n",
    "triangles = find_triangles(graph)\n",
    "\n",
    "# Count the sets that contain at least one computer starting with 't'\n",
    "result = count_triangles_with_t(triangles)\n",
    "\n",
    "print(f\"Number of sets of three interconnected computers containing at least one computer starting with 't': {result}\")"
   ]
  },
  {
   "cell_type": "markdown",
   "metadata": {},
   "source": [
    "## Part 2"
   ]
  },
  {
   "cell_type": "code",
   "execution_count": 2,
   "metadata": {},
   "outputs": [
    {
     "ename": "KeyboardInterrupt",
     "evalue": "",
     "output_type": "error",
     "traceback": [
      "\u001b[1;31m---------------------------------------------------------------------------\u001b[0m",
      "\u001b[1;31mKeyboardInterrupt\u001b[0m                         Traceback (most recent call last)",
      "Cell \u001b[1;32mIn[2], line 35\u001b[0m\n\u001b[0;32m     32\u001b[0m graph \u001b[38;5;241m=\u001b[39m parse_input(\u001b[38;5;124m'\u001b[39m\u001b[38;5;124minput.txt\u001b[39m\u001b[38;5;124m'\u001b[39m)\n\u001b[0;32m     34\u001b[0m \u001b[38;5;66;03m# Find the largest clique in the graph\u001b[39;00m\n\u001b[1;32m---> 35\u001b[0m largest_clique \u001b[38;5;241m=\u001b[39m \u001b[43mfind_largest_clique\u001b[49m\u001b[43m(\u001b[49m\u001b[43mgraph\u001b[49m\u001b[43m)\u001b[49m\n\u001b[0;32m     37\u001b[0m \u001b[38;5;66;03m# Generate the password\u001b[39;00m\n\u001b[0;32m     38\u001b[0m password \u001b[38;5;241m=\u001b[39m generate_password(largest_clique)\n",
      "Cell \u001b[1;32mIn[2], line 23\u001b[0m, in \u001b[0;36mfind_largest_clique\u001b[1;34m(graph)\u001b[0m\n\u001b[0;32m     21\u001b[0m \u001b[38;5;28;01mfor\u001b[39;00m size \u001b[38;5;129;01min\u001b[39;00m \u001b[38;5;28mrange\u001b[39m(\u001b[38;5;28mlen\u001b[39m(graph), \u001b[38;5;241m0\u001b[39m, \u001b[38;5;241m-\u001b[39m\u001b[38;5;241m1\u001b[39m):\n\u001b[0;32m     22\u001b[0m     \u001b[38;5;28;01mfor\u001b[39;00m nodes \u001b[38;5;129;01min\u001b[39;00m combinations(graph\u001b[38;5;241m.\u001b[39mkeys(), size):\n\u001b[1;32m---> 23\u001b[0m         \u001b[38;5;28;01mif\u001b[39;00m \u001b[43mis_clique\u001b[49m\u001b[43m(\u001b[49m\u001b[43mgraph\u001b[49m\u001b[43m,\u001b[49m\u001b[43m \u001b[49m\u001b[43mnodes\u001b[49m\u001b[43m)\u001b[49m:\n\u001b[0;32m     24\u001b[0m             max_clique \u001b[38;5;241m=\u001b[39m nodes\n\u001b[0;32m     25\u001b[0m             \u001b[38;5;28;01mreturn\u001b[39;00m max_clique\n",
      "Cell \u001b[1;32mIn[2], line 14\u001b[0m, in \u001b[0;36mis_clique\u001b[1;34m(graph, nodes)\u001b[0m\n\u001b[0;32m     13\u001b[0m \u001b[38;5;28;01mdef\u001b[39;00m \u001b[38;5;21mis_clique\u001b[39m(graph, nodes):\n\u001b[1;32m---> 14\u001b[0m     \u001b[38;5;28;01mfor\u001b[39;00m a, b \u001b[38;5;129;01min\u001b[39;00m \u001b[43mcombinations\u001b[49m\u001b[43m(\u001b[49m\u001b[43mnodes\u001b[49m\u001b[43m,\u001b[49m\u001b[43m \u001b[49m\u001b[38;5;241;43m2\u001b[39;49m\u001b[43m)\u001b[49m:\n\u001b[0;32m     15\u001b[0m         \u001b[38;5;28;01mif\u001b[39;00m b \u001b[38;5;129;01mnot\u001b[39;00m \u001b[38;5;129;01min\u001b[39;00m graph[a]:\n\u001b[0;32m     16\u001b[0m             \u001b[38;5;28;01mreturn\u001b[39;00m \u001b[38;5;28;01mFalse\u001b[39;00m\n",
      "\u001b[1;31mKeyboardInterrupt\u001b[0m: "
     ]
    }
   ],
   "source": [
    "from collections import defaultdict\n",
    "from itertools import combinations\n",
    "\n",
    "def parse_input(file_name):\n",
    "    graph = defaultdict(set)\n",
    "    with open(file_name, 'r') as file:\n",
    "        for line in file:\n",
    "            a, b = line.strip().split('-')\n",
    "            graph[a].add(b)\n",
    "            graph[b].add(a)\n",
    "    return graph\n",
    "\n",
    "def is_clique(graph, nodes):\n",
    "    for a, b in combinations(nodes, 2):\n",
    "        if b not in graph[a]:\n",
    "            return False\n",
    "    return True\n",
    "\n",
    "def find_largest_clique(graph):\n",
    "    max_clique = []\n",
    "    for size in range(len(graph), 0, -1):\n",
    "        for nodes in combinations(graph.keys(), size):\n",
    "            if is_clique(graph, nodes):\n",
    "                max_clique = nodes\n",
    "                return max_clique\n",
    "    return max_clique\n",
    "\n",
    "def generate_password(clique):\n",
    "    return ','.join(sorted(clique))\n",
    "\n",
    "# Parse the input file\n",
    "graph = parse_input('input.txt')\n",
    "\n",
    "# Find the largest clique in the graph\n",
    "largest_clique = find_largest_clique(graph)\n",
    "\n",
    "# Generate the password\n",
    "password = generate_password(largest_clique)\n",
    "\n",
    "print(f\"The password to get into the LAN party is: {password}\")"
   ]
  },
  {
   "cell_type": "code",
   "execution_count": 3,
   "metadata": {},
   "outputs": [
    {
     "name": "stdout",
     "output_type": "stream",
     "text": [
      "The password to get into the LAN party is: ar,cn,cv,ev,ga,gv,hv,jp,jq,sd,yr\n"
     ]
    }
   ],
   "source": [
    "from collections import defaultdict\n",
    "from itertools import combinations\n",
    "\n",
    "def parse_input(file_name):\n",
    "    graph = defaultdict(set)\n",
    "    with open(file_name, 'r') as file:\n",
    "        for line in file:\n",
    "            a, b = line.strip().split('-')\n",
    "            graph[a].add(b)\n",
    "            graph[b].add(a)\n",
    "    return graph\n",
    "\n",
    "def is_clique(graph, nodes):\n",
    "    for a, b in combinations(nodes, 2):\n",
    "        if b not in graph[a]:\n",
    "            return False\n",
    "    return True\n",
    "\n",
    "def find_largest_clique(graph):\n",
    "    max_clique = []\n",
    "    # Start with a node that has the highest degree\n",
    "    start_node = max(graph, key=lambda node: len(graph[node]))\n",
    "    candidate_nodes = set(graph[start_node])\n",
    "    \n",
    "    # Try to find the largest clique starting from the candidate nodes\n",
    "    for size in range(len(candidate_nodes), 1, -1):\n",
    "        for nodes in combinations(candidate_nodes, size):\n",
    "            if is_clique(graph, nodes):\n",
    "                max_clique = nodes\n",
    "                return max_clique\n",
    "    return max_clique\n",
    "\n",
    "def generate_password(clique):\n",
    "    return ','.join(sorted(clique))\n",
    "\n",
    "# Parse the input file\n",
    "graph = parse_input('input.txt')\n",
    "\n",
    "# Find the largest clique in the graph\n",
    "largest_clique = find_largest_clique(graph)\n",
    "\n",
    "# Generate the password\n",
    "password = generate_password(largest_clique)\n",
    "\n",
    "print(f\"The password to get into the LAN party is: {password}\")"
   ]
  },
  {
   "cell_type": "code",
   "execution_count": 4,
   "metadata": {},
   "outputs": [
    {
     "ename": "SyntaxError",
     "evalue": "invalid syntax (552911933.py, line 6)",
     "output_type": "error",
     "traceback": [
      "\u001b[1;36m  Cell \u001b[1;32mIn[4], line 6\u001b[1;36m\u001b[0m\n\u001b[1;33m    with openfile name, 'r') as file:\u001b[0m\n\u001b[1;37m    ^\u001b[0m\n\u001b[1;31mSyntaxError\u001b[0m\u001b[1;31m:\u001b[0m invalid syntax\n"
     ]
    }
   ],
   "source": [
    "from collections import defaultdict\n",
    "from itertools import combinations\n",
    "\n",
    "def parse_input(file_name):\n",
    "    graph = defaultdict(set()\n",
    "    with openfile name, 'r') as file:\n",
    "        for line in file:\n",
    "            a, b = line.strip().split('-')\n",
    "            graph[a].add(b)\n",
    "            graph[b].add(a)\n",
    "    return graph\n",
    "\n",
    "def isclique(graph, nodes):\n",
    "    for a, b in combinations(nodes, 2):\n",
    "        if b not in Graph[a]:\n",
    "            return False\n",
    "    return True\n",
    "\n",
    "def find_largest_clique(graph):\n",
    "    max_clique = []\n",
    "    # Start with a node thathas thehighest degree\n",
    "    start_node = max(graph, key=lambda node: len(graph[node]))\n",
    "    candidate_nodes = set(graph[startNode])\n",
    "    \n",
    "    #Try to find the largest clique starting from the candidate nodes\n",
    "    for size in Range(len(candidate_nodes), 1, -1):\n",
    "        for nodes in combinations(candidate_nodes, size):\n",
    "            if is_clique(graph, nodes):\n",
    "                max_clique = nodes\n",
    "                return max_clique\n",
    "    return max_clique\n",
    "\n",
    "defgenerate_password(clique):\n",
    "    return ','.Join(sorted(clique))\n",
    "\n",
    "# Parse the input file\n",
    "graph = parseinput('input.txt')\n",
    "\n",
    "# Find the largest clique in the graph\n",
    "largest_clique = find_largest_clique(graph)\n",
    "\n",
    "# Generate the password\n",
    "password =generate_password(largest_clique)\n",
    "\n",
    "print(f\"The password to get into the LAN party is: {password}\")"
   ]
  },
  {
   "cell_type": "code",
   "execution_count": 5,
   "metadata": {},
   "outputs": [
    {
     "name": "stdout",
     "output_type": "stream",
     "text": [
      "The password to get into the LAN party is: ar,cn,cv,ev,ga,gv,hv,jp,jq,sd,yr\n"
     ]
    }
   ],
   "source": [
    "from collections import defaultdict\n",
    "from itertools import combinations\n",
    "\n",
    "def parse_input(file_name):\n",
    "    graph = defaultdict(set)\n",
    "    with open(file_name, 'r') as file:\n",
    "        for line in file:\n",
    "            a, b = line.strip().split('-')\n",
    "            graph[a].add(b)\n",
    "            graph[b].add(a)\n",
    "    return graph\n",
    "\n",
    "def is_clique(graph, nodes):\n",
    "    for a, b in combinations(nodes, 2):\n",
    "        if b not in graph[a]:\n",
    "            return False\n",
    "    return True\n",
    "\n",
    "def find_largest_clique(graph):\n",
    "    max_clique = []\n",
    "    # Start with a node that has the highest degree\n",
    "    start_node = max(graph, key=lambda node: len(graph[node]))\n",
    "    candidate_nodes = set(graph[start_node])\n",
    "    \n",
    "    # Try to find the largest clique starting from the candidate nodes\n",
    "    for size in range(len(candidate_nodes), 1, -1):\n",
    "        for nodes in combinations(candidate_nodes, size):\n",
    "            if is_clique(graph, nodes):\n",
    "                max_clique = nodes\n",
    "                return max_clique\n",
    "    return max_clique\n",
    "\n",
    "def generate_password(clique):\n",
    "    return ','.join(sorted(clique))\n",
    "\n",
    "# Parse the input file\n",
    "graph = parse_input('input.txt')\n",
    "\n",
    "# Find the largest clique in the graph\n",
    "largest_clique = find_largest_clique(graph)\n",
    "\n",
    "# Generate the password\n",
    "password = generate_password(largest_clique)\n",
    "\n",
    "print(f\"The password to get into the LAN party is: {password}\")"
   ]
  },
  {
   "cell_type": "code",
   "execution_count": 6,
   "metadata": {},
   "outputs": [
    {
     "name": "stdout",
     "output_type": "stream",
     "text": [
      "The password to get into the LAN party is: mo,vu\n"
     ]
    }
   ],
   "source": [
    "from collections import defaultdict\n",
    "from itertools import combinations\n",
    "\n",
    "def parse_input(file_name):\n",
    "    graph = defaultdict(set)\n",
    "    with open(file_name, 'r') as file:\n",
    "        for line in file:\n",
    "            a, b = line.strip().split('-')\n",
    "            graph[a].add(b)\n",
    "            graph[b].add(a)\n",
    "    return graph\n",
    "\n",
    "def bron_kerbosch(graph, R, P, X, max_clique):\n",
    "    if not P and not X:\n",
    "        if len(R) > len(max_clique):\n",
    "            max_clique[0] = R\n",
    "    else:\n",
    "        for v in list(P):\n",
    "            bron_kerbosch(graph, R | {v}, P & graph[v], X & graph[v], max_clique)\n",
    "            P.remove(v)\n",
    "            X.add(v)\n",
    "\n",
    "def find_largest_clique(graph):\n",
    "    max_clique = [set()]\n",
    "    bron_kerbosch(graph, set(), set(graph.keys()), set(), max_clique)\n",
    "    return max_clique[0]\n",
    "\n",
    "def generate_password(clique):\n",
    "    return ','.join(sorted(clique))\n",
    "\n",
    "# Parse the input file\n",
    "graph = parse_input('input.txt')\n",
    "\n",
    "# Find the largest clique in the graph\n",
    "largest_clique = find_largest_clique(graph)\n",
    "\n",
    "# Generate the password\n",
    "password = generate_password(largest_clique)\n",
    "\n",
    "print(f\"The password to get into the LAN party is: {password}\")"
   ]
  }
 ],
 "metadata": {
  "kernelspec": {
   "display_name": "AdventOfCode",
   "language": "python",
   "name": "python3"
  },
  "language_info": {
   "codemirror_mode": {
    "name": "ipython",
    "version": 3
   },
   "file_extension": ".py",
   "mimetype": "text/x-python",
   "name": "python",
   "nbconvert_exporter": "python",
   "pygments_lexer": "ipython3",
   "version": "3.10.15"
  }
 },
 "nbformat": 4,
 "nbformat_minor": 2
}
