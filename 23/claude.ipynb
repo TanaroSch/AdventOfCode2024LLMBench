{
 "cells": [
  {
   "cell_type": "markdown",
   "metadata": {},
   "source": [
    "# Day 23 - claude"
   ]
  },
  {
   "cell_type": "code",
   "execution_count": 1,
   "metadata": {},
   "outputs": [
    {
     "name": "stdout",
     "output_type": "stream",
     "text": [
      "Number of triples with 't' computer: 998\n"
     ]
    }
   ],
   "source": [
    "def read_connections(filename):\n",
    "    connections = {}\n",
    "    with open(filename) as f:\n",
    "        for line in f:\n",
    "            a, b = line.strip().split('-')\n",
    "            connections.setdefault(a, set()).add(b)\n",
    "            connections.setdefault(b, set()).add(a)\n",
    "    return connections\n",
    "\n",
    "def find_connected_triples(connections):\n",
    "    triples = set()\n",
    "    computers = list(connections.keys())\n",
    "    \n",
    "    for i in range(len(computers)):\n",
    "        for j in range(i + 1, len(computers)):\n",
    "            if computers[j] not in connections[computers[i]]:\n",
    "                continue\n",
    "            for k in range(j + 1, len(computers)):\n",
    "                if (computers[k] in connections[computers[i]] and \n",
    "                    computers[k] in connections[computers[j]]):\n",
    "                    triple = tuple(sorted([computers[i], computers[j], computers[k]]))\n",
    "                    triples.add(triple)\n",
    "    return triples\n",
    "\n",
    "def count_t_triples(triples):\n",
    "    return sum(1 for triple in triples \n",
    "              if any(comp.startswith('t') for comp in triple))\n",
    "\n",
    "connections = read_connections('input.txt')\n",
    "triples = find_connected_triples(connections)\n",
    "t_count = count_t_triples(triples)\n",
    "print(f\"Number of triples with 't' computer: {t_count}\")"
   ]
  },
  {
   "cell_type": "markdown",
   "metadata": {},
   "source": [
    "## Part 2"
   ]
  },
  {
   "cell_type": "code",
   "execution_count": 2,
   "metadata": {},
   "outputs": [
    {
     "ename": "KeyboardInterrupt",
     "evalue": "",
     "output_type": "error",
     "traceback": [
      "\u001b[1;31m---------------------------------------------------------------------------\u001b[0m",
      "\u001b[1;31mKeyboardInterrupt\u001b[0m                         Traceback (most recent call last)",
      "Cell \u001b[1;32mIn[2], line 26\u001b[0m\n\u001b[0;32m     24\u001b[0m \u001b[38;5;28;01mfrom\u001b[39;00m \u001b[38;5;21;01mitertools\u001b[39;00m \u001b[38;5;28;01mimport\u001b[39;00m combinations\n\u001b[0;32m     25\u001b[0m connections \u001b[38;5;241m=\u001b[39m read_connections(\u001b[38;5;124m'\u001b[39m\u001b[38;5;124minput.txt\u001b[39m\u001b[38;5;124m'\u001b[39m)\n\u001b[1;32m---> 26\u001b[0m largest_clique \u001b[38;5;241m=\u001b[39m \u001b[43mfind_largest_clique\u001b[49m\u001b[43m(\u001b[49m\u001b[43mconnections\u001b[49m\u001b[43m)\u001b[49m\n\u001b[0;32m     27\u001b[0m password \u001b[38;5;241m=\u001b[39m \u001b[38;5;124m'\u001b[39m\u001b[38;5;124m,\u001b[39m\u001b[38;5;124m'\u001b[39m\u001b[38;5;241m.\u001b[39mjoin(largest_clique)\n\u001b[0;32m     28\u001b[0m \u001b[38;5;28mprint\u001b[39m(\u001b[38;5;124mf\u001b[39m\u001b[38;5;124m\"\u001b[39m\u001b[38;5;124mPassword: \u001b[39m\u001b[38;5;132;01m{\u001b[39;00mpassword\u001b[38;5;132;01m}\u001b[39;00m\u001b[38;5;124m\"\u001b[39m)\n",
      "Cell \u001b[1;32mIn[2], line 20\u001b[0m, in \u001b[0;36mfind_largest_clique\u001b[1;34m(connections)\u001b[0m\n\u001b[0;32m     18\u001b[0m \u001b[38;5;28;01mfor\u001b[39;00m size \u001b[38;5;129;01min\u001b[39;00m \u001b[38;5;28mrange\u001b[39m(n, \u001b[38;5;241m1\u001b[39m, \u001b[38;5;241m-\u001b[39m\u001b[38;5;241m1\u001b[39m):\n\u001b[0;32m     19\u001b[0m     \u001b[38;5;28;01mfor\u001b[39;00m combo \u001b[38;5;129;01min\u001b[39;00m combinations(all_computers, size):\n\u001b[1;32m---> 20\u001b[0m         \u001b[38;5;28;01mif\u001b[39;00m \u001b[43mis_clique\u001b[49m\u001b[43m(\u001b[49m\u001b[43mcombo\u001b[49m\u001b[43m)\u001b[49m:\n\u001b[0;32m     21\u001b[0m             \u001b[38;5;28;01mreturn\u001b[39;00m \u001b[38;5;28msorted\u001b[39m(combo)\n\u001b[0;32m     22\u001b[0m \u001b[38;5;28;01mreturn\u001b[39;00m \u001b[38;5;28;01mNone\u001b[39;00m\n",
      "Cell \u001b[1;32mIn[2], line 12\u001b[0m, in \u001b[0;36mfind_largest_clique.<locals>.is_clique\u001b[1;34m(computers)\u001b[0m\n\u001b[0;32m     11\u001b[0m \u001b[38;5;28;01mdef\u001b[39;00m \u001b[38;5;21mis_clique\u001b[39m(computers):\n\u001b[1;32m---> 12\u001b[0m     \u001b[38;5;28;01mreturn\u001b[39;00m \u001b[38;5;28mall\u001b[39m(b \u001b[38;5;129;01min\u001b[39;00m connections[a] \u001b[38;5;28;01mfor\u001b[39;00m a \u001b[38;5;129;01min\u001b[39;00m computers \u001b[38;5;28;01mfor\u001b[39;00m b \u001b[38;5;129;01min\u001b[39;00m computers \u001b[38;5;28;01mif\u001b[39;00m a \u001b[38;5;241m!=\u001b[39m b)\n",
      "\u001b[1;31mKeyboardInterrupt\u001b[0m: "
     ]
    }
   ],
   "source": [
    "def read_connections(filename):\n",
    "    connections = {}\n",
    "    with open(filename) as f:\n",
    "        for line in f:\n",
    "            a, b = line.strip().split('-')\n",
    "            connections.setdefault(a, set()).add(b)\n",
    "            connections.setdefault(b, set()).add(a)\n",
    "    return connections\n",
    "\n",
    "def find_largest_clique(connections):\n",
    "    def is_clique(computers):\n",
    "        return all(b in connections[a] for a in computers for b in computers if a != b)\n",
    "    \n",
    "    all_computers = list(connections.keys())\n",
    "    n = len(all_computers)\n",
    "    \n",
    "    # Start with largest possible size and work down\n",
    "    for size in range(n, 1, -1):\n",
    "        for combo in combinations(all_computers, size):\n",
    "            if is_clique(combo):\n",
    "                return sorted(combo)\n",
    "    return None\n",
    "\n",
    "from itertools import combinations\n",
    "connections = read_connections('input.txt')\n",
    "largest_clique = find_largest_clique(connections)\n",
    "password = ','.join(largest_clique)\n",
    "print(f\"Password: {password}\")"
   ]
  },
  {
   "cell_type": "code",
   "execution_count": 3,
   "metadata": {},
   "outputs": [
    {
     "name": "stdout",
     "output_type": "stream",
     "text": [
      "Password: ck,cn,cv,ef,ev,ga,gv,hv,jp,jq,sd,yr\n"
     ]
    }
   ],
   "source": [
    "def read_connections(filename):\n",
    "    connections = {}\n",
    "    with open(filename) as f:\n",
    "        for line in f:\n",
    "            a, b = line.strip().split('-')\n",
    "            connections.setdefault(a, set()).add(b)\n",
    "            connections.setdefault(b, set()).add(a)\n",
    "    return connections\n",
    "\n",
    "def find_largest_clique(connections):\n",
    "    # Start with any node and its neighbors\n",
    "    potential_members = set()\n",
    "    start_node = next(iter(connections))\n",
    "    candidates = {start_node} | connections[start_node]\n",
    "    \n",
    "    # Keep only nodes connected to all current candidates\n",
    "    while candidates:\n",
    "        node = candidates.pop()\n",
    "        if all(n in connections[node] for n in potential_members):\n",
    "            potential_members.add(node)\n",
    "            # Update candidates with common neighbors\n",
    "            common = candidates & connections[node]\n",
    "            candidates = common\n",
    "    \n",
    "    return sorted(potential_members)\n",
    "\n",
    "connections = read_connections('input.txt')\n",
    "largest_clique = find_largest_clique(connections)\n",
    "password = ','.join(largest_clique)\n",
    "print(f\"Password: {password}\")"
   ]
  },
  {
   "cell_type": "code",
   "execution_count": 4,
   "metadata": {},
   "outputs": [
    {
     "name": "stdout",
     "output_type": "stream",
     "text": [
      "Password: cc,ff,fh,fr,ny,oa,pl,rg,uj,wd,xn,xs,zw\n"
     ]
    }
   ],
   "source": [
    "def read_connections(filename):\n",
    "    connections = {}\n",
    "    with open(filename) as f:\n",
    "        for line in f:\n",
    "            a, b = line.strip().split('-')\n",
    "            connections.setdefault(a, set()).add(b)\n",
    "            connections.setdefault(b, set()).add(a)\n",
    "    return connections\n",
    "\n",
    "def bron_kerbosch_pivot(graph, r=None, p=None, x=None, max_clique=None):\n",
    "    if r is None:\n",
    "        r = set()\n",
    "        p = set(graph.keys())\n",
    "        x = set()\n",
    "    if not p and not x:\n",
    "        if not max_clique[0] or len(r) > len(max_clique[0]):\n",
    "            max_clique[0] = r.copy()\n",
    "        return\n",
    "    \n",
    "    pivot = max(p.union(x), key=lambda u: len(graph[u]), default=None)\n",
    "    for v in p.difference(graph[pivot] if pivot else set()):\n",
    "        new_r = r.union([v])\n",
    "        new_p = p.intersection(graph[v])\n",
    "        new_x = x.intersection(graph[v])\n",
    "        bron_kerbosch_pivot(graph, new_r, new_p, new_x, max_clique)\n",
    "        p.remove(v)\n",
    "        x.add(v)\n",
    "\n",
    "connections = read_connections('input.txt')\n",
    "max_clique = [set()]\n",
    "bron_kerbosch_pivot(connections, max_clique=max_clique)\n",
    "password = ','.join(sorted(max_clique[0]))\n",
    "print(f\"Password: {password}\")"
   ]
  }
 ],
 "metadata": {
  "kernelspec": {
   "display_name": "AdventOfCode",
   "language": "python",
   "name": "python3"
  },
  "language_info": {
   "codemirror_mode": {
    "name": "ipython",
    "version": 3
   },
   "file_extension": ".py",
   "mimetype": "text/x-python",
   "name": "python",
   "nbconvert_exporter": "python",
   "pygments_lexer": "ipython3",
   "version": "3.10.15"
  }
 },
 "nbformat": 4,
 "nbformat_minor": 2
}
