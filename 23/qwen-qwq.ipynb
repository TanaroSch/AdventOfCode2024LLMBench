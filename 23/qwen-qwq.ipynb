{
 "cells": [
  {
   "cell_type": "markdown",
   "metadata": {},
   "source": [
    "# Day 23 - Qwen QwQ 32B"
   ]
  },
  {
   "cell_type": "code",
   "execution_count": 1,
   "metadata": {},
   "outputs": [
    {
     "name": "stdout",
     "output_type": "stream",
     "text": [
      "998\n"
     ]
    }
   ],
   "source": [
    "import itertools\n",
    "\n",
    "def main():\n",
    "    # Read the input file\n",
    "    with open('input.txt', 'r') as file:\n",
    "        lines = file.readlines()\n",
    "\n",
    "    # Build the graph\n",
    "    graph = {}\n",
    "    for line in lines:\n",
    "        a, b = line.strip().split('-')\n",
    "        if a not in graph:\n",
    "            graph[a] = set()\n",
    "        if b not in graph:\n",
    "            graph[b] = set()\n",
    "        graph[a].add(b)\n",
    "        graph[b].add(a)\n",
    "\n",
    "    # Generate all possible triplets\n",
    "    computers = list(graph.keys())\n",
    "    triplets = itertools.combinations(computers, 3)\n",
    "\n",
    "    # Function to check if a triplet forms a triangle\n",
    "    def is_triangle(triplet):\n",
    "        a, b, c = triplet\n",
    "        return b in graph[a] and c in graph[a] and c in graph[b]\n",
    "\n",
    "    # Find all triangles\n",
    "    triangles = [triplet for triplet in triplets if is_triangle(triplet)]\n",
    "\n",
    "    # Filter triangles that have at least one name starting with 't'\n",
    "    filtered_triangles = [triplet for triplet in triangles if any(name.startswith('t') for name in triplet)]\n",
    "\n",
    "    # Count and print the number of such triangles\n",
    "    count = len(filtered_triangles)\n",
    "    print(count)\n",
    "\n",
    "if __name__ == \"__main__\":\n",
    "    main()"
   ]
  },
  {
   "cell_type": "markdown",
   "metadata": {},
   "source": [
    "## Part 2"
   ]
  },
  {
   "cell_type": "code",
   "execution_count": 2,
   "metadata": {},
   "outputs": [
    {
     "ename": "SyntaxError",
     "evalue": "unmatched ')' (3848271407.py, line 21)",
     "output_type": "error",
     "traceback": [
      "\u001b[1;36m  Cell \u001b[1;32mIn[2], line 21\u001b[1;36m\u001b[0m\n\u001b[1;33m    if not all neighbor in graph[node] for neighbor in nodes if neighbor != node):\u001b[0m\n\u001b[1;37m                                                                                ^\u001b[0m\n\u001b[1;31mSyntaxError\u001b[0m\u001b[1;31m:\u001b[0m unmatched ')'\n"
     ]
    }
   ],
   "source": [
    "import itertools\n",
    "\n",
    "def read_input(filename):\n",
    "    with open(filename, 'r') as f:\n",
    "        return [line.strip() for line in f.readlines()]\n",
    "\n",
    "def build_graph(connections):\n",
    "    graph = {}\n",
    "    for connection in connections:\n",
    "        a, b = connection.split('-')\n",
    "        if a not in graph:\n",
    "            graph[a] = set()\n",
    "        if b not in graph:\n",
    "            graph[b] = set()\n",
    "        graph[a].add(b)\n",
    "        graph[b].add(a)\n",
    "    return graph\n",
    "\n",
    "def is_clique(nodes, graph):\n",
    "    for node in nodes:\n",
    "        if not all neighbor in graph[node] for neighbor in nodes if neighbor != node):\n",
    "            return False\n",
    "    return True\n",
    "\n",
    "def find_largest_clique(graph):\n",
    "    nodes = list(graph.keys())\n",
    "    max_clique = []\n",
    "    for i in range(len(nodes), 0, -1):\n",
    "        for combo in itertools.combinations(nodes, i):\n",
    "            if is_clique(combo, graph):\n",
    "                return combo\n",
    "    return max_clique\n",
    "\n",
    "def generate_password(clique):\n",
    "    return ','.join(sorted(clique))\n",
    "\n",
    "def main():\n",
    "    connections = read_input('input.txt')\n",
    "    graph = build_graph(connections)\n",
    "    largest_clique = find_largest_clique(graph)\n",
    "    password = generate_password(largest_clique)\n",
    "    print(password)\n",
    "\n",
    "if __name__ == \"__main__\":\n",
    "    main()"
   ]
  },
  {
   "cell_type": "code",
   "execution_count": 3,
   "metadata": {},
   "outputs": [
    {
     "name": "stdout",
     "output_type": "stream",
     "text": [
      "cc,ff,fh,fr,ny,oa,pl,rg,uj,wd,xn,xs,zw\n"
     ]
    }
   ],
   "source": [
    "def find_largest_clique(graph):\n",
    "    def is_clique(nodes):\n",
    "        return all(neighbor in graph[node] for node in nodes for neighbor in nodes if neighbor!= node)\n",
    "\n",
    "    def search_clique(current, candidates):\n",
    "        if not candidates:\n",
    "            return current.copy()\n",
    "        \n",
    "        max_clique = current.copy()\n",
    "        for node in candidates.copy():\n",
    "            if all(neighbor in graph[node] for neighbor in current):\n",
    "                new_candidates = candidates & graph[node]\n",
    "                clique = search_clique(current | {node}, new_candidates)\n",
    "                if len(clique) > len(max_clique):\n",
    "                    max_clique = clique\n",
    "                candidates -= {node}\n",
    "            else:\n",
    "                candidates -= {node}\n",
    "        return max_clique\n",
    "\n",
    "    nodes = set(graph.keys())\n",
    "    largest_clique = set()\n",
    "    for node in nodes:\n",
    "        candidates = nodes.intersection(graph[node])\n",
    "        clique = search_clique({node}, candidates)\n",
    "        if len(clique) > len(largest_clique):\n",
    "            largest_clique = clique\n",
    "    return largest_clique\n",
    "\n",
    "def main():\n",
    "    with open(\"input.txt\", \"r\") as file:\n",
    "        connections = [line.strip().split(\"-\") for line in file]\n",
    "\n",
    "    graph = {}\n",
    "    for a, b in connections:\n",
    "        if a not in graph:\n",
    "            graph[a] = set()\n",
    "        if b not in graph:\n",
    "            graph[b] = set()\n",
    "        graph[a].add(b)\n",
    "        graph[b].add(a)\n",
    "\n",
    "    largest_clique = find_largest_clique(graph)\n",
    "    sorted_nodes = sorted(largest_clique)\n",
    "    password = \",\".join(sorted_nodes)\n",
    "    print(password)\n",
    "\n",
    "if __name__ == \"__main__\":\n",
    "    main()"
   ]
  }
 ],
 "metadata": {
  "kernelspec": {
   "display_name": "AdventOfCode",
   "language": "python",
   "name": "python3"
  },
  "language_info": {
   "codemirror_mode": {
    "name": "ipython",
    "version": 3
   },
   "file_extension": ".py",
   "mimetype": "text/x-python",
   "name": "python",
   "nbconvert_exporter": "python",
   "pygments_lexer": "ipython3",
   "version": "3.10.15"
  }
 },
 "nbformat": 4,
 "nbformat_minor": 2
}
