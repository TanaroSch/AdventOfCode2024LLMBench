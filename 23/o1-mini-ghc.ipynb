{
 "cells": [
  {
   "cell_type": "markdown",
   "metadata": {},
   "source": [
    "# Day 23 - o1-mini (GHC)"
   ]
  },
  {
   "cell_type": "code",
   "execution_count": 1,
   "metadata": {},
   "outputs": [
    {
     "name": "stdout",
     "output_type": "stream",
     "text": [
      "998\n"
     ]
    }
   ],
   "source": [
    "from itertools import combinations\n",
    "\n",
    "def read_connections(file_path):\n",
    "    connections = {}\n",
    "    with open(file_path, 'r') as file:\n",
    "        for line in file:\n",
    "            a, b = line.strip().split('-')\n",
    "            connections.setdefault(a, set()).add(b)\n",
    "            connections.setdefault(b, set()).add(a)\n",
    "    return connections\n",
    "\n",
    "def find_triangles(connections):\n",
    "    triangles = set()\n",
    "    for a, neighbors in connections.items():\n",
    "        for b, c in combinations(neighbors, 2):\n",
    "            if c in connections.get(b, set()):\n",
    "                triangle = tuple(sorted([a, b, c]))\n",
    "                triangles.add(triangle)\n",
    "    return triangles\n",
    "\n",
    "def filter_triangles(triangles):\n",
    "    filtered = [triangle for triangle in triangles if any(name.startswith('t') for name in triangle)]\n",
    "    return filtered\n",
    "\n",
    "def main():\n",
    "    connections = read_connections('input.txt')\n",
    "    triangles = find_triangles(connections)\n",
    "    filtered_triangles = filter_triangles(triangles)\n",
    "    print(len(filtered_triangles))\n",
    "\n",
    "if __name__ == \"__main__\":\n",
    "    main()"
   ]
  },
  {
   "cell_type": "markdown",
   "metadata": {},
   "source": [
    "## Part 2"
   ]
  },
  {
   "cell_type": "code",
   "execution_count": 2,
   "metadata": {},
   "outputs": [
    {
     "name": "stdout",
     "output_type": "stream",
     "text": [
      "cc,ff,fh,fr,ny,oa,pl,rg,uj,wd,xn,xs,zw\n"
     ]
    }
   ],
   "source": [
    "from itertools import combinations\n",
    "\n",
    "def read_connections(file_path):\n",
    "    connections = {}\n",
    "    with open(file_path, 'r') as file:\n",
    "        for line in file:\n",
    "            a, b = line.strip().split('-')\n",
    "            connections.setdefault(a, set()).add(b)\n",
    "            connections.setdefault(b, set()).add(a)\n",
    "    return connections\n",
    "\n",
    "def bron_kerbosch(clique, candidates, excluded, connections, cliques):\n",
    "    if not candidates and not excluded:\n",
    "        cliques.append(clique)\n",
    "        return\n",
    "    for vertex in list(candidates):\n",
    "        new_clique = clique.union({vertex})\n",
    "        new_candidates = candidates.intersection(connections[vertex])\n",
    "        new_excluded = excluded.intersection(connections[vertex])\n",
    "        bron_kerbosch(new_clique, new_candidates, new_excluded, connections, cliques)\n",
    "        candidates.remove(vertex)\n",
    "        excluded.add(vertex)\n",
    "\n",
    "def find_max_clique(connections):\n",
    "    cliques = []\n",
    "    bron_kerbosch(set(), set(connections.keys()), set(), connections, cliques)\n",
    "    max_clique = max(cliques, key=lambda x: len(x))\n",
    "    return max_clique\n",
    "\n",
    "def main():\n",
    "    connections = read_connections('input.txt')\n",
    "    max_clique = find_max_clique(connections)\n",
    "    password = ','.join(sorted(max_clique))\n",
    "    print(password)\n",
    "\n",
    "if __name__ == \"__main__\":\n",
    "        main()"
   ]
  }
 ],
 "metadata": {
  "kernelspec": {
   "display_name": "AdventOfCode",
   "language": "python",
   "name": "python3"
  },
  "language_info": {
   "codemirror_mode": {
    "name": "ipython",
    "version": 3
   },
   "file_extension": ".py",
   "mimetype": "text/x-python",
   "name": "python",
   "nbconvert_exporter": "python",
   "pygments_lexer": "ipython3",
   "version": "3.10.15"
  }
 },
 "nbformat": 4,
 "nbformat_minor": 2
}
