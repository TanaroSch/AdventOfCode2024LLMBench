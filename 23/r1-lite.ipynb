{
 "cells": [
  {
   "cell_type": "markdown",
   "metadata": {},
   "source": [
    "# Day 23 - Deepseek R1 Lite"
   ]
  },
  {
   "cell_type": "code",
   "execution_count": 1,
   "metadata": {},
   "outputs": [
    {
     "name": "stdout",
     "output_type": "stream",
     "text": [
      "998\n"
     ]
    }
   ],
   "source": [
    "import itertools\n",
    "\n",
    "def main():\n",
    "    connections = {}\n",
    "\n",
    "    # Read the input file and build the connections dictionary\n",
    "    with open('input.txt', 'r') as file:\n",
    "        for line in file:\n",
    "            line = line.strip()\n",
    "            if not line:\n",
    "                continue\n",
    "            comp1, comp2 = line.split('-')\n",
    "            \n",
    "            if comp1 not in connections:\n",
    "                connections[comp1] = set()\n",
    "            connections[comp1].add(comp2)\n",
    "            \n",
    "            if comp2 not in connections:\n",
    "                connections[comp2] = set()\n",
    "            connections[comp2].add(comp1)\n",
    "    \n",
    "    # Get the list of all computers\n",
    "    computers = list(connections.keys())\n",
    "    \n",
    "    # Initialize the count of valid triplets\n",
    "    count = 0\n",
    "    \n",
    "    # Generate all combinations of three computers\n",
    "    for triplet in itertools.combinations(computers, 3):\n",
    "        A, B, C = triplet\n",
    "        # Check if A is connected to B, B is connected to C, and A is connected to C\n",
    "        if (B in connections[A] and C in connections[A] and C in connections[B]):\n",
    "            # Check if any of the computer names starts with 't'\n",
    "            if A.startswith('t') or B.startswith('t') or C.startswith('t'):\n",
    "                count += 1\n",
    "    \n",
    "    # Print the result\n",
    "    print(count)\n",
    "\n",
    "if __name__ == \"__main__\":\n",
    "    main()"
   ]
  },
  {
   "cell_type": "markdown",
   "metadata": {},
   "source": [
    "## Part 2"
   ]
  },
  {
   "cell_type": "code",
   "execution_count": 2,
   "metadata": {},
   "outputs": [
    {
     "name": "stdout",
     "output_type": "stream",
     "text": [
      "cc,ff,fh,fr,ny,oa,pl,rg,uj,wd,xn,xs,zw\n"
     ]
    }
   ],
   "source": [
    "def main():\n",
    "    connections = {}\n",
    "    with open('input.txt', 'r') as file:\n",
    "        for line in file:\n",
    "            line = line.strip()\n",
    "            if not line:\n",
    "                continue\n",
    "            comp1, comp2 = line.split('-')\n",
    "            if comp1 not in connections:\n",
    "                connections[comp1] = set()\n",
    "            connections[comp1].add(comp2)\n",
    "            if comp2 not in connections:\n",
    "                connections[comp2] = set()\n",
    "            connections[comp2].add(comp1)\n",
    "    \n",
    "    degrees = {comp: len(connections[comp]) for comp in connections}\n",
    "    \n",
    "    def find_clique(candidates, current_clique, degrees, connections, largest_clique):\n",
    "        if not candidates:\n",
    "            if len(current_clique) > len(largest_clique[0]):\n",
    "                largest_clique[0] = current_clique.copy()\n",
    "            return\n",
    "        # Choose the candidate with the highest degree\n",
    "        pivot = max(candidates, key=lambda x: degrees[x])\n",
    "        # Get neighbors of pivot within candidates\n",
    "        neighbors = candidates.intersection(connections[pivot])\n",
    "        # Include pivot and recurse on neighbors\n",
    "        find_clique(neighbors, current_clique.union({pivot}), degrees, connections, largest_clique)\n",
    "        # Exclude pivot and recurse on candidates without pivot\n",
    "        find_clique(candidates - {pivot}, current_clique, degrees, connections, largest_clique)\n",
    "    \n",
    "    largest_clique = [set()]\n",
    "    find_clique(set(connections.keys()), set(), degrees, connections, largest_clique)\n",
    "    password = \",\".join(sorted(largest_clique[0]))\n",
    "    print(password)\n",
    "\n",
    "if __name__ == \"__main__\":\n",
    "    main()"
   ]
  }
 ],
 "metadata": {
  "kernelspec": {
   "display_name": "AdventOfCode",
   "language": "python",
   "name": "python3"
  },
  "language_info": {
   "codemirror_mode": {
    "name": "ipython",
    "version": 3
   },
   "file_extension": ".py",
   "mimetype": "text/x-python",
   "name": "python",
   "nbconvert_exporter": "python",
   "pygments_lexer": "ipython3",
   "version": "3.10.15"
  }
 },
 "nbformat": 4,
 "nbformat_minor": 2
}
