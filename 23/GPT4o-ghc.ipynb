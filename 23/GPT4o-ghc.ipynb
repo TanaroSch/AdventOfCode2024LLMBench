{
 "cells": [
  {
   "cell_type": "markdown",
   "metadata": {},
   "source": [
    "# Day 23 - GPT 4o (GHC)"
   ]
  },
  {
   "cell_type": "code",
   "execution_count": 1,
   "metadata": {},
   "outputs": [
    {
     "name": "stdout",
     "output_type": "stream",
     "text": [
      "998\n"
     ]
    }
   ],
   "source": [
    "def read_input(file_path):\n",
    "    with open(file_path, 'r') as file:\n",
    "        connections = [line.strip().split('-') for line in file.readlines()]\n",
    "    return connections\n",
    "\n",
    "def build_graph(connections):\n",
    "    graph = {}\n",
    "    for a, b in connections:\n",
    "        if a not in graph:\n",
    "            graph[a] = set()\n",
    "        if b not in graph:\n",
    "            graph[b] = set()\n",
    "        graph[a].add(b)\n",
    "        graph[b].add(a)\n",
    "    return graph\n",
    "\n",
    "def find_triangles(graph):\n",
    "    triangles = set()\n",
    "    for node in graph:\n",
    "        neighbors = graph[node]\n",
    "        for neighbor in neighbors:\n",
    "            common_neighbors = neighbors.intersection(graph[neighbor])\n",
    "            for common_neighbor in common_neighbors:\n",
    "                triangle = tuple(sorted([node, neighbor, common_neighbor]))\n",
    "                triangles.add(triangle)\n",
    "    return triangles\n",
    "\n",
    "def filter_triangles(triangles):\n",
    "    filtered_triangles = [triangle for triangle in triangles if any(node.startswith('t') for node in triangle)]\n",
    "    return filtered_triangles\n",
    "\n",
    "def main():\n",
    "    connections = read_input('input.txt')\n",
    "    graph = build_graph(connections)\n",
    "    triangles = find_triangles(graph)\n",
    "    filtered_triangles = filter_triangles(triangles)\n",
    "    print(len(filtered_triangles))\n",
    "\n",
    "if __name__ == \"__main__\":\n",
    "    main()"
   ]
  },
  {
   "cell_type": "markdown",
   "metadata": {},
   "source": [
    "## Part 2"
   ]
  },
  {
   "cell_type": "code",
   "execution_count": 2,
   "metadata": {},
   "outputs": [
    {
     "ename": "KeyboardInterrupt",
     "evalue": "",
     "output_type": "error",
     "traceback": [
      "\u001b[1;31m---------------------------------------------------------------------------\u001b[0m",
      "\u001b[1;31mKeyboardInterrupt\u001b[0m                         Traceback (most recent call last)",
      "Cell \u001b[1;32mIn[2], line 45\u001b[0m\n\u001b[0;32m     42\u001b[0m     \u001b[38;5;28mprint\u001b[39m(password)\n\u001b[0;32m     44\u001b[0m \u001b[38;5;28;01mif\u001b[39;00m \u001b[38;5;18m__name__\u001b[39m \u001b[38;5;241m==\u001b[39m \u001b[38;5;124m\"\u001b[39m\u001b[38;5;124m__main__\u001b[39m\u001b[38;5;124m\"\u001b[39m:\n\u001b[1;32m---> 45\u001b[0m     \u001b[43mmain\u001b[49m\u001b[43m(\u001b[49m\u001b[43m)\u001b[49m\n",
      "Cell \u001b[1;32mIn[2], line 40\u001b[0m, in \u001b[0;36mmain\u001b[1;34m()\u001b[0m\n\u001b[0;32m     38\u001b[0m connections \u001b[38;5;241m=\u001b[39m read_input(\u001b[38;5;124m'\u001b[39m\u001b[38;5;124minput.txt\u001b[39m\u001b[38;5;124m'\u001b[39m)\n\u001b[0;32m     39\u001b[0m graph \u001b[38;5;241m=\u001b[39m build_graph(connections)\n\u001b[1;32m---> 40\u001b[0m largest_clique \u001b[38;5;241m=\u001b[39m \u001b[43mfind_largest_clique\u001b[49m\u001b[43m(\u001b[49m\u001b[43mgraph\u001b[49m\u001b[43m)\u001b[49m\n\u001b[0;32m     41\u001b[0m password \u001b[38;5;241m=\u001b[39m generate_password(largest_clique)\n\u001b[0;32m     42\u001b[0m \u001b[38;5;28mprint\u001b[39m(password)\n",
      "Cell \u001b[1;32mIn[2], line 30\u001b[0m, in \u001b[0;36mfind_largest_clique\u001b[1;34m(graph)\u001b[0m\n\u001b[0;32m     28\u001b[0m \u001b[38;5;28;01mfor\u001b[39;00m size \u001b[38;5;129;01min\u001b[39;00m \u001b[38;5;28mrange\u001b[39m(\u001b[38;5;28mlen\u001b[39m(nodes), \u001b[38;5;241m2\u001b[39m, \u001b[38;5;241m-\u001b[39m\u001b[38;5;241m1\u001b[39m):\n\u001b[0;32m     29\u001b[0m     \u001b[38;5;28;01mfor\u001b[39;00m subset \u001b[38;5;129;01min\u001b[39;00m combinations(nodes, size):\n\u001b[1;32m---> 30\u001b[0m         \u001b[38;5;28;01mif\u001b[39;00m \u001b[43mis_clique\u001b[49m\u001b[43m(\u001b[49m\u001b[43mgraph\u001b[49m\u001b[43m,\u001b[49m\u001b[43m \u001b[49m\u001b[43msubset\u001b[49m\u001b[43m)\u001b[49m:\n\u001b[0;32m     31\u001b[0m             \u001b[38;5;28;01mreturn\u001b[39;00m subset\n\u001b[0;32m     32\u001b[0m \u001b[38;5;28;01mreturn\u001b[39;00m max_clique\n",
      "Cell \u001b[1;32mIn[2], line 21\u001b[0m, in \u001b[0;36mis_clique\u001b[1;34m(graph, nodes)\u001b[0m\n\u001b[0;32m     19\u001b[0m \u001b[38;5;28;01mdef\u001b[39;00m \u001b[38;5;21mis_clique\u001b[39m(graph, nodes):\n\u001b[0;32m     20\u001b[0m     \u001b[38;5;28;01mfor\u001b[39;00m a, b \u001b[38;5;129;01min\u001b[39;00m combinations(nodes, \u001b[38;5;241m2\u001b[39m):\n\u001b[1;32m---> 21\u001b[0m         \u001b[38;5;28;01mif\u001b[39;00m b \u001b[38;5;129;01mnot\u001b[39;00m \u001b[38;5;129;01min\u001b[39;00m graph[a]:\n\u001b[0;32m     22\u001b[0m             \u001b[38;5;28;01mreturn\u001b[39;00m \u001b[38;5;28;01mFalse\u001b[39;00m\n\u001b[0;32m     23\u001b[0m     \u001b[38;5;28;01mreturn\u001b[39;00m \u001b[38;5;28;01mTrue\u001b[39;00m\n",
      "\u001b[1;31mKeyboardInterrupt\u001b[0m: "
     ]
    }
   ],
   "source": [
    "from itertools import combinations\n",
    "\n",
    "def read_input(file_path):\n",
    "    with open(file_path, 'r') as file:\n",
    "        connections = [line.strip().split('-') for line in file.readlines()]\n",
    "    return connections\n",
    "\n",
    "def build_graph(connections):\n",
    "    graph = {}\n",
    "    for a, b in connections:\n",
    "        if a not in graph:\n",
    "            graph[a] = set()\n",
    "        if b not in graph:\n",
    "            graph[b] = set()\n",
    "        graph[a].add(b)\n",
    "        graph[b].add(a)\n",
    "    return graph\n",
    "\n",
    "def is_clique(graph, nodes):\n",
    "    for a, b in combinations(nodes, 2):\n",
    "        if b not in graph[a]:\n",
    "            return False\n",
    "    return True\n",
    "\n",
    "def find_largest_clique(graph):\n",
    "    nodes = list(graph.keys())\n",
    "    max_clique = []\n",
    "    for size in range(len(nodes), 2, -1):\n",
    "        for subset in combinations(nodes, size):\n",
    "            if is_clique(graph, subset):\n",
    "                return subset\n",
    "    return max_clique\n",
    "\n",
    "def generate_password(clique):\n",
    "    return ','.join(sorted(clique))\n",
    "\n",
    "def main():\n",
    "    connections = read_input('input.txt')\n",
    "    graph = build_graph(connections)\n",
    "    largest_clique = find_largest_clique(graph)\n",
    "    password = generate_password(largest_clique)\n",
    "    print(password)\n",
    "\n",
    "if __name__ == \"__main__\":\n",
    "    main()"
   ]
  },
  {
   "cell_type": "code",
   "execution_count": 3,
   "metadata": {},
   "outputs": [
    {
     "name": "stdout",
     "output_type": "stream",
     "text": [
      "cc,ff,fh,fr,ny,oa,pl,rg,uj,wd,xn,xs,zw\n"
     ]
    }
   ],
   "source": [
    "def read_input(file_path):\n",
    "    with open(file_path, 'r') as file:\n",
    "        connections = [line.strip().split('-') for line in file.readlines()]\n",
    "    return connections\n",
    "\n",
    "def build_graph(connections):\n",
    "    graph = {}\n",
    "    for a, b in connections:\n",
    "        if a not in graph:\n",
    "            graph[a] = set()\n",
    "        if b not in graph:\n",
    "            graph[b] = set()\n",
    "        graph[a].add(b)\n",
    "        graph[b].add(a)\n",
    "    return graph\n",
    "\n",
    "def bron_kerbosch(R, P, X, graph, cliques):\n",
    "    if not P and not X:\n",
    "        cliques.append(R)\n",
    "        return\n",
    "    for v in list(P):\n",
    "        bron_kerbosch(R.union([v]), P.intersection(graph[v]), X.intersection(graph[v]), graph, cliques)\n",
    "        P.remove(v)\n",
    "        X.add(v)\n",
    "\n",
    "def find_largest_clique(graph):\n",
    "    cliques = []\n",
    "    bron_kerbosch(set(), set(graph.keys()), set(), graph, cliques)\n",
    "    largest_clique = max(cliques, key=len)\n",
    "    return largest_clique\n",
    "\n",
    "def generate_password(clique):\n",
    "    return ','.join(sorted(clique))\n",
    "\n",
    "def main():\n",
    "    connections = read_input('input.txt')\n",
    "    graph = build_graph(connections)\n",
    "    largest_clique = find_largest_clique(graph)\n",
    "    password = generate_password(largest_clique)\n",
    "    print(password)\n",
    "\n",
    "if __name__ == \"__main__\":\n",
    "    main()"
   ]
  }
 ],
 "metadata": {
  "kernelspec": {
   "display_name": "AdventOfCode",
   "language": "python",
   "name": "python3"
  },
  "language_info": {
   "codemirror_mode": {
    "name": "ipython",
    "version": 3
   },
   "file_extension": ".py",
   "mimetype": "text/x-python",
   "name": "python",
   "nbconvert_exporter": "python",
   "pygments_lexer": "ipython3",
   "version": "3.10.15"
  }
 },
 "nbformat": 4,
 "nbformat_minor": 2
}
