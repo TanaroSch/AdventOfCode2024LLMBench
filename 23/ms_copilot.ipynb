{
 "cells": [
  {
   "cell_type": "markdown",
   "metadata": {},
   "source": [
    "# Day 23 - MS Copilot"
   ]
  },
  {
   "cell_type": "code",
   "execution_count": 1,
   "metadata": {},
   "outputs": [
    {
     "name": "stdout",
     "output_type": "stream",
     "text": [
      "998\n"
     ]
    }
   ],
   "source": [
    "from collections import defaultdict\n",
    "\n",
    "def read_connections(filename):\n",
    "    with open(filename, 'r') as f:\n",
    "        connections = [line.strip().split('-') for line in f]\n",
    "    return connections\n",
    "\n",
    "def build_graph(connections):\n",
    "    graph = defaultdict(set)\n",
    "    for a, b in connections:\n",
    "        graph[a].add(b)\n",
    "        graph[b].add(a)\n",
    "    return graph\n",
    "\n",
    "def find_triplets(graph):\n",
    "    triplets = set()\n",
    "    for a in graph:\n",
    "        for b in graph[a]:\n",
    "            for c in graph[a]:\n",
    "                if b != c and b in graph[c]:\n",
    "                    triplet = tuple(sorted([a, b, c]))\n",
    "                    triplets.add(triplet)\n",
    "    return triplets\n",
    "\n",
    "def filter_triplets(triplets):\n",
    "    filtered_triplets = [triplet for triplet in triplets if any(computer.startswith('t') for computer in triplet)]\n",
    "    return filtered_triplets\n",
    "\n",
    "def count_triplets(filename):\n",
    "    connections = read_connections(filename)\n",
    "    graph = build_graph(connections)\n",
    "    triplets = find_triplets(graph)\n",
    "    filtered_triplets = filter_triplets(triplets)\n",
    "    return len(filtered_triplets)\n",
    "\n",
    "# Main function call\n",
    "if __name__ == \"__main__\":\n",
    "    filename = 'input.txt'\n",
    "    result = count_triplets(filename)\n",
    "    print(result)\n"
   ]
  },
  {
   "cell_type": "markdown",
   "metadata": {},
   "source": [
    "## Part 2"
   ]
  },
  {
   "cell_type": "code",
   "execution_count": 2,
   "metadata": {},
   "outputs": [
    {
     "ename": "KeyboardInterrupt",
     "evalue": "",
     "output_type": "error",
     "traceback": [
      "\u001b[1;31m---------------------------------------------------------------------------\u001b[0m",
      "\u001b[1;31mKeyboardInterrupt\u001b[0m                         Traceback (most recent call last)",
      "Cell \u001b[1;32mIn[2], line 42\u001b[0m\n\u001b[0;32m     40\u001b[0m \u001b[38;5;28;01mif\u001b[39;00m \u001b[38;5;18m__name__\u001b[39m \u001b[38;5;241m==\u001b[39m \u001b[38;5;124m\"\u001b[39m\u001b[38;5;124m__main__\u001b[39m\u001b[38;5;124m\"\u001b[39m:\n\u001b[0;32m     41\u001b[0m     filename \u001b[38;5;241m=\u001b[39m \u001b[38;5;124m'\u001b[39m\u001b[38;5;124minput.txt\u001b[39m\u001b[38;5;124m'\u001b[39m\n\u001b[1;32m---> 42\u001b[0m     password \u001b[38;5;241m=\u001b[39m \u001b[43mmain\u001b[49m\u001b[43m(\u001b[49m\u001b[43mfilename\u001b[49m\u001b[43m)\u001b[49m\n\u001b[0;32m     43\u001b[0m     \u001b[38;5;28mprint\u001b[39m(password)\n",
      "Cell \u001b[1;32mIn[2], line 35\u001b[0m, in \u001b[0;36mmain\u001b[1;34m(filename)\u001b[0m\n\u001b[0;32m     33\u001b[0m connections \u001b[38;5;241m=\u001b[39m read_connections(filename)\n\u001b[0;32m     34\u001b[0m graph \u001b[38;5;241m=\u001b[39m build_graph(connections)\n\u001b[1;32m---> 35\u001b[0m largest_clique \u001b[38;5;241m=\u001b[39m \u001b[43mfind_largest_clique\u001b[49m\u001b[43m(\u001b[49m\u001b[43mgraph\u001b[49m\u001b[43m)\u001b[49m\n\u001b[0;32m     36\u001b[0m password \u001b[38;5;241m=\u001b[39m generate_password(largest_clique)\n\u001b[0;32m     37\u001b[0m \u001b[38;5;28;01mreturn\u001b[39;00m password\n",
      "Cell \u001b[1;32mIn[2], line 24\u001b[0m, in \u001b[0;36mfind_largest_clique\u001b[1;34m(graph)\u001b[0m\n\u001b[0;32m     22\u001b[0m \u001b[38;5;28;01mfor\u001b[39;00m r \u001b[38;5;129;01min\u001b[39;00m \u001b[38;5;28mrange\u001b[39m(\u001b[38;5;241m2\u001b[39m, \u001b[38;5;28mlen\u001b[39m(nodes) \u001b[38;5;241m+\u001b[39m \u001b[38;5;241m1\u001b[39m):\n\u001b[0;32m     23\u001b[0m     \u001b[38;5;28;01mfor\u001b[39;00m comb \u001b[38;5;129;01min\u001b[39;00m combinations(nodes, r):\n\u001b[1;32m---> 24\u001b[0m         \u001b[38;5;28;01mif\u001b[39;00m \u001b[43mis_clique\u001b[49m\u001b[43m(\u001b[49m\u001b[43mgraph\u001b[49m\u001b[43m,\u001b[49m\u001b[43m \u001b[49m\u001b[43mcomb\u001b[49m\u001b[43m)\u001b[49m:\n\u001b[0;32m     25\u001b[0m             \u001b[38;5;28;01mif\u001b[39;00m \u001b[38;5;28mlen\u001b[39m(comb) \u001b[38;5;241m>\u001b[39m \u001b[38;5;28mlen\u001b[39m(max_clique):\n\u001b[0;32m     26\u001b[0m                 max_clique \u001b[38;5;241m=\u001b[39m comb\n",
      "\u001b[1;31mKeyboardInterrupt\u001b[0m: "
     ]
    }
   ],
   "source": [
    "from itertools import combinations\n",
    "from collections import defaultdict\n",
    "\n",
    "def read_connections(filename):\n",
    "    with open(filename, 'r') as f:\n",
    "        connections = [line.strip().split('-') for line in f]\n",
    "    return connections\n",
    "\n",
    "def build_graph(connections):\n",
    "    graph = defaultdict(set)\n",
    "    for a, b in connections:\n",
    "        graph[a].add(b)\n",
    "        graph[b].add(a)\n",
    "    return graph\n",
    "\n",
    "def is_clique(graph, nodes):\n",
    "    return all(graph[n1] & graph[n2] for n1, n2 in combinations(nodes, 2))\n",
    "\n",
    "def find_largest_clique(graph):\n",
    "    max_clique = []\n",
    "    nodes = list(graph.keys())\n",
    "    for r in range(2, len(nodes) + 1):\n",
    "        for comb in combinations(nodes, r):\n",
    "            if is_clique(graph, comb):\n",
    "                if len(comb) > len(max_clique):\n",
    "                    max_clique = comb\n",
    "    return max_clique\n",
    "\n",
    "def generate_password(clique):\n",
    "    return ','.join(sorted(clique))\n",
    "\n",
    "def main(filename):\n",
    "    connections = read_connections(filename)\n",
    "    graph = build_graph(connections)\n",
    "    largest_clique = find_largest_clique(graph)\n",
    "    password = generate_password(largest_clique)\n",
    "    return password\n",
    "\n",
    "# Main function call\n",
    "if __name__ == \"__main__\":\n",
    "    filename = 'input.txt'\n",
    "    password = main(filename)\n",
    "    print(password)\n"
   ]
  },
  {
   "cell_type": "code",
   "execution_count": 3,
   "metadata": {},
   "outputs": [
    {
     "ename": "KeyboardInterrupt",
     "evalue": "",
     "output_type": "error",
     "traceback": [
      "\u001b[1;31m---------------------------------------------------------------------------\u001b[0m",
      "\u001b[1;31mKeyboardInterrupt\u001b[0m                         Traceback (most recent call last)",
      "Cell \u001b[1;32mIn[3], line 47\u001b[0m\n\u001b[0;32m     45\u001b[0m \u001b[38;5;28;01mif\u001b[39;00m \u001b[38;5;18m__name__\u001b[39m \u001b[38;5;241m==\u001b[39m \u001b[38;5;124m\"\u001b[39m\u001b[38;5;124m__main__\u001b[39m\u001b[38;5;124m\"\u001b[39m:\n\u001b[0;32m     46\u001b[0m     filename \u001b[38;5;241m=\u001b[39m \u001b[38;5;124m'\u001b[39m\u001b[38;5;124minput.txt\u001b[39m\u001b[38;5;124m'\u001b[39m\n\u001b[1;32m---> 47\u001b[0m     password \u001b[38;5;241m=\u001b[39m \u001b[43mmain\u001b[49m\u001b[43m(\u001b[49m\u001b[43mfilename\u001b[49m\u001b[43m)\u001b[49m\n\u001b[0;32m     48\u001b[0m     \u001b[38;5;28mprint\u001b[39m(password)\n",
      "Cell \u001b[1;32mIn[3], line 40\u001b[0m, in \u001b[0;36mmain\u001b[1;34m(filename)\u001b[0m\n\u001b[0;32m     38\u001b[0m connections \u001b[38;5;241m=\u001b[39m read_connections(filename)\n\u001b[0;32m     39\u001b[0m graph \u001b[38;5;241m=\u001b[39m build_graph(connections)\n\u001b[1;32m---> 40\u001b[0m largest_clique \u001b[38;5;241m=\u001b[39m \u001b[43mfind_largest_clique\u001b[49m\u001b[43m(\u001b[49m\u001b[43mgraph\u001b[49m\u001b[43m)\u001b[49m\n\u001b[0;32m     41\u001b[0m password \u001b[38;5;241m=\u001b[39m generate_password(largest_clique)\n\u001b[0;32m     42\u001b[0m \u001b[38;5;28;01mreturn\u001b[39;00m password\n",
      "Cell \u001b[1;32mIn[3], line 29\u001b[0m, in \u001b[0;36mfind_largest_clique\u001b[1;34m(graph)\u001b[0m\n\u001b[0;32m     27\u001b[0m \u001b[38;5;28;01mfor\u001b[39;00m r \u001b[38;5;129;01min\u001b[39;00m \u001b[38;5;28mrange\u001b[39m(\u001b[38;5;241m2\u001b[39m, \u001b[38;5;28mlen\u001b[39m(nodes) \u001b[38;5;241m+\u001b[39m \u001b[38;5;241m1\u001b[39m):\n\u001b[0;32m     28\u001b[0m     \u001b[38;5;28;01mfor\u001b[39;00m comb \u001b[38;5;129;01min\u001b[39;00m combinations(nodes, r):\n\u001b[1;32m---> 29\u001b[0m         \u001b[38;5;28;01mif\u001b[39;00m \u001b[43mis_clique\u001b[49m\u001b[43m(\u001b[49m\u001b[43mgraph\u001b[49m\u001b[43m,\u001b[49m\u001b[43m \u001b[49m\u001b[43mcomb\u001b[49m\u001b[43m,\u001b[49m\u001b[43m \u001b[49m\u001b[43mmemo\u001b[49m\u001b[43m)\u001b[49m:\n\u001b[0;32m     30\u001b[0m             \u001b[38;5;28;01mif\u001b[39;00m \u001b[38;5;28mlen\u001b[39m(comb) \u001b[38;5;241m>\u001b[39m \u001b[38;5;28mlen\u001b[39m(max_clique):\n\u001b[0;32m     31\u001b[0m                 max_clique \u001b[38;5;241m=\u001b[39m comb\n",
      "Cell \u001b[1;32mIn[3], line 19\u001b[0m, in \u001b[0;36mis_clique\u001b[1;34m(graph, nodes, memo)\u001b[0m\n\u001b[0;32m     17\u001b[0m \u001b[38;5;28;01mif\u001b[39;00m nodes \u001b[38;5;129;01min\u001b[39;00m memo:\n\u001b[0;32m     18\u001b[0m     \u001b[38;5;28;01mreturn\u001b[39;00m memo[nodes]\n\u001b[1;32m---> 19\u001b[0m result \u001b[38;5;241m=\u001b[39m \u001b[38;5;28mall\u001b[39m(graph[n1] \u001b[38;5;241m&\u001b[39m graph[n2] \u001b[38;5;28;01mfor\u001b[39;00m n1, n2 \u001b[38;5;129;01min\u001b[39;00m \u001b[43mcombinations\u001b[49m\u001b[43m(\u001b[49m\u001b[43mnodes\u001b[49m\u001b[43m,\u001b[49m\u001b[43m \u001b[49m\u001b[38;5;241;43m2\u001b[39;49m\u001b[43m)\u001b[49m)\n\u001b[0;32m     20\u001b[0m memo[nodes] \u001b[38;5;241m=\u001b[39m result\n\u001b[0;32m     21\u001b[0m \u001b[38;5;28;01mreturn\u001b[39;00m result\n",
      "\u001b[1;31mKeyboardInterrupt\u001b[0m: "
     ]
    }
   ],
   "source": [
    "from itertools import combinations\n",
    "from collections import defaultdict\n",
    "\n",
    "def read_connections(filename):\n",
    "    with open(filename, 'r') as f:\n",
    "        connections = [line.strip().split('-') for line in f]\n",
    "    return connections\n",
    "\n",
    "def build_graph(connections):\n",
    "    graph = defaultdict(set)\n",
    "    for a, b in connections:\n",
    "        graph[a].add(b)\n",
    "        graph[b].add(a)\n",
    "    return graph\n",
    "\n",
    "def is_clique(graph, nodes, memo):\n",
    "    if nodes in memo:\n",
    "        return memo[nodes]\n",
    "    result = all(graph[n1] & graph[n2] for n1, n2 in combinations(nodes, 2))\n",
    "    memo[nodes] = result\n",
    "    return result\n",
    "\n",
    "def find_largest_clique(graph):\n",
    "    memo = {}\n",
    "    max_clique = []\n",
    "    nodes = list(graph.keys())\n",
    "    for r in range(2, len(nodes) + 1):\n",
    "        for comb in combinations(nodes, r):\n",
    "            if is_clique(graph, comb, memo):\n",
    "                if len(comb) > len(max_clique):\n",
    "                    max_clique = comb\n",
    "    return max_clique\n",
    "\n",
    "def generate_password(clique):\n",
    "    return ','.join(sorted(clique))\n",
    "\n",
    "def main(filename):\n",
    "    connections = read_connections(filename)\n",
    "    graph = build_graph(connections)\n",
    "    largest_clique = find_largest_clique(graph)\n",
    "    password = generate_password(largest_clique)\n",
    "    return password\n",
    "\n",
    "# Main function call\n",
    "if __name__ == \"__main__\":\n",
    "    filename = 'input.txt'\n",
    "    password = main(filename)\n",
    "    print(password)\n"
   ]
  },
  {
   "cell_type": "code",
   "execution_count": 4,
   "metadata": {},
   "outputs": [
    {
     "name": "stdout",
     "output_type": "stream",
     "text": [
      "cc,ff,fh,fr,ny,oa,pl,rg,uj,wd,xn,xs,zw\n"
     ]
    }
   ],
   "source": [
    "import networkx as nx\n",
    "\n",
    "def read_connections(filename):\n",
    "    with open(filename, 'r') as f:\n",
    "        connections = [line.strip().split('-') for line in f]\n",
    "    return connections\n",
    "\n",
    "def build_graph(connections):\n",
    "    G = nx.Graph()\n",
    "    for a, b in connections:\n",
    "        G.add_edge(a, b)\n",
    "    return G\n",
    "\n",
    "def find_largest_clique(G):\n",
    "    cliques = list(nx.find_cliques(G))\n",
    "    largest_clique = max(cliques, key=len)\n",
    "    return largest_clique\n",
    "\n",
    "def generate_password(clique):\n",
    "    return ','.join(sorted(clique))\n",
    "\n",
    "def main(filename):\n",
    "    connections = read_connections(filename)\n",
    "    G = build_graph(connections)\n",
    "    largest_clique = find_largest_clique(G)\n",
    "    password = generate_password(largest_clique)\n",
    "    return password\n",
    "\n",
    "# Main function call\n",
    "if __name__ == \"__main__\":\n",
    "    filename = 'input.txt'\n",
    "    password = main(filename)\n",
    "    print(password)\n"
   ]
  }
 ],
 "metadata": {
  "kernelspec": {
   "display_name": "AdventOfCode",
   "language": "python",
   "name": "python3"
  },
  "language_info": {
   "codemirror_mode": {
    "name": "ipython",
    "version": 3
   },
   "file_extension": ".py",
   "mimetype": "text/x-python",
   "name": "python",
   "nbconvert_exporter": "python",
   "pygments_lexer": "ipython3",
   "version": "3.10.15"
  }
 },
 "nbformat": 4,
 "nbformat_minor": 2
}
