{
 "cells": [
  {
   "cell_type": "markdown",
   "metadata": {},
   "source": [
    "# Day 23 - Qwen Coder 32B"
   ]
  },
  {
   "cell_type": "code",
   "execution_count": 1,
   "metadata": {},
   "outputs": [
    {
     "name": "stdout",
     "output_type": "stream",
     "text": [
      "998\n"
     ]
    }
   ],
   "source": [
    "from itertools import combinations\n",
    "\n",
    "def parse_input(filename):\n",
    "    graph = {}\n",
    "    with open(filename, 'r') as file:\n",
    "        for line in file:\n",
    "            a, b = line.strip().split('-')\n",
    "            if a not in graph:\n",
    "                graph[a] = set()\n",
    "            if b not in graph:\n",
    "                graph[b] = set()\n",
    "            graph[a].add(b)\n",
    "            graph[b].add(a)\n",
    "    return graph\n",
    "\n",
    "def find_triangles(graph):\n",
    "    triangles = set()\n",
    "    for node in graph:\n",
    "        for pair in combinations(graph[node], 2):\n",
    "            if pair[0] in graph[pair[1]]:\n",
    "                triangle = tuple(sorted([node, pair[0], pair[1]]))\n",
    "                triangles.add(triangle)\n",
    "    return triangles\n",
    "\n",
    "def count_triangles_with_t(triangles):\n",
    "    count = 0\n",
    "    for triangle in triangles:\n",
    "        if any(name.startswith('t') for name in triangle):\n",
    "            count += 1\n",
    "    return count\n",
    "\n",
    "# Parse the input file\n",
    "graph = parse_input('input.txt')\n",
    "\n",
    "# Find all triangles in the graph\n",
    "triangles = find_triangles(graph)\n",
    "\n",
    "# Count the number of triangles with at least one node starting with 't'\n",
    "result = count_triangles_with_t(triangles)\n",
    "\n",
    "# Print the result\n",
    "print(result)"
   ]
  },
  {
   "cell_type": "markdown",
   "metadata": {},
   "source": [
    "## Part 2"
   ]
  },
  {
   "cell_type": "code",
   "execution_count": 3,
   "metadata": {},
   "outputs": [
    {
     "ename": "AttributeError",
     "evalue": "module 'networkx' has no attribute 'max_clique'",
     "output_type": "error",
     "traceback": [
      "\u001b[1;31m---------------------------------------------------------------------------\u001b[0m",
      "\u001b[1;31mAttributeError\u001b[0m                            Traceback (most recent call last)",
      "Cell \u001b[1;32mIn[3], line 21\u001b[0m\n\u001b[0;32m     18\u001b[0m G \u001b[38;5;241m=\u001b[39m parse_input(\u001b[38;5;124m'\u001b[39m\u001b[38;5;124minput.txt\u001b[39m\u001b[38;5;124m'\u001b[39m)\n\u001b[0;32m     20\u001b[0m \u001b[38;5;66;03m# Find the largest clique in the graph\u001b[39;00m\n\u001b[1;32m---> 21\u001b[0m largest_clique \u001b[38;5;241m=\u001b[39m \u001b[43mfind_largest_clique\u001b[49m\u001b[43m(\u001b[49m\u001b[43mG\u001b[49m\u001b[43m)\u001b[49m\n\u001b[0;32m     23\u001b[0m \u001b[38;5;66;03m# Generate the password\u001b[39;00m\n\u001b[0;32m     24\u001b[0m password \u001b[38;5;241m=\u001b[39m generate_password(largest_clique)\n",
      "Cell \u001b[1;32mIn[3], line 12\u001b[0m, in \u001b[0;36mfind_largest_clique\u001b[1;34m(G)\u001b[0m\n\u001b[0;32m     11\u001b[0m \u001b[38;5;28;01mdef\u001b[39;00m \u001b[38;5;21mfind_largest_clique\u001b[39m(G):\n\u001b[1;32m---> 12\u001b[0m     \u001b[38;5;28;01mreturn\u001b[39;00m \u001b[43mnx\u001b[49m\u001b[38;5;241;43m.\u001b[39;49m\u001b[43mmax_clique\u001b[49m(G)\n",
      "\u001b[1;31mAttributeError\u001b[0m: module 'networkx' has no attribute 'max_clique'"
     ]
    }
   ],
   "source": [
    "import networkx as nx\n",
    "\n",
    "def parse_input(filename):\n",
    "    G = nx.Graph()\n",
    "    with open(filename, 'r') as file:\n",
    "        for line in file:\n",
    "            a, b = line.strip().split('-')\n",
    "            G.add_edge(a, b)\n",
    "    return G\n",
    "\n",
    "def find_largest_clique(G):\n",
    "    return nx.max_clique(G)\n",
    "\n",
    "def generate_password(clique):\n",
    "    return ','.join(sorted(clique))\n",
    "\n",
    "# Parse the input file\n",
    "G = parse_input('input.txt')\n",
    "\n",
    "# Find the largest clique in the graph\n",
    "largest_clique = find_largest_clique(G)\n",
    "\n",
    "# Generate the password\n",
    "password = generate_password(largest_clique)\n",
    "\n",
    "# Print the result\n",
    "print(password)"
   ]
  },
  {
   "cell_type": "code",
   "execution_count": null,
   "metadata": {},
   "outputs": [],
   "source": [
    "import networkx as nx\n",
    "from networkx.algorithms.clique import max_clique\n",
    "\n",
    "def parse_input(filename):\n",
    "    G = nx.Graph()\n",
    "    with open(filename, 'r') as file:\n",
    "        for line in file:\n",
    "            a, b = line.strip().split('-')\n",
    "            G.add_edge(a, b)\n",
    "    return G\n",
    "\n",
    "def generate_password(clique):\n",
    "    return ','.join(sorted(clique))\n",
    "\n",
    "# Parse the input file\n",
    "G = parse_input('input.txt')\n",
    "\n",
    "# Find the largest clique in the graph\n",
    "largest_clique = max_clique(G)\n",
    "\n",
    "# Generate the password\n",
    "password = generate_password(largest_clique)\n",
    "\n",
    "# Print the result\n",
    "print(password)"
   ]
  },
  {
   "cell_type": "code",
   "execution_count": 5,
   "metadata": {},
   "outputs": [
    {
     "name": "stdout",
     "output_type": "stream",
     "text": [
      "cc,ff,fh,fr,ny,oa,pl,rg,uj,wd,xn,xs,zw\n"
     ]
    }
   ],
   "source": [
    "import networkx as nx\n",
    "\n",
    "def parse_input(filename):\n",
    "    G = nx.Graph()\n",
    "    with open(filename, 'r') as file:\n",
    "        for line in file:\n",
    "            a, b = line.strip().split('-')\n",
    "            G.add_edge(a, b)\n",
    "    return G\n",
    "\n",
    "def find_largest_clique(G):\n",
    "    cliques = list(nx.find_cliques(G))\n",
    "    largest_clique = max(cliques, key=len)\n",
    "    return largest_clique\n",
    "\n",
    "def generate_password(clique):\n",
    "    return ','.join(sorted(clique))\n",
    "\n",
    "# Parse the input file\n",
    "G = parse_input('input.txt')\n",
    "\n",
    "# Find the largest clique in the graph\n",
    "largest_clique = find_largest_clique(G)\n",
    "\n",
    "# Generate the password\n",
    "password = generate_password(largest_clique)\n",
    "\n",
    "# Print the result\n",
    "print(password)"
   ]
  }
 ],
 "metadata": {
  "kernelspec": {
   "display_name": "AdventOfCode",
   "language": "python",
   "name": "python3"
  },
  "language_info": {
   "codemirror_mode": {
    "name": "ipython",
    "version": 3
   },
   "file_extension": ".py",
   "mimetype": "text/x-python",
   "name": "python",
   "nbconvert_exporter": "python",
   "pygments_lexer": "ipython3",
   "version": "3.10.15"
  }
 },
 "nbformat": 4,
 "nbformat_minor": 2
}
