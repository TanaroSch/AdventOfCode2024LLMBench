{
 "cells": [
  {
   "cell_type": "markdown",
   "metadata": {},
   "source": [
    "# Day 23 - o1-preview (GHC)"
   ]
  },
  {
   "cell_type": "code",
   "execution_count": 1,
   "metadata": {},
   "outputs": [
    {
     "name": "stdout",
     "output_type": "stream",
     "text": [
      "998\n"
     ]
    }
   ],
   "source": [
    "def solve():\n",
    "    # Read lines from input.txt\n",
    "    with open(\"input.txt\") as f:\n",
    "        lines = f.read().strip().splitlines()\n",
    "    \n",
    "    # Build adjacency mapping\n",
    "    connections = {}\n",
    "    for line in lines:\n",
    "        a, b = line.split('-')\n",
    "        connections.setdefault(a, set()).add(b)\n",
    "        connections.setdefault(b, set()).add(a)\n",
    "    \n",
    "    # Find all computers\n",
    "    all_computers = sorted(connections.keys())\n",
    "    \n",
    "    # Check sets of three computers\n",
    "    count_with_t = 0\n",
    "    n = len(all_computers)\n",
    "    for i in range(n-2):\n",
    "        for j in range(i+1, n-1):\n",
    "            for k in range(j+1, n):\n",
    "                c1, c2, c3 = all_computers[i], all_computers[j], all_computers[k]\n",
    "                # All pairs must be connected\n",
    "                if (c2 in connections[c1] and\n",
    "                    c3 in connections[c1] and\n",
    "                    c3 in connections[c2]):\n",
    "                    # At least one starts with 't'\n",
    "                    if c1[0] == 't' or c2[0] == 't' or c3[0] == 't':\n",
    "                        count_with_t += 1\n",
    "    print(count_with_t)\n",
    "\n",
    "if __name__ == \"__main__\":\n",
    "    solve()"
   ]
  },
  {
   "cell_type": "markdown",
   "metadata": {},
   "source": [
    "## Part 2"
   ]
  },
  {
   "cell_type": "code",
   "execution_count": 2,
   "metadata": {},
   "outputs": [
    {
     "name": "stdout",
     "output_type": "stream",
     "text": [
      "cc,ff,fh,fr,ny,oa,pl,rg,uj,wd,xn,xs,zw\n"
     ]
    }
   ],
   "source": [
    "def solve():\n",
    "    with open(\"input.txt\") as f:\n",
    "        lines = f.read().strip().splitlines()\n",
    "    adj = {}\n",
    "    for line in lines:\n",
    "        a, b = line.split('-')\n",
    "        adj.setdefault(a, set()).add(b)\n",
    "        adj.setdefault(b, set()).add(a)\n",
    "    \n",
    "    all_computers = list(adj.keys())\n",
    "    largest_clique = []\n",
    "\n",
    "    def bron_kerbosch(r, p, x):\n",
    "        nonlocal largest_clique\n",
    "        if not p and not x:\n",
    "            if len(r) > len(largest_clique):\n",
    "                largest_clique = r\n",
    "            return\n",
    "        for v in list(p):\n",
    "            bron_kerbosch(r | {v}, p & adj[v], x & adj[v])\n",
    "            p.remove(v)\n",
    "            x.add(v)\n",
    "\n",
    "    bron_kerbosch(set(), set(all_computers), set())\n",
    "    password = \",\".join(sorted(largest_clique))\n",
    "    print(password)\n",
    "\n",
    "if __name__ == \"__main__\":\n",
    "    solve()"
   ]
  }
 ],
 "metadata": {
  "kernelspec": {
   "display_name": "AdventOfCode",
   "language": "python",
   "name": "python3"
  },
  "language_info": {
   "codemirror_mode": {
    "name": "ipython",
    "version": 3
   },
   "file_extension": ".py",
   "mimetype": "text/x-python",
   "name": "python",
   "nbconvert_exporter": "python",
   "pygments_lexer": "ipython3",
   "version": "3.10.15"
  }
 },
 "nbformat": 4,
 "nbformat_minor": 2
}
