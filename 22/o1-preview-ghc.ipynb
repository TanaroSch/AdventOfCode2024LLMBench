{
 "cells": [
  {
   "cell_type": "markdown",
   "metadata": {},
   "source": [
    "# Day 22 - o1-preview (GHC)"
   ]
  },
  {
   "cell_type": "code",
   "execution_count": 1,
   "metadata": {},
   "outputs": [
    {
     "name": "stdout",
     "output_type": "stream",
     "text": [
      "20332089158\n"
     ]
    }
   ],
   "source": [
    "def next_secret(s):\n",
    "    s = (s ^ (s * 64)) % 16777216\n",
    "    s = (s ^ (s // 32)) % 16777216\n",
    "    s = (s ^ (s * 2048)) % 16777216\n",
    "    return s\n",
    "\n",
    "def main():\n",
    "    total = 0\n",
    "    with open(\"input.txt\") as f:\n",
    "        for line in f:\n",
    "            s = int(line)\n",
    "            for _ in range(2000):\n",
    "                s = next_secret(s)\n",
    "            total += s\n",
    "    print(total)\n",
    "\n",
    "if __name__ == \"__main__\":\n",
    "    main()"
   ]
  },
  {
   "cell_type": "markdown",
   "metadata": {},
   "source": [
    "## Part 2"
   ]
  },
  {
   "cell_type": "code",
   "execution_count": 2,
   "metadata": {},
   "outputs": [
    {
     "name": "stdout",
     "output_type": "stream",
     "text": [
      "2191\n"
     ]
    }
   ],
   "source": [
    "def next_secret(s):\n",
    "    s = (s ^ (s * 64)) % 16777216\n",
    "    s = (s ^ (s // 32)) % 16777216\n",
    "    s = (s ^ (s * 2048)) % 16777216\n",
    "    return s\n",
    "\n",
    "def main():\n",
    "    import sys\n",
    "    from collections import defaultdict\n",
    "\n",
    "    buyers = []\n",
    "    with open(\"input.txt\") as f:\n",
    "        for line in f:\n",
    "            buyers.append(int(line))\n",
    "\n",
    "    global_map = defaultdict(int)\n",
    "\n",
    "    for s in buyers:\n",
    "        prices = []\n",
    "        curr = s\n",
    "        for _ in range(2001):\n",
    "            prices.append(curr % 10)\n",
    "            curr = next_secret(curr)\n",
    "        changes = [prices[i+1] - prices[i] for i in range(2000)]\n",
    "\n",
    "        seen = {}\n",
    "        for i in range(2000 - 3):\n",
    "            seq = (changes[i], changes[i+1], changes[i+2], changes[i+3])\n",
    "            if seq not in seen:\n",
    "                seen[seq] = prices[i+4]\n",
    "        for seq, price in seen.items():\n",
    "            global_map[seq] += price\n",
    "\n",
    "    print(max(global_map.values()) if global_map else 0)\n",
    "\n",
    "if __name__ == \"__main__\":\n",
    "    main()"
   ]
  }
 ],
 "metadata": {
  "kernelspec": {
   "display_name": "AdventOfCode",
   "language": "python",
   "name": "python3"
  },
  "language_info": {
   "codemirror_mode": {
    "name": "ipython",
    "version": 3
   },
   "file_extension": ".py",
   "mimetype": "text/x-python",
   "name": "python",
   "nbconvert_exporter": "python",
   "pygments_lexer": "ipython3",
   "version": "3.10.15"
  }
 },
 "nbformat": 4,
 "nbformat_minor": 2
}
