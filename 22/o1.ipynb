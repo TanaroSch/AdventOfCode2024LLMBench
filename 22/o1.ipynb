{
 "cells": [
  {
   "cell_type": "markdown",
   "metadata": {},
   "source": [
    "# Day 22 - o1"
   ]
  },
  {
   "cell_type": "code",
   "execution_count": 1,
   "metadata": {},
   "outputs": [
    {
     "name": "stdout",
     "output_type": "stream",
     "text": [
      "20332089158\n"
     ]
    }
   ],
   "source": [
    "def next_secret_number(s):\n",
    "    MOD = 16777216  # 2^24\n",
    "\n",
    "    # 1) Multiply by 64, mix, prune\n",
    "    s = (s ^ (s * 64)) % MOD\n",
    "\n",
    "    # 2) Divide by 32 (floor), mix, prune\n",
    "    temp = s // 32\n",
    "    s = (s ^ temp) % MOD\n",
    "\n",
    "    # 3) Multiply by 2048, mix, prune\n",
    "    s = (s ^ (s * 2048)) % MOD\n",
    "\n",
    "    return s\n",
    "\n",
    "\n",
    "def solve():\n",
    "    # Read all lines from input.txt\n",
    "    import sys\n",
    "    \n",
    "    # If running on a platform like an online judge, you can do:\n",
    "    # lines = sys.stdin.read().strip().split()\n",
    "    # For the sake of demonstration here, let's assume we can open input.txt:\n",
    "    with open(\"input.txt\") as f:\n",
    "        lines = f.read().strip().split()\n",
    "    \n",
    "    total = 0\n",
    "    for line in lines:\n",
    "        s = int(line)\n",
    "        # Generate the next secret number 2000 times:\n",
    "        for _ in range(2000):\n",
    "            s = next_secret_number(s)\n",
    "        # Now s is the 2000th secret number; add it to the total.\n",
    "        total += s\n",
    "    \n",
    "    print(total)\n",
    "\n",
    "\n",
    "if __name__ == \"__main__\":\n",
    "    solve()\n"
   ]
  },
  {
   "cell_type": "markdown",
   "metadata": {},
   "source": [
    "## Part 2"
   ]
  },
  {
   "cell_type": "code",
   "execution_count": 2,
   "metadata": {},
   "outputs": [
    {
     "name": "stdout",
     "output_type": "stream",
     "text": [
      "2191\n"
     ]
    }
   ],
   "source": [
    "def next_secret_number(s):\n",
    "    \"\"\"\n",
    "    Given the current secret number s, compute and return the next secret number.\n",
    "    \"\"\"\n",
    "    MOD = 16777216  # 2^24\n",
    "\n",
    "    # Step 1: Multiply by 64, XOR (\"mix\"), then mod (\"prune\")\n",
    "    s = (s ^ (s * 64)) % MOD\n",
    "\n",
    "    # Step 2: Floor-divide by 32, XOR, mod\n",
    "    temp = s // 32\n",
    "    s = (s ^ temp) % MOD\n",
    "\n",
    "    # Step 3: Multiply by 2048, XOR, mod\n",
    "    s = (s ^ (s * 2048)) % MOD\n",
    "\n",
    "    return s\n",
    "\n",
    "def generate_prices(initial_secret):\n",
    "    \"\"\"\n",
    "    Given an initial secret number, generate the list of 2001 prices:\n",
    "    price[k] = (secret_k mod 10).\n",
    "    \"\"\"\n",
    "    prices = []\n",
    "    s = initial_secret\n",
    "    # p[0] is based on the initial secret\n",
    "    prices.append(s % 10)\n",
    "    # Generate 2000 more secrets => total 2001 prices\n",
    "    for _ in range(2000):\n",
    "        s = next_secret_number(s)\n",
    "        prices.append(s % 10)\n",
    "    return prices\n",
    "\n",
    "def solve():\n",
    "    import sys\n",
    "    \n",
    "    # Read lines from input.txt\n",
    "    with open(\"input.txt\", \"r\") as f:\n",
    "        lines = [line.strip() for line in f if line.strip()]\n",
    "\n",
    "    # patterns_sums[pattern] = sum of earliest sale prices across all buyers\n",
    "    patterns_sums = {}\n",
    "\n",
    "    # Process each buyer\n",
    "    for line in lines:\n",
    "        initial_secret = int(line)\n",
    "        prices = generate_prices(initial_secret)\n",
    "        \n",
    "        # Compute the 2000 changes: d[i] = p[i+1] - p[i]\n",
    "        # We'll have indices i in [0..1999]\n",
    "        diffs = []\n",
    "        for i in range(len(prices) - 1):\n",
    "            diffs.append(prices[i+1] - prices[i])\n",
    "        \n",
    "        # For each possible index i where 4 consecutive diffs exist:\n",
    "        # store the earliest sale price p[i+4] for the pattern (d[i], d[i+1], d[i+2], d[i+3])\n",
    "        seen_patterns = {}\n",
    "        for i in range(0, len(diffs) - 3):\n",
    "            pattern = (diffs[i], diffs[i+1], diffs[i+2], diffs[i+3])\n",
    "            # The sale price is prices[i+4]\n",
    "            sale_price = prices[i+4]\n",
    "            if pattern not in seen_patterns:\n",
    "                seen_patterns[pattern] = sale_price\n",
    "        \n",
    "        # Now update the global patterns_sums dictionary\n",
    "        for pattern, earliest_price in seen_patterns.items():\n",
    "            patterns_sums[pattern] = patterns_sums.get(pattern, 0) + earliest_price\n",
    "\n",
    "    # Finally, find the maximum sum over all patterns\n",
    "    if not patterns_sums:\n",
    "        # No patterns at all => no bananas\n",
    "        print(0)\n",
    "        return\n",
    "\n",
    "    answer = max(patterns_sums.values())\n",
    "    print(answer)\n",
    "\n",
    "if __name__ == \"__main__\":\n",
    "    solve()\n"
   ]
  }
 ],
 "metadata": {
  "kernelspec": {
   "display_name": "AdventOfCode",
   "language": "python",
   "name": "python3"
  },
  "language_info": {
   "codemirror_mode": {
    "name": "ipython",
    "version": 3
   },
   "file_extension": ".py",
   "mimetype": "text/x-python",
   "name": "python",
   "nbconvert_exporter": "python",
   "pygments_lexer": "ipython3",
   "version": "3.10.15"
  }
 },
 "nbformat": 4,
 "nbformat_minor": 2
}
