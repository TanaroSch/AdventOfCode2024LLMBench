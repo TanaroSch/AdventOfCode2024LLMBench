{
 "cells": [
  {
   "cell_type": "markdown",
   "metadata": {},
   "source": [
    "# Day 22 - o1-mini (GHC)"
   ]
  },
  {
   "cell_type": "code",
   "execution_count": 1,
   "metadata": {},
   "outputs": [
    {
     "name": "stdout",
     "output_type": "stream",
     "text": [
      "20332089158\n"
     ]
    }
   ],
   "source": [
    "def update_secret(secret):\n",
    "    # Step 1: Multiply by 64, mix, and prune\n",
    "    secret = (secret ^ (secret * 64)) % 16777216\n",
    "    # Step 2: Divide by 32, mix, and prune\n",
    "    secret = (secret ^ (secret // 32)) % 16777216\n",
    "    # Step 3: Multiply by 2048, mix, and prune\n",
    "    secret = (secret ^ (secret * 2048)) % 16777216\n",
    "    return secret\n",
    "\n",
    "def main():\n",
    "    with open('input.txt', 'r') as file:\n",
    "        initial_secrets = [int(line.strip()) for line in file]\n",
    "    \n",
    "    total = 0\n",
    "    for secret in initial_secrets:\n",
    "        for _ in range(2000):\n",
    "            secret = update_secret(secret)\n",
    "        total += secret\n",
    "    \n",
    "    print(total)\n",
    "\n",
    "if __name__ == \"__main__\":\n",
    "    main()"
   ]
  },
  {
   "cell_type": "markdown",
   "metadata": {},
   "source": [
    "## Part 2"
   ]
  },
  {
   "cell_type": "code",
   "execution_count": 2,
   "metadata": {},
   "outputs": [
    {
     "name": "stdout",
     "output_type": "stream",
     "text": [
      "2191\n"
     ]
    }
   ],
   "source": [
    "from collections import defaultdict\n",
    "\n",
    "def update_secret(secret):\n",
    "    secret = (secret ^ (secret * 64)) % 16777216\n",
    "    secret = (secret ^ (secret // 32)) % 16777216\n",
    "    secret = (secret ^ (secret * 2048)) % 16777216\n",
    "    return secret\n",
    "\n",
    "def main():\n",
    "    with open('input.txt', 'r') as file:\n",
    "        initial_secrets = [int(line.strip()) for line in file]\n",
    "    \n",
    "    buyer_prices_changes = []\n",
    "    \n",
    "    for secret in initial_secrets:\n",
    "        prices = [secret % 10]\n",
    "        changes = []\n",
    "        for _ in range(2000):\n",
    "            secret = update_secret(secret)\n",
    "            price = secret % 10\n",
    "            prices.append(price)\n",
    "            changes.append(price - prices[-2])\n",
    "        buyer_prices_changes.append((prices, changes))\n",
    "    \n",
    "    sequence_map = defaultdict(int)\n",
    "    \n",
    "    for prices, changes in buyer_prices_changes:\n",
    "        seen_sequences = {}\n",
    "        for i in range(len(changes) - 3):\n",
    "            seq = tuple(changes[i:i+4])\n",
    "            if seq not in seen_sequences:\n",
    "                seen_sequences[seq] = prices[i+4]\n",
    "        for seq, price in seen_sequences.items():\n",
    "            sequence_map[seq] += price\n",
    "    \n",
    "    max_bananas = max(sequence_map.values())\n",
    "    \n",
    "    print(max_bananas)\n",
    "\n",
    "if __name__ == \"__main__\":\n",
    "    main()"
   ]
  }
 ],
 "metadata": {
  "kernelspec": {
   "display_name": "AdventOfCode",
   "language": "python",
   "name": "python3"
  },
  "language_info": {
   "codemirror_mode": {
    "name": "ipython",
    "version": 3
   },
   "file_extension": ".py",
   "mimetype": "text/x-python",
   "name": "python",
   "nbconvert_exporter": "python",
   "pygments_lexer": "ipython3",
   "version": "3.10.15"
  }
 },
 "nbformat": 4,
 "nbformat_minor": 2
}
