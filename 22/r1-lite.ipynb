{
 "cells": [
  {
   "cell_type": "markdown",
   "metadata": {},
   "source": [
    "# Day 22 - Deepseek R1 Lite"
   ]
  },
  {
   "cell_type": "code",
   "execution_count": 1,
   "metadata": {},
   "outputs": [
    {
     "name": "stdout",
     "output_type": "stream",
     "text": [
      "20332089158\n"
     ]
    }
   ],
   "source": [
    "def evolve(secret):\n",
    "    for _ in range(2000):\n",
    "        # Step 1: Multiply by 64, mix, prune\n",
    "        temp = secret * 64\n",
    "        secret = secret ^ temp\n",
    "        secret = secret % 16777216\n",
    "        # Step 2: Divide by 32, mix, prune\n",
    "        temp = secret // 32\n",
    "        secret = secret ^ temp\n",
    "        secret = secret % 16777216\n",
    "        # Step 3: Multiply by 2048, mix, prune\n",
    "        temp = secret * 2048\n",
    "        secret = secret ^ temp\n",
    "        secret = secret % 16777216\n",
    "    return secret\n",
    "\n",
    "def main():\n",
    "    with open('input.txt', 'r') as f:\n",
    "        initial_secrets = [int(line.strip()) for line in f if line.strip()]\n",
    "    \n",
    "    total = 0\n",
    "    for secret in initial_secrets:\n",
    "        final_secret = evolve(secret)\n",
    "        total += final_secret\n",
    "    print(total)\n",
    "\n",
    "if __name__ == \"__main__\":\n",
    "    main()"
   ]
  },
  {
   "cell_type": "markdown",
   "metadata": {},
   "source": [
    "## Part 2"
   ]
  },
  {
   "cell_type": "code",
   "execution_count": 2,
   "metadata": {},
   "outputs": [
    {
     "name": "stdout",
     "output_type": "stream",
     "text": [
      "2191\n"
     ]
    }
   ],
   "source": [
    "def generate_secrets(initial_secret):\n",
    "    secrets = [initial_secret]\n",
    "    secret = initial_secret\n",
    "    for _ in range(2000):\n",
    "        # Step 1\n",
    "        temp = secret * 64\n",
    "        secret = secret ^ temp\n",
    "        secret = secret % 16777216\n",
    "        # Step 2\n",
    "        temp = secret // 32\n",
    "        secret = secret ^ temp\n",
    "        secret = secret % 16777216\n",
    "        # Step 3\n",
    "        temp = secret * 2048\n",
    "        secret = secret ^ temp\n",
    "        secret = secret % 16777216\n",
    "        secrets.append(secret)\n",
    "    return secrets\n",
    "\n",
    "def main():\n",
    "    with open('input.txt', 'r') as f:\n",
    "        initial_secrets = [int(line.strip()) for line in f if line.strip()]\n",
    "    \n",
    "    from collections import defaultdict\n",
    "    sequence_sum = defaultdict(int)\n",
    "    \n",
    "    for secret in initial_secrets:\n",
    "        secrets = generate_secrets(secret)\n",
    "        prices = [s % 10 for s in secrets]\n",
    "        changes = [prices[i+1] - prices[i] for i in range(len(prices)-1)]\n",
    "        recorded_sequences = set()\n",
    "        for i in range(len(changes)-3):\n",
    "            seq = (changes[i], changes[i+1], changes[i+2], changes[i+3])\n",
    "            if seq not in recorded_sequences:\n",
    "                recorded_sequences.add(seq)\n",
    "                if i+4 < len(prices):\n",
    "                    price = prices[i+4]\n",
    "                    sequence_sum[seq] += price\n",
    "    \n",
    "    max_sum = max(sequence_sum.values())\n",
    "    print(max_sum)\n",
    "\n",
    "if __name__ == \"__main__\":\n",
    "    main()"
   ]
  }
 ],
 "metadata": {
  "kernelspec": {
   "display_name": "AdventOfCode",
   "language": "python",
   "name": "python3"
  },
  "language_info": {
   "codemirror_mode": {
    "name": "ipython",
    "version": 3
   },
   "file_extension": ".py",
   "mimetype": "text/x-python",
   "name": "python",
   "nbconvert_exporter": "python",
   "pygments_lexer": "ipython3",
   "version": "3.10.15"
  }
 },
 "nbformat": 4,
 "nbformat_minor": 2
}
