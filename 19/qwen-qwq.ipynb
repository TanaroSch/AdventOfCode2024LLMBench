{
 "cells": [
  {
   "cell_type": "markdown",
   "metadata": {},
   "source": [
    "# Day 19 - Qwen QwQ 32B"
   ]
  },
  {
   "cell_type": "code",
   "execution_count": 1,
   "metadata": {},
   "outputs": [
    {
     "name": "stdout",
     "output_type": "stream",
     "text": [
      "0\n"
     ]
    }
   ],
   "source": [
    "import re\n",
    "\n",
    "def main():\n",
    "    with open('input.txt', 'r') as f:\n",
    "        lines = f.readlines()\n",
    "    \n",
    "    # Extract patterns\n",
    "    patterns = lines[0].strip().split(',')\n",
    "    \n",
    "    # Create regex pattern\n",
    "    # Escape patterns to treat them as literals\n",
    "    escaped_patterns = [re.escape(p) for p in patterns]\n",
    "    regex_pattern = '^(' + '|'.join(escaped_patterns) + ')*$'\n",
    "    regex = re.compile(regex_pattern)\n",
    "    \n",
    "    # Extract designs\n",
    "    designs = [line.strip() for line in lines[2:] if line.strip()]\n",
    "    \n",
    "    # Check each design\n",
    "    count = 0\n",
    "    for design in designs:\n",
    "        if regex.match(design):\n",
    "            count += 1\n",
    "    \n",
    "    print(count)\n",
    "\n",
    "if __name__ == \"__main__\":\n",
    "    main()"
   ]
  },
  {
   "cell_type": "code",
   "execution_count": 2,
   "metadata": {},
   "outputs": [
    {
     "name": "stdout",
     "output_type": "stream",
     "text": [
      "0\n"
     ]
    }
   ],
   "source": [
    "def main():\n",
    "    with open('input.txt', 'r') as f:\n",
    "        data = f.read().splitlines()\n",
    "    \n",
    "    # Parse towel patterns\n",
    "    towels = data[0].split(',')\n",
    "    \n",
    "    # Find the blank line and parse designs\n",
    "    designs = data[2:]  # assuming blank line is data[1]\n",
    "    \n",
    "    count = 0\n",
    "    for design in designs:\n",
    "        n = len(design)\n",
    "        dp = [False] * (n + 1)\n",
    "        dp[0] = True  # empty string can be formed\n",
    "        \n",
    "        for i in range(n + 1):\n",
    "            if dp[i]:\n",
    "                for towel in towels:\n",
    "                    towel_len = len(towel)\n",
    "                    if i + towel_len <= n and design[i:i+towel_len] == towel:\n",
    "                        dp[i + towel_len] = True\n",
    "        if dp[n]:\n",
    "            count += 1\n",
    "    print(count)\n",
    "\n",
    "if __name__ == \"__main__\":\n",
    "    main()"
   ]
  },
  {
   "cell_type": "code",
   "execution_count": 3,
   "metadata": {},
   "outputs": [
    {
     "name": "stdout",
     "output_type": "stream",
     "text": [
      "0\n"
     ]
    }
   ],
   "source": [
    "# Read input file\n",
    "with open('input.txt', 'r') as f:\n",
    "    lines = f.readlines()\n",
    "\n",
    "# Parse patterns\n",
    "patterns = lines[0].strip().split(',')\n",
    "\n",
    "# Parse designs\n",
    "designs = [line.strip() for line in lines[2:] if line.strip()]\n",
    "\n",
    "# Function to check if a design is possible\n",
    "def is_possible(design):\n",
    "    dp = [False] * (len(design) + 1)\n",
    "    dp[0] = True\n",
    "    for i in range(len(design)):\n",
    "        if dp[i]:\n",
    "            for pattern in patterns:\n",
    "                pattern_length = len(pattern)\n",
    "                if i + pattern_length <= len(design) and design[i:i+pattern_length] == pattern:\n",
    "                    dp[i + pattern_length] = True\n",
    "    return dp[len(design)]\n",
    "\n",
    "# Count number of possible designs\n",
    "count = 0\n",
    "for design in designs:\n",
    "    if is_possible(design):\n",
    "        count += 1\n",
    "print(count)"
   ]
  },
  {
   "cell_type": "code",
   "execution_count": 4,
   "metadata": {},
   "outputs": [
    {
     "name": "stdout",
     "output_type": "stream",
     "text": [
      "Patterns: ['uwbr', 'bbgrb', 'wwbg', 'gugurur', 'rgurw', 'rbgw', 'bw', 'wurbru', 'bgrurw', 'gbw', 'bwgg', 'ubwg', 'wrgb', 'bwg', 'rwgug', 'bbgb', 'grbrbuug', 'ruw', 'grrrbu', 'ubwurbwu', 'rbg', 'buu', 'bru', 'rwugubg', 'brgwu', 'wr', 'uwb', 'wgwu', 'rubgwu', 'rrw', 'bwwrb', 'rrr', 'uww', 'gbgwrww', 'gbb', 'uugw', 'wurgr', 'wgbwbrur', 'grwbg', 'gwrbuw', 'wgu', 'wrr', 'ug', 'rbr', 'guur', 'gurru', 'urgwggw', 'wuwbwg', 'bwggrwgw', 'brurww', 'wbr', 'buww', 'bgrb', 'bbb', 'rgr', 'bgbbwbu', 'bububub', 'wbugu', 'gwgub', 'gubbwwrb', 'rrgwuuwu', 'uggb', 'rgbg', 'ubgbrw', 'rrrg', 'rr', 'gbuwb', 'wwbugwb', 'rbwbr', 'wbrrb', 'rug', 'b', 'bwwrwr', 'gug', 'bwrw', 'rbu', 'r', 'bgu', 'uub', 'bwb', 'ubwuuw', 'uuur', 'wgur', 'urw', 'gbbw', 'uuuru', 'ur', 'wburb', 'gwuuw', 'rbb', 'wuu', 'gru', 'urb', 'wb', 'bbwb', 'grgugw', 'rgruuur', 'rrwbwrg', 'uubru', 'ubrw', 'rbbgrgr', 'br', 'wub', 'ww', 'guu', 'gur', 'uug', 'bww', 'ubrwbgu', 'brwu', 'wrbgub', 'ggwwgwb', 'uuwuugrb', 'rwgrw', 'ggurr', 'gbg', 'rrwb', 'gbrbgr', 'bbruu', 'rrbrbw', 'wrurug', 'ruuw', 'wg', 'bwwwwb', 'bubg', 'ubr', 'bwu', 'uugub', 'ruuuubb', 'rggw', 'urr', 'urwgr', 'rww', 'wwggu', 'gbbwgw', 'ubggu', 'wbb', 'uugr', 'uubgu', 'uwg', 'rwwuru', 'uuurb', 'buuu', 'wbru', 'ubwr', 'urg', 'urrwrwgb', 'rbubb', 'uw', 'brrg', 'bgb', 'gwrguu', 'bgwu', 'bubwbg', 'rb', 'grb', 'uugubb', 'gww', 'bggbru', 'gwb', 'grwwwugb', 'gwggbg', 'bbg', 'ubrg', 'rgu', 'gwguu', 'ruwrwb', 'gggwb', 'bbbbug', 'ruwrurbw', 'rrbww', 'rwbww', 'grru', 'wwrwwub', 'guwurb', 'ugwbg', 'wgruuwwb', 'rg', 'uubgww', 'ruu', 'gbbbrbb', 'ggruu', 'gwgbwu', 'buw', 'uur', 'uuurbgr', 'uu', 'gwwrwgb', 'brrr', 'uwuw', 'guw', 'rwwr', 'gwuguub', 'wgb', 'brwwr', 'brub', 'uurg', 'ugb', 'rguub', 'brwbg', 'ruuuu', 'bggbgw', 'wrgwwwg', 'rrgw', 'uurrg', 'wwuwu', 'gugg', 'wwub', 'wuw', 'uuu', 'wugruu', 'rrgb', 'uwr', 'rbrwwb', 'grr', 'rrrb', 'bgg', 'ruwr', 'ggrurwr', 'ugg', 'bwr', 'rguwru', 'wgub', 'ugr', 'wrwu', 'gwbw', 'bwbur', 'wgbbr', 'rrrw', 'grwrgg', 'rgb', 'ugu', 'wwg', 'wugur', 'ggu', 'ubrwwgbu', 'uwub', 'urubwug', 'ugw', 'wguub', 'wbubugw', 'gugwwu', 'rwb', 'ubuu', 'gbu', 'wugbg', 'gbbu', 'rrg', 'brbr', 'urrg', 'guwub', 'bbr', 'wbbuburr', 'wwburwb', 'grbugbu', 'uuwbrw', 'wubr', 'wbbggww', 'ubub', 'ruru', 'grwbgbb', 'bbw', 'uru', 'wgg', 'ubrwu', 'rw', 'wurbu', 'uwrwb', 'rrb', 'rugggr', 'rgrwr', 'wrw', 'ggw', 'grgugu', 'uwug', 'rur', 'wruuw', 'bugbur', 'bb', 'uwggrrb', 'gbgr', 'rgbrw', 'bur', 'rbw', 'bub', 'wrb', 'rrgr', 'wrug', 'gr', 'uubw', 'gbr', 'rguuwbb', 'buubg', 'ugrbrwr', 'gubu', 'ru', 'wgr', 'ubggb', 'gwuu', 'rwgru', 'rwwrwg', 'grrr', 'gwu', 'guuuwww', 'ggugug', 'ubwrgbww', 'rgwbggu', 'brr', 'uubbr', 'wgwbw', 'ub', 'rrbru', 'uwuuur', 'rgwr', 'rruw', 'urgguw', 'urwb', 'uggr', 'bu', 'brwrw', 'gggub', 'uurb', 'buuw', 'ggb', 'wbrbgu', 'gurb', 'wuwbu', 'grg', 'buubbg', 'ggrubb', 'urwbwrb', 'uwugrgu', 'rurrw', 'ubw', 'wrg', 'u', 'www', 'bgr', 'wrbgw', 'wbg', 'rub', 'wwu', 'ubrgwg', 'bwuw', 'brb', 'ggr', 'bwrb', 'wggb', 'ubb', 'wrrrgw', 'urubrgwg', 'bbgr', 'uwwr', 'rwg', 'buwubw', 'bgw', 'brg', 'w', 'rubb', 'bwwwbb', 'ggg', 'bbbw', 'gbguw', 'guuw', 'grggr', 'wur', 'wug', 'grwwgrw', 'wbbwu', 'rru', 'bgbwgr', 'brw', 'gwg', 'uubwwur', 'wrwgw', 'wubwb', 'ugubrb', 'burb', 'ggwrr', 'rwbg', 'bwgugw', 'gbgwgwgr', 'uwgb', 'wu', 'gugww', 'wwuugrwb', 'rugu', 'wgw', 'rwub', 'uuwwbg', 'grrg', 'uuw', 'gu', 'gwgb', 'uwwur', 'rwbbbbb', 'gbur', 'uwugrwgg', 'rrgg', 'buwg', 'rwr', 'bwuwrgb', 'ubu', 'bgbrguwb', 'rbru', 'gw', 'bbbbg', 'ubuwuu', 'bbu', 'rgg', 'rwu', 'wbw', 'ggwbru', 'guwb', 'wwr', 'wuubg', 'ubrww', 'rwruru', 'urbww', 'gwrr', 'wrgwbu', 'bwbrugu', 'wwrww', 'grw', 'rgw', 'wwb', 'wguuwrw', 'wrgrg', 'wgug', 'uwwg', 'bbubwbru', 'wrwbu', 'gub', 'bwbg', 'wgrwr', 'gg', 'burbrbw', 'uggu', 'rgbgbw', 'gwr', 'rgrwbw', 'gguuur', 'urbw', 'wwrgw', 'wrggu', 'gbug', 'ubug']\n",
      "Designs: ['bwwbrubububwugbugruuwbbwbbbbwuwruuuwbuuwbwwwgwgr', 'wbwrgruwgubuwugbbwurwuurgrururbugbgbuggrugbu', 'wgrggwgruubbgbgurwrbgggwbuwwruburwrbrwwgrubg', 'wgrbbuwgbwburbrrrubburubruwugbbbwuuwwruwbgbrwbbwuruwb', 'wwrgwugrgbuwwwububrrrggwgugbwguwuurrgrrwggbrugbugrbur', 'rguwbbggwbbuggugwwbgbbwwrgbbbrwbgbbwrurwrggugrwgrwr', 'rguguwbgbwrbrrguuwwubrrugrruurgbrrbrguuwgwgggrbw', 'guuubururbgbwwbwrbgwwbgbrwbuwurgubggwwbwrb', 'bburbggbbwgrbbuwrbguugbruwbgwrwbwgrwgrwgbugbuwggbbuurrb', 'guwbgbbbuwrwruuwgbrwugwwuruuwrruurubbwwgrwg', 'grgbgurrwguwrgguugwbugbbgrbbbbrgwrugurrbwr', 'uuwgwgbrwrbbrruwwrwugbguurwgbruuubwbbrrrubugr', 'ggbbbwwuuggwubbbubggggrrbwwgwgbwguwuuwgubrwrrwwgr', 'gurgugbbwgbbggurrbbgwgubgwbbwwruuuuuwbbbwwguwgrwuuwrwruurr', 'wubuuwurwuurbrrbugbuurgwuwgugugurrbwurbgwwuguwuurww', 'bbgrwguugbrgwbggwgbwwwwggrguwbgwguubwgwrbuwrugrrugrrugwr', 'rrwubgurwgugggbrgbguwgrugugrubugguuubggugw', 'wbggguugwrgwrbrrubburbwwgburwrubwbwbrgrrubbwwgwr', 'rwbgugwrrbbuwuwrggubwwwrbbrgrruwrwggbggwuggruguurruurgbwuw', 'wrbuwrrbrbbrbururwrwbubbrrrwrugbwgggbrguurgbrbwrwbrrwwwu', 'ugwrwbbruggwrwwbwurrrrurbgbwuurrgburwbwurubwgbwubg', 'ruggbbububbbwwrrbbbbrwbwwrrgbgrwuwwwrgwbgrbrruurrgwurbrguu', 'uugbuuugggruwgwuuwuugrbbbbwbuwgbwgbwwrwrwrbw', 'wgwrwrbbgrugrbbrurububwwrbbuugggrugugrrubg', 'wrbrbbwgrggugbrggggwuwurbwururbburwuwwwugbwgbuubrubg', 'bggwwurrwrbrwgwuwrbbrwruuugwwuubgugwgbrubbrubg', 'gguugguuguuwwwrbuuwrbuuggburrrggwgubbrurwrugu', 'gwugrgugurwgggurgwrbbrgrburwrrwbrwgrwuggbuuwuubwbgbgbb', 'wuwwwbwgbgbgbwrgwrruubwgrbgbugwwggbgwruwwwburwrrrwururu', 'ubrububwrrwurrwrurugrwbruggrbugrrrwguuggbbrgbb', 'wwugrwwrbbwbwwurgbwgggggwruwgugbuggurwrbbbgwugbwuururw', 'wgbgrgwugurgwwugwururwubbbuurwbbbbrwubrugurwbbrubbguwu', 'wwrwrrggururuurgrrrgrbrrwwuugrwbgbwrgbrurugbbbwrgbbwbu', 'rwwrrbgbwugubwurbubrrrubugwurrbbruurwruwrruwbubrw', 'gwbugburwwgruuwwbwbbrrugubgggbburububburubbruwguubg', 'rrubrbbrruubwbwgbwggbwuwggwgwurugrrrrwrurgbwbbwuuuwgubg', 'brgrgwguwwuwurwbbruwrwwruwrrwgwwrgggrubwgrbggrrgb', 'bgrurwbguuruwuugurbwwgrruuububbbbgbrbbwubrbbwrugrrgbw', 'rggwbrwrwggguwgbubgrwgubbggrurgrubrrwbwbrrbggbwbbb', 'uguwgrruwbbwbuguuubguguuuwrubgbubwbuugwbuwbgbrbgrr', 'rgrgwrrbbwwbrbrwbbwwbrbwuwrbbgbbrgbuubgubbgbb', 'wurgbbuggguwgwwwuwbrwbgwbrgurwruwuwgurwubggbggbg', 'uurrbgruwrbbuwubuwugwbbrwrurugrgwwrbbrrrrwrurbbrbbw', 'wuuwugbbugbbuurugrbbwbgbwguguwugbbrwbwugwgbu', 'gbugbwgbbgurwbbugwbggrgwwuugrgrgbuurwwbgwurbrwrbgrwwurbru', 'urbgwrggwbbuurrburbrbgbbgrgrubbwugurbwuwwuruwurgw', 'gbwwwbrubgwbbbwrgbuurwwwrrrgubgbruwwbugbrrwguwgr', 'urwruugwrbbwgbwrburrugwbwwgbubbbguwgrubg', 'gwwbwuwbwbgrgrrrrgururrrrugrgrrrrrrwububwgbwrurubg', 'rgrbrbuggwwurwguggwugbrbrgurrggwrrubwggwgubgurbggburw', 'uuubgrgwbwgrurggwwbuwurwubrgbbgbwrgrrwrwwgwwbgbbrrwgwbrbgubg', 'bgrrrbbwrbbbwwggwurbwbwubrwbbgugwgwgrwrwwgbubgrurubg', 'bbwubbwgbwggbuwuwrgbbwububrggwgwwgwgrgbubbwuguugwgguubg', 'uugbubbwbbbwrbgrwwrgbbwwwgrrgubggbuurbbgwgrggurbu', 'uwgrwggbrbwgrwbuugbuugbbwubbgwrbbububuwrbgbrgrrwr', 'bburgbuwbuuuwuurgggbbgrruruwgbwuwubgubuguggguuwwbbg', 'rgugrbrrbrrwgwguguwgurugbubuwbrurwrwuggrruuggbrgugrwgrwubg', 'wggrbgwburwrbbubwuwwrgurrugrruggwuubbubwgbwburwrug', 'rugwbuurwuubwwrrgubuwbrrbrbugggurrrggburgbwuwgbbgruugguugb', 'wgrbbubugwgwbbbrguuuwwbwgrbbrwbburrbbuuugguggr', 'wwwgurwwuruuuuwgbwwgwbwruwbgrugbgwrgwuggurrugbgubbrwugubr', 'uugwbwrubrbggrguwwbbrrgrbbgbrwwwgrrgbgwgggrrggbbggg', 'ruugbuwurwgurrbwrggubwwburwgubuggwrgbgbrbrbbuurwwwrrbgu', 'bburgbggrgurugbwuururbwubggrrggubbwwrbgugrb', 'rburrgubuuuubburguubggwuwgbbwrwrubwrubrurgwr', 'brrrwguwgbuggwwggbrrwbbwguwbrgwuwbwgwugwbwwbbbrubg', 'bwwbwwuruubwrgbwwgrrguburrbugwbwubwbwbuuguuwggw', 'bbbgguwruwrurwuwwgrwgwgbubrgbwbrwguuuuuguuwrrggwbbwbub', 'rrrurrwrgwrwwbbrbrbgbbuwbgbrwgbwbbbbrrwrbuwrgbuwwrguguwubg', 'wgbgrrrbrrwburuubgrrugbbrwwguwgwgbgruurgwbuugugggbrrubg', 'wwurgwwrugbwbgrbwbwgwuwrugubgwwrugwugwbbrwrwbbubuubbwurwgw', 'bugbgrrbrrrwrbwrrurwrrrwgrbuurwuggrggubgrw', 'ggwgrgruububwbwuuruwwwbuuguuuwrgrugwwbbgrrrrwgrwb', 'gbrrwwrrgwubrrgurgbwgrrrrgwbgrggbrburbrubg', 'wwwurrgwrrwgugrruwwgbbbuuwuuugrwgwugrwwwugbrwuu', 'wrwbbwubbrbugrrurgbrbgbuwgrguububbugbrrwuguggubggrubugu', 'ubwggwrubwuwgrrgubwugwwbuwrbbwrwgwwuuubguubuwrwgugwwubg', 'rbgwrrgwwrubwrgbwwuwgubwbbgburwwgwubrwrubg', 'brwwbgwuwrrwwwuggwbuggbuwuuwbwwrwuwrrbbuwugwgrrgr', 'bwbgugwwubuuwbrrwrurrbuwgrwbbbwbuurguurubrwgruwgggrbrgb', 'bguwrgubgwwrwwbbgbguruubbubruwgggrwrgwuguwbwgwuurugrrww', 'wbggubrwwgwuwururgrwrguurgrubggbgbgbugbwurgggguwwwr', 'wurgbrrrrwubrgwgbbgwrwrwurrbgugwgwuwubrwbwbwrurgb', 'bugbgrbuguuuurrgbburugurggrbrrrugrbggwrrgrggggubburubg', 'ugrwggubgbubburwubgbubwwuubgbbbwggrbuugguuubg', 'gggbbubbrrgwuburgbwgurbrrwgbrwgrwubrbbgrgubg', 'bgwrrwgbwwgrbbrgbuwwwbwbubbrguwugubwuwrwggb', 'gbbburbwruruubwubwrbggbggwgbwubrwrrrbrbrwbur', 'bbwwbrubwgurgrwbgrrrbubgrbrbbwrrwrrgbuuwgwubbuwgwbbugggru', 'rbguggwburbgrwubuwggruwbuwuwrggrgbbrwwgwgurgubg', 'urwgrggbbbbbubbwbbbbwggggbugubbggrrbwguuubugguuruuubbwuruw', 'wwwrwgwwwuugwggugwwwubwwwbuwgrgwbrgrubwrrubg', 'wrwbwrubgruwugrgrwwrgbubbururwuwrugbwuwwruuuwbr', 'brwrgbguurbwbwbrbrggbwurwwrugwbrrwbbgrburwbwrwrrgggubg', 'rubuuwuugrbrwrwgrubrrwbwuwbgwuubwugbrwwguubg', 'rrbgurburwgrgrgubrrgwwuugwubgrrgrbgwwwubwgubg', 'gwgbuwruuggbrbugggwwuugwburrwbgwugubgbubgwgwwr', 'wbbwrrbwgbruwbbgrrgrubrgugwgwurbgruuwubwubg', 'buuuwgbgruuugbggwwuwgguwbwwbgwurgbbbgggrwrbug', 'ugbwuubggrwwrbgbburwuwgrrgrggurwwwwgubrubwubg', 'ugrugbruggrbrbbggbbgurbbwbbubbrggwurbwubrw', 'bbbrggruuwrwgwbwuwugggbwwbgubrbbububrgbgwbgrbwgurbwrrgb', 'rwgrbwrbugubrrwwgrruggurrwbggrbuwrrwgrgbwuu', 'gugwrbbggbbuuggwrrwbrbrrbrrggbugrbugbrbuug', 'rwwrrrbruwwbwubwbugbbwuwgugwurgrrbwwurgugwwbrggrubw', 'rrugwuggwgwubuwubgruugrguwwbgrrrbgbubbgbbrwuuwwwgruburuuubg', 'ggubugugwbwrwgwrbbbwugugubbugrrwurwrbrrwwrgwgrr', 'wuwrubwrwrurgwbrbrurwbwbwwrwugrgrwwgwwbwbbgggbw', 'brbguwbwbgubbruubrwgwbbrbgwwrgggwrwrrbbrrrggrwgbugbgrrb', 'ggbwguwgrgbwrbubrbbuuguguwuuugwbwgrwbugwggrw', 'wggwwurrbggwwurggurgwgbwurrgbrwbbgugbwgrbwrbbbrgrru', 'ubbwbbrbrwgwrrrgbwrrwgrbggubbbuuuuuugubwgubbrgbrbbggggrguu', 'bwuurgrugbgguggbrbgbgwbbgubwugguwgrggrwgwwgrgbugubg', 'uruburwurrrbuubgbrwbwrrbgurrggrbgrrwgwwwgurubg', 'rubbubrgrbuguwguwrgbbrwrbrbbwggggbwruwugwugwrrgubgrubg', 'wuwwuugrurrwwuuwwbbuubgwbugwrgwrgwurugruuwgrgbrubg', 'uwrgguwbwgbgbgguurwguubwrburrwrwgbbbugrrubrwburbrguu', 'rwwbrgrgrbwgburubwbburbbbbuwuuuwgwwuwrwwrrugwrwbbrguwgubg', 'ubrgguuugbwuwrwwbbwgbbgbrrurwuwwgrwrbwwbbuuggggurgubg', 'wugbwugrbrbuguuwuwruwurugubwurbwugrwwbuwugrrrgwbbgwgwb', 'gruuuwrbgrrbrrrwurwgwwgrugubugwubwrurwgrugbrwrburu', 'rbbrwrwgubrrwbwrgbggwuwgrbbbgugrbuwbbwwrwbwgwbuwgwbrw', 'wwwwrwbrgrwggrbbuurwgrbrrwrwrwrbgbgwwrubg', 'ugrbugubwugwbgburgurrggbgbbwgggrwuuwguuggwuuubg', 'bbgwuugbwrubbrrwbrggbbbuwbwbuubrgrbrbbuwgrwwgbrrubrwr', 'rrgubuwuwbgwgwuwubrwwwwgwuggrrgggbwbbruubg', 'bwbgbuggrwgbwrgwuwuwbgbbrrbbuugwugrrgwbwwgubrbrgbugubg', 'ggruruwruwwuwgrbwgbwurbbrbrgugwbuubwgbuwrwurgbr', 'wuwwrwuugguwwwbwgggbwbwwbuugbuggbrbubrgubgugrubwgrbgbur', 'gwwbbbggrwrrubwrbugbrrwrbguwwwugbgrggrbubwwubg', 'ubwbrrwrugwuggrgrwwwugbugwrguuwubbugrbwubggbg', 'ggrwrgbwbugbrgwuburbwwgrbwwrrbgwuwuggrgwbu', 'uwwuggwubgurgrugbbbbugrrwgwwuurwrwbwguurrugrwwggrb', 'uwuubguugwrgwrugrururgubrburuggugbuwubrrwrwrguubg', 'rgggbubbubrgrugbuwgubbuwuggbrgurwbuuurwwrgbrgugwubg', 'guguwwrrubbuuurbuuwwwwrwubbguwwubgrrrugggrb', 'gbggruugbwwruubrbguuwrwrgwwwuuwbguwrrrrwbgrgbbwgwuu', 'rwggbgwrrgbwrrugbgurwwrrbburwrbgguguwuguwubuugwruuwur', 'wuurguurwbbrgwbrbbugwuuuuggwgrbbugruwbwbuggwbrbwbbbgggr', 'bgwbwwbwgwburruwbuwwbuguggugwwrugrbgbbbgubg', 'wrwgurwuuurwwruwwbguwrrbwrgrugbrgugwrbrubggrrgwwburgruurr', 'ubgrbwwugruuwbbwuubgbbbwrurbbrruwbubrgbggrbbwuuwubg', 'wbrrgubgwrbguwbgrwruugugggwgwugbggubwbrggrwwgbgrwu', 'gbwurgurbburububgrruwbrrubbgubwwbbbbgbguubg', 'gwbrugurgwwrruubgbbguwgwgrbwrgwgbrrbrbwwwurrwgubg', 'brwbuurggwuuwbbrrurwugbbrrbrburgubrwgwbgrbwubbuubwurbwubg', 'gwbbwbwuuwuruwgrwrwgwrgggbuwbrrbwwbrwgwggbggrbwggwubwb', 'bwgrbgrwgwwwuurrrggruuwubgbbwrgrrubuwurrbugrbwubgugggwr', 'ububuggwwurruggrgbubuwgruwgwgwwrbgrwbubwugwuwgbwurrrgwbur', 'wwuruwrwgwrbgguubrwuwuwburgwgwwbrwwburwuurr', 'ugbgbugrbuggrrrwgugbgrwgrbbwguuruugrgwrgburwbgbugbg', 'urgrwrrgrruggugbbrwwwrgwggwurgbwbrgrwwrbuwuuwbggwgw', 'bubugbrrruggwgubugbuugwwubugwwgbbruwbrgrbbubwbruwgwubg', 'brwrrrwwubgwwbuwbrrrbubrwrgurwurrrgrbbwubgw', 'rurwgrbguugugwrwwwuuuwwbrwuggrbugggubwuurwbu', 'ruubwwwguguwugbbrgwwubrrrburwrggggrguwubrugbw', 'rgggurrwubbuwwrrrrwggbwrrgrguuurrwbbrbrbubgugwruubg', 'wbrubgwrwbgugwwbggwrbbruuwgbwbrurrwrwrwgbrb', 'rwrubruwbgbbuugguwgburwwgwruuuuuwwwwugugwbggguwbubrwruubg', 'ubwurugwrruwrbrbrwwgubggrwbrguuwruuubuubggruwugrrwbbgbr', 'urgrubbubbgurbwuurgrgrggbwubwbgubwuwgugwgrgwrbr', 'rrbbwwuugrubrrrbwwgwgubbwbruwuwwwbwruurbubwuwwrurrrwrbbru', 'ggbwbbubrwurwwwwbrgbruwwgrrgggrbggbrgurwwrbwggrur', 'gbbgbruwuwgrrgrrgwwwbwgwwgburgrbwbbrururguurgwuuwrbwbrbg', 'bwbrwrurrbbwrggwrrrwrugrbruwbrbuwrrguwwwgrbugb', 'urruubrwbbgbbgbgbugwburggrrwuuwbuuwugubwuwrrgwbrbbgwbrbuwu', 'burbruurgrgrugburrbbwwbwrgwbbwrggbwbwuuuugrgbuurbbrggubg', 'wbgbbuwrbrgwbgbbggbrubwrbbbwgubugbubrgruwwrggrwubg', 'guwurwurgggbbbwrurbgwbubrrwubbbgrubrwwgbuwuububbguuruu', 'wububrwuwrgwruwugrwgguugruuuuurrwbrwubbgubg', 'gbwbugbwgbbrubrbguggrwuuuubrbugbwgubrubrwgw', 'uuwburgrbwrbwurwrwgbrrgrguggbbwbgbbuuuwbrwbgb', 'bbrgurbggrbugrrruwuuuwuuubbubugububrwurwrbrguwwug', 'rrbruwuruugrrrrgwgrwbbguwgwguuwugugwgbgrrgbruubbwrwg', 'wrgrgubbwwrbbuuuwrggrwguwgubgbwbubggrwrubgrgwwubg', 'rbwwrbrrurgugbggbwrgrggwbubgbrgrruwrbguguuuurrbwggrwgwgubg', 'wuuurbbguwuubbgwbrrwrgubugwrwwggbbbgbbrrggb', 'wwwubrwgbgurgubuggwwbuwwrubguurgwguubbwuwgbbggbgurrrubg', 'rwuubugrrwwrugwgubwwugguburggugwgbbuwuwgugwgbugbggrwubg', 'ugugrgruubuuwwubwwrbgrbruwrwugwrwuwggruwggwbwrrrr', 'rbbguurwuubwrwbburruubuugbgugubgwggbggbgrrruwrurbwuggguubg', 'rwgwbuuuwrrugwbbbwgwrgbwuwwwbbbrwuubrgrurwwgw', 'bugbuurrugbrbburrggrbwbwuwwgbwwuuwgbwwgrgr', 'guwuuwrgugbrgwrbwwrrububruubuwwbwugwgugwrrbuwuwugrwubgubg', 'wgwbrubgrwugwguguuuruwbrubbuubbuugrbrbuugubwrrur', 'wbrbbwbuwubuwbubgurbbwwwgurwwguwgurrurbgwbrrrrgubg', 'ugguubrgrwwbugrbrwrbbwubwgbbbruubwbgbbwuwruubg', 'ugggbwbwrugwbwrubgwggugwruurwugrgugwgurrbbwbrww', 'rwurwgbrrbubwrbuurguuuruugbuwgwwrrwbgguubbbgbr', 'uwrrggwbwbwwbbwrurrgwbwwwwwubrwbgugrrgwgwbbbu', 'wurgwbbbgwrrubbbrrurubrbrugbwbwbwrwrrbrrrggwwwbrrbrbubu', 'grubruwugbggggwbgwwrwbugrgbwbwwwguurrubuwgubg', 'rrwbggruugbugubwbwrrrwrbguuuugwbgrgwbwrwgrbrrbwrruugwuwwr', 'ubrubwrburwwwgwbrrbuwwbbubggwuruubwbgwuwurubburbgrwugwr', 'wuwbbrgrgubrrbwurwuguurwrwuwgbuggwrgwwrrwrrwuuruubggwgbrw', 'gurbgbggwrgbguuruuugggwrgrrwrwgwgurgugugwwggwr', 'rrbwgwbbbrgguggurwubbggwwwuuwbbrbwrrggrrurbrbwubrurbwwuguu', 'uuwggwwrbrrbwrgurgrrgggrbgwuwburwwbggubggubg', 'rggurwuurwugwubbggwggbrbrubrrwgrwrrbrrrugrwrgrw', 'rbguwgwwbbgbwbuugrwbbuwwguwuwwwugruggwrbwguurw', 'burgwuuwuugugurgwurwuggbgwgrwwuggrubbrrgwbbbwbruugugrrggr', 'wgwgrugrgwruggrbwwggbuggbbrrbbggggrrrbbbuubbrgbgrbbwwurbu', 'gubgwwwwbbbuwguwruuubgwgwbgwuwguguburbrgwwwguubg', 'ubrwgrwrbwrrggguwgwurbwbbwugbrwrbbwgbbuuuwgbwuggbugbgrrgubg', 'grggggwgbubwbbbgggrwuubuwwbuguwrbrwgubbggrbww', 'urgurubbbbrbbgguubbuuwrgruggrbbwwwrrrwwrbrbbwrrbggg', 'ububuwruwburrwgwrbrrguwwbgbgbwggurrgrburubbgurgu', 'bbgwgubbuurrwgrgwurbugwburbwrrgurbwbrugwrgubg', 'buwwrbuggwrgurgubugggbwggrwggggrwuwbgwggrrrurw', 'uwbrwruwwwwgbbubbgwbuuwuwbbugguwwwwrguuwgbbgguwgubrrburubb', 'uwrrbwwwrwuugrwrbwbwgurwwwguwuuuuwggugbrbubbrbwwuuwwgrubg', 'rgwwwguugbuwbgwgrrbwbruugrbbbgurggwrrgruuggbgbuwubwrbgww', 'bwuwrwwrbbrbgwrbbbuuggwbbbwgbwwgwrrgbubbgwrrwbrubwwgbwrb', 'rrbgubgwguwurggbwurruwbwrrwrgwwgugrwgwwrbwggrruguubwbguggu', 'ggrbwgbbbbguugbbbubrrbwwrruwuwrgwbrggwwrrbwrwubg', 'wguuugbgrrrubwwrbggubbgbrugbrwuuwbgwbbbgbuugwwburw', 'wgbwbwwgubrrwwrwuwgbrurwwbwrgrgwbguuuwuurbgrbwburrgurwgwr', 'gwggwwbwggurrrbuuwbgugwgbrbugwrbugugggggwbwrubwuuuwrgbw', 'gwbwuwguwgrgrugbgruuugubgbgrwbwgwrwgwubgubg', 'buuggwwbrbugrrurbburgbbubrugwburwurwugruurbgwbuwgrbwrgubg', 'gbwuurbggwugubggurgbgrguuggbgurggbuugubgwgrwwurrgwrgubg', 'wubwrrgbgbbwburbuuwuugbwggwrwrgwwbguurgugwuwrrubg', 'ugruuruuwrburwwuuuwwbwrbwrwwgburrwwbguwgwrgrgrbgurburg', 'wwwwwgrggwgrugbgrubbwgurgwuubuuguwwbbggwbrwbwubg', 'gwrugrgbugbbgugrrrbrwuwguurbuuguubwwggubg', 'uwbubrwwbrggrrrubwwwrwbrwrgwguugrrbbbrurubg', 'bbgbuuwwggrbugbuburwwubrbubuuuuwburwwbuurbgwgwgugbrwgubbgw', 'rwrgrruggrgubrwuwwwwburwwrguugwgruwuugggrgwur', 'gggwbugwrwurrgwgwugwbugrbrrrrrwruwgbruruwwgububurbwrgbwggu', 'rwwggbgubbbrrurwuwrrbwruwruubruurwrgbubuggbuwrrrgguugrbuwr', 'bgguguwgrugubwgwbbbrwbuwrbrbwwrbwwrrubwrur', 'brrwwgbbbrbuurwrugbubuwgubbrwwwguurrgrbugrrr', 'ugugurwuugrwrbgwrgbwgrruuwugrrwwuggrbggbgrburbgwbwrwuwwug', 'wrgbbrugbrbwbgwrwgrrurwrurbugwrwgbgbggwuwggbbggu', 'wbwgrgwgbburgguwugwwguggrbgbwrbrubuguubg', 'wwrbububruggbwrgrwguwggugrrbbbrgubwrgruggubg', 'urgrgbggugubrggrbrrubbgbbrbrrwwrwggbwgrgbbgruruwbg', 'guwbgrwbbwrgubwugbbbugbrurugbbbguugbbbrgrrbubwwwuwbrww', 'bubgbwbrgubbrgubwrbwrgwwbruwrbwgruwbwwgbbbrwuggbbubugbr', 'wugrwugrrubbbgwubuububuubbrrurgwrrbuuwugbbrrg', 'gwrbbruwgbuuurrrbgbubbgbgbrrgurwbggbwrgbruwbgrwb', 'wwbgrwbuwwgbgbgbwugwuwgbrrubbrgurrbwbwrgwgbggbwubuwubg', 'gbrrgwgrrurrbuurgggugwbguuuguurggwwuwwrwuwbgwuwuuwuwgubg', 'wrwugwwrgwrbrrrbguwgbgwbrubwugrwguuwgugrwwwwrgugwrgwbw', 'rwrwgubrrrgrgurbggurgbrgwuubbubwgbgurgwbuurrggbwb', 'uwggwbggbgrwubrrrgwrwgbubwwbgbgbguuugguguuwwwrgrgwwrwwgubg', 'rrrwbuwrwwgwbwbgbrgrgwwruwguwggwrgrbbrubg', 'wgwuruurubuuwrugrurwwbwuggwrgwuwbuggwrruwugwwbwwgurwbrbbw', 'rrgburuuuwrgruwurrbwbwrwgrgrrwggwggwrguwgwbgubuwgu', 'wwwubgrrbwbrwwuwuggbrubrwugrrwggrurbuuugwurgguwwur', 'wuruuuwrrrbubbrruwwburguuugwgubbbrwwrwrgbgrgrrgugwrwbbb', 'gbwbbrguwuuugwwwwrubuuubgrwbbuwrgbuuguuwwwwbwwbuwgwrubg', 'bgwgwggurbrrbgrrbwubgguwrwbgruwugurbbwwurugrwrbwrubwbwwbr', 'wbwrwrbuubgururbwwwgrrwgwwbrugbubwwurgwrrg', 'bgbbwruugbbgrwggwbrrwwbbuburrrwgburubbrbguub', 'buwuuuuguwwrwgrgubuwgruwugrwgggurgbuguwwggggrurggw', 'grwuggrrrrbbwbwurgrwrwuwwgbgrbgbburggbuuuwwurubuugwurwuubu', 'rurburuwwrbbbwbbgugwbwrurwgwbbrgwrwguuwbbgrbruwurr', 'uburbbwwrbbrguwugugbrbrgbrwbubuuubwuubrwggrugugwrgwgwrbw', 'ggwubggruuwrburrwrwrrwuurgbwuguggrwrwuggugg', 'bwbgrburrubrbbuwbbrrrggrgrwrrgwuuwuwggubg', 'gwgbggurrruguugggggbguwrbguubbbuwurggrbrwrbgggbr', 'bwwwbrwgggruuruuwwrrugururrwrbrwbgbbbubbwwr', 'bbrbwwgwgugwuwwbrbbrbruwgwgbbbwubgbwguubuubuwrruwgg', 'ubbrubgwwwugbrugbggwrgwugwwgbbggbggburugubg', 'guguwrrwwggbwgwuugrgwgbwbrurgggwguggrubg', 'uuugubrgwrugwgbbwwrubwgwggbgbwuurrugggrbubbuw', 'rgbwwwugbrbwgwwuwwrbubggrggrwuurrbwgbggrruubw', 'ugrurgururugrggbbgbggugwwbgwbgguwbwwbbgbrguwbrwbbbguwrbb', 'gurbbbubgwwgbburwuubwbggbububguuwugwgbgrwbbuuubbruug', 'uwurrwubbbrwguwuwgugwurwbuggrgrurguubrgugbgurgbbwgwgwg', 'bbrbgrrggbuguugwbwggbgbuwuurggrubugggbuuururruuwbgwubg', 'gggwrugrrrwrwbwbbgbwuggubwbgbbggubuubgbbwbrg', 'uubrwrrugbrgrwgwgrbwgrugggubbubguwgbwrubgbggwgbgwrwgg', 'wrwrwgrrbrwbrugubggwwwwurwrbubwgwggbrbwwubg', 'gwbrgwrbggrguruubgwugubruggurrbwwuwwbgbrrwrguuwbbbguwr', 'ggrbwrrrurwrwbugrguuuwurgrbwrbugwrwbbgugbwbrbgbbwuruubg', 'rbrgbubgbubrggbwuwgruuwwbbwwrburuuuuugwwwbwurwburwrwwgbb', 'ubwurbruurgwubrbgbwrrburguugbbwugurgrbgruu', 'buubgggubbggrrrwrggbbugwbburwbwrgrgbbwbrbrbwbwgubg', 'rruwwuubbgwgbubbbubugggburrwgrwugwuguuwrrwubg', 'wurrwurbwbubbgrrggwbwrwrwubwrugruruwwgbgwgwgrw', 'rgwgrrurbbguuubgwuugubwrwwbrwbgugbrwrbgrbrrbb', 'uuwgwuuuurbguwgggrbwruuuwgrrbgrugrrrugwgugubbrww', 'bbbrrgugwurggwurwbgubggbgrurgwuwuwbrrugrggrgwrbrbrbgbr', 'grrrbbburbgbrrwrwugrgwgbrrrguwbwbrruwrubwg', 'wburgbwgrburguruurgggwgrwggbwuwwbwbwgwrgwwuwuguurbugur', 'wwbrrgwuuwuguugbrwbwrrbuwwrugbgbrgwuruwbrwubr', 'rbbggubrguwwwugbbubwurbwuwgbrbwugbrgubggguwbwbuwubg', 'uurruwruwbgbrrbrgbgrgbugbrubwrwurgwggrwugbruwrwubwggb', 'urugwbbwwrugwuwugrgrwrrgbburwgwwrbrbgwbrbrbgggrbrgruubg', 'buruuruggggbbgruugrrugggwuugruuwbrwwwuugwrubgrwwguwr', 'ugwguuwrwgwwbbrwbggwbwubgrgrwgubbguwbrbrggbbggrwgwbwgr', 'gbruuuurugbgwurbrgubbbuggwuruuubrwwgwrwugggrug', 'ggbubbbwugrwbwgbrrrbwgwbwwrwrurwwgruruwwbrbbr', 'uwgggurrrrgbwguwwbrrurrrbguguwugrgbrbuwugwubwgburb', 'bgrrwuuubgbwbbuubwrwwubbwwuwbwrbbrurgguggrwuggubg', 'buwugwurwbrruuurbbbbrguburrwgbbwgruugwuugwgbbugwggwur', 'wrrgggwuwgugurrgbbbuwrruuuubgrbrbuugrwbuuggrgwbrwurubg', 'rgggrwbrgwguwburbgbugrgubbguwbwrbwubwwwrgbbuwrwbrrburg', 'guwbbrgwbwuugruuruggubrguuugwgwrgwuggwbgubwbbuwrrubg', 'gbrwurwubgbrrbuwwrgburbwggbuwbbwwubuwggwbbrbrguurgubg', 'ugburwgwguuuguugrggrgwuwrgugwgwuruwugrrgurbugguww', 'wbbubbubgbbbbwbrbwgrbrrubwgrrbuwuggwgbbwguu', 'uubruuwgbgguwbrggrgbrgbruruwgwbwrrbuurruwrurbwbbrr', 'uuggrbuggubwwurbbburgwubrwwugubbrggbwbugrbrggbwugubrgwubg', 'urwbbbwggrwgwggbgwbwwggrwgggubuubggbbwrgwbgrwgwbwbg', 'wugrwrbuwwrbwbgbubugwbgwbwbrrrwbwbgrwubrgbwbwrguwbwburguubg', 'rwggrruuruuuwuubgwugubbwbwugwwugggbrrbrwwggbruugbg', 'brrwwwubgwbubugrrguuwbrwwgururburbbbbrbgwrbbrubbbug', 'gbbrwuwgwbgbubwrwburrbbwbbuwwgrrbuuwurubg', 'uubrggurugugurbuurgbbbururubbgguubgrruwgurburggbgww', 'gbwwgbgruwuuuwwgggwgrbuurrgubuuwguwuuuuwwggwuwurbwubu', 'gurrbgwuuugrgguubbwgbgurbwwruwwggrrgwwgwggggrg', 'wbubwgwurrrgrguwrrubrwwgbugbburbgwburwgwwrrbrguuurubg', 'gggrgugwugrrgrgrguwwuuuuubrbbbguwbggguburwgwbubgwwgu', 'rwbbgrurwuggbwgwgugbuuugrwgbwwrwubrwgrurgrwbbggrbrrwbwgwrubg', 'rbruubuwggrgwubwguuwwubguwurbguuwbuuwgbrwrbwrrbrg', 'gurgubwrwrbrgruwgruwbrbgwgbggggubwrguurruwruuugw', 'brbbggrrrbwrgwwwwrggbuwurbbwbggurbrbbbwuuuggubg', 'uwbgbgrwbbwbguguggbbbgbuwwgwuwwbgurubbgugrrggwbrrwrrurgw', 'wururrbbbbrgggrrgbbgwrgwgrwwwrbbwgubgbuwuuurubg', 'rgubrrbbwwwggrrwgwrwbbwrwwwgbgbbrruggugrbuwgugwbrr', 'wuwguggubbwwwbuuguuugurgwgrrwruuggugbgrwguwuub', 'rbwwurubbwuwubbggurgbwwbubrrubbwuurwwrwgrbubw', 'bgruubugbrgbgbuuwubrbgbuwrguuuurbuwguubgguubwbrwb', 'rugugurrwbuwbgwbwurwwgwrrurbbuwbgruugrguwrwuwbwwgbwwrwrgw', 'rwurggrbrwbuggguuuggggrgbbgwwrrbwggugwuurrr', 'ruwubbggwrgwrggwbrbgggubwugbuggwubbubwbruuwwrw', 'wruwbbrubwrrbrbgurguuwbuggrrwbrrgrwrwwrubwwwwubbww', 'urrrwuubwbubwrguubgbwuubgrgwrbugubrwwbgrrrwb', 'wgwuwrwgggurrwwguwrurwbwuwubububgbgbwwbwggwbwbgwrgbrwbwu', 'rwgugwubburuubwwguwwruwbrbgguwrbgwbbwrgugrbgw', 'rrbwgurbgwuwwwbgggubwguwgbgwwbuggrrubuwbggbguggwggb', 'ruggwgbgrburwrgrrbrrurwwgwwrbrggrrgrbrgbgwrubg', 'rwguwrugggrugbwwrggrrbbwgbugggrgwrwrgwgwuwbuuggbwww', 'ugbwggguwwggwugbuuwbrrgurubrrgwgburrbguwuwuwwuurbwu', 'ugurgwbgbuwwrrwgggbrwwruburrrgbrrbburggruruwgrrurbb', 'wrgbwwrgguubrgrwrwrbwuwuuruwuburgwbgurwgurbubbguwrguggwrr', 'rugugrgubbgwbrwgggurbruggbburbugwbbwwguurgrbrgubbrub', 'gbwguuuwrrwwwwuwbrwbbwwruuwruwwbggbbwrgubrrrggbrbgrurgwubg', 'rburugwrggrbwuwggwburgurrwrgruubbbwgubgubg', 'ugubbgrgbwggururuuwbruuuugrgbubrugwbgrrgwubg', 'rguurrrubbrwburggburrbbgguggrwggrgrguwbrurrrgu', 'rbwrrbggwwuubbbwgrrwbrrwrwggugrgbubburwgbrgbbuuuggbrg', 'rbbubgurwwgwwggbbwwwbgwbbubruguwwwrrgbwggg', 'grbwgruugguwgwbrrgbrwwggurbwgugwgbrrurbwrwbgurgg', 'wuruwwubuubwugwrgwwgguugbgbrgguuubgbrrbwbuwbwwuwub', 'brbwbgwwrrwwwrruwbgrbwbrrbrrwbwuubbbbrrbwbuubbrurbruwrbr', 'ugwbrgrgugbgubrwwrgbrgbugbgwrrbgwruwuburruwwbgrrrggubggu', 'wgbwbwgwbwuuwbugguuwgwrruggruuuggwuwrgwwuuubbrrgggbbu', 'uwbrguwgururruuubuwgbwbuuwgbwgbugwrwrwbwuwrwwgwur', 'bgrgbrwgwrwbgbgwwrwbwugurbgbgguwbuuwubwugrubg', 'bgbwbrgguruwubrrwrwbbwuuugbuguguubgggbwwrugwwb', 'rwbggbggrrrgggwugwuwwrwrwugbrbwrbgbgbgwggrgrwbwrgw', 'buwrruuwubrrgrwbgbrwgbbrbgrbbgrrbrgbgrgrwbrwwrruuwbugwgr', 'rgrbuuwrrwwubbgwggbubwrrbwuguubbugwrbuugruwrgrgwrwg', 'bgwgbwgrbbgrgbrbuguuubwugrwgbrubrwbbbwggubwbur', 'rwbbgbwwrrbruwuwbrrbbubwwbwwwbgbgwurwubg', 'wubrgwugwbwugwrbbruurwuwgugwburuwbbrgubbrwwwbbwrw', 'ugubwwrwwbrrbbrwrwuuuwburrrrwwbuuubwguwguuwbwurug', 'brgrugbugbuurgugbwgwubbrubwbugguuuurbbbwrb', 'grgruggugbbbwurgrwrwrwuuubugbbgggrrwwbwbggb', 'bwrwuuuuuwbwruwwwrubrburrrrburgubbgubgbbrgguwwwbgw', 'guburrbubwrrwwwubgrguruwwuugwubwrgwubrrubugwgbgurubg', 'rwrrwbwwgwgubggurrbbuwrbubwrwwwurwugrgubrrbbw', 'rbuwbwbbwrgruuugwrwgwruubuubbguggrguuubuubburrgguurrgbrw', 'wubbwrgbbbruwrgbbrbgugbgbuggbgbrbrbguwwgwgrwgbwrgb', 'wurrbbrburgbgbrbgbwruwuwwrgrrggbgbrguwbggwgbgwrrubg', 'grrwwgwwbgwbugurrgbbwrgwbugwrrwugggwururubrurwguuur', 'ururwugguggbuurgbwrwbuwrwburruwwrurrrgubbrbrbwrruurbwgrug', 'grrbruuuuwuwwwrrwubwgguwgbruuuwgrrbwwurgwubg', 'wwbguwrbwubggrurrgruurwgwbruwrubrbwubrwrwwgguwgwwbwgwbuubg', 'guwgbrrbggbgwuubwguurubrgwgubrrgbrwbwubburuubrwbgubrrbwgubg', 'rwgrwuubuwbbguruburuggugrurgbuwwrurbrggwwwrwwwuwrbbbbgubg', 'ggrgwwwuwbwgburggurwwugwrwburuubwbwguuubg', 'wbbgbgwgwgrrgwbruuurwurwbgwbubwuruwuurbbgrubuuwbgubg', 'bgguggrrrgbwuubgrwburubggrgwuuuggwwubbrgrrgbrwbwbguwbw', 'grbubwguruugrgwrurubwwggbbwbbrurbgggbwguwubuwwwwwrwwwr', 'brgbuuugwbbuburrrbrbgrwugwbgwgrbgbrugwbrrwgrubg', 'rggbbbuburrruwuuwbrbbwrurburrurwgwbrrrbbrwrwgrbuwrgruubg', 'uwrwgwgwurwuwgrrrwrbuurgguruwwurwuurggugguwgbbrwbrbuu', 'wwruwrwrwwwwuruuuuuuuuuurgwbwwuuurrwrwgbgrgubg', 'rrbgbrwwwwbgurubrgwgbwwgggrurwugrwrwruguubrwurgurbgbgwubgb', 'gurrwrrrbwgwguwbrbgrrbrbbbuugrrrubggbuwrwuug', 'gbrbwrgubwrggguwbrugbbwgwuwrwwggbuwwuugrwbgbugbuggrrbgrubg', 'gugruuuuuwbgbgrrbbggrrwwuuwwgrwrrwbuggurrgwrbg', 'bwrbgruggbrbbbguurgurrwggbrubrbrubwwbrgguw', 'rrwrgrwbggurbwrruwbbugruuwgbrgrwbwruuguwbrbrugrruwwwgggww', 'rbguubuwgrugurugrbbubwubwwwubwgwwrggurbwurwuw', 'rrgguwwrwrgrbrwbwgugurgbrrrwuwrggbwrbbbrbgbbb', 'rrrwbuuubuwgrubrurbbwburrrwrgwbgbwgbbugrrrrrw', 'rwugbrgbbwbwugrbrrubwbrubbwwwuwbrgrwgbuggbrwwwrwurrubg', 'grrwwuwbrbggrwwwwrbbbbbburbubrubgwwbwgwrubwuubgrwrbwruurwubg', 'rugubrbwwrurgrrbgrubrwbbugubrrbbbuuwbwburgbuwbbggwrrrbrubg', 'rgwgwuubbwuwrbbwrbwubwgbrgggbgurbrurrguuubg', 'uwuuuubrgbbrgbwgrbbwrrbwbgurbwuwrbuwgwrwwru', 'uwubuggbuurwruuwrugbbwgggwgbgbuurgrgrrbbwbguwbuugbgwwwuw', 'ubburgbwubgubguurugwruwrurbwbgurwuuwbbbbgggwg', 'ubwwrbuwgbwwwrwguubbbrbggwururuugbbuggrrugwrrwgwwbbggruubg']\n",
      "Possible designs count: 272\n"
     ]
    }
   ],
   "source": [
    "def main():\n",
    "    # Read input file\n",
    "    with open('input.txt', 'r') as f:\n",
    "        lines = f.read().splitlines()\n",
    "\n",
    "    # Parse patterns\n",
    "    patterns = [p.strip() for p in lines[0].split(',')]\n",
    "\n",
    "    # Parse designs\n",
    "    designs = [line.strip() for line in lines[2:] if line.strip()]\n",
    "\n",
    "    print(\"Patterns:\", patterns)\n",
    "    print(\"Designs:\", designs)\n",
    "\n",
    "    # Function to check if a design is possible\n",
    "    def is_possible(design):\n",
    "        dp = [False] * (len(design) + 1)\n",
    "        dp[0] = True\n",
    "        for i in range(len(design)):\n",
    "            if dp[i]:\n",
    "                for pattern in patterns:\n",
    "                    pattern_length = len(pattern)\n",
    "                    if i + pattern_length <= len(design) and design[i:i+pattern_length] == pattern:\n",
    "                        dp[i + pattern_length] = True\n",
    "        return dp[len(design)]\n",
    "\n",
    "    # Count number of possible designs\n",
    "    count = 0\n",
    "    for design in designs:\n",
    "        if is_possible(design):\n",
    "            count += 1\n",
    "    print(\"Possible designs count:\", count)\n",
    "\n",
    "if __name__ == \"__main__\":\n",
    "    main()"
   ]
  },
  {
   "cell_type": "markdown",
   "metadata": {},
   "source": [
    "## Part 2"
   ]
  },
  {
   "cell_type": "code",
   "execution_count": 5,
   "metadata": {},
   "outputs": [
    {
     "name": "stdout",
     "output_type": "stream",
     "text": [
      "1041529704688380\n"
     ]
    }
   ],
   "source": [
    "def main():\n",
    "    # Read input file\n",
    "    with open('input.txt', 'r') as f:\n",
    "        lines = f.read().splitlines()\n",
    "\n",
    "    # Parse patterns\n",
    "    patterns = [p.strip() for p in lines[0].split(',')]\n",
    "\n",
    "    # Parse designs\n",
    "    designs = [line.strip() for line in lines[2:] if line.strip()]\n",
    "\n",
    "    # Function to count the number of ways a design can be made\n",
    "    def count_ways(design):\n",
    "        dp = [0] * (len(design) + 1)\n",
    "        dp[0] = 1  # There's one way to make an empty design\n",
    "        for i in range(len(design)):\n",
    "            if dp[i]:\n",
    "                for pattern in patterns:\n",
    "                    pattern_length = len(pattern)\n",
    "                    if i + pattern_length <= len(design) and design[i:i+pattern_length] == pattern:\n",
    "                        dp[i + pattern_length] += dp[i]\n",
    "        return dp[len(design)]\n",
    "\n",
    "    # Calculate the total number of ways for all designs\n",
    "    total_ways = 0\n",
    "    for design in designs:\n",
    "        total_ways += count_ways(design)\n",
    "    return total_ways\n",
    "\n",
    "print(main())"
   ]
  }
 ],
 "metadata": {
  "kernelspec": {
   "display_name": "Python 3",
   "language": "python",
   "name": "python3"
  },
  "language_info": {
   "codemirror_mode": {
    "name": "ipython",
    "version": 3
   },
   "file_extension": ".py",
   "mimetype": "text/x-python",
   "name": "python",
   "nbconvert_exporter": "python",
   "pygments_lexer": "ipython3",
   "version": "3.11.6"
  }
 },
 "nbformat": 4,
 "nbformat_minor": 2
}
