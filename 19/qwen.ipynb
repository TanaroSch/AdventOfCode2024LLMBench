{
 "cells": [
  {
   "cell_type": "markdown",
   "metadata": {},
   "source": [
    "# Day 19 - Qwen Coder 32B"
   ]
  },
  {
   "cell_type": "code",
   "execution_count": 1,
   "metadata": {},
   "outputs": [
    {
     "name": "stdout",
     "output_type": "stream",
     "text": [
      "272\n"
     ]
    }
   ],
   "source": [
    "def can_make_design(design, patterns, memo):\n",
    "    if design in memo:\n",
    "        return memo[design]\n",
    "    \n",
    "    if not design:\n",
    "        return True\n",
    "    \n",
    "    for pattern in patterns:\n",
    "        if design.startswith(pattern):\n",
    "            if can_make_design(design[len(pattern):], patterns, memo):\n",
    "                memo[design] = True\n",
    "                return True\n",
    "    \n",
    "    memo[design] = False\n",
    "    return False\n",
    "\n",
    "def main():\n",
    "    with open('input.txt', 'r') as file:\n",
    "        lines = file.readlines()\n",
    "    \n",
    "    # Read towel patterns\n",
    "    patterns = lines[0].strip().split(', ')\n",
    "    \n",
    "    # Read designs\n",
    "    designs = [line.strip() for line in lines[2:]]\n",
    "    \n",
    "    memo = {}\n",
    "    possible_count = 0\n",
    "    \n",
    "    for design in designs:\n",
    "        if can_make_design(design, patterns, memo):\n",
    "            possible_count += 1\n",
    "    \n",
    "    print(possible_count)\n",
    "\n",
    "if __name__ == \"__main__\":\n",
    "    main()"
   ]
  },
  {
   "cell_type": "markdown",
   "metadata": {},
   "source": [
    "## Part 2"
   ]
  },
  {
   "cell_type": "code",
   "execution_count": 2,
   "metadata": {},
   "outputs": [
    {
     "name": "stdout",
     "output_type": "stream",
     "text": [
      "1041529704688380\n"
     ]
    }
   ],
   "source": [
    "def count_ways_to_make_design(design, patterns, memo):\n",
    "    if design in memo:\n",
    "        return memo[design]\n",
    "    \n",
    "    if not design:\n",
    "        return 1\n",
    "    \n",
    "    count = 0\n",
    "    for pattern in patterns:\n",
    "        if design.startswith(pattern):\n",
    "            count += count_ways_to_make_design(design[len(pattern):], patterns, memo)\n",
    "    \n",
    "    memo[design] = count\n",
    "    return count\n",
    "\n",
    "def main():\n",
    "    with open('input.txt', 'r') as file:\n",
    "        lines = file.readlines()\n",
    "    \n",
    "    # Read towel patterns\n",
    "    patterns = lines[0].strip().split(', ')\n",
    "    \n",
    "    # Read designs\n",
    "    designs = [line.strip() for line in lines[2:]]\n",
    "    \n",
    "    memo = {}\n",
    "    total_ways = 0\n",
    "    \n",
    "    for design in designs:\n",
    "        total_ways += count_ways_to_make_design(design, patterns, memo)\n",
    "    \n",
    "    print(total_ways)\n",
    "\n",
    "if __name__ == \"__main__\":\n",
    "    main()"
   ]
  }
 ],
 "metadata": {
  "kernelspec": {
   "display_name": "AdventOfCode",
   "language": "python",
   "name": "python3"
  },
  "language_info": {
   "codemirror_mode": {
    "name": "ipython",
    "version": 3
   },
   "file_extension": ".py",
   "mimetype": "text/x-python",
   "name": "python",
   "nbconvert_exporter": "python",
   "pygments_lexer": "ipython3",
   "version": "3.10.15"
  }
 },
 "nbformat": 4,
 "nbformat_minor": 2
}
