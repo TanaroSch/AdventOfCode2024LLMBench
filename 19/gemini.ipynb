{
 "cells": [
  {
   "cell_type": "markdown",
   "metadata": {},
   "source": [
    "# Day 19 - Gemini"
   ]
  },
  {
   "cell_type": "code",
   "execution_count": 1,
   "metadata": {},
   "outputs": [
    {
     "name": "stdout",
     "output_type": "stream",
     "text": [
      "0\n"
     ]
    }
   ],
   "source": [
    "def solve():\n",
    "    with open(\"input.txt\", \"r\") as f:\n",
    "        patterns_line = f.readline().strip()\n",
    "        f.readline()  # Skip the empty line\n",
    "        designs = [line.strip() for line in f]\n",
    "\n",
    "    patterns = set(patterns_line.split(\",\"))\n",
    "    \n",
    "    possible_designs = 0\n",
    "    for design in designs:\n",
    "        if is_possible(design, patterns):\n",
    "            possible_designs += 1\n",
    "            \n",
    "    print(possible_designs)\n",
    "\n",
    "def is_possible(design, patterns):\n",
    "    n = len(design)\n",
    "    dp = [False] * (n + 1)\n",
    "    dp[0] = True\n",
    "    \n",
    "    for i in range(1, n + 1):\n",
    "        for j in range(1, i + 1):\n",
    "            if design[j-1:i] in patterns and dp[j-1]:\n",
    "                dp[i] = True\n",
    "                break\n",
    "    return dp[n]\n",
    "\n",
    "solve()"
   ]
  },
  {
   "cell_type": "code",
   "execution_count": 2,
   "metadata": {},
   "outputs": [
    {
     "name": "stdout",
     "output_type": "stream",
     "text": [
      "0\n"
     ]
    }
   ],
   "source": [
    "def solve():\n",
    "    with open(\"input.txt\", \"r\") as f:\n",
    "        patterns_line = f.readline().strip()\n",
    "        f.readline()  # Skip the empty line\n",
    "        designs = [line.strip() for line in f]\n",
    "\n",
    "    patterns = set(patterns_line.split(\",\"))\n",
    "    \n",
    "    possible_designs = 0\n",
    "    for design in designs:\n",
    "        if is_possible(design, patterns):\n",
    "            possible_designs += 1\n",
    "            \n",
    "    print(possible_designs)\n",
    "\n",
    "def is_possible(design, patterns):\n",
    "    n = len(design)\n",
    "    dp = [False] * (n + 1)\n",
    "    dp[0] = True\n",
    "    \n",
    "    for i in range(n + 1):\n",
    "        if dp[i]:\n",
    "          for j in range(i + 1, n + 1):\n",
    "              if design[i:j] in patterns:\n",
    "                  dp[j] = True\n",
    "    \n",
    "    return dp[n]\n",
    "\n",
    "solve()"
   ]
  },
  {
   "cell_type": "code",
   "execution_count": 3,
   "metadata": {},
   "outputs": [
    {
     "name": "stdout",
     "output_type": "stream",
     "text": [
      "272\n"
     ]
    }
   ],
   "source": [
    "def solve():\n",
    "    with open(\"input.txt\", \"r\") as f:\n",
    "        lines = f.readlines()\n",
    "\n",
    "    towels = lines[0].strip().split(\", \")\n",
    "    designs = [line.strip() for line in lines[2:]]\n",
    "\n",
    "    possible_designs = 0\n",
    "    for design in designs:\n",
    "        if is_possible(design, towels):\n",
    "            possible_designs += 1\n",
    "\n",
    "    print(possible_designs)\n",
    "\n",
    "def is_possible(design, towels):\n",
    "    dp = [False] * (len(design) + 1)\n",
    "    dp[0] = True\n",
    "\n",
    "    for i in range(len(design) + 1):\n",
    "        if dp[i]:\n",
    "            for towel in towels:\n",
    "                if i + len(towel) <= len(design) and design[i:i + len(towel)] == towel:\n",
    "                    dp[i + len(towel)] = True\n",
    "\n",
    "    return dp[len(design)]\n",
    "\n",
    "solve()"
   ]
  },
  {
   "cell_type": "markdown",
   "metadata": {},
   "source": [
    "## Part 2"
   ]
  },
  {
   "cell_type": "code",
   "execution_count": 4,
   "metadata": {},
   "outputs": [
    {
     "name": "stdout",
     "output_type": "stream",
     "text": [
      "1041529704688380\n"
     ]
    }
   ],
   "source": [
    "def solve():\n",
    "    with open(\"input.txt\", \"r\") as f:\n",
    "        lines = f.readlines()\n",
    "\n",
    "    towels = lines[0].strip().split(\", \")\n",
    "    designs = [line.strip() for line in lines[2:]]\n",
    "\n",
    "    total_ways = 0\n",
    "    for design in designs:\n",
    "        total_ways += count_ways(design, towels)\n",
    "\n",
    "    print(total_ways)\n",
    "\n",
    "def count_ways(design, towels):\n",
    "    dp = [0] * (len(design) + 1)\n",
    "    dp[0] = 1\n",
    "\n",
    "    for i in range(len(design) + 1):\n",
    "        if dp[i] > 0:\n",
    "            for towel in towels:\n",
    "                if i + len(towel) <= len(design) and design[i:i + len(towel)] == towel:\n",
    "                    dp[i + len(towel)] += dp[i]\n",
    "\n",
    "    return dp[len(design)]\n",
    "\n",
    "solve()"
   ]
  }
 ],
 "metadata": {
  "kernelspec": {
   "display_name": "AdventOfCode",
   "language": "python",
   "name": "python3"
  },
  "language_info": {
   "codemirror_mode": {
    "name": "ipython",
    "version": 3
   },
   "file_extension": ".py",
   "mimetype": "text/x-python",
   "name": "python",
   "nbconvert_exporter": "python",
   "pygments_lexer": "ipython3",
   "version": "3.10.15"
  }
 },
 "nbformat": 4,
 "nbformat_minor": 2
}
