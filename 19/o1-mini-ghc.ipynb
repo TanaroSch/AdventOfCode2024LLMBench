{
 "cells": [
  {
   "cell_type": "markdown",
   "metadata": {},
   "source": [
    "# Day 19 - o1-mini (GHC)"
   ]
  },
  {
   "cell_type": "code",
   "execution_count": 1,
   "metadata": {},
   "outputs": [
    {
     "name": "stdout",
     "output_type": "stream",
     "text": [
      "272\n"
     ]
    }
   ],
   "source": [
    "def main():\n",
    "    with open('input.txt', 'r') as file:\n",
    "        lines = file.read().splitlines()\n",
    "\n",
    "    # Split the input into patterns and designs\n",
    "    patterns = lines[0].split(', ')\n",
    "    designs = [line for line in lines[1:] if line]\n",
    "\n",
    "    pattern_set = set(patterns)\n",
    "\n",
    "    def can_form(design, memo={}):\n",
    "        if design in memo:\n",
    "            return memo[design]\n",
    "        if not design:\n",
    "            return True\n",
    "        for pattern in pattern_set:\n",
    "            if design.startswith(pattern):\n",
    "                if can_form(design[len(pattern):], memo):\n",
    "                    memo[design] = True\n",
    "                    return True\n",
    "        memo[design] = False\n",
    "        return False\n",
    "\n",
    "    count = 0\n",
    "    for design in designs:\n",
    "        if can_form(design):\n",
    "            count += 1\n",
    "\n",
    "    print(count)\n",
    "\n",
    "if __name__ == \"__main__\":\n",
    "    main()"
   ]
  },
  {
   "cell_type": "markdown",
   "metadata": {},
   "source": [
    "## Part 2"
   ]
  },
  {
   "cell_type": "code",
   "execution_count": 2,
   "metadata": {},
   "outputs": [
    {
     "name": "stdout",
     "output_type": "stream",
     "text": [
      "1041529704688380\n"
     ]
    }
   ],
   "source": [
    "def main():\n",
    "    with open('input.txt', 'r') as file:\n",
    "        lines = file.read().splitlines()\n",
    "\n",
    "    # Split the input into patterns and designs\n",
    "    patterns = lines[0].split(', ')\n",
    "    designs = [line for line in lines[1:] if line]\n",
    "\n",
    "    pattern_set = set(patterns)\n",
    "\n",
    "    def count_ways(design, memo={}):\n",
    "        if design in memo:\n",
    "            return memo[design]\n",
    "        if not design:\n",
    "            return 1\n",
    "        total = 0\n",
    "        for pattern in pattern_set:\n",
    "            if design.startswith(pattern):\n",
    "                total += count_ways(design[len(pattern):], memo)\n",
    "        memo[design] = total\n",
    "        return total\n",
    "\n",
    "    total_ways = 0\n",
    "    for design in designs:\n",
    "        ways = count_ways(design)\n",
    "        total_ways += ways\n",
    "\n",
    "    print(total_ways)\n",
    "\n",
    "if __name__ == \"__main__\":\n",
    "    main()"
   ]
  }
 ],
 "metadata": {
  "kernelspec": {
   "display_name": "Python 3",
   "language": "python",
   "name": "python3"
  },
  "language_info": {
   "codemirror_mode": {
    "name": "ipython",
    "version": 3
   },
   "file_extension": ".py",
   "mimetype": "text/x-python",
   "name": "python",
   "nbconvert_exporter": "python",
   "pygments_lexer": "ipython3",
   "version": "3.11.6"
  }
 },
 "nbformat": 4,
 "nbformat_minor": 2
}
