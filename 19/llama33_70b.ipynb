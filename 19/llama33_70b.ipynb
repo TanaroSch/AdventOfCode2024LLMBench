{
 "cells": [
  {
   "cell_type": "markdown",
   "metadata": {},
   "source": [
    "# Day 19 - Llama 3.3 70B"
   ]
  },
  {
   "cell_type": "code",
   "execution_count": 1,
   "metadata": {},
   "outputs": [
    {
     "name": "stdout",
     "output_type": "stream",
     "text": [
      "Possible designs: 241\n"
     ]
    }
   ],
   "source": [
    "def match(towel_patterns, design):\n",
    "    \"\"\"Check if a design can be made with the given towel patterns.\"\"\"\n",
    "    i = 0\n",
    "    while i < len(design):\n",
    "        matched = False\n",
    "        for pattern in towel_patterns:\n",
    "            if design[i:].startswith(pattern):\n",
    "                i += len(pattern)\n",
    "                matched = True\n",
    "                break\n",
    "        if not matched:\n",
    "            return False\n",
    "    return True\n",
    "\n",
    "def main():\n",
    "    with open('input.txt') as f:\n",
    "        lines = f.read().splitlines()\n",
    "\n",
    "    # Read towel patterns\n",
    "    towel_patterns = lines[0].split(', ')\n",
    "\n",
    "    # Read designs\n",
    "    designs = lines[2:]\n",
    "\n",
    "    # Check each design\n",
    "    possible_designs = 0\n",
    "    for design in designs:\n",
    "        if match(towel_patterns, design):\n",
    "            possible_designs += 1\n",
    "\n",
    "    print(f\"Possible designs: {possible_designs}\")\n",
    "\n",
    "if __name__ == \"__main__\":\n",
    "    main()"
   ]
  },
  {
   "cell_type": "code",
   "execution_count": null,
   "metadata": {},
   "outputs": [],
   "source": [
    "def match(towel_patterns, design):\n",
    "    \"\"\"Check if a design can be made with the given towel patterns.\"\"\"\n",
    "    def dfs(start):\n",
    "        if start == len(design):\n",
    "            return True\n",
    "        for pattern in towel_patterns:\n",
    "            if design[start:].startswith(pattern):\n",
    "                if dfs(start + len(pattern)):\n",
    "                    return True\n",
    "        return False\n",
    "\n",
    "    return dfs(0)\n",
    "\n",
    "def main():\n",
    "    with open('input.txt') as f:\n",
    "        lines = f.read().splitlines()\n",
    "\n",
    "    # Read towel patterns\n",
    "    towel_patterns = lines[0].split(', ')\n",
    "\n",
    "    # Read designs\n",
    "    designs = lines[2:]\n",
    "\n",
    "    # Check each design\n",
    "    possible_designs = 0\n",
    "    for design in designs:\n",
    "        if match(towel_patterns, design):\n",
    "            possible_designs += 1\n",
    "\n",
    "    print(f\"Possible designs: {possible_designs}\")\n",
    "\n",
    "if __name__ == \"__main__\":\n",
    "    main()"
   ]
  },
  {
   "cell_type": "code",
   "execution_count": 3,
   "metadata": {},
   "outputs": [
    {
     "name": "stdout",
     "output_type": "stream",
     "text": [
      "Possible designs: 272\n"
     ]
    }
   ],
   "source": [
    "def match(towel_patterns, design):\n",
    "    \"\"\"Check if a design can be made with the given towel patterns.\"\"\"\n",
    "    memo = {}\n",
    "\n",
    "    def dfs(start):\n",
    "        if start == len(design):\n",
    "            return True\n",
    "        if start in memo:\n",
    "            return memo[start]\n",
    "        for pattern in towel_patterns:\n",
    "            if design[start:].startswith(pattern):\n",
    "                if dfs(start + len(pattern)):\n",
    "                    memo[start] = True\n",
    "                    return True\n",
    "        memo[start] = False\n",
    "        return False\n",
    "\n",
    "    return dfs(0)\n",
    "\n",
    "def main():\n",
    "    with open('input.txt') as f:\n",
    "        lines = f.read().splitlines()\n",
    "\n",
    "    # Read towel patterns\n",
    "    towel_patterns = lines[0].split(', ')\n",
    "\n",
    "    # Read designs\n",
    "    designs = lines[2:]\n",
    "\n",
    "    # Check each design\n",
    "    possible_designs = 0\n",
    "    for design in designs:\n",
    "        if match(towel_patterns, design):\n",
    "            possible_designs += 1\n",
    "\n",
    "    print(f\"Possible designs: {possible_designs}\")\n",
    "\n",
    "if __name__ == \"__main__\":\n",
    "    main()"
   ]
  },
  {
   "cell_type": "markdown",
   "metadata": {},
   "source": [
    "## Part 2"
   ]
  },
  {
   "cell_type": "code",
   "execution_count": 4,
   "metadata": {},
   "outputs": [
    {
     "name": "stdout",
     "output_type": "stream",
     "text": [
      "1041529704688380\n"
     ]
    }
   ],
   "source": [
    "import re\n",
    "\n",
    "# Read the input file\n",
    "with open('input.txt', 'r') as file:\n",
    "    lines = file.readlines()\n",
    "\n",
    "# Split the lines into towel patterns and designs\n",
    "towel_patterns = lines[0].strip().split(', ')\n",
    "designs = lines[2:]\n",
    "\n",
    "# Strip newline characters from the designs\n",
    "designs = [design.strip() for design in designs]\n",
    "\n",
    "# Initialize a counter for the total number of ways\n",
    "total_ways = 0\n",
    "\n",
    "# Iterate over each design\n",
    "for design in designs:\n",
    "    # Initialize a dictionary to store the results of subproblems\n",
    "    memo = {}\n",
    "\n",
    "    # Define a recursive function to calculate the number of ways\n",
    "    def calculate_ways(design):\n",
    "        # If the design is empty, return 1\n",
    "        if not design:\n",
    "            return 1\n",
    "\n",
    "        # If the design is already in the memo, return the stored result\n",
    "        if design in memo:\n",
    "            return memo[design]\n",
    "\n",
    "        # Initialize a counter for the number of ways\n",
    "        ways = 0\n",
    "\n",
    "        # Iterate over each towel pattern\n",
    "        for pattern in towel_patterns:\n",
    "            # If the design starts with the pattern, calculate the number of ways for the remaining design\n",
    "            if design.startswith(pattern):\n",
    "                ways += calculate_ways(design[len(pattern):])\n",
    "\n",
    "        # Store the result in the memo\n",
    "        memo[design] = ways\n",
    "\n",
    "        # Return the result\n",
    "        return ways\n",
    "\n",
    "    # Calculate the number of ways for the current design\n",
    "    design_ways = calculate_ways(design)\n",
    "\n",
    "    # Add the number of ways for the current design to the total\n",
    "    total_ways += design_ways\n",
    "\n",
    "# Print the total number of ways\n",
    "print(total_ways)"
   ]
  }
 ],
 "metadata": {
  "kernelspec": {
   "display_name": "AdventOfCode",
   "language": "python",
   "name": "python3"
  },
  "language_info": {
   "codemirror_mode": {
    "name": "ipython",
    "version": 3
   },
   "file_extension": ".py",
   "mimetype": "text/x-python",
   "name": "python",
   "nbconvert_exporter": "python",
   "pygments_lexer": "ipython3",
   "version": "3.10.15"
  }
 },
 "nbformat": 4,
 "nbformat_minor": 2
}
