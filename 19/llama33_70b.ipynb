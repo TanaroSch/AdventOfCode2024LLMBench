{
 "cells": [
  {
   "cell_type": "markdown",
   "metadata": {},
   "source": [
    "# Day 19 - Llama 3.3 70B"
   ]
  },
  {
   "cell_type": "code",
   "execution_count": 1,
   "metadata": {},
   "outputs": [
    {
     "name": "stdout",
     "output_type": "stream",
     "text": [
      "Possible designs: 241\n"
     ]
    }
   ],
   "source": [
    "def match(towel_patterns, design):\n",
    "    \"\"\"Check if a design can be made with the given towel patterns.\"\"\"\n",
    "    i = 0\n",
    "    while i < len(design):\n",
    "        matched = False\n",
    "        for pattern in towel_patterns:\n",
    "            if design[i:].startswith(pattern):\n",
    "                i += len(pattern)\n",
    "                matched = True\n",
    "                break\n",
    "        if not matched:\n",
    "            return False\n",
    "    return True\n",
    "\n",
    "def main():\n",
    "    with open('input.txt') as f:\n",
    "        lines = f.read().splitlines()\n",
    "\n",
    "    # Read towel patterns\n",
    "    towel_patterns = lines[0].split(', ')\n",
    "\n",
    "    # Read designs\n",
    "    designs = lines[2:]\n",
    "\n",
    "    # Check each design\n",
    "    possible_designs = 0\n",
    "    for design in designs:\n",
    "        if match(towel_patterns, design):\n",
    "            possible_designs += 1\n",
    "\n",
    "    print(f\"Possible designs: {possible_designs}\")\n",
    "\n",
    "if __name__ == \"__main__\":\n",
    "    main()"
   ]
  },
  {
   "cell_type": "code",
   "execution_count": 2,
   "metadata": {},
   "outputs": [
    {
     "name": "stdout",
     "output_type": "stream",
     "text": [
      "Unexpected exception formatting exception. Falling back to standard exception\n"
     ]
    },
    {
     "name": "stderr",
     "output_type": "stream",
     "text": [
      "Traceback (most recent call last):\n",
      "  File \"C:\\Users\\schaedler_t\\AppData\\Roaming\\Python\\Python311\\site-packages\\IPython\\core\\interactiveshell.py\", line 3548, in run_code\n",
      "    exec(code_obj, self.user_global_ns, self.user_ns)\n",
      "  File \"C:\\Users\\schaedler_t\\AppData\\Local\\Temp\\ipykernel_29460\\891952429.py\", line 33, in <module>\n",
      "    main()\n",
      "  File \"C:\\Users\\schaedler_t\\AppData\\Local\\Temp\\ipykernel_29460\\891952429.py\", line 27, in main\n",
      "    if match(towel_patterns, design):\n",
      "       ^^^^^^^^^^^^^^^^^^^^^^^^^^^^^\n",
      "  File \"C:\\Users\\schaedler_t\\AppData\\Local\\Temp\\ipykernel_29460\\891952429.py\", line 12, in match\n",
      "    return dfs(0)\n",
      "           ^^^^^^\n",
      "  File \"C:\\Users\\schaedler_t\\AppData\\Local\\Temp\\ipykernel_29460\\891952429.py\", line 8, in dfs\n",
      "    if dfs(start + len(pattern)):\n",
      "       ^^^^^^^^^^^^^^^^^^^^^^^^^\n",
      "  File \"C:\\Users\\schaedler_t\\AppData\\Local\\Temp\\ipykernel_29460\\891952429.py\", line 8, in dfs\n",
      "    if dfs(start + len(pattern)):\n",
      "       ^^^^^^^^^^^^^^^^^^^^^^^^^\n",
      "  File \"C:\\Users\\schaedler_t\\AppData\\Local\\Temp\\ipykernel_29460\\891952429.py\", line 8, in dfs\n",
      "    if dfs(start + len(pattern)):\n",
      "       ^^^^^^^^^^^^^^^^^^^^^^^^^\n",
      "  [Previous line repeated 16 more times]\n",
      "  File \"C:\\Users\\schaedler_t\\AppData\\Local\\Temp\\ipykernel_29460\\891952429.py\", line -1, in dfs\n",
      "KeyboardInterrupt\n",
      "\n",
      "During handling of the above exception, another exception occurred:\n",
      "\n",
      "Traceback (most recent call last):\n",
      "  File \"C:\\Users\\schaedler_t\\AppData\\Roaming\\Python\\Python311\\site-packages\\IPython\\core\\interactiveshell.py\", line 2142, in showtraceback\n",
      "    stb = self.InteractiveTB.structured_traceback(\n",
      "          ^^^^^^^^^^^^^^^^^^^^^^^^^^^^^^^^^^^^^^^^\n",
      "  File \"C:\\Users\\schaedler_t\\AppData\\Roaming\\Python\\Python311\\site-packages\\IPython\\core\\ultratb.py\", line 1435, in structured_traceback\n",
      "    return FormattedTB.structured_traceback(\n",
      "           ^^^^^^^^^^^^^^^^^^^^^^^^^^^^^^^^^\n",
      "  File \"C:\\Users\\schaedler_t\\AppData\\Roaming\\Python\\Python311\\site-packages\\IPython\\core\\ultratb.py\", line 1326, in structured_traceback\n",
      "    return VerboseTB.structured_traceback(\n",
      "           ^^^^^^^^^^^^^^^^^^^^^^^^^^^^^^^\n",
      "  File \"C:\\Users\\schaedler_t\\AppData\\Roaming\\Python\\Python311\\site-packages\\IPython\\core\\ultratb.py\", line 1173, in structured_traceback\n",
      "    formatted_exception = self.format_exception_as_a_whole(etype, evalue, etb, number_of_lines_of_context,\n",
      "                          ^^^^^^^^^^^^^^^^^^^^^^^^^^^^^^^^^^^^^^^^^^^^^^^^^^^^^^^^^^^^^^^^^^^^^^^^^^^^^^^^\n",
      "  File \"C:\\Users\\schaedler_t\\AppData\\Roaming\\Python\\Python311\\site-packages\\IPython\\core\\ultratb.py\", line 1088, in format_exception_as_a_whole\n",
      "    frames.append(self.format_record(record))\n",
      "                  ^^^^^^^^^^^^^^^^^^^^^^^^^^\n",
      "  File \"C:\\Users\\schaedler_t\\AppData\\Roaming\\Python\\Python311\\site-packages\\IPython\\core\\ultratb.py\", line 970, in format_record\n",
      "    frame_info.lines, Colors, self.has_colors, lvals\n",
      "    ^^^^^^^^^^^^^^^^\n",
      "  File \"C:\\Users\\schaedler_t\\AppData\\Roaming\\Python\\Python311\\site-packages\\IPython\\core\\ultratb.py\", line 792, in lines\n",
      "    return self._sd.lines\n",
      "           ^^^^^^^^^^^^^^\n",
      "  File \"C:\\Users\\schaedler_t\\AppData\\Roaming\\Python\\Python311\\site-packages\\stack_data\\utils.py\", line 145, in cached_property_wrapper\n",
      "    value = obj.__dict__[self.func.__name__] = self.func(obj)\n",
      "                                               ^^^^^^^^^^^^^^\n",
      "  File \"C:\\Users\\schaedler_t\\AppData\\Roaming\\Python\\Python311\\site-packages\\stack_data\\core.py\", line 734, in lines\n",
      "    pieces = self.included_pieces\n",
      "             ^^^^^^^^^^^^^^^^^^^^\n",
      "  File \"C:\\Users\\schaedler_t\\AppData\\Roaming\\Python\\Python311\\site-packages\\stack_data\\utils.py\", line 145, in cached_property_wrapper\n",
      "    value = obj.__dict__[self.func.__name__] = self.func(obj)\n",
      "                                               ^^^^^^^^^^^^^^\n",
      "  File \"C:\\Users\\schaedler_t\\AppData\\Roaming\\Python\\Python311\\site-packages\\stack_data\\core.py\", line 681, in included_pieces\n",
      "    pos = scope_pieces.index(self.executing_piece)\n",
      "                             ^^^^^^^^^^^^^^^^^^^^\n",
      "  File \"C:\\Users\\schaedler_t\\AppData\\Roaming\\Python\\Python311\\site-packages\\stack_data\\utils.py\", line 145, in cached_property_wrapper\n",
      "    value = obj.__dict__[self.func.__name__] = self.func(obj)\n",
      "                                               ^^^^^^^^^^^^^^\n",
      "  File \"C:\\Users\\schaedler_t\\AppData\\Roaming\\Python\\Python311\\site-packages\\stack_data\\core.py\", line 660, in executing_piece\n",
      "    return only(\n",
      "           ^^^^^\n",
      "  File \"C:\\Users\\schaedler_t\\AppData\\Roaming\\Python\\Python311\\site-packages\\executing\\executing.py\", line 116, in only\n",
      "    raise NotOneValueFound('Expected one value, found 0')\n",
      "executing.executing.NotOneValueFound: Expected one value, found 0\n"
     ]
    }
   ],
   "source": [
    "def match(towel_patterns, design):\n",
    "    \"\"\"Check if a design can be made with the given towel patterns.\"\"\"\n",
    "    def dfs(start):\n",
    "        if start == len(design):\n",
    "            return True\n",
    "        for pattern in towel_patterns:\n",
    "            if design[start:].startswith(pattern):\n",
    "                if dfs(start + len(pattern)):\n",
    "                    return True\n",
    "        return False\n",
    "\n",
    "    return dfs(0)\n",
    "\n",
    "def main():\n",
    "    with open('input.txt') as f:\n",
    "        lines = f.read().splitlines()\n",
    "\n",
    "    # Read towel patterns\n",
    "    towel_patterns = lines[0].split(', ')\n",
    "\n",
    "    # Read designs\n",
    "    designs = lines[2:]\n",
    "\n",
    "    # Check each design\n",
    "    possible_designs = 0\n",
    "    for design in designs:\n",
    "        if match(towel_patterns, design):\n",
    "            possible_designs += 1\n",
    "\n",
    "    print(f\"Possible designs: {possible_designs}\")\n",
    "\n",
    "if __name__ == \"__main__\":\n",
    "    main()"
   ]
  },
  {
   "cell_type": "code",
   "execution_count": 3,
   "metadata": {},
   "outputs": [
    {
     "name": "stdout",
     "output_type": "stream",
     "text": [
      "Possible designs: 272\n"
     ]
    }
   ],
   "source": [
    "def match(towel_patterns, design):\n",
    "    \"\"\"Check if a design can be made with the given towel patterns.\"\"\"\n",
    "    memo = {}\n",
    "\n",
    "    def dfs(start):\n",
    "        if start == len(design):\n",
    "            return True\n",
    "        if start in memo:\n",
    "            return memo[start]\n",
    "        for pattern in towel_patterns:\n",
    "            if design[start:].startswith(pattern):\n",
    "                if dfs(start + len(pattern)):\n",
    "                    memo[start] = True\n",
    "                    return True\n",
    "        memo[start] = False\n",
    "        return False\n",
    "\n",
    "    return dfs(0)\n",
    "\n",
    "def main():\n",
    "    with open('input.txt') as f:\n",
    "        lines = f.read().splitlines()\n",
    "\n",
    "    # Read towel patterns\n",
    "    towel_patterns = lines[0].split(', ')\n",
    "\n",
    "    # Read designs\n",
    "    designs = lines[2:]\n",
    "\n",
    "    # Check each design\n",
    "    possible_designs = 0\n",
    "    for design in designs:\n",
    "        if match(towel_patterns, design):\n",
    "            possible_designs += 1\n",
    "\n",
    "    print(f\"Possible designs: {possible_designs}\")\n",
    "\n",
    "if __name__ == \"__main__\":\n",
    "    main()"
   ]
  },
  {
   "cell_type": "markdown",
   "metadata": {},
   "source": [
    "## Part 2"
   ]
  },
  {
   "cell_type": "code",
   "execution_count": null,
   "metadata": {},
   "outputs": [],
   "source": []
  }
 ],
 "metadata": {
  "kernelspec": {
   "display_name": "Python 3",
   "language": "python",
   "name": "python3"
  },
  "language_info": {
   "codemirror_mode": {
    "name": "ipython",
    "version": 3
   },
   "file_extension": ".py",
   "mimetype": "text/x-python",
   "name": "python",
   "nbconvert_exporter": "python",
   "pygments_lexer": "ipython3",
   "version": "3.11.6"
  }
 },
 "nbformat": 4,
 "nbformat_minor": 2
}
