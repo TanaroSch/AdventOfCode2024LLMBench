{
 "cells": [
  {
   "cell_type": "markdown",
   "metadata": {},
   "source": [
    "# Day 19 - o1-preview (GHC)"
   ]
  },
  {
   "cell_type": "code",
   "execution_count": 1,
   "metadata": {},
   "outputs": [
    {
     "name": "stdout",
     "output_type": "stream",
     "text": [
      "272\n"
     ]
    }
   ],
   "source": [
    "# Read input from 'input.txt'\n",
    "with open('input.txt', 'r') as f:\n",
    "    lines = f.read().splitlines()\n",
    "\n",
    "# Parse towel patterns\n",
    "towel_patterns_line = lines[0]\n",
    "towel_patterns = [pattern.strip() for pattern in towel_patterns_line.split(',')]\n",
    "\n",
    "# Skip blank line and parse designs\n",
    "blank_line_index = lines.index('')\n",
    "designs = lines[blank_line_index + 1:]\n",
    "\n",
    "# Set of towel patterns for quick lookup\n",
    "towel_patterns_set = set(towel_patterns)\n",
    "\n",
    "def can_segment(design, patterns_set):\n",
    "    n = len(design)\n",
    "    dp = [False] * (n + 1)\n",
    "    dp[0] = True  # Empty string can be segmented\n",
    "\n",
    "    for i in range(1, n + 1):\n",
    "        for j in range(max(0, i - 20), i):  # Assume max pattern length is 20\n",
    "            if dp[j] and design[j:i] in patterns_set:\n",
    "                dp[i] = True\n",
    "                break\n",
    "\n",
    "    return dp[n]\n",
    "\n",
    "# Count possible designs\n",
    "possible_count = 0\n",
    "\n",
    "for design in designs:\n",
    "    design = design.strip()\n",
    "    if can_segment(design, towel_patterns_set):\n",
    "        possible_count += 1\n",
    "\n",
    "print(possible_count)"
   ]
  },
  {
   "cell_type": "markdown",
   "metadata": {},
   "source": [
    "## Part 2"
   ]
  },
  {
   "cell_type": "code",
   "execution_count": 2,
   "metadata": {},
   "outputs": [
    {
     "name": "stdout",
     "output_type": "stream",
     "text": [
      "1041529704688380\n"
     ]
    }
   ],
   "source": [
    "# Read input from 'input.txt'\n",
    "with open('input.txt', 'r') as f:\n",
    "    lines = f.read().splitlines()\n",
    "\n",
    "# Parse towel patterns\n",
    "towel_patterns_line = lines[0]\n",
    "towel_patterns = [pattern.strip() for pattern in towel_patterns_line.split(',')]\n",
    "\n",
    "# Skip blank line and parse designs\n",
    "blank_line_index = lines.index('')\n",
    "designs = lines[blank_line_index + 1:]\n",
    "\n",
    "# Set of towel patterns for quick lookup\n",
    "towel_patterns_set = set(towel_patterns)\n",
    "\n",
    "# Precompute max pattern length to optimize DP\n",
    "max_pattern_length = max(len(pattern) for pattern in towel_patterns)\n",
    "\n",
    "def count_ways(design, patterns_set):\n",
    "    n = len(design)\n",
    "    dp = [0] * (n + 1)\n",
    "    dp[0] = 1  # Empty string has one way\n",
    "\n",
    "    for i in range(1, n + 1):\n",
    "        for j in range(max(0, i - max_pattern_length), i):\n",
    "            if design[j:i] in patterns_set:\n",
    "                dp[i] += dp[j]\n",
    "    return dp[n]\n",
    "\n",
    "# Compute total number of ways\n",
    "total_ways = 0\n",
    "\n",
    "for design in designs:\n",
    "    design = design.strip()\n",
    "    ways = count_ways(design, towel_patterns_set)\n",
    "    total_ways += ways\n",
    "\n",
    "print(total_ways)"
   ]
  }
 ],
 "metadata": {
  "kernelspec": {
   "display_name": "Python 3",
   "language": "python",
   "name": "python3"
  },
  "language_info": {
   "codemirror_mode": {
    "name": "ipython",
    "version": 3
   },
   "file_extension": ".py",
   "mimetype": "text/x-python",
   "name": "python",
   "nbconvert_exporter": "python",
   "pygments_lexer": "ipython3",
   "version": "3.11.6"
  }
 },
 "nbformat": 4,
 "nbformat_minor": 2
}
