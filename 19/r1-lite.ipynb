{
 "cells": [
  {
   "cell_type": "markdown",
   "metadata": {},
   "source": [
    "# Day 19 - Deepseek R1 Lite"
   ]
  },
  {
   "cell_type": "code",
   "execution_count": 1,
   "metadata": {},
   "outputs": [
    {
     "name": "stdout",
     "output_type": "stream",
     "text": [
      "272\n"
     ]
    }
   ],
   "source": [
    "def main():\n",
    "    import sys\n",
    "\n",
    "    # Read all lines from input file\n",
    "    with open('input.txt', 'r') as f:\n",
    "        lines = f.read().splitlines()\n",
    "\n",
    "    # First line contains patterns\n",
    "    patterns_line = lines[0]\n",
    "    patterns = set(pattern.strip() for pattern in patterns_line.split(','))\n",
    "\n",
    "    # Find the index of the first blank line\n",
    "    try:\n",
    "        blank_line_index = lines.index('')\n",
    "    except ValueError:\n",
    "        blank_line_index = len(lines)\n",
    "\n",
    "    # Designs are the lines after the blank line\n",
    "    designs = [d.strip() for d in lines[blank_line_index + 1:] if d.strip()]\n",
    "\n",
    "    # Group patterns by their lengths\n",
    "    patterns_by_length = {}\n",
    "    for pattern in patterns:\n",
    "        length = len(pattern)\n",
    "        if length not in patterns_by_length:\n",
    "            patterns_by_length[length] = set()\n",
    "        patterns_by_length[length].add(pattern)\n",
    "\n",
    "    # Get the maximum pattern length for optimization\n",
    "    if patterns_by_length:\n",
    "        max_length = max(patterns_by_length.keys())\n",
    "    else:\n",
    "        max_length = 0\n",
    "\n",
    "    # Function to check if a design is possible\n",
    "    def is_possible(design):\n",
    "        n = len(design)\n",
    "        dp = [False] * (n + 1)\n",
    "        dp[0] = True\n",
    "        for i in range(n + 1):\n",
    "            if dp[i]:\n",
    "                for length in patterns_by_length:\n",
    "                    if i + length > n:\n",
    "                        continue\n",
    "                    substring = design[i:i+length]\n",
    "                    if substring in patterns_by_length[length]:\n",
    "                        dp[i + length] = True\n",
    "        return dp[n]\n",
    "\n",
    "    # Count the number of possible designs\n",
    "    possible_count = 0\n",
    "    for design in designs:\n",
    "        if is_possible(design):\n",
    "            possible_count += 1\n",
    "\n",
    "    # Print the result\n",
    "    print(possible_count)\n",
    "\n",
    "if __name__ == \"__main__\":\n",
    "    main()"
   ]
  },
  {
   "cell_type": "markdown",
   "metadata": {},
   "source": [
    "## Part 2"
   ]
  },
  {
   "cell_type": "code",
   "execution_count": 2,
   "metadata": {},
   "outputs": [
    {
     "name": "stdout",
     "output_type": "stream",
     "text": [
      "1041529704688380\n"
     ]
    }
   ],
   "source": [
    "def main():\n",
    "    import sys\n",
    "\n",
    "    # Read all lines from input file\n",
    "    with open('input.txt', 'r') as f:\n",
    "        lines = [line.strip() for line in f.readlines()]\n",
    "\n",
    "    # Find the index of the first blank line\n",
    "    try:\n",
    "        blank_line_index = lines.index('')\n",
    "    except ValueError:\n",
    "        blank_line_index = len(lines)\n",
    "\n",
    "    # Read patterns from the first non-empty line\n",
    "    patterns_line = lines[0]\n",
    "    patterns = set(pattern.strip() for pattern in patterns_line.split(','))\n",
    "\n",
    "    # Read designs from lines after the first blank line\n",
    "    designs = [line for line in lines[blank_line_index + 1:] if line]\n",
    "\n",
    "    # Group patterns by their lengths\n",
    "    patterns_by_length = {}\n",
    "    for pattern in patterns:\n",
    "        length = len(pattern)\n",
    "        if length not in patterns_by_length:\n",
    "            patterns_by_length[length] = set()\n",
    "        patterns_by_length[length].add(pattern)\n",
    "\n",
    "    # Function to count the number of ways to build a design\n",
    "    def count_ways(design):\n",
    "        n = len(design)\n",
    "        dp = [0] * (n + 1)\n",
    "        dp[0] = 1  # One way to build an empty substring\n",
    "        for i in range(n + 1):\n",
    "            if dp[i] > 0:\n",
    "                for length in patterns_by_length:\n",
    "                    if i + length <= n:\n",
    "                        substring = design[i:i+length]\n",
    "                        if substring in patterns_by_length[length]:\n",
    "                            dp[i + length] += dp[i]\n",
    "        return dp[n]\n",
    "\n",
    "    # Calculate the total number of ways for all designs\n",
    "    total_ways = 0\n",
    "    for design in designs:\n",
    "        total_ways += count_ways(design)\n",
    "\n",
    "    # Print the result\n",
    "    print(total_ways)\n",
    "\n",
    "if __name__ == \"__main__\":\n",
    "    main()"
   ]
  }
 ],
 "metadata": {
  "kernelspec": {
   "display_name": "Python 3",
   "language": "python",
   "name": "python3"
  },
  "language_info": {
   "codemirror_mode": {
    "name": "ipython",
    "version": 3
   },
   "file_extension": ".py",
   "mimetype": "text/x-python",
   "name": "python",
   "nbconvert_exporter": "python",
   "pygments_lexer": "ipython3",
   "version": "3.11.6"
  }
 },
 "nbformat": 4,
 "nbformat_minor": 2
}
