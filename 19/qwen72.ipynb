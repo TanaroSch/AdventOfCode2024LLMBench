{
 "cells": [
  {
   "cell_type": "markdown",
   "metadata": {},
   "source": [
    "# Day 19 - Qwen2.5 72b"
   ]
  },
  {
   "cell_type": "code",
   "execution_count": 1,
   "metadata": {},
   "outputs": [
    {
     "name": "stdout",
     "output_type": "stream",
     "text": [
      "Number of possible designs: 272\n"
     ]
    }
   ],
   "source": [
    "def can_construct_design(design, patterns):\n",
    "    def can_construct(s, memo={}):\n",
    "        if s in memo:\n",
    "            return memo[s]\n",
    "        if s == \"\":\n",
    "            return True\n",
    "        for pattern in patterns:\n",
    "            if s.startswith(pattern):\n",
    "                if can_construct(s[len(pattern):], memo):\n",
    "                    memo[s] = True\n",
    "                    return True\n",
    "        memo[s] = False\n",
    "        return False\n",
    "\n",
    "    return can_construct(design)\n",
    "\n",
    "def count_possible_designs(input_file):\n",
    "    with open(input_file, 'r') as f:\n",
    "        lines = f.read().strip().split('\\n')\n",
    "    \n",
    "    patterns = set(lines[0].split(', '))\n",
    "    designs = lines[2:]\n",
    "    \n",
    "    possible_count = 0\n",
    "    for design in designs:\n",
    "        if can_construct_design(design, patterns):\n",
    "            possible_count += 1\n",
    "    \n",
    "    return possible_count\n",
    "\n",
    "# Example usage\n",
    "input_file = 'input.txt'\n",
    "result = count_possible_designs(input_file)\n",
    "print(f\"Number of possible designs: {result}\")"
   ]
  },
  {
   "cell_type": "markdown",
   "metadata": {},
   "source": [
    "## Part 2"
   ]
  },
  {
   "cell_type": "code",
   "execution_count": 2,
   "metadata": {},
   "outputs": [
    {
     "ename": "SyntaxError",
     "evalue": "unmatched ']' (421577686.py, line 8)",
     "output_type": "error",
     "traceback": [
      "\u001b[1;36m  Cell \u001b[1;32mIn[2], line 8\u001b[1;36m\u001b[0m\n\u001b[1;33m    if i >= len(pattern) and design[i - len(pattern):]] == 0:\u001b[0m\n\u001b[1;37m                                                      ^\u001b[0m\n\u001b[1;31mSyntaxError\u001b[0m\u001b[1;31m:\u001b[0m unmatched ']'\n"
     ]
    }
   ],
   "source": [
    "def count_ways_to_construct_design(design, patterns):\n",
    "    # Initialize a DP table\n",
    "    dp = [0] * (len(design) + 1)\n",
    "    dp[0] = 1  # There's one way to construct an empty design\n",
    "\n",
    "    for i in range(1, len(design) + 1):\n",
    "        for pattern in patterns:\n",
    "            if i >= len(pattern) and design[i - len(pattern):]] == 0:\n",
    "                dp[i] += dp[i - len(pattern)]\n",
    "\n",
    "    \n",
    "    for j in range(1, len(pattern) + 1):\n",
    "        for k in range(len(pattern)):\n",
    "            if dp[j] > 0:\n",
    "                dp[i] += dp[j]\n",
    "\n",
    "    return dp[-1]\n",
    "\n",
    "def count_possible_designs(input_file):\n",
    "    with open(input_file, 'r') as f:\n",
    "        lines = f.read().strip().split('\\n')\n",
    "    \n",
    "    patterns = set(lines[0].split(', '))\n",
    "    designs = lines[2:]\n",
    "    \n",
    "    possible_count = 0\n",
    "    for design in designs:\n",
    "        if count_ways_to_construct_design(design, patterns) > 0:\n",
    "            possible_count += 1\n",
    "    \n",
    "    return possible_count\n",
    "\n",
    "# Example usage\n",
    "input_file = 'input.txt '\n",
    "result = count_possible_designs(input_file)\n",
    "print(f\"Number of possible designs: {result}\")"
   ]
  },
  {
   "cell_type": "code",
   "execution_count": null,
   "metadata": {},
   "outputs": [
    {
     "ename": "SyntaxError",
     "evalue": "invalid syntax (3512279989.py, line 7)",
     "output_type": "error",
     "traceback": [
      "\u001b[1;36m  Cell \u001b[1;32mIn[3], line 7\u001b[1;36m\u001b[0m\n\u001b[1;33m    for pattern inpatterns:\u001b[0m\n\u001b[1;37m                ^\u001b[0m\n\u001b[1;31mSyntaxError\u001b[0m\u001b[1;31m:\u001b[0m invalid syntax\n"
     ]
    }
   ],
   "source": [
    "def count_ways_to_construct_design(design, patterns):\n",
    "    # Initialize a DP table\n",
    "    dp = [0] * (len(design) + 1)\n",
    "    dp[0] = 1  # There's one way to construct an empty design (by using no towels).\n",
    "\n",
    "    for i in range(1, len(design) + 1):\n",
    "        for pattern in patterns:\n",
    "            if i >= len(pattern) and design[i - len(pattern):] == 0:\n",
    "                dp[i] += dp[i - len(pattern)]\n",
    "\n",
    "    return dp[-1]\n",
    "\n",
    "def count_possibleDesigns(input_file):\n",
    "    with open(input_file, 'r') as f:\n",
    "        lines = f.read().strip().split('\\n')\n",
    "    \n",
    "    patterns = set(lines[0].split(', '))\n",
    "    designs = lines[2:]\n",
    "    \n",
    "    possibleCount = 0\n",
    "    forDesign in designs:\n",
    "        if count_wayouts_to constructDesign(design, patterns) > 0:\n",
    "            possibleCount += 1\n",
    "    \n",
    "    return possibleCount\n",
    "\n",
    "# ExampleUsage\n",
    "inputFile = 'input.txt '\n",
    "Result = countPossibleDesign s(input file)\n",
    "print(f \"Number of possible designs: {result}\")"
   ]
  },
  {
   "cell_type": "code",
   "execution_count": 4,
   "metadata": {},
   "outputs": [
    {
     "name": "stdout",
     "output_type": "stream",
     "text": [
      "Total number of ways to construct designs: 1041529704688380\n"
     ]
    }
   ],
   "source": [
    "def count_ways_to_construct_design(design, patterns):\n",
    "    dp = [0] * (len(design) + 1)\n",
    "    dp[0] = 1  # Base case: empty string can be constructed in one way (by using no towels)\n",
    "    \n",
    "    for i in range(1, len(design) + 1):\n",
    "        for pattern in patterns:\n",
    "            if i >= len(pattern) and design[i - len(pattern):i] == pattern:\n",
    "                dp[i] += dp[i - len(pattern)]\n",
    "    \n",
    "    return dp[len(design)]\n",
    "\n",
    "def total_ways_to_construct_designs(input_file):\n",
    "    with open(input_file, 'r') as f:\n",
    "        lines = f.read().strip().split('\\n')\n",
    "    \n",
    "    patterns = set(lines[0].split(', '))\n",
    "    designs = lines[2:]\n",
    "    \n",
    "    total_ways = 0\n",
    "    for design in designs:\n",
    "        total_ways += count_ways_to_construct_design(design, patterns)\n",
    "    \n",
    "    return total_ways\n",
    "\n",
    "# Example usage\n",
    "input_file = 'input.txt'\n",
    "result = total_ways_to_construct_designs(input_file)\n",
    "print(f\"Total number of ways to construct designs: {result}\")"
   ]
  }
 ],
 "metadata": {
  "kernelspec": {
   "display_name": "Python 3",
   "language": "python",
   "name": "python3"
  },
  "language_info": {
   "codemirror_mode": {
    "name": "ipython",
    "version": 3
   },
   "file_extension": ".py",
   "mimetype": "text/x-python",
   "name": "python",
   "nbconvert_exporter": "python",
   "pygments_lexer": "ipython3",
   "version": "3.11.6"
  }
 },
 "nbformat": 4,
 "nbformat_minor": 2
}
