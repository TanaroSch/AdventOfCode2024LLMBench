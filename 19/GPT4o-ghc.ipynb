{
 "cells": [
  {
   "cell_type": "markdown",
   "metadata": {},
   "source": [
    "# Day 19 - GPT 4o (GHC)"
   ]
  },
  {
   "cell_type": "code",
   "execution_count": 1,
   "metadata": {},
   "outputs": [
    {
     "name": "stdout",
     "output_type": "stream",
     "text": [
      "272\n"
     ]
    }
   ],
   "source": [
    "def can_construct(design, patterns, memo):\n",
    "    if design in memo:\n",
    "        return memo[design]\n",
    "    if design == \"\":\n",
    "        return True\n",
    "    for pattern in patterns:\n",
    "        if design.startswith(pattern):\n",
    "            if can_construct(design[len(pattern):], patterns, memo):\n",
    "                memo[design] = True\n",
    "                return True\n",
    "    memo[design] = False\n",
    "    return False\n",
    "\n",
    "def main():\n",
    "    with open('input.txt', 'r') as file:\n",
    "        lines = file.read().strip().split('\\n')\n",
    "    \n",
    "    patterns = lines[0].split(', ')\n",
    "    designs = lines[2:]\n",
    "    \n",
    "    possible_count = 0\n",
    "    memo = {}\n",
    "    \n",
    "    for design in designs:\n",
    "        if can_construct(design, patterns, memo):\n",
    "            possible_count += 1\n",
    "    \n",
    "    print(possible_count)\n",
    "\n",
    "if __name__ == \"__main__\":\n",
    "    main()"
   ]
  },
  {
   "cell_type": "markdown",
   "metadata": {},
   "source": [
    "## Part 2"
   ]
  },
  {
   "cell_type": "code",
   "execution_count": 2,
   "metadata": {},
   "outputs": [
    {
     "name": "stdout",
     "output_type": "stream",
     "text": [
      "1041529704688380\n"
     ]
    }
   ],
   "source": [
    "def count_ways(design, patterns, memo):\n",
    "    if design in memo:\n",
    "        return memo[design]\n",
    "    if design == \"\":\n",
    "        return 1\n",
    "    total_ways = 0\n",
    "    for pattern in patterns:\n",
    "        if design.startswith(pattern):\n",
    "            total_ways += count_ways(design[len(pattern):], patterns, memo)\n",
    "    memo[design] = total_ways\n",
    "    return total_ways\n",
    "\n",
    "def main():\n",
    "    with open('input.txt', 'r') as file:\n",
    "        lines = file.read().strip().split('\\n')\n",
    "    \n",
    "    patterns = lines[0].split(', ')\n",
    "    designs = lines[2:]\n",
    "    \n",
    "    total_count = 0\n",
    "    for design in designs:\n",
    "        memo = {}\n",
    "        total_count += count_ways(design, patterns, memo)\n",
    "    \n",
    "    print(total_count)\n",
    "\n",
    "if __name__ == \"__main__\":\n",
    "    main()"
   ]
  }
 ],
 "metadata": {
  "kernelspec": {
   "display_name": "Python 3",
   "language": "python",
   "name": "python3"
  },
  "language_info": {
   "codemirror_mode": {
    "name": "ipython",
    "version": 3
   },
   "file_extension": ".py",
   "mimetype": "text/x-python",
   "name": "python",
   "nbconvert_exporter": "python",
   "pygments_lexer": "ipython3",
   "version": "3.11.6"
  }
 },
 "nbformat": 4,
 "nbformat_minor": 2
}
