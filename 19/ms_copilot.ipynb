{
 "cells": [
  {
   "cell_type": "markdown",
   "metadata": {},
   "source": [
    "# Day 19 - MS Copilot"
   ]
  },
  {
   "cell_type": "code",
   "execution_count": 1,
   "metadata": {},
   "outputs": [
    {
     "name": "stdout",
     "output_type": "stream",
     "text": [
      "The number of possible designs is: 272\n"
     ]
    }
   ],
   "source": [
    "def is_design_possible(patterns, design):\n",
    "    # Initialize a list to keep track of possible designs\n",
    "    possible = [False] * (len(design) + 1)\n",
    "    possible[0] = True  # Empty design is always possible\n",
    "\n",
    "    for i in range(len(design)):\n",
    "        if possible[i]:\n",
    "            for pattern in patterns:\n",
    "                if design[i:i+len(pattern)] == pattern:\n",
    "                    possible[i+len(pattern)] = True\n",
    "\n",
    "    return possible[len(design)]\n",
    "\n",
    "# Read the input from the file\n",
    "with open('input.txt', 'r') as file:\n",
    "    lines = file.read().strip().split('\\n')\n",
    "\n",
    "# Extract the towel patterns and designs\n",
    "patterns = lines[0].split(', ')\n",
    "designs = lines[2:]\n",
    "\n",
    "# Count how many designs are possible\n",
    "possible_count = sum(is_design_possible(patterns, design) for design in designs)\n",
    "\n",
    "print(f\"The number of possible designs is: {possible_count}\")\n"
   ]
  },
  {
   "cell_type": "markdown",
   "metadata": {},
   "source": [
    "## Part 2"
   ]
  },
  {
   "cell_type": "code",
   "execution_count": 2,
   "metadata": {},
   "outputs": [
    {
     "name": "stdout",
     "output_type": "stream",
     "text": [
      "The total number of different ways to make each design is: 1041529704688380\n"
     ]
    }
   ],
   "source": [
    "def count_ways(patterns, design):\n",
    "    # Initialize a list to keep track of the number of ways to create each prefix of the design\n",
    "    ways = [0] * (len(design) + 1)\n",
    "    ways[0] = 1  # There is one way to create an empty design\n",
    "\n",
    "    for i in range(len(design)):\n",
    "        for pattern in patterns:\n",
    "            if design[i:i+len(pattern)] == pattern:\n",
    "                ways[i+len(pattern)] += ways[i]\n",
    "\n",
    "    return ways[len(design)]\n",
    "\n",
    "# Read the input from the file\n",
    "with open('input.txt', 'r') as file:\n",
    "    lines = file.read().strip().split('\\n')\n",
    "\n",
    "# Extract the towel patterns and designs\n",
    "patterns = lines[0].split(', ')\n",
    "designs = lines[2:]\n",
    "\n",
    "# Count the number of ways for each design and sum them up\n",
    "total_ways = sum(count_ways(patterns, design) for design in designs)\n",
    "\n",
    "print(f\"The total number of different ways to make each design is: {total_ways}\")\n"
   ]
  }
 ],
 "metadata": {
  "kernelspec": {
   "display_name": "Python 3",
   "language": "python",
   "name": "python3"
  },
  "language_info": {
   "codemirror_mode": {
    "name": "ipython",
    "version": 3
   },
   "file_extension": ".py",
   "mimetype": "text/x-python",
   "name": "python",
   "nbconvert_exporter": "python",
   "pygments_lexer": "ipython3",
   "version": "3.11.6"
  }
 },
 "nbformat": 4,
 "nbformat_minor": 2
}
