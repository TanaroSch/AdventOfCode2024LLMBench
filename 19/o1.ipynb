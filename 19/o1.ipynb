{
 "cells": [
  {
   "cell_type": "markdown",
   "metadata": {},
   "source": [
    "# Day 19 - o1"
   ]
  },
  {
   "cell_type": "code",
   "execution_count": 1,
   "metadata": {},
   "outputs": [
    {
     "name": "stdout",
     "output_type": "stream",
     "text": [
      "272\n"
     ]
    }
   ],
   "source": [
    "def can_form_design(design, patterns_set):\n",
    "    # Dynamic programming approach to check if the design can be formed\n",
    "    # from the given set of patterns.\n",
    "    n = len(design)\n",
    "    dp = [False] * (n + 1)\n",
    "    dp[0] = True  # empty design can always be formed (base case)\n",
    "    \n",
    "    for i in range(n):\n",
    "        if dp[i]:\n",
    "            for p in patterns_set:\n",
    "                if design.startswith(p, i):\n",
    "                    dp[i + len(p)] = True\n",
    "    return dp[-1]\n",
    "\n",
    "def main():\n",
    "    with open(\"input.txt\", \"r\") as f:\n",
    "        lines = [line.strip() for line in f]\n",
    "    \n",
    "    # Separate the patterns from the designs\n",
    "    # The first line contains the available towel patterns (comma-separated)\n",
    "    # Followed by a blank line, then each subsequent line is a desired design.\n",
    "    \n",
    "    # Find the blank line\n",
    "    blank_line_index = lines.index(\"\")\n",
    "    patterns_line = lines[0]\n",
    "    designs = lines[blank_line_index+1:]\n",
    "    \n",
    "    # Parse the patterns\n",
    "    patterns = [p.strip() for p in patterns_line.split(\",\")]\n",
    "    patterns_set = set(patterns)\n",
    "    \n",
    "    count = 0\n",
    "    for design in designs:\n",
    "        if can_form_design(design, patterns_set):\n",
    "            count += 1\n",
    "    \n",
    "    print(count)\n",
    "\n",
    "if __name__ == \"__main__\":\n",
    "    main()\n"
   ]
  },
  {
   "cell_type": "markdown",
   "metadata": {},
   "source": [
    "## Part 2"
   ]
  },
  {
   "cell_type": "code",
   "execution_count": 2,
   "metadata": {},
   "outputs": [
    {
     "name": "stdout",
     "output_type": "stream",
     "text": [
      "1041529704688380\n"
     ]
    }
   ],
   "source": [
    "from collections import defaultdict\n",
    "\n",
    "def count_ways_to_form_design(design, patterns):\n",
    "    # Dynamic programming approach to count the number of ways the design\n",
    "    # can be formed from the given set of patterns.\n",
    "    n = len(design)\n",
    "    dp = [0] * (n + 1)\n",
    "    dp[0] = 1  # There's exactly one way to form the empty string (no towels)\n",
    "    \n",
    "    # Convert patterns to a list for iteration\n",
    "    patterns_list = list(patterns)\n",
    "    \n",
    "    for i in range(n):\n",
    "        if dp[i] > 0:\n",
    "            for p in patterns_list:\n",
    "                if design.startswith(p, i):\n",
    "                    dp[i + len(p)] += dp[i]\n",
    "    return dp[-1]\n",
    "\n",
    "def main():\n",
    "    with open(\"input.txt\", \"r\") as f:\n",
    "        lines = [line.strip() for line in f]\n",
    "\n",
    "    # Separate the patterns from the designs\n",
    "    blank_line_index = lines.index(\"\")\n",
    "    patterns_line = lines[0]\n",
    "    designs = lines[blank_line_index+1:]\n",
    "    \n",
    "    # Parse the patterns\n",
    "    patterns = [p.strip() for p in patterns_line.split(\",\")]\n",
    "    patterns_set = set(patterns)\n",
    "\n",
    "    total_ways = 0\n",
    "    for design in designs:\n",
    "        ways = count_ways_to_form_design(design, patterns_set)\n",
    "        total_ways += ways\n",
    "\n",
    "    print(total_ways)\n",
    "\n",
    "if __name__ == \"__main__\":\n",
    "    main()\n"
   ]
  }
 ],
 "metadata": {
  "kernelspec": {
   "display_name": "Python 3",
   "language": "python",
   "name": "python3"
  },
  "language_info": {
   "codemirror_mode": {
    "name": "ipython",
    "version": 3
   },
   "file_extension": ".py",
   "mimetype": "text/x-python",
   "name": "python",
   "nbconvert_exporter": "python",
   "pygments_lexer": "ipython3",
   "version": "3.11.6"
  }
 },
 "nbformat": 4,
 "nbformat_minor": 2
}
