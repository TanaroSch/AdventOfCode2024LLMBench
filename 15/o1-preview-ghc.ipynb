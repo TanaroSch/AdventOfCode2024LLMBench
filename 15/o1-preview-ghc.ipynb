{
 "cells": [
  {
   "cell_type": "markdown",
   "metadata": {},
   "source": [
    "# Day 15 - o1-preview (GHC)"
   ]
  },
  {
   "cell_type": "code",
   "execution_count": 1,
   "metadata": {},
   "outputs": [
    {
     "name": "stdout",
     "output_type": "stream",
     "text": [
      "1472738\n"
     ]
    }
   ],
   "source": [
    "# Read the warehouse map and move sequence from 'input.txt'\n",
    "with open('input.txt') as f:\n",
    "    lines = f.read().splitlines()\n",
    "\n",
    "# Parse the map\n",
    "grid = []\n",
    "boxes = set()\n",
    "robot_pos = None\n",
    "i = 0\n",
    "while i < len(lines) and lines[i]:\n",
    "    line = lines[i]\n",
    "    row = []\n",
    "    for j, char in enumerate(line):\n",
    "        if char == '@':\n",
    "            robot_pos = (i, j)\n",
    "            row.append('.')\n",
    "        elif char == 'O':\n",
    "            boxes.add((i, j))\n",
    "            row.append('.')\n",
    "        else:\n",
    "            row.append(char)\n",
    "    grid.append(row)\n",
    "    i += 1\n",
    "\n",
    "# Read the move sequence\n",
    "moves = ''.join(lines[i+1:]).replace('\\n', '').strip()\n",
    "\n",
    "# Movement deltas\n",
    "move_deltas = {'^': (-1, 0), 'v': (1, 0), '<': (0, -1), '>': (0, 1)}\n",
    "\n",
    "# Simulate the robot's movement\n",
    "for move in moves:\n",
    "    if move not in move_deltas:\n",
    "        continue\n",
    "    dx, dy = move_deltas[move]\n",
    "    r_new = robot_pos[0] + dx\n",
    "    c_new = robot_pos[1] + dy\n",
    "    if 0 <= r_new < len(grid) and 0 <= c_new < len(grid[0]):\n",
    "        if grid[r_new][c_new] != '#':\n",
    "            if (r_new, c_new) in boxes:\n",
    "                # Attempt to push the box\n",
    "                r_box_new = r_new + dx\n",
    "                c_box_new = c_new + dy\n",
    "                if (0 <= r_box_new < len(grid) and 0 <= c_box_new < len(grid[0]) and\n",
    "                    grid[r_box_new][c_box_new] != '#' and\n",
    "                    (r_box_new, c_box_new) not in boxes):\n",
    "                    # Move the box\n",
    "                    boxes.remove((r_new, c_new))\n",
    "                    boxes.add((r_box_new, c_box_new))\n",
    "                    # Move the robot\n",
    "                    robot_pos = (r_new, c_new)\n",
    "            else:\n",
    "                # Move the robot\n",
    "                robot_pos = (r_new, c_new)\n",
    "\n",
    "# Calculate the sum of GPS coordinates of all boxes\n",
    "total_gps = sum([100 * pos[0] + pos[1] for pos in boxes])\n",
    "print(total_gps)"
   ]
  },
  {
   "cell_type": "markdown",
   "metadata": {},
   "source": [
    "## Part 2"
   ]
  },
  {
   "cell_type": "code",
   "execution_count": null,
   "metadata": {},
   "outputs": [],
   "source": []
  }
 ],
 "metadata": {
  "kernelspec": {
   "display_name": "AdventOfCode",
   "language": "python",
   "name": "python3"
  },
  "language_info": {
   "codemirror_mode": {
    "name": "ipython",
    "version": 3
   },
   "file_extension": ".py",
   "mimetype": "text/x-python",
   "name": "python",
   "nbconvert_exporter": "python",
   "pygments_lexer": "ipython3",
   "version": "3.10.15"
  }
 },
 "nbformat": 4,
 "nbformat_minor": 2
}
