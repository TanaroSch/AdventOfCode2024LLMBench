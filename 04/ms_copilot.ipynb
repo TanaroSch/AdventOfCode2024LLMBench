{
 "cells": [
  {
   "cell_type": "markdown",
   "metadata": {},
   "source": [
    "# Day 4 - MS Copilot"
   ]
  },
  {
   "cell_type": "code",
   "execution_count": 1,
   "metadata": {},
   "outputs": [
    {
     "name": "stdout",
     "output_type": "stream",
     "text": [
      "The word 'XMAS' appears 2464 times in the puzzle.\n"
     ]
    }
   ],
   "source": [
    "def find_word_in_puzzle(puzzle, word):\n",
    "    def check_direction(x, y, dx, dy):\n",
    "        for i in range(len(word)):\n",
    "            if x < 0 or x >= len(puzzle) or y < 0 or y >= len(puzzle[0]) or puzzle[x][y] != word[i]:\n",
    "                return False\n",
    "            x += dx\n",
    "            y += dy\n",
    "        return True\n",
    "\n",
    "    directions = [(-1, -1), (-1, 0), (-1, 1), (0, -1), (0, 1), (1, -1), (1, 0), (1, 1)]\n",
    "    count = 0\n",
    "\n",
    "    for i in range(len(puzzle)):\n",
    "        for j in range(len(puzzle[0])):\n",
    "            for dx, dy in directions:\n",
    "                if check_direction(i, j, dx, dy):\n",
    "                    count += 1\n",
    "\n",
    "    return count\n",
    "\n",
    "# Read the content of the input file\n",
    "with open('input.txt', 'r') as f:\n",
    "    puzzle = [list(line.strip()) for line in f]\n",
    "\n",
    "word = \"XMAS\"\n",
    "count = find_word_in_puzzle(puzzle, word)\n",
    "\n",
    "print(f\"The word '{word}' appears {count} times in the puzzle.\")"
   ]
  },
  {
   "cell_type": "markdown",
   "metadata": {},
   "source": [
    "## Part 2"
   ]
  },
  {
   "cell_type": "code",
   "execution_count": 5,
   "metadata": {},
   "outputs": [
    {
     "name": "stdout",
     "output_type": "stream",
     "text": [
      "The X-MAS pattern appears 31 times in the puzzle.\n"
     ]
    }
   ],
   "source": [
    "def find_x_mas_in_puzzle(puzzle):\n",
    "    def check_x_mas(x, y):\n",
    "        # Define the X-MAS pattern\n",
    "        patterns = [\n",
    "            [(0, 0), (1, -1), (2, -2), (1, 1), (2, 2)],  # Top-left to bottom-right\n",
    "            [(0, 0), (1, 1), (2, 2), (1, -1), (2, -2)],  # Top-right to bottom-left\n",
    "            [(0, 0), (-1, -1), (-2, -2), (-1, 1), (-2, 2)],  # Bottom-right to top-left\n",
    "            [(0, 0), (-1, 1), (-2, 2), (-1, -1), (-2, -2)],  # Bottom-left to top-right\n",
    "            [(0, 0), (1, -1), (2, -2), (-1, -1), (-2, -2)],  # Top-left to bottom-left\n",
    "            [(0, 0), (1, 1), (2, 2), (-1, 1), (-2, 2)],  # Top-right to bottom-right\n",
    "            [(0, 0), (-1, -1), (-2, -2), (1, -1), (2, -2)],  # Bottom-right to top-right\n",
    "            [(0, 0), (-1, 1), (-2, 2), (1, 1), (2, 2)]   # Bottom-left to top-left\n",
    "        ]\n",
    "        \n",
    "        for pattern in patterns:\n",
    "            if all(0 <= x + dx < len(puzzle) and 0 <= y + dy < len(puzzle[0]) and puzzle[x + dx][y + dy] == 'M' for dx, dy in pattern[:3]) and \\\n",
    "               all(0 <= x + dx < len(puzzle) and 0 <= y + dy < len(puzzle[0]) and puzzle[x + dx][y + dy] == 'S' for dx, dy in pattern[3:]):\n",
    "                return True\n",
    "        return False\n",
    "\n",
    "    count = 0\n",
    "\n",
    "    for i in range(len(puzzle)):\n",
    "        for j in range(len(puzzle[0])):\n",
    "            if puzzle[i][j] == 'M' and check_x_mas(i, j):\n",
    "                count += 1\n",
    "\n",
    "    return count\n",
    "\n",
    "# Read the content of the input file\n",
    "with open('input.txt', 'r') as f:\n",
    "    puzzle = [list(line.strip()) for line in f]\n",
    "\n",
    "count = find_x_mas_in_puzzle(puzzle)\n",
    "\n",
    "print(f\"The X-MAS pattern appears {count} times in the puzzle.\")"
   ]
  }
 ],
 "metadata": {
  "kernelspec": {
   "display_name": "Python 3",
   "language": "python",
   "name": "python3"
  },
  "language_info": {
   "codemirror_mode": {
    "name": "ipython",
    "version": 3
   },
   "file_extension": ".py",
   "mimetype": "text/x-python",
   "name": "python",
   "nbconvert_exporter": "python",
   "pygments_lexer": "ipython3",
   "version": "3.11.6"
  }
 },
 "nbformat": 4,
 "nbformat_minor": 2
}
