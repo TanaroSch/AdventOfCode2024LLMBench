{
 "cells": [
  {
   "cell_type": "markdown",
   "metadata": {},
   "source": [
    "# Day 4 - o1-mini (GHC)"
   ]
  },
  {
   "cell_type": "code",
   "execution_count": 1,
   "metadata": {},
   "outputs": [
    {
     "name": "stdout",
     "output_type": "stream",
     "text": [
      "2464\n"
     ]
    }
   ],
   "source": [
    "# Python code to count occurrences of 'XMAS' in a grid\n",
    "\n",
    "def count_xmas(grid, word='XMAS'):\n",
    "    rows = len(grid)\n",
    "    cols = len(grid[0])\n",
    "    word_length = len(word)\n",
    "    count = 0\n",
    "\n",
    "    # Define 8 possible directions: N, NE, E, SE, S, SW, W, NW\n",
    "    directions = [(-1, 0), (-1, 1), (0, 1), (1, 1),\n",
    "                  (1, 0), (1, -1), (0, -1), (-1, -1)]\n",
    "\n",
    "    for i in range(rows):\n",
    "        for j in range(cols):\n",
    "            for dx, dy in directions:\n",
    "                match = True\n",
    "                for k in range(word_length):\n",
    "                    x = i + dx * k\n",
    "                    y = j + dy * k\n",
    "                    if x < 0 or x >= rows or y < 0 or y >= cols or grid[x][y] != word[k]:\n",
    "                        match = False\n",
    "                        break\n",
    "                if match:\n",
    "                    count += 1\n",
    "    return count\n",
    "\n",
    "def main():\n",
    "    with open('input.txt', 'r') as file:\n",
    "        grid = [line.strip() for line in file if line.strip()]\n",
    "    print(count_xmas(grid))\n",
    "\n",
    "if __name__ == \"__main__\":\n",
    "    main()"
   ]
  },
  {
   "cell_type": "markdown",
   "metadata": {},
   "source": [
    "## Part 2"
   ]
  },
  {
   "cell_type": "code",
   "execution_count": 3,
   "metadata": {},
   "outputs": [
    {
     "name": "stdout",
     "output_type": "stream",
     "text": [
      "1982\n"
     ]
    }
   ],
   "source": [
    "# Python code to count occurrences of 'X-MAS' in a grid\n",
    "\n",
    "def read_grid(filename):\n",
    "    with open(filename, 'r') as file:\n",
    "        grid = [list(line.strip()) for line in file if line.strip()]\n",
    "    return grid\n",
    "\n",
    "def is_valid_sequence(seq, target='MAS'):\n",
    "    return ''.join(seq) == target or ''.join(seq) == target[::-1]\n",
    "\n",
    "def count_xmas(grid):\n",
    "    rows = len(grid)\n",
    "    cols = len(grid[0])\n",
    "    count = 0\n",
    "    target = 'MAS'\n",
    "\n",
    "    for i in range(1, rows - 1):\n",
    "        for j in range(1, cols - 1):\n",
    "            # Check NW-SE diagonal\n",
    "            nw_se = [grid[i-1][j-1], grid[i][j], grid[i+1][j+1]]\n",
    "            # Check NE-SW diagonal\n",
    "            ne_sw = [grid[i-1][j+1], grid[i][j], grid[i+1][j-1]]\n",
    "            \n",
    "            if is_valid_sequence(nw_se, target) and is_valid_sequence(ne_sw, target):\n",
    "                count += 1\n",
    "\n",
    "    return count\n",
    "\n",
    "def main():\n",
    "    grid = read_grid('input.txt')\n",
    "    total_xmas = count_xmas(grid)\n",
    "    print(total_xmas)\n",
    "\n",
    "if __name__ == \"__main__\":\n",
    "    main()"
   ]
  }
 ],
 "metadata": {
  "kernelspec": {
   "display_name": "AdventOfCode",
   "language": "python",
   "name": "python3"
  },
  "language_info": {
   "codemirror_mode": {
    "name": "ipython",
    "version": 3
   },
   "file_extension": ".py",
   "mimetype": "text/x-python",
   "name": "python",
   "nbconvert_exporter": "python",
   "pygments_lexer": "ipython3",
   "version": "3.10.15"
  }
 },
 "nbformat": 4,
 "nbformat_minor": 2
}
