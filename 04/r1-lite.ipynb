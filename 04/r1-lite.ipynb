{
 "cells": [
  {
   "cell_type": "markdown",
   "metadata": {},
   "source": [
    "# Day 4 - Deepseek R1 Lite"
   ]
  },
  {
   "cell_type": "code",
   "execution_count": 1,
   "metadata": {},
   "outputs": [
    {
     "name": "stdout",
     "output_type": "stream",
     "text": [
      "2464\n"
     ]
    }
   ],
   "source": [
    "# Read the grid from input.txt\n",
    "with open('input.txt', 'r') as file:\n",
    "    lines = file.readlines()\n",
    "\n",
    "# Remove any leading/trailing whitespace from each line and convert to list of lists\n",
    "grid = [list(line.strip()) for line in lines if line.strip()]\n",
    "\n",
    "# Get the number of rows and columns\n",
    "n = len(grid)\n",
    "m = len(grid[0]) if n > 0 else 0\n",
    "\n",
    "# Define eight directions as (dx, dy)\n",
    "directions = [\n",
    "    (0, 1),   # Right\n",
    "    (0, -1),  # Left\n",
    "    (1, 0),   # Down\n",
    "    (-1, 0),  # Up\n",
    "    (1, 1),   # Right-Down diagonal\n",
    "    (1, -1),  # Left-Down diagonal\n",
    "    (-1, 1),  # Right-Up diagonal\n",
    "    (-1, -1)  # Left-Up diagonal\n",
    "]\n",
    "\n",
    "# Initialize counter for \"XMAS\" occurrences\n",
    "count = 0\n",
    "\n",
    "# Iterate through each cell in the grid\n",
    "for i in range(n):\n",
    "    for j in range(m):\n",
    "        # Check each direction\n",
    "        for dx, dy in directions:\n",
    "            # Calculate the positions of the next three letters\n",
    "            x1, y1 = i + dx, j + dy\n",
    "            x2, y2 = i + 2*dx, j + 2*dy\n",
    "            x3, y3 = i + 3*dx, j + 3*dy\n",
    "            # Check if all positions are within bounds\n",
    "            if (0 <= x1 < n and 0 <= y1 < m and\n",
    "                0 <= x2 < n and 0 <= y2 < m and\n",
    "                0 <= x3 < n and 0 <= y3 < m):\n",
    "                # Check if the sequence matches \"XMAS\"\n",
    "                if (grid[i][j] == 'X' and\n",
    "                    grid[x1][y1] == 'M' and\n",
    "                    grid[x2][y2] == 'A' and\n",
    "                    grid[x3][y3] == 'S'):\n",
    "                    count += 1\n",
    "\n",
    "# Print the total count of \"XMAS\" occurrences\n",
    "print(count)"
   ]
  },
  {
   "cell_type": "markdown",
   "metadata": {},
   "source": [
    "## Part 2"
   ]
  },
  {
   "cell_type": "code",
   "execution_count": 3,
   "metadata": {},
   "outputs": [
    {
     "name": "stdout",
     "output_type": "stream",
     "text": [
      "1982\n"
     ]
    }
   ],
   "source": [
    "# Read the grid from input.txt\n",
    "with open('input.txt', 'r') as file:\n",
    "    lines = file.readlines()\n",
    "\n",
    "# Remove any leading/trailing whitespace from each line and convert to list of lists\n",
    "grid = [list(line.strip()) for line in lines if line.strip()]\n",
    "\n",
    "# Get the number of rows and columns\n",
    "n = len(grid)\n",
    "m = len(grid[0]) if n > 0 else 0\n",
    "\n",
    "# Define the valid sequences\n",
    "valid_sequences = {'MAS', 'SAM'}\n",
    "\n",
    "# Initialize counter for \"X-MAS\" occurrences\n",
    "count = 0\n",
    "\n",
    "# Iterate through each cell in the grid, excluding the edges\n",
    "for i in range(1, n - 1):\n",
    "    for j in range(1, m - 1):\n",
    "        if grid[i][j] == 'A':\n",
    "            # Check diagonal 1: top-left to bottom-right\n",
    "            diag1 = grid[i-1][j-1] + grid[i][j] + grid[i+1][j+1]\n",
    "            # Check diagonal 2: top-right to bottom-left\n",
    "            diag2 = grid[i-1][j+1] + grid[i][j] + grid[i+1][j-1]\n",
    "            \n",
    "            # Check if both diagonals form a valid sequence\n",
    "            if diag1 in valid_sequences and diag2 in valid_sequences:\n",
    "                count += 1\n",
    "\n",
    "# Print the total count of \"X-MAS\" occurrences\n",
    "print(count)"
   ]
  }
 ],
 "metadata": {
  "kernelspec": {
   "display_name": "AdventOfCode",
   "language": "python",
   "name": "python3"
  },
  "language_info": {
   "codemirror_mode": {
    "name": "ipython",
    "version": 3
   },
   "file_extension": ".py",
   "mimetype": "text/x-python",
   "name": "python",
   "nbconvert_exporter": "python",
   "pygments_lexer": "ipython3",
   "version": "3.10.15"
  }
 },
 "nbformat": 4,
 "nbformat_minor": 2
}
