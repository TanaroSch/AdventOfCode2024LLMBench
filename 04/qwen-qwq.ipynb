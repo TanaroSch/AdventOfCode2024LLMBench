{
 "cells": [
  {
   "cell_type": "markdown",
   "metadata": {},
   "source": [
    "# Day 4 - Qwen QwQ 32B"
   ]
  },
  {
   "cell_type": "code",
   "execution_count": 1,
   "metadata": {},
   "outputs": [
    {
     "name": "stdout",
     "output_type": "stream",
     "text": [
      "2464\n"
     ]
    }
   ],
   "source": [
    "def main():\n",
    "    # Read the grid from input file\n",
    "    with open(\"input.txt\", \"r\") as file:\n",
    "        lines = file.readlines()\n",
    "    grid = [list(line.strip().upper()) for line in lines]\n",
    "    \n",
    "    # Determine the number of rows and columns\n",
    "    num_rows = len(grid)\n",
    "    num_cols = len(grid[0]) if num_rows > 0 else 0\n",
    "    \n",
    "    # Define all eight possible directions\n",
    "    directions = [\n",
    "        (0, 1),   # right\n",
    "        (0, -1),  # left\n",
    "        (1, 0),   # down\n",
    "        (-1, 0),  # up\n",
    "        (1, 1),   # down-right\n",
    "        (1, -1),  # down-left\n",
    "        (-1, 1),  # up-right\n",
    "        (-1, -1)  # up-left\n",
    "    ]\n",
    "    \n",
    "    # Initialize count of occurrences\n",
    "    count = 0\n",
    "    \n",
    "    # Iterate through each cell in the grid\n",
    "    for row in range(num_rows):\n",
    "        for col in range(num_cols):\n",
    "            # Check in each direction\n",
    "            for dr, dc in directions:\n",
    "                # Calculate positions of the four letters\n",
    "                positions = [(row + i*dr, col + i*dc) for i in range(4)]\n",
    "                # Check if all positions are within bounds\n",
    "                if all(0 <= r < num_rows and 0 <= c < num_cols for r, c in positions):\n",
    "                    # Collect the letters at these positions\n",
    "                    letters = [grid[r][c] for r, c in positions]\n",
    "                    # Check if they form the word \"XMAS\"\n",
    "                    if ''.join(letters) == \"XMAS\":\n",
    "                        count += 1\n",
    "    \n",
    "    # Output the total count\n",
    "    print(count)\n",
    "\n",
    "if __name__ == \"__main__\":\n",
    "    main()"
   ]
  },
  {
   "cell_type": "markdown",
   "metadata": {},
   "source": [
    "## Part 2"
   ]
  },
  {
   "cell_type": "code",
   "execution_count": 8,
   "metadata": {},
   "outputs": [
    {
     "ename": "SyntaxError",
     "evalue": "unmatched ')' (1815854555.py, line 30)",
     "output_type": "error",
     "traceback": [
      "\u001b[1;36m  Cell \u001b[1;32mIn[8], line 30\u001b[1;36m\u001b[0m\n\u001b[1;33m    def is_mas sequence, start_row, start_col, dr, dc):\u001b[0m\n\u001b[1;37m                                                     ^\u001b[0m\n\u001b[1;31mSyntaxError\u001b[0m\u001b[1;31m:\u001b[0m unmatched ')'\n"
     ]
    }
   ],
   "source": [
    "def main():\n",
    "    with open(\"input.txt\", \"r\") as file:\n",
    "        lines = file.readlines()\n",
    "    grid = [list(line.strip().upper()) for line in lines]\n",
    "    num_rows = len(grid)\n",
    "    num_cols = len(grid[0])\n",
    "    \n",
    "    directions = [\n",
    "        (0, 1),   # right\n",
    "        (0, -1),  # left\n",
    "        (1, 0),   # down\n",
    "        (-1, 0),  # up\n",
    "        (1, 1),   # down-right\n",
    "        (1, -1),  # down-left\n",
    "        (-1, 1),  # up-right\n",
    "        (-1, -1)  # up-left\n",
    "    ]\n",
    "    \n",
    "    perpendicular_pairs = {\n",
    "        (0,1): [(1,0), (-1,0)],\n",
    "        (0,-1): [(1,0), (-1,0)],\n",
    "        (1,0): [(0,1), (0,-1)],\n",
    "        (-1,0): [(0,1), (0,-1)],\n",
    "        (1,1): [(-1,1), (1,-1)],\n",
    "        (1,-1): [(-1,-1), (1,1)],\n",
    "        (-1,1): [(1,1), (-1,-1)],\n",
    "        (-1,-1): [(1,-1), (-1,1)]\n",
    "    }\n",
    "    \n",
    "    def is_mas sequence, start_row, start_col, dr, dc):\n",
    "        positions = [(start_row + i*dr, start_col + i*dc) for i in range(3)]\n",
    "        if all(0 <= r < num_rows and 0 <= c < num_cols for r, c in positions):\n",
    "            letters = [grid[r][c] for r, c in positions]\n",
    "            return ''.join(letters) == sequence\n",
    "        return False\n",
    "    \n",
    "    count = 0\n",
    "    for row in range(num_rows):\n",
    "        for col in range(num_cols):\n",
    "            if grid[row][col] == 'A':\n",
    "                for dir1 in directions:\n",
    "                    for dir2 in perpendicular_pairs[dir1]:\n",
    "                        # Check MAS in dir1 and MAS in dir2\n",
    "                        if is_mas(\"MAS\", row, col, dir1[0], dir1[1]) and is_mas(\"MAS\", row, col, dir2[0], dir2[1]):\n",
    "                            count += 1\n",
    "                        # Check SAM in dir1 and MAS in dir2\n",
    "                        if is_mas(\"SAM\", row, col, dir1[0], dir1[1]) and is_mas(\"MAS\", row, col, dir2[0], dir2[1]):\n",
    "                            count += 1\n",
    "                        # Check MAS in dir1 and SAM in dir2\n",
    "                        if is_mas(\"MAS\", row, col, dir1[0], dir1[1]) and is_mas(\"SAM\", row, col, dir2[0], dir2[1]):\n",
    "                            count += 1\n",
    "                        # Check SAM in dir1 and SAM in dir2\n",
    "                        if is_mas(\"SAM\", row, col, dir1[0], dir1[1]) and is_mas(\"SAM\", row, col, dir2[0], dir2[1]):\n",
    "                            count += 1\n",
    "    print(count)\n",
    "\n",
    "if __name__ == \"__main__\":\n",
    "    main()"
   ]
  }
 ],
 "metadata": {
  "kernelspec": {
   "display_name": "AdventOfCode",
   "language": "python",
   "name": "python3"
  },
  "language_info": {
   "codemirror_mode": {
    "name": "ipython",
    "version": 3
   },
   "file_extension": ".py",
   "mimetype": "text/x-python",
   "name": "python",
   "nbconvert_exporter": "python",
   "pygments_lexer": "ipython3",
   "version": "3.10.15"
  }
 },
 "nbformat": 4,
 "nbformat_minor": 2
}
