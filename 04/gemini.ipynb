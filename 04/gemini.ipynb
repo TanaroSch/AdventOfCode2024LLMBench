{
 "cells": [
  {
   "cell_type": "markdown",
   "metadata": {},
   "source": [
    "# Day 4 - Gemini"
   ]
  },
  {
   "cell_type": "code",
   "execution_count": 2,
   "metadata": {},
   "outputs": [
    {
     "name": "stdout",
     "output_type": "stream",
     "text": [
      "2464\n"
     ]
    }
   ],
   "source": [
    "\n",
    "def count_xmas(grid):\n",
    "    \"\"\"Counts the number of times \"XMAS\" appears in a grid.\"\"\"\n",
    "\n",
    "    rows = len(grid)\n",
    "    cols = len(grid[0])\n",
    "    count = 0\n",
    "\n",
    "    def check_direction(row, col, dr, dc):\n",
    "        \"\"\"Checks for \"XMAS\" in a specific direction.\"\"\"\n",
    "        nonlocal count\n",
    "        word = \"XMAS\"\n",
    "        for i in range(len(word)):\n",
    "            r, c = row + i * dr, col + i * dc\n",
    "            if 0 <= r < rows and 0 <= c < cols and grid[r][c] == word[i]:\n",
    "                continue\n",
    "            else:\n",
    "                return\n",
    "        count += 1\n",
    "\n",
    "    for row in range(rows):\n",
    "        for col in range(cols):\n",
    "            # Check all 8 directions\n",
    "            check_direction(row, col, 0, 1)  # Right\n",
    "            check_direction(row, col, 0, -1)  # Left\n",
    "            check_direction(row, col, 1, 0)  # Down\n",
    "            check_direction(row, col, -1, 0)  # Up\n",
    "            check_direction(row, col, 1, 1)  # Down-Right\n",
    "            check_direction(row, col, 1, -1)  # Down-Left\n",
    "            check_direction(row, col, -1, 1)  # Up-Right\n",
    "            check_direction(row, col, -1, -1)  # Up-Left\n",
    "\n",
    "    return count\n",
    "\n",
    "\n",
    "if __name__ == \"__main__\":\n",
    "    with open(\"input.txt\", \"r\") as f:\n",
    "        grid = [list(line.strip()) for line in f]\n",
    "\n",
    "    result = count_xmas(grid)\n",
    "    print(result)\n"
   ]
  },
  {
   "cell_type": "markdown",
   "metadata": {},
   "source": [
    "## Part 2"
   ]
  },
  {
   "cell_type": "code",
   "execution_count": 7,
   "metadata": {},
   "outputs": [
    {
     "name": "stdout",
     "output_type": "stream",
     "text": [
      "836\n"
     ]
    }
   ],
   "source": [
    "def count_xmas_part2(grid):\n",
    "    \"\"\"Counts the number of X-MAS patterns in a grid.\"\"\"\n",
    "\n",
    "    rows = len(grid)\n",
    "    cols = len(grid[0])\n",
    "    count = 0\n",
    "\n",
    "    def check_mas(row, col, dr, dc):\n",
    "        \"\"\"Checks for \"MAS\" in a specific direction.\"\"\"\n",
    "        if (0 <= row + 2 * dr < rows and 0 <= col + 2 * dc < cols and\n",
    "                grid[row][col] == 'M' and\n",
    "                grid[row + dr][col + dc] == 'A' and\n",
    "                grid[row + 2 * dr][col + 2 * dc] == 'S'):\n",
    "            return 1\n",
    "        else:\n",
    "            return 0\n",
    "\n",
    "    def check_sam(row, col, dr, dc):\n",
    "        \"\"\"Checks for \"SAM\" in a specific direction.\"\"\"\n",
    "        if (0 <= row + 2 * dr < rows and 0 <= col + 2 * dc < cols and\n",
    "                grid[row][col] == 'S' and\n",
    "                grid[row + dr][col + dc] == 'A' and\n",
    "                grid[row + 2 * dr][col + 2 * dc] == 'M'):\n",
    "            return 1\n",
    "        else:\n",
    "            return 0\n",
    "\n",
    "    for row in range(rows):\n",
    "        for col in range(cols):\n",
    "            # Check for X-MAS patterns \n",
    "\n",
    "            # Check all combinations of MAS/SAM in the four diagonal directions\n",
    "            \n",
    "            # Top-Left and Bottom-Right\n",
    "            tl_mas = check_mas(row, col, -1, -1)\n",
    "            tl_sam = check_sam(row, col, -1, -1)\n",
    "            br_mas = check_mas(row + 2, col + 2, 1, 1)\n",
    "            br_sam = check_sam(row + 2, col + 2, 1, 1)\n",
    "            count += (tl_mas + tl_sam) * (br_mas + br_sam)\n",
    "\n",
    "            # Top-Right and Bottom-Left\n",
    "            tr_mas = check_mas(row, col, -1, 1)\n",
    "            tr_sam = check_sam(row, col, -1, 1)\n",
    "            bl_mas = check_mas(row + 2, col - 2, 1, -1)\n",
    "            bl_sam = check_sam(row + 2, col - 2, 1, -1)\n",
    "            count += (tr_mas + tr_sam) * (bl_mas + bl_sam)\n",
    "\n",
    "    return count\n",
    "\n",
    "\n",
    "if __name__ == \"__main__\":\n",
    "    with open(\"input.txt\", \"r\") as f:\n",
    "        grid = [list(line.strip()) for line in f]\n",
    "\n",
    "    result = count_xmas_part2(grid)\n",
    "    print(result)"
   ]
  }
 ],
 "metadata": {
  "kernelspec": {
   "display_name": "Python 3",
   "language": "python",
   "name": "python3"
  },
  "language_info": {
   "codemirror_mode": {
    "name": "ipython",
    "version": 3
   },
   "file_extension": ".py",
   "mimetype": "text/x-python",
   "name": "python",
   "nbconvert_exporter": "python",
   "pygments_lexer": "ipython3",
   "version": "3.11.6"
  }
 },
 "nbformat": 4,
 "nbformat_minor": 2
}
