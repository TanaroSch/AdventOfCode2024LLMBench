{
 "cells": [
  {
   "cell_type": "markdown",
   "metadata": {},
   "source": [
    "# Day 4 - Qwen Coder 32B"
   ]
  },
  {
   "cell_type": "code",
   "execution_count": 1,
   "metadata": {},
   "outputs": [
    {
     "name": "stdout",
     "output_type": "stream",
     "text": [
      "The word 'XMAS' appears 2464 times in the grid.\n"
     ]
    }
   ],
   "source": [
    "def read_input(filename):\n",
    "    with open(filename, 'r') as file:\n",
    "        lines = file.readlines()\n",
    "    return [line.strip() for line in lines]\n",
    "\n",
    "def search_word(grid, word):\n",
    "    directions = [\n",
    "        (0, 1), (1, 0), (1, 1), (1, -1),  # right, down, down-right, down-left\n",
    "        (0, -1), (-1, 0), (-1, 1), (-1, -1) # left, up, up-right, up-left\n",
    "    ]\n",
    "    count = 0\n",
    "    rows = len(grid)\n",
    "    cols = len(grid[0]) if grid else 0\n",
    "    \n",
    "    for r in range(rows):\n",
    "        for c in range(cols):\n",
    "            for dr, dc in directions:\n",
    "                match = True\n",
    "                for i in range(len(word)):\n",
    "                    nr, nc = r + i * dr, c + i * dc\n",
    "                    if nr < 0 or nr >= rows or nc < 0 or nc >= cols or grid[nr][nc] != word[i]:\n",
    "                        match = False\n",
    "                        break\n",
    "                if match:\n",
    "                    count += 1\n",
    "    return count\n",
    "\n",
    "def main():\n",
    "    grid = read_input('input.txt')\n",
    "    word = \"XMAS\"\n",
    "    occurrences = search_word(grid, word)\n",
    "    print(f\"The word '{word}' appears {occurrences} times in the grid.\")\n",
    "\n",
    "if __name__ == \"__main__\":\n",
    "    main()"
   ]
  },
  {
   "cell_type": "markdown",
   "metadata": {},
   "source": [
    "## Part 2"
   ]
  },
  {
   "cell_type": "code",
   "execution_count": 11,
   "metadata": {},
   "outputs": [
    {
     "name": "stdout",
     "output_type": "stream",
     "text": [
      "The X-MAS pattern appears 0 times in the grid.\n"
     ]
    }
   ],
   "source": [
    "def read_input(filename):\n",
    "    with open(filename, 'r') as file:\n",
    "        lines = file.readlines()\n",
    "    return [line.strip() for line in lines]\n",
    "\n",
    "def search_xmas(grid):\n",
    "    directions = [\n",
    "        (0, 1), (1, 0), (1, 1), (1, -1)  # right, down, down-right, down-left\n",
    "    ]\n",
    "    count = 0\n",
    "    rows = len(grid)\n",
    "    cols = len(grid[0]) if grid else 0\n",
    "    \n",
    "    for r in range(rows):\n",
    "        for c in range(cols):\n",
    "            for dr, dc in directions:\n",
    "                # Check the first MAS in the direction (dr, dc)\n",
    "                match1 = True\n",
    "                for i in range(3):\n",
    "                    nr, nc = r + i * dr, c + i * dc\n",
    "                    if nr < 0 or nr >= rows or nc < 0 or nc >= cols or grid[nr][nc] != \"MAS\"[i]:\n",
    "                        match1 = False\n",
    "                        break\n",
    "                \n",
    "                if match1:\n",
    "                    # Check the second MAS in the opposite direction (-dr, -dc)\n",
    "                    match2 = True\n",
    "                    for i in range(3):\n",
    "                        nr, nc = r + (2 - i) * -dr, c + (2 - i) * -dc\n",
    "                        if nr < 0 or nr >= rows or nc < 0 or nc >= cols or grid[nr][nc] != \"MAS\"[i]:\n",
    "                            match2 = False\n",
    "                            break\n",
    "                    \n",
    "                    if match2:\n",
    "                        count += 1\n",
    "                        \n",
    "                # Check the first MAS in the direction (dr, dc) but backwards\n",
    "                match1_back = True\n",
    "                for i in range(3):\n",
    "                    nr, nc = r + i * dr, c + i * dc\n",
    "                    if nr < 0 or nr >= rows or nc < 0 or nc >= cols or grid[nr][nc] != \"SAM\"[i]:\n",
    "                        match1_back = False\n",
    "                        break\n",
    "                \n",
    "                if match1_back:\n",
    "                    # Check the second MAS in the opposite direction (-dr, -dc) but backwards\n",
    "                    match2_back = True\n",
    "                    for i in range(3):\n",
    "                        nr, nc = r + (2 - i) * -dr, c + (2 - i) * -dc\n",
    "                        if nr < 0 or nr >= rows or nc < 0 or nc >= cols or grid[nr][nc] != \"SAM\"[i]:\n",
    "                            match2_back = False\n",
    "                            break\n",
    "                    \n",
    "                    if match2_back:\n",
    "                        count += 1\n",
    "                        \n",
    "    return count\n",
    "\n",
    "def main():\n",
    "    grid = read_input('input.txt')\n",
    "    occurrences = search_xmas(grid)\n",
    "    print(f\"The X-MAS pattern appears {occurrences} times in the grid.\")\n",
    "\n",
    "if __name__ == \"__main__\":\n",
    "    main()"
   ]
  }
 ],
 "metadata": {
  "kernelspec": {
   "display_name": "Python 3",
   "language": "python",
   "name": "python3"
  },
  "language_info": {
   "codemirror_mode": {
    "name": "ipython",
    "version": 3
   },
   "file_extension": ".py",
   "mimetype": "text/x-python",
   "name": "python",
   "nbconvert_exporter": "python",
   "pygments_lexer": "ipython3",
   "version": "3.11.6"
  }
 },
 "nbformat": 4,
 "nbformat_minor": 2
}
