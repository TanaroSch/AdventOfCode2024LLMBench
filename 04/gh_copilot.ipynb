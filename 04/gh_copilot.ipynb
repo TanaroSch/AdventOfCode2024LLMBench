{
 "cells": [
  {
   "cell_type": "markdown",
   "metadata": {},
   "source": [
    "# Day 4 - GH Copilot"
   ]
  },
  {
   "cell_type": "code",
   "execution_count": 1,
   "metadata": {},
   "outputs": [
    {
     "name": "stdout",
     "output_type": "stream",
     "text": [
      "2464\n"
     ]
    }
   ],
   "source": [
    "def read_input(file_name):\n",
    "    with open(file_name, 'r') as file:\n",
    "        return [line.strip() for line in file]\n",
    "\n",
    "def search_word(grid, word):\n",
    "    rows = len(grid)\n",
    "    cols = len(grid[0])\n",
    "    word_len = len(word)\n",
    "    count = 0\n",
    "\n",
    "    # Directions: right, left, down, up, diagonal down-right, diagonal down-left, diagonal up-right, diagonal up-left\n",
    "    directions = [(0, 1), (0, -1), (1, 0), (-1, 0), (1, 1), (1, -1), (-1, 1), (-1, -1)]\n",
    "\n",
    "    def is_valid(x, y):\n",
    "        return 0 <= x < rows and 0 <= y < cols\n",
    "\n",
    "    def search_from(x, y, dx, dy):\n",
    "        for k in range(word_len):\n",
    "            nx, ny = x + k * dx, y + k * dy\n",
    "            if not is_valid(nx, ny) or grid[nx][ny] != word[k]:\n",
    "                return False\n",
    "        return True\n",
    "\n",
    "    for i in range(rows):\n",
    "        for j in range(cols):\n",
    "            for dx, dy in directions:\n",
    "                if search_from(i, j, dx, dy):\n",
    "                    count += 1\n",
    "\n",
    "    return count\n",
    "\n",
    "def main():\n",
    "    grid = read_input('input.txt')\n",
    "    word = \"XMAS\"\n",
    "    count = search_word(grid, word)\n",
    "    print(count)\n",
    "\n",
    "if __name__ == \"__main__\":\n",
    "    main()"
   ]
  },
  {
   "cell_type": "markdown",
   "metadata": {},
   "source": [
    "## Part 2"
   ]
  },
  {
   "cell_type": "code",
   "execution_count": 7,
   "metadata": {},
   "outputs": [
    {
     "name": "stdout",
     "output_type": "stream",
     "text": [
      "1250\n"
     ]
    }
   ],
   "source": [
    "def read_input(file_name):\n",
    "    with open(file_name, 'r') as file:\n",
    "        return [line.strip() for line in file]\n",
    "\n",
    "def search_xmas(grid):\n",
    "    rows = len(grid)\n",
    "    cols = len(grid[0])\n",
    "    count = 0\n",
    "\n",
    "    # Define the relative positions for the X-MAS pattern\n",
    "    patterns = [\n",
    "        [(0, 0), (1, -1), (2, -2), (1, 1), (2, 2)],  # Top-left to bottom-right\n",
    "        [(0, 0), (1, 1), (2, 2), (1, -1), (2, -2)],  # Top-right to bottom-left\n",
    "        [(0, 0), (-1, -1), (-2, -2), (-1, 1), (-2, 2)],  # Bottom-right to top-left\n",
    "        [(0, 0), (-1, 1), (-2, 2), (-1, -1), (-2, -2)]  # Bottom-left to top-right\n",
    "    ]\n",
    "\n",
    "    def is_valid(x, y):\n",
    "        return 0 <= x < rows and 0 <= y < cols\n",
    "\n",
    "    def search_from(x, y, pattern):\n",
    "        for dx, dy in pattern:\n",
    "            nx, ny = x + dx, y + dy\n",
    "            if not is_valid(nx, ny):\n",
    "                return False\n",
    "        return True\n",
    "\n",
    "    def matches_pattern(x, y, pattern):\n",
    "        return (grid[x][y] == 'M' and\n",
    "                grid[x + pattern[1][0]][y + pattern[1][1]] == 'A' and\n",
    "                grid[x + pattern[2][0]][y + pattern[2][1]] == 'S' and\n",
    "                grid[x + pattern[3][0]][y + pattern[3][1]] == 'A' and\n",
    "                grid[x + pattern[4][0]][y + pattern[4][1]] == 'S')\n",
    "\n",
    "    for i in range(rows):\n",
    "        for j in range(cols):\n",
    "            for pattern in patterns:\n",
    "                if search_from(i, j, pattern) and matches_pattern(i, j, pattern):\n",
    "                    count += 1\n",
    "\n",
    "    return count\n",
    "\n",
    "def main():\n",
    "    grid = read_input('input.txt')\n",
    "    count = search_xmas(grid)\n",
    "    print(count)\n",
    "\n",
    "if __name__ == \"__main__\":\n",
    "    main()"
   ]
  }
 ],
 "metadata": {
  "kernelspec": {
   "display_name": "Python 3",
   "language": "python",
   "name": "python3"
  },
  "language_info": {
   "codemirror_mode": {
    "name": "ipython",
    "version": 3
   },
   "file_extension": ".py",
   "mimetype": "text/x-python",
   "name": "python",
   "nbconvert_exporter": "python",
   "pygments_lexer": "ipython3",
   "version": "3.11.6"
  }
 },
 "nbformat": 4,
 "nbformat_minor": 2
}
