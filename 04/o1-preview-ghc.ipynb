{
 "cells": [
  {
   "cell_type": "markdown",
   "metadata": {},
   "source": [
    "# Day 4 - o1-preview (GHC)"
   ]
  },
  {
   "cell_type": "code",
   "execution_count": 1,
   "metadata": {},
   "outputs": [
    {
     "name": "stdout",
     "output_type": "stream",
     "text": [
      "2464\n"
     ]
    }
   ],
   "source": [
    "def read_grid(filename):\n",
    "    with open(filename, 'r') as f:\n",
    "        grid = [line.strip() for line in f if line.strip()]\n",
    "    return grid\n",
    "\n",
    "def find_word(grid, word):\n",
    "    count = 0\n",
    "    rows = len(grid)\n",
    "    cols = len(grid[0]) if rows > 0 else 0\n",
    "    word_len = len(word)\n",
    "    directions = [(-1, 0),  # North\n",
    "                  (-1, 1),  # Northeast\n",
    "                  (0, 1),   # East\n",
    "                  (1, 1),   # Southeast\n",
    "                  (1, 0),   # South\n",
    "                  (1, -1),  # Southwest\n",
    "                  (0, -1),  # West\n",
    "                  (-1, -1)] # Northwest\n",
    "    for x in range(rows):\n",
    "        for y in range(cols):\n",
    "            for dx, dy in directions:\n",
    "                nx, ny = x, y\n",
    "                for k in range(word_len):\n",
    "                    if 0 <= nx < rows and 0 <= ny < cols:\n",
    "                        if grid[nx][ny] != word[k]:\n",
    "                            break\n",
    "                        nx += dx\n",
    "                        ny += dy\n",
    "                    else:\n",
    "                        break\n",
    "                else:\n",
    "                    count += 1\n",
    "    return count\n",
    "\n",
    "def main():\n",
    "    grid = read_grid('input.txt')\n",
    "    total = find_word(grid, 'XMAS')\n",
    "    print(total)\n",
    "\n",
    "if __name__ == '__main__':\n",
    "    main()"
   ]
  },
  {
   "cell_type": "markdown",
   "metadata": {},
   "source": [
    "## Part 2"
   ]
  },
  {
   "cell_type": "code",
   "execution_count": 2,
   "metadata": {},
   "outputs": [
    {
     "name": "stdout",
     "output_type": "stream",
     "text": [
      "1982\n"
     ]
    }
   ],
   "source": [
    "def read_grid(filename):\n",
    "    with open(filename, 'r') as f:\n",
    "        grid = [line.strip() for line in f if line.strip()]\n",
    "    return grid\n",
    "\n",
    "def is_mas_sequence(c1, c2, c3):\n",
    "    return (c1, c2, c3) == ('M', 'A', 'S') or (c1, c2, c3) == ('S', 'A', 'M')\n",
    "\n",
    "def find_x_mas(grid):\n",
    "    count = 0\n",
    "    rows = len(grid)\n",
    "    cols = len(grid[0]) if rows > 0 else 0\n",
    "    for x in range(1, rows - 1):\n",
    "        for y in range(1, cols - 1):\n",
    "            if grid[x][y] == 'A':\n",
    "                # Check first diagonal (top-left to bottom-right)\n",
    "                if is_mas_sequence(grid[x-1][y-1], grid[x][y], grid[x+1][y+1]):\n",
    "                    # Check second diagonal (top-right to bottom-left)\n",
    "                    if is_mas_sequence(grid[x-1][y+1], grid[x][y], grid[x+1][y-1]):\n",
    "                        count += 1\n",
    "    return count\n",
    "\n",
    "def main():\n",
    "    grid = read_grid('input.txt')\n",
    "    total = find_x_mas(grid)\n",
    "    print(total)\n",
    "\n",
    "if __name__ == '__main__':\n",
    "    main()"
   ]
  }
 ],
 "metadata": {
  "kernelspec": {
   "display_name": "AdventOfCode",
   "language": "python",
   "name": "python3"
  },
  "language_info": {
   "codemirror_mode": {
    "name": "ipython",
    "version": 3
   },
   "file_extension": ".py",
   "mimetype": "text/x-python",
   "name": "python",
   "nbconvert_exporter": "python",
   "pygments_lexer": "ipython3",
   "version": "3.10.15"
  }
 },
 "nbformat": 4,
 "nbformat_minor": 2
}
