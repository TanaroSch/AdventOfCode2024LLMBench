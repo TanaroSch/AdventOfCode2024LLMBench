{
 "cells": [
  {
   "cell_type": "markdown",
   "metadata": {},
   "source": [
    "# Day 4 - o1"
   ]
  },
  {
   "cell_type": "code",
   "execution_count": 1,
   "metadata": {},
   "outputs": [
    {
     "name": "stdout",
     "output_type": "stream",
     "text": [
      "2464\n"
     ]
    }
   ],
   "source": [
    "def find_xmas(grid):\n",
    "    # The word to search for\n",
    "    word = \"XMAS\"\n",
    "    word_length = len(word)\n",
    "    \n",
    "    # Dimensions of the grid\n",
    "    rows = len(grid)\n",
    "    cols = len(grid[0])\n",
    "\n",
    "    # Directions to search: horizontal, vertical, and diagonals\n",
    "    # Each direction is represented as a (dx, dy) vector.\n",
    "    # dx represents the row increment, dy represents the column increment.\n",
    "    directions = [\n",
    "        (-1, 0),  # up\n",
    "        (1, 0),   # down\n",
    "        (0, -1),  # left\n",
    "        (0, 1),   # right\n",
    "        (-1, -1), # up-left\n",
    "        (-1, 1),  # up-right\n",
    "        (1, -1),  # down-left\n",
    "        (1, 1)    # down-right\n",
    "    ]\n",
    "    \n",
    "    count = 0\n",
    "\n",
    "    for r in range(rows):\n",
    "        for c in range(cols):\n",
    "            # Check if the starting character matches the first letter of the word\n",
    "            if grid[r][c] == word[0]:\n",
    "                # Check each direction\n",
    "                for dx, dy in directions:\n",
    "                    # Check if it's possible for the entire word to fit in this direction\n",
    "                    rr = r\n",
    "                    cc = c\n",
    "                    match = True\n",
    "                    for k in range(word_length):\n",
    "                        # Check boundaries\n",
    "                        if not (0 <= rr < rows and 0 <= cc < cols):\n",
    "                            match = False\n",
    "                            break\n",
    "                        if grid[rr][cc] != word[k]:\n",
    "                            match = False\n",
    "                            break\n",
    "                        rr += dx\n",
    "                        cc += dy\n",
    "                    if match:\n",
    "                        count += 1\n",
    "    return count\n",
    "\n",
    "if __name__ == \"__main__\":\n",
    "    # Read the input from \"input.txt\"\n",
    "    with open(\"input.txt\", \"r\") as f:\n",
    "        grid = [line.strip() for line in f if line.strip()]\n",
    "\n",
    "    # Find all occurrences of XMAS\n",
    "    result = find_xmas(grid)\n",
    "\n",
    "    # Print the result\n",
    "    print(result)\n"
   ]
  },
  {
   "cell_type": "markdown",
   "metadata": {},
   "source": [
    "## Part 2"
   ]
  },
  {
   "cell_type": "code",
   "execution_count": 2,
   "metadata": {},
   "outputs": [
    {
     "name": "stdout",
     "output_type": "stream",
     "text": [
      "1982\n"
     ]
    }
   ],
   "source": [
    "def find_x_mas(grid):\n",
    "    rows = len(grid)\n",
    "    cols = len(grid[0])\n",
    "    count = 0\n",
    "\n",
    "    # We are looking for a pattern that forms an 'X' of size 3x3 with 'A' at the center:\n",
    "    # The center cell is at (r, c), must be 'A'\n",
    "    # The diagonals going through that cell must form 'MAS' or 'SAM' sequences.\n",
    "    #\n",
    "    # Pattern (with '.' marking cells we don't care about):\n",
    "    #\n",
    "    # M|S . S|M\n",
    "    # .   A   .\n",
    "    # S|M . M|S\n",
    "    #\n",
    "    # This means on one diagonal (top-left to bottom-right) we must have either:\n",
    "    #   M (at r-1,c-1), A (at r,c), S (at r+1,c+1)\n",
    "    # OR\n",
    "    #   S (at r-1,c-1), A (at r,c), M (at r+1,c+1)\n",
    "    #\n",
    "    # And on the other diagonal (top-right to bottom-left) we must have either:\n",
    "    #   M (at r-1,c+1), A (at r,c), S (at r+1,c-1)\n",
    "    # OR\n",
    "    #   S (at r-1,c+1), A (at r,c), M (at r+1,c-1)\n",
    "\n",
    "    # We'll iterate over all cells that can be the center of such a pattern:\n",
    "    for r in range(1, rows-1):\n",
    "        for c in range(1, cols-1):\n",
    "            if grid[r][c] == 'A':\n",
    "                # Check the diagonals\n",
    "                top_left = grid[r-1][c-1]\n",
    "                bottom_right = grid[r+1][c+1]\n",
    "                top_right = grid[r-1][c+1]\n",
    "                bottom_left = grid[r+1][c-1]\n",
    "\n",
    "                # Check patterns for the top-left to bottom-right diagonal\n",
    "                diagonal1_ok = ((top_left == 'M' and bottom_right == 'S') or\n",
    "                                (top_left == 'S' and bottom_right == 'M'))\n",
    "\n",
    "                # Check patterns for the top-right to bottom-left diagonal\n",
    "                diagonal2_ok = ((top_right == 'M' and bottom_left == 'S') or\n",
    "                                (top_right == 'S' and bottom_left == 'M'))\n",
    "\n",
    "                if diagonal1_ok and diagonal2_ok:\n",
    "                    count += 1\n",
    "\n",
    "    return count\n",
    "\n",
    "if __name__ == \"__main__\":\n",
    "    # Read the input from \"input.txt\"\n",
    "    with open(\"input.txt\", \"r\") as f:\n",
    "        grid = [line.strip() for line in f if line.strip()]\n",
    "\n",
    "    # Find all occurrences of the X-MAS pattern\n",
    "    result = find_x_mas(grid)\n",
    "\n",
    "    # Print the result\n",
    "    print(result)\n"
   ]
  }
 ],
 "metadata": {
  "kernelspec": {
   "display_name": "AdventOfCode",
   "language": "python",
   "name": "python3"
  },
  "language_info": {
   "codemirror_mode": {
    "name": "ipython",
    "version": 3
   },
   "file_extension": ".py",
   "mimetype": "text/x-python",
   "name": "python",
   "nbconvert_exporter": "python",
   "pygments_lexer": "ipython3",
   "version": "3.10.15"
  }
 },
 "nbformat": 4,
 "nbformat_minor": 2
}
