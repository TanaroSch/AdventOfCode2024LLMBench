{
 "cells": [
  {
   "cell_type": "markdown",
   "metadata": {},
   "source": [
    "# Day 3 - o1-preview (GHC)"
   ]
  },
  {
   "cell_type": "code",
   "execution_count": 1,
   "metadata": {},
   "outputs": [
    {
     "name": "stdout",
     "output_type": "stream",
     "text": [
      "170068701\n"
     ]
    }
   ],
   "source": [
    "import re\n",
    "\n",
    "with open('input.txt', 'r') as f:\n",
    "    content = f.read()\n",
    "\n",
    "matches = re.findall(r'\\bmul\\((\\d{1,3}),(\\d{1,3})\\)', content)\n",
    "\n",
    "total = 0\n",
    "for x_str, y_str in matches:\n",
    "    x = int(x_str)\n",
    "    y = int(y_str)\n",
    "    total += x * y\n",
    "\n",
    "print(total)"
   ]
  },
  {
   "cell_type": "markdown",
   "metadata": {},
   "source": [
    "## Part 2"
   ]
  },
  {
   "cell_type": "code",
   "execution_count": 2,
   "metadata": {},
   "outputs": [
    {
     "name": "stdout",
     "output_type": "stream",
     "text": [
      "78683433\n"
     ]
    }
   ],
   "source": [
    "import re\n",
    "\n",
    "with open('input.txt', 'r') as f:\n",
    "    content = f.read()\n",
    "\n",
    "# Patterns for mul, do, and don't instructions\n",
    "mul_pattern = r'\\bmul\\((\\d{1,3}),(\\d{1,3})\\)'\n",
    "do_pattern = r'\\b(?:do|undo)\\(\\)'\n",
    "dont_pattern = r\"\\bdon't\\(\\)\"\n",
    "\n",
    "# Collect all matches with their positions\n",
    "matches = []\n",
    "for m in re.finditer(mul_pattern, content):\n",
    "    matches.append({'pos': m.start(), 'type': 'mul', 'x': int(m.group(1)), 'y': int(m.group(2))})\n",
    "for m in re.finditer(do_pattern, content):\n",
    "    matches.append({'pos': m.start(), 'type': 'do'})\n",
    "for m in re.finditer(dont_pattern, content):\n",
    "    matches.append({'pos': m.start(), 'type': 'dont'})\n",
    "\n",
    "# Sort matches by their position in the content\n",
    "matches.sort(key=lambda x: x['pos'])\n",
    "\n",
    "enabled = True\n",
    "total = 0\n",
    "\n",
    "# Process each instruction in order\n",
    "for item in matches:\n",
    "    if item['type'] == 'mul':\n",
    "        if enabled:\n",
    "            total += item['x'] * item['y']\n",
    "    elif item['type'] == 'do':\n",
    "        enabled = True\n",
    "    elif item['type'] == 'dont':\n",
    "        enabled = False\n",
    "\n",
    "print(total)"
   ]
  }
 ],
 "metadata": {
  "kernelspec": {
   "display_name": "AdventOfCode",
   "language": "python",
   "name": "python3"
  },
  "language_info": {
   "codemirror_mode": {
    "name": "ipython",
    "version": 3
   },
   "file_extension": ".py",
   "mimetype": "text/x-python",
   "name": "python",
   "nbconvert_exporter": "python",
   "pygments_lexer": "ipython3",
   "version": "3.10.15"
  }
 },
 "nbformat": 4,
 "nbformat_minor": 2
}
