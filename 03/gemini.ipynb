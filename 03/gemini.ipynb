{
 "cells": [
  {
   "cell_type": "markdown",
   "metadata": {},
   "source": [
    "# Day 03 - Gemini"
   ]
  },
  {
   "cell_type": "code",
   "execution_count": 3,
   "metadata": {},
   "outputs": [
    {
     "name": "stdout",
     "output_type": "stream",
     "text": [
      "170068701\n"
     ]
    }
   ],
   "source": [
    "import re\n",
    "\n",
    "def solve():\n",
    "    with open(\"input.txt\", \"r\") as f:\n",
    "        data = f.read()\n",
    "\n",
    "    pattern = r\"mul\\((\\d{1,3}),(\\d{1,3})\\)\"\n",
    "    matches = re.findall(pattern, data)\n",
    "\n",
    "    total_sum = 0\n",
    "    for match in matches:\n",
    "        num1 = int(match[0])\n",
    "        num2 = int(match[1])\n",
    "        total_sum += num1 * num2\n",
    "\n",
    "    print(total_sum)\n",
    "\n",
    "solve()"
   ]
  },
  {
   "cell_type": "markdown",
   "metadata": {},
   "source": [
    "## Part 2"
   ]
  },
  {
   "cell_type": "code",
   "execution_count": 4,
   "metadata": {},
   "outputs": [
    {
     "name": "stdout",
     "output_type": "stream",
     "text": [
      "78683433\n"
     ]
    }
   ],
   "source": [
    "import re\n",
    "\n",
    "def solve():\n",
    "    with open(\"input.txt\", \"r\") as f:\n",
    "        data = f.read()\n",
    "\n",
    "    mul_pattern = r\"mul\\((\\d{1,3}),(\\d{1,3})\\)\"\n",
    "    do_pattern = r\"do\\(\\)\"\n",
    "    dont_pattern = r\"don't\\(\\)\"\n",
    "\n",
    "    total_sum = 0\n",
    "    enabled = True\n",
    "    \n",
    "    i = 0\n",
    "    while i < len(data):\n",
    "        mul_match = re.search(mul_pattern, data[i:])\n",
    "        do_match = re.search(do_pattern, data[i:])\n",
    "        dont_match = re.search(dont_pattern, data[i:])\n",
    "\n",
    "        \n",
    "        next_mul = mul_match.start() if mul_match else float('inf')\n",
    "        next_do = do_match.start() if do_match else float('inf')\n",
    "        next_dont = dont_match.start() if dont_match else float('inf')\n",
    "        \n",
    "        \n",
    "        if next_mul == float('inf') and next_do == float('inf') and next_dont == float('inf'):\n",
    "          break\n",
    "\n",
    "        \n",
    "        if next_do < next_mul and next_do < next_dont:\n",
    "            enabled = True\n",
    "            i += next_do + len(do_match.group(0))\n",
    "        elif next_dont < next_mul and next_dont < next_do:\n",
    "            enabled = False\n",
    "            i += next_dont + len(dont_match.group(0))\n",
    "        elif next_mul < next_do and next_mul < next_dont:\n",
    "            if enabled:\n",
    "                num1 = int(mul_match.group(1))\n",
    "                num2 = int(mul_match.group(2))\n",
    "                total_sum += num1 * num2\n",
    "            i += next_mul + len(mul_match.group(0))\n",
    "\n",
    "    print(total_sum)\n",
    "\n",
    "solve()"
   ]
  }
 ],
 "metadata": {
  "kernelspec": {
   "display_name": "AdventOfCode",
   "language": "python",
   "name": "python3"
  },
  "language_info": {
   "codemirror_mode": {
    "name": "ipython",
    "version": 3
   },
   "file_extension": ".py",
   "mimetype": "text/x-python",
   "name": "python",
   "nbconvert_exporter": "python",
   "pygments_lexer": "ipython3",
   "version": "3.10.15"
  }
 },
 "nbformat": 4,
 "nbformat_minor": 2
}
