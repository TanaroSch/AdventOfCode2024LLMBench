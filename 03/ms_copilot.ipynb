{
 "cells": [
  {
   "cell_type": "markdown",
   "metadata": {},
   "source": [
    "# Day 3 - MS Copilot"
   ]
  },
  {
   "cell_type": "code",
   "execution_count": 1,
   "metadata": {},
   "outputs": [
    {
     "name": "stdout",
     "output_type": "stream",
     "text": [
      "The sum of all valid mul instructions is: 170068701\n"
     ]
    }
   ],
   "source": [
    "import re\n",
    "\n",
    "# Function to extract and evaluate mul instructions\n",
    "def extract_and_evaluate_mul_instructions(text):\n",
    "    # Regular expression to match valid mul instructions\n",
    "    pattern = r\"mul\\((\\d+),(\\d+)\\)\"\n",
    "    matches = re.findall(pattern, text)\n",
    "    \n",
    "    # Calculate the sum of the results of the multiplications\n",
    "    total_sum = sum(int(x) * int(y) for x, y in matches)\n",
    "    \n",
    "    return total_sum\n",
    "\n",
    "# Read the content of the input file\n",
    "with open('input.txt', 'r') as file:\n",
    "    content = file.read()\n",
    "\n",
    "# Extract and evaluate mul instructions\n",
    "result = extract_and_evaluate_mul_instructions(content)\n",
    "\n",
    "print(f\"The sum of all valid mul instructions is: {result}\")"
   ]
  },
  {
   "cell_type": "markdown",
   "metadata": {},
   "source": [
    "## Part 2"
   ]
  },
  {
   "cell_type": "code",
   "execution_count": 2,
   "metadata": {},
   "outputs": [
    {
     "name": "stdout",
     "output_type": "stream",
     "text": [
      "The sum of all enabled mul instructions is: 78683433\n"
     ]
    }
   ],
   "source": [
    "import re\n",
    "\n",
    "# Function to extract and evaluate mul instructions with do() and don't() handling\n",
    "def extract_and_evaluate_mul_instructions(text):\n",
    "    # Regular expressions to match valid mul, do, and don't instructions\n",
    "    mul_pattern = r\"mul\\((\\d+),(\\d+)\\)\"\n",
    "    do_pattern = r\"do\\(\\)\"\n",
    "    dont_pattern = r\"don't\\(\\)\"\n",
    "    \n",
    "    # Initialize variables\n",
    "    total_sum = 0\n",
    "    mul_enabled = True\n",
    "    \n",
    "    # Split the text into tokens based on the patterns\n",
    "    tokens = re.split(f\"({mul_pattern}|{do_pattern}|{dont_pattern})\", text)\n",
    "    \n",
    "    for token in tokens:\n",
    "        if token is None:\n",
    "            continue\n",
    "        if re.match(mul_pattern, token):\n",
    "            if mul_enabled:\n",
    "                x, y = map(int, re.findall(r\"\\d+\", token))\n",
    "                total_sum += x * y\n",
    "        elif re.match(do_pattern, token):\n",
    "            mul_enabled = True\n",
    "        elif re.match(dont_pattern, token):\n",
    "            mul_enabled = False\n",
    "    \n",
    "    return total_sum\n",
    "\n",
    "# Read the content of the input file\n",
    "with open('input.txt', 'r') as file:\n",
    "    content = file.read()\n",
    "\n",
    "# Extract and evaluate mul instructions with do() and don't() handling\n",
    "result = extract_and_evaluate_mul_instructions(content)\n",
    "\n",
    "print(f\"The sum of all enabled mul instructions is: {result}\")"
   ]
  }
 ],
 "metadata": {
  "kernelspec": {
   "display_name": "Python 3",
   "language": "python",
   "name": "python3"
  },
  "language_info": {
   "codemirror_mode": {
    "name": "ipython",
    "version": 3
   },
   "file_extension": ".py",
   "mimetype": "text/x-python",
   "name": "python",
   "nbconvert_exporter": "python",
   "pygments_lexer": "ipython3",
   "version": "3.11.6"
  }
 },
 "nbformat": 4,
 "nbformat_minor": 2
}
