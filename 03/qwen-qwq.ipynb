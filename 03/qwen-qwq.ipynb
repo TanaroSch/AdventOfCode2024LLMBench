{
 "cells": [
  {
   "cell_type": "markdown",
   "metadata": {},
   "source": [
    "# Day 3 - Qwen QwQ 32B"
   ]
  },
  {
   "cell_type": "code",
   "execution_count": 1,
   "metadata": {},
   "outputs": [
    {
     "name": "stdout",
     "output_type": "stream",
     "text": [
      "170068701\n"
     ]
    }
   ],
   "source": [
    "import re\n",
    "\n",
    "# Read the input file\n",
    "with open('input.txt', 'r') as file:\n",
    "    input_string = file.read()\n",
    "\n",
    "# Define the regex pattern for matching mul instructions\n",
    "pattern = r\"mul\\((\\d{1,3}),(\\d{1,3})\\)\"\n",
    "\n",
    "# Find all matches in the input string\n",
    "matches = re.findall(pattern, input_string)\n",
    "\n",
    "# Initialize the total sum\n",
    "total = 0\n",
    "\n",
    "# Iterate over the matches, convert to integers, multiply, and sum up\n",
    "for x_str, y_str in matches:\n",
    "    x = int(x_str)\n",
    "    y = int(y_str)\n",
    "    product = x * y\n",
    "    total += product\n",
    "\n",
    "# Print the total sum\n",
    "print(total)"
   ]
  },
  {
   "cell_type": "markdown",
   "metadata": {},
   "source": [
    "## Part 2"
   ]
  },
  {
   "cell_type": "code",
   "execution_count": 2,
   "metadata": {},
   "outputs": [
    {
     "name": "stdout",
     "output_type": "stream",
     "text": [
      "78683433\n"
     ]
    }
   ],
   "source": [
    "import re\n",
    "\n",
    "def main():\n",
    "    # Read the input file\n",
    "    with open('input.txt', 'r') as f:\n",
    "        content = f.read()\n",
    "    \n",
    "    # Define the regex pattern to match mul, do, and don't instructions\n",
    "    pattern = r'(mul\\(([0-9]+),([0-9]+)\\))|(do\\(\\))|(don\\'t\\(\\))'\n",
    "    matches = re.findall(pattern, content)\n",
    "    \n",
    "    # Initialize variables\n",
    "    total = 0\n",
    "    enabled = True\n",
    "    \n",
    "    # Process each match\n",
    "    for match in matches:\n",
    "        if match[0]:  # mul instruction\n",
    "            x = int(match[1])\n",
    "            y = int(match[2])\n",
    "            if enabled:\n",
    "                total += x * y\n",
    "        elif match[3]:  # do()\n",
    "            enabled = True\n",
    "        elif match[4]:  # don't()\n",
    "            enabled = False\n",
    "    \n",
    "    # Output the result\n",
    "    print(total)\n",
    "\n",
    "if __name__ == \"__main__\":\n",
    "    main()"
   ]
  }
 ],
 "metadata": {
  "kernelspec": {
   "display_name": "AdventOfCode",
   "language": "python",
   "name": "python3"
  },
  "language_info": {
   "codemirror_mode": {
    "name": "ipython",
    "version": 3
   },
   "file_extension": ".py",
   "mimetype": "text/x-python",
   "name": "python",
   "nbconvert_exporter": "python",
   "pygments_lexer": "ipython3",
   "version": "3.10.15"
  }
 },
 "nbformat": 4,
 "nbformat_minor": 2
}
