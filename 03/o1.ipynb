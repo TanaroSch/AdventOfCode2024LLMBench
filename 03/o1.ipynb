{
 "cells": [
  {
   "cell_type": "markdown",
   "metadata": {},
   "source": [
    "# Day 3 - o1"
   ]
  },
  {
   "cell_type": "code",
   "execution_count": 1,
   "metadata": {},
   "outputs": [
    {
     "name": "stdout",
     "output_type": "stream",
     "text": [
      "170068701\n"
     ]
    }
   ],
   "source": [
    "import re\n",
    "\n",
    "with open('input.txt', 'r') as f:\n",
    "    data = f.read()\n",
    "\n",
    "# Use a regex to find all valid mul instructions:\n",
    "# Pattern explanation:\n",
    "#   mul\\(         - literal 'mul('\n",
    "#   (\\d{1,3})     - first number: 1 to 3 digits\n",
    "#   ,             - a comma\n",
    "#   (\\d{1,3})     - second number: 1 to 3 digits\n",
    "#   \\)            - closing parenthesis\n",
    "pattern = r\"mul\\((\\d{1,3}),(\\d{1,3})\\)\"\n",
    "\n",
    "matches = re.findall(pattern, data)\n",
    "total = 0\n",
    "\n",
    "for x_str, y_str in matches:\n",
    "    x = int(x_str)\n",
    "    y = int(y_str)\n",
    "    total += x * y\n",
    "\n",
    "print(total)\n"
   ]
  },
  {
   "cell_type": "markdown",
   "metadata": {},
   "source": [
    "## Part 2"
   ]
  },
  {
   "cell_type": "code",
   "execution_count": 2,
   "metadata": {},
   "outputs": [
    {
     "name": "stdout",
     "output_type": "stream",
     "text": [
      "78683433\n"
     ]
    }
   ],
   "source": [
    "import re\n",
    "\n",
    "with open('input.txt', 'r') as f:\n",
    "    data = f.read()\n",
    "\n",
    "# At the start, mul instructions are enabled\n",
    "enabled = True\n",
    "total = 0\n",
    "\n",
    "# Regex to match either:\n",
    "# - mul(X,Y) with 1-3 digit numbers for X and Y\n",
    "# - do()\n",
    "# - don't()\n",
    "pattern = r\"(mul\\(\\d{1,3},\\d{1,3}\\)|do\\(\\)|don't\\(\\))\"\n",
    "\n",
    "instructions = re.findall(pattern, data)\n",
    "\n",
    "for instr in instructions:\n",
    "    if instr == \"do()\":\n",
    "        enabled = True\n",
    "    elif instr == \"don't()\":\n",
    "        enabled = False\n",
    "    else:\n",
    "        # It's a mul(...) instruction\n",
    "        # Extract the two numbers\n",
    "        x, y = re.findall(r\"\\d+\", instr)\n",
    "        x = int(x)\n",
    "        y = int(y)\n",
    "        if enabled:\n",
    "            total += x * y\n",
    "\n",
    "print(total)\n"
   ]
  }
 ],
 "metadata": {
  "kernelspec": {
   "display_name": "AdventOfCode",
   "language": "python",
   "name": "python3"
  },
  "language_info": {
   "codemirror_mode": {
    "name": "ipython",
    "version": 3
   },
   "file_extension": ".py",
   "mimetype": "text/x-python",
   "name": "python",
   "nbconvert_exporter": "python",
   "pygments_lexer": "ipython3",
   "version": "3.10.15"
  }
 },
 "nbformat": 4,
 "nbformat_minor": 2
}
