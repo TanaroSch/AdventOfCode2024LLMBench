{
 "cells": [
  {
   "cell_type": "markdown",
   "metadata": {},
   "source": [
    "# Day XX - Deepseek R1 Lite"
   ]
  },
  {
   "cell_type": "code",
   "execution_count": 1,
   "metadata": {},
   "outputs": [
    {
     "name": "stdout",
     "output_type": "stream",
     "text": [
      "170068701\n"
     ]
    }
   ],
   "source": [
    "import re\n",
    "\n",
    "def main():\n",
    "    total = 0\n",
    "    # Read the entire content of the file\n",
    "    with open('input.txt', 'r') as file:\n",
    "        content = file.read()\n",
    "    \n",
    "    # Define the regex pattern for valid mul instructions\n",
    "    pattern = r'mul\\((\\d{1,3}),(\\d{1,3})\\)'\n",
    "    \n",
    "    # Find all matches in the content\n",
    "    matches = re.findall(pattern, content)\n",
    "    \n",
    "    # Process each match\n",
    "    for match in matches:\n",
    "        x = int(match[0])\n",
    "        y = int(match[1])\n",
    "        total += x * y\n",
    "    \n",
    "    # Print the total sum\n",
    "    print(total)\n",
    "\n",
    "if __name__ == \"__main__\":\n",
    "    main()"
   ]
  },
  {
   "cell_type": "markdown",
   "metadata": {},
   "source": [
    "## Part 2"
   ]
  },
  {
   "cell_type": "code",
   "execution_count": 3,
   "metadata": {},
   "outputs": [
    {
     "name": "stdout",
     "output_type": "stream",
     "text": [
      "78683433\n"
     ]
    }
   ],
   "source": [
    "import re\n",
    "\n",
    "def main():\n",
    "    total_sum = 0\n",
    "    enabled = True  # Initial state\n",
    "    \n",
    "    # Read the entire content of the file\n",
    "    with open('input.txt', 'r') as file:\n",
    "        content = file.read()\n",
    "    \n",
    "    # Define the regex patterns\n",
    "    do_pattern = re.compile(r'do\\(\\)')\n",
    "    dont_pattern = re.compile(r\"don't\\(\\)\")\n",
    "    mul_pattern = re.compile(r'mul\\((\\d{1,3}),(\\d{1,3})\\)')\n",
    "    \n",
    "    # Find all matches and collect events with their start positions\n",
    "    events = []\n",
    "    \n",
    "    # Collect 'do()' events\n",
    "    for match in do_pattern.finditer(content):\n",
    "        events.append( (match.start(), 'do') )\n",
    "    \n",
    "    # Collect 'don't()' events\n",
    "    for match in dont_pattern.finditer(content):\n",
    "        events.append( (match.start(), 'dont') )\n",
    "    \n",
    "    # Collect 'mul(X,Y)' events with X and Y\n",
    "    for match in mul_pattern.finditer(content):\n",
    "        events.append( (match.start(), 'mul', match.groups()) )\n",
    "    \n",
    "    # Sort events by their start positions\n",
    "    events.sort(key=lambda x: x[0])\n",
    "    \n",
    "    # Process events in order\n",
    "    for event in events:\n",
    "        if event[1] == 'do':\n",
    "            enabled = True\n",
    "        elif event[1] == 'dont':\n",
    "            enabled = False\n",
    "        elif event[1] == 'mul':\n",
    "            if enabled:\n",
    "                X, Y = event[2]\n",
    "                total_sum += int(X) * int(Y)\n",
    "    \n",
    "    # Print the total sum\n",
    "    print(total_sum)\n",
    "\n",
    "if __name__ == \"__main__\":\n",
    "    main()"
   ]
  }
 ],
 "metadata": {
  "kernelspec": {
   "display_name": "AdventOfCode",
   "language": "python",
   "name": "python3"
  },
  "language_info": {
   "codemirror_mode": {
    "name": "ipython",
    "version": 3
   },
   "file_extension": ".py",
   "mimetype": "text/x-python",
   "name": "python",
   "nbconvert_exporter": "python",
   "pygments_lexer": "ipython3",
   "version": "3.10.15"
  }
 },
 "nbformat": 4,
 "nbformat_minor": 2
}
