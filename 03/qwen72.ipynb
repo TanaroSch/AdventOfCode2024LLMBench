{
 "cells": [
  {
   "cell_type": "markdown",
   "metadata": {},
   "source": [
    "# Day 3 - Qwen2.5 72b"
   ]
  },
  {
   "cell_type": "code",
   "execution_count": null,
   "metadata": {},
   "outputs": [
    {
     "name": "stdout",
     "output_type": "stream",
     "text": [
      "The sum of all the results of the multiplications is: 170068701\n"
     ]
    }
   ],
   "source": [
    "import re\n",
    "\n",
    "def parse_mul_instructions(input_string):\n",
    "    # Regular expression to match valid mul instructions\n",
    "    pattern = r'mul\\((\\d{1,3}),(\\d{1,3})\\)'\n",
    "    \n",
    "    # Find all matches\n",
    "    matches = re.findall(pattern, input_string)\n",
    "    \n",
    "    # Compute the results of the multiplications\n",
    "    results = [int(x) * int(y) for x, y in matches]\n",
    "    \n",
    "    # Sum up the results\n",
    "    total = sum(results)\n",
    "    \n",
    "    return total\n",
    "\n",
    "# Read the input file\n",
    "with open('input.txt', 'r') as file:\n",
    "    input_string = file.read()\n",
    "\n",
    "# Parse the input and get the result\n",
    "result = parse_mul_instructions(input_string)\n",
    "\n",
    "print(f\"The sum of all the results of the multiplications is: {result}\")"
   ]
  },
  {
   "cell_type": "markdown",
   "metadata": {},
   "source": [
    "## Part 2"
   ]
  },
  {
   "cell_type": "code",
   "execution_count": 7,
   "metadata": {},
   "outputs": [
    {
     "name": "stdout",
     "output_type": "stream",
     "text": [
      "The sum of all the results of the enabled multiplications is: 78683433\n"
     ]
    }
   ],
   "source": [
    "import re\n",
    "\n",
    "def parse_mul_instructions(input_string):\n",
    "    # Regular expression to match valid mul instructions\n",
    "    pattern = r'mul\\((\\d{1,3}),(\\d{1,3})\\)'\n",
    "    \n",
    "    # Initialize the state for mul instructions\n",
    "    mul_enabled = True\n",
    "    results = []\n",
    "    \n",
    "    # Split the input string into parts to handle do() and don't() instructions\n",
    "    parts = re.split(r'(do\\(\\)|don\\'t\\(\\))', input_string)\n",
    "    \n",
    "    for part in parts:\n",
    "        if part == 'do()':\n",
    "            mul_enabled = True\n",
    "        elif part == 'don\\'t()':\n",
    "            mul_enabled = False\n",
    "        else:\n",
    "            # Find all matches in the current part\n",
    "            matches = re.findall(pattern, part)\n",
    "            if mul_enabled:\n",
    "                # Compute the results of the multiplications if enabled\n",
    "                results.extend([int(x) * int(y) for x, y in matches])\n",
    "    \n",
    "    # Sum up the results\n",
    "    total = sum(results)\n",
    "    \n",
    "    return total\n",
    "\n",
    "# Read the input file\n",
    "with open('input.txt', 'r') as file:\n",
    "    input_string = file.read()\n",
    "\n",
    "# Parse the input and get the result\n",
    "result = parse_mul_instructions(input_string)\n",
    "\n",
    "print(f\"The sum of all the results of the enabled multiplications is: {result}\")"
   ]
  }
 ],
 "metadata": {
  "kernelspec": {
   "display_name": "AdventOfCode",
   "language": "python",
   "name": "python3"
  },
  "language_info": {
   "codemirror_mode": {
    "name": "ipython",
    "version": 3
   },
   "file_extension": ".py",
   "mimetype": "text/x-python",
   "name": "python",
   "nbconvert_exporter": "python",
   "pygments_lexer": "ipython3",
   "version": "3.10.15"
  }
 },
 "nbformat": 4,
 "nbformat_minor": 2
}
