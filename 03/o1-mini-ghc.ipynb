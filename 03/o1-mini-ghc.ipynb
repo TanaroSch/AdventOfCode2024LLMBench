{
 "cells": [
  {
   "cell_type": "markdown",
   "metadata": {},
   "source": [
    "# Day 3 - o1-mini (GHC)"
   ]
  },
  {
   "cell_type": "code",
   "execution_count": 1,
   "metadata": {},
   "outputs": [
    {
     "name": "stdout",
     "output_type": "stream",
     "text": [
      "170068701\n"
     ]
    }
   ],
   "source": [
    "import re\n",
    "\n",
    "def main():\n",
    "    with open('input.txt', 'r') as file:\n",
    "        data = file.read()\n",
    "\n",
    "    pattern = r'mul\\((\\d{1,3}),(\\d{1,3})\\)'\n",
    "    matches = re.findall(pattern, data)\n",
    "\n",
    "    total = sum(int(x) * int(y) for x, y in matches)\n",
    "    print(total)\n",
    "\n",
    "if __name__ == \"__main__\":\n",
    "    main()"
   ]
  },
  {
   "cell_type": "markdown",
   "metadata": {},
   "source": [
    "## Part 2"
   ]
  },
  {
   "cell_type": "code",
   "execution_count": 2,
   "metadata": {},
   "outputs": [
    {
     "name": "stdout",
     "output_type": "stream",
     "text": [
      "78683433\n"
     ]
    }
   ],
   "source": [
    "import re\n",
    "\n",
    "def main():\n",
    "    with open('input.txt', 'r') as file:\n",
    "        data = file.read()\n",
    "\n",
    "    # Pattern to match mul(X,Y), do(), and don't()\n",
    "    pattern = r\"mul\\((\\d{1,3}),(\\d{1,3})\\)|do\\(\\)|don't\\(\\)\"\n",
    "    matches = re.finditer(pattern, data)\n",
    "\n",
    "    total = 0\n",
    "    mul_enabled = True\n",
    "\n",
    "    for match in matches:\n",
    "        if match.group(0).startswith('mul'):\n",
    "            if mul_enabled:\n",
    "                x = int(match.group(1))\n",
    "                y = int(match.group(2))\n",
    "                total += x * y\n",
    "        elif match.group(0) == 'do()':\n",
    "            mul_enabled = True\n",
    "        elif match.group(0) == \"don't()\":\n",
    "            mul_enabled = False\n",
    "\n",
    "    print(total)\n",
    "\n",
    "if __name__ == \"__main__\":\n",
    "    main()"
   ]
  }
 ],
 "metadata": {
  "kernelspec": {
   "display_name": "AdventOfCode",
   "language": "python",
   "name": "python3"
  },
  "language_info": {
   "codemirror_mode": {
    "name": "ipython",
    "version": 3
   },
   "file_extension": ".py",
   "mimetype": "text/x-python",
   "name": "python",
   "nbconvert_exporter": "python",
   "pygments_lexer": "ipython3",
   "version": "3.10.15"
  }
 },
 "nbformat": 4,
 "nbformat_minor": 2
}
