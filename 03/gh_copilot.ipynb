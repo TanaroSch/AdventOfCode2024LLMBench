{
 "cells": [
  {
   "cell_type": "markdown",
   "metadata": {},
   "source": [
    "# Day 3 - GH Copilot"
   ]
  },
  {
   "cell_type": "code",
   "execution_count": 1,
   "metadata": {},
   "outputs": [
    {
     "name": "stdout",
     "output_type": "stream",
     "text": [
      "170068701\n"
     ]
    }
   ],
   "source": [
    "import re\n",
    "\n",
    "# Step 1: Read the content of input.txt\n",
    "with open('input.txt', 'r') as file:\n",
    "    content = file.read()\n",
    "\n",
    "# Step 2: Use a regular expression to find all valid mul(X,Y) instructions\n",
    "pattern = re.compile(r'mul\\((\\d{1,3}),(\\d{1,3})\\)')\n",
    "matches = pattern.findall(content)\n",
    "\n",
    "# Step 3: Extract the numbers X and Y from each valid instruction\n",
    "# Step 4: Compute the product of X and Y for each instruction\n",
    "results = [int(x) * int(y) for x, y in matches]\n",
    "\n",
    "# Step 5: Sum up all the products\n",
    "total_sum = sum(results)\n",
    "\n",
    "# Step 6: Print the final result\n",
    "print(total_sum)"
   ]
  },
  {
   "cell_type": "markdown",
   "metadata": {},
   "source": [
    "## Part 2"
   ]
  },
  {
   "cell_type": "code",
   "execution_count": 6,
   "metadata": {},
   "outputs": [
    {
     "name": "stdout",
     "output_type": "stream",
     "text": [
      "78683433\n"
     ]
    }
   ],
   "source": [
    "import re\n",
    "\n",
    "# Step 1: Read the content of input.txt\n",
    "with open('input.txt', 'r') as file:\n",
    "    content = file.read()\n",
    "\n",
    "# Step 2: Use a regular expression to find all valid mul(X,Y), do(), and don't() instructions\n",
    "pattern = re.compile(r'mul\\((\\d{1,3}),(\\d{1,3})\\)|do\\(\\)|don\\'t\\(\\)')\n",
    "matches = pattern.findall(content)\n",
    "\n",
    "# Step 3: Initialize the state to enabled\n",
    "enabled = True\n",
    "results = []\n",
    "\n",
    "# Step 4: Iterate through the matches\n",
    "for match in re.finditer(pattern, content):\n",
    "    if match.group() == 'do()':\n",
    "        enabled = True\n",
    "    elif match.group() == \"don't()\":\n",
    "        enabled = False\n",
    "    else:\n",
    "        if enabled:\n",
    "            x, y = match.groups()\n",
    "            results.append(int(x) * int(y))\n",
    "\n",
    "# Step 5: Sum up all the products\n",
    "total_sum = sum(results)\n",
    "\n",
    "# Step 6: Print the final result\n",
    "print(total_sum)"
   ]
  }
 ],
 "metadata": {
  "kernelspec": {
   "display_name": "Python 3",
   "language": "python",
   "name": "python3"
  },
  "language_info": {
   "codemirror_mode": {
    "name": "ipython",
    "version": 3
   },
   "file_extension": ".py",
   "mimetype": "text/x-python",
   "name": "python",
   "nbconvert_exporter": "python",
   "pygments_lexer": "ipython3",
   "version": "3.11.6"
  }
 },
 "nbformat": 4,
 "nbformat_minor": 2
}
