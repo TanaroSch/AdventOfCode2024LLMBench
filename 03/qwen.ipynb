{
 "cells": [
  {
   "cell_type": "markdown",
   "metadata": {},
   "source": [
    "# Day 3 - Qwen Coder 32B"
   ]
  },
  {
   "cell_type": "code",
   "execution_count": 1,
   "metadata": {},
   "outputs": [
    {
     "name": "stdout",
     "output_type": "stream",
     "text": [
      "170068701\n"
     ]
    }
   ],
   "source": [
    "import re\n",
    "\n",
    "def parse_and_sum_multiplications(input_file):\n",
    "    # Read the input file\n",
    "    with open(input_file, 'r') as file:\n",
    "        corrupted_memory = file.read()\n",
    "    \n",
    "    # Define a regular expression pattern for valid mul(X, Y) instructions\n",
    "    pattern = r'mul\\((\\d{1,3}),(\\d{1,3})\\)'\n",
    "    \n",
    "    # Find all matches in the corrupted memory\n",
    "    matches = re.findall(pattern, corrupted_memory)\n",
    "    \n",
    "    # Initialize the sum of results\n",
    "    total_sum = 0\n",
    "    \n",
    "    # Iterate over each match, compute the product, and add to the total sum\n",
    "    for match in matches:\n",
    "        x = int(match[0])\n",
    "        y = int(match[1])\n",
    "        total_sum += x * y\n",
    "    \n",
    "    return total_sum\n",
    "\n",
    "# Call the function with the input file\n",
    "result = parse_and_sum_multiplications('input.txt')\n",
    "print(result)"
   ]
  },
  {
   "cell_type": "markdown",
   "metadata": {},
   "source": [
    "## Part 2"
   ]
  },
  {
   "cell_type": "code",
   "execution_count": 2,
   "metadata": {},
   "outputs": [
    {
     "name": "stdout",
     "output_type": "stream",
     "text": [
      "78683433\n"
     ]
    }
   ],
   "source": [
    "import re\n",
    "\n",
    "def parse_and_sum_multiplications(input_file):\n",
    "    # Read the input file\n",
    "    with open(input_file, 'r') as file:\n",
    "        corrupted_memory = file.read()\n",
    "    \n",
    "    # Define regular expression patterns for instructions\n",
    "    mul_pattern = r'mul\\((\\d{1,3}),(\\d{1,3})\\)'\n",
    "    do_pattern = r'do\\(\\)'\n",
    "    dont_pattern = r'don\\'t\\(\\)'\n",
    "    \n",
    "    # Find all matches in the corrupted memory\n",
    "    mul_matches = re.finditer(mul_pattern, corrupted_memory)\n",
    "    do_matches = re.finditer(do_pattern, corrupted_memory)\n",
    "    dont_matches = re.finditer(dont_pattern, corrupted_memory)\n",
    "    \n",
    "    # Initialize the sum of results and the state\n",
    "    total_sum = 0\n",
    "    is_enabled = True\n",
    "    \n",
    "    # Create a list of all events (mul, do, don't) with their positions\n",
    "    events = []\n",
    "    \n",
    "    for match in mul_matches:\n",
    "        events.append(('mul', match.start(), match.groups()))\n",
    "    \n",
    "    for match in do_matches:\n",
    "        events.append(('do', match.start(), None))\n",
    "    \n",
    "    for match in dont_matches:\n",
    "        events.append(('dont', match.start(), None))\n",
    "    \n",
    "    # Sort events by their positions\n",
    "    events.sort(key=lambda x: x[1])\n",
    "    \n",
    "    # Process each event in order\n",
    "    for event in events:\n",
    "        if event[0] == 'mul':\n",
    "            if is_enabled:\n",
    "                x, y = map(int, event[2])\n",
    "                total_sum += x * y\n",
    "        elif event[0] == 'do':\n",
    "            is_enabled = True\n",
    "        elif event[0] == 'dont':\n",
    "            is_enabled = False\n",
    "    \n",
    "    return total_sum\n",
    "\n",
    "# Call the function with the input file\n",
    "result = parse_and_sum_multiplications('input.txt')\n",
    "print(result)"
   ]
  }
 ],
 "metadata": {
  "kernelspec": {
   "display_name": "Python 3",
   "language": "python",
   "name": "python3"
  },
  "language_info": {
   "codemirror_mode": {
    "name": "ipython",
    "version": 3
   },
   "file_extension": ".py",
   "mimetype": "text/x-python",
   "name": "python",
   "nbconvert_exporter": "python",
   "pygments_lexer": "ipython3",
   "version": "3.11.6"
  }
 },
 "nbformat": 4,
 "nbformat_minor": 2
}
