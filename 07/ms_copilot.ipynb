{
 "cells": [
  {
   "cell_type": "markdown",
   "metadata": {},
   "source": [
    "# Day 07 - MS Copilot"
   ]
  },
  {
   "cell_type": "code",
   "execution_count": 5,
   "metadata": {},
   "outputs": [
    {
     "name": "stdout",
     "output_type": "stream",
     "text": [
      "Total calibration result: 7997502768887\n"
     ]
    }
   ],
   "source": [
    "from itertools import product\n",
    "\n",
    "def read_input(file_name):\n",
    "    with open(file_name, 'r') as file:\n",
    "        return [line.strip() for line in file]\n",
    "\n",
    "def evaluate_expression(numbers, operators):\n",
    "    expression = str(numbers[0])\n",
    "    for i in range(1, len(numbers)):\n",
    "        expression += operators[i - 1] + str(numbers[i])\n",
    "    try:\n",
    "        return eval(expression)\n",
    "    except:\n",
    "        return None\n",
    "\n",
    "def is_valid_equation(test_value, numbers):\n",
    "    operator_combinations = product(['+', '*'], repeat=len(numbers) - 1)\n",
    "    for operators in operator_combinations:\n",
    "        if evaluate_expression(numbers, operators) == test_value:\n",
    "            return True\n",
    "    return False\n",
    "\n",
    "def main():\n",
    "    input_data = read_input('input.txt')\n",
    "    total_calibration_result = 0\n",
    "\n",
    "    for line in input_data:\n",
    "        test_value, numbers = line.split(':')\n",
    "        test_value = int(test_value.strip())\n",
    "        numbers = list(map(int, numbers.strip().split()))\n",
    "\n",
    "        if is_valid_equation(test_value, numbers):\n",
    "            total_calibration_result += test_value\n",
    "\n",
    "    print(\"Total calibration result:\", total_calibration_result)\n",
    "\n",
    "if __name__ == \"__main__\":\n",
    "    main()\n"
   ]
  },
  {
   "cell_type": "markdown",
   "metadata": {},
   "source": [
    "## Part 2"
   ]
  },
  {
   "cell_type": "code",
   "execution_count": null,
   "metadata": {},
   "outputs": [],
   "source": []
  }
 ],
 "metadata": {
  "kernelspec": {
   "display_name": "AdventOfCode",
   "language": "python",
   "name": "python3"
  },
  "language_info": {
   "codemirror_mode": {
    "name": "ipython",
    "version": 3
   },
   "file_extension": ".py",
   "mimetype": "text/x-python",
   "name": "python",
   "nbconvert_exporter": "python",
   "pygments_lexer": "ipython3",
   "version": "3.10.15"
  }
 },
 "nbformat": 4,
 "nbformat_minor": 2
}
