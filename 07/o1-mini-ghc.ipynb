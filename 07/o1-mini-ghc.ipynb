{
 "cells": [
  {
   "cell_type": "markdown",
   "metadata": {},
   "source": [
    "# Day 7 - o1-mini (GHC)"
   ]
  },
  {
   "cell_type": "code",
   "execution_count": 2,
   "metadata": {},
   "outputs": [
    {
     "name": "stdout",
     "output_type": "stream",
     "text": [
      "8401132154762\n"
     ]
    }
   ],
   "source": [
    "import itertools\n",
    "\n",
    "def evaluate_expression(numbers, operators):\n",
    "    result = numbers[0]\n",
    "    for op, num in zip(operators, numbers[1:]):\n",
    "        if op == '+':\n",
    "            result += num\n",
    "        elif op == '*':\n",
    "            result *= num\n",
    "    return result\n",
    "\n",
    "def main():\n",
    "    total = 0\n",
    "    with open('input.txt', 'r') as file:\n",
    "        for line in file:\n",
    "            line = line.strip()\n",
    "            if not line:\n",
    "                continue\n",
    "            test_val_str, nums_str = line.split(':')\n",
    "            test_val = int(test_val_str.strip())\n",
    "            numbers = list(map(int, nums_str.strip().split()))\n",
    "            operator_positions = len(numbers) - 1\n",
    "            possible = False\n",
    "            for ops in itertools.product(['+', '*'], repeat=operator_positions):\n",
    "                if evaluate_expression(numbers, ops) == test_val:\n",
    "                    total += test_val\n",
    "                    possible = True\n",
    "                    break\n",
    "    print(total)\n",
    "\n",
    "if __name__ == \"__main__\":\n",
    "    main()"
   ]
  },
  {
   "cell_type": "markdown",
   "metadata": {},
   "source": [
    "## Part 2"
   ]
  },
  {
   "cell_type": "code",
   "execution_count": 1,
   "metadata": {},
   "outputs": [
    {
     "name": "stdout",
     "output_type": "stream",
     "text": [
      "95297119227552\n"
     ]
    }
   ],
   "source": [
    "import itertools\n",
    "\n",
    "def evaluate_expression(numbers, operators):\n",
    "    result = numbers[0]\n",
    "    for op, num in zip(operators, numbers[1:]):\n",
    "        if op == '+':\n",
    "            result += num\n",
    "        elif op == '*':\n",
    "            result *= num\n",
    "        elif op == '||':\n",
    "            result = int(str(result) + str(num))\n",
    "    return result\n",
    "\n",
    "def main():\n",
    "    total = 0\n",
    "    with open('input.txt', 'r') as file:\n",
    "        for line in file:\n",
    "            line = line.strip()\n",
    "            if not line:\n",
    "                continue\n",
    "            test_val_str, nums_str = line.split(':')\n",
    "            test_val = int(test_val_str.strip())\n",
    "            numbers = list(map(int, nums_str.strip().split()))\n",
    "            operator_positions = len(numbers) - 1\n",
    "            possible = False\n",
    "            for ops in itertools.product(['+', '*', '||'], repeat=operator_positions):\n",
    "                if evaluate_expression(numbers, ops) == test_val:\n",
    "                    total += test_val\n",
    "                    possible = True\n",
    "                    break\n",
    "    print(total)\n",
    "\n",
    "if __name__ == \"__main__\":\n",
    "        main()"
   ]
  }
 ],
 "metadata": {
  "kernelspec": {
   "display_name": "AdventOfCode",
   "language": "python",
   "name": "python3"
  },
  "language_info": {
   "codemirror_mode": {
    "name": "ipython",
    "version": 3
   },
   "file_extension": ".py",
   "mimetype": "text/x-python",
   "name": "python",
   "nbconvert_exporter": "python",
   "pygments_lexer": "ipython3",
   "version": "3.10.15"
  }
 },
 "nbformat": 4,
 "nbformat_minor": 2
}
