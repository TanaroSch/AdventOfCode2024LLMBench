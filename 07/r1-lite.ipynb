{
 "cells": [
  {
   "cell_type": "markdown",
   "metadata": {},
   "source": [
    "# Day 7 - Deepseek R1 Lite"
   ]
  },
  {
   "cell_type": "code",
   "execution_count": 1,
   "metadata": {},
   "outputs": [
    {
     "name": "stdout",
     "output_type": "stream",
     "text": [
      "8401132154762\n"
     ]
    }
   ],
   "source": [
    "from itertools import product\n",
    "\n",
    "def evaluate_expression(numbers, operators):\n",
    "    result = numbers[0]\n",
    "    for op, num in zip(operators, numbers[1:]):\n",
    "        if op == '+':\n",
    "            result += num\n",
    "        elif op == '*':\n",
    "            result *= num\n",
    "    return result\n",
    "\n",
    "total_calibration = 0\n",
    "\n",
    "with open('input.txt', 'r') as f:\n",
    "    lines = f.readlines()\n",
    "    for line in lines:\n",
    "        line = line.strip()\n",
    "        if not line:\n",
    "            continue\n",
    "        parts = line.split(':')\n",
    "        test_value = int(parts[0].strip())\n",
    "        numbers_part = parts[1].strip()\n",
    "        numbers = list(map(int, numbers_part.split()))\n",
    "        \n",
    "        if len(numbers) == 1:\n",
    "            if numbers[0] == test_value:\n",
    "                total_calibration += test_value\n",
    "        else:\n",
    "            num_ops = len(numbers) - 1\n",
    "            for ops in product(['+', '*'], repeat=num_ops):\n",
    "                result = evaluate_expression(numbers, ops)\n",
    "                if result == test_value:\n",
    "                    total_calibration += test_value\n",
    "                    break  # No need to check further combinations\n",
    "\n",
    "print(total_calibration)"
   ]
  },
  {
   "cell_type": "markdown",
   "metadata": {},
   "source": [
    "## Part 2"
   ]
  },
  {
   "cell_type": "code",
   "execution_count": 2,
   "metadata": {},
   "outputs": [
    {
     "name": "stdout",
     "output_type": "stream",
     "text": [
      "95297119227552\n"
     ]
    }
   ],
   "source": [
    "import itertools\n",
    "\n",
    "def evaluate_expression(numbers, operators):\n",
    "    result = numbers[0]\n",
    "    for op, num in zip(operators, numbers[1:]):\n",
    "        if op == '+':\n",
    "            result += num\n",
    "        elif op == '*':\n",
    "            result *= num\n",
    "        elif op == '||':\n",
    "            result = int(str(result) + str(num))\n",
    "    return result\n",
    "\n",
    "total_calibration = 0\n",
    "\n",
    "with open('input.txt', 'r') as f:\n",
    "    lines = f.readlines()\n",
    "    for line in lines:\n",
    "        line = line.strip()\n",
    "        if not line:\n",
    "            continue\n",
    "        parts = line.split(':')\n",
    "        test_value = int(parts[0].strip())\n",
    "        numbers_part = parts[1].strip()\n",
    "        numbers = list(map(int, numbers_part.split()))\n",
    "        \n",
    "        if len(numbers) == 1:\n",
    "            if numbers[0] == test_value:\n",
    "                total_calibration += test_value\n",
    "        else:\n",
    "            num_ops = len(numbers) - 1\n",
    "            for ops in itertools.product(['+', '*', '||'], repeat=num_ops):\n",
    "                result = evaluate_expression(numbers, ops)\n",
    "                if result == test_value:\n",
    "                    total_calibration += test_value\n",
    "                    break  # No need to check further combinations\n",
    "\n",
    "print(total_calibration)"
   ]
  }
 ],
 "metadata": {
  "kernelspec": {
   "display_name": "AdventOfCode",
   "language": "python",
   "name": "python3"
  },
  "language_info": {
   "codemirror_mode": {
    "name": "ipython",
    "version": 3
   },
   "file_extension": ".py",
   "mimetype": "text/x-python",
   "name": "python",
   "nbconvert_exporter": "python",
   "pygments_lexer": "ipython3",
   "version": "3.10.15"
  }
 },
 "nbformat": 4,
 "nbformat_minor": 2
}
