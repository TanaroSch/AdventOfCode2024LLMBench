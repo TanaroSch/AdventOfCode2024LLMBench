{
 "cells": [
  {
   "cell_type": "markdown",
   "metadata": {},
   "source": [
    "# Day 7 - Qwen2.5 72b"
   ]
  },
  {
   "cell_type": "code",
   "execution_count": 3,
   "metadata": {},
   "outputs": [
    {
     "name": "stdout",
     "output_type": "stream",
     "text": [
      "Found valid combination for 244480: [1, 59, 6, 86, 8, 816, 45, 66] with operators ('+', '*', '*', '*', '+', '+', '+') -> 244480\n",
      "Found valid combination for 943: [920, 3, 20] with operators ('+', '+') -> 943\n",
      "Found valid combination for 1105: [852, 6, 247] with operators ('+', '+') -> 1105\n",
      "Found valid combination for 53663904: [9, 7, 467, 19, 96] with operators ('*', '*', '*', '*') -> 53663904\n",
      "Found valid combination for 41: [5, 7, 6] with operators ('*', '+') -> 41\n",
      "Found valid combination for 836: [3, 3, 5, 57, 11, 198] with operators ('+', '+', '+', '*', '+') -> 836\n",
      "Found valid combination for 6224579: [71, 17, 573, 9, 80] with operators ('*', '*', '*', '+') -> 6224579\n",
      "Found valid combination for 485102: [70, 462, 3, 5, 2] with operators ('*', '*', '*', '+') -> 485102\n",
      "Found valid combination for 7987968737287: [496, 8, 79, 553, 80, 8, 8, 9, 7] with operators ('*', '*', '*', '*', '*', '*', '*', '+') -> 7987968737287\n",
      "Found valid combination for 54007: [744, 2, 9, 4, 433, 6] with operators ('*', '*', '*', '+', '+') -> 54007\n",
      "Found valid combination for 455486995: [6, 523, 7, 9, 4, 576, 19] with operators ('*', '*', '*', '*', '*', '+') -> 455486995\n",
      "Found valid combination for 569: [81, 352, 6, 81, 49] with operators ('+', '+', '+', '+') -> 569\n",
      "Found valid combination for 11666: [33, 333, 2, 596, 70, 9] with operators ('*', '+', '+', '+', '+') -> 11666\n",
      "Found valid combination for 576: [2, 9, 14, 319, 5] with operators ('*', '*', '+', '+') -> 576\n",
      "Found valid combination for 711: [59, 18, 489, 69, 76] with operators ('+', '+', '+', '+') -> 711\n",
      "Found valid combination for 39308163: [694, 8, 8, 885, 3] with operators ('*', '*', '*', '+') -> 39308163\n",
      "Found valid combination for 8068: [42, 43, 4, 844] with operators ('*', '*', '+') -> 8068\n",
      "Found valid combination for 4754: [26, 181, 3, 3, 42] with operators ('*', '+', '+', '+') -> 4754\n",
      "Found valid combination for 845: [5, 92, 7, 4, 374] with operators ('*', '+', '+', '+') -> 845\n",
      "Found valid combination for 1799: [561, 2, 3, 671, 3] with operators ('*', '+', '+', '+') -> 1799\n",
      "Found valid combination for 923: [27, 890, 2, 4] with operators ('+', '+', '+') -> 923\n",
      "Found valid combination for 720: [14, 1, 6, 71, 629] with operators ('+', '*', '+', '+') -> 720\n",
      "Found valid combination for 195: [9, 8, 66, 51, 6] with operators ('*', '+', '+', '+') -> 195\n",
      "Found valid combination for 175: [3, 54, 13] with operators ('*', '+') -> 175\n",
      "Found valid combination for 1154: [60, 9, 92, 473, 8, 41] with operators ('*', '+', '+', '+', '+') -> 1154\n",
      "Found valid combination for 355: [3, 3, 39, 4] with operators ('*', '*', '+') -> 355\n",
      "Found valid combination for 472: [2, 95, 5, 85, 90, 67, 125, 3] with operators ('+', '+', '+', '+', '+', '+', '+') -> 472\n",
      "Found valid combination for 1915: [5, 65, 727, 108, 755] with operators ('*', '+', '+', '+') -> 1915\n",
      "Found valid combination for 84500240: [989, 89, 192, 5, 80] with operators ('*', '*', '*', '+') -> 84500240\n",
      "Found valid combination for 53096: [9, 8, 726, 824] with operators ('*', '*', '+') -> 53096\n",
      "Found valid combination for 22: [1, 8, 1, 1, 13] with operators ('+', '+', '*', '*') -> 22\n",
      "Found valid combination for 186: [171, 8, 7] with operators ('+', '+') -> 186\n",
      "Found valid combination for 36784: [98, 5, 75, 31, 3] with operators ('*', '*', '+', '+') -> 36784\n",
      "Found valid combination for 43526370: [4, 765, 16, 889, 930] with operators ('*', '*', '*', '+') -> 43526370\n",
      "Found valid combination for 6807041: [41, 527, 3, 5, 21, 836] with operators ('*', '*', '*', '*', '+') -> 6807041\n",
      "Found valid combination for 20047048: [1, 260, 158, 488, 8] with operators ('*', '*', '*', '+') -> 20047048\n",
      "Found valid combination for 8823357451: [80, 64, 74, 328, 71, 11] with operators ('*', '*', '*', '*', '+') -> 8823357451\n",
      "Found valid combination for 198047: [9, 45, 27, 9, 2, 499, 713, 1, 5] with operators ('*', '*', '*', '*', '+', '+', '+', '*') -> 198047\n",
      "Found valid combination for 263: [5, 41, 52, 6] with operators ('*', '+', '+') -> 263\n",
      "The total calibration result is: 7997502768887\n"
     ]
    }
   ],
   "source": [
    "import itertools\n",
    "\n",
    "def evaluate_expression(numbers, operators):\n",
    "    # Convert the numbers list to a list of strings for easy concatenation\n",
    "    expr = str(numbers[0])\n",
    "    for i, op in enumerate(operators):\n",
    "        expr += f\" {op} {numbers[i + 1]}\"\n",
    "    # Evaluate the expression\n",
    "    return eval(expr)\n",
    "\n",
    "def can_produce_test_value(test_value, numbers):\n",
    "    # Generate all possible combinations of operators\n",
    "    operator_combinations = list(itertools.product(['+', '*'], repeat=len(numbers) - 1))\n",
    "    for operators in operator_combinations:\n",
    "        result = evaluate_expression(numbers, operators)\n",
    "        if result == test_value:\n",
    "            print(f\"Found valid combination for {test_value}: {numbers} with operators {operators} -> {result}\")\n",
    "            return True\n",
    "    return False\n",
    "\n",
    "def total_calibration_result(input_file):\n",
    "    total_sum = 0\n",
    "    with open(input_file, 'r') as file:\n",
    "        for line in file:\n",
    "            parts = line.strip().split(': ')\n",
    "            test_value = int(parts[0])\n",
    "            numbers = list(map(int, parts[1].split()))\n",
    "            if can_produce_test_value(test_value, numbers):\n",
    "                total_sum += test_value\n",
    "    return total_sum\n",
    "\n",
    "# Example usage\n",
    "input_file = 'input.txt'\n",
    "result = total_calibration_result(input_file)\n",
    "print(f\"The total calibration result is: {result}\")"
   ]
  },
  {
   "cell_type": "markdown",
   "metadata": {},
   "source": [
    "## Part 2"
   ]
  },
  {
   "cell_type": "code",
   "execution_count": null,
   "metadata": {},
   "outputs": [],
   "source": []
  }
 ],
 "metadata": {
  "kernelspec": {
   "display_name": "AdventOfCode",
   "language": "python",
   "name": "python3"
  },
  "language_info": {
   "codemirror_mode": {
    "name": "ipython",
    "version": 3
   },
   "file_extension": ".py",
   "mimetype": "text/x-python",
   "name": "python",
   "nbconvert_exporter": "python",
   "pygments_lexer": "ipython3",
   "version": "3.10.15"
  }
 },
 "nbformat": 4,
 "nbformat_minor": 2
}
