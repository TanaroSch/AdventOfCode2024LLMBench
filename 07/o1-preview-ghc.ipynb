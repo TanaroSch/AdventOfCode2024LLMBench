{
 "cells": [
  {
   "cell_type": "markdown",
   "metadata": {},
   "source": [
    "# Day 7 - o1-preview (GHC)"
   ]
  },
  {
   "cell_type": "code",
   "execution_count": 1,
   "metadata": {},
   "outputs": [
    {
     "name": "stdout",
     "output_type": "stream",
     "text": [
      "8401132154762\n"
     ]
    }
   ],
   "source": [
    "import itertools\n",
    "\n",
    "total_sum = 0\n",
    "\n",
    "with open('input.txt', 'r') as f:\n",
    "    for line in f:\n",
    "        line = line.strip()\n",
    "        if not line:\n",
    "            continue\n",
    "        parts = line.split(':')\n",
    "        if len(parts) != 2:\n",
    "            continue\n",
    "        test_value_str, numbers_str = parts\n",
    "        try:\n",
    "            test_value = int(test_value_str.strip())\n",
    "            numbers = list(map(int, numbers_str.strip().split()))\n",
    "        except ValueError:\n",
    "            continue\n",
    "        num_ops = len(numbers) - 1\n",
    "        operators_list = list(itertools.product(['+', '*'], repeat=num_ops))\n",
    "        for operators in operators_list:\n",
    "            result = numbers[0]\n",
    "            for op, num in zip(operators, numbers[1:]):\n",
    "                if op == '+':\n",
    "                    result += num\n",
    "                elif op == '*':\n",
    "                    result *= num\n",
    "            if result == test_value:\n",
    "                total_sum += test_value\n",
    "                break\n",
    "\n",
    "print(total_sum)"
   ]
  },
  {
   "cell_type": "markdown",
   "metadata": {},
   "source": [
    "## Part 2"
   ]
  },
  {
   "cell_type": "code",
   "execution_count": 2,
   "metadata": {},
   "outputs": [
    {
     "name": "stdout",
     "output_type": "stream",
     "text": [
      "95297119227552\n"
     ]
    }
   ],
   "source": [
    "import itertools\n",
    "\n",
    "total_sum = 0\n",
    "\n",
    "with open('input.txt', 'r') as f:\n",
    "    for line in f:\n",
    "        line = line.strip()\n",
    "        if not line:\n",
    "            continue\n",
    "        parts = line.split(':')\n",
    "        if len(parts) != 2:\n",
    "            continue\n",
    "        test_value_str, numbers_str = parts\n",
    "        try:\n",
    "            test_value = int(test_value_str.strip())\n",
    "            numbers = list(map(int, numbers_str.strip().split()))\n",
    "        except ValueError:\n",
    "            continue\n",
    "        num_ops = len(numbers) - 1\n",
    "        operators_list = itertools.product(['+', '*', '||'], repeat=num_ops)\n",
    "        found = False\n",
    "        for operators in operators_list:\n",
    "            result = numbers[0]\n",
    "            for op, num in zip(operators, numbers[1:]):\n",
    "                if op == '+':\n",
    "                    result += num\n",
    "                elif op == '*':\n",
    "                    result *= num\n",
    "                elif op == '||':\n",
    "                    result = int(str(result) + str(num))\n",
    "            if result == test_value:\n",
    "                total_sum += test_value\n",
    "                found = True\n",
    "                break\n",
    "        if found:\n",
    "            continue\n",
    "\n",
    "print(total_sum)"
   ]
  }
 ],
 "metadata": {
  "kernelspec": {
   "display_name": "AdventOfCode",
   "language": "python",
   "name": "python3"
  },
  "language_info": {
   "codemirror_mode": {
    "name": "ipython",
    "version": 3
   },
   "file_extension": ".py",
   "mimetype": "text/x-python",
   "name": "python",
   "nbconvert_exporter": "python",
   "pygments_lexer": "ipython3",
   "version": "3.10.15"
  }
 },
 "nbformat": 4,
 "nbformat_minor": 2
}
