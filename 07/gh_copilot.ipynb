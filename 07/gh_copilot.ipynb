{
 "cells": [
  {
   "cell_type": "markdown",
   "metadata": {},
   "source": [
    "# Day 7 - GPT 4o (GHC)"
   ]
  },
  {
   "cell_type": "code",
   "execution_count": 3,
   "metadata": {},
   "outputs": [
    {
     "name": "stdout",
     "output_type": "stream",
     "text": [
      "8401132154762\n"
     ]
    }
   ],
   "source": [
    "import itertools\n",
    "\n",
    "def evaluate_expression(numbers, operators):\n",
    "    result = numbers[0]\n",
    "    for i in range(len(operators)):\n",
    "        if operators[i] == '+':\n",
    "            result += numbers[i + 1]\n",
    "        elif operators[i] == '*':\n",
    "            result *= numbers[i + 1]\n",
    "    return result\n",
    "\n",
    "def can_match_target(target, numbers):\n",
    "    if len(numbers) == 1:\n",
    "        return numbers[0] == target\n",
    "\n",
    "    operators = ['+', '*']\n",
    "    for ops in itertools.product(operators, repeat=len(numbers) - 1):\n",
    "        if evaluate_expression(numbers, ops) == target:\n",
    "            return True\n",
    "    return False\n",
    "\n",
    "def main():\n",
    "    total_calibration_result = 0\n",
    "\n",
    "    with open('input.txt', 'r') as file:\n",
    "        for line in file:\n",
    "            parts = line.strip().split(':')\n",
    "            target = int(parts[0].strip())\n",
    "            numbers = list(map(int, parts[1].strip().split()))\n",
    "\n",
    "            if can_match_target(target, numbers):\n",
    "                total_calibration_result += target\n",
    "\n",
    "    print(total_calibration_result)\n",
    "\n",
    "if __name__ == \"__main__\":\n",
    "    main()"
   ]
  },
  {
   "cell_type": "markdown",
   "metadata": {},
   "source": [
    "## Part 2"
   ]
  },
  {
   "cell_type": "code",
   "execution_count": 4,
   "metadata": {},
   "outputs": [
    {
     "name": "stdout",
     "output_type": "stream",
     "text": [
      "95297119227552\n"
     ]
    }
   ],
   "source": [
    "import itertools\n",
    "\n",
    "def evaluate_expression(numbers, operators):\n",
    "    result = numbers[0]\n",
    "    for i in range(len(operators)):\n",
    "        if operators[i] == '+':\n",
    "            result += numbers[i + 1]\n",
    "        elif operators[i] == '*':\n",
    "            result *= numbers[i + 1]\n",
    "        elif operators[i] == '||':\n",
    "            result = int(str(result) + str(numbers[i + 1]))\n",
    "    return result\n",
    "\n",
    "def can_match_target(target, numbers):\n",
    "    if len(numbers) == 1:\n",
    "        return numbers[0] == target\n",
    "\n",
    "    operators = ['+', '*', '||']\n",
    "    for ops in itertools.product(operators, repeat=len(numbers) - 1):\n",
    "        if evaluate_expression(numbers, ops) == target:\n",
    "            return True\n",
    "    return False\n",
    "\n",
    "def main():\n",
    "    total_calibration_result = 0\n",
    "\n",
    "    with open('input.txt', 'r') as file:\n",
    "        for line in file:\n",
    "            parts = line.strip().split(':')\n",
    "            target = int(parts[0].strip())\n",
    "            numbers = list(map(int, parts[1].strip().split()))\n",
    "\n",
    "            if can_match_target(target, numbers):\n",
    "                total_calibration_result += target\n",
    "\n",
    "    print(total_calibration_result)\n",
    "\n",
    "if __name__ == \"__main__\":\n",
    "    main()"
   ]
  }
 ],
 "metadata": {
  "kernelspec": {
   "display_name": "AdventOfCode",
   "language": "python",
   "name": "python3"
  },
  "language_info": {
   "codemirror_mode": {
    "name": "ipython",
    "version": 3
   },
   "file_extension": ".py",
   "mimetype": "text/x-python",
   "name": "python",
   "nbconvert_exporter": "python",
   "pygments_lexer": "ipython3",
   "version": "3.10.15"
  }
 },
 "nbformat": 4,
 "nbformat_minor": 2
}
