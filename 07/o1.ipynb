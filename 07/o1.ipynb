{
 "cells": [
  {
   "cell_type": "markdown",
   "metadata": {},
   "source": [
    "# Day 7 - o1"
   ]
  },
  {
   "cell_type": "code",
   "execution_count": 1,
   "metadata": {},
   "outputs": [
    {
     "name": "stdout",
     "output_type": "stream",
     "text": [
      "8401132154762\n"
     ]
    }
   ],
   "source": [
    "def evaluate_expressions(numbers, target):\n",
    "    # This function tries all combinations of '+' and '*' operators between the given numbers\n",
    "    # and checks if any evaluation equals the target.\n",
    "    #\n",
    "    # numbers: list of integers\n",
    "    # target: integer\n",
    "    #\n",
    "    # We return True if at least one combination matches the target, otherwise False.\n",
    "    \n",
    "    from itertools import product\n",
    "    \n",
    "    if len(numbers) == 1:\n",
    "        # If there's only one number, just check if it's equal to the target\n",
    "        return numbers[0] == target\n",
    "    \n",
    "    # Possible operators\n",
    "    ops = ['+', '*']\n",
    "    n = len(numbers)\n",
    "    \n",
    "    # Generate all possible operator combinations\n",
    "    # For N numbers, we have N-1 operator positions\n",
    "    for operator_combo in product(ops, repeat=n-1):\n",
    "        # Evaluate the expression left-to-right, ignoring normal precedence\n",
    "        # Start with the first number\n",
    "        result = numbers[0]\n",
    "        for i, op in enumerate(operator_combo, start=1):\n",
    "            if op == '+':\n",
    "                result = result + numbers[i]\n",
    "            else:  # op == '*'\n",
    "                result = result * numbers[i]\n",
    "        \n",
    "        if result == target:\n",
    "            return True\n",
    "    return False\n",
    "\n",
    "\n",
    "def main():\n",
    "    total = 0\n",
    "    with open(\"input.txt\", \"r\") as f:\n",
    "        for line in f:\n",
    "            line = line.strip()\n",
    "            if not line:\n",
    "                continue\n",
    "            # Each line has the format:\n",
    "            # target: num1 num2 num3 ...\n",
    "            # Parse the line\n",
    "            target_part, numbers_part = line.split(':')\n",
    "            target = int(target_part.strip())\n",
    "            numbers = list(map(int, numbers_part.strip().split()))\n",
    "            \n",
    "            # Check if any operator insertion can result in target\n",
    "            if evaluate_expressions(numbers, target):\n",
    "                total += target\n",
    "    \n",
    "    print(total)\n",
    "\n",
    "\n",
    "if __name__ == \"__main__\":\n",
    "    main()\n"
   ]
  },
  {
   "cell_type": "markdown",
   "metadata": {},
   "source": [
    "## Part 2"
   ]
  },
  {
   "cell_type": "code",
   "execution_count": 2,
   "metadata": {},
   "outputs": [
    {
     "name": "stdout",
     "output_type": "stream",
     "text": [
      "95297119227552\n"
     ]
    }
   ],
   "source": [
    "from itertools import product\n",
    "\n",
    "def evaluate_expressions(numbers, target):\n",
    "    # This function tries all combinations of '+', '*', and '||' operators between the given numbers\n",
    "    # and checks if any evaluation equals the target.\n",
    "    #\n",
    "    # numbers: list of integers\n",
    "    # target: integer\n",
    "    #\n",
    "    # We return True if at least one combination matches the target, otherwise False.\n",
    "    \n",
    "    if len(numbers) == 1:\n",
    "        # If there's only one number, just check if it's equal to the target\n",
    "        return numbers[0] == target\n",
    "    \n",
    "    # Possible operators\n",
    "    ops = ['+', '*', '||']\n",
    "    n = len(numbers)\n",
    "    \n",
    "    # Generate all possible operator combinations\n",
    "    # For N numbers, we have N-1 operator positions\n",
    "    for operator_combo in product(ops, repeat=n-1):\n",
    "        # Evaluate the expression left-to-right\n",
    "        result = numbers[0]\n",
    "        for i, op in enumerate(operator_combo, start=1):\n",
    "            if op == '+':\n",
    "                result = result + numbers[i]\n",
    "            elif op == '*':\n",
    "                result = result * numbers[i]\n",
    "            else:  # op == '||'\n",
    "                # Concatenate the current result and the next number as strings\n",
    "                result = int(str(result) + str(numbers[i]))\n",
    "        \n",
    "        if result == target:\n",
    "            return True\n",
    "    return False\n",
    "\n",
    "\n",
    "def main():\n",
    "    total = 0\n",
    "    with open(\"input.txt\", \"r\") as f:\n",
    "        for line in f:\n",
    "            line = line.strip()\n",
    "            if not line:\n",
    "                continue\n",
    "            # Each line has the format:\n",
    "            # target: num1 num2 num3 ...\n",
    "            # Parse the line\n",
    "            target_part, numbers_part = line.split(':')\n",
    "            target = int(target_part.strip())\n",
    "            numbers = list(map(int, numbers_part.strip().split()))\n",
    "            \n",
    "            # Check if any operator insertion can result in target\n",
    "            if evaluate_expressions(numbers, target):\n",
    "                total += target\n",
    "    \n",
    "    print(total)\n",
    "\n",
    "\n",
    "if __name__ == \"__main__\":\n",
    "    main()\n"
   ]
  }
 ],
 "metadata": {
  "kernelspec": {
   "display_name": "AdventOfCode",
   "language": "python",
   "name": "python3"
  },
  "language_info": {
   "codemirror_mode": {
    "name": "ipython",
    "version": 3
   },
   "file_extension": ".py",
   "mimetype": "text/x-python",
   "name": "python",
   "nbconvert_exporter": "python",
   "pygments_lexer": "ipython3",
   "version": "3.10.15"
  }
 },
 "nbformat": 4,
 "nbformat_minor": 2
}
