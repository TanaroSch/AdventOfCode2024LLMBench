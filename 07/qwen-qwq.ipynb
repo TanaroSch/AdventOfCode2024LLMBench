{
 "cells": [
  {
   "cell_type": "markdown",
   "metadata": {},
   "source": [
    "# Day 7 - Qwen QwQ 32B"
   ]
  },
  {
   "cell_type": "code",
   "execution_count": 1,
   "metadata": {},
   "outputs": [
    {
     "name": "stdout",
     "output_type": "stream",
     "text": [
      "8401132154762\n"
     ]
    }
   ],
   "source": [
    "from itertools import product\n",
    "\n",
    "def can_match_test_value(test_value, numbers):\n",
    "    if len(numbers) < 1:\n",
    "        return False  # No numbers provided\n",
    "    if len(numbers) == 1:\n",
    "        return numbers[0] == test_value\n",
    "    # Generate all possible operator combinations\n",
    "    operators_combinations = product(['+', '*'], repeat=len(numbers)-1)\n",
    "    # Try each combination\n",
    "    for ops in operators_combinations:\n",
    "        # Build the expression string with explicit parentheses\n",
    "        expression = str(numbers[0])\n",
    "        for op, num in zip(ops, numbers[1:]):\n",
    "            expression = '({} {} {})'.format(expression, op, num)\n",
    "        # Evaluate the expression\n",
    "        result = eval(expression)\n",
    "        if result == test_value:\n",
    "            return True\n",
    "    return False\n",
    "\n",
    "def main():\n",
    "    total_calibration_result = 0\n",
    "    with open('input.txt', 'r') as f:\n",
    "        for line in f:\n",
    "            parts = line.strip().split(':')\n",
    "            test_value = int(parts[0])\n",
    "            numbers = list(map(int, parts[1].split()))\n",
    "            if can_match_test_value(test_value, numbers):\n",
    "                total_calibration_result += test_value\n",
    "    print(total_calibration_result)\n",
    "\n",
    "if __name__ == \"__main__\":\n",
    "    main()"
   ]
  },
  {
   "cell_type": "markdown",
   "metadata": {},
   "source": [
    "## Part 2"
   ]
  },
  {
   "cell_type": "code",
   "execution_count": 2,
   "metadata": {},
   "outputs": [
    {
     "name": "stdout",
     "output_type": "stream",
     "text": [
      "95297119227552\n"
     ]
    }
   ],
   "source": [
    "import itertools\n",
    "\n",
    "def parse_input_file(filename):\n",
    "    with open(filename, 'r') as file:\n",
    "        lines = file.readlines()\n",
    "    equations = []\n",
    "    for line in lines:\n",
    "        parts = line.strip().split(':')\n",
    "        test_value = int(parts[0].strip())\n",
    "        number_list = list(map(int, parts[1].strip().split()))\n",
    "        equations.append((test_value, number_list))\n",
    "    return equations\n",
    "\n",
    "def evaluate_expression(numbers, operators):\n",
    "    if len(numbers)!= len(operators) + 1:\n",
    "        raise ValueError(\"Mismatch between numbers and operators\")\n",
    "    result = numbers[0]\n",
    "    for i in range(len(operators)):\n",
    "        if operators[i] == '+':\n",
    "            result += numbers[i+1]\n",
    "        elif operators[i] == '*':\n",
    "            result *= numbers[i+1]\n",
    "        elif operators[i] == '||':\n",
    "            result = int(str(result) + str(numbers[i+1]))\n",
    "    return result\n",
    "\n",
    "def calculate_total_calibration_result(filename):\n",
    "    equations = parse_input_file(filename)\n",
    "    total_calibration_result = 0\n",
    "    operators = ['+', '*', '||']\n",
    "    for equation in equations:\n",
    "        test_value, numbers = equation\n",
    "        num_operators = len(numbers) - 1\n",
    "        if num_operators < 0:\n",
    "            if numbers[0] == test_value:\n",
    "                total_calibration_result += test_value\n",
    "                continue\n",
    "        for ops in itertools.product(operators, repeat=num_operators):\n",
    "            try:\n",
    "                eval_result = evaluate_expression(numbers, ops)\n",
    "                if eval_result == test_value:\n",
    "                    total_calibration_result += test_value\n",
    "                    break\n",
    "            except ValueError:\n",
    "                continue\n",
    "    return total_calibration_result\n",
    "\n",
    "filename = 'input.txt'\n",
    "print(calculate_total_calibration_result(filename))"
   ]
  }
 ],
 "metadata": {
  "kernelspec": {
   "display_name": "AdventOfCode",
   "language": "python",
   "name": "python3"
  },
  "language_info": {
   "codemirror_mode": {
    "name": "ipython",
    "version": 3
   },
   "file_extension": ".py",
   "mimetype": "text/x-python",
   "name": "python",
   "nbconvert_exporter": "python",
   "pygments_lexer": "ipython3",
   "version": "3.10.15"
  }
 },
 "nbformat": 4,
 "nbformat_minor": 2
}
