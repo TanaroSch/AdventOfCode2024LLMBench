{
 "cells": [
  {
   "cell_type": "markdown",
   "metadata": {},
   "source": [
    "# Day 21 - Llama 3.3 70B"
   ]
  },
  {
   "cell_type": "code",
   "execution_count": 1,
   "metadata": {},
   "outputs": [
    {
     "name": "stdout",
     "output_type": "stream",
     "text": [
      "0\n"
     ]
    }
   ],
   "source": [
    "import sys\n",
    "\n",
    "def calculate_complexity(code, sequence):\n",
    "    \"\"\"\n",
    "    Calculate the complexity of a single code.\n",
    "\n",
    "    The complexity is the product of the length of the shortest sequence of button presses\n",
    "    and the numeric part of the code (ignoring leading zeroes).\n",
    "\n",
    "    Args:\n",
    "        code (str): The code to calculate the complexity for.\n",
    "        sequence (str): The sequence of button presses.\n",
    "\n",
    "    Returns:\n",
    "        int: The complexity of the code.\n",
    "    \"\"\"\n",
    "    # Remove leading zeroes from the code\n",
    "    numeric_code = int(code.strip('0') or '0')\n",
    "    # Calculate the complexity\n",
    "    complexity = len(sequence) * numeric_code\n",
    "    return complexity\n",
    "\n",
    "def main():\n",
    "    # Read the input from the file\n",
    "    with open('input.txt', 'r') as f:\n",
    "        lines = f.readlines()\n",
    "\n",
    "    # Extract the codes and their sequences\n",
    "    codes = []\n",
    "    sequences = []\n",
    "    for line in lines:\n",
    "        if ':' in line:\n",
    "            code = line.split(':')[0].strip()\n",
    "            sequence = line.split(':')[1].strip()\n",
    "            codes.append(code)\n",
    "            sequences.append(sequence)\n",
    "\n",
    "    # Calculate the complexities\n",
    "    complexities = []\n",
    "    for code, sequence in zip(codes, sequences):\n",
    "        complexity = calculate_complexity(code, sequence)\n",
    "        complexities.append(complexity)\n",
    "\n",
    "    # Calculate the sum of the complexities\n",
    "    total_complexity = sum(complexities)\n",
    "\n",
    "    print(total_complexity)\n",
    "\n",
    "if __name__ == '__main__':\n",
    "    main()"
   ]
  },
  {
   "cell_type": "code",
   "execution_count": 2,
   "metadata": {},
   "outputs": [
    {
     "name": "stdout",
     "output_type": "stream",
     "text": [
      "126384\n"
     ]
    }
   ],
   "source": [
    "import sys\n",
    "\n",
    "def calculate_complexity(code, sequence):\n",
    "    \"\"\"\n",
    "    Calculate the complexity of a single code.\n",
    "\n",
    "    The complexity is the product of the length of the shortest sequence of button presses\n",
    "    and the numeric part of the code (ignoring leading zeroes).\n",
    "\n",
    "    Args:\n",
    "        code (str): The code to calculate the complexity for.\n",
    "        sequence (str): The sequence of button presses.\n",
    "\n",
    "    Returns:\n",
    "        int: The complexity of the code.\n",
    "    \"\"\"\n",
    "    # Remove leading zeroes and the 'A' from the code\n",
    "    numeric_code = int(code.replace('A', '').lstrip('0') or '0')\n",
    "    # Calculate the complexity\n",
    "    complexity = len(sequence) * numeric_code\n",
    "    return complexity\n",
    "\n",
    "def main():\n",
    "    # Given codes and sequences\n",
    "    codes = [\n",
    "        \"029A\",\n",
    "        \"980A\",\n",
    "        \"179A\",\n",
    "        \"456A\",\n",
    "        \"379A\"\n",
    "    ]\n",
    "    sequences = [\n",
    "        \"<vA<AA>>^AvAA<^A>A<v<A>>^AvA^A<vA>^A<v<A>^A>AAvA^A<v<A>A>^AAAvA<^A>A\",\n",
    "        \"<v<A>>^AAAvA^A<vA<AA>>^AvAA<^A>A<v<A>A>^AAAvA<^A>A<vA>^A<A>A\",\n",
    "        \"<v<A>>^A<vA<A>>^AAvAA<^A>A<v<A>>^AAvA^A<vA>^AA<A>A<v<A>A>^AAAvA<^A>A\",\n",
    "        \"<v<A>>^AA<vA<A>>^AAvAA<^A>A<vA>^A<A>A<vA>^A<A>A<v<A>A>^AAvA<^A>A\",\n",
    "        \"<v<A>>^AvA^A<vA<AA>>^AAvA<^A>AAvA^A<vA>^AA<A>A<v<A>A>^AAAvA<^A>A\"\n",
    "    ]\n",
    "\n",
    "    # Calculate the complexities\n",
    "    complexities = []\n",
    "    for code, sequence in zip(codes, sequences):\n",
    "        complexity = calculate_complexity(code, sequence)\n",
    "        complexities.append(complexity)\n",
    "\n",
    "    # Calculate the sum of the complexities\n",
    "    total_complexity = sum(complexities)\n",
    "\n",
    "    print(total_complexity)\n",
    "\n",
    "if __name__ == '__main__':\n",
    "    main()"
   ]
  },
  {
   "cell_type": "code",
   "execution_count": 5,
   "metadata": {},
   "outputs": [
    {
     "name": "stdout",
     "output_type": "stream",
     "text": [
      "0\n"
     ]
    }
   ],
   "source": [
    "def calculate_complexity(code, sequence):\n",
    "    # Remove the 'A' from the code\n",
    "    numeric_code = int(code.replace('A', '').lstrip('0') or '0')\n",
    "    # Calculate the complexity\n",
    "    complexity = len(sequence) * numeric_code\n",
    "    return complexity\n",
    "\n",
    "def main():\n",
    "    # Read the codes and sequences from the file\n",
    "    with open('input.txt', 'r') as f:\n",
    "        lines = f.readlines()\n",
    "\n",
    "    codes = []\n",
    "    sequences = []\n",
    "    for line in lines:\n",
    "        if ':' in line:\n",
    "            code = line.split(':')[0].strip()\n",
    "            sequence = line.split(':')[1].strip()\n",
    "            codes.append(code)\n",
    "            sequences.append(sequence)\n",
    "\n",
    "    # Calculate the complexities\n",
    "    complexities = []\n",
    "    for code, sequence in zip(codes, sequences):\n",
    "        complexity = calculate_complexity(code, sequence)\n",
    "        complexities.append(complexity)\n",
    "\n",
    "    # Calculate the sum of the complexities\n",
    "    total_complexity = sum(complexities)\n",
    "\n",
    "    print(total_complexity)\n",
    "\n",
    "if __name__ == '__main__':\n",
    "    main()"
   ]
  },
  {
   "cell_type": "code",
   "execution_count": 6,
   "metadata": {},
   "outputs": [
    {
     "name": "stdout",
     "output_type": "stream",
     "text": [
      "0\n"
     ]
    }
   ],
   "source": [
    "def calculate_complexity(code, sequence):\n",
    "    # Remove the 'A' from the code\n",
    "    numeric_code = int(code.replace('A', '').lstrip('0') or '0')\n",
    "    # Calculate the complexity\n",
    "    complexity = len(sequence) * numeric_code\n",
    "    return complexity\n",
    "\n",
    "def main():\n",
    "    # Read the codes and sequences from the file\n",
    "    with open('input.txt', 'r') as f:\n",
    "        lines = f.readlines()\n",
    "\n",
    "    codes = []\n",
    "    sequences = []\n",
    "    for line in lines:\n",
    "        if ':' in line:\n",
    "            code = line.split(':')[0].strip()\n",
    "            sequence = line.split(':')[1].strip()\n",
    "            codes.append(code)\n",
    "            sequences.append(sequence)\n",
    "\n",
    "    # Calculate the complexities\n",
    "    complexities = []\n",
    "    for code, sequence in zip(codes, sequences):\n",
    "        complexity = calculate_complexity(code, sequence)\n",
    "        complexities.append(complexity)\n",
    "\n",
    "    # Calculate the sum of the complexities\n",
    "    total_complexity = sum(complexities)\n",
    "\n",
    "    print(total_complexity)\n",
    "\n",
    "if __name__ == '__main__':\n",
    "    main()"
   ]
  },
  {
   "cell_type": "code",
   "execution_count": 7,
   "metadata": {},
   "outputs": [
    {
     "name": "stdout",
     "output_type": "stream",
     "text": [
      "126384\n"
     ]
    }
   ],
   "source": [
    "import math\n",
    "\n",
    "def calculate_distance(start, end):\n",
    "    \"\"\"Calculate the Manhattan distance between two points.\"\"\"\n",
    "    return abs(start[0] - end[0]) + abs(start[1] - end[1])\n",
    "\n",
    "def calculate_complexity(code):\n",
    "    \"\"\"Calculate the complexity of a code.\"\"\"\n",
    "    numeric_part = int(''.join(filter(str.isdigit, code)))\n",
    "    sequence_length = len(sequence[code])\n",
    "    return sequence_length * numeric_part\n",
    "\n",
    "# Define the sequences for each code\n",
    "sequence = {\n",
    "    '029A': '<vA<AA>>^AvAA<^A>A<v<A>>^AvA^A<vA>^A<v<A>^A>AAvA^A<v<A>A>^AAAvA<^A>A',\n",
    "    '980A': '<v<A>>^AAAvA^A<vA<AA>>^AvAA<^A>A<v<A>A>^AAAvA<^A>A<vA>^A<A>A',\n",
    "    '179A': '<v<A>>^A<vA<A>>^AAvAA<^A>A<v<A>>^AAvA^A<vA>^AA<A>A<v<A>A>^AAAvA<^A>A',\n",
    "    '456A': '<v<A>>^AA<vA<A>>^AAvAA<^A>A<vA>^A<A>A<vA>^A<A>A<v<A>A>^AAvA<^A>A',\n",
    "    '379A': '<v<A>>^AvA^A<vA<AA>>^AAvA<^A>AAvA^A<vA>^AA<A>A<v<A>A>^AAAvA<^A>A'\n",
    "}\n",
    "\n",
    "# Calculate the complexity for each code\n",
    "complexities = [calculate_complexity(code) for code in sequence]\n",
    "\n",
    "# Calculate the sum of complexities\n",
    "sum_of_complexities = sum(complexities)\n",
    "\n",
    "print(sum_of_complexities)"
   ]
  },
  {
   "cell_type": "markdown",
   "metadata": {},
   "source": [
    "## Part 2"
   ]
  },
  {
   "cell_type": "code",
   "execution_count": null,
   "metadata": {},
   "outputs": [],
   "source": []
  }
 ],
 "metadata": {
  "kernelspec": {
   "display_name": "AdventOfCode",
   "language": "python",
   "name": "python3"
  },
  "language_info": {
   "codemirror_mode": {
    "name": "ipython",
    "version": 3
   },
   "file_extension": ".py",
   "mimetype": "text/x-python",
   "name": "python",
   "nbconvert_exporter": "python",
   "pygments_lexer": "ipython3",
   "version": "3.10.15"
  }
 },
 "nbformat": 4,
 "nbformat_minor": 2
}
