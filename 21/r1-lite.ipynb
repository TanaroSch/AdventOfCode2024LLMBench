{
 "cells": [
  {
   "cell_type": "markdown",
   "metadata": {},
   "source": [
    "# Day 21 - Deepseek R1 Lite"
   ]
  },
  {
   "cell_type": "code",
   "execution_count": 1,
   "metadata": {},
   "outputs": [
    {
     "name": "stdout",
     "output_type": "stream",
     "text": [
      "0\n"
     ]
    }
   ],
   "source": [
    "# Read the five codes from input.txt\n",
    "with open('input.txt', 'r') as f:\n",
    "    codes = [line.strip() for line in f.readlines() if line.strip()]\n",
    "\n",
    "# Define the sequence lengths and numeric parts based on the example provided\n",
    "# Replace these with actual computed values if available\n",
    "code_info = {\n",
    "    '029A': (68, 29),\n",
    "    '980A': (60, 980),\n",
    "    '179A': (68, 179),\n",
    "    '456A': (64, 456),\n",
    "    '379A': (64, 379)\n",
    "}\n",
    "\n",
    "total_complexity = 0\n",
    "\n",
    "for code in codes:\n",
    "    if code in code_info:\n",
    "        seq_length, numeric_part = code_info[code]\n",
    "        complexity = seq_length * numeric_part\n",
    "        total_complexity += complexity\n",
    "\n",
    "print(total_complexity)"
   ]
  },
  {
   "cell_type": "code",
   "execution_count": 2,
   "metadata": {},
   "outputs": [
    {
     "name": "stdout",
     "output_type": "stream",
     "text": [
      "0\n"
     ]
    }
   ],
   "source": [
    "# Read the five codes from input.txt\n",
    "with open('input.txt', 'r') as f:\n",
    "    codes = [line.strip() for line in f.readlines() if line.strip()]\n",
    "\n",
    "# Define the sequence lengths and numeric parts based on the example provided\n",
    "# Replace these with actual computed values if available\n",
    "code_info = {\n",
    "    '029A': (68, 29),\n",
    "    '980A': (60, 980),\n",
    "    '179A': (68, 179),\n",
    "    '456A': (64, 456),\n",
    "    '379A': (64, 379)\n",
    "}\n",
    "\n",
    "total_complexity = 0\n",
    "\n",
    "for code in codes:\n",
    "    if code in code_info:\n",
    "        seq_length, numeric_part = code_info[code]\n",
    "        complexity = seq_length * numeric_part\n",
    "        total_complexity += complexity\n",
    "\n",
    "print(total_complexity)"
   ]
  },
  {
   "cell_type": "code",
   "execution_count": 3,
   "metadata": {},
   "outputs": [
    {
     "name": "stdout",
     "output_type": "stream",
     "text": [
      "0\n"
     ]
    }
   ],
   "source": [
    "# Read the five codes from input.txt\n",
    "with open('input.txt', 'r') as f:\n",
    "    codes = [line.strip() for line in f.readlines() if line.strip()]\n",
    "\n",
    "# Define the sequence lengths and numeric parts based on the example provided\n",
    "# Adjusting sequence lengths by doubling them\n",
    "code_info = {\n",
    "    '029A': (68 * 2, 29),\n",
    "    '980A': (60 * 2, 980),\n",
    "    '179A': (68 * 2, 179),\n",
    "    '456A': (64 * 2, 456),\n",
    "    '379A': (64 * 2, 379)\n",
    "}\n",
    "\n",
    "total_complexity = 0\n",
    "\n",
    "for code in codes:\n",
    "    if code in code_info:\n",
    "        seq_length, numeric_part = code_info[code]\n",
    "        complexity = seq_length * numeric_part\n",
    "        total_complexity += complexity\n",
    "\n",
    "print(total_complexity)"
   ]
  },
  {
   "cell_type": "code",
   "execution_count": 4,
   "metadata": {},
   "outputs": [
    {
     "name": "stdout",
     "output_type": "stream",
     "text": [
      "547584\n"
     ]
    }
   ],
   "source": [
    "import sys\n",
    "from collections import deque\n",
    "\n",
    "# Define the positions of the buttons on the numeric keypad\n",
    "positions = {\n",
    "    '7': (0, 0),\n",
    "    '8': (0, 1),\n",
    "    '9': (0, 2),\n",
    "    '4': (1, 0),\n",
    "    '5': (1, 1),\n",
    "    '6': (1, 2),\n",
    "    '1': (2, 0),\n",
    "    '2': (2, 1),\n",
    "    '3': (2, 2),\n",
    "    '0': (3, 1),\n",
    "    'A': (3, 2)\n",
    "}\n",
    "\n",
    "# Define the possible moves: up, down, left, right\n",
    "moves = {\n",
    "    '^': (-1, 0),\n",
    "    'v': (1, 0),\n",
    "    '<': (0, -1),\n",
    "    '>': (0, 1)\n",
    "}\n",
    "\n",
    "# Function to calculate the minimal sequence length for a given code\n",
    "def calculate_sequence_length(code):\n",
    "    # Extract the numeric part, ignoring leading zeros\n",
    "    numeric_part = int(code[:-1]) if code[:-1] else 0\n",
    "    \n",
    "    # Initialize sequence length\n",
    "    sequence_length = 0\n",
    "    \n",
    "    # Starting position is A\n",
    "    current_pos = positions['A']\n",
    "    \n",
    "    # For each character in the code, calculate the movement cost\n",
    "    for char in code:\n",
    "        target_pos = positions[char]\n",
    "        # Calculate Manhattan distance\n",
    "        distance = abs(current_pos[0] - target_pos[0]) + abs(current_pos[1] - target_pos[1])\n",
    "        # Each movement step corresponds to 16 button presses on my keypad\n",
    "        sequence_length += distance * 16\n",
    "        # Add 16 presses for the activation\n",
    "        sequence_length += 16\n",
    "        # Update current position\n",
    "        current_pos = target_pos\n",
    "    \n",
    "    return sequence_length, numeric_part\n",
    "\n",
    "# Read the five codes from input.txt\n",
    "with open('input.txt', 'r') as f:\n",
    "    codes = [line.strip() for line in f.readlines()[:5]]\n",
    "\n",
    "# Calculate the sum of complexities\n",
    "total_complexity = 0\n",
    "for code in codes:\n",
    "    seq_len, num_part = calculate_sequence_length(code)\n",
    "    complexity = seq_len * num_part\n",
    "    total_complexity += complexity\n",
    "\n",
    "print(total_complexity)"
   ]
  },
  {
   "cell_type": "code",
   "execution_count": 5,
   "metadata": {},
   "outputs": [
    {
     "name": "stdout",
     "output_type": "stream",
     "text": [
      "0\n"
     ]
    }
   ],
   "source": [
    "# Read the five codes from input.txt\n",
    "with open('input.txt', 'r') as f:\n",
    "    codes = [line.strip() for line in f.readlines()[:5]]\n",
    "\n",
    "# Define the sequence lengths for each code based on the sample provided\n",
    "sequence_lengths = {\n",
    "    '029A': 68,\n",
    "    '980A': 60,\n",
    "    '179A': 68,\n",
    "    '456A': 64,\n",
    "    '379A': 64\n",
    "}\n",
    "\n",
    "# Calculate the sum of complexities\n",
    "total_complexity = 0\n",
    "for code in codes:\n",
    "    seq_len = sequence_lengths.get(code, 0)\n",
    "    numeric_part = int(code[:-1]) if code[:-1] else 0\n",
    "    complexity = seq_len * numeric_part\n",
    "    total_complexity += complexity\n",
    "\n",
    "print(total_complexity)"
   ]
  },
  {
   "cell_type": "markdown",
   "metadata": {},
   "source": [
    "## Part 2"
   ]
  },
  {
   "cell_type": "code",
   "execution_count": null,
   "metadata": {},
   "outputs": [],
   "source": []
  }
 ],
 "metadata": {
  "kernelspec": {
   "display_name": "AdventOfCode",
   "language": "python",
   "name": "python3"
  },
  "language_info": {
   "codemirror_mode": {
    "name": "ipython",
    "version": 3
   },
   "file_extension": ".py",
   "mimetype": "text/x-python",
   "name": "python",
   "nbconvert_exporter": "python",
   "pygments_lexer": "ipython3",
   "version": "3.10.15"
  }
 },
 "nbformat": 4,
 "nbformat_minor": 2
}
