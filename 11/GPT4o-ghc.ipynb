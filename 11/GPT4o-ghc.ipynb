{
 "cells": [
  {
   "cell_type": "markdown",
   "metadata": {},
   "source": [
    "# Day 11 - GPT 4o (GHC)"
   ]
  },
  {
   "cell_type": "code",
   "execution_count": 1,
   "metadata": {},
   "outputs": [
    {
     "name": "stdout",
     "output_type": "stream",
     "text": [
      "203609\n"
     ]
    }
   ],
   "source": [
    "def read_input(file_name):\n",
    "    with open(file_name, 'r') as file:\n",
    "        return list(map(int, file.readline().strip().split()))\n",
    "\n",
    "def transform_stones(stones):\n",
    "    new_stones = []\n",
    "    for stone in stones:\n",
    "        if stone == 0:\n",
    "            new_stones.append(1)\n",
    "        elif len(str(stone)) % 2 == 0:\n",
    "            mid = len(str(stone)) // 2\n",
    "            left = int(str(stone)[:mid])\n",
    "            right = int(str(stone)[mid:])\n",
    "            new_stones.append(left)\n",
    "            new_stones.append(right)\n",
    "        else:\n",
    "            new_stones.append(stone * 2024)\n",
    "    return new_stones\n",
    "\n",
    "def simulate_blinks(stones, blinks):\n",
    "    for _ in range(blinks):\n",
    "        stones = transform_stones(stones)\n",
    "    return stones\n",
    "\n",
    "def main():\n",
    "    initial_stones = read_input('input.txt')\n",
    "    final_stones = simulate_blinks(initial_stones, 25)\n",
    "    print(len(final_stones))\n",
    "\n",
    "if __name__ == \"__main__\":\n",
    "    main()"
   ]
  },
  {
   "cell_type": "markdown",
   "metadata": {},
   "source": [
    "## Part 2"
   ]
  },
  {
   "cell_type": "code",
   "execution_count": 4,
   "metadata": {},
   "outputs": [
    {
     "name": "stdout",
     "output_type": "stream",
     "text": [
      "240954878211138\n"
     ]
    }
   ],
   "source": [
    "from collections import defaultdict\n",
    "\n",
    "def read_input(file_name):\n",
    "    with open(file_name, 'r') as file:\n",
    "        return list(map(int, file.readline().strip().split()))\n",
    "\n",
    "def transform_stone_counts(stone_counts):\n",
    "    new_counts = defaultdict(int)\n",
    "    for stone, count in stone_counts.items():\n",
    "        if stone == 0:\n",
    "            new_counts[1] += count\n",
    "        elif len(str(stone)) % 2 == 0:\n",
    "            mid = len(str(stone)) // 2\n",
    "            left = int(str(stone)[:mid])\n",
    "            right = int(str(stone)[mid:])\n",
    "            new_counts[left] += count\n",
    "            new_counts[right] += count\n",
    "        else:\n",
    "            new_counts[stone * 2024] += count\n",
    "    return new_counts\n",
    "\n",
    "def simulate_blinks(stones, blinks):\n",
    "    stone_counts = defaultdict(int)\n",
    "    for stone in stones:\n",
    "        stone_counts[stone] += 1\n",
    "    \n",
    "    for _ in range(blinks):\n",
    "        stone_counts = transform_stone_counts(stone_counts)\n",
    "    \n",
    "    total_stones = sum(stone_counts.values())\n",
    "    return total_stones\n",
    "\n",
    "def main():\n",
    "    initial_stones = read_input('input.txt')\n",
    "    final_count = simulate_blinks(initial_stones, 75)\n",
    "    print(final_count)\n",
    "\n",
    "if __name__ == \"__main__\":\n",
    "    main()"
   ]
  }
 ],
 "metadata": {
  "kernelspec": {
   "display_name": "AdventOfCode",
   "language": "python",
   "name": "python3"
  },
  "language_info": {
   "codemirror_mode": {
    "name": "ipython",
    "version": 3
   },
   "file_extension": ".py",
   "mimetype": "text/x-python",
   "name": "python",
   "nbconvert_exporter": "python",
   "pygments_lexer": "ipython3",
   "version": "3.10.15"
  }
 },
 "nbformat": 4,
 "nbformat_minor": 2
}
