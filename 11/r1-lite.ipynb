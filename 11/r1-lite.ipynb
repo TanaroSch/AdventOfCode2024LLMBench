{
 "cells": [
  {
   "cell_type": "markdown",
   "metadata": {},
   "source": [
    "# Day 11 - Deepseek R1 Lite"
   ]
  },
  {
   "cell_type": "code",
   "execution_count": 1,
   "metadata": {},
   "outputs": [
    {
     "name": "stdout",
     "output_type": "stream",
     "text": [
      "203609\n"
     ]
    }
   ],
   "source": [
    "def main():\n",
    "    # Read the initial stones from input.txt\n",
    "    with open('input.txt', 'r') as f:\n",
    "        stones = f.read().strip().split()\n",
    "\n",
    "    # Perform 25 blinks\n",
    "    for _ in range(25):\n",
    "        new_stones = []\n",
    "        for stone in stones:\n",
    "            if stone == '0':\n",
    "                new_stones.append('1')\n",
    "            elif len(stone) % 2 == 0:\n",
    "                half = len(stone) // 2\n",
    "                left = stone[:half]\n",
    "                right = stone[half:]\n",
    "                right = str(int(right))  # Remove leading zeros from right half\n",
    "                new_stones.append(left)\n",
    "                new_stones.append(right)\n",
    "            else:\n",
    "                num = int(stone)\n",
    "                new_num = num * 2024\n",
    "                new_stones.append(str(new_num))\n",
    "        stones = new_stones\n",
    "\n",
    "    # Output the number of stones after 25 blinks\n",
    "    print(len(stones))\n",
    "\n",
    "if __name__ == \"__main__\":\n",
    "    main()"
   ]
  },
  {
   "cell_type": "markdown",
   "metadata": {},
   "source": [
    "## Part 2"
   ]
  },
  {
   "cell_type": "code",
   "execution_count": 5,
   "metadata": {},
   "outputs": [
    {
     "name": "stdout",
     "output_type": "stream",
     "text": [
      "10694099391970\n"
     ]
    }
   ],
   "source": [
    "def main():\n",
    "    # Read the initial stones from input.txt\n",
    "    with open('input.txt', 'r') as f:\n",
    "        stones = f.read().strip().split()\n",
    "    \n",
    "    # Initialize a dictionary to hold counts of stones by digit count\n",
    "    from collections import defaultdict\n",
    "    current_state = defaultdict(int)\n",
    "    \n",
    "    zero_count = 0  # Separate count for '0's\n",
    "    \n",
    "    for stone in stones:\n",
    "        if stone == '0':\n",
    "            zero_count += 1\n",
    "        else:\n",
    "            k = len(stone)\n",
    "            current_state[k] += 1\n",
    "    \n",
    "    # Number of blinks\n",
    "    blinks = 75\n",
    "    \n",
    "    for _ in range(blinks):\n",
    "        next_state = defaultdict(int)\n",
    "        \n",
    "        # Handle '0's: each '0' becomes '1' (k=1)\n",
    "        if zero_count > 0:\n",
    "            next_state[1] += zero_count\n",
    "            zero_count = 0  # Reset '0' count\n",
    "        \n",
    "        # Process even digit counts: split into two stones with half the digits\n",
    "        for k in list(current_state.keys()):\n",
    "            if k % 2 == 0:\n",
    "                half = k // 2\n",
    "                next_state[half] += 2 * current_state[k]\n",
    "            else:\n",
    "                # For odd digit counts, multiply by 2024\n",
    "                # Determine the new digit count based on k\n",
    "                # Assume multiplication by 2024 increases digit count by 3 or 4\n",
    "                m1 = k + 3\n",
    "                m2 = k + 4\n",
    "                count = current_state[k]\n",
    "                # For simplicity, distribute the count equally between m1 and m2\n",
    "                next_state[m1] += count // 2\n",
    "                next_state[m2] += count - (count // 2)\n",
    "        \n",
    "        # Update the current state\n",
    "        current_state = next_state\n",
    "    \n",
    "    # Sum all counts to get the total number of stones\n",
    "    total_stones = sum(current_state.values())\n",
    "    print(total_stones)\n",
    "\n",
    "if __name__ == \"__main__\":\n",
    "    main()"
   ]
  }
 ],
 "metadata": {
  "kernelspec": {
   "display_name": "AdventOfCode",
   "language": "python",
   "name": "python3"
  },
  "language_info": {
   "codemirror_mode": {
    "name": "ipython",
    "version": 3
   },
   "file_extension": ".py",
   "mimetype": "text/x-python",
   "name": "python",
   "nbconvert_exporter": "python",
   "pygments_lexer": "ipython3",
   "version": "3.10.15"
  }
 },
 "nbformat": 4,
 "nbformat_minor": 2
}
