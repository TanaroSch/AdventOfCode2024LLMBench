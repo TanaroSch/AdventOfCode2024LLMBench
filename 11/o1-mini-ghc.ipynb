{
 "cells": [
  {
   "cell_type": "markdown",
   "metadata": {},
   "source": [
    "# Day 11 - o1-mini (GHC)"
   ]
  },
  {
   "cell_type": "code",
   "execution_count": 1,
   "metadata": {},
   "outputs": [
    {
     "name": "stdout",
     "output_type": "stream",
     "text": [
      "203609\n"
     ]
    }
   ],
   "source": [
    "import sys\n",
    "from functools import lru_cache\n",
    "\n",
    "def read_input(file_path):\n",
    "    with open(file_path, 'r') as f:\n",
    "        content = f.read().strip()\n",
    "    return list(map(int, content.split()))\n",
    "\n",
    "@lru_cache(maxsize=None)\n",
    "def count_stones(number, blinks):\n",
    "    if blinks == 0:\n",
    "        return 1\n",
    "    if number == 0:\n",
    "        return count_stones(1, blinks - 1)\n",
    "    num_str = str(number)\n",
    "    if len(num_str) % 2 == 0:\n",
    "        mid = len(num_str) // 2\n",
    "        left = int(num_str[:mid].lstrip('0') or '0')\n",
    "        right = int(num_str[mid:].lstrip('0') or '0')\n",
    "        return count_stones(left, blinks - 1) + count_stones(right, blinks - 1)\n",
    "    else:\n",
    "        return count_stones(number * 2024, blinks - 1)\n",
    "\n",
    "def main():\n",
    "    initial_stones = read_input('input.txt')\n",
    "    total = sum(count_stones(num, 25) for num in initial_stones)\n",
    "    print(total)\n",
    "\n",
    "if __name__ == \"__main__\":\n",
    "    main()"
   ]
  },
  {
   "cell_type": "markdown",
   "metadata": {},
   "source": [
    "## Part 2"
   ]
  },
  {
   "cell_type": "code",
   "execution_count": 2,
   "metadata": {},
   "outputs": [
    {
     "name": "stdout",
     "output_type": "stream",
     "text": [
      "240954878211138\n"
     ]
    }
   ],
   "source": [
    "import sys\n",
    "from functools import lru_cache\n",
    "\n",
    "def read_input(file_path):\n",
    "    with open(file_path, 'r') as f:\n",
    "        content = f.read().strip()\n",
    "    return list(map(int, content.split()))\n",
    "\n",
    "@lru_cache(maxsize=None)\n",
    "def count_stones(number, blinks):\n",
    "    if blinks == 0:\n",
    "        return 1\n",
    "    if number == 0:\n",
    "        return count_stones(1, blinks - 1)\n",
    "    num_str = str(number)\n",
    "    if len(num_str) % 2 == 0:\n",
    "        mid = len(num_str) // 2\n",
    "        left = int(num_str[:mid].lstrip('0') or '0')\n",
    "        right = int(num_str[mid:].lstrip('0') or '0')\n",
    "        return count_stones(left, blinks - 1) + count_stones(right, blinks - 1)\n",
    "    else:\n",
    "        return count_stones(number * 2024, blinks - 1)\n",
    "\n",
    "def main():\n",
    "    initial_stones = read_input('input.txt')\n",
    "    total = sum(count_stones(num, 75) for num in initial_stones)\n",
    "    print(total)\n",
    "\n",
    "if __name__ == \"__main__\":\n",
    "    main()"
   ]
  }
 ],
 "metadata": {
  "kernelspec": {
   "display_name": "AdventOfCode",
   "language": "python",
   "name": "python3"
  },
  "language_info": {
   "codemirror_mode": {
    "name": "ipython",
    "version": 3
   },
   "file_extension": ".py",
   "mimetype": "text/x-python",
   "name": "python",
   "nbconvert_exporter": "python",
   "pygments_lexer": "ipython3",
   "version": "3.10.15"
  }
 },
 "nbformat": 4,
 "nbformat_minor": 2
}
