{
 "cells": [
  {
   "cell_type": "markdown",
   "metadata": {},
   "source": [
    "# Day 11 - Qwen2.5 72b"
   ]
  },
  {
   "cell_type": "code",
   "execution_count": 1,
   "metadata": {},
   "outputs": [
    {
     "name": "stdout",
     "output_type": "stream",
     "text": [
      "Number of stones after 25 blinks: 203609\n"
     ]
    }
   ],
   "source": [
    "def transform_stones(stones):\n",
    "    new_stones = []\n",
    "    for stone in stones:\n",
    "        if stone == 0:\n",
    "            new_stones.append(1)\n",
    "        elif len(str(stone)) % 2 == 0:\n",
    "            stone_str = str(stone)\n",
    "            mid = len(stone_str) // 2\n",
    "            new_stones.append(int(stone_str[:mid]))\n",
    "            new_stones.append(int(stone_str[mid:]))\n",
    "        else:\n",
    "            new_stones.append(stone * 2024)\n",
    "    return new_stones\n",
    "\n",
    "def count_stones_after_blinks(input_file, blinks):\n",
    "    with open(input_file, 'r') as file:\n",
    "        initial_stones = list(map(int, file.readline().strip().split()))\n",
    "    \n",
    "    stones = initial_stones\n",
    "    for _ in range(blinks):\n",
    "        stones = transform_stones(stones)\n",
    "    \n",
    "    return len(stones)\n",
    "\n",
    "# Example usage\n",
    "input_file = 'input.txt'\n",
    "blinks = 25\n",
    "num_stones = count_stones_after_blinks(input_file, blinks)\n",
    "print(f\"Number of stones after {blinks} blinks: {num_stones}\")"
   ]
  },
  {
   "cell_type": "markdown",
   "metadata": {},
   "source": [
    "## Part 2"
   ]
  },
  {
   "cell_type": "code",
   "execution_count": 8,
   "metadata": {},
   "outputs": [
    {
     "name": "stdout",
     "output_type": "stream",
     "text": [
      "Number of stones after 75 blinks: 240954878211138\n"
     ]
    }
   ],
   "source": [
    "def transform_stone(stone, blinks, dp):\n",
    "    if blinks == 0:\n",
    "        return 1\n",
    "    if (stone, blinks) in dp:\n",
    "        return dp[(stone, blinks)]\n",
    "    \n",
    "    if stone == 0:\n",
    "        result = transform_stone(1, blinks - 1, dp)\n",
    "    elif len(str(stone)) % 2 == 0:\n",
    "        stone_str = str(stone)\n",
    "        mid = len(stone_str) // 2\n",
    "        left_stone = int(stone_str[:mid])\n",
    "        right_stone = int(stone_str[mid:])\n",
    "        result = transform_stone(left_stone, blinks - 1, dp) + transform_stone(right_stone, blinks - 1, dp)\n",
    "    else:\n",
    "        new_stone = stone * 2024\n",
    "        result = transform_stone(new_stone, blinks - 1, dp)\n",
    "    \n",
    "    dp[(stone, blinks)] = result\n",
    "    return result\n",
    "\n",
    "def count_stones_after_blinks(input_file, blinks):\n",
    "    with open(input_file, 'r') as file:\n",
    "        initial_stones = list(map(int, file.readline().strip().split()))\n",
    "    \n",
    "    dp = {}\n",
    "    total_stones = 0\n",
    "    for stone in initial_stones:\n",
    "        total_stones += transform_stone(stone, blinks, dp)\n",
    "    \n",
    "    return total_stones\n",
    "\n",
    "# Example usage\n",
    "input_file = 'input.txt'\n",
    "blinks = 75\n",
    "num_stones = count_stones_after_blinks(input_file, blinks)\n",
    "print(f\"Number of stones after {blinks} blinks: {num_stones}\")"
   ]
  }
 ],
 "metadata": {
  "kernelspec": {
   "display_name": "AdventOfCode",
   "language": "python",
   "name": "python3"
  },
  "language_info": {
   "codemirror_mode": {
    "name": "ipython",
    "version": 3
   },
   "file_extension": ".py",
   "mimetype": "text/x-python",
   "name": "python",
   "nbconvert_exporter": "python",
   "pygments_lexer": "ipython3",
   "version": "3.10.15"
  }
 },
 "nbformat": 4,
 "nbformat_minor": 2
}
