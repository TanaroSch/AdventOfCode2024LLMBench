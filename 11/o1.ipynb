{
 "cells": [
  {
   "cell_type": "markdown",
   "metadata": {},
   "source": [
    "# Day 11 - o1"
   ]
  },
  {
   "cell_type": "code",
   "execution_count": 2,
   "metadata": {},
   "outputs": [
    {
     "name": "stdout",
     "output_type": "stream",
     "text": [
      "203609\n"
     ]
    }
   ],
   "source": [
    "def split_number(num_str):\n",
    "    # Splits an even-length number string into two parts, converts them to int to remove leading zeros, \n",
    "    # and returns them as strings without leading zeros.\n",
    "    half = len(num_str) // 2\n",
    "    left = str(int(num_str[:half]))\n",
    "    right = str(int(num_str[half:]))\n",
    "    return [left, right]\n",
    "\n",
    "def transform(stones):\n",
    "    new_stones = []\n",
    "    for s in stones:\n",
    "        # Rule 1: If the stone is engraved with 0, it becomes 1\n",
    "        if s == \"0\":\n",
    "            new_stones.append(\"1\")\n",
    "        # Rule 2: If the stone's number has an even number of digits, split it into two stones\n",
    "        elif len(s) % 2 == 0:\n",
    "            new_stones.extend(split_number(s))\n",
    "        # Rule 3: Otherwise, multiply the number by 2024\n",
    "        else:\n",
    "            val = int(s) * 2024\n",
    "            new_stones.append(str(val))\n",
    "    return new_stones\n",
    "\n",
    "def main():\n",
    "    # Read initial stones from input.txt\n",
    "    with open(\"input.txt\", \"r\") as f:\n",
    "        stones = f.read().strip().split()\n",
    "    \n",
    "    # Apply the transformation 25 times\n",
    "    for _ in range(25):\n",
    "        stones = transform(stones)\n",
    "\n",
    "    # Print the number of stones after 25 blinks\n",
    "    print(len(stones))\n",
    "\n",
    "if __name__ == \"__main__\":\n",
    "    main()\n"
   ]
  },
  {
   "cell_type": "markdown",
   "metadata": {},
   "source": [
    "## Part 2"
   ]
  },
  {
   "cell_type": "code",
   "execution_count": 7,
   "metadata": {},
   "outputs": [
    {
     "name": "stdout",
     "output_type": "stream",
     "text": [
      "240954878211138\n"
     ]
    }
   ],
   "source": [
    "import sys\n",
    "from functools import lru_cache\n",
    "\n",
    "sys.setrecursionlimit(10**7)\n",
    "\n",
    "def multiply2024(num):\n",
    "    return int(num)*2024\n",
    "\n",
    "def split_even(num_str):\n",
    "    length = len(num_str)\n",
    "    half = length // 2\n",
    "    left = str(int(num_str[:half]))  # converting to int removes leading zeros\n",
    "    right = str(int(num_str[half:]))\n",
    "    return left, right\n",
    "\n",
    "@lru_cache(None)\n",
    "def count_stones(num_str, steps):\n",
    "    # Returns how many stones result from starting with num_str after 'steps' blinks.\n",
    "    if steps == 0:\n",
    "        return 1\n",
    "\n",
    "    # Apply one step:\n",
    "    if num_str == \"0\":\n",
    "        # Rule 1\n",
    "        next_stones = [\"1\"]\n",
    "    else:\n",
    "        length = len(num_str)\n",
    "        if length % 2 == 0:\n",
    "            # Even length => split\n",
    "            left, right = split_even(num_str)\n",
    "            next_stones = [left, right]\n",
    "        else:\n",
    "            # Odd length => multiply by 2024\n",
    "            val = multiply2024(num_str)\n",
    "            # Convert back to string\n",
    "            next_stones = [str(val)]\n",
    "\n",
    "    # Now we have the stones after one blink\n",
    "    # Recursively count their expansions\n",
    "    total = 0\n",
    "    for s in next_stones:\n",
    "        total += count_stones(s, steps-1)\n",
    "    return total\n",
    "\n",
    "def main():\n",
    "    with open(\"input.txt\", \"r\") as f:\n",
    "        initial_stones = f.read().strip().split()\n",
    "\n",
    "    # We want the count after 75 blinks\n",
    "    steps = 75\n",
    "    total_count = 0\n",
    "    for stone in initial_stones:\n",
    "        total_count += count_stones(stone, steps)\n",
    "\n",
    "    print(total_count)\n",
    "\n",
    "if __name__ == \"__main__\":\n",
    "    main()\n"
   ]
  }
 ],
 "metadata": {
  "kernelspec": {
   "display_name": "AdventOfCode",
   "language": "python",
   "name": "python3"
  },
  "language_info": {
   "codemirror_mode": {
    "name": "ipython",
    "version": 3
   },
   "file_extension": ".py",
   "mimetype": "text/x-python",
   "name": "python",
   "nbconvert_exporter": "python",
   "pygments_lexer": "ipython3",
   "version": "3.10.15"
  }
 },
 "nbformat": 4,
 "nbformat_minor": 2
}
