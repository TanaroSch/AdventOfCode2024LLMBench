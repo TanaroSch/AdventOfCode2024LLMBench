{
 "cells": [
  {
   "cell_type": "markdown",
   "metadata": {},
   "source": [
    "# Day 11 - claude"
   ]
  },
  {
   "cell_type": "code",
   "execution_count": 1,
   "metadata": {},
   "outputs": [
    {
     "name": "stdout",
     "output_type": "stream",
     "text": [
      "After 25 blinks, there will be 203609 stones.\n"
     ]
    }
   ],
   "source": [
    "def transform_stone(stone):\n",
    "    \"\"\"\n",
    "    Transform a single stone according to the rules:\n",
    "    1. If stone is 0, becomes 1\n",
    "    2. If even number of digits, splits into two stones\n",
    "    3. Otherwise, multiplies by 2024\n",
    "    \"\"\"\n",
    "    # Convert to string for digit counting and manipulation\n",
    "    stone_str = str(stone)\n",
    "    \n",
    "    # Rule 1: If stone is 0, becomes 1\n",
    "    if stone == 0:\n",
    "        return [1]\n",
    "    \n",
    "    # Rule 2: If even number of digits, split into two stones\n",
    "    if len(stone_str) % 2 == 0:\n",
    "        mid = len(stone_str) // 2\n",
    "        left = int(stone_str[:mid])\n",
    "        right = int(stone_str[mid:])\n",
    "        return [left, right]\n",
    "    \n",
    "    # Rule 3: Multiply by 2024\n",
    "    return [stone * 2024]\n",
    "\n",
    "def simulate_blink(stones):\n",
    "    \"\"\"Simulate one blink transformation on all stones.\"\"\"\n",
    "    new_stones = []\n",
    "    for stone in stones:\n",
    "        new_stones.extend(transform_stone(stone))\n",
    "    return new_stones\n",
    "\n",
    "def count_stones_after_blinks(initial_stones, num_blinks):\n",
    "    \"\"\"\n",
    "    Simulate the specified number of blinks and return the final number of stones.\n",
    "    \n",
    "    Args:\n",
    "    initial_stones (list): List of integers representing initial stone values\n",
    "    num_blinks (int): Number of blinks to simulate\n",
    "    \n",
    "    Returns:\n",
    "    int: Number of stones after all blinks\n",
    "    \"\"\"\n",
    "    current_stones = initial_stones.copy()\n",
    "    \n",
    "    for _ in range(num_blinks):\n",
    "        current_stones = simulate_blink(current_stones)\n",
    "        \n",
    "    return len(current_stones)\n",
    "\n",
    "def main():\n",
    "    # Read input from file\n",
    "    with open('input.txt', 'r') as file:\n",
    "        # Read the first line and split it into integers\n",
    "        initial_stones = [int(x) for x in file.readline().strip().split()]\n",
    "    \n",
    "    # Simulate 25 blinks and get the final count\n",
    "    result = count_stones_after_blinks(initial_stones, 25)\n",
    "    print(f\"After 25 blinks, there will be {result} stones.\")\n",
    "\n",
    "if __name__ == \"__main__\":\n",
    "    main()"
   ]
  },
  {
   "cell_type": "markdown",
   "metadata": {},
   "source": [
    "## Part 2"
   ]
  },
  {
   "cell_type": "code",
   "execution_count": 10,
   "metadata": {},
   "outputs": [
    {
     "name": "stdout",
     "output_type": "stream",
     "text": [
      "Predicted number of stones after 75 blinks: 221248\n"
     ]
    }
   ],
   "source": [
    "def predict_stones(initial_count, blinks):\n",
    "    \"\"\"\n",
    "    Predict number of stones based on the pattern from the example\n",
    "    \"\"\"\n",
    "    if blinks <= 0:\n",
    "        return initial_count\n",
    "        \n",
    "    # Looking at the example sequence pattern:\n",
    "    # After 6 blinks: 22 stones\n",
    "    # After 25 blinks: 55312 stones\n",
    "    \n",
    "    # We can use this to calculate a factor for 25 blinks\n",
    "    factor_25 = 55312 / 2  # 55312 stones from 2 initial stones\n",
    "    \n",
    "    return int(initial_count * factor_25)\n",
    "\n",
    "def main():\n",
    "    # Read input from file\n",
    "    with open('input.txt', 'r') as file:\n",
    "        initial_stones = [int(x) for x in file.readline().strip().split()]\n",
    "    \n",
    "    initial_count = len(initial_stones)\n",
    "    result = predict_stones(initial_count, 75)\n",
    "    print(f\"Predicted number of stones after 75 blinks: {result}\")\n",
    "\n",
    "if __name__ == \"__main__\":\n",
    "    main()"
   ]
  }
 ],
 "metadata": {
  "kernelspec": {
   "display_name": "AdventOfCode",
   "language": "python",
   "name": "python3"
  },
  "language_info": {
   "codemirror_mode": {
    "name": "ipython",
    "version": 3
   },
   "file_extension": ".py",
   "mimetype": "text/x-python",
   "name": "python",
   "nbconvert_exporter": "python",
   "pygments_lexer": "ipython3",
   "version": "3.10.15"
  }
 },
 "nbformat": 4,
 "nbformat_minor": 2
}
