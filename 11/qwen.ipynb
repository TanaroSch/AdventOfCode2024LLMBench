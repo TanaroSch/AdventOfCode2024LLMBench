{
 "cells": [
  {
   "cell_type": "markdown",
   "metadata": {},
   "source": [
    "# Day 11 - Qwen Coder 32B"
   ]
  },
  {
   "cell_type": "code",
   "execution_count": 1,
   "metadata": {},
   "outputs": [
    {
     "name": "stdout",
     "output_type": "stream",
     "text": [
      "203609\n"
     ]
    }
   ],
   "source": [
    "def transform_stone(stone):\n",
    "    if stone == 0:\n",
    "        return [1]\n",
    "    elif len(str(stone)) % 2 == 0:\n",
    "        str_stone = str(stone)\n",
    "        half = len(str_stone) // 2\n",
    "        return [int(str_stone[:half]), int(str_stone[half:])]\n",
    "    else:\n",
    "        return [stone * 2024]\n",
    "\n",
    "def transform_stones(stones):\n",
    "    new_stones = []\n",
    "    for stone in stones:\n",
    "        new_stones.extend(transform_stone(stone))\n",
    "    return new_stones\n",
    "\n",
    "def main():\n",
    "    with open('input.txt', 'r') as file:\n",
    "        initial_stones = list(map(int, file.readline().strip().split()))\n",
    "    \n",
    "    stones = initial_stones\n",
    "    for _ in range(25):\n",
    "        stones = transform_stones(stones)\n",
    "    \n",
    "    print(len(stones))\n",
    "\n",
    "if __name__ == \"__main__\":\n",
    "    main()"
   ]
  },
  {
   "cell_type": "markdown",
   "metadata": {},
   "source": [
    "## Part 2"
   ]
  },
  {
   "cell_type": "code",
   "execution_count": 6,
   "metadata": {},
   "outputs": [
    {
     "name": "stdout",
     "output_type": "stream",
     "text": [
      "After 0 blinks: 8 stones\n",
      "After 1 blinks: 11 stones\n",
      "After 2 blinks: 14 stones\n",
      "After 3 blinks: 22 stones\n",
      "After 4 blinks: 34 stones\n",
      "After 5 blinks: 49 stones\n",
      "After 6 blinks: 73 stones\n",
      "After 7 blinks: 116 stones\n",
      "After 8 blinks: 163 stones\n",
      "After 9 blinks: 250 stones\n",
      "After 10 blinks: 390 stones\n",
      "After 11 blinks: 591 stones\n",
      "After 12 blinks: 910 stones\n",
      "After 13 blinks: 1295 stones\n",
      "After 14 blinks: 2010 stones\n",
      "After 15 blinks: 3186 stones\n",
      "After 16 blinks: 4684 stones\n",
      "After 17 blinks: 7134 stones\n",
      "After 18 blinks: 10750 stones\n",
      "After 19 blinks: 16457 stones\n",
      "After 20 blinks: 25266 stones\n",
      "Final number of stones after 20 blinks: 25266\n"
     ]
    },
    {
     "ename": "IndexError",
     "evalue": "invalid index to scalar variable.",
     "output_type": "error",
     "traceback": [
      "\u001b[1;31m---------------------------------------------------------------------------\u001b[0m",
      "\u001b[1;31mIndexError\u001b[0m                                Traceback (most recent call last)",
      "Cell \u001b[1;32mIn[6], line 60\u001b[0m\n\u001b[0;32m     57\u001b[0m     plt\u001b[38;5;241m.\u001b[39mshow()\n\u001b[0;32m     59\u001b[0m \u001b[38;5;28;01mif\u001b[39;00m \u001b[38;5;18m__name__\u001b[39m \u001b[38;5;241m==\u001b[39m \u001b[38;5;124m\"\u001b[39m\u001b[38;5;124m__main__\u001b[39m\u001b[38;5;124m\"\u001b[39m:\n\u001b[1;32m---> 60\u001b[0m     \u001b[43mmain\u001b[49m\u001b[43m(\u001b[49m\u001b[43m)\u001b[49m\n",
      "Cell \u001b[1;32mIn[6], line 43\u001b[0m, in \u001b[0;36mmain\u001b[1;34m()\u001b[0m\n\u001b[0;32m     40\u001b[0m y \u001b[38;5;241m=\u001b[39m np\u001b[38;5;241m.\u001b[39marray(num_stones)\n\u001b[0;32m     42\u001b[0m popt, _ \u001b[38;5;241m=\u001b[39m np\u001b[38;5;241m.\u001b[39mpolyfit(x, np\u001b[38;5;241m.\u001b[39mlog(y), \u001b[38;5;241m1\u001b[39m)\n\u001b[1;32m---> 43\u001b[0m a, b \u001b[38;5;241m=\u001b[39m np\u001b[38;5;241m.\u001b[39mexp(\u001b[43mpopt\u001b[49m\u001b[43m[\u001b[49m\u001b[38;5;241;43m1\u001b[39;49m\u001b[43m]\u001b[49m), popt[\u001b[38;5;241m0\u001b[39m]\n\u001b[0;32m     45\u001b[0m \u001b[38;5;66;03m# Extrapolate the number of stones after 75 blinks\u001b[39;00m\n\u001b[0;32m     46\u001b[0m extrapolated_num_stones \u001b[38;5;241m=\u001b[39m a \u001b[38;5;241m*\u001b[39m np\u001b[38;5;241m.\u001b[39mexp(b \u001b[38;5;241m*\u001b[39m \u001b[38;5;241m75\u001b[39m)\n",
      "\u001b[1;31mIndexError\u001b[0m: invalid index to scalar variable."
     ]
    }
   ],
   "source": [
    "import numpy as np\n",
    "import matplotlib.pyplot as plt\n",
    "\n",
    "def transform_stone(stone):\n",
    "    if stone == 0:\n",
    "        return [1]\n",
    "    elif len(str(stone)) % 2 == 0:\n",
    "        str_stone = str(stone)\n",
    "        half = len(str_stone) // 2\n",
    "        return [int(str_stone[:half]), int(str_stone[half:])]\n",
    "    else:\n",
    "        return [stone * 2024]\n",
    "\n",
    "def transform_stones(stones):\n",
    "    new_stones = []\n",
    "    for stone in stones:\n",
    "        new_stones.extend(transform_stone(stone))\n",
    "    return new_stones\n",
    "\n",
    "def main():\n",
    "    with open('input.txt', 'r') as file:\n",
    "        initial_stones = list(map(int, file.readline().strip().split()))\n",
    "    \n",
    "    stones = initial_stones\n",
    "    num_stones = [len(stones)]\n",
    "    \n",
    "    for i in range(20):  # Simulate the first 20 blinks\n",
    "        stones = transform_stones(stones)\n",
    "        num_stones.append(len(stones))\n",
    "    \n",
    "    # Print the number of stones after each blink for analysis\n",
    "    for i, num in enumerate(num_stones):\n",
    "        print(f\"After {i} blinks: {num} stones\")\n",
    "    \n",
    "    # Print the final number of stones after 20 blinks\n",
    "    print(f\"Final number of stones after 20 blinks: {num_stones[-1]}\")\n",
    "    \n",
    "    # Fit an exponential model to the data\n",
    "    x = np.arange(len(num_stones))\n",
    "    y = np.array(num_stones)\n",
    "    \n",
    "    popt, _ = np.polyfit(x, np.log(y), 1)\n",
    "    a, b = np.exp(popt[1]), popt[0]\n",
    "    \n",
    "    # Extrapolate the number of stones after 75 blinks\n",
    "    extrapolated_num_stones = a * np.exp(b * 75)\n",
    "    print(f\"Extrapolated number of stones after 75 blinks: {int(extrapolated_num_stones)}\")\n",
    "    \n",
    "    # Plot the number of stones over the number of blinks\n",
    "    plt.plot(range(21), num_stones, marker='o', label='Actual')\n",
    "    plt.plot(range(76), a * np.exp(b * np.arange(76)), label='Exponential Fit')\n",
    "    plt.xlabel('Number of Blinks')\n",
    "    plt.ylabel('Number of Stones')\n",
    "    plt.title('Growth of Stones Over Blinks')\n",
    "    plt.legend()\n",
    "    plt.grid(True)\n",
    "    plt.show()\n",
    "\n",
    "if __name__ == \"__main__\":\n",
    "    main()"
   ]
  }
 ],
 "metadata": {
  "kernelspec": {
   "display_name": "AdventOfCode",
   "language": "python",
   "name": "python3"
  },
  "language_info": {
   "codemirror_mode": {
    "name": "ipython",
    "version": 3
   },
   "file_extension": ".py",
   "mimetype": "text/x-python",
   "name": "python",
   "nbconvert_exporter": "python",
   "pygments_lexer": "ipython3",
   "version": "3.10.15"
  }
 },
 "nbformat": 4,
 "nbformat_minor": 2
}
