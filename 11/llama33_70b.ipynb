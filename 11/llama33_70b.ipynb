{
 "cells": [
  {
   "cell_type": "markdown",
   "metadata": {},
   "source": [
    "# Day 11 - Llama 3.3 70B"
   ]
  },
  {
   "cell_type": "code",
   "execution_count": 1,
   "metadata": {},
   "outputs": [
    {
     "name": "stdout",
     "output_type": "stream",
     "text": [
      "203609\n"
     ]
    }
   ],
   "source": [
    "def blink(stones):\n",
    "    \"\"\"\n",
    "    Apply the rules to the stones.\n",
    "\n",
    "    Args:\n",
    "    stones (list): A list of integers representing the stones.\n",
    "\n",
    "    Returns:\n",
    "    list: A list of integers representing the stones after applying the rules.\n",
    "    \"\"\"\n",
    "    new_stones = []\n",
    "    for stone in stones:\n",
    "        # If the stone is engraved with the number 0, it is replaced by a stone engraved with the number 1.\n",
    "        if stone == 0:\n",
    "            new_stones.append(1)\n",
    "        # If the stone is engraved with a number that has an even number of digits, \n",
    "        # it is replaced by two stones. The left half of the digits are engraved on the new left stone, \n",
    "        # and the right half of the digits are engraved on the new right stone.\n",
    "        elif len(str(stone)) % 2 == 0:\n",
    "            half = len(str(stone)) // 2\n",
    "            left_half = int(str(stone)[:half])\n",
    "            right_half = int(str(stone)[half:])\n",
    "            new_stones.append(left_half)\n",
    "            new_stones.append(right_half)\n",
    "        # If none of the other rules apply, the stone is replaced by a new stone; \n",
    "        # the old stone's number multiplied by 2024 is engraved on the new stone.\n",
    "        else:\n",
    "            new_stones.append(stone * 2024)\n",
    "    return new_stones\n",
    "\n",
    "\n",
    "def main():\n",
    "    # Read the input from the file\n",
    "    with open('input.txt', 'r') as f:\n",
    "        stones = [int(x) for x in f.read().split()]\n",
    "\n",
    "    # Apply the rules 25 times\n",
    "    for _ in range(25):\n",
    "        stones = blink(stones)\n",
    "\n",
    "    # Print the number of stones\n",
    "    print(len(stones))\n",
    "\n",
    "\n",
    "if __name__ == \"__main__\":\n",
    "    main()"
   ]
  },
  {
   "cell_type": "markdown",
   "metadata": {},
   "source": [
    "## Part 2"
   ]
  },
  {
   "cell_type": "code",
   "execution_count": 7,
   "metadata": {},
   "outputs": [
    {
     "name": "stdout",
     "output_type": "stream",
     "text": [
      "1071177\n"
     ]
    }
   ],
   "source": [
    "def blink(stones):\n",
    "    \"\"\"\n",
    "    Apply the rules to the stones.\n",
    "\n",
    "    Args:\n",
    "    stones (list): A list of integers representing the stones.\n",
    "\n",
    "    Returns:\n",
    "    list: A list of integers representing the stones after applying the rules.\n",
    "    \"\"\"\n",
    "    new_stones = []\n",
    "    for stone in stones:\n",
    "        # If the stone is engraved with the number 0, it is replaced by a stone engraved with the number 1.\n",
    "        if stone == 0:\n",
    "            new_stones.append(1)\n",
    "        # If the stone is engraved with a number that has an even number of digits, \n",
    "        # it is replaced by two stones. The left half of the digits are engraved on the new left stone, \n",
    "        # and the right half of the digits are engraved on the new right stone.\n",
    "        elif len(str(stone)) % 2 == 0:\n",
    "            half = len(str(stone)) // 2\n",
    "            left_half = int(str(stone)[:half])\n",
    "            right_half = int(str(stone)[half:])\n",
    "            new_stones.append(left_half)\n",
    "            new_stones.append(right_half)\n",
    "        # If none of the other rules apply, the stone is replaced by a new stone; \n",
    "        # the old stone's number multiplied by 2024 is engraved on the new stone.\n",
    "        else:\n",
    "            new_stones.append(stone * 2024)\n",
    "    return new_stones\n",
    "\n",
    "\n",
    "def main():\n",
    "    # Read the input from the file\n",
    "    with open('input.txt', 'r') as f:\n",
    "        stones = [int(x) for x in f.read().split()]\n",
    "\n",
    "    # Apply the rules 75 times\n",
    "    for _ in range(75):\n",
    "        stones = blink(stones)\n",
    "        if len(stones) > 10**6:  # stop if the number of stones exceeds 1 million\n",
    "            break\n",
    "\n",
    "    # Print the number of stones\n",
    "    print(len(stones))\n",
    "\n",
    "\n",
    "if __name__ == \"__main__\":\n",
    "    main()"
   ]
  }
 ],
 "metadata": {
  "kernelspec": {
   "display_name": "AdventOfCode",
   "language": "python",
   "name": "python3"
  },
  "language_info": {
   "codemirror_mode": {
    "name": "ipython",
    "version": 3
   },
   "file_extension": ".py",
   "mimetype": "text/x-python",
   "name": "python",
   "nbconvert_exporter": "python",
   "pygments_lexer": "ipython3",
   "version": "3.10.15"
  }
 },
 "nbformat": 4,
 "nbformat_minor": 2
}
