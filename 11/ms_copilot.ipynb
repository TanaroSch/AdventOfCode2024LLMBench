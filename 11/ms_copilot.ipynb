{
 "cells": [
  {
   "cell_type": "markdown",
   "metadata": {},
   "source": [
    "# Day 11 - MS Copilot"
   ]
  },
  {
   "cell_type": "code",
   "execution_count": 1,
   "metadata": {},
   "outputs": [
    {
     "name": "stdout",
     "output_type": "stream",
     "text": [
      "203609\n"
     ]
    }
   ],
   "source": [
    "def transform(stones):\n",
    "    new_stones = []\n",
    "    for stone in stones:\n",
    "        if stone == 0:\n",
    "            new_stones.append(1)\n",
    "        elif len(str(stone)) % 2 == 0:\n",
    "            half_len = len(str(stone)) // 2\n",
    "            left_half = int(str(stone)[:half_len])\n",
    "            right_half = int(str(stone)[half_len:])\n",
    "            new_stones.extend([left_half, right_half])\n",
    "        else:\n",
    "            new_stones.append(stone * 2024)\n",
    "    return new_stones\n",
    "\n",
    "# Read the input from the file\n",
    "with open('input.txt', 'r') as file:\n",
    "    initial_stones = list(map(int, file.read().strip().split()))\n",
    "\n",
    "# Apply the transformations for 25 blinks\n",
    "stones = initial_stones\n",
    "for _ in range(25):\n",
    "    stones = transform(stones)\n",
    "\n",
    "# Output the number of stones after 25 blinks\n",
    "print(len(stones))\n"
   ]
  },
  {
   "cell_type": "markdown",
   "metadata": {},
   "source": [
    "## Part 2"
   ]
  },
  {
   "cell_type": "code",
   "execution_count": 7,
   "metadata": {},
   "outputs": [
    {
     "name": "stdout",
     "output_type": "stream",
     "text": [
      "240954878211138\n"
     ]
    }
   ],
   "source": [
    "from collections import defaultdict\n",
    "\n",
    "def transform(stone_counts):\n",
    "    new_stone_counts = defaultdict(int)\n",
    "    for stone, count in stone_counts.items():\n",
    "        if stone == 0:\n",
    "            new_stone_counts[1] += count\n",
    "        elif len(str(stone)) % 2 == 0:\n",
    "            half_len = len(str(stone)) // 2\n",
    "            left_half = int(str(stone)[:half_len])\n",
    "            right_half = int(str(stone)[half_len:])\n",
    "            new_stone_counts[left_half] += count\n",
    "            new_stone_counts[right_half] += count\n",
    "        else:\n",
    "            new_stone_counts[stone * 2024] += count\n",
    "    return new_stone_counts\n",
    "\n",
    "# Read the input from the file\n",
    "with open('input.txt', 'r') as file:\n",
    "    initial_stones = list(map(int, file.read().strip().split()))\n",
    "\n",
    "# Initialize the stone count dictionary\n",
    "stone_counts = defaultdict(int)\n",
    "for stone in initial_stones:\n",
    "    stone_counts[stone] += 1\n",
    "\n",
    "# Apply the transformations for 75 blinks\n",
    "for _ in range(75):\n",
    "    stone_counts = transform(stone_counts)\n",
    "\n",
    "# Output the number of stones after 75 blinks\n",
    "total_stones = sum(stone_counts.values())\n",
    "print(total_stones)\n"
   ]
  }
 ],
 "metadata": {
  "kernelspec": {
   "display_name": "AdventOfCode",
   "language": "python",
   "name": "python3"
  },
  "language_info": {
   "codemirror_mode": {
    "name": "ipython",
    "version": 3
   },
   "file_extension": ".py",
   "mimetype": "text/x-python",
   "name": "python",
   "nbconvert_exporter": "python",
   "pygments_lexer": "ipython3",
   "version": "3.10.15"
  }
 },
 "nbformat": 4,
 "nbformat_minor": 2
}
