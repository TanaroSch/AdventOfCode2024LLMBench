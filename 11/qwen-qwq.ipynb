{
 "cells": [
  {
   "cell_type": "markdown",
   "metadata": {},
   "source": [
    "# Day 11 - Qwen QwQ 32B"
   ]
  },
  {
   "cell_type": "code",
   "execution_count": 1,
   "metadata": {},
   "outputs": [
    {
     "name": "stdout",
     "output_type": "stream",
     "text": [
      "203609\n"
     ]
    }
   ],
   "source": [
    "def main():\n",
    "    # Read the initial arrangement of stones from input.txt\n",
    "    with open(\"input.txt\", \"r\") as f:\n",
    "        stones = f.read().strip().split()\n",
    "    \n",
    "    # Function to perform one blink transformation\n",
    "    def blink(stones):\n",
    "        new_stones = []\n",
    "        for stone in stones:\n",
    "            if stone == \"0\":\n",
    "                new_stones.append(\"1\")\n",
    "            elif len(stone) % 2 == 0:\n",
    "                # Split the stone into two halves, remove leading zeros\n",
    "                left_half = stone[:len(stone)//2].lstrip('0') or '0'\n",
    "                right_half = stone[len(stone)//2:].lstrip('0') or '0'\n",
    "                new_stones.append(left_half)\n",
    "                new_stones.append(right_half)\n",
    "            else:\n",
    "                # Multiply the stone by 2024 and append the result\n",
    "                num = int(stone)\n",
    "                new_stone = str(num * 2024)\n",
    "                new_stones.append(new_stone)\n",
    "        return new_stones\n",
    "    \n",
    "    # Perform 25 blinks\n",
    "    for _ in range(25):\n",
    "        stones = blink(stones)\n",
    "    \n",
    "    # Print the total number of stones after 25 blinks\n",
    "    print(len(stones))\n",
    "\n",
    "main()"
   ]
  },
  {
   "cell_type": "markdown",
   "metadata": {},
   "source": [
    "## Part 2"
   ]
  },
  {
   "cell_type": "code",
   "execution_count": 9,
   "metadata": {},
   "outputs": [
    {
     "name": "stdout",
     "output_type": "stream",
     "text": [
      "118074980237273\n"
     ]
    }
   ],
   "source": [
    "def main():\n",
    "    with open(\"input.txt\", \"r\") as f:\n",
    "        stones = f.read().strip().split()\n",
    "    \n",
    "    def blink(stones):\n",
    "        new_stones = []\n",
    "        for stone in stones:\n",
    "            if stone == \"0\":\n",
    "                new_stones.append(\"1\")\n",
    "            elif len(stone) % 2 == 0:\n",
    "                left_half = stone[:len(stone)//2].lstrip('0') or '0'\n",
    "                right_half = stone[len(stone)//2:].lstrip('0') or '0'\n",
    "                new_stones.append(left_half)\n",
    "                new_stones.append(right_half)\n",
    "            else:\n",
    "                num = int(stone)\n",
    "                new_stone = str(num * 2024)\n",
    "                new_stones.append(new_stone)\n",
    "        return new_stones\n",
    "    \n",
    "    num_simulated_blinks = 20  \n",
    "    stone_counts = [len(stones)]\n",
    "    for _ in range(num_simulated_blinks):\n",
    "        stones = blink(stones)\n",
    "        stone_counts.append(len(stones))\n",
    "    \n",
    "    growth_factors = []\n",
    "    for i in range(1, len(stone_counts)):\n",
    "        if stone_counts[i-1] != 0:\n",
    "            growth_factor = stone_counts[i] / stone_counts[i-1]\n",
    "            growth_factors.append(growth_factor)\n",
    "    \n",
    "    if growth_factors:\n",
    "        avg_growth_factor = sum(growth_factors) / len(growth_factors)\n",
    "    else:\n",
    "        avg_growth_factor = 1.0  \n",
    "    \n",
    "    initial_stones = stone_counts[0]\n",
    "    stones_after_75_blinks = initial_stones * (avg_growth_factor ** 75)\n",
    "    \n",
    "    print(int(stones_after_75_blinks))\n",
    "\n",
    "if __name__ == \"__main__\":\n",
    "    main()"
   ]
  }
 ],
 "metadata": {
  "kernelspec": {
   "display_name": "AdventOfCode",
   "language": "python",
   "name": "python3"
  },
  "language_info": {
   "codemirror_mode": {
    "name": "ipython",
    "version": 3
   },
   "file_extension": ".py",
   "mimetype": "text/x-python",
   "name": "python",
   "nbconvert_exporter": "python",
   "pygments_lexer": "ipython3",
   "version": "3.10.15"
  }
 },
 "nbformat": 4,
 "nbformat_minor": 2
}
