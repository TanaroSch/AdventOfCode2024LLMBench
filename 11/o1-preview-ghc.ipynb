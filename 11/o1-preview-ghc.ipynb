{
 "cells": [
  {
   "cell_type": "markdown",
   "metadata": {},
   "source": [
    "# Day 11 - o1-preview (GHC)"
   ]
  },
  {
   "cell_type": "code",
   "execution_count": 4,
   "metadata": {},
   "outputs": [
    {
     "name": "stdout",
     "output_type": "stream",
     "text": [
      "203609\n"
     ]
    }
   ],
   "source": [
    "from functools import lru_cache\n",
    "\n",
    "@lru_cache(maxsize=None)\n",
    "def count_stones(n, t):\n",
    "    if t == 0:\n",
    "        return 1\n",
    "    if n == 0:\n",
    "        return count_stones(1, t - 1)\n",
    "    s = str(n)\n",
    "    if len(s) % 2 == 0:\n",
    "        mid = len(s) // 2\n",
    "        left = int(s[:mid].lstrip('0') or '0')\n",
    "        right = int(s[mid:].lstrip('0') or '0')\n",
    "        return count_stones(left, t - 1) + count_stones(right, t - 1)\n",
    "    else:\n",
    "        return count_stones(n * 2024, t - 1)\n",
    "\n",
    "with open('input.txt') as f:\n",
    "    data = f.read()\n",
    "initial_stones = [int(num) for num in data.split()]\n",
    "\n",
    "total_stones = sum(count_stones(n, 25) for n in initial_stones)\n",
    "print(total_stones)"
   ]
  },
  {
   "cell_type": "markdown",
   "metadata": {},
   "source": [
    "## Part 2"
   ]
  },
  {
   "cell_type": "code",
   "execution_count": 5,
   "metadata": {},
   "outputs": [
    {
     "name": "stdout",
     "output_type": "stream",
     "text": [
      "240954878211138\n"
     ]
    }
   ],
   "source": [
    "from collections import Counter\n",
    "\n",
    "with open('input.txt') as f:\n",
    "    data = f.read()\n",
    "initial_stones = [int(num) for num in data.split()]\n",
    "\n",
    "stones = Counter(initial_stones)\n",
    "\n",
    "for _ in range(75):\n",
    "    new_stones = Counter()\n",
    "    for n, count in stones.items():\n",
    "        if n == 0:\n",
    "            new_stones[1] += count\n",
    "        else:\n",
    "            s = str(n)\n",
    "            if len(s) % 2 == 0:\n",
    "                mid = len(s) // 2\n",
    "                left = int(s[:mid].lstrip('0') or '0')\n",
    "                right = int(s[mid:].lstrip('0') or '0')\n",
    "                new_stones[left] += count\n",
    "                new_stones[right] += count\n",
    "            else:\n",
    "                new_n = n * 2024\n",
    "                new_stones[new_n] += count\n",
    "    stones = new_stones\n",
    "\n",
    "total_stones = sum(stones.values())\n",
    "print(total_stones)"
   ]
  }
 ],
 "metadata": {
  "kernelspec": {
   "display_name": "AdventOfCode",
   "language": "python",
   "name": "python3"
  },
  "language_info": {
   "codemirror_mode": {
    "name": "ipython",
    "version": 3
   },
   "file_extension": ".py",
   "mimetype": "text/x-python",
   "name": "python",
   "nbconvert_exporter": "python",
   "pygments_lexer": "ipython3",
   "version": "3.10.15"
  }
 },
 "nbformat": 4,
 "nbformat_minor": 2
}
