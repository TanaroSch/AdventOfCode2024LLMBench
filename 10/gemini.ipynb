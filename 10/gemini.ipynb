{
 "cells": [
  {
   "cell_type": "markdown",
   "metadata": {},
   "source": [
    "# Day 10 - Gemini"
   ]
  },
  {
   "cell_type": "code",
   "execution_count": 2,
   "metadata": {},
   "outputs": [
    {
     "name": "stdout",
     "output_type": "stream",
     "text": [
      "501\n"
     ]
    }
   ],
   "source": [
    "def solve():\n",
    "    with open(\"input.txt\", \"r\") as f:\n",
    "        grid = [[int(c) for c in line.strip()] for line in f]\n",
    "\n",
    "    rows = len(grid)\n",
    "    cols = len(grid[0])\n",
    "    trailheads = []\n",
    "    for r in range(rows):\n",
    "        for c in range(cols):\n",
    "            if grid[r][c] == 0:\n",
    "                trailheads.append((r, c))\n",
    "\n",
    "    def find_paths(start_r, start_c):\n",
    "        reachable_nines = set()\n",
    "        \n",
    "        def dfs(r, c, current_height):\n",
    "            if grid[r][c] == 9:\n",
    "                reachable_nines.add((r, c))\n",
    "                return\n",
    "\n",
    "            if grid[r][c] != current_height:\n",
    "                return\n",
    "            \n",
    "            neighbors = [(r - 1, c), (r + 1, c), (r, c - 1), (r, c + 1)]\n",
    "            for nr, nc in neighbors:\n",
    "                if 0 <= nr < rows and 0 <= nc < cols and grid[nr][nc] == current_height + 1:\n",
    "                    dfs(nr, nc, current_height + 1)\n",
    "\n",
    "        dfs(start_r, start_c, 0)\n",
    "        return len(reachable_nines)\n",
    "\n",
    "    total_score = 0\n",
    "    for r, c in trailheads:\n",
    "        total_score += find_paths(r, c)\n",
    "\n",
    "    print(total_score)\n",
    "\n",
    "solve()"
   ]
  },
  {
   "cell_type": "markdown",
   "metadata": {},
   "source": [
    "## Part 2"
   ]
  },
  {
   "cell_type": "code",
   "execution_count": 4,
   "metadata": {},
   "outputs": [
    {
     "name": "stdout",
     "output_type": "stream",
     "text": [
      "1017\n"
     ]
    }
   ],
   "source": [
    "def solve():\n",
    "    with open(\"input.txt\", \"r\") as f:\n",
    "        grid = [[int(c) for c in line.strip()] for line in f]\n",
    "\n",
    "    rows = len(grid)\n",
    "    cols = len(grid[0])\n",
    "    trailheads = []\n",
    "    for r in range(rows):\n",
    "        for c in range(cols):\n",
    "            if grid[r][c] == 0:\n",
    "                trailheads.append((r, c))\n",
    "\n",
    "    def find_paths(start_r, start_c):\n",
    "        paths = set()\n",
    "\n",
    "        def dfs(r, c, current_height, path_str):\n",
    "            if grid[r][c] == 9:\n",
    "                paths.add(path_str)\n",
    "                return\n",
    "\n",
    "            if grid[r][c] != current_height:\n",
    "                return\n",
    "\n",
    "            neighbors = [(r - 1, c, 'u'), (r + 1, c, 'd'), (r, c - 1, 'l'), (r, c + 1, 'r')]\n",
    "            for nr, nc, direction in neighbors:\n",
    "                if 0 <= nr < rows and 0 <= nc < cols and grid[nr][nc] == current_height + 1:\n",
    "                    dfs(nr, nc, current_height + 1, path_str + direction)\n",
    "\n",
    "        dfs(start_r, start_c, 0, \"\")\n",
    "        return len(paths)\n",
    "\n",
    "    total_rating = 0\n",
    "    for r, c in trailheads:\n",
    "        total_rating += find_paths(r, c)\n",
    "\n",
    "    print(total_rating)\n",
    "\n",
    "solve()"
   ]
  }
 ],
 "metadata": {
  "kernelspec": {
   "display_name": "Python 3",
   "language": "python",
   "name": "python3"
  },
  "language_info": {
   "codemirror_mode": {
    "name": "ipython",
    "version": 3
   },
   "file_extension": ".py",
   "mimetype": "text/x-python",
   "name": "python",
   "nbconvert_exporter": "python",
   "pygments_lexer": "ipython3",
   "version": "3.11.6"
  }
 },
 "nbformat": 4,
 "nbformat_minor": 2
}
