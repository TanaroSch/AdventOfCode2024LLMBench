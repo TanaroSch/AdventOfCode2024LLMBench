{
 "cells": [
  {
   "cell_type": "markdown",
   "metadata": {},
   "source": [
    "# Day 10 - o1-mini (GHC)"
   ]
  },
  {
   "cell_type": "code",
   "execution_count": 1,
   "metadata": {},
   "outputs": [
    {
     "name": "stdout",
     "output_type": "stream",
     "text": [
      "501\n"
     ]
    }
   ],
   "source": [
    "# Python\n",
    "\n",
    "from collections import deque\n",
    "\n",
    "def read_grid(filename):\n",
    "    with open(filename, 'r') as f:\n",
    "        grid = [list(map(int, line.strip())) for line in f]\n",
    "    return grid\n",
    "\n",
    "def find_trailheads(grid):\n",
    "    trailheads = []\n",
    "    for i, row in enumerate(grid):\n",
    "        for j, val in enumerate(row):\n",
    "            if val == 0:\n",
    "                trailheads.append((i, j))\n",
    "    return trailheads\n",
    "\n",
    "def find_height_nines(grid):\n",
    "    nines = set()\n",
    "    for i, row in enumerate(grid):\n",
    "        for j, val in enumerate(row):\n",
    "            if val == 9:\n",
    "                nines.add((i, j))\n",
    "    return nines\n",
    "\n",
    "def reachable_nines(grid, start, nines):\n",
    "    rows, cols = len(grid), len(grid[0])\n",
    "    queue = deque()\n",
    "    queue.append((start[0], start[1], grid[start[0]][start[1]]))\n",
    "    visited = set()\n",
    "    visited.add((start[0], start[1]))\n",
    "    reachable = set()\n",
    "    \n",
    "    while queue:\n",
    "        x, y, h = queue.popleft()\n",
    "        if h == 9 and (x, y) in nines:\n",
    "            reachable.add((x, y))\n",
    "            continue\n",
    "        for dx, dy in [(-1,0),(1,0),(0,-1),(0,1)]:\n",
    "            nx, ny = x + dx, y + dy\n",
    "            if 0 <= nx < rows and 0 <= ny < cols:\n",
    "                if grid[nx][ny] == h + 1 and (nx, ny) not in visited:\n",
    "                    visited.add((nx, ny))\n",
    "                    queue.append((nx, ny, grid[nx][ny]))\n",
    "    return len(reachable)\n",
    "\n",
    "def main():\n",
    "    grid = read_grid('input.txt')\n",
    "    trailheads = find_trailheads(grid)\n",
    "    nines = find_height_nines(grid)\n",
    "    total = 0\n",
    "    for th in trailheads:\n",
    "        total += reachable_nines(grid, th, nines)\n",
    "    print(total)\n",
    "\n",
    "if __name__ == \"__main__\":\n",
    "    main()"
   ]
  },
  {
   "cell_type": "markdown",
   "metadata": {},
   "source": [
    "## Part 2"
   ]
  },
  {
   "cell_type": "code",
   "execution_count": 2,
   "metadata": {},
   "outputs": [
    {
     "name": "stdout",
     "output_type": "stream",
     "text": [
      "1017\n"
     ]
    }
   ],
   "source": [
    "# Python\n",
    "\n",
    "from collections import defaultdict\n",
    "\n",
    "def read_grid(filename):\n",
    "    with open(filename, 'r') as f:\n",
    "        grid = [list(map(int, line.strip())) for line in f]\n",
    "    return grid\n",
    "\n",
    "def find_trailheads(grid):\n",
    "    trailheads = []\n",
    "    for i, row in enumerate(grid):\n",
    "        for j, val in enumerate(row):\n",
    "            if val == 0:\n",
    "                trailheads.append((i, j))\n",
    "    return trailheads\n",
    "\n",
    "def find_height_nines(grid):\n",
    "    nines = set()\n",
    "    for i, row in enumerate(grid):\n",
    "        for j, val in enumerate(row):\n",
    "            if val == 9:\n",
    "                nines.add((i, j))\n",
    "    return nines\n",
    "\n",
    "def count_trails(grid):\n",
    "    rows, cols = len(grid), len(grid[0])\n",
    "    memo = {}\n",
    "\n",
    "    def dfs(x, y):\n",
    "        if grid[x][y] == 9:\n",
    "            return 1\n",
    "        if (x, y) in memo:\n",
    "            return memo[(x, y)]\n",
    "        total = 0\n",
    "        for dx, dy in [(-1,0),(1,0),(0,-1),(0,1)]:\n",
    "            nx, ny = x + dx, y + dy\n",
    "            if 0 <= nx < rows and 0 <= ny < cols:\n",
    "                if grid[nx][ny] == grid[x][y] + 1:\n",
    "                    total += dfs(nx, ny)\n",
    "        memo[(x, y)] = total\n",
    "        return total\n",
    "\n",
    "    return dfs\n",
    "\n",
    "def main():\n",
    "    grid = read_grid('input.txt')\n",
    "    trailheads = find_trailheads(grid)\n",
    "    dfs = count_trails(grid)\n",
    "    total_rating = 0\n",
    "    for th in trailheads:\n",
    "        total_rating += dfs(th[0], th[1])\n",
    "    print(total_rating)\n",
    "\n",
    "if __name__ == \"__main__\":\n",
    "    main()"
   ]
  }
 ],
 "metadata": {
  "kernelspec": {
   "display_name": "Python 3",
   "language": "python",
   "name": "python3"
  },
  "language_info": {
   "codemirror_mode": {
    "name": "ipython",
    "version": 3
   },
   "file_extension": ".py",
   "mimetype": "text/x-python",
   "name": "python",
   "nbconvert_exporter": "python",
   "pygments_lexer": "ipython3",
   "version": "3.11.6"
  }
 },
 "nbformat": 4,
 "nbformat_minor": 2
}
