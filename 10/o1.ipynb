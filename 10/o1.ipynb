{
 "cells": [
  {
   "cell_type": "markdown",
   "metadata": {},
   "source": [
    "# Day 10 - o1"
   ]
  },
  {
   "cell_type": "code",
   "execution_count": 1,
   "metadata": {},
   "outputs": [
    {
     "name": "stdout",
     "output_type": "stream",
     "text": [
      "501\n"
     ]
    }
   ],
   "source": [
    "def neighbors(r, c, rows, cols):\n",
    "    for nr, nc in [(r-1,c),(r+1,c),(r,c-1),(r,c+1)]:\n",
    "        if 0 <= nr < rows and 0 <= nc < cols:\n",
    "            yield nr, nc\n",
    "\n",
    "def dfs(r, c, grid, memo):\n",
    "    # If already in memo, return stored result\n",
    "    if (r, c) in memo:\n",
    "        return memo[(r, c)]\n",
    "    \n",
    "    current_height = grid[r][c]\n",
    "    # If this cell is height 9, it's a terminal point\n",
    "    if current_height == 9:\n",
    "        memo[(r, c)] = {(r, c)}\n",
    "        return memo[(r, c)]\n",
    "    \n",
    "    result = set()\n",
    "    # Explore neighbors that are exactly current_height + 1\n",
    "    for nr, nc in neighbors(r, c, len(grid), len(grid[0])):\n",
    "        if grid[nr][nc] == current_height + 1:\n",
    "            result = result.union(dfs(nr, nc, grid, memo))\n",
    "    \n",
    "    memo[(r, c)] = result\n",
    "    return result\n",
    "\n",
    "def main():\n",
    "    # Read the input grid\n",
    "    with open('input.txt', 'r') as f:\n",
    "        lines = [line.strip() for line in f if line.strip()]\n",
    "    grid = [list(map(int, list(line))) for line in lines]\n",
    "    \n",
    "    # Memoization dictionary: maps (r,c) -> set of reachable (9)-cells\n",
    "    memo = {}\n",
    "    \n",
    "    rows = len(grid)\n",
    "    cols = len(grid[0]) if rows > 0 else 0\n",
    "    \n",
    "    total_score = 0\n",
    "    \n",
    "    # Find all trailheads (height 0)\n",
    "    for r in range(rows):\n",
    "        for c in range(cols):\n",
    "            if grid[r][c] == 0:\n",
    "                # Compute reachable 9-cells from this trailhead\n",
    "                reachable_nines = dfs(r, c, grid, memo)\n",
    "                total_score += len(reachable_nines)\n",
    "    \n",
    "    print(total_score)\n",
    "\n",
    "if __name__ == \"__main__\":\n",
    "    main()\n"
   ]
  },
  {
   "cell_type": "markdown",
   "metadata": {},
   "source": [
    "## Part 2"
   ]
  },
  {
   "cell_type": "code",
   "execution_count": 2,
   "metadata": {},
   "outputs": [
    {
     "name": "stdout",
     "output_type": "stream",
     "text": [
      "1017\n"
     ]
    }
   ],
   "source": [
    "def neighbors(r, c, rows, cols):\n",
    "    for nr, nc in [(r-1,c),(r+1,c),(r,c-1),(r,c+1)]:\n",
    "        if 0 <= nr < rows and 0 <= nc < cols:\n",
    "            yield nr, nc\n",
    "\n",
    "def count_paths(r, c, grid, dp):\n",
    "    # If dp is already calculated, return it\n",
    "    if dp[r][c] is not None:\n",
    "        return dp[r][c]\n",
    "    \n",
    "    current_height = grid[r][c]\n",
    "    # If this cell is height 9, exactly one trail ends here\n",
    "    if current_height == 9:\n",
    "        dp[r][c] = 1\n",
    "        return 1\n",
    "    \n",
    "    # Sum the paths from all neighbors that are current_height + 1\n",
    "    total_paths = 0\n",
    "    for nr, nc in neighbors(r, c, len(grid), len(grid[0])):\n",
    "        if grid[nr][nc] == current_height + 1:\n",
    "            total_paths += count_paths(nr, nc, grid, dp)\n",
    "    \n",
    "    dp[r][c] = total_paths\n",
    "    return total_paths\n",
    "\n",
    "def main():\n",
    "    # Read the input grid\n",
    "    with open('input.txt', 'r') as f:\n",
    "        lines = [line.strip() for line in f if line.strip()]\n",
    "    grid = [list(map(int, list(line))) for line in lines]\n",
    "    \n",
    "    rows = len(grid)\n",
    "    cols = len(grid[0]) if rows > 0 else 0\n",
    "    \n",
    "    # dp[r][c] = number of distinct paths from (r,c) to a cell of height 9\n",
    "    dp = [[None for _ in range(cols)] for _ in range(rows)]\n",
    "    \n",
    "    total_rating = 0\n",
    "    \n",
    "    # Find all trailheads (height 0) and accumulate their rating\n",
    "    for r in range(rows):\n",
    "        for c in range(cols):\n",
    "            if grid[r][c] == 0:\n",
    "                total_rating += count_paths(r, c, grid, dp)\n",
    "    \n",
    "    print(total_rating)\n",
    "\n",
    "if __name__ == \"__main__\":\n",
    "    main()\n"
   ]
  }
 ],
 "metadata": {
  "kernelspec": {
   "display_name": "AdventOfCode",
   "language": "python",
   "name": "python3"
  },
  "language_info": {
   "codemirror_mode": {
    "name": "ipython",
    "version": 3
   },
   "file_extension": ".py",
   "mimetype": "text/x-python",
   "name": "python",
   "nbconvert_exporter": "python",
   "pygments_lexer": "ipython3",
   "version": "3.10.15"
  }
 },
 "nbformat": 4,
 "nbformat_minor": 2
}
