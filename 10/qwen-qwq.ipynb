{
 "cells": [
  {
   "cell_type": "markdown",
   "metadata": {},
   "source": [
    "# Day 10 - Qwen QwQ 32B"
   ]
  },
  {
   "cell_type": "code",
   "execution_count": 1,
   "metadata": {},
   "outputs": [
    {
     "name": "stdout",
     "output_type": "stream",
     "text": [
      "501\n"
     ]
    }
   ],
   "source": [
    "from collections import deque\n",
    "\n",
    "def main():\n",
    "    with open('input.txt', 'r') as f:\n",
    "        grid = [list(map(int, line.strip())) for line in f.readlines()]\n",
    "\n",
    "    rows = len(grid)\n",
    "    cols = len(grid[0]) if rows > 0 else 0\n",
    "    total_score = 0\n",
    "    directions = [(-1, 0), (1, 0), (0, -1), (0, 1)]  # up, down, left, right\n",
    "\n",
    "    def bfs(start_row, start_col):\n",
    "        visited = [[False] * cols for _ in range(rows)]\n",
    "        queue = deque()\n",
    "        queue.append((start_row, start_col))\n",
    "        visited[start_row][start_col] = True\n",
    "        count = 0\n",
    "\n",
    "        while queue:\n",
    "            row, col = queue.popleft()\n",
    "            current_height = grid[row][col]\n",
    "            if current_height == 9:\n",
    "                count += 1\n",
    "            for dr, dc in directions:\n",
    "                nr, nc = row + dr, col + dc\n",
    "                if 0 <= nr < rows and 0 <= nc < cols and not visited[nr][nc]:\n",
    "                    next_height = grid[nr][nc]\n",
    "                    if next_height == current_height + 1:\n",
    "                        visited[nr][nc] = True\n",
    "                        queue.append((nr, nc))\n",
    "        return count\n",
    "\n",
    "    for r in range(rows):\n",
    "        for c in range(cols):\n",
    "            if grid[r][c] == 0:\n",
    "                total_score += bfs(r, c)\n",
    "\n",
    "    print(total_score)\n",
    "\n",
    "if __name__ == \"__main__\":\n",
    "    main()"
   ]
  },
  {
   "cell_type": "markdown",
   "metadata": {},
   "source": [
    "## Part 2"
   ]
  },
  {
   "cell_type": "code",
   "execution_count": 3,
   "metadata": {},
   "outputs": [
    {
     "name": "stdout",
     "output_type": "stream",
     "text": [
      "1017\n"
     ]
    }
   ],
   "source": [
    "from collections import deque\n",
    "\n",
    "def main():\n",
    "    with open('input.txt', 'r') as f:\n",
    "        grid = [list(map(int, line.strip())) for line in f.readlines()]\n",
    "\n",
    "    rows = len(grid)\n",
    "    cols = len(grid[0]) if rows > 0 else 0\n",
    "    total_rating = 0\n",
    "    directions = [(-1, 0), (1, 0), (0, -1), (0, 1)]  # up, down, left, right\n",
    "\n",
    "    def bfs(start_row, start_col):\n",
    "        dp = [[0] * cols for _ in range(rows)]\n",
    "        dp[start_row][start_col] = 1\n",
    "        queue = deque()\n",
    "        queue.append((start_row, start_col))\n",
    "\n",
    "        while queue:\n",
    "            row, col = queue.popleft()\n",
    "            current_height = grid[row][col]\n",
    "            for dr, dc in directions:\n",
    "                nr, nc = row + dr, col + dc\n",
    "                if 0 <= nr < rows and 0 <= nc < cols:\n",
    "                    next_height = grid[nr][nc]\n",
    "                    if next_height == current_height + 1:\n",
    "                        dp[nr][nc] += dp[row][col]\n",
    "                        if dp[nr][nc] == dp[row][col]:  # Avoid re-queueing\n",
    "                            queue.append((nr, nc))\n",
    "        # Sum the number of ways to reach each 9\n",
    "        return sum(dp[r][c] for r in range(rows) for c in range(cols) if grid[r][c] == 9)\n",
    "\n",
    "    for r in range(rows):\n",
    "        for c in range(cols):\n",
    "            if grid[r][c] == 0:\n",
    "                total_rating += bfs(r, c)\n",
    "\n",
    "    print(total_rating)\n",
    "\n",
    "if __name__ == \"__main__\":\n",
    "    main()"
   ]
  }
 ],
 "metadata": {
  "kernelspec": {
   "display_name": "Python 3",
   "language": "python",
   "name": "python3"
  },
  "language_info": {
   "codemirror_mode": {
    "name": "ipython",
    "version": 3
   },
   "file_extension": ".py",
   "mimetype": "text/x-python",
   "name": "python",
   "nbconvert_exporter": "python",
   "pygments_lexer": "ipython3",
   "version": "3.11.6"
  }
 },
 "nbformat": 4,
 "nbformat_minor": 2
}
