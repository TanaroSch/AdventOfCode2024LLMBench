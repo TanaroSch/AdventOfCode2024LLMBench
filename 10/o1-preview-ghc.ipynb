{
 "cells": [
  {
   "cell_type": "markdown",
   "metadata": {},
   "source": [
    "# Day 10 - o1-preview (GHC)"
   ]
  },
  {
   "cell_type": "code",
   "execution_count": 1,
   "metadata": {},
   "outputs": [
    {
     "name": "stdout",
     "output_type": "stream",
     "text": [
      "501\n"
     ]
    }
   ],
   "source": [
    "def read_input():\n",
    "    with open('input.txt') as f:\n",
    "        grid = [list(map(int, line.strip())) for line in f]\n",
    "    return grid\n",
    "\n",
    "def find_trailheads(grid):\n",
    "    trailheads = []\n",
    "    for i in range(len(grid)):\n",
    "        for j in range(len(grid[0])):\n",
    "            if grid[i][j] == 0:\n",
    "                trailheads.append((i, j))\n",
    "    return trailheads\n",
    "\n",
    "def dfs(grid, start):\n",
    "    stack = [(start[0], start[1])]\n",
    "    visited = set()\n",
    "    reachable_nines = set()\n",
    "    while stack:\n",
    "        i, j = stack.pop()\n",
    "        height = grid[i][j]\n",
    "        if (i, j) in visited:\n",
    "            continue\n",
    "        visited.add((i, j))\n",
    "        if height == 9:\n",
    "            reachable_nines.add((i, j))\n",
    "            continue\n",
    "        for di, dj in [(-1,0), (1,0), (0,-1), (0,1)]:\n",
    "            ni, nj = i + di, j + dj\n",
    "            if 0 <= ni < len(grid) and 0 <= nj < len(grid[0]):\n",
    "                if grid[ni][nj] == height + 1:\n",
    "                    stack.append((ni, nj))\n",
    "    return len(reachable_nines)\n",
    "\n",
    "def main():\n",
    "    grid = read_input()\n",
    "    trailheads = find_trailheads(grid)\n",
    "    total_score = sum(dfs(grid, start) for start in trailheads)\n",
    "    print(total_score)\n",
    "\n",
    "if __name__ == \"__main__\":\n",
    "    main()"
   ]
  },
  {
   "cell_type": "markdown",
   "metadata": {},
   "source": [
    "## Part 2"
   ]
  },
  {
   "cell_type": "code",
   "execution_count": 3,
   "metadata": {},
   "outputs": [
    {
     "name": "stdout",
     "output_type": "stream",
     "text": [
      "1017\n"
     ]
    }
   ],
   "source": [
    "def read_input():\n",
    "    with open('input.txt') as f:\n",
    "        grid = [list(map(int, line.strip())) for line in f]\n",
    "    return grid\n",
    "\n",
    "def find_trailheads(grid):\n",
    "    trailheads = []\n",
    "    for i in range(len(grid)):\n",
    "        for j in range(len(grid[0])):\n",
    "            if grid[i][j] == 0:\n",
    "                trailheads.append((i, j))\n",
    "    return trailheads\n",
    "\n",
    "def count_paths(grid):\n",
    "    rows, cols = len(grid), len(grid[0])\n",
    "    memo = [[-1 for _ in range(cols)] for _ in range(rows)]\n",
    "\n",
    "    def dfs(i, j):\n",
    "        if memo[i][j] != -1:\n",
    "            return memo[i][j]\n",
    "        if grid[i][j] == 9:\n",
    "            memo[i][j] = 1\n",
    "            return 1\n",
    "        total_paths = 0\n",
    "        for di, dj in [(-1,0), (1,0), (0,-1), (0,1)]:\n",
    "            ni, nj = i + di, j + dj\n",
    "            if 0 <= ni < rows and 0 <= nj < cols:\n",
    "                if grid[ni][nj] == grid[i][j] + 1:\n",
    "                    total_paths += dfs(ni, nj)\n",
    "        memo[i][j] = total_paths\n",
    "        return total_paths\n",
    "\n",
    "    return memo, dfs\n",
    "\n",
    "def main():\n",
    "    grid = read_input()\n",
    "    trailheads = find_trailheads(grid)\n",
    "    memo, dfs = count_paths(grid)\n",
    "    total_rating = sum(dfs(i, j) for i, j in trailheads)\n",
    "    print(total_rating)\n",
    "\n",
    "if __name__ == \"__main__\":\n",
    "    main()"
   ]
  }
 ],
 "metadata": {
  "kernelspec": {
   "display_name": "Python 3",
   "language": "python",
   "name": "python3"
  },
  "language_info": {
   "codemirror_mode": {
    "name": "ipython",
    "version": 3
   },
   "file_extension": ".py",
   "mimetype": "text/x-python",
   "name": "python",
   "nbconvert_exporter": "python",
   "pygments_lexer": "ipython3",
   "version": "3.11.6"
  }
 },
 "nbformat": 4,
 "nbformat_minor": 2
}
