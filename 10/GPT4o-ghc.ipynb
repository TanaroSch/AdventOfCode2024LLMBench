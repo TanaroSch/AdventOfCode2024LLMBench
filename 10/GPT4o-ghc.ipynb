{
 "cells": [
  {
   "cell_type": "markdown",
   "metadata": {},
   "source": [
    "# Day 10 - GPT 4o (GHC)"
   ]
  },
  {
   "cell_type": "code",
   "execution_count": 1,
   "metadata": {},
   "outputs": [
    {
     "name": "stdout",
     "output_type": "stream",
     "text": [
      "501\n"
     ]
    }
   ],
   "source": [
    "from collections import deque\n",
    "\n",
    "def read_map(filename):\n",
    "    with open(filename, 'r') as file:\n",
    "        return [list(map(int, line.strip())) for line in file]\n",
    "\n",
    "def find_trailheads(map_data):\n",
    "    trailheads = []\n",
    "    for r in range(len(map_data)):\n",
    "        for c in range(len(map_data[0])):\n",
    "            if map_data[r][c] == 0:\n",
    "                trailheads.append((r, c))\n",
    "    return trailheads\n",
    "\n",
    "def bfs(map_data, start):\n",
    "    rows, cols = len(map_data), len(map_data[0])\n",
    "    queue = deque([start])\n",
    "    visited = set([start])\n",
    "    score = 0\n",
    "\n",
    "    while queue:\n",
    "        r, c = queue.popleft()\n",
    "        if map_data[r][c] == 9:\n",
    "            score += 1\n",
    "\n",
    "        for dr, dc in [(-1, 0), (1, 0), (0, -1), (0, 1)]:\n",
    "            nr, nc = r + dr, c + dc\n",
    "            if 0 <= nr < rows and 0 <= nc < cols and (nr, nc) not in visited:\n",
    "                if map_data[nr][nc] == map_data[r][c] + 1:\n",
    "                    queue.append((nr, nc))\n",
    "                    visited.add((nr, nc))\n",
    "\n",
    "    return score\n",
    "\n",
    "def calculate_total_score(map_data):\n",
    "    trailheads = find_trailheads(map_data)\n",
    "    total_score = 0\n",
    "    for trailhead in trailheads:\n",
    "        total_score += bfs(map_data, trailhead)\n",
    "    return total_score\n",
    "\n",
    "if __name__ == \"__main__\":\n",
    "    map_data = read_map(\"input.txt\")\n",
    "    total_score = calculate_total_score(map_data)\n",
    "    print(total_score)"
   ]
  },
  {
   "cell_type": "markdown",
   "metadata": {},
   "source": [
    "## Part 2"
   ]
  },
  {
   "cell_type": "code",
   "execution_count": 2,
   "metadata": {},
   "outputs": [
    {
     "name": "stdout",
     "output_type": "stream",
     "text": [
      "1017\n"
     ]
    }
   ],
   "source": [
    "def read_map(filename):\n",
    "    with open(filename, 'r') as file:\n",
    "        return [list(map(int, line.strip())) for line in file]\n",
    "\n",
    "def find_trailheads(map_data):\n",
    "    trailheads = []\n",
    "    for r in range(len(map_data)):\n",
    "        for c in range(len(map_data[0])):\n",
    "            if map_data[r][c] == 0:\n",
    "                trailheads.append((r, c))\n",
    "    return trailheads\n",
    "\n",
    "def dfs(map_data, r, c, visited):\n",
    "    rows, cols = len(map_data), len(map_data[0])\n",
    "    if map_data[r][c] == 9:\n",
    "        return 1\n",
    "\n",
    "    visited.add((r, c))\n",
    "    count = 0\n",
    "\n",
    "    for dr, dc in [(-1, 0), (1, 0), (0, -1), (0, 1)]:\n",
    "        nr, nc = r + dr, c + dc\n",
    "        if 0 <= nr < rows and 0 <= nc < cols and (nr, nc) not in visited:\n",
    "            if map_data[nr][nc] == map_data[r][c] + 1:\n",
    "                count += dfs(map_data, nr, nc, visited)\n",
    "\n",
    "    visited.remove((r, c))\n",
    "    return count\n",
    "\n",
    "def calculate_total_rating(map_data):\n",
    "    trailheads = find_trailheads(map_data)\n",
    "    total_rating = 0\n",
    "    for trailhead in trailheads:\n",
    "        total_rating += dfs(map_data, trailhead[0], trailhead[1], set())\n",
    "    return total_rating\n",
    "\n",
    "if __name__ == \"__main__\":\n",
    "    map_data = read_map(\"input.txt\")\n",
    "    total_rating = calculate_total_rating(map_data)\n",
    "    print(total_rating)"
   ]
  }
 ],
 "metadata": {
  "kernelspec": {
   "display_name": "Python 3",
   "language": "python",
   "name": "python3"
  },
  "language_info": {
   "codemirror_mode": {
    "name": "ipython",
    "version": 3
   },
   "file_extension": ".py",
   "mimetype": "text/x-python",
   "name": "python",
   "nbconvert_exporter": "python",
   "pygments_lexer": "ipython3",
   "version": "3.11.6"
  }
 },
 "nbformat": 4,
 "nbformat_minor": 2
}
