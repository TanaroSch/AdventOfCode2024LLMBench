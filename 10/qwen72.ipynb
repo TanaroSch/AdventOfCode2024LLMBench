{
 "cells": [
  {
   "cell_type": "markdown",
   "metadata": {},
   "source": [
    "# Day 10 - Qwen2.5 72b"
   ]
  },
  {
   "cell_type": "code",
   "execution_count": 1,
   "metadata": {},
   "outputs": [
    {
     "name": "stdout",
     "output_type": "stream",
     "text": [
      "501\n"
     ]
    }
   ],
   "source": [
    "def read_map(filename):\n",
    "    with open(filename, 'r') as file:\n",
    "        return [list(map(int, line.strip())) for line in file]\n",
    "\n",
    "def is_valid(x, y, n, m):\n",
    "    return 0 <= x < n and 0 <= y < m\n",
    "\n",
    "def dfs(map, x, y, visited, target_height):\n",
    "    n, m = len(map), len(map[0])\n",
    "    stack = [(x, y)]\n",
    "    visited[x][y] = True\n",
    "    reachable_nines = 0\n",
    "\n",
    "    while stack:\n",
    "        x, y = stack.pop()\n",
    "        if map[x][y] == target_height:\n",
    "            reachable_nines += 1\n",
    "        for dx, dy in [(-1, 0), (1, 0), (0, -1), (0, 1)]:\n",
    "            nx, ny = x + dx, y + dy\n",
    "            if is_valid(nx, ny, n, m) and not visited[nx][ny] and map[nx][ny] == map[x][y] + 1:\n",
    "                visited[nx][ny] = True\n",
    "                stack.append((nx, ny))\n",
    "    return reachable_nines\n",
    "\n",
    "def calculate_scores(map):\n",
    "    n, m = len(map), len(map[0])\n",
    "    trailheads = [(x, y) for x in range(n) for y in range(m) if map[x][y] == 0]\n",
    "    scores = []\n",
    "\n",
    "    for x, y in trailheads:\n",
    "        visited = [[False] * m for _ in range(n)]\n",
    "        score = dfs(map, x, y, visited, 9)\n",
    "        scores.append(score)\n",
    "\n",
    "    return sum(scores)\n",
    "\n",
    "# Read the topographic map from the input file\n",
    "map = read_map('input.txt')\n",
    "\n",
    "# Calculate the sum of the scores of all trailheads\n",
    "total_score = calculate_scores(map)\n",
    "\n",
    "# Print the result\n",
    "print(total_score)"
   ]
  },
  {
   "cell_type": "markdown",
   "metadata": {},
   "source": [
    "## Part 2"
   ]
  },
  {
   "cell_type": "code",
   "execution_count": 6,
   "metadata": {},
   "outputs": [
    {
     "name": "stdout",
     "output_type": "stream",
     "text": [
      "1017\n"
     ]
    }
   ],
   "source": [
    "def read_map(filename):\n",
    "    with open(filename, 'r') as file:\n",
    "        return [[int(char) for char in line.strip()] for line in file]\n",
    "\n",
    "def is_valid(x, y, n, m):\n",
    "    return 0 <= x < n and 0 <= y < m\n",
    "\n",
    "def dfs(topo_map, x, y, visited, path, target_height, trails):\n",
    "    n, m = len(topo_map), len(topo_map[0])\n",
    "    if topo_map[x][y] == target_height:\n",
    "        trails.add(tuple(path))\n",
    "        return\n",
    "    for dx, dy in [(-1, 0), (1, 0), (0, -1), (0, 1)]:\n",
    "        nx, ny = x + dx, y + dy\n",
    "        if is_valid(nx, ny, n, m) and not visited[nx][ny] and topo_map[nx][ny] == topo_map[x][y] + 1:\n",
    "            visited[nx][ny] = True\n",
    "            path.append((nx, ny))\n",
    "            dfs(topo_map, nx, ny, visited, path, target_height, trails)\n",
    "            path.pop()\n",
    "            visited[nx][ny] = False\n",
    "\n",
    "def calculate_ratings(topo_map):\n",
    "    n, m = len(topo_map), len(topo_map[0])\n",
    "    trailheads = [(x, y) for x in range(n) for y in range(m) if topo_map[x][y] == 0]\n",
    "    ratings = []\n",
    "\n",
    "    for x, y in trailheads:\n",
    "        visited = [[False] * m for _ in range(n)]\n",
    "        visited[x][y] = True\n",
    "        trails = set()\n",
    "        path = [(x, y)]\n",
    "        dfs(topo_map, x, y, visited, path, 9, trails)\n",
    "        ratings.append(len(trails))\n",
    "\n",
    "    return sum(ratings)\n",
    "\n",
    "# Read the topographic map from the input file\n",
    "topo_map = read_map('input.txt')\n",
    "\n",
    "# Calculate the sum of the ratings of all trailheads\n",
    "total_rating = calculate_ratings(topo_map)\n",
    "\n",
    "# Print the result\n",
    "print(total_rating)"
   ]
  }
 ],
 "metadata": {
  "kernelspec": {
   "display_name": "Python 3",
   "language": "python",
   "name": "python3"
  },
  "language_info": {
   "codemirror_mode": {
    "name": "ipython",
    "version": 3
   },
   "file_extension": ".py",
   "mimetype": "text/x-python",
   "name": "python",
   "nbconvert_exporter": "python",
   "pygments_lexer": "ipython3",
   "version": "3.11.6"
  }
 },
 "nbformat": 4,
 "nbformat_minor": 2
}
