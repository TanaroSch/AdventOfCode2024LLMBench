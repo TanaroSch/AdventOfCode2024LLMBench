{
 "cells": [
  {
   "cell_type": "markdown",
   "metadata": {},
   "source": [
    "# Day 10 - Llama 3.3 70B"
   ]
  },
  {
   "cell_type": "code",
   "execution_count": 4,
   "metadata": {},
   "outputs": [
    {
     "name": "stdout",
     "output_type": "stream",
     "text": [
      "501\n"
     ]
    }
   ],
   "source": [
    "from collections import deque\n",
    "\n",
    "def is_valid_move(grid, visited, x, y, prev_height):\n",
    "    \"\"\"Check if a move to (x, y) is valid.\"\"\"\n",
    "    if x < 0 or y < 0 or x >= len(grid) or y >= len(grid[0]):\n",
    "        return False\n",
    "    if visited[x][y]:\n",
    "        return False\n",
    "    return grid[x][y] == prev_height + 1\n",
    "\n",
    "def bfs(grid, x, y):\n",
    "    \"\"\"Perform a BFS from (x, y) to find all reachable 9s.\"\"\"\n",
    "    queue = deque([(x, y)])\n",
    "    visited = [[False for _ in range(len(grid[0]))] for _ in range(len(grid))]\n",
    "    visited[x][y] = True\n",
    "    count = 0\n",
    "    while queue:\n",
    "        curr_x, curr_y = queue.popleft()\n",
    "        if grid[curr_x][curr_y] == 9:\n",
    "            count += 1\n",
    "        for dx, dy in [(-1, 0), (1, 0), (0, -1), (0, 1)]:\n",
    "            new_x, new_y = curr_x + dx, curr_y + dy\n",
    "            if is_valid_move(grid, visited, new_x, new_y, grid[curr_x][curr_y]):\n",
    "                queue.append((new_x, new_y))\n",
    "                visited[new_x][new_y] = True\n",
    "    return count\n",
    "\n",
    "def main():\n",
    "    with open('input.txt', 'r') as f:\n",
    "        grid = [[int(c) for c in line.strip()] for line in f.readlines()]\n",
    "    \n",
    "    total_score = 0\n",
    "    for i in range(len(grid)):\n",
    "        for j in range(len(grid[0])):\n",
    "            if grid[i][j] == 0:\n",
    "                total_score += bfs(grid, i, j)\n",
    "    \n",
    "    print(total_score)\n",
    "\n",
    "if __name__ == \"__main__\":\n",
    "    main()"
   ]
  },
  {
   "cell_type": "markdown",
   "metadata": {},
   "source": [
    "## Part 2"
   ]
  },
  {
   "cell_type": "code",
   "execution_count": 5,
   "metadata": {},
   "outputs": [
    {
     "name": "stdout",
     "output_type": "stream",
     "text": [
      "1017\n"
     ]
    }
   ],
   "source": [
    "from collections import deque\n",
    "\n",
    "def is_valid_move(grid, visited, x, y, prev_height):\n",
    "    \"\"\"Check if a move to (x, y) is valid.\"\"\"\n",
    "    if x < 0 or y < 0 or x >= len(grid) or y >= len(grid[0]):\n",
    "        return False\n",
    "    if visited[x][y]:\n",
    "        return False\n",
    "    return grid[x][y] == prev_height + 1\n",
    "\n",
    "def dfs(grid, x, y, path):\n",
    "    \"\"\"Perform a DFS from (x, y) to find all distinct hiking trails.\"\"\"\n",
    "    if grid[x][y] == 9:\n",
    "        return {tuple(path)}\n",
    "    trails = set()\n",
    "    for dx, dy in [(-1, 0), (1, 0), (0, -1), (0, 1)]:\n",
    "        new_x, new_y = x + dx, y + dy\n",
    "        if is_valid_move(grid, [[False for _ in range(len(grid[0]))] for _ in range(len(grid))], new_x, new_y, grid[x][y]):\n",
    "            new_trails = dfs(grid, new_x, new_y, path + [(new_x, new_y)])\n",
    "            trails.update(new_trails)\n",
    "    return trails\n",
    "\n",
    "def main():\n",
    "    with open('input.txt', 'r') as f:\n",
    "        grid = [[int(c) for c in line.strip()] for line in f.readlines()]\n",
    "    \n",
    "    total_rating = 0\n",
    "    for i in range(len(grid)):\n",
    "        for j in range(len(grid[0])):\n",
    "            if grid[i][j] == 0:\n",
    "                trails = dfs(grid, i, j, [(i, j)])\n",
    "                total_rating += len(trails)\n",
    "    \n",
    "    print(total_rating)\n",
    "\n",
    "if __name__ == \"__main__\":\n",
    "    main()"
   ]
  }
 ],
 "metadata": {
  "kernelspec": {
   "display_name": "Python 3",
   "language": "python",
   "name": "python3"
  },
  "language_info": {
   "codemirror_mode": {
    "name": "ipython",
    "version": 3
   },
   "file_extension": ".py",
   "mimetype": "text/x-python",
   "name": "python",
   "nbconvert_exporter": "python",
   "pygments_lexer": "ipython3",
   "version": "3.11.6"
  }
 },
 "nbformat": 4,
 "nbformat_minor": 2
}
