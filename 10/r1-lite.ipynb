{
 "cells": [
  {
   "cell_type": "markdown",
   "metadata": {},
   "source": [
    "# Day 10 - Deepseek R1 Lite"
   ]
  },
  {
   "cell_type": "code",
   "execution_count": 2,
   "metadata": {},
   "outputs": [
    {
     "name": "stdout",
     "output_type": "stream",
     "text": [
      "Sum of the scores of all trailheads: 501\n"
     ]
    }
   ],
   "source": [
    "from collections import deque\n",
    "\n",
    "# Read the grid from input.txt\n",
    "with open('input.txt', 'r') as f:\n",
    "    grid = [list(map(int, line.strip())) for line in f.readlines()]\n",
    "\n",
    "# Dimensions of the grid\n",
    "R, C = len(grid), len(grid[0])\n",
    "\n",
    "# Directions: up, down, left, right\n",
    "dirs = [(-1, 0), (1, 0), (0, -1), (0, 1)]\n",
    "\n",
    "# Find all trailheads (positions with height 0)\n",
    "trailheads = [(r, c) for r in range(R) for c in range(C) if grid[r][c] == 0]\n",
    "\n",
    "# Function to perform BFS from a trailhead\n",
    "def bfs(start):\n",
    "    queue = deque([start])\n",
    "    visited = set([start])\n",
    "    count_nines = 0\n",
    "\n",
    "    while queue:\n",
    "        r, c = queue.popleft()\n",
    "        current_height = grid[r][c]\n",
    "\n",
    "        # If we reach a 9, increment the count\n",
    "        if current_height == 9:\n",
    "            count_nines += 1\n",
    "\n",
    "        # Explore neighbors\n",
    "        for dr, dc in dirs:\n",
    "            nr, nc = r + dr, c + dc\n",
    "            if 0 <= nr < R and 0 <= nc < C:\n",
    "                neighbor_height = grid[nr][nc]\n",
    "                if neighbor_height == current_height + 1 and (nr, nc) not in visited:\n",
    "                    visited.add((nr, nc))\n",
    "                    queue.append((nr, nc))\n",
    "\n",
    "    return count_nines\n",
    "\n",
    "# Calculate the score for each trailhead\n",
    "total_score = 0\n",
    "for trailhead in trailheads:\n",
    "    total_score += bfs(trailhead)\n",
    "\n",
    "print(\"Sum of the scores of all trailheads:\", total_score)"
   ]
  },
  {
   "cell_type": "markdown",
   "metadata": {},
   "source": [
    "## Part 2"
   ]
  },
  {
   "cell_type": "code",
   "execution_count": 3,
   "metadata": {},
   "outputs": [
    {
     "name": "stdout",
     "output_type": "stream",
     "text": [
      "Sum of the ratings of all trailheads: 1017\n"
     ]
    }
   ],
   "source": [
    "# Read the grid from input.txt\n",
    "with open('input.txt', 'r') as f:\n",
    "    grid = [list(map(int, line.strip())) for line in f.readlines()]\n",
    "\n",
    "# Dimensions of the grid\n",
    "R = len(grid)\n",
    "C = len(grid[0]) if R > 0 else 0\n",
    "\n",
    "# Directions: up, down, left, right\n",
    "dirs = [(-1, 0), (1, 0), (0, -1), (0, 1)]\n",
    "\n",
    "# Identify all trailheads (positions with height 0)\n",
    "trailheads = [(r, c) for r in range(R) for c in range(C) if grid[r][c] == 0]\n",
    "\n",
    "# Initialize DP matrix with 0s\n",
    "DP = [[0 for _ in range(C)] for _ in range(R)]\n",
    "\n",
    "# Set DP[r][c] = 1 for all trailheads\n",
    "for r, c in trailheads:\n",
    "    DP[r][c] = 1\n",
    "\n",
    "# Create a list of cells sorted by height in increasing order\n",
    "cells = [(r, c) for r in range(R) for c in range(C)]\n",
    "cells.sort(key=lambda x: grid[x[0]][x[1]])\n",
    "\n",
    "# Process cells in increasing order of height\n",
    "for r, c in cells:\n",
    "    h = grid[r][c]\n",
    "    for dr, dc in dirs:\n",
    "        nr, nc = r + dr, c + dc\n",
    "        if 0 <= nr < R and 0 <= nc < C:\n",
    "            nh = grid[nr][nc]\n",
    "            if nh == h + 1:\n",
    "                DP[nr][nc] += DP[r][c]\n",
    "\n",
    "# Sum DP[r][c] for all cells with grid[r][c] == 9\n",
    "total_rating = 0\n",
    "for r in range(R):\n",
    "    for c in range(C):\n",
    "        if grid[r][c] == 9:\n",
    "            total_rating += DP[r][c]\n",
    "\n",
    "print(\"Sum of the ratings of all trailheads:\", total_rating)"
   ]
  }
 ],
 "metadata": {
  "kernelspec": {
   "display_name": "Python 3",
   "language": "python",
   "name": "python3"
  },
  "language_info": {
   "codemirror_mode": {
    "name": "ipython",
    "version": 3
   },
   "file_extension": ".py",
   "mimetype": "text/x-python",
   "name": "python",
   "nbconvert_exporter": "python",
   "pygments_lexer": "ipython3",
   "version": "3.11.6"
  }
 },
 "nbformat": 4,
 "nbformat_minor": 2
}
