{
 "cells": [
  {
   "cell_type": "markdown",
   "metadata": {},
   "source": [
    "# Day 10 - MS Copilot"
   ]
  },
  {
   "cell_type": "code",
   "execution_count": 2,
   "metadata": {},
   "outputs": [
    {
     "name": "stdout",
     "output_type": "stream",
     "text": [
      "The sum of the scores of all trailheads is 501.\n"
     ]
    }
   ],
   "source": [
    "def read_map(file_name):\n",
    "    with open(file_name, 'r') as file:\n",
    "        return [list(map(int, line.strip())) for line in file]\n",
    "\n",
    "def is_valid(x, y, map_data):\n",
    "    return 0 <= x < len(map_data) and 0 <= y < len(map_data[0])\n",
    "\n",
    "def find_trailheads(map_data):\n",
    "    trailheads = []\n",
    "    for i in range(len(map_data)):\n",
    "        for j in range(len(map_data[0])):\n",
    "            if map_data[i][j] == 0:\n",
    "                trailheads.append((i, j))\n",
    "    return trailheads\n",
    "\n",
    "def dfs(x, y, map_data, visited):\n",
    "    if not is_valid(x, y, map_data) or visited[x][y]:\n",
    "        return 0\n",
    "    visited[x][y] = True\n",
    "    if map_data[x][y] == 9:\n",
    "        return 1\n",
    "    count = 0\n",
    "    for dx, dy in [(-1, 0), (1, 0), (0, -1), (0, 1)]:\n",
    "        nx, ny = x + dx, y + dy\n",
    "        if is_valid(nx, ny, map_data) and map_data[nx][ny] == map_data[x][y] + 1:\n",
    "            count += dfs(nx, ny, map_data, visited)\n",
    "    visited[x][y] = False\n",
    "    return count\n",
    "\n",
    "def calculate_trailhead_scores(map_data):\n",
    "    trailheads = find_trailheads(map_data)\n",
    "    total_score = 0\n",
    "    for x, y in trailheads:\n",
    "        visited = [[False for _ in range(len(map_data[0]))] for _ in range(len(map_data))]\n",
    "        total_score += dfs(x, y, map_data, visited)\n",
    "    return total_score\n",
    "\n",
    "# Read the topographic map from the input file\n",
    "map_data = read_map('input.txt')\n",
    "\n",
    "# Calculate the sum of the scores of all trailheads\n",
    "total_score = calculate_trailhead_scores(map_data)\n",
    "\n",
    "print(f\"The sum of the scores of all trailheads is {total_score}.\")"
   ]
  },
  {
   "cell_type": "markdown",
   "metadata": {},
   "source": [
    "## Part 2"
   ]
  },
  {
   "cell_type": "code",
   "execution_count": 3,
   "metadata": {},
   "outputs": [
    {
     "name": "stdout",
     "output_type": "stream",
     "text": [
      "The sum of the ratings of all trailheads is 1017.\n"
     ]
    }
   ],
   "source": [
    "def read_map(file_name):\n",
    "    with open(file_name, 'r') as file:\n",
    "        return [list(map(int, line.strip())) for line in file]\n",
    "\n",
    "def is_valid(x, y, map_data):\n",
    "    return 0 <= x < len(map_data) and 0 <= y < len(map_data[0])\n",
    "\n",
    "def find_trailheads(map_data):\n",
    "    trailheads = []\n",
    "    for i in range(len(map_data)):\n",
    "        for j in range(len(map_data[0])):\n",
    "            if map_data[i][j] == 0:\n",
    "                trailheads.append((i, j))\n",
    "    return trailheads\n",
    "\n",
    "def dfs_count_trails(x, y, map_data, visited):\n",
    "    if not is_valid(x, y, map_data) or visited[x][y]:\n",
    "        return 0\n",
    "    visited[x][y] = True\n",
    "    if map_data[x][y] == 9:\n",
    "        visited[x][y] = False\n",
    "        return 1\n",
    "    count = 0\n",
    "    for dx, dy in [(-1, 0), (1, 0), (0, -1), (0, 1)]:\n",
    "        nx, ny = x + dx, y + dy\n",
    "        if is_valid(nx, ny, map_data) and map_data[nx][ny] == map_data[x][y] + 1:\n",
    "            count += dfs_count_trails(nx, ny, map_data, visited)\n",
    "    visited[x][y] = False\n",
    "    return count\n",
    "\n",
    "def calculate_trailhead_ratings(map_data):\n",
    "    trailheads = find_trailheads(map_data)\n",
    "    total_rating = 0\n",
    "    for x, y in trailheads:\n",
    "        visited = [[False for _ in range(len(map_data[0]))] for _ in range(len(map_data))]\n",
    "        total_rating += dfs_count_trails(x, y, map_data, visited)\n",
    "    return total_rating\n",
    "\n",
    "# Read the topographic map from the input file\n",
    "map_data = read_map('input.txt')\n",
    "\n",
    "# Calculate the sum of the ratings of all trailheads\n",
    "total_rating = calculate_trailhead_ratings(map_data)\n",
    "\n",
    "print(f\"The sum of the ratings of all trailheads is {total_rating}.\")"
   ]
  }
 ],
 "metadata": {
  "kernelspec": {
   "display_name": "Python 3",
   "language": "python",
   "name": "python3"
  },
  "language_info": {
   "codemirror_mode": {
    "name": "ipython",
    "version": 3
   },
   "file_extension": ".py",
   "mimetype": "text/x-python",
   "name": "python",
   "nbconvert_exporter": "python",
   "pygments_lexer": "ipython3",
   "version": "3.11.6"
  }
 },
 "nbformat": 4,
 "nbformat_minor": 2
}
