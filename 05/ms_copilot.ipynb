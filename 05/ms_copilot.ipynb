{
 "cells": [
  {
   "cell_type": "markdown",
   "metadata": {},
   "source": [
    "# Day 5 - MS Copilot"
   ]
  },
  {
   "cell_type": "code",
   "execution_count": 1,
   "metadata": {},
   "outputs": [
    {
     "name": "stdout",
     "output_type": "stream",
     "text": [
      "The sum of the middle page numbers of correctly-ordered updates is 4996.\n"
     ]
    }
   ],
   "source": [
    "def parse_input(file_name):\n",
    "    with open(file_name, 'r') as file:\n",
    "        lines = file.readlines()\n",
    "    \n",
    "    rules = []\n",
    "    updates = []\n",
    "    is_update_section = False\n",
    "    \n",
    "    for line in lines:\n",
    "        line = line.strip()\n",
    "        if not line:\n",
    "            is_update_section = True\n",
    "            continue\n",
    "        \n",
    "        if is_update_section:\n",
    "            updates.append(list(map(int, line.split(','))))\n",
    "        else:\n",
    "            rules.append(tuple(map(int, line.split('|'))))\n",
    "    \n",
    "    return rules, updates\n",
    "\n",
    "def is_correct_order(update, rules):\n",
    "    for x, y in rules:\n",
    "        if x in update and y in update:\n",
    "            if update.index(x) > update.index(y):\n",
    "                return False\n",
    "    return True\n",
    "\n",
    "def find_middle_page(update):\n",
    "    n = len(update)\n",
    "    return update[n // 2]\n",
    "\n",
    "def main():\n",
    "    rules, updates = parse_input('input.txt')\n",
    "    \n",
    "    correct_updates = [update for update in updates if is_correct_order(update, rules)]\n",
    "    \n",
    "    middle_pages_sum = sum(find_middle_page(update) for update in correct_updates)\n",
    "    \n",
    "    print(f\"The sum of the middle page numbers of correctly-ordered updates is {middle_pages_sum}.\")\n",
    "\n",
    "main()"
   ]
  },
  {
   "cell_type": "markdown",
   "metadata": {},
   "source": [
    "## Part 2"
   ]
  },
  {
   "cell_type": "code",
   "execution_count": 2,
   "metadata": {},
   "outputs": [
    {
     "name": "stdout",
     "output_type": "stream",
     "text": [
      "The sum of the middle page numbers of correctly-ordered incorrect updates is 6311.\n"
     ]
    }
   ],
   "source": [
    "def parse_input(file_name):\n",
    "    with open(file_name, 'r') as file:\n",
    "        lines = file.readlines()\n",
    "    \n",
    "    rules = []\n",
    "    updates = []\n",
    "    is_update_section = False\n",
    "    \n",
    "    for line in lines:\n",
    "        line = line.strip()\n",
    "        if not line:\n",
    "            is_update_section = True\n",
    "            continue\n",
    "        \n",
    "        if is_update_section:\n",
    "            updates.append(list(map(int, line.split(','))))\n",
    "        else:\n",
    "            rules.append(tuple(map(int, line.split('|'))))\n",
    "    \n",
    "    return rules, updates\n",
    "\n",
    "def is_correct_order(update, rules):\n",
    "    for x, y in rules:\n",
    "        if x in update and y in update:\n",
    "            if update.index(x) > update.index(y):\n",
    "                return False\n",
    "    return True\n",
    "\n",
    "def find_middle_page(update):\n",
    "    n = len(update)\n",
    "    return update[n // 2]\n",
    "\n",
    "def topological_sort(update, rules):\n",
    "    from collections import defaultdict, deque\n",
    "    \n",
    "    # Create a graph and in-degree count\n",
    "    graph = defaultdict(list)\n",
    "    in_degree = {page: 0 for page in update}\n",
    "    \n",
    "    for x, y in rules:\n",
    "        if x in update and y in update:\n",
    "            graph[x].append(y)\n",
    "            in_degree[y] += 1\n",
    "    \n",
    "    # Find all nodes with no incoming edges\n",
    "    queue = deque([node for node in update if in_degree[node] == 0])\n",
    "    \n",
    "    sorted_update = []\n",
    "    \n",
    "    while queue:\n",
    "        node = queue.popleft()\n",
    "        sorted_update.append(node)\n",
    "        \n",
    "        for neighbor in graph[node]:\n",
    "            in_degree[neighbor] -= 1\n",
    "            if in_degree[neighbor] == 0:\n",
    "                queue.append(neighbor)\n",
    "    \n",
    "    return sorted_update\n",
    "\n",
    "def main():\n",
    "    rules, updates = parse_input('input.txt')\n",
    "    \n",
    "    incorrect_updates = [update for update in updates if not is_correct_order(update, rules)]\n",
    "    \n",
    "    corrected_updates = [topological_sort(update, rules) for update in incorrect_updates]\n",
    "    \n",
    "    middle_pages_sum = sum(find_middle_page(update) for update in corrected_updates)\n",
    "    \n",
    "    print(f\"The sum of the middle page numbers of correctly-ordered incorrect updates is {middle_pages_sum}.\")\n",
    "\n",
    "main()"
   ]
  }
 ],
 "metadata": {
  "kernelspec": {
   "display_name": "Python 3",
   "language": "python",
   "name": "python3"
  },
  "language_info": {
   "codemirror_mode": {
    "name": "ipython",
    "version": 3
   },
   "file_extension": ".py",
   "mimetype": "text/x-python",
   "name": "python",
   "nbconvert_exporter": "python",
   "pygments_lexer": "ipython3",
   "version": "3.11.6"
  }
 },
 "nbformat": 4,
 "nbformat_minor": 2
}
