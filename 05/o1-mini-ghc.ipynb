{
 "cells": [
  {
   "cell_type": "markdown",
   "metadata": {},
   "source": [
    "# Day 5 - o1-mini (GHC)"
   ]
  },
  {
   "cell_type": "code",
   "execution_count": 1,
   "metadata": {},
   "outputs": [
    {
     "name": "stdout",
     "output_type": "stream",
     "text": [
      "4996\n"
     ]
    }
   ],
   "source": [
    "def main():\n",
    "    with open('input.txt', 'r') as file:\n",
    "        lines = file.read().splitlines()\n",
    "    \n",
    "    rules = []\n",
    "    updates = []\n",
    "    parsing_rules = True\n",
    "\n",
    "    for line in lines:\n",
    "        if not line.strip():\n",
    "            parsing_rules = False\n",
    "            continue\n",
    "        if parsing_rules:\n",
    "            x, y = map(int, line.split('|'))\n",
    "            rules.append((x, y))\n",
    "        else:\n",
    "            update = list(map(int, line.split(',')))\n",
    "            updates.append(update)\n",
    "    \n",
    "    correct_middle_sum = 0\n",
    "\n",
    "    for update in updates:\n",
    "        valid = True\n",
    "        update_set = set(update)\n",
    "        for x, y in rules:\n",
    "            if x in update_set and y in update_set:\n",
    "                if update.index(x) >= update.index(y):\n",
    "                    valid = False\n",
    "                    break\n",
    "        if valid:\n",
    "            middle = update[len(update)//2]\n",
    "            correct_middle_sum += middle\n",
    "    \n",
    "    print(correct_middle_sum)\n",
    "\n",
    "if __name__ == \"__main__\":\n",
    "    main()"
   ]
  },
  {
   "cell_type": "markdown",
   "metadata": {},
   "source": [
    "## Part 2"
   ]
  },
  {
   "cell_type": "code",
   "execution_count": 2,
   "metadata": {},
   "outputs": [
    {
     "name": "stdout",
     "output_type": "stream",
     "text": [
      "6311\n"
     ]
    }
   ],
   "source": [
    "def main():\n",
    "    from collections import defaultdict, deque\n",
    "\n",
    "    with open('input.txt', 'r') as file:\n",
    "        lines = file.read().splitlines()\n",
    "    \n",
    "    rules = []\n",
    "    updates = []\n",
    "    parsing_rules = True\n",
    "\n",
    "    for line in lines:\n",
    "        if not line.strip():\n",
    "            parsing_rules = False\n",
    "            continue\n",
    "        if parsing_rules:\n",
    "            x, y = map(int, line.split('|'))\n",
    "            rules.append((x, y))\n",
    "        else:\n",
    "            update = list(map(int, line.split(',')))\n",
    "            updates.append(update)\n",
    "    \n",
    "    # Identify correctly ordered updates\n",
    "    correct_updates = []\n",
    "    incorrect_updates = []\n",
    "    for update in updates:\n",
    "        valid = True\n",
    "        update_set = set(update)\n",
    "        for x, y in rules:\n",
    "            if x in update_set and y in update_set:\n",
    "                if update.index(x) >= update.index(y):\n",
    "                    valid = False\n",
    "                    break\n",
    "        if valid:\n",
    "            correct_updates.append(update)\n",
    "        else:\n",
    "            incorrect_updates.append(update)\n",
    "    \n",
    "    # Function to perform topological sort\n",
    "    def topological_sort(pages, rules):\n",
    "        adj = defaultdict(list)\n",
    "        in_degree = defaultdict(int)\n",
    "        for x, y in rules:\n",
    "            if x in pages and y in pages:\n",
    "                adj[x].append(y)\n",
    "                in_degree[y] += 1\n",
    "        queue = deque([p for p in pages if in_degree[p] == 0])\n",
    "        sorted_pages = []\n",
    "        while queue:\n",
    "            node = queue.popleft()\n",
    "            sorted_pages.append(node)\n",
    "            for neighbor in adj[node]:\n",
    "                in_degree[neighbor] -= 1\n",
    "                if in_degree[neighbor] == 0:\n",
    "                    queue.append(neighbor)\n",
    "        if len(sorted_pages) != len(pages):\n",
    "            return pages  # Return original if cycle detected\n",
    "        return sorted_pages\n",
    "\n",
    "    middle_sum = 0\n",
    "    for update in incorrect_updates:\n",
    "        sorted_update = topological_sort(update, rules)\n",
    "        middle = sorted_update[len(sorted_update)//2]\n",
    "        middle_sum += middle\n",
    "    \n",
    "    print(middle_sum)\n",
    "\n",
    "if __name__ == \"__main__\":\n",
    "    main()"
   ]
  }
 ],
 "metadata": {
  "kernelspec": {
   "display_name": "AdventOfCode",
   "language": "python",
   "name": "python3"
  },
  "language_info": {
   "codemirror_mode": {
    "name": "ipython",
    "version": 3
   },
   "file_extension": ".py",
   "mimetype": "text/x-python",
   "name": "python",
   "nbconvert_exporter": "python",
   "pygments_lexer": "ipython3",
   "version": "3.10.15"
  }
 },
 "nbformat": 4,
 "nbformat_minor": 2
}
