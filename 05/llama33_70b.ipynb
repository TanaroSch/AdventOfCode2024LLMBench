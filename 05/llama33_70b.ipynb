{
 "cells": [
  {
   "cell_type": "markdown",
   "metadata": {},
   "source": [
    "# Day 05 - Llama 3.3 70B"
   ]
  },
  {
   "cell_type": "code",
   "execution_count": 1,
   "metadata": {},
   "outputs": [
    {
     "name": "stdout",
     "output_type": "stream",
     "text": [
      "4996\n"
     ]
    }
   ],
   "source": [
    "def parse_input(filename):\n",
    "    \"\"\"Parse the input from the file.\"\"\"\n",
    "    with open(filename, 'r') as f:\n",
    "        lines = f.readlines()\n",
    "\n",
    "    rules = []\n",
    "    updates = []\n",
    "    parsing_rules = True\n",
    "\n",
    "    for line in lines:\n",
    "        line = line.strip()\n",
    "        if line == '':\n",
    "            parsing_rules = False\n",
    "            continue\n",
    "        if parsing_rules:\n",
    "            x, y = map(int, line.split('|'))\n",
    "            rules.append((x, y))\n",
    "        else:\n",
    "            updates.append(list(map(int, line.split(','))))\n",
    "\n",
    "    return rules, updates\n",
    "\n",
    "def is_update_in_order(update, rules):\n",
    "    \"\"\"Check if an update is in the correct order according to the rules.\"\"\"\n",
    "    for x, y in rules:\n",
    "        if x in update and y in update and update.index(x) > update.index(y):\n",
    "            return False\n",
    "    return True\n",
    "\n",
    "def find_middle_page(update):\n",
    "    \"\"\"Find the middle page of an update.\"\"\"\n",
    "    n = len(update)\n",
    "    if n % 2 == 1:\n",
    "        return update[n // 2]\n",
    "    else:\n",
    "        return update[n // 2 - 1]\n",
    "\n",
    "def main():\n",
    "    rules, updates = parse_input('input.txt')\n",
    "    correctly_ordered_updates = [update for update in updates if is_update_in_order(update, rules)]\n",
    "    middle_pages = [find_middle_page(update) for update in correctly_ordered_updates]\n",
    "    print(sum(middle_pages))\n",
    "\n",
    "if __name__ == '__main__':\n",
    "    main()"
   ]
  },
  {
   "cell_type": "markdown",
   "metadata": {},
   "source": [
    "## Part 2"
   ]
  },
  {
   "cell_type": "code",
   "execution_count": 2,
   "metadata": {},
   "outputs": [
    {
     "name": "stdout",
     "output_type": "stream",
     "text": [
      "6311\n"
     ]
    }
   ],
   "source": [
    "from collections import defaultdict, deque\n",
    "\n",
    "def parse_input(filename):\n",
    "    \"\"\"Parse the input from the file.\"\"\"\n",
    "    with open(filename, 'r') as f:\n",
    "        lines = f.readlines()\n",
    "\n",
    "    rules = []\n",
    "    updates = []\n",
    "    parsing_rules = True\n",
    "\n",
    "    for line in lines:\n",
    "        line = line.strip()\n",
    "        if line == '':\n",
    "            parsing_rules = False\n",
    "            continue\n",
    "        if parsing_rules:\n",
    "            x, y = map(int, line.split('|'))\n",
    "            rules.append((x, y))\n",
    "        else:\n",
    "            updates.append(list(map(int, line.split(','))))\n",
    "\n",
    "    return rules, updates\n",
    "\n",
    "def is_update_in_order(update, rules):\n",
    "    \"\"\"Check if an update is in the correct order according to the rules.\"\"\"\n",
    "    for x, y in rules:\n",
    "        if x in update and y in update and update.index(x) > update.index(y):\n",
    "            return False\n",
    "    return True\n",
    "\n",
    "def topological_sort(update, rules):\n",
    "    \"\"\"Topologically sort the pages in the update according to the rules.\"\"\"\n",
    "    graph = defaultdict(list)\n",
    "    in_degree = {page: 0 for page in update}\n",
    "\n",
    "    for x, y in rules:\n",
    "        if x in update and y in update:\n",
    "            graph[x].append(y)\n",
    "            in_degree[y] += 1\n",
    "\n",
    "    queue = deque([page for page in update if in_degree[page] == 0])\n",
    "    sorted_update = []\n",
    "\n",
    "    while queue:\n",
    "        page = queue.popleft()\n",
    "        sorted_update.append(page)\n",
    "        for neighbor in graph[page]:\n",
    "            in_degree[neighbor] -= 1\n",
    "            if in_degree[neighbor] == 0:\n",
    "                queue.append(neighbor)\n",
    "\n",
    "    if len(sorted_update)!= len(update):\n",
    "        raise ValueError(\"Cycle detected in the graph\")\n",
    "\n",
    "    return sorted_update\n",
    "\n",
    "def find_middle_page(update):\n",
    "    \"\"\"Find the middle page of an update.\"\"\"\n",
    "    n = len(update)\n",
    "    if n % 2 == 1:\n",
    "        return update[n // 2]\n",
    "    else:\n",
    "        return update[n // 2 - 1]\n",
    "\n",
    "def main():\n",
    "    rules, updates = parse_input('input.txt')\n",
    "    incorrectly_ordered_updates = [update for update in updates if not is_update_in_order(update, rules)]\n",
    "    correctly_ordered_updates = [topological_sort(update, rules) for update in incorrectly_ordered_updates]\n",
    "    middle_pages = [find_middle_page(update) for update in correctly_ordered_updates]\n",
    "    print(sum(middle_pages))\n",
    "\n",
    "if __name__ == '__main__':\n",
    "    main()"
   ]
  }
 ],
 "metadata": {
  "kernelspec": {
   "display_name": "AdventOfCode",
   "language": "python",
   "name": "python3"
  },
  "language_info": {
   "codemirror_mode": {
    "name": "ipython",
    "version": 3
   },
   "file_extension": ".py",
   "mimetype": "text/x-python",
   "name": "python",
   "nbconvert_exporter": "python",
   "pygments_lexer": "ipython3",
   "version": "3.10.15"
  }
 },
 "nbformat": 4,
 "nbformat_minor": 2
}
