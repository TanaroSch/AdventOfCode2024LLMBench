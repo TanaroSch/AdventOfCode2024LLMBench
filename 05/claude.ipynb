{
 "cells": [
  {
   "cell_type": "markdown",
   "metadata": {},
   "source": [
    "# Day 5 - claude"
   ]
  },
  {
   "cell_type": "code",
   "execution_count": 1,
   "metadata": {},
   "outputs": [
    {
     "name": "stdout",
     "output_type": "stream",
     "text": [
      "Sum of middle pages in valid updates: 4996\n"
     ]
    }
   ],
   "source": [
    "from collections import defaultdict, deque\n",
    "\n",
    "def parse_input(filename):\n",
    "    with open(filename) as f:\n",
    "        content = f.read().strip().split('\\n\\n')\n",
    "    \n",
    "    # Parse rules\n",
    "    rules = []\n",
    "    for line in content[0].split('\\n'):\n",
    "        before, after = map(int, line.split('|'))\n",
    "        rules.append((before, after))\n",
    "    \n",
    "    # Parse updates\n",
    "    updates = []\n",
    "    for line in content[1].split('\\n'):\n",
    "        pages = list(map(int, line.strip().split(',')))\n",
    "        updates.append(pages)\n",
    "    \n",
    "    return rules, updates\n",
    "\n",
    "def is_valid_order(pages, rules):\n",
    "    # Create adjacency list for the rules that apply to these pages\n",
    "    graph = defaultdict(list)\n",
    "    indegree = defaultdict(int)\n",
    "    page_set = set(pages)\n",
    "    \n",
    "    # Only consider rules where both pages are in the current update\n",
    "    for before, after in rules:\n",
    "        if before in page_set and after in page_set:\n",
    "            graph[before].append(after)\n",
    "            indegree[after] += 1\n",
    "    \n",
    "    # Check if current order satisfies topological ordering\n",
    "    seen_positions = {}\n",
    "    for i, page in enumerate(pages):\n",
    "        seen_positions[page] = i\n",
    "    \n",
    "    # Verify all edges go from lower to higher positions\n",
    "    for node in graph:\n",
    "        for neighbor in graph[node]:\n",
    "            if seen_positions[node] > seen_positions[neighbor]:\n",
    "                return False\n",
    "    \n",
    "    return True\n",
    "\n",
    "def main():\n",
    "    rules, updates = parse_input('input.txt')\n",
    "    valid_updates = []\n",
    "    total = 0\n",
    "    \n",
    "    for update in updates:\n",
    "        if is_valid_order(update, rules):\n",
    "            middle_idx = len(update) // 2\n",
    "            middle_page = update[middle_idx]\n",
    "            total += middle_page\n",
    "            valid_updates.append(update)\n",
    "    \n",
    "    print(f\"Sum of middle pages in valid updates: {total}\")\n",
    "    return total\n",
    "\n",
    "if __name__ == \"__main__\":\n",
    "    main()"
   ]
  },
  {
   "cell_type": "markdown",
   "metadata": {},
   "source": [
    "## Part 2"
   ]
  },
  {
   "cell_type": "code",
   "execution_count": 2,
   "metadata": {},
   "outputs": [
    {
     "name": "stdout",
     "output_type": "stream",
     "text": [
      "Sum of middle pages in corrected invalid updates: 6311\n"
     ]
    }
   ],
   "source": [
    "from collections import defaultdict, deque\n",
    "\n",
    "def parse_input(filename):\n",
    "    with open(filename) as f:\n",
    "        content = f.read().strip().split('\\n\\n')\n",
    "    \n",
    "    rules = []\n",
    "    for line in content[0].split('\\n'):\n",
    "        before, after = map(int, line.split('|'))\n",
    "        rules.append((before, after))\n",
    "    \n",
    "    updates = []\n",
    "    for line in content[1].split('\\n'):\n",
    "        pages = list(map(int, line.strip().split(',')))\n",
    "        updates.append(pages)\n",
    "    \n",
    "    return rules, updates\n",
    "\n",
    "def is_valid_order(pages, rules):\n",
    "    seen_positions = {page: i for i, page in enumerate(pages)}\n",
    "    page_set = set(pages)\n",
    "    \n",
    "    for before, after in rules:\n",
    "        if before in page_set and after in page_set:\n",
    "            if seen_positions[before] > seen_positions[after]:\n",
    "                return False\n",
    "    return True\n",
    "\n",
    "def topological_sort(pages, rules):\n",
    "    # Build graph\n",
    "    graph = defaultdict(list)\n",
    "    indegree = defaultdict(int)\n",
    "    page_set = set(pages)\n",
    "    \n",
    "    for before, after in rules:\n",
    "        if before in page_set and after in page_set:\n",
    "            graph[before].append(after)\n",
    "            indegree[after] += 1\n",
    "    \n",
    "    # Find all nodes with no incoming edges\n",
    "    queue = deque([page for page in pages if indegree[page] == 0])\n",
    "    result = []\n",
    "    \n",
    "    while queue:\n",
    "        node = queue.popleft()\n",
    "        result.append(node)\n",
    "        \n",
    "        for neighbor in graph[node]:\n",
    "            indegree[neighbor] -= 1\n",
    "            if indegree[neighbor] == 0:\n",
    "                queue.append(neighbor)\n",
    "    \n",
    "    # Handle any remaining nodes (in case of no dependencies)\n",
    "    remaining = set(pages) - set(result)\n",
    "    result.extend(remaining)\n",
    "    \n",
    "    return result\n",
    "\n",
    "def main():\n",
    "    rules, updates = parse_input('input.txt')\n",
    "    total = 0\n",
    "    \n",
    "    for update in updates:\n",
    "        if not is_valid_order(update, rules):\n",
    "            sorted_pages = topological_sort(update, rules)\n",
    "            middle_idx = len(sorted_pages) // 2\n",
    "            middle_page = sorted_pages[middle_idx]\n",
    "            total += middle_page\n",
    "    \n",
    "    print(f\"Sum of middle pages in corrected invalid updates: {total}\")\n",
    "    return total\n",
    "\n",
    "if __name__ == \"__main__\":\n",
    "    main()"
   ]
  }
 ],
 "metadata": {
  "kernelspec": {
   "display_name": "Python 3",
   "language": "python",
   "name": "python3"
  },
  "language_info": {
   "codemirror_mode": {
    "name": "ipython",
    "version": 3
   },
   "file_extension": ".py",
   "mimetype": "text/x-python",
   "name": "python",
   "nbconvert_exporter": "python",
   "pygments_lexer": "ipython3",
   "version": "3.11.6"
  }
 },
 "nbformat": 4,
 "nbformat_minor": 2
}
