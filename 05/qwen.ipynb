{
 "cells": [
  {
   "cell_type": "markdown",
   "metadata": {},
   "source": [
    "# Day 5 - Qwen Coder 32B"
   ]
  },
  {
   "cell_type": "code",
   "execution_count": 10,
   "metadata": {},
   "outputs": [
    {
     "name": "stdout",
     "output_type": "stream",
     "text": [
      "0\n"
     ]
    }
   ],
   "source": [
    "def parse_input(filename):\n",
    "    with open(filename, 'r') as file:\n",
    "        lines = file.readlines()\n",
    "\n",
    "    # Find the separator line between rules and updates\n",
    "    separator_index = lines.index('\\n')\n",
    "    \n",
    "    # Parse the rules into a dictionary\n",
    "    rules = {}\n",
    "    for line in lines[:separator_index]:\n",
    "        x, y = map(int, line.strip().split('|'))\n",
    "        if x not in rules:\n",
    "            rules[x] = set()\n",
    "        rules[x].add(y)\n",
    "    \n",
    "    # Parse the updates\n",
    "    updates = []\n",
    "    for line in lines[separator_index + 1:]:\n",
    "        updates.append(list(map(int, line.strip().split(','))))\n",
    "    \n",
    "    return rules, updates\n",
    "\n",
    "def is_correct_order(update, rules):\n",
    "    # Create a set of pages in the current update\n",
    "    update_set = set(update)\n",
    "    \n",
    "    # Check the rules for the current update\n",
    "    for i in range(len(update)):\n",
    "        for j in range(i + 1, len(update)):\n",
    "            if update[i] in rules and update[j] in rules[update[i]] and update[j] in update_set:\n",
    "                return False\n",
    "    return True\n",
    "\n",
    "def find_middle_page(update):\n",
    "    return update[len(update) // 2]\n",
    "\n",
    "def main():\n",
    "    rules, updates = parse_input('input.txt')\n",
    "    middle_page_sum = 0\n",
    "    \n",
    "    for update in updates:\n",
    "        if is_correct_order(update, rules):\n",
    "            middle_page_sum += find_middle_page(update)\n",
    "    \n",
    "    print(middle_page_sum)\n",
    "\n",
    "if __name__ == \"__main__\":\n",
    "    main()"
   ]
  },
  {
   "cell_type": "markdown",
   "metadata": {},
   "source": [
    "## Part 2"
   ]
  },
  {
   "cell_type": "code",
   "execution_count": null,
   "metadata": {},
   "outputs": [],
   "source": []
  }
 ],
 "metadata": {
  "kernelspec": {
   "display_name": "Python 3",
   "language": "python",
   "name": "python3"
  },
  "language_info": {
   "codemirror_mode": {
    "name": "ipython",
    "version": 3
   },
   "file_extension": ".py",
   "mimetype": "text/x-python",
   "name": "python",
   "nbconvert_exporter": "python",
   "pygments_lexer": "ipython3",
   "version": "3.11.6"
  }
 },
 "nbformat": 4,
 "nbformat_minor": 2
}
