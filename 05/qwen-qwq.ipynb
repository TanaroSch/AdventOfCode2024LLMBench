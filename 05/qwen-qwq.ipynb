{
 "cells": [
  {
   "cell_type": "markdown",
   "metadata": {},
   "source": [
    "# Day 5 - Qwen QwQ 32B"
   ]
  },
  {
   "cell_type": "code",
   "execution_count": 1,
   "metadata": {},
   "outputs": [
    {
     "name": "stdout",
     "output_type": "stream",
     "text": [
      "4996\n"
     ]
    }
   ],
   "source": [
    "def read_input(file_name):\n",
    "    with open(file_name, 'r') as f:\n",
    "        data = f.read().strip()\n",
    "    parts = data.split('\\n\\n')\n",
    "    rules_section = parts[0]\n",
    "    updates_section = parts[1]\n",
    "    return rules_section, updates_section\n",
    "\n",
    "def parse_rules(rules_section):\n",
    "    rules = []\n",
    "    for line in rules_section.split('\\n'):\n",
    "        X, Y = line.split('|')\n",
    "        rules.append((int(X), int(Y)))\n",
    "    return rules\n",
    "\n",
    "def parse_updates(updates_section):\n",
    "    updates = []\n",
    "    for line in updates_section.split('\\n'):\n",
    "        pages = list(map(int, line.split(',')))\n",
    "        updates.append(pages)\n",
    "    return updates\n",
    "\n",
    "def is_correct_order(update, rules):\n",
    "    relevant_rules = [(X, Y) for X, Y in rules if X in update and Y in update]\n",
    "    for X, Y in relevant_rules:\n",
    "        if update.index(X) > update.index(Y):\n",
    "            return False\n",
    "    return True\n",
    "\n",
    "def find_middle_page(update):\n",
    "    middle_index = len(update) // 2\n",
    "    return update[middle_index]\n",
    "\n",
    "def sum_middle_pages(updates, rules):\n",
    "    sum_middle = 0\n",
    "    for update in updates:\n",
    "        if is_correct_order(update, rules):\n",
    "            middle_page = find_middle_page(update)\n",
    "            sum_middle += middle_page\n",
    "    return sum_middle\n",
    "\n",
    "def main():\n",
    "    rules_section, updates_section = read_input('input.txt')\n",
    "    rules = parse_rules(rules_section)\n",
    "    updates = parse_updates(updates_section)\n",
    "    sum_middle = sum_middle_pages(updates, rules)\n",
    "    print(sum_middle)\n",
    "\n",
    "if __name__ == \"__main__\":\n",
    "    main()"
   ]
  },
  {
   "cell_type": "markdown",
   "metadata": {},
   "source": [
    "## Part 2"
   ]
  },
  {
   "cell_type": "code",
   "execution_count": 3,
   "metadata": {},
   "outputs": [
    {
     "name": "stdout",
     "output_type": "stream",
     "text": [
      "6311\n"
     ]
    }
   ],
   "source": [
    "from collections import defaultdict, deque\n",
    "\n",
    "def read_input(file_name):\n",
    "    with open(file_name, 'r') as f:\n",
    "        data = f.read().strip()\n",
    "    parts = data.split('\\n\\n')\n",
    "    rules_section = parts[0]\n",
    "    updates_section = parts[1]\n",
    "    return rules_section, updates_section\n",
    "\n",
    "def parse_rules(rules_section):\n",
    "    rules = []\n",
    "    for line in rules_section.split('\\n'):\n",
    "        X, Y = line.split('|')\n",
    "        rules.append((int(X), int(Y)))\n",
    "    return rules\n",
    "\n",
    "def parse_updates(updates_section):\n",
    "    updates = []\n",
    "    for line in updates_section.split('\\n'):\n",
    "        pages = list(map(int, line.split(',')))\n",
    "        updates.append(pages)\n",
    "    return updates\n",
    "\n",
    "def build_graph_and_indegree(rules, pages_set):\n",
    "    graph = defaultdict(list)\n",
    "    indegree = {page: 0 for page in pages_set}\n",
    "    for X, Y in rules:\n",
    "        if Y in pages_set:\n",
    "            graph[X].append(Y)\n",
    "            indegree[Y] += 1\n",
    "    return graph, indegree\n",
    "\n",
    "def topological_sort(pages_set, graph, indegree):\n",
    "    queue = deque([page for page in pages_set if indegree[page] == 0])\n",
    "    sorted_pages = []\n",
    "    while queue:\n",
    "        page = queue.popleft()\n",
    "        sorted_pages.append(page)\n",
    "        for neighbor in graph[page]:\n",
    "            indegree[neighbor] -= 1\n",
    "            if indegree[neighbor] == 0:\n",
    "                queue.append(neighbor)\n",
    "    if len(sorted_pages) != len(pages_set):\n",
    "        raise ValueError(\"Cycle detected in the graph\")\n",
    "    return sorted_pages\n",
    "\n",
    "def is_correct_order(update, rules):\n",
    "    relevant_rules = [(X, Y) for X, Y in rules if X in update and Y in update]\n",
    "    for X, Y in relevant_rules:\n",
    "        if update.index(X) > update.index(Y):\n",
    "            return False\n",
    "    return True\n",
    "\n",
    "def sum_middle_pages_of_reordered_updates(updates, rules):\n",
    "    sum_middle = 0\n",
    "    for update in updates:\n",
    "        pages_set = set(update)\n",
    "        rules_subset = [rule for rule in rules if rule[0] in pages_set and rule[1] in pages_set]\n",
    "        graph, indegree = build_graph_and_indegree(rules_subset, pages_set)\n",
    "        sorted_update = topological_sort(pages_set, graph, indegree)\n",
    "        middle_index = len(sorted_update) // 2\n",
    "        middle_page = sorted_update[middle_index]\n",
    "        sum_middle += middle_page\n",
    "    return sum_middle\n",
    "\n",
    "def main():\n",
    "    rules_section, updates_section = read_input('input.txt')\n",
    "    rules = parse_rules(rules_section)\n",
    "    updates = parse_updates(updates_section)\n",
    "    \n",
    "    # Find incorrectly ordered updates\n",
    "    incorrect_updates = [update for update in updates if not is_correct_order(update, rules)]\n",
    "    \n",
    "    sum_middle = sum_middle_pages_of_reordered_updates(incorrect_updates, rules)\n",
    "    print(sum_middle)\n",
    "\n",
    "if __name__ == \"__main__\":\n",
    "    main()"
   ]
  }
 ],
 "metadata": {
  "kernelspec": {
   "display_name": "AdventOfCode",
   "language": "python",
   "name": "python3"
  },
  "language_info": {
   "codemirror_mode": {
    "name": "ipython",
    "version": 3
   },
   "file_extension": ".py",
   "mimetype": "text/x-python",
   "name": "python",
   "nbconvert_exporter": "python",
   "pygments_lexer": "ipython3",
   "version": "3.10.15"
  }
 },
 "nbformat": 4,
 "nbformat_minor": 2
}
