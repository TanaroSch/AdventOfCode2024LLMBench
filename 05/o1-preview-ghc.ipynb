{
 "cells": [
  {
   "cell_type": "markdown",
   "metadata": {},
   "source": [
    "# Day 5 - o1-preview (GHC)"
   ]
  },
  {
   "cell_type": "code",
   "execution_count": 1,
   "metadata": {},
   "outputs": [
    {
     "name": "stdout",
     "output_type": "stream",
     "text": [
      "4996\n"
     ]
    }
   ],
   "source": [
    "with open('input.txt') as f:\n",
    "    lines = [line.strip() for line in f]\n",
    "\n",
    "# Parse ordering rules\n",
    "rules = []\n",
    "i = 0\n",
    "while i < len(lines) and lines[i]:\n",
    "    x, y = map(int, lines[i].split('|'))\n",
    "    rules.append((x, y))\n",
    "    i += 1\n",
    "\n",
    "# Skip empty lines\n",
    "while i < len(lines) and not lines[i]:\n",
    "    i += 1\n",
    "\n",
    "# Parse updates\n",
    "updates = []\n",
    "while i < len(lines):\n",
    "    update = list(map(int, lines[i].split(',')))\n",
    "    updates.append(update)\n",
    "    i += 1\n",
    "\n",
    "total = 0\n",
    "for update in updates:\n",
    "    valid = True\n",
    "    index = {page: idx for idx, page in enumerate(update)}\n",
    "    for x, y in rules:\n",
    "        if x in index and y in index and index[x] >= index[y]:\n",
    "            valid = False\n",
    "            break\n",
    "    if valid:\n",
    "        middle_page = update[len(update) // 2]\n",
    "        total += middle_page\n",
    "\n",
    "print(total)"
   ]
  },
  {
   "cell_type": "markdown",
   "metadata": {},
   "source": [
    "## Part 2"
   ]
  },
  {
   "cell_type": "code",
   "execution_count": 2,
   "metadata": {},
   "outputs": [
    {
     "name": "stdout",
     "output_type": "stream",
     "text": [
      "6311\n"
     ]
    }
   ],
   "source": [
    "from collections import defaultdict, deque\n",
    "\n",
    "with open('input.txt') as f:\n",
    "    lines = [line.strip() for line in f]\n",
    "\n",
    "# Parse ordering rules\n",
    "rules = []\n",
    "i = 0\n",
    "while i < len(lines) and lines[i]:\n",
    "    x, y = map(int, lines[i].split('|'))\n",
    "    rules.append((x, y))\n",
    "    i += 1\n",
    "\n",
    "# Skip empty lines\n",
    "while i < len(lines) and not lines[i]:\n",
    "    i += 1\n",
    "\n",
    "# Parse updates\n",
    "updates = []\n",
    "while i < len(lines):\n",
    "    update = list(map(int, lines[i].split(',')))\n",
    "    updates.append(update)\n",
    "    i += 1\n",
    "\n",
    "total = 0\n",
    "for update in updates:\n",
    "    valid = True\n",
    "    index = {page: idx for idx, page in enumerate(update)}\n",
    "    for x, y in rules:\n",
    "        if x in index and y in index and index[x] >= index[y]:\n",
    "            valid = False\n",
    "            break\n",
    "    if not valid:\n",
    "        # Build graph\n",
    "        graph = defaultdict(list)\n",
    "        indegree = defaultdict(int)\n",
    "        pages = set(update)\n",
    "        for page in pages:\n",
    "            indegree[page] = 0  # Initialize indegree\n",
    "\n",
    "        for x, y in rules:\n",
    "            if x in pages and y in pages:\n",
    "                graph[x].append(y)\n",
    "                indegree[y] += 1\n",
    "\n",
    "        # Topological sort\n",
    "        queue = deque([node for node in pages if indegree[node] == 0])\n",
    "        sorted_pages = []\n",
    "        while queue:\n",
    "            node = queue.popleft()\n",
    "            sorted_pages.append(node)\n",
    "            for neighbor in graph[node]:\n",
    "                indegree[neighbor] -= 1\n",
    "                if indegree[neighbor] == 0:\n",
    "                    queue.append(neighbor)\n",
    "\n",
    "        # Check if all pages are sorted (no cycles)\n",
    "        if len(sorted_pages) < len(pages):\n",
    "            continue  # Skip if there is a cycle (should not happen based on problem description)\n",
    "\n",
    "        middle_page = sorted_pages[len(sorted_pages) // 2]\n",
    "        total += middle_page\n",
    "\n",
    "print(total)"
   ]
  }
 ],
 "metadata": {
  "kernelspec": {
   "display_name": "AdventOfCode",
   "language": "python",
   "name": "python3"
  },
  "language_info": {
   "codemirror_mode": {
    "name": "ipython",
    "version": 3
   },
   "file_extension": ".py",
   "mimetype": "text/x-python",
   "name": "python",
   "nbconvert_exporter": "python",
   "pygments_lexer": "ipython3",
   "version": "3.10.15"
  }
 },
 "nbformat": 4,
 "nbformat_minor": 2
}
