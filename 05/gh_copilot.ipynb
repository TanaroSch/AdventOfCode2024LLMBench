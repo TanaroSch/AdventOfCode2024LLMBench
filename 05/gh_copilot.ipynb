{
 "cells": [
  {
   "cell_type": "markdown",
   "metadata": {},
   "source": [
    "# Day 5 - GH Copilot"
   ]
  },
  {
   "cell_type": "code",
   "execution_count": 3,
   "metadata": {},
   "outputs": [
    {
     "name": "stdout",
     "output_type": "stream",
     "text": [
      "4996\n"
     ]
    }
   ],
   "source": [
    "def parse_input(file_path):\n",
    "    with open(file_path, 'r') as file:\n",
    "        lines = file.read().strip().split('\\n')\n",
    "    \n",
    "    rules = []\n",
    "    updates = []\n",
    "    \n",
    "    for line in lines:\n",
    "        if '|' in line:\n",
    "            rules.append(tuple(map(int, line.split('|'))))\n",
    "        elif ',' in line:\n",
    "            updates.append(list(map(int, line.split(','))))\n",
    "    \n",
    "    return rules, updates\n",
    "\n",
    "def is_update_correct(rules, update):\n",
    "    index_map = {page: idx for idx, page in enumerate(update)}\n",
    "    \n",
    "    for x, y in rules:\n",
    "        if x in index_map and y in index_map:\n",
    "            if index_map[x] > index_map[y]:\n",
    "                return False\n",
    "    return True\n",
    "\n",
    "def find_middle_page(update):\n",
    "    return update[len(update) // 2]\n",
    "\n",
    "def main():\n",
    "    rules, updates = parse_input('input.txt')\n",
    "    total_middle_sum = 0\n",
    "    \n",
    "    for update in updates:\n",
    "        if is_update_correct(rules, update):\n",
    "            total_middle_sum += find_middle_page(update)\n",
    "    \n",
    "    print(total_middle_sum)\n",
    "\n",
    "if __name__ == \"__main__\":\n",
    "    main()"
   ]
  },
  {
   "cell_type": "markdown",
   "metadata": {},
   "source": [
    "## Part 2"
   ]
  },
  {
   "cell_type": "code",
   "execution_count": 4,
   "metadata": {},
   "outputs": [
    {
     "name": "stdout",
     "output_type": "stream",
     "text": [
      "6311\n"
     ]
    }
   ],
   "source": [
    "from collections import defaultdict, deque\n",
    "\n",
    "def parse_input(file_path):\n",
    "    with open(file_path, 'r') as file:\n",
    "        lines = file.read().strip().split('\\n')\n",
    "    \n",
    "    rules = []\n",
    "    updates = []\n",
    "    \n",
    "    for line in lines:\n",
    "        if '|' in line:\n",
    "            rules.append(tuple(map(int, line.split('|'))))\n",
    "        elif ',' in line:\n",
    "            updates.append(list(map(int, line.split(','))))\n",
    "    \n",
    "    return rules, updates\n",
    "\n",
    "def is_update_correct(rules, update):\n",
    "    index_map = {page: idx for idx, page in enumerate(update)}\n",
    "    \n",
    "    for x, y in rules:\n",
    "        if x in index_map and y in index_map:\n",
    "            if index_map[x] > index_map[y]:\n",
    "                return False\n",
    "    return True\n",
    "\n",
    "def find_middle_page(update):\n",
    "    return update[len(update) // 2]\n",
    "\n",
    "def topological_sort(rules, update):\n",
    "    graph = defaultdict(list)\n",
    "    in_degree = defaultdict(int)\n",
    "    \n",
    "    for x, y in rules:\n",
    "        if x in update and y in update:\n",
    "            graph[x].append(y)\n",
    "            in_degree[y] += 1\n",
    "            if x not in in_degree:\n",
    "                in_degree[x] = 0\n",
    "    \n",
    "    queue = deque([node for node in update if in_degree[node] == 0])\n",
    "    sorted_update = []\n",
    "    \n",
    "    while queue:\n",
    "        node = queue.popleft()\n",
    "        sorted_update.append(node)\n",
    "        for neighbor in graph[node]:\n",
    "            in_degree[neighbor] -= 1\n",
    "            if in_degree[neighbor] == 0:\n",
    "                queue.append(neighbor)\n",
    "    \n",
    "    return sorted_update\n",
    "\n",
    "def main():\n",
    "    rules, updates = parse_input('input.txt')\n",
    "    total_middle_sum = 0\n",
    "    \n",
    "    for update in updates:\n",
    "        if not is_update_correct(rules, update):\n",
    "            sorted_update = topological_sort(rules, update)\n",
    "            total_middle_sum += find_middle_page(sorted_update)\n",
    "    \n",
    "    print(total_middle_sum)\n",
    "\n",
    "if __name__ == \"__main__\":\n",
    "    main()"
   ]
  }
 ],
 "metadata": {
  "kernelspec": {
   "display_name": "Python 3",
   "language": "python",
   "name": "python3"
  },
  "language_info": {
   "codemirror_mode": {
    "name": "ipython",
    "version": 3
   },
   "file_extension": ".py",
   "mimetype": "text/x-python",
   "name": "python",
   "nbconvert_exporter": "python",
   "pygments_lexer": "ipython3",
   "version": "3.11.6"
  }
 },
 "nbformat": 4,
 "nbformat_minor": 2
}
